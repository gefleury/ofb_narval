{
 "cells": [
  {
   "cell_type": "markdown",
   "metadata": {},
   "source": [
    "# Run the cleaning step only\n",
    "This notebook :  \n",
    "- takes as input files all detailed answers stored in `data/output/benchmark_{input_num}/answers`\n",
    "- clean the answers\n",
    "- save the clean answers in `data/output/benchmark_{output_num}/answers`\n",
    "\n",
    "This notebook is useful when a modification has been made in the cleaning steps of the pipeline but there is no need to re-run the full lengthy pipeline calling the LLM."
   ]
  },
  {
   "cell_type": "code",
   "execution_count": 9,
   "metadata": {},
   "outputs": [
    {
     "name": "stdout",
     "output_type": "stream",
     "text": [
      "The autoreload extension is already loaded. To reload it, use:\n",
      "  %reload_ext autoreload\n"
     ]
    }
   ],
   "source": [
    "import sys\n",
    "import os\n",
    "\n",
    "sys.path.append(\"../\")    # Add the path to the root directory (where we can find the folder .git)\n",
    "\n",
    "%load_ext autoreload\n",
    "%autoreload 2 \n",
    "\n",
    "\n",
    "from time import time\n",
    "from narval.pipeline import Pipeline\n",
    "from narval.utils import FileSystem, get_data_dir"
   ]
  },
  {
   "cell_type": "markdown",
   "metadata": {},
   "source": [
    "### Define the input parameters"
   ]
  },
  {
   "cell_type": "code",
   "execution_count": 10,
   "metadata": {},
   "outputs": [],
   "source": [
    "# Use benchmark_version variables to fix the folder name eg \"data/output/benchmark_*/answers/\"\n",
    "input_benchmark_version = \"benchmark_30\"  # Fix the name of the folder where raw detailed answers are stored\n",
    "output_benchmark_version = \"benchmark_31\" # Fix the name of the folder where output clean answers will be saved \n",
    "# Choose the indicator file used in the cleaning step\n",
    "indicator_file = \"indicateurs_v5.csv\"\n",
    "# Choose whether or not hallucinations must be removed\n",
    "remove_hallucinations = True"
   ]
  },
  {
   "cell_type": "markdown",
   "metadata": {},
   "source": [
    "### Instantiate the pipeline"
   ]
  },
  {
   "cell_type": "code",
   "execution_count": 11,
   "metadata": {},
   "outputs": [],
   "source": [
    "pipeline = Pipeline(\n",
    "    benchmark_version=output_benchmark_version,\n",
    "    indicator_file=indicator_file,\n",
    ")"
   ]
  },
  {
   "cell_type": "markdown",
   "metadata": {},
   "source": [
    "### Run only the cleaning step "
   ]
  },
  {
   "cell_type": "code",
   "execution_count": 12,
   "metadata": {},
   "outputs": [
    {
     "name": "stdout",
     "output_type": "stream",
     "text": [
      "Answers are saved in data/output/benchmark_31/answers/RAD_Cabasse_AC_2022_answers.csv\n",
      "The answer 'En consultant l'extrait 4.2,' could not be cleaned and has been ignored\n",
      "Answers are saved in data/output/benchmark_31/answers/RPQS_Abainville_AC_2021_answers.csv\n",
      "Answers are saved in data/output/benchmark_31/answers/RPQS_Ahun_cp23150_rpqsid_674494_AC_2021_answers.csv\n",
      "Answers are saved in data/output/benchmark_31/answers/RPQS_Allain_AC_2021_answers.csv\n",
      "Answers are saved in data/output/benchmark_31/answers/RPQS_Alloue_AC_2021_answers.csv\n",
      "Answers are saved in data/output/benchmark_31/answers/RPQS_Amagne_cp08300_rpqsid_651153_AC_2022_answers.csv\n",
      "Answers are saved in data/output/benchmark_31/answers/RPQS_Artaix_cp71110_rpqsid_303861_AC_2019_answers.csv\n",
      "Answers are saved in data/output/benchmark_31/answers/RPQS_Aubignosc_AC_2021_answers.csv\n",
      "Answers are saved in data/output/benchmark_31/answers/RPQS_Autun_AC_2021_answers.csv\n",
      "Answers are saved in data/output/benchmark_31/answers/RPQS_Brillac_AC_2021_answers.csv\n",
      "Answers are saved in data/output/benchmark_31/answers/RPQS_Cartelegue_cp33390_rpqsid_787673_AC_2023_answers.csv\n",
      "Answers are saved in data/output/benchmark_31/answers/RPQS_Chalautre-la-Petite_cp77160_rpqsid_794713_AC_2019_answers.csv\n",
      "Answers are saved in data/output/benchmark_31/answers/RPQS_Chantrigne_cp53300_rpqsid_739213_AC_2021_answers.csv\n",
      "Answers are saved in data/output/benchmark_31/answers/RPQS_Charchigne_cp53250_rpqsid_778433_AC_2022_answers.csv\n",
      "Answers are saved in data/output/benchmark_31/answers/RPQS_Corbel_cp73160_rpqsid_728273_AC_2022_answers.csv\n",
      "Answers are saved in data/output/benchmark_31/answers/RPQS_Cussy-les-Forges_cp89420_rpqsid_727813_AC_2021_answers.csv\n",
      "Answers are saved in data/output/benchmark_31/answers/RPQS_Durstel_AC_2021_answers.csv\n",
      "Answers are saved in data/output/benchmark_31/answers/RPQS_Estezargues_cp30390_rpqsid_613034_AC_2021_answers.csv\n",
      "Answers are saved in data/output/benchmark_31/answers/RPQS_Genouilly_AC_2021_answers.csv\n",
      "Answers are saved in data/output/benchmark_31/answers/RPQS_Gonfaron_cp83590_rpqsid_708655_AC_2018_answers.csv\n",
      "Answers are saved in data/output/benchmark_31/answers/RPQS_Grolejac_AC_2021_answers.csv\n",
      "Answers are saved in data/output/benchmark_31/answers/RPQS_Illats_AC_2021_answers.csv\n",
      "Answers are saved in data/output/benchmark_31/answers/RPQS_Jons_AC_2022_answers.csv\n",
      "Answers are saved in data/output/benchmark_31/answers/RPQS_Junas_AC_2021_answers.csv\n",
      "Answers are saved in data/output/benchmark_31/answers/RPQS_LaCorneEnVexin_AC_2021_answers.csv\n",
      "Answers are saved in data/output/benchmark_31/answers/RPQS_LaSalvetat-Peyrales_cp12440_rpqsid_842574_AC_2022_answers.csv\n",
      "Answers are saved in data/output/benchmark_31/answers/RPQS_LeTeil_AC_2018_answers.csv\n",
      "Answers are saved in data/output/benchmark_31/answers/RPQS_Marcille-Raoul_cp35560_rpqsid_797853_AC_2022_answers.csv\n",
      "Answers are saved in data/output/benchmark_31/answers/RPQS_Marthon_AC_2021_answers.csv\n",
      "Answers are saved in data/output/benchmark_31/answers/RPQS_Merlevenez_cp56700_rpqsid_818973_AC_2021_answers.csv\n",
      "Answers are saved in data/output/benchmark_31/answers/RPQS_Mionnay_cp01390_rpqsid_602693_AC_2022_answers.csv\n",
      "Answers are saved in data/output/benchmark_31/answers/RPQS_Montreal_cp89420_rpqsid_728013_AC_2022_answers.csv\n",
      "Answers are saved in data/output/benchmark_31/answers/RPQS_Nanteuil-le-Haudouin_cp60440_rpqsid_476115_AC_2020_answers.csv\n",
      "Answers are saved in data/output/benchmark_31/answers/RPQS_Neulise_cp42590_rpqsid_457993_AC_2019_answers.csv\n",
      "Answers are saved in data/output/benchmark_31/answers/RPQS_Reugny_cp37380_rpqsid_747173_AC_2022_answers.csv\n",
      "Answers are saved in data/output/benchmark_31/answers/RPQS_Reyssouze_cp01190_rpqsid_732773_AC_2022_answers.csv\n",
      "Answers are saved in data/output/benchmark_31/answers/RPQS_Rully_AC_2021_answers.csv\n",
      "Answers are saved in data/output/benchmark_31/answers/RPQS_Saint-Laurent-les-Tours_cp46400_rpqsid_679393_AC_2021_answers.csv\n",
      "Answers are saved in data/output/benchmark_31/answers/RPQS_Saint-Mihiel_cp55300_rpqsid_446333_AC_2020_answers.csv\n",
      "Answers are saved in data/output/benchmark_31/answers/RPQS_Saint-Trivier-sur-Moignans_cp01990_rpqsid_617113_AC_2022_answers.csv\n",
      "Answers are saved in data/output/benchmark_31/answers/RPQS_Sartrouville_cp78500_rpqsid_380721_AC_2019_answers.csv\n",
      "Answers are saved in data/output/benchmark_31/answers/RPQS_Tournissan_cp11220_rpqsid_822636_AC_2022_answers.csv\n",
      "Answers are saved in data/output/benchmark_31/answers/RPQS_Treverien_cp35190_rpqsid_761054_AC_2023_answers.csv\n",
      "Answers are saved in data/output/benchmark_31/answers/RPQS_Trie-Chateau_cp60590_rpqsid_560253_AC_2021_answers.csv\n",
      "Answers are saved in data/output/benchmark_31/answers/RPQS_Verneuil-en-Halatte_cp60550_rpqsid_389261_AC_2019_answers.csv\n"
     ]
    }
   ],
   "source": [
    "# Get the list of detailed_answers files to be cleaned\n",
    "data_dir = get_data_dir()\n",
    "directory = data_dir + \"/data/output/\" + input_benchmark_version + \"/answers/\"\n",
    "file_list = [file for file in os.listdir(directory) if file.endswith(\"_detailed_answers.csv\")]\n",
    "\n",
    "# Loop on files\n",
    "for file in file_list:   \n",
    "    pdf_name = \"_\".join(file.split(\".\")[0].split(\"_\")[:-2])\n",
    "    pdf_file = pdf_name + \".pdf\"\n",
    "    year = pdf_name.split(\"_\")[-1]\n",
    "    competence = pdf_name.split(\"_\")[-2]\n",
    "    if competence==\"AC\":\n",
    "        competence = \"assainissement collectif\"\n",
    "    else:\n",
    "        raise ValueError(f\"{competence} cannot be recognized as a competence\")\n",
    "\n",
    "    # Executes the cleaning pipeline\n",
    "    pipeline.run_cleaning_step(\n",
    "        input_benchmark_version,\n",
    "        pdf_file=pdf_file,\n",
    "        competence=competence,\n",
    "        year=year,\n",
    "        remove_hallucinations=remove_hallucinations\n",
    "    )\n"
   ]
  },
  {
   "cell_type": "code",
   "execution_count": null,
   "metadata": {},
   "outputs": [],
   "source": []
  }
 ],
 "metadata": {
  "kernelspec": {
   "display_name": ".venv",
   "language": "python",
   "name": "python3"
  },
  "language_info": {
   "codemirror_mode": {
    "name": "ipython",
    "version": 3
   },
   "file_extension": ".py",
   "mimetype": "text/x-python",
   "name": "python",
   "nbconvert_exporter": "python",
   "pygments_lexer": "ipython3",
   "version": "3.12.4"
  }
 },
 "nbformat": 4,
 "nbformat_minor": 2
}
