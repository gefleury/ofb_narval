{
 "cells": [
  {
   "cell_type": "markdown",
   "metadata": {},
   "source": [
    "# Notebook to plot metrics \n",
    "\n",
    "To plot :\n",
    "- metrics per pdf from `data/output/all_metrics_per_pdf.csv`\n",
    "- metrics per indicator from `data/output/all_metrics_per_indic.csv`   \n",
    "\n",
    "and compute the average metrics.  \n",
    "\n",
    "The different metrics under study are :\n",
    "- the accuracy \n",
    "- the precision\n",
    "- the recall\n",
    "- the number of true positives (TP)   \n",
    "    A pred value is counted as a TP when it is a number equal to the true value\n",
    "- the number of true negatives (TN) \n",
    "    A pred value is counted as a TN when it is np.nan (ie \"je ne trouve pas\") and the true value is also np.nan (ie no answer in the pdf)\n",
    "- the number of false positives of kind 1 (FP1) \n",
    "    A pred value is counted as a FP1 when it is a number while the true value is np.nan (ie no answer in the pdf)\n",
    "- the number of false positives of kind 2 (FP2) \n",
    "    A pred value is counted as a FP2 when it is a number while the true value is another number\n",
    "- the number of false negatives (FN) \n",
    "    A pred value is counted as a FN when it is np.nan (ie \"je ne trouve pas\") while the true value is a number\n",
    "\n",
    "All metrics can be calculated in principle with respect to \"true\" PDF values or SISPEA values (if SISPEA values are available).  \n",
    "It turns out that true SISPEA values differ significantly from true PDF values, hence it is not relevant to use SISPEA values as the true reference for computing metrics."
   ]
  },
  {
   "cell_type": "markdown",
   "metadata": {},
   "source": [
    "### Import modules"
   ]
  },
  {
   "cell_type": "code",
   "execution_count": 1,
   "metadata": {},
   "outputs": [
    {
     "name": "stderr",
     "output_type": "stream",
     "text": [
      "/home/gefleury/GitHub/narval/.venv/lib/python3.12/site-packages/numpy/_core/getlimits.py:548: UserWarning: Signature b'\\x00\\xd0\\xcc\\xcc\\xcc\\xcc\\xcc\\xcc\\xfb\\xbf\\x00\\x00\\x00\\x00\\x00\\x00' for <class 'numpy.longdouble'> does not match any known type: falling back to type probe function.\n",
      "This warnings indicates broken support for the dtype!\n",
      "  machar = _get_machar(dtype)\n"
     ]
    }
   ],
   "source": [
    "import pandas as pd\n",
    "import plotly.express as px\n",
    "import sys\n",
    "sys.path.append(\"../\")    # Add the path to the root directory (where we can find the folder narval/)\n",
    "\n",
    "%load_ext autoreload\n",
    "%autoreload 2 \n",
    "\n",
    "from narval.utils import get_data_dir, FileSystem\n",
    "from narval.metrics import MetricsCalculator"
   ]
  },
  {
   "cell_type": "code",
   "execution_count": 2,
   "metadata": {},
   "outputs": [],
   "source": [
    "fs = FileSystem()\n",
    "dir = get_data_dir()"
   ]
  },
  {
   "cell_type": "markdown",
   "metadata": {},
   "source": [
    "### Import the metrics calculator"
   ]
  },
  {
   "cell_type": "code",
   "execution_count": 3,
   "metadata": {},
   "outputs": [],
   "source": [
    "metrics_calc = MetricsCalculator()"
   ]
  },
  {
   "cell_type": "markdown",
   "metadata": {},
   "source": [
    "### Compute average metrics"
   ]
  },
  {
   "cell_type": "code",
   "execution_count": 4,
   "metadata": {},
   "outputs": [
    {
     "name": "stdout",
     "output_type": "stream",
     "text": [
      "Warning!!! Null values are ignored when computing the mean accuracy.\n"
     ]
    },
    {
     "data": {
      "text/html": [
       "<div>\n",
       "<style scoped>\n",
       "    .dataframe tbody tr th:only-of-type {\n",
       "        vertical-align: middle;\n",
       "    }\n",
       "\n",
       "    .dataframe tbody tr th {\n",
       "        vertical-align: top;\n",
       "    }\n",
       "\n",
       "    .dataframe thead th {\n",
       "        text-align: right;\n",
       "    }\n",
       "</style>\n",
       "<table border=\"1\" class=\"dataframe\">\n",
       "  <thead>\n",
       "    <tr style=\"text-align: right;\">\n",
       "      <th></th>\n",
       "      <th>benchmark_version</th>\n",
       "      <th>pdf_list_file</th>\n",
       "      <th>no_value_indic_rate_in_pdf</th>\n",
       "      <th>avg_accuracy_vs_pdf</th>\n",
       "      <th>avg_precision_vs_pdf</th>\n",
       "      <th>avg_recall_vs_pdf</th>\n",
       "      <th>tp_rate_vs_pdf</th>\n",
       "      <th>tn_rate_vs_pdf</th>\n",
       "      <th>fp1_rate_vs_pdf</th>\n",
       "      <th>fp2_rate_vs_pdf</th>\n",
       "      <th>fn_rate_vs_pdf</th>\n",
       "    </tr>\n",
       "  </thead>\n",
       "  <tbody>\n",
       "    <tr>\n",
       "      <th>35</th>\n",
       "      <td>benchmark_4</td>\n",
       "      <td>rpqs_eval_list_1.csv</td>\n",
       "      <td>0.382456</td>\n",
       "      <td>0.414035</td>\n",
       "      <td>0.315271</td>\n",
       "      <td>0.363636</td>\n",
       "      <td>0.224561</td>\n",
       "      <td>0.189474</td>\n",
       "      <td>0.192982</td>\n",
       "      <td>0.294737</td>\n",
       "      <td>0.098246</td>\n",
       "    </tr>\n",
       "    <tr>\n",
       "      <th>36</th>\n",
       "      <td>benchmark_5</td>\n",
       "      <td>rpqs_eval_list_1.csv</td>\n",
       "      <td>0.382456</td>\n",
       "      <td>0.768421</td>\n",
       "      <td>0.786982</td>\n",
       "      <td>0.755682</td>\n",
       "      <td>0.466667</td>\n",
       "      <td>0.301754</td>\n",
       "      <td>0.080702</td>\n",
       "      <td>0.045614</td>\n",
       "      <td>0.105263</td>\n",
       "    </tr>\n",
       "    <tr>\n",
       "      <th>37</th>\n",
       "      <td>benchmark_6</td>\n",
       "      <td>rpqs_eval_list_1.csv</td>\n",
       "      <td>0.382456</td>\n",
       "      <td>0.824561</td>\n",
       "      <td>0.813187</td>\n",
       "      <td>0.840909</td>\n",
       "      <td>0.519298</td>\n",
       "      <td>0.305263</td>\n",
       "      <td>0.077193</td>\n",
       "      <td>0.042105</td>\n",
       "      <td>0.056140</td>\n",
       "    </tr>\n",
       "    <tr>\n",
       "      <th>38</th>\n",
       "      <td>benchmark_7</td>\n",
       "      <td>rpqs_eval_list_1.csv</td>\n",
       "      <td>0.382456</td>\n",
       "      <td>0.775439</td>\n",
       "      <td>0.736842</td>\n",
       "      <td>0.875000</td>\n",
       "      <td>0.540351</td>\n",
       "      <td>0.235088</td>\n",
       "      <td>0.147368</td>\n",
       "      <td>0.045614</td>\n",
       "      <td>0.031579</td>\n",
       "    </tr>\n",
       "    <tr>\n",
       "      <th>39</th>\n",
       "      <td>benchmark_8</td>\n",
       "      <td>rpqs_eval_list_1.csv</td>\n",
       "      <td>0.382456</td>\n",
       "      <td>0.757895</td>\n",
       "      <td>0.716981</td>\n",
       "      <td>0.863636</td>\n",
       "      <td>0.533333</td>\n",
       "      <td>0.224561</td>\n",
       "      <td>0.157895</td>\n",
       "      <td>0.052632</td>\n",
       "      <td>0.031579</td>\n",
       "    </tr>\n",
       "    <tr>\n",
       "      <th>40</th>\n",
       "      <td>benchmark_9</td>\n",
       "      <td>rpqs_eval_list_1.csv</td>\n",
       "      <td>0.382456</td>\n",
       "      <td>0.814035</td>\n",
       "      <td>0.780000</td>\n",
       "      <td>0.886364</td>\n",
       "      <td>0.547368</td>\n",
       "      <td>0.266667</td>\n",
       "      <td>0.115789</td>\n",
       "      <td>0.038596</td>\n",
       "      <td>0.031579</td>\n",
       "    </tr>\n",
       "    <tr>\n",
       "      <th>0</th>\n",
       "      <td>benchmark_10</td>\n",
       "      <td>rpqs_eval_list_1.csv</td>\n",
       "      <td>0.382456</td>\n",
       "      <td>0.856140</td>\n",
       "      <td>0.841530</td>\n",
       "      <td>0.875000</td>\n",
       "      <td>0.540351</td>\n",
       "      <td>0.315789</td>\n",
       "      <td>0.066667</td>\n",
       "      <td>0.035088</td>\n",
       "      <td>0.042105</td>\n",
       "    </tr>\n",
       "    <tr>\n",
       "      <th>1</th>\n",
       "      <td>benchmark_11</td>\n",
       "      <td>rpqs_eval_list_1.csv</td>\n",
       "      <td>0.382456</td>\n",
       "      <td>0.835088</td>\n",
       "      <td>0.834254</td>\n",
       "      <td>0.857955</td>\n",
       "      <td>0.529825</td>\n",
       "      <td>0.305263</td>\n",
       "      <td>0.077193</td>\n",
       "      <td>0.028070</td>\n",
       "      <td>0.059649</td>\n",
       "    </tr>\n",
       "    <tr>\n",
       "      <th>2</th>\n",
       "      <td>benchmark_12</td>\n",
       "      <td>rpqs_eval_list_1.csv</td>\n",
       "      <td>0.382456</td>\n",
       "      <td>0.831579</td>\n",
       "      <td>0.818681</td>\n",
       "      <td>0.846591</td>\n",
       "      <td>0.522807</td>\n",
       "      <td>0.308772</td>\n",
       "      <td>0.073684</td>\n",
       "      <td>0.042105</td>\n",
       "      <td>0.052632</td>\n",
       "    </tr>\n",
       "    <tr>\n",
       "      <th>3</th>\n",
       "      <td>benchmark_13</td>\n",
       "      <td>rpqs_eval_list_1.csv</td>\n",
       "      <td>0.382456</td>\n",
       "      <td>0.810526</td>\n",
       "      <td>0.769608</td>\n",
       "      <td>0.892045</td>\n",
       "      <td>0.550877</td>\n",
       "      <td>0.259649</td>\n",
       "      <td>0.122807</td>\n",
       "      <td>0.042105</td>\n",
       "      <td>0.024561</td>\n",
       "    </tr>\n",
       "    <tr>\n",
       "      <th>4</th>\n",
       "      <td>benchmark_14</td>\n",
       "      <td>rpqs_eval_list_1.csv</td>\n",
       "      <td>0.382456</td>\n",
       "      <td>0.856140</td>\n",
       "      <td>0.824742</td>\n",
       "      <td>0.909091</td>\n",
       "      <td>0.561404</td>\n",
       "      <td>0.294737</td>\n",
       "      <td>0.087719</td>\n",
       "      <td>0.031579</td>\n",
       "      <td>0.024561</td>\n",
       "    </tr>\n",
       "    <tr>\n",
       "      <th>5</th>\n",
       "      <td>benchmark_15</td>\n",
       "      <td>rpqs_eval_list_1.csv</td>\n",
       "      <td>0.382456</td>\n",
       "      <td>0.863158</td>\n",
       "      <td>0.830769</td>\n",
       "      <td>0.920455</td>\n",
       "      <td>0.568421</td>\n",
       "      <td>0.294737</td>\n",
       "      <td>0.087719</td>\n",
       "      <td>0.028070</td>\n",
       "      <td>0.021053</td>\n",
       "    </tr>\n",
       "    <tr>\n",
       "      <th>6</th>\n",
       "      <td>benchmark_16</td>\n",
       "      <td>rpqs_eval_list_1.csv</td>\n",
       "      <td>0.382456</td>\n",
       "      <td>0.870175</td>\n",
       "      <td>0.840206</td>\n",
       "      <td>0.926136</td>\n",
       "      <td>0.571930</td>\n",
       "      <td>0.298246</td>\n",
       "      <td>0.084211</td>\n",
       "      <td>0.024561</td>\n",
       "      <td>0.021053</td>\n",
       "    </tr>\n",
       "    <tr>\n",
       "      <th>7</th>\n",
       "      <td>benchmark_17</td>\n",
       "      <td>rpqs_eval_list_1.csv</td>\n",
       "      <td>0.382456</td>\n",
       "      <td>0.870175</td>\n",
       "      <td>0.840206</td>\n",
       "      <td>0.926136</td>\n",
       "      <td>0.571930</td>\n",
       "      <td>0.298246</td>\n",
       "      <td>0.084211</td>\n",
       "      <td>0.024561</td>\n",
       "      <td>0.021053</td>\n",
       "    </tr>\n",
       "    <tr>\n",
       "      <th>8</th>\n",
       "      <td>benchmark_18</td>\n",
       "      <td>rpqs_eval_list_1.csv</td>\n",
       "      <td>0.382456</td>\n",
       "      <td>0.838596</td>\n",
       "      <td>0.849711</td>\n",
       "      <td>0.835227</td>\n",
       "      <td>0.515789</td>\n",
       "      <td>0.322807</td>\n",
       "      <td>0.059649</td>\n",
       "      <td>0.031579</td>\n",
       "      <td>0.070175</td>\n",
       "    </tr>\n",
       "    <tr>\n",
       "      <th>9</th>\n",
       "      <td>benchmark_19</td>\n",
       "      <td>rpqs_eval_list_1.csv</td>\n",
       "      <td>0.382456</td>\n",
       "      <td>0.814035</td>\n",
       "      <td>0.883117</td>\n",
       "      <td>0.772727</td>\n",
       "      <td>0.477193</td>\n",
       "      <td>0.336842</td>\n",
       "      <td>0.045614</td>\n",
       "      <td>0.017544</td>\n",
       "      <td>0.122807</td>\n",
       "    </tr>\n",
       "    <tr>\n",
       "      <th>10</th>\n",
       "      <td>benchmark_20</td>\n",
       "      <td>rpqs_eval_list_1.csv</td>\n",
       "      <td>0.382456</td>\n",
       "      <td>0.873684</td>\n",
       "      <td>0.845361</td>\n",
       "      <td>0.931818</td>\n",
       "      <td>0.575439</td>\n",
       "      <td>0.298246</td>\n",
       "      <td>0.084211</td>\n",
       "      <td>0.021053</td>\n",
       "      <td>0.021053</td>\n",
       "    </tr>\n",
       "    <tr>\n",
       "      <th>11</th>\n",
       "      <td>benchmark_21</td>\n",
       "      <td>rpqs_eval_list_1.csv</td>\n",
       "      <td>0.382456</td>\n",
       "      <td>0.877193</td>\n",
       "      <td>0.868852</td>\n",
       "      <td>0.903409</td>\n",
       "      <td>0.557895</td>\n",
       "      <td>0.319298</td>\n",
       "      <td>0.063158</td>\n",
       "      <td>0.021053</td>\n",
       "      <td>0.038596</td>\n",
       "    </tr>\n",
       "    <tr>\n",
       "      <th>12</th>\n",
       "      <td>benchmark_22</td>\n",
       "      <td>rpqs_eval_list_1.csv</td>\n",
       "      <td>0.382456</td>\n",
       "      <td>0.905263</td>\n",
       "      <td>0.912791</td>\n",
       "      <td>0.892045</td>\n",
       "      <td>0.550877</td>\n",
       "      <td>0.354386</td>\n",
       "      <td>0.028070</td>\n",
       "      <td>0.024561</td>\n",
       "      <td>0.042105</td>\n",
       "    </tr>\n",
       "    <tr>\n",
       "      <th>13</th>\n",
       "      <td>benchmark_23</td>\n",
       "      <td>rpqs_eval_list_1.csv</td>\n",
       "      <td>0.382456</td>\n",
       "      <td>0.905263</td>\n",
       "      <td>0.938650</td>\n",
       "      <td>0.869318</td>\n",
       "      <td>0.536842</td>\n",
       "      <td>0.368421</td>\n",
       "      <td>0.014035</td>\n",
       "      <td>0.021053</td>\n",
       "      <td>0.059649</td>\n",
       "    </tr>\n",
       "    <tr>\n",
       "      <th>14</th>\n",
       "      <td>benchmark_24</td>\n",
       "      <td>rpqs_eval_list_1.csv</td>\n",
       "      <td>0.382456</td>\n",
       "      <td>0.898246</td>\n",
       "      <td>0.875676</td>\n",
       "      <td>0.920455</td>\n",
       "      <td>0.568421</td>\n",
       "      <td>0.329825</td>\n",
       "      <td>0.052632</td>\n",
       "      <td>0.028070</td>\n",
       "      <td>0.021053</td>\n",
       "    </tr>\n",
       "    <tr>\n",
       "      <th>15</th>\n",
       "      <td>benchmark_25</td>\n",
       "      <td>rpqs_eval_list_1.csv</td>\n",
       "      <td>0.382456</td>\n",
       "      <td>0.901754</td>\n",
       "      <td>0.902299</td>\n",
       "      <td>0.892045</td>\n",
       "      <td>0.550877</td>\n",
       "      <td>0.350877</td>\n",
       "      <td>0.031579</td>\n",
       "      <td>0.028070</td>\n",
       "      <td>0.038596</td>\n",
       "    </tr>\n",
       "    <tr>\n",
       "      <th>16</th>\n",
       "      <td>benchmark_26</td>\n",
       "      <td>rpqs_eval_list_1.csv</td>\n",
       "      <td>0.382456</td>\n",
       "      <td>0.933333</td>\n",
       "      <td>0.931818</td>\n",
       "      <td>0.931818</td>\n",
       "      <td>0.575439</td>\n",
       "      <td>0.357895</td>\n",
       "      <td>0.024561</td>\n",
       "      <td>0.017544</td>\n",
       "      <td>0.024561</td>\n",
       "    </tr>\n",
       "    <tr>\n",
       "      <th>17</th>\n",
       "      <td>benchmark_27</td>\n",
       "      <td>rpqs_eval_list_1+2.csv</td>\n",
       "      <td>0.492398</td>\n",
       "      <td>0.860819</td>\n",
       "      <td>0.841346</td>\n",
       "      <td>0.806452</td>\n",
       "      <td>0.409357</td>\n",
       "      <td>0.451462</td>\n",
       "      <td>0.040936</td>\n",
       "      <td>0.036257</td>\n",
       "      <td>0.061988</td>\n",
       "    </tr>\n",
       "    <tr>\n",
       "      <th>18</th>\n",
       "      <td>benchmark_27</td>\n",
       "      <td>rpqs_eval_list_1.csv</td>\n",
       "      <td>0.382456</td>\n",
       "      <td>0.929825</td>\n",
       "      <td>0.952096</td>\n",
       "      <td>0.903409</td>\n",
       "      <td>0.557895</td>\n",
       "      <td>0.371930</td>\n",
       "      <td>0.010526</td>\n",
       "      <td>0.017544</td>\n",
       "      <td>0.042105</td>\n",
       "    </tr>\n",
       "    <tr>\n",
       "      <th>19</th>\n",
       "      <td>benchmark_27</td>\n",
       "      <td>rpqs_eval_list_2.csv</td>\n",
       "      <td>0.547368</td>\n",
       "      <td>0.826316</td>\n",
       "      <td>0.767068</td>\n",
       "      <td>0.740310</td>\n",
       "      <td>0.335088</td>\n",
       "      <td>0.491228</td>\n",
       "      <td>0.056140</td>\n",
       "      <td>0.045614</td>\n",
       "      <td>0.071930</td>\n",
       "    </tr>\n",
       "    <tr>\n",
       "      <th>42</th>\n",
       "      <td>benchmark_table_28</td>\n",
       "      <td>rpqs_eval_list_1.csv</td>\n",
       "      <td>0.382456</td>\n",
       "      <td>0.740351</td>\n",
       "      <td>1.000000</td>\n",
       "      <td>0.579545</td>\n",
       "      <td>0.357895</td>\n",
       "      <td>0.382456</td>\n",
       "      <td>0.000000</td>\n",
       "      <td>0.000000</td>\n",
       "      <td>0.259649</td>\n",
       "    </tr>\n",
       "    <tr>\n",
       "      <th>41</th>\n",
       "      <td>benchmark_table_28</td>\n",
       "      <td>rpqs_eval_list_1+2.csv</td>\n",
       "      <td>0.492398</td>\n",
       "      <td>0.730994</td>\n",
       "      <td>0.985507</td>\n",
       "      <td>0.470046</td>\n",
       "      <td>0.238596</td>\n",
       "      <td>0.492398</td>\n",
       "      <td>0.000000</td>\n",
       "      <td>0.003509</td>\n",
       "      <td>0.265497</td>\n",
       "    </tr>\n",
       "    <tr>\n",
       "      <th>20</th>\n",
       "      <td>benchmark_28</td>\n",
       "      <td>rpqs_eval_list_1+2.csv</td>\n",
       "      <td>0.492398</td>\n",
       "      <td>0.873684</td>\n",
       "      <td>0.867788</td>\n",
       "      <td>0.831797</td>\n",
       "      <td>0.422222</td>\n",
       "      <td>0.451462</td>\n",
       "      <td>0.040936</td>\n",
       "      <td>0.023392</td>\n",
       "      <td>0.061988</td>\n",
       "    </tr>\n",
       "    <tr>\n",
       "      <th>21</th>\n",
       "      <td>benchmark_28</td>\n",
       "      <td>rpqs_eval_list_1.csv</td>\n",
       "      <td>0.382456</td>\n",
       "      <td>0.940351</td>\n",
       "      <td>0.958580</td>\n",
       "      <td>0.920455</td>\n",
       "      <td>0.568421</td>\n",
       "      <td>0.371930</td>\n",
       "      <td>0.010526</td>\n",
       "      <td>0.014035</td>\n",
       "      <td>0.035088</td>\n",
       "    </tr>\n",
       "    <tr>\n",
       "      <th>22</th>\n",
       "      <td>benchmark_28</td>\n",
       "      <td>rpqs_eval_list_2.csv</td>\n",
       "      <td>0.547368</td>\n",
       "      <td>0.840351</td>\n",
       "      <td>0.805668</td>\n",
       "      <td>0.771318</td>\n",
       "      <td>0.349123</td>\n",
       "      <td>0.491228</td>\n",
       "      <td>0.056140</td>\n",
       "      <td>0.028070</td>\n",
       "      <td>0.075439</td>\n",
       "    </tr>\n",
       "    <tr>\n",
       "      <th>43</th>\n",
       "      <td>benchmark_table_28</td>\n",
       "      <td>rpqs_eval_list_2.csv</td>\n",
       "      <td>0.547368</td>\n",
       "      <td>0.726316</td>\n",
       "      <td>0.971429</td>\n",
       "      <td>0.395349</td>\n",
       "      <td>0.178947</td>\n",
       "      <td>0.547368</td>\n",
       "      <td>0.000000</td>\n",
       "      <td>0.005263</td>\n",
       "      <td>0.268421</td>\n",
       "    </tr>\n",
       "    <tr>\n",
       "      <th>23</th>\n",
       "      <td>benchmark_29</td>\n",
       "      <td>rpqs_eval_list_1+2.csv</td>\n",
       "      <td>0.492398</td>\n",
       "      <td>0.877193</td>\n",
       "      <td>0.868735</td>\n",
       "      <td>0.838710</td>\n",
       "      <td>0.425731</td>\n",
       "      <td>0.451462</td>\n",
       "      <td>0.040936</td>\n",
       "      <td>0.023392</td>\n",
       "      <td>0.058480</td>\n",
       "    </tr>\n",
       "    <tr>\n",
       "      <th>44</th>\n",
       "      <td>benchmark_table_29</td>\n",
       "      <td>rpqs_eval_list_1+2.csv</td>\n",
       "      <td>0.492398</td>\n",
       "      <td>0.734503</td>\n",
       "      <td>1.000000</td>\n",
       "      <td>0.476959</td>\n",
       "      <td>0.242105</td>\n",
       "      <td>0.492398</td>\n",
       "      <td>0.000000</td>\n",
       "      <td>0.000000</td>\n",
       "      <td>0.265497</td>\n",
       "    </tr>\n",
       "    <tr>\n",
       "      <th>46</th>\n",
       "      <td>benchmark_table_29</td>\n",
       "      <td>rpqs_eval_list_2.csv</td>\n",
       "      <td>0.547368</td>\n",
       "      <td>0.731579</td>\n",
       "      <td>1.000000</td>\n",
       "      <td>0.406977</td>\n",
       "      <td>0.184211</td>\n",
       "      <td>0.547368</td>\n",
       "      <td>0.000000</td>\n",
       "      <td>0.000000</td>\n",
       "      <td>0.268421</td>\n",
       "    </tr>\n",
       "    <tr>\n",
       "      <th>45</th>\n",
       "      <td>benchmark_table_29</td>\n",
       "      <td>rpqs_eval_list_1.csv</td>\n",
       "      <td>0.382456</td>\n",
       "      <td>0.740351</td>\n",
       "      <td>1.000000</td>\n",
       "      <td>0.579545</td>\n",
       "      <td>0.357895</td>\n",
       "      <td>0.382456</td>\n",
       "      <td>0.000000</td>\n",
       "      <td>0.000000</td>\n",
       "      <td>0.259649</td>\n",
       "    </tr>\n",
       "    <tr>\n",
       "      <th>25</th>\n",
       "      <td>benchmark_29</td>\n",
       "      <td>rpqs_eval_list_2.csv</td>\n",
       "      <td>0.547368</td>\n",
       "      <td>0.845614</td>\n",
       "      <td>0.808000</td>\n",
       "      <td>0.782946</td>\n",
       "      <td>0.354386</td>\n",
       "      <td>0.491228</td>\n",
       "      <td>0.056140</td>\n",
       "      <td>0.028070</td>\n",
       "      <td>0.070175</td>\n",
       "    </tr>\n",
       "    <tr>\n",
       "      <th>24</th>\n",
       "      <td>benchmark_29</td>\n",
       "      <td>rpqs_eval_list_1.csv</td>\n",
       "      <td>0.382456</td>\n",
       "      <td>0.940351</td>\n",
       "      <td>0.958580</td>\n",
       "      <td>0.920455</td>\n",
       "      <td>0.568421</td>\n",
       "      <td>0.371930</td>\n",
       "      <td>0.010526</td>\n",
       "      <td>0.014035</td>\n",
       "      <td>0.035088</td>\n",
       "    </tr>\n",
       "    <tr>\n",
       "      <th>27</th>\n",
       "      <td>benchmark_30</td>\n",
       "      <td>rpqs_eval_list_1.csv</td>\n",
       "      <td>0.382456</td>\n",
       "      <td>0.940351</td>\n",
       "      <td>0.958580</td>\n",
       "      <td>0.920455</td>\n",
       "      <td>0.568421</td>\n",
       "      <td>0.371930</td>\n",
       "      <td>0.010526</td>\n",
       "      <td>0.014035</td>\n",
       "      <td>0.035088</td>\n",
       "    </tr>\n",
       "    <tr>\n",
       "      <th>26</th>\n",
       "      <td>benchmark_30</td>\n",
       "      <td>rpqs_eval_list_1+2.csv</td>\n",
       "      <td>0.492398</td>\n",
       "      <td>0.884211</td>\n",
       "      <td>0.870588</td>\n",
       "      <td>0.852535</td>\n",
       "      <td>0.432749</td>\n",
       "      <td>0.451462</td>\n",
       "      <td>0.040936</td>\n",
       "      <td>0.023392</td>\n",
       "      <td>0.051462</td>\n",
       "    </tr>\n",
       "    <tr>\n",
       "      <th>28</th>\n",
       "      <td>benchmark_30</td>\n",
       "      <td>rpqs_eval_list_2.csv</td>\n",
       "      <td>0.547368</td>\n",
       "      <td>0.856140</td>\n",
       "      <td>0.812500</td>\n",
       "      <td>0.806202</td>\n",
       "      <td>0.364912</td>\n",
       "      <td>0.491228</td>\n",
       "      <td>0.056140</td>\n",
       "      <td>0.028070</td>\n",
       "      <td>0.059649</td>\n",
       "    </tr>\n",
       "    <tr>\n",
       "      <th>31</th>\n",
       "      <td>benchmark_31</td>\n",
       "      <td>rpqs_eval_list_2.csv</td>\n",
       "      <td>0.547368</td>\n",
       "      <td>0.857895</td>\n",
       "      <td>0.816406</td>\n",
       "      <td>0.810078</td>\n",
       "      <td>0.366667</td>\n",
       "      <td>0.491228</td>\n",
       "      <td>0.056140</td>\n",
       "      <td>0.026316</td>\n",
       "      <td>0.059649</td>\n",
       "    </tr>\n",
       "    <tr>\n",
       "      <th>29</th>\n",
       "      <td>benchmark_31</td>\n",
       "      <td>rpqs_eval_list_1+2.csv</td>\n",
       "      <td>0.492398</td>\n",
       "      <td>0.884211</td>\n",
       "      <td>0.872642</td>\n",
       "      <td>0.852535</td>\n",
       "      <td>0.432749</td>\n",
       "      <td>0.451462</td>\n",
       "      <td>0.040936</td>\n",
       "      <td>0.022222</td>\n",
       "      <td>0.052632</td>\n",
       "    </tr>\n",
       "    <tr>\n",
       "      <th>30</th>\n",
       "      <td>benchmark_31</td>\n",
       "      <td>rpqs_eval_list_1.csv</td>\n",
       "      <td>0.382456</td>\n",
       "      <td>0.936842</td>\n",
       "      <td>0.958333</td>\n",
       "      <td>0.914773</td>\n",
       "      <td>0.564912</td>\n",
       "      <td>0.371930</td>\n",
       "      <td>0.010526</td>\n",
       "      <td>0.014035</td>\n",
       "      <td>0.038596</td>\n",
       "    </tr>\n",
       "    <tr>\n",
       "      <th>33</th>\n",
       "      <td>benchmark_32</td>\n",
       "      <td>rpqs_eval_list_1.csv</td>\n",
       "      <td>0.382456</td>\n",
       "      <td>0.936842</td>\n",
       "      <td>0.958333</td>\n",
       "      <td>0.914773</td>\n",
       "      <td>0.564912</td>\n",
       "      <td>0.371930</td>\n",
       "      <td>0.010526</td>\n",
       "      <td>0.014035</td>\n",
       "      <td>0.038596</td>\n",
       "    </tr>\n",
       "    <tr>\n",
       "      <th>32</th>\n",
       "      <td>benchmark_32</td>\n",
       "      <td>rpqs_eval_list_1+2.csv</td>\n",
       "      <td>0.492398</td>\n",
       "      <td>0.899415</td>\n",
       "      <td>0.907731</td>\n",
       "      <td>0.838710</td>\n",
       "      <td>0.425731</td>\n",
       "      <td>0.473684</td>\n",
       "      <td>0.018713</td>\n",
       "      <td>0.024561</td>\n",
       "      <td>0.057310</td>\n",
       "    </tr>\n",
       "    <tr>\n",
       "      <th>34</th>\n",
       "      <td>benchmark_32</td>\n",
       "      <td>rpqs_eval_list_2.csv</td>\n",
       "      <td>0.547368</td>\n",
       "      <td>0.880702</td>\n",
       "      <td>0.871245</td>\n",
       "      <td>0.786822</td>\n",
       "      <td>0.356140</td>\n",
       "      <td>0.524561</td>\n",
       "      <td>0.022807</td>\n",
       "      <td>0.029825</td>\n",
       "      <td>0.066667</td>\n",
       "    </tr>\n",
       "    <tr>\n",
       "      <th>47</th>\n",
       "      <td>benchmark_table_32</td>\n",
       "      <td>rpqs_eval_list_1+2.csv</td>\n",
       "      <td>0.492398</td>\n",
       "      <td>0.734503</td>\n",
       "      <td>1.000000</td>\n",
       "      <td>0.476959</td>\n",
       "      <td>0.242105</td>\n",
       "      <td>0.492398</td>\n",
       "      <td>0.000000</td>\n",
       "      <td>0.000000</td>\n",
       "      <td>0.265497</td>\n",
       "    </tr>\n",
       "    <tr>\n",
       "      <th>48</th>\n",
       "      <td>benchmark_table_32</td>\n",
       "      <td>rpqs_eval_list_1.csv</td>\n",
       "      <td>0.382456</td>\n",
       "      <td>0.740351</td>\n",
       "      <td>1.000000</td>\n",
       "      <td>0.579545</td>\n",
       "      <td>0.357895</td>\n",
       "      <td>0.382456</td>\n",
       "      <td>0.000000</td>\n",
       "      <td>0.000000</td>\n",
       "      <td>0.259649</td>\n",
       "    </tr>\n",
       "    <tr>\n",
       "      <th>49</th>\n",
       "      <td>benchmark_table_32</td>\n",
       "      <td>rpqs_eval_list_2.csv</td>\n",
       "      <td>0.547368</td>\n",
       "      <td>0.731579</td>\n",
       "      <td>1.000000</td>\n",
       "      <td>0.406977</td>\n",
       "      <td>0.184211</td>\n",
       "      <td>0.547368</td>\n",
       "      <td>0.000000</td>\n",
       "      <td>0.000000</td>\n",
       "      <td>0.268421</td>\n",
       "    </tr>\n",
       "  </tbody>\n",
       "</table>\n",
       "</div>"
      ],
      "text/plain": [
       "     benchmark_version           pdf_list_file  no_value_indic_rate_in_pdf  \\\n",
       "35         benchmark_4    rpqs_eval_list_1.csv                    0.382456   \n",
       "36         benchmark_5    rpqs_eval_list_1.csv                    0.382456   \n",
       "37         benchmark_6    rpqs_eval_list_1.csv                    0.382456   \n",
       "38         benchmark_7    rpqs_eval_list_1.csv                    0.382456   \n",
       "39         benchmark_8    rpqs_eval_list_1.csv                    0.382456   \n",
       "40         benchmark_9    rpqs_eval_list_1.csv                    0.382456   \n",
       "0         benchmark_10    rpqs_eval_list_1.csv                    0.382456   \n",
       "1         benchmark_11    rpqs_eval_list_1.csv                    0.382456   \n",
       "2         benchmark_12    rpqs_eval_list_1.csv                    0.382456   \n",
       "3         benchmark_13    rpqs_eval_list_1.csv                    0.382456   \n",
       "4         benchmark_14    rpqs_eval_list_1.csv                    0.382456   \n",
       "5         benchmark_15    rpqs_eval_list_1.csv                    0.382456   \n",
       "6         benchmark_16    rpqs_eval_list_1.csv                    0.382456   \n",
       "7         benchmark_17    rpqs_eval_list_1.csv                    0.382456   \n",
       "8         benchmark_18    rpqs_eval_list_1.csv                    0.382456   \n",
       "9         benchmark_19    rpqs_eval_list_1.csv                    0.382456   \n",
       "10        benchmark_20    rpqs_eval_list_1.csv                    0.382456   \n",
       "11        benchmark_21    rpqs_eval_list_1.csv                    0.382456   \n",
       "12        benchmark_22    rpqs_eval_list_1.csv                    0.382456   \n",
       "13        benchmark_23    rpqs_eval_list_1.csv                    0.382456   \n",
       "14        benchmark_24    rpqs_eval_list_1.csv                    0.382456   \n",
       "15        benchmark_25    rpqs_eval_list_1.csv                    0.382456   \n",
       "16        benchmark_26    rpqs_eval_list_1.csv                    0.382456   \n",
       "17        benchmark_27  rpqs_eval_list_1+2.csv                    0.492398   \n",
       "18        benchmark_27    rpqs_eval_list_1.csv                    0.382456   \n",
       "19        benchmark_27    rpqs_eval_list_2.csv                    0.547368   \n",
       "42  benchmark_table_28    rpqs_eval_list_1.csv                    0.382456   \n",
       "41  benchmark_table_28  rpqs_eval_list_1+2.csv                    0.492398   \n",
       "20        benchmark_28  rpqs_eval_list_1+2.csv                    0.492398   \n",
       "21        benchmark_28    rpqs_eval_list_1.csv                    0.382456   \n",
       "22        benchmark_28    rpqs_eval_list_2.csv                    0.547368   \n",
       "43  benchmark_table_28    rpqs_eval_list_2.csv                    0.547368   \n",
       "23        benchmark_29  rpqs_eval_list_1+2.csv                    0.492398   \n",
       "44  benchmark_table_29  rpqs_eval_list_1+2.csv                    0.492398   \n",
       "46  benchmark_table_29    rpqs_eval_list_2.csv                    0.547368   \n",
       "45  benchmark_table_29    rpqs_eval_list_1.csv                    0.382456   \n",
       "25        benchmark_29    rpqs_eval_list_2.csv                    0.547368   \n",
       "24        benchmark_29    rpqs_eval_list_1.csv                    0.382456   \n",
       "27        benchmark_30    rpqs_eval_list_1.csv                    0.382456   \n",
       "26        benchmark_30  rpqs_eval_list_1+2.csv                    0.492398   \n",
       "28        benchmark_30    rpqs_eval_list_2.csv                    0.547368   \n",
       "31        benchmark_31    rpqs_eval_list_2.csv                    0.547368   \n",
       "29        benchmark_31  rpqs_eval_list_1+2.csv                    0.492398   \n",
       "30        benchmark_31    rpqs_eval_list_1.csv                    0.382456   \n",
       "33        benchmark_32    rpqs_eval_list_1.csv                    0.382456   \n",
       "32        benchmark_32  rpqs_eval_list_1+2.csv                    0.492398   \n",
       "34        benchmark_32    rpqs_eval_list_2.csv                    0.547368   \n",
       "47  benchmark_table_32  rpqs_eval_list_1+2.csv                    0.492398   \n",
       "48  benchmark_table_32    rpqs_eval_list_1.csv                    0.382456   \n",
       "49  benchmark_table_32    rpqs_eval_list_2.csv                    0.547368   \n",
       "\n",
       "    avg_accuracy_vs_pdf  avg_precision_vs_pdf  avg_recall_vs_pdf  \\\n",
       "35             0.414035              0.315271           0.363636   \n",
       "36             0.768421              0.786982           0.755682   \n",
       "37             0.824561              0.813187           0.840909   \n",
       "38             0.775439              0.736842           0.875000   \n",
       "39             0.757895              0.716981           0.863636   \n",
       "40             0.814035              0.780000           0.886364   \n",
       "0              0.856140              0.841530           0.875000   \n",
       "1              0.835088              0.834254           0.857955   \n",
       "2              0.831579              0.818681           0.846591   \n",
       "3              0.810526              0.769608           0.892045   \n",
       "4              0.856140              0.824742           0.909091   \n",
       "5              0.863158              0.830769           0.920455   \n",
       "6              0.870175              0.840206           0.926136   \n",
       "7              0.870175              0.840206           0.926136   \n",
       "8              0.838596              0.849711           0.835227   \n",
       "9              0.814035              0.883117           0.772727   \n",
       "10             0.873684              0.845361           0.931818   \n",
       "11             0.877193              0.868852           0.903409   \n",
       "12             0.905263              0.912791           0.892045   \n",
       "13             0.905263              0.938650           0.869318   \n",
       "14             0.898246              0.875676           0.920455   \n",
       "15             0.901754              0.902299           0.892045   \n",
       "16             0.933333              0.931818           0.931818   \n",
       "17             0.860819              0.841346           0.806452   \n",
       "18             0.929825              0.952096           0.903409   \n",
       "19             0.826316              0.767068           0.740310   \n",
       "42             0.740351              1.000000           0.579545   \n",
       "41             0.730994              0.985507           0.470046   \n",
       "20             0.873684              0.867788           0.831797   \n",
       "21             0.940351              0.958580           0.920455   \n",
       "22             0.840351              0.805668           0.771318   \n",
       "43             0.726316              0.971429           0.395349   \n",
       "23             0.877193              0.868735           0.838710   \n",
       "44             0.734503              1.000000           0.476959   \n",
       "46             0.731579              1.000000           0.406977   \n",
       "45             0.740351              1.000000           0.579545   \n",
       "25             0.845614              0.808000           0.782946   \n",
       "24             0.940351              0.958580           0.920455   \n",
       "27             0.940351              0.958580           0.920455   \n",
       "26             0.884211              0.870588           0.852535   \n",
       "28             0.856140              0.812500           0.806202   \n",
       "31             0.857895              0.816406           0.810078   \n",
       "29             0.884211              0.872642           0.852535   \n",
       "30             0.936842              0.958333           0.914773   \n",
       "33             0.936842              0.958333           0.914773   \n",
       "32             0.899415              0.907731           0.838710   \n",
       "34             0.880702              0.871245           0.786822   \n",
       "47             0.734503              1.000000           0.476959   \n",
       "48             0.740351              1.000000           0.579545   \n",
       "49             0.731579              1.000000           0.406977   \n",
       "\n",
       "    tp_rate_vs_pdf  tn_rate_vs_pdf  fp1_rate_vs_pdf  fp2_rate_vs_pdf  \\\n",
       "35        0.224561        0.189474         0.192982         0.294737   \n",
       "36        0.466667        0.301754         0.080702         0.045614   \n",
       "37        0.519298        0.305263         0.077193         0.042105   \n",
       "38        0.540351        0.235088         0.147368         0.045614   \n",
       "39        0.533333        0.224561         0.157895         0.052632   \n",
       "40        0.547368        0.266667         0.115789         0.038596   \n",
       "0         0.540351        0.315789         0.066667         0.035088   \n",
       "1         0.529825        0.305263         0.077193         0.028070   \n",
       "2         0.522807        0.308772         0.073684         0.042105   \n",
       "3         0.550877        0.259649         0.122807         0.042105   \n",
       "4         0.561404        0.294737         0.087719         0.031579   \n",
       "5         0.568421        0.294737         0.087719         0.028070   \n",
       "6         0.571930        0.298246         0.084211         0.024561   \n",
       "7         0.571930        0.298246         0.084211         0.024561   \n",
       "8         0.515789        0.322807         0.059649         0.031579   \n",
       "9         0.477193        0.336842         0.045614         0.017544   \n",
       "10        0.575439        0.298246         0.084211         0.021053   \n",
       "11        0.557895        0.319298         0.063158         0.021053   \n",
       "12        0.550877        0.354386         0.028070         0.024561   \n",
       "13        0.536842        0.368421         0.014035         0.021053   \n",
       "14        0.568421        0.329825         0.052632         0.028070   \n",
       "15        0.550877        0.350877         0.031579         0.028070   \n",
       "16        0.575439        0.357895         0.024561         0.017544   \n",
       "17        0.409357        0.451462         0.040936         0.036257   \n",
       "18        0.557895        0.371930         0.010526         0.017544   \n",
       "19        0.335088        0.491228         0.056140         0.045614   \n",
       "42        0.357895        0.382456         0.000000         0.000000   \n",
       "41        0.238596        0.492398         0.000000         0.003509   \n",
       "20        0.422222        0.451462         0.040936         0.023392   \n",
       "21        0.568421        0.371930         0.010526         0.014035   \n",
       "22        0.349123        0.491228         0.056140         0.028070   \n",
       "43        0.178947        0.547368         0.000000         0.005263   \n",
       "23        0.425731        0.451462         0.040936         0.023392   \n",
       "44        0.242105        0.492398         0.000000         0.000000   \n",
       "46        0.184211        0.547368         0.000000         0.000000   \n",
       "45        0.357895        0.382456         0.000000         0.000000   \n",
       "25        0.354386        0.491228         0.056140         0.028070   \n",
       "24        0.568421        0.371930         0.010526         0.014035   \n",
       "27        0.568421        0.371930         0.010526         0.014035   \n",
       "26        0.432749        0.451462         0.040936         0.023392   \n",
       "28        0.364912        0.491228         0.056140         0.028070   \n",
       "31        0.366667        0.491228         0.056140         0.026316   \n",
       "29        0.432749        0.451462         0.040936         0.022222   \n",
       "30        0.564912        0.371930         0.010526         0.014035   \n",
       "33        0.564912        0.371930         0.010526         0.014035   \n",
       "32        0.425731        0.473684         0.018713         0.024561   \n",
       "34        0.356140        0.524561         0.022807         0.029825   \n",
       "47        0.242105        0.492398         0.000000         0.000000   \n",
       "48        0.357895        0.382456         0.000000         0.000000   \n",
       "49        0.184211        0.547368         0.000000         0.000000   \n",
       "\n",
       "    fn_rate_vs_pdf  \n",
       "35        0.098246  \n",
       "36        0.105263  \n",
       "37        0.056140  \n",
       "38        0.031579  \n",
       "39        0.031579  \n",
       "40        0.031579  \n",
       "0         0.042105  \n",
       "1         0.059649  \n",
       "2         0.052632  \n",
       "3         0.024561  \n",
       "4         0.024561  \n",
       "5         0.021053  \n",
       "6         0.021053  \n",
       "7         0.021053  \n",
       "8         0.070175  \n",
       "9         0.122807  \n",
       "10        0.021053  \n",
       "11        0.038596  \n",
       "12        0.042105  \n",
       "13        0.059649  \n",
       "14        0.021053  \n",
       "15        0.038596  \n",
       "16        0.024561  \n",
       "17        0.061988  \n",
       "18        0.042105  \n",
       "19        0.071930  \n",
       "42        0.259649  \n",
       "41        0.265497  \n",
       "20        0.061988  \n",
       "21        0.035088  \n",
       "22        0.075439  \n",
       "43        0.268421  \n",
       "23        0.058480  \n",
       "44        0.265497  \n",
       "46        0.268421  \n",
       "45        0.259649  \n",
       "25        0.070175  \n",
       "24        0.035088  \n",
       "27        0.035088  \n",
       "26        0.051462  \n",
       "28        0.059649  \n",
       "31        0.059649  \n",
       "29        0.052632  \n",
       "30        0.038596  \n",
       "33        0.038596  \n",
       "32        0.057310  \n",
       "34        0.066667  \n",
       "47        0.265497  \n",
       "48        0.259649  \n",
       "49        0.268421  "
      ]
     },
     "execution_count": 4,
     "metadata": {},
     "output_type": "execute_result"
    }
   ],
   "source": [
    "mean_df = metrics_calc.compute_average_metrics()\n",
    "\n",
    "# Show\n",
    "mean_df = mean_df.sort_values(by=\"benchmark_version\", key=lambda s: [int(x.split(\"_\")[-1]) for x in s])\n",
    "ordered_cols_to_keep = [\n",
    "    'benchmark_version', \n",
    "    'pdf_list_file', \n",
    "    'no_value_indic_rate_in_pdf', \n",
    "    'avg_accuracy_vs_pdf', \n",
    "    'avg_precision_vs_pdf', \n",
    "    'avg_recall_vs_pdf', \n",
    "    'tp_rate_vs_pdf',\n",
    "    'tn_rate_vs_pdf', \n",
    "    'fp1_rate_vs_pdf', \n",
    "    'fp2_rate_vs_pdf',\n",
    "    'fn_rate_vs_pdf'\n",
    "]\n",
    "mean_df = mean_df[ordered_cols_to_keep]\n",
    "mean_df"
   ]
  },
  {
   "cell_type": "code",
   "execution_count": 6,
   "metadata": {},
   "outputs": [
    {
     "data": {
      "text/html": [
       "<div>\n",
       "<style scoped>\n",
       "    .dataframe tbody tr th:only-of-type {\n",
       "        vertical-align: middle;\n",
       "    }\n",
       "\n",
       "    .dataframe tbody tr th {\n",
       "        vertical-align: top;\n",
       "    }\n",
       "\n",
       "    .dataframe thead th {\n",
       "        text-align: right;\n",
       "    }\n",
       "</style>\n",
       "<table border=\"1\" class=\"dataframe\">\n",
       "  <thead>\n",
       "    <tr style=\"text-align: right;\">\n",
       "      <th></th>\n",
       "      <th>benchmark_version</th>\n",
       "      <th>pdf_list_file</th>\n",
       "      <th>no_value_indic_rate_in_pdf</th>\n",
       "      <th>avg_accuracy_vs_pdf</th>\n",
       "      <th>avg_precision_vs_pdf</th>\n",
       "      <th>avg_recall_vs_pdf</th>\n",
       "      <th>tp_rate_vs_pdf</th>\n",
       "      <th>tn_rate_vs_pdf</th>\n",
       "      <th>fp1_rate_vs_pdf</th>\n",
       "      <th>fp2_rate_vs_pdf</th>\n",
       "      <th>fn_rate_vs_pdf</th>\n",
       "    </tr>\n",
       "  </thead>\n",
       "  <tbody>\n",
       "    <tr>\n",
       "      <th>17</th>\n",
       "      <td>benchmark_27</td>\n",
       "      <td>rpqs_eval_list_1+2.csv</td>\n",
       "      <td>0.492398</td>\n",
       "      <td>0.860819</td>\n",
       "      <td>0.841346</td>\n",
       "      <td>0.806452</td>\n",
       "      <td>0.409357</td>\n",
       "      <td>0.451462</td>\n",
       "      <td>0.040936</td>\n",
       "      <td>0.036257</td>\n",
       "      <td>0.061988</td>\n",
       "    </tr>\n",
       "    <tr>\n",
       "      <th>18</th>\n",
       "      <td>benchmark_27</td>\n",
       "      <td>rpqs_eval_list_1.csv</td>\n",
       "      <td>0.382456</td>\n",
       "      <td>0.929825</td>\n",
       "      <td>0.952096</td>\n",
       "      <td>0.903409</td>\n",
       "      <td>0.557895</td>\n",
       "      <td>0.371930</td>\n",
       "      <td>0.010526</td>\n",
       "      <td>0.017544</td>\n",
       "      <td>0.042105</td>\n",
       "    </tr>\n",
       "    <tr>\n",
       "      <th>19</th>\n",
       "      <td>benchmark_27</td>\n",
       "      <td>rpqs_eval_list_2.csv</td>\n",
       "      <td>0.547368</td>\n",
       "      <td>0.826316</td>\n",
       "      <td>0.767068</td>\n",
       "      <td>0.740310</td>\n",
       "      <td>0.335088</td>\n",
       "      <td>0.491228</td>\n",
       "      <td>0.056140</td>\n",
       "      <td>0.045614</td>\n",
       "      <td>0.071930</td>\n",
       "    </tr>\n",
       "    <tr>\n",
       "      <th>32</th>\n",
       "      <td>benchmark_32</td>\n",
       "      <td>rpqs_eval_list_1+2.csv</td>\n",
       "      <td>0.492398</td>\n",
       "      <td>0.899415</td>\n",
       "      <td>0.907731</td>\n",
       "      <td>0.838710</td>\n",
       "      <td>0.425731</td>\n",
       "      <td>0.473684</td>\n",
       "      <td>0.018713</td>\n",
       "      <td>0.024561</td>\n",
       "      <td>0.057310</td>\n",
       "    </tr>\n",
       "    <tr>\n",
       "      <th>33</th>\n",
       "      <td>benchmark_32</td>\n",
       "      <td>rpqs_eval_list_1.csv</td>\n",
       "      <td>0.382456</td>\n",
       "      <td>0.936842</td>\n",
       "      <td>0.958333</td>\n",
       "      <td>0.914773</td>\n",
       "      <td>0.564912</td>\n",
       "      <td>0.371930</td>\n",
       "      <td>0.010526</td>\n",
       "      <td>0.014035</td>\n",
       "      <td>0.038596</td>\n",
       "    </tr>\n",
       "    <tr>\n",
       "      <th>34</th>\n",
       "      <td>benchmark_32</td>\n",
       "      <td>rpqs_eval_list_2.csv</td>\n",
       "      <td>0.547368</td>\n",
       "      <td>0.880702</td>\n",
       "      <td>0.871245</td>\n",
       "      <td>0.786822</td>\n",
       "      <td>0.356140</td>\n",
       "      <td>0.524561</td>\n",
       "      <td>0.022807</td>\n",
       "      <td>0.029825</td>\n",
       "      <td>0.066667</td>\n",
       "    </tr>\n",
       "    <tr>\n",
       "      <th>47</th>\n",
       "      <td>benchmark_table_32</td>\n",
       "      <td>rpqs_eval_list_1+2.csv</td>\n",
       "      <td>0.492398</td>\n",
       "      <td>0.734503</td>\n",
       "      <td>1.000000</td>\n",
       "      <td>0.476959</td>\n",
       "      <td>0.242105</td>\n",
       "      <td>0.492398</td>\n",
       "      <td>0.000000</td>\n",
       "      <td>0.000000</td>\n",
       "      <td>0.265497</td>\n",
       "    </tr>\n",
       "    <tr>\n",
       "      <th>48</th>\n",
       "      <td>benchmark_table_32</td>\n",
       "      <td>rpqs_eval_list_1.csv</td>\n",
       "      <td>0.382456</td>\n",
       "      <td>0.740351</td>\n",
       "      <td>1.000000</td>\n",
       "      <td>0.579545</td>\n",
       "      <td>0.357895</td>\n",
       "      <td>0.382456</td>\n",
       "      <td>0.000000</td>\n",
       "      <td>0.000000</td>\n",
       "      <td>0.259649</td>\n",
       "    </tr>\n",
       "    <tr>\n",
       "      <th>49</th>\n",
       "      <td>benchmark_table_32</td>\n",
       "      <td>rpqs_eval_list_2.csv</td>\n",
       "      <td>0.547368</td>\n",
       "      <td>0.731579</td>\n",
       "      <td>1.000000</td>\n",
       "      <td>0.406977</td>\n",
       "      <td>0.184211</td>\n",
       "      <td>0.547368</td>\n",
       "      <td>0.000000</td>\n",
       "      <td>0.000000</td>\n",
       "      <td>0.268421</td>\n",
       "    </tr>\n",
       "  </tbody>\n",
       "</table>\n",
       "</div>"
      ],
      "text/plain": [
       "     benchmark_version           pdf_list_file  no_value_indic_rate_in_pdf  \\\n",
       "17        benchmark_27  rpqs_eval_list_1+2.csv                    0.492398   \n",
       "18        benchmark_27    rpqs_eval_list_1.csv                    0.382456   \n",
       "19        benchmark_27    rpqs_eval_list_2.csv                    0.547368   \n",
       "32        benchmark_32  rpqs_eval_list_1+2.csv                    0.492398   \n",
       "33        benchmark_32    rpqs_eval_list_1.csv                    0.382456   \n",
       "34        benchmark_32    rpqs_eval_list_2.csv                    0.547368   \n",
       "47  benchmark_table_32  rpqs_eval_list_1+2.csv                    0.492398   \n",
       "48  benchmark_table_32    rpqs_eval_list_1.csv                    0.382456   \n",
       "49  benchmark_table_32    rpqs_eval_list_2.csv                    0.547368   \n",
       "\n",
       "    avg_accuracy_vs_pdf  avg_precision_vs_pdf  avg_recall_vs_pdf  \\\n",
       "17             0.860819              0.841346           0.806452   \n",
       "18             0.929825              0.952096           0.903409   \n",
       "19             0.826316              0.767068           0.740310   \n",
       "32             0.899415              0.907731           0.838710   \n",
       "33             0.936842              0.958333           0.914773   \n",
       "34             0.880702              0.871245           0.786822   \n",
       "47             0.734503              1.000000           0.476959   \n",
       "48             0.740351              1.000000           0.579545   \n",
       "49             0.731579              1.000000           0.406977   \n",
       "\n",
       "    tp_rate_vs_pdf  tn_rate_vs_pdf  fp1_rate_vs_pdf  fp2_rate_vs_pdf  \\\n",
       "17        0.409357        0.451462         0.040936         0.036257   \n",
       "18        0.557895        0.371930         0.010526         0.017544   \n",
       "19        0.335088        0.491228         0.056140         0.045614   \n",
       "32        0.425731        0.473684         0.018713         0.024561   \n",
       "33        0.564912        0.371930         0.010526         0.014035   \n",
       "34        0.356140        0.524561         0.022807         0.029825   \n",
       "47        0.242105        0.492398         0.000000         0.000000   \n",
       "48        0.357895        0.382456         0.000000         0.000000   \n",
       "49        0.184211        0.547368         0.000000         0.000000   \n",
       "\n",
       "    fn_rate_vs_pdf  \n",
       "17        0.061988  \n",
       "18        0.042105  \n",
       "19        0.071930  \n",
       "32        0.057310  \n",
       "33        0.038596  \n",
       "34        0.066667  \n",
       "47        0.265497  \n",
       "48        0.259649  \n",
       "49        0.268421  "
      ]
     },
     "execution_count": 6,
     "metadata": {},
     "output_type": "execute_result"
    }
   ],
   "source": [
    "benchmark_list = [\"benchmark_27\", \"benchmark_32\", \"benchmark_table_32\"]\n",
    "\n",
    "mean_df[mean_df[\"benchmark_version\"].isin(benchmark_list)].sort_values(by=[\"benchmark_version\", \"pdf_list_file\"])"
   ]
  },
  {
   "cell_type": "code",
   "execution_count": null,
   "metadata": {},
   "outputs": [
    {
     "data": {
      "application/vnd.plotly.v1+json": {
       "config": {
        "plotlyServerURL": "https://plot.ly"
       },
       "data": [
        {
         "alignmentgroup": "True",
         "hovertemplate": "variable=True positives<br>value=%{x}<br>benchmark_version=%{y}<extra></extra>",
         "legendgroup": "True positives",
         "marker": {
          "color": "#636EFA",
          "pattern": {
           "shape": ""
          }
         },
         "name": "True positives",
         "offsetgroup": "True positives",
         "orientation": "h",
         "showlegend": true,
         "textposition": "auto",
         "type": "bar",
         "x": [
          0.42573099415204674,
          0.24210526315789474
         ],
         "xaxis": "x",
         "y": [
          "benchmark_32",
          "benchmark_table_32"
         ],
         "yaxis": "y"
        },
        {
         "alignmentgroup": "True",
         "hovertemplate": "variable=True negatives<br>value=%{x}<br>benchmark_version=%{y}<extra></extra>",
         "legendgroup": "True negatives",
         "marker": {
          "color": "#19D3F3",
          "pattern": {
           "shape": ""
          }
         },
         "name": "True negatives",
         "offsetgroup": "True negatives",
         "orientation": "h",
         "showlegend": true,
         "textposition": "auto",
         "type": "bar",
         "x": [
          0.47368421052631565,
          0.49239766081871345
         ],
         "xaxis": "x",
         "y": [
          "benchmark_32",
          "benchmark_table_32"
         ],
         "yaxis": "y"
        },
        {
         "alignmentgroup": "True",
         "hovertemplate": "variable=False positives of kind 1<br>value=%{x}<br>benchmark_version=%{y}<extra></extra>",
         "legendgroup": "False positives of kind 1",
         "marker": {
          "color": "#EF553B",
          "pattern": {
           "shape": ""
          }
         },
         "name": "False positives of kind 1",
         "offsetgroup": "False positives of kind 1",
         "orientation": "h",
         "showlegend": true,
         "textposition": "auto",
         "type": "bar",
         "x": [
          0.018713450292397658,
          0
         ],
         "xaxis": "x",
         "y": [
          "benchmark_32",
          "benchmark_table_32"
         ],
         "yaxis": "y"
        },
        {
         "alignmentgroup": "True",
         "hovertemplate": "variable=False positives of kind 2<br>value=%{x}<br>benchmark_version=%{y}<extra></extra>",
         "legendgroup": "False positives of kind 2",
         "marker": {
          "color": "#FF6692",
          "pattern": {
           "shape": ""
          }
         },
         "name": "False positives of kind 2",
         "offsetgroup": "False positives of kind 2",
         "orientation": "h",
         "showlegend": true,
         "textposition": "auto",
         "type": "bar",
         "x": [
          0.02456140350877193,
          0
         ],
         "xaxis": "x",
         "y": [
          "benchmark_32",
          "benchmark_table_32"
         ],
         "yaxis": "y"
        },
        {
         "alignmentgroup": "True",
         "hovertemplate": "variable=False negatives<br>value=%{x}<br>benchmark_version=%{y}<extra></extra>",
         "legendgroup": "False negatives",
         "marker": {
          "color": "#FFA15A",
          "pattern": {
           "shape": ""
          }
         },
         "name": "False negatives",
         "offsetgroup": "False negatives",
         "orientation": "h",
         "showlegend": true,
         "textposition": "auto",
         "type": "bar",
         "x": [
          0.057309941520467825,
          0.26549707602339184
         ],
         "xaxis": "x",
         "y": [
          "benchmark_32",
          "benchmark_table_32"
         ],
         "yaxis": "y"
        }
       ],
       "layout": {
        "barmode": "relative",
        "height": 300,
        "legend": {
         "title": {
          "text": "variable"
         },
         "tracegroupgap": 0
        },
        "template": {
         "data": {
          "bar": [
           {
            "error_x": {
             "color": "#2a3f5f"
            },
            "error_y": {
             "color": "#2a3f5f"
            },
            "marker": {
             "line": {
              "color": "#E5ECF6",
              "width": 0.5
             },
             "pattern": {
              "fillmode": "overlay",
              "size": 10,
              "solidity": 0.2
             }
            },
            "type": "bar"
           }
          ],
          "barpolar": [
           {
            "marker": {
             "line": {
              "color": "#E5ECF6",
              "width": 0.5
             },
             "pattern": {
              "fillmode": "overlay",
              "size": 10,
              "solidity": 0.2
             }
            },
            "type": "barpolar"
           }
          ],
          "carpet": [
           {
            "aaxis": {
             "endlinecolor": "#2a3f5f",
             "gridcolor": "white",
             "linecolor": "white",
             "minorgridcolor": "white",
             "startlinecolor": "#2a3f5f"
            },
            "baxis": {
             "endlinecolor": "#2a3f5f",
             "gridcolor": "white",
             "linecolor": "white",
             "minorgridcolor": "white",
             "startlinecolor": "#2a3f5f"
            },
            "type": "carpet"
           }
          ],
          "choropleth": [
           {
            "colorbar": {
             "outlinewidth": 0,
             "ticks": ""
            },
            "type": "choropleth"
           }
          ],
          "contour": [
           {
            "colorbar": {
             "outlinewidth": 0,
             "ticks": ""
            },
            "colorscale": [
             [
              0,
              "#0d0887"
             ],
             [
              0.1111111111111111,
              "#46039f"
             ],
             [
              0.2222222222222222,
              "#7201a8"
             ],
             [
              0.3333333333333333,
              "#9c179e"
             ],
             [
              0.4444444444444444,
              "#bd3786"
             ],
             [
              0.5555555555555556,
              "#d8576b"
             ],
             [
              0.6666666666666666,
              "#ed7953"
             ],
             [
              0.7777777777777778,
              "#fb9f3a"
             ],
             [
              0.8888888888888888,
              "#fdca26"
             ],
             [
              1,
              "#f0f921"
             ]
            ],
            "type": "contour"
           }
          ],
          "contourcarpet": [
           {
            "colorbar": {
             "outlinewidth": 0,
             "ticks": ""
            },
            "type": "contourcarpet"
           }
          ],
          "heatmap": [
           {
            "colorbar": {
             "outlinewidth": 0,
             "ticks": ""
            },
            "colorscale": [
             [
              0,
              "#0d0887"
             ],
             [
              0.1111111111111111,
              "#46039f"
             ],
             [
              0.2222222222222222,
              "#7201a8"
             ],
             [
              0.3333333333333333,
              "#9c179e"
             ],
             [
              0.4444444444444444,
              "#bd3786"
             ],
             [
              0.5555555555555556,
              "#d8576b"
             ],
             [
              0.6666666666666666,
              "#ed7953"
             ],
             [
              0.7777777777777778,
              "#fb9f3a"
             ],
             [
              0.8888888888888888,
              "#fdca26"
             ],
             [
              1,
              "#f0f921"
             ]
            ],
            "type": "heatmap"
           }
          ],
          "heatmapgl": [
           {
            "colorbar": {
             "outlinewidth": 0,
             "ticks": ""
            },
            "colorscale": [
             [
              0,
              "#0d0887"
             ],
             [
              0.1111111111111111,
              "#46039f"
             ],
             [
              0.2222222222222222,
              "#7201a8"
             ],
             [
              0.3333333333333333,
              "#9c179e"
             ],
             [
              0.4444444444444444,
              "#bd3786"
             ],
             [
              0.5555555555555556,
              "#d8576b"
             ],
             [
              0.6666666666666666,
              "#ed7953"
             ],
             [
              0.7777777777777778,
              "#fb9f3a"
             ],
             [
              0.8888888888888888,
              "#fdca26"
             ],
             [
              1,
              "#f0f921"
             ]
            ],
            "type": "heatmapgl"
           }
          ],
          "histogram": [
           {
            "marker": {
             "pattern": {
              "fillmode": "overlay",
              "size": 10,
              "solidity": 0.2
             }
            },
            "type": "histogram"
           }
          ],
          "histogram2d": [
           {
            "colorbar": {
             "outlinewidth": 0,
             "ticks": ""
            },
            "colorscale": [
             [
              0,
              "#0d0887"
             ],
             [
              0.1111111111111111,
              "#46039f"
             ],
             [
              0.2222222222222222,
              "#7201a8"
             ],
             [
              0.3333333333333333,
              "#9c179e"
             ],
             [
              0.4444444444444444,
              "#bd3786"
             ],
             [
              0.5555555555555556,
              "#d8576b"
             ],
             [
              0.6666666666666666,
              "#ed7953"
             ],
             [
              0.7777777777777778,
              "#fb9f3a"
             ],
             [
              0.8888888888888888,
              "#fdca26"
             ],
             [
              1,
              "#f0f921"
             ]
            ],
            "type": "histogram2d"
           }
          ],
          "histogram2dcontour": [
           {
            "colorbar": {
             "outlinewidth": 0,
             "ticks": ""
            },
            "colorscale": [
             [
              0,
              "#0d0887"
             ],
             [
              0.1111111111111111,
              "#46039f"
             ],
             [
              0.2222222222222222,
              "#7201a8"
             ],
             [
              0.3333333333333333,
              "#9c179e"
             ],
             [
              0.4444444444444444,
              "#bd3786"
             ],
             [
              0.5555555555555556,
              "#d8576b"
             ],
             [
              0.6666666666666666,
              "#ed7953"
             ],
             [
              0.7777777777777778,
              "#fb9f3a"
             ],
             [
              0.8888888888888888,
              "#fdca26"
             ],
             [
              1,
              "#f0f921"
             ]
            ],
            "type": "histogram2dcontour"
           }
          ],
          "mesh3d": [
           {
            "colorbar": {
             "outlinewidth": 0,
             "ticks": ""
            },
            "type": "mesh3d"
           }
          ],
          "parcoords": [
           {
            "line": {
             "colorbar": {
              "outlinewidth": 0,
              "ticks": ""
             }
            },
            "type": "parcoords"
           }
          ],
          "pie": [
           {
            "automargin": true,
            "type": "pie"
           }
          ],
          "scatter": [
           {
            "fillpattern": {
             "fillmode": "overlay",
             "size": 10,
             "solidity": 0.2
            },
            "type": "scatter"
           }
          ],
          "scatter3d": [
           {
            "line": {
             "colorbar": {
              "outlinewidth": 0,
              "ticks": ""
             }
            },
            "marker": {
             "colorbar": {
              "outlinewidth": 0,
              "ticks": ""
             }
            },
            "type": "scatter3d"
           }
          ],
          "scattercarpet": [
           {
            "marker": {
             "colorbar": {
              "outlinewidth": 0,
              "ticks": ""
             }
            },
            "type": "scattercarpet"
           }
          ],
          "scattergeo": [
           {
            "marker": {
             "colorbar": {
              "outlinewidth": 0,
              "ticks": ""
             }
            },
            "type": "scattergeo"
           }
          ],
          "scattergl": [
           {
            "marker": {
             "colorbar": {
              "outlinewidth": 0,
              "ticks": ""
             }
            },
            "type": "scattergl"
           }
          ],
          "scattermapbox": [
           {
            "marker": {
             "colorbar": {
              "outlinewidth": 0,
              "ticks": ""
             }
            },
            "type": "scattermapbox"
           }
          ],
          "scatterpolar": [
           {
            "marker": {
             "colorbar": {
              "outlinewidth": 0,
              "ticks": ""
             }
            },
            "type": "scatterpolar"
           }
          ],
          "scatterpolargl": [
           {
            "marker": {
             "colorbar": {
              "outlinewidth": 0,
              "ticks": ""
             }
            },
            "type": "scatterpolargl"
           }
          ],
          "scatterternary": [
           {
            "marker": {
             "colorbar": {
              "outlinewidth": 0,
              "ticks": ""
             }
            },
            "type": "scatterternary"
           }
          ],
          "surface": [
           {
            "colorbar": {
             "outlinewidth": 0,
             "ticks": ""
            },
            "colorscale": [
             [
              0,
              "#0d0887"
             ],
             [
              0.1111111111111111,
              "#46039f"
             ],
             [
              0.2222222222222222,
              "#7201a8"
             ],
             [
              0.3333333333333333,
              "#9c179e"
             ],
             [
              0.4444444444444444,
              "#bd3786"
             ],
             [
              0.5555555555555556,
              "#d8576b"
             ],
             [
              0.6666666666666666,
              "#ed7953"
             ],
             [
              0.7777777777777778,
              "#fb9f3a"
             ],
             [
              0.8888888888888888,
              "#fdca26"
             ],
             [
              1,
              "#f0f921"
             ]
            ],
            "type": "surface"
           }
          ],
          "table": [
           {
            "cells": {
             "fill": {
              "color": "#EBF0F8"
             },
             "line": {
              "color": "white"
             }
            },
            "header": {
             "fill": {
              "color": "#C8D4E3"
             },
             "line": {
              "color": "white"
             }
            },
            "type": "table"
           }
          ]
         },
         "layout": {
          "annotationdefaults": {
           "arrowcolor": "#2a3f5f",
           "arrowhead": 0,
           "arrowwidth": 1
          },
          "autotypenumbers": "strict",
          "coloraxis": {
           "colorbar": {
            "outlinewidth": 0,
            "ticks": ""
           }
          },
          "colorscale": {
           "diverging": [
            [
             0,
             "#8e0152"
            ],
            [
             0.1,
             "#c51b7d"
            ],
            [
             0.2,
             "#de77ae"
            ],
            [
             0.3,
             "#f1b6da"
            ],
            [
             0.4,
             "#fde0ef"
            ],
            [
             0.5,
             "#f7f7f7"
            ],
            [
             0.6,
             "#e6f5d0"
            ],
            [
             0.7,
             "#b8e186"
            ],
            [
             0.8,
             "#7fbc41"
            ],
            [
             0.9,
             "#4d9221"
            ],
            [
             1,
             "#276419"
            ]
           ],
           "sequential": [
            [
             0,
             "#0d0887"
            ],
            [
             0.1111111111111111,
             "#46039f"
            ],
            [
             0.2222222222222222,
             "#7201a8"
            ],
            [
             0.3333333333333333,
             "#9c179e"
            ],
            [
             0.4444444444444444,
             "#bd3786"
            ],
            [
             0.5555555555555556,
             "#d8576b"
            ],
            [
             0.6666666666666666,
             "#ed7953"
            ],
            [
             0.7777777777777778,
             "#fb9f3a"
            ],
            [
             0.8888888888888888,
             "#fdca26"
            ],
            [
             1,
             "#f0f921"
            ]
           ],
           "sequentialminus": [
            [
             0,
             "#0d0887"
            ],
            [
             0.1111111111111111,
             "#46039f"
            ],
            [
             0.2222222222222222,
             "#7201a8"
            ],
            [
             0.3333333333333333,
             "#9c179e"
            ],
            [
             0.4444444444444444,
             "#bd3786"
            ],
            [
             0.5555555555555556,
             "#d8576b"
            ],
            [
             0.6666666666666666,
             "#ed7953"
            ],
            [
             0.7777777777777778,
             "#fb9f3a"
            ],
            [
             0.8888888888888888,
             "#fdca26"
            ],
            [
             1,
             "#f0f921"
            ]
           ]
          },
          "colorway": [
           "#636efa",
           "#EF553B",
           "#00cc96",
           "#ab63fa",
           "#FFA15A",
           "#19d3f3",
           "#FF6692",
           "#B6E880",
           "#FF97FF",
           "#FECB52"
          ],
          "font": {
           "color": "#2a3f5f"
          },
          "geo": {
           "bgcolor": "white",
           "lakecolor": "white",
           "landcolor": "#E5ECF6",
           "showlakes": true,
           "showland": true,
           "subunitcolor": "white"
          },
          "hoverlabel": {
           "align": "left"
          },
          "hovermode": "closest",
          "mapbox": {
           "style": "light"
          },
          "paper_bgcolor": "white",
          "plot_bgcolor": "#E5ECF6",
          "polar": {
           "angularaxis": {
            "gridcolor": "white",
            "linecolor": "white",
            "ticks": ""
           },
           "bgcolor": "#E5ECF6",
           "radialaxis": {
            "gridcolor": "white",
            "linecolor": "white",
            "ticks": ""
           }
          },
          "scene": {
           "xaxis": {
            "backgroundcolor": "#E5ECF6",
            "gridcolor": "white",
            "gridwidth": 2,
            "linecolor": "white",
            "showbackground": true,
            "ticks": "",
            "zerolinecolor": "white"
           },
           "yaxis": {
            "backgroundcolor": "#E5ECF6",
            "gridcolor": "white",
            "gridwidth": 2,
            "linecolor": "white",
            "showbackground": true,
            "ticks": "",
            "zerolinecolor": "white"
           },
           "zaxis": {
            "backgroundcolor": "#E5ECF6",
            "gridcolor": "white",
            "gridwidth": 2,
            "linecolor": "white",
            "showbackground": true,
            "ticks": "",
            "zerolinecolor": "white"
           }
          },
          "shapedefaults": {
           "line": {
            "color": "#2a3f5f"
           }
          },
          "ternary": {
           "aaxis": {
            "gridcolor": "white",
            "linecolor": "white",
            "ticks": ""
           },
           "baxis": {
            "gridcolor": "white",
            "linecolor": "white",
            "ticks": ""
           },
           "bgcolor": "#E5ECF6",
           "caxis": {
            "gridcolor": "white",
            "linecolor": "white",
            "ticks": ""
           }
          },
          "title": {
           "x": 0.05
          },
          "xaxis": {
           "automargin": true,
           "gridcolor": "white",
           "linecolor": "white",
           "ticks": "",
           "title": {
            "standoff": 15
           },
           "zerolinecolor": "white",
           "zerolinewidth": 2
          },
          "yaxis": {
           "automargin": true,
           "gridcolor": "white",
           "linecolor": "white",
           "ticks": "",
           "title": {
            "standoff": 15
           },
           "zerolinecolor": "white",
           "zerolinewidth": 2
          }
         }
        },
        "title": {
         "text": "Average metrics for rpqs_eval_list_1+2.csv"
        },
        "width": 800,
        "xaxis": {
         "anchor": "y",
         "domain": [
          0,
          1
         ],
         "range": [
          0,
          1
         ],
         "tickformat": ",.0%",
         "title": {
          "text": "Rate"
         }
        },
        "yaxis": {
         "anchor": "x",
         "domain": [
          0,
          1
         ],
         "title": {
          "text": "benchmark_version"
         }
        }
       }
      },
      "text/html": [
       "<div>                            <div id=\"3a177671-d9d8-48df-a466-da27225b9187\" class=\"plotly-graph-div\" style=\"height:300px; width:800px;\"></div>            <script type=\"text/javascript\">                require([\"plotly\"], function(Plotly) {                    window.PLOTLYENV=window.PLOTLYENV || {};                                    if (document.getElementById(\"3a177671-d9d8-48df-a466-da27225b9187\")) {                    Plotly.newPlot(                        \"3a177671-d9d8-48df-a466-da27225b9187\",                        [{\"alignmentgroup\":\"True\",\"hovertemplate\":\"variable=True positives\\u003cbr\\u003evalue=%{x}\\u003cbr\\u003ebenchmark_version=%{y}\\u003cextra\\u003e\\u003c\\u002fextra\\u003e\",\"legendgroup\":\"True positives\",\"marker\":{\"color\":\"#636EFA\",\"pattern\":{\"shape\":\"\"}},\"name\":\"True positives\",\"offsetgroup\":\"True positives\",\"orientation\":\"h\",\"showlegend\":true,\"textposition\":\"auto\",\"x\":[0.42573099415204674,0.24210526315789474],\"xaxis\":\"x\",\"y\":[\"benchmark_32\",\"benchmark_table_32\"],\"yaxis\":\"y\",\"type\":\"bar\"},{\"alignmentgroup\":\"True\",\"hovertemplate\":\"variable=True negatives\\u003cbr\\u003evalue=%{x}\\u003cbr\\u003ebenchmark_version=%{y}\\u003cextra\\u003e\\u003c\\u002fextra\\u003e\",\"legendgroup\":\"True negatives\",\"marker\":{\"color\":\"#19D3F3\",\"pattern\":{\"shape\":\"\"}},\"name\":\"True negatives\",\"offsetgroup\":\"True negatives\",\"orientation\":\"h\",\"showlegend\":true,\"textposition\":\"auto\",\"x\":[0.47368421052631565,0.49239766081871345],\"xaxis\":\"x\",\"y\":[\"benchmark_32\",\"benchmark_table_32\"],\"yaxis\":\"y\",\"type\":\"bar\"},{\"alignmentgroup\":\"True\",\"hovertemplate\":\"variable=False positives of kind 1\\u003cbr\\u003evalue=%{x}\\u003cbr\\u003ebenchmark_version=%{y}\\u003cextra\\u003e\\u003c\\u002fextra\\u003e\",\"legendgroup\":\"False positives of kind 1\",\"marker\":{\"color\":\"#EF553B\",\"pattern\":{\"shape\":\"\"}},\"name\":\"False positives of kind 1\",\"offsetgroup\":\"False positives of kind 1\",\"orientation\":\"h\",\"showlegend\":true,\"textposition\":\"auto\",\"x\":[0.018713450292397658,0.0],\"xaxis\":\"x\",\"y\":[\"benchmark_32\",\"benchmark_table_32\"],\"yaxis\":\"y\",\"type\":\"bar\"},{\"alignmentgroup\":\"True\",\"hovertemplate\":\"variable=False positives of kind 2\\u003cbr\\u003evalue=%{x}\\u003cbr\\u003ebenchmark_version=%{y}\\u003cextra\\u003e\\u003c\\u002fextra\\u003e\",\"legendgroup\":\"False positives of kind 2\",\"marker\":{\"color\":\"#FF6692\",\"pattern\":{\"shape\":\"\"}},\"name\":\"False positives of kind 2\",\"offsetgroup\":\"False positives of kind 2\",\"orientation\":\"h\",\"showlegend\":true,\"textposition\":\"auto\",\"x\":[0.02456140350877193,0.0],\"xaxis\":\"x\",\"y\":[\"benchmark_32\",\"benchmark_table_32\"],\"yaxis\":\"y\",\"type\":\"bar\"},{\"alignmentgroup\":\"True\",\"hovertemplate\":\"variable=False negatives\\u003cbr\\u003evalue=%{x}\\u003cbr\\u003ebenchmark_version=%{y}\\u003cextra\\u003e\\u003c\\u002fextra\\u003e\",\"legendgroup\":\"False negatives\",\"marker\":{\"color\":\"#FFA15A\",\"pattern\":{\"shape\":\"\"}},\"name\":\"False negatives\",\"offsetgroup\":\"False negatives\",\"orientation\":\"h\",\"showlegend\":true,\"textposition\":\"auto\",\"x\":[0.057309941520467825,0.26549707602339184],\"xaxis\":\"x\",\"y\":[\"benchmark_32\",\"benchmark_table_32\"],\"yaxis\":\"y\",\"type\":\"bar\"}],                        {\"template\":{\"data\":{\"histogram2dcontour\":[{\"type\":\"histogram2dcontour\",\"colorbar\":{\"outlinewidth\":0,\"ticks\":\"\"},\"colorscale\":[[0.0,\"#0d0887\"],[0.1111111111111111,\"#46039f\"],[0.2222222222222222,\"#7201a8\"],[0.3333333333333333,\"#9c179e\"],[0.4444444444444444,\"#bd3786\"],[0.5555555555555556,\"#d8576b\"],[0.6666666666666666,\"#ed7953\"],[0.7777777777777778,\"#fb9f3a\"],[0.8888888888888888,\"#fdca26\"],[1.0,\"#f0f921\"]]}],\"choropleth\":[{\"type\":\"choropleth\",\"colorbar\":{\"outlinewidth\":0,\"ticks\":\"\"}}],\"histogram2d\":[{\"type\":\"histogram2d\",\"colorbar\":{\"outlinewidth\":0,\"ticks\":\"\"},\"colorscale\":[[0.0,\"#0d0887\"],[0.1111111111111111,\"#46039f\"],[0.2222222222222222,\"#7201a8\"],[0.3333333333333333,\"#9c179e\"],[0.4444444444444444,\"#bd3786\"],[0.5555555555555556,\"#d8576b\"],[0.6666666666666666,\"#ed7953\"],[0.7777777777777778,\"#fb9f3a\"],[0.8888888888888888,\"#fdca26\"],[1.0,\"#f0f921\"]]}],\"heatmap\":[{\"type\":\"heatmap\",\"colorbar\":{\"outlinewidth\":0,\"ticks\":\"\"},\"colorscale\":[[0.0,\"#0d0887\"],[0.1111111111111111,\"#46039f\"],[0.2222222222222222,\"#7201a8\"],[0.3333333333333333,\"#9c179e\"],[0.4444444444444444,\"#bd3786\"],[0.5555555555555556,\"#d8576b\"],[0.6666666666666666,\"#ed7953\"],[0.7777777777777778,\"#fb9f3a\"],[0.8888888888888888,\"#fdca26\"],[1.0,\"#f0f921\"]]}],\"heatmapgl\":[{\"type\":\"heatmapgl\",\"colorbar\":{\"outlinewidth\":0,\"ticks\":\"\"},\"colorscale\":[[0.0,\"#0d0887\"],[0.1111111111111111,\"#46039f\"],[0.2222222222222222,\"#7201a8\"],[0.3333333333333333,\"#9c179e\"],[0.4444444444444444,\"#bd3786\"],[0.5555555555555556,\"#d8576b\"],[0.6666666666666666,\"#ed7953\"],[0.7777777777777778,\"#fb9f3a\"],[0.8888888888888888,\"#fdca26\"],[1.0,\"#f0f921\"]]}],\"contourcarpet\":[{\"type\":\"contourcarpet\",\"colorbar\":{\"outlinewidth\":0,\"ticks\":\"\"}}],\"contour\":[{\"type\":\"contour\",\"colorbar\":{\"outlinewidth\":0,\"ticks\":\"\"},\"colorscale\":[[0.0,\"#0d0887\"],[0.1111111111111111,\"#46039f\"],[0.2222222222222222,\"#7201a8\"],[0.3333333333333333,\"#9c179e\"],[0.4444444444444444,\"#bd3786\"],[0.5555555555555556,\"#d8576b\"],[0.6666666666666666,\"#ed7953\"],[0.7777777777777778,\"#fb9f3a\"],[0.8888888888888888,\"#fdca26\"],[1.0,\"#f0f921\"]]}],\"surface\":[{\"type\":\"surface\",\"colorbar\":{\"outlinewidth\":0,\"ticks\":\"\"},\"colorscale\":[[0.0,\"#0d0887\"],[0.1111111111111111,\"#46039f\"],[0.2222222222222222,\"#7201a8\"],[0.3333333333333333,\"#9c179e\"],[0.4444444444444444,\"#bd3786\"],[0.5555555555555556,\"#d8576b\"],[0.6666666666666666,\"#ed7953\"],[0.7777777777777778,\"#fb9f3a\"],[0.8888888888888888,\"#fdca26\"],[1.0,\"#f0f921\"]]}],\"mesh3d\":[{\"type\":\"mesh3d\",\"colorbar\":{\"outlinewidth\":0,\"ticks\":\"\"}}],\"scatter\":[{\"fillpattern\":{\"fillmode\":\"overlay\",\"size\":10,\"solidity\":0.2},\"type\":\"scatter\"}],\"parcoords\":[{\"type\":\"parcoords\",\"line\":{\"colorbar\":{\"outlinewidth\":0,\"ticks\":\"\"}}}],\"scatterpolargl\":[{\"type\":\"scatterpolargl\",\"marker\":{\"colorbar\":{\"outlinewidth\":0,\"ticks\":\"\"}}}],\"bar\":[{\"error_x\":{\"color\":\"#2a3f5f\"},\"error_y\":{\"color\":\"#2a3f5f\"},\"marker\":{\"line\":{\"color\":\"#E5ECF6\",\"width\":0.5},\"pattern\":{\"fillmode\":\"overlay\",\"size\":10,\"solidity\":0.2}},\"type\":\"bar\"}],\"scattergeo\":[{\"type\":\"scattergeo\",\"marker\":{\"colorbar\":{\"outlinewidth\":0,\"ticks\":\"\"}}}],\"scatterpolar\":[{\"type\":\"scatterpolar\",\"marker\":{\"colorbar\":{\"outlinewidth\":0,\"ticks\":\"\"}}}],\"histogram\":[{\"marker\":{\"pattern\":{\"fillmode\":\"overlay\",\"size\":10,\"solidity\":0.2}},\"type\":\"histogram\"}],\"scattergl\":[{\"type\":\"scattergl\",\"marker\":{\"colorbar\":{\"outlinewidth\":0,\"ticks\":\"\"}}}],\"scatter3d\":[{\"type\":\"scatter3d\",\"line\":{\"colorbar\":{\"outlinewidth\":0,\"ticks\":\"\"}},\"marker\":{\"colorbar\":{\"outlinewidth\":0,\"ticks\":\"\"}}}],\"scattermapbox\":[{\"type\":\"scattermapbox\",\"marker\":{\"colorbar\":{\"outlinewidth\":0,\"ticks\":\"\"}}}],\"scatterternary\":[{\"type\":\"scatterternary\",\"marker\":{\"colorbar\":{\"outlinewidth\":0,\"ticks\":\"\"}}}],\"scattercarpet\":[{\"type\":\"scattercarpet\",\"marker\":{\"colorbar\":{\"outlinewidth\":0,\"ticks\":\"\"}}}],\"carpet\":[{\"aaxis\":{\"endlinecolor\":\"#2a3f5f\",\"gridcolor\":\"white\",\"linecolor\":\"white\",\"minorgridcolor\":\"white\",\"startlinecolor\":\"#2a3f5f\"},\"baxis\":{\"endlinecolor\":\"#2a3f5f\",\"gridcolor\":\"white\",\"linecolor\":\"white\",\"minorgridcolor\":\"white\",\"startlinecolor\":\"#2a3f5f\"},\"type\":\"carpet\"}],\"table\":[{\"cells\":{\"fill\":{\"color\":\"#EBF0F8\"},\"line\":{\"color\":\"white\"}},\"header\":{\"fill\":{\"color\":\"#C8D4E3\"},\"line\":{\"color\":\"white\"}},\"type\":\"table\"}],\"barpolar\":[{\"marker\":{\"line\":{\"color\":\"#E5ECF6\",\"width\":0.5},\"pattern\":{\"fillmode\":\"overlay\",\"size\":10,\"solidity\":0.2}},\"type\":\"barpolar\"}],\"pie\":[{\"automargin\":true,\"type\":\"pie\"}]},\"layout\":{\"autotypenumbers\":\"strict\",\"colorway\":[\"#636efa\",\"#EF553B\",\"#00cc96\",\"#ab63fa\",\"#FFA15A\",\"#19d3f3\",\"#FF6692\",\"#B6E880\",\"#FF97FF\",\"#FECB52\"],\"font\":{\"color\":\"#2a3f5f\"},\"hovermode\":\"closest\",\"hoverlabel\":{\"align\":\"left\"},\"paper_bgcolor\":\"white\",\"plot_bgcolor\":\"#E5ECF6\",\"polar\":{\"bgcolor\":\"#E5ECF6\",\"angularaxis\":{\"gridcolor\":\"white\",\"linecolor\":\"white\",\"ticks\":\"\"},\"radialaxis\":{\"gridcolor\":\"white\",\"linecolor\":\"white\",\"ticks\":\"\"}},\"ternary\":{\"bgcolor\":\"#E5ECF6\",\"aaxis\":{\"gridcolor\":\"white\",\"linecolor\":\"white\",\"ticks\":\"\"},\"baxis\":{\"gridcolor\":\"white\",\"linecolor\":\"white\",\"ticks\":\"\"},\"caxis\":{\"gridcolor\":\"white\",\"linecolor\":\"white\",\"ticks\":\"\"}},\"coloraxis\":{\"colorbar\":{\"outlinewidth\":0,\"ticks\":\"\"}},\"colorscale\":{\"sequential\":[[0.0,\"#0d0887\"],[0.1111111111111111,\"#46039f\"],[0.2222222222222222,\"#7201a8\"],[0.3333333333333333,\"#9c179e\"],[0.4444444444444444,\"#bd3786\"],[0.5555555555555556,\"#d8576b\"],[0.6666666666666666,\"#ed7953\"],[0.7777777777777778,\"#fb9f3a\"],[0.8888888888888888,\"#fdca26\"],[1.0,\"#f0f921\"]],\"sequentialminus\":[[0.0,\"#0d0887\"],[0.1111111111111111,\"#46039f\"],[0.2222222222222222,\"#7201a8\"],[0.3333333333333333,\"#9c179e\"],[0.4444444444444444,\"#bd3786\"],[0.5555555555555556,\"#d8576b\"],[0.6666666666666666,\"#ed7953\"],[0.7777777777777778,\"#fb9f3a\"],[0.8888888888888888,\"#fdca26\"],[1.0,\"#f0f921\"]],\"diverging\":[[0,\"#8e0152\"],[0.1,\"#c51b7d\"],[0.2,\"#de77ae\"],[0.3,\"#f1b6da\"],[0.4,\"#fde0ef\"],[0.5,\"#f7f7f7\"],[0.6,\"#e6f5d0\"],[0.7,\"#b8e186\"],[0.8,\"#7fbc41\"],[0.9,\"#4d9221\"],[1,\"#276419\"]]},\"xaxis\":{\"gridcolor\":\"white\",\"linecolor\":\"white\",\"ticks\":\"\",\"title\":{\"standoff\":15},\"zerolinecolor\":\"white\",\"automargin\":true,\"zerolinewidth\":2},\"yaxis\":{\"gridcolor\":\"white\",\"linecolor\":\"white\",\"ticks\":\"\",\"title\":{\"standoff\":15},\"zerolinecolor\":\"white\",\"automargin\":true,\"zerolinewidth\":2},\"scene\":{\"xaxis\":{\"backgroundcolor\":\"#E5ECF6\",\"gridcolor\":\"white\",\"linecolor\":\"white\",\"showbackground\":true,\"ticks\":\"\",\"zerolinecolor\":\"white\",\"gridwidth\":2},\"yaxis\":{\"backgroundcolor\":\"#E5ECF6\",\"gridcolor\":\"white\",\"linecolor\":\"white\",\"showbackground\":true,\"ticks\":\"\",\"zerolinecolor\":\"white\",\"gridwidth\":2},\"zaxis\":{\"backgroundcolor\":\"#E5ECF6\",\"gridcolor\":\"white\",\"linecolor\":\"white\",\"showbackground\":true,\"ticks\":\"\",\"zerolinecolor\":\"white\",\"gridwidth\":2}},\"shapedefaults\":{\"line\":{\"color\":\"#2a3f5f\"}},\"annotationdefaults\":{\"arrowcolor\":\"#2a3f5f\",\"arrowhead\":0,\"arrowwidth\":1},\"geo\":{\"bgcolor\":\"white\",\"landcolor\":\"#E5ECF6\",\"subunitcolor\":\"white\",\"showland\":true,\"showlakes\":true,\"lakecolor\":\"white\"},\"title\":{\"x\":0.05},\"mapbox\":{\"style\":\"light\"}}},\"xaxis\":{\"anchor\":\"y\",\"domain\":[0.0,1.0],\"title\":{\"text\":\"Rate\"},\"range\":[0,1],\"tickformat\":\",.0%\"},\"yaxis\":{\"anchor\":\"x\",\"domain\":[0.0,1.0],\"title\":{\"text\":\"benchmark_version\"}},\"legend\":{\"title\":{\"text\":\"variable\"},\"tracegroupgap\":0},\"title\":{\"text\":\"Average metrics for rpqs_eval_list_1+2.csv\"},\"barmode\":\"relative\",\"height\":300,\"width\":800},                        {\"responsive\": true}                    ).then(function(){\n",
       "                            \n",
       "var gd = document.getElementById('3a177671-d9d8-48df-a466-da27225b9187');\n",
       "var x = new MutationObserver(function (mutations, observer) {{\n",
       "        var display = window.getComputedStyle(gd).display;\n",
       "        if (!display || display === 'none') {{\n",
       "            console.log([gd, 'removed!']);\n",
       "            Plotly.purge(gd);\n",
       "            observer.disconnect();\n",
       "        }}\n",
       "}});\n",
       "\n",
       "// Listen for the removal of the full notebook cells\n",
       "var notebookContainer = gd.closest('#notebook-container');\n",
       "if (notebookContainer) {{\n",
       "    x.observe(notebookContainer, {childList: true});\n",
       "}}\n",
       "\n",
       "// Listen for the clearing of the current output cell\n",
       "var outputEl = gd.closest('.output');\n",
       "if (outputEl) {{\n",
       "    x.observe(outputEl, {childList: true});\n",
       "}}\n",
       "\n",
       "                        })                };                });            </script>        </div>"
      ]
     },
     "metadata": {},
     "output_type": "display_data"
    }
   ],
   "source": [
    "# Choose the benchmark version to be studied\n",
    "pdf_list_file = \"rpqs_eval_list_1+2.csv\"\n",
    "benchmark_list = [\"benchmark_32\", \"benchmark_table_32\"]\n",
    "\n",
    "# Select data in the metrics dataframe\n",
    "data_to_plot = (mean_df\n",
    "                .query(\"pdf_list_file==@pdf_list_file\")\n",
    "                .query(\"benchmark_version.isin(@benchmark_list)\")\n",
    "                )\n",
    "\n",
    "# Rename columns\n",
    "new_names_dict = {\n",
    "    \"tp_rate_vs_pdf\": \"True positives\", \n",
    "    \"tn_rate_vs_pdf\": \"True negatives\", \n",
    "    \"fp1_rate_vs_pdf\": \"False positives of kind 1\", \n",
    "    \"fp2_rate_vs_pdf\" : \"False positives of kind 2\", \n",
    "    \"fn_rate_vs_pdf\": \"False negatives\"\n",
    "}\n",
    "data_to_plot = data_to_plot.rename(columns=new_names_dict)\n",
    "\n",
    "# Plot\n",
    "cols_to_show = list(new_names_dict.values())\n",
    "fig = px.bar(data_to_plot, \n",
    "                y=\"benchmark_version\", \n",
    "                x=cols_to_show,  \n",
    "                category_orders={\"variable\": cols_to_show},\n",
    "                color_discrete_sequence=[px.colors.qualitative.Plotly[i] for i in [0, 5, 1, 6, 4]],\n",
    "                height=300,\n",
    "                width=800,\n",
    "                title=f\"Average metrics for {pdf_list_file}\"\n",
    "                )\n",
    "\n",
    "fig.update(layout_xaxis_range = [0,1], layout_xaxis_title=\"Rate\", layout_xaxis_tickformat = ',.0%')\n",
    "fig.show()"
   ]
  },
  {
   "cell_type": "markdown",
   "metadata": {},
   "source": [
    "### Plot metrics per pdf"
   ]
  },
  {
   "cell_type": "markdown",
   "metadata": {},
   "source": [
    "Get the metrics dataframe"
   ]
  },
  {
   "cell_type": "code",
   "execution_count": 7,
   "metadata": {},
   "outputs": [
    {
     "data": {
      "text/html": [
       "<div>\n",
       "<style scoped>\n",
       "    .dataframe tbody tr th:only-of-type {\n",
       "        vertical-align: middle;\n",
       "    }\n",
       "\n",
       "    .dataframe tbody tr th {\n",
       "        vertical-align: top;\n",
       "    }\n",
       "\n",
       "    .dataframe thead th {\n",
       "        text-align: right;\n",
       "    }\n",
       "</style>\n",
       "<table border=\"1\" class=\"dataframe\">\n",
       "  <thead>\n",
       "    <tr style=\"text-align: right;\">\n",
       "      <th></th>\n",
       "      <th>benchmark_version</th>\n",
       "      <th>year</th>\n",
       "      <th>competence</th>\n",
       "      <th>pdf_name</th>\n",
       "      <th>no_value_indic_nb_in_sispea</th>\n",
       "      <th>accuracy_vs_sispea</th>\n",
       "      <th>precision_vs_sispea</th>\n",
       "      <th>recall_vs_sispea</th>\n",
       "      <th>tp_nb_vs_sispea</th>\n",
       "      <th>tn_nb_vs_sispea</th>\n",
       "      <th>...</th>\n",
       "      <th>fn_nb_vs_sispea</th>\n",
       "      <th>no_value_indic_nb_in_pdf</th>\n",
       "      <th>accuracy_vs_pdf</th>\n",
       "      <th>precision_vs_pdf</th>\n",
       "      <th>recall_vs_pdf</th>\n",
       "      <th>tp_nb_vs_pdf</th>\n",
       "      <th>tn_nb_vs_pdf</th>\n",
       "      <th>fp1_nb_vs_pdf</th>\n",
       "      <th>fp2_nb_vs_pdf</th>\n",
       "      <th>fn_nb_vs_pdf</th>\n",
       "    </tr>\n",
       "  </thead>\n",
       "  <tbody>\n",
       "    <tr>\n",
       "      <th>0</th>\n",
       "      <td>benchmark_10</td>\n",
       "      <td>2021</td>\n",
       "      <td>assainissement collectif</td>\n",
       "      <td>RPQS_Abainville_AC_2021.pdf</td>\n",
       "      <td>9.0</td>\n",
       "      <td>0.894737</td>\n",
       "      <td>0.833333</td>\n",
       "      <td>1.000000</td>\n",
       "      <td>10.0</td>\n",
       "      <td>7.0</td>\n",
       "      <td>...</td>\n",
       "      <td>0.0</td>\n",
       "      <td>9</td>\n",
       "      <td>0.894737</td>\n",
       "      <td>0.833333</td>\n",
       "      <td>1.000000</td>\n",
       "      <td>10</td>\n",
       "      <td>7</td>\n",
       "      <td>2</td>\n",
       "      <td>0</td>\n",
       "      <td>0</td>\n",
       "    </tr>\n",
       "    <tr>\n",
       "      <th>1</th>\n",
       "      <td>benchmark_10</td>\n",
       "      <td>2021</td>\n",
       "      <td>assainissement collectif</td>\n",
       "      <td>RPQS_Allain_AC_2021.pdf</td>\n",
       "      <td>4.0</td>\n",
       "      <td>0.526316</td>\n",
       "      <td>0.727273</td>\n",
       "      <td>0.533333</td>\n",
       "      <td>8.0</td>\n",
       "      <td>2.0</td>\n",
       "      <td>...</td>\n",
       "      <td>6.0</td>\n",
       "      <td>10</td>\n",
       "      <td>0.894737</td>\n",
       "      <td>0.818182</td>\n",
       "      <td>1.000000</td>\n",
       "      <td>9</td>\n",
       "      <td>8</td>\n",
       "      <td>2</td>\n",
       "      <td>0</td>\n",
       "      <td>0</td>\n",
       "    </tr>\n",
       "    <tr>\n",
       "      <th>2</th>\n",
       "      <td>benchmark_10</td>\n",
       "      <td>2021</td>\n",
       "      <td>assainissement collectif</td>\n",
       "      <td>RPQS_Alloue_AC_2021.pdf</td>\n",
       "      <td>8.0</td>\n",
       "      <td>0.947368</td>\n",
       "      <td>0.916667</td>\n",
       "      <td>1.000000</td>\n",
       "      <td>11.0</td>\n",
       "      <td>7.0</td>\n",
       "      <td>...</td>\n",
       "      <td>0.0</td>\n",
       "      <td>8</td>\n",
       "      <td>0.947368</td>\n",
       "      <td>0.916667</td>\n",
       "      <td>1.000000</td>\n",
       "      <td>11</td>\n",
       "      <td>7</td>\n",
       "      <td>1</td>\n",
       "      <td>0</td>\n",
       "      <td>0</td>\n",
       "    </tr>\n",
       "    <tr>\n",
       "      <th>3</th>\n",
       "      <td>benchmark_10</td>\n",
       "      <td>2021</td>\n",
       "      <td>assainissement collectif</td>\n",
       "      <td>RPQS_Aubignosc_AC_2021.pdf</td>\n",
       "      <td>1.0</td>\n",
       "      <td>0.105263</td>\n",
       "      <td>0.250000</td>\n",
       "      <td>0.055556</td>\n",
       "      <td>1.0</td>\n",
       "      <td>1.0</td>\n",
       "      <td>...</td>\n",
       "      <td>14.0</td>\n",
       "      <td>16</td>\n",
       "      <td>0.842105</td>\n",
       "      <td>0.250000</td>\n",
       "      <td>0.333333</td>\n",
       "      <td>1</td>\n",
       "      <td>15</td>\n",
       "      <td>1</td>\n",
       "      <td>2</td>\n",
       "      <td>0</td>\n",
       "    </tr>\n",
       "    <tr>\n",
       "      <th>4</th>\n",
       "      <td>benchmark_10</td>\n",
       "      <td>2021</td>\n",
       "      <td>assainissement collectif</td>\n",
       "      <td>RPQS_Autun_AC_2021.pdf</td>\n",
       "      <td>0.0</td>\n",
       "      <td>0.578947</td>\n",
       "      <td>0.611111</td>\n",
       "      <td>0.578947</td>\n",
       "      <td>11.0</td>\n",
       "      <td>0.0</td>\n",
       "      <td>...</td>\n",
       "      <td>1.0</td>\n",
       "      <td>4</td>\n",
       "      <td>0.842105</td>\n",
       "      <td>0.833333</td>\n",
       "      <td>1.000000</td>\n",
       "      <td>15</td>\n",
       "      <td>1</td>\n",
       "      <td>3</td>\n",
       "      <td>0</td>\n",
       "      <td>0</td>\n",
       "    </tr>\n",
       "  </tbody>\n",
       "</table>\n",
       "<p>5 rows × 22 columns</p>\n",
       "</div>"
      ],
      "text/plain": [
       "  benchmark_version  year                competence  \\\n",
       "0      benchmark_10  2021  assainissement collectif   \n",
       "1      benchmark_10  2021  assainissement collectif   \n",
       "2      benchmark_10  2021  assainissement collectif   \n",
       "3      benchmark_10  2021  assainissement collectif   \n",
       "4      benchmark_10  2021  assainissement collectif   \n",
       "\n",
       "                      pdf_name  no_value_indic_nb_in_sispea  \\\n",
       "0  RPQS_Abainville_AC_2021.pdf                          9.0   \n",
       "1      RPQS_Allain_AC_2021.pdf                          4.0   \n",
       "2      RPQS_Alloue_AC_2021.pdf                          8.0   \n",
       "3   RPQS_Aubignosc_AC_2021.pdf                          1.0   \n",
       "4       RPQS_Autun_AC_2021.pdf                          0.0   \n",
       "\n",
       "   accuracy_vs_sispea  precision_vs_sispea  recall_vs_sispea  tp_nb_vs_sispea  \\\n",
       "0            0.894737             0.833333          1.000000             10.0   \n",
       "1            0.526316             0.727273          0.533333              8.0   \n",
       "2            0.947368             0.916667          1.000000             11.0   \n",
       "3            0.105263             0.250000          0.055556              1.0   \n",
       "4            0.578947             0.611111          0.578947             11.0   \n",
       "\n",
       "   tn_nb_vs_sispea  ...  fn_nb_vs_sispea  no_value_indic_nb_in_pdf  \\\n",
       "0              7.0  ...              0.0                         9   \n",
       "1              2.0  ...              6.0                        10   \n",
       "2              7.0  ...              0.0                         8   \n",
       "3              1.0  ...             14.0                        16   \n",
       "4              0.0  ...              1.0                         4   \n",
       "\n",
       "   accuracy_vs_pdf  precision_vs_pdf  recall_vs_pdf  tp_nb_vs_pdf  \\\n",
       "0         0.894737          0.833333       1.000000            10   \n",
       "1         0.894737          0.818182       1.000000             9   \n",
       "2         0.947368          0.916667       1.000000            11   \n",
       "3         0.842105          0.250000       0.333333             1   \n",
       "4         0.842105          0.833333       1.000000            15   \n",
       "\n",
       "   tn_nb_vs_pdf  fp1_nb_vs_pdf  fp2_nb_vs_pdf  fn_nb_vs_pdf  \n",
       "0             7              2              0             0  \n",
       "1             8              2              0             0  \n",
       "2             7              1              0             0  \n",
       "3            15              1              2             0  \n",
       "4             1              3              0             0  \n",
       "\n",
       "[5 rows x 22 columns]"
      ]
     },
     "execution_count": 7,
     "metadata": {},
     "output_type": "execute_result"
    }
   ],
   "source": [
    "df_per_pdf = metrics_calc.df_per_pdf\n",
    "df_per_pdf.head()"
   ]
  },
  {
   "cell_type": "markdown",
   "metadata": {},
   "source": [
    "Plot the accuracy per pdf"
   ]
  },
  {
   "cell_type": "code",
   "execution_count": null,
   "metadata": {},
   "outputs": [
    {
     "data": {
      "application/vnd.plotly.v1+json": {
       "config": {
        "plotlyServerURL": "https://plot.ly"
       },
       "data": [
        {
         "alignmentgroup": "True",
         "hovertemplate": "benchmark_version=benchmark_32<br>accuracy_vs_pdf=%{x}<br>pdf_name=%{y}<extra></extra>",
         "legendgroup": "benchmark_32",
         "marker": {
          "color": "#636efa",
          "pattern": {
           "shape": ""
          }
         },
         "name": "benchmark_32",
         "offsetgroup": "benchmark_32",
         "orientation": "h",
         "showlegend": true,
         "textposition": "auto",
         "type": "bar",
         "x": [
          0.631578947368421,
          0.631578947368421,
          0.6842105263157895,
          0.7368421052631579,
          0.7368421052631579,
          0.7368421052631579,
          0.7894736842105263,
          0.7894736842105263,
          0.7894736842105263,
          0.7894736842105263,
          0.8421052631578947,
          0.8421052631578947,
          0.8421052631578947,
          0.8947368421052632,
          0.8947368421052632,
          0.8947368421052632,
          0.8947368421052632,
          0.8947368421052632,
          0.8947368421052632,
          0.8947368421052632,
          0.8947368421052632,
          0.9473684210526316,
          0.9473684210526316,
          0.9473684210526316,
          0.9473684210526316,
          0.9473684210526316,
          0.9473684210526316,
          0.9473684210526316,
          0.9473684210526316,
          0.9473684210526316,
          0.9473684210526316,
          1,
          1,
          1,
          1,
          1,
          1,
          1,
          1,
          1,
          1,
          1,
          1,
          1,
          1
         ],
         "xaxis": "x",
         "y": [
          "RPQS_Estezargues_AC_2021.pdf",
          "RPQS_Saint-Trivier-sur-Moignans_AC_2022.pdf",
          "RPQS_Mionnay_AC_2022.pdf",
          "RPQS_Genouilly_AC_2021.pdf",
          "RPQS_Treverien_AC_2023.pdf",
          "RPQS_Junas_AC_2021.pdf",
          "RPQS_Ahun_AC_2021.pdf",
          "RPQS_Chalautre-la-Petite_AC_2019.pdf",
          "RPQS_Cartelegue_AC_2023.pdf",
          "RPQS_Saint-Mihiel_AC_2020.pdf",
          "RPQS_Cussy-les-Forges_AC_2021.pdf",
          "RPQS_Artaix_AC_2019.pdf",
          "RPQS_Saint-Laurent-les-Tours_AC_2021.pdf",
          "RPQS_Chantrigne_AC_2021.pdf",
          "RPQS_Amagne_AC_2022.pdf",
          "RPQS_Grolejac_AC_2021.pdf",
          "RPQS_Neulise_AC_2019.pdf",
          "RPQS_Tournissan_AC_2022.pdf",
          "RPQS_Trie-Chateau_AC_2021.pdf",
          "RPQS_Rully_AC_2021.pdf",
          "RPQS_Aubignosc_AC_2021.pdf",
          "RPQS_Nanteuil-le-Haudouin_AC_2020.pdf",
          "RPQS_Sartrouville_AC_2019.pdf",
          "RPQS_Verneuil-en-Halatte_AC_2019.pdf",
          "RPQS_Marcille-Raoul_AC_2022.pdf",
          "RPQS_Jons_AC_2022.pdf",
          "RPQS_LaSalvetat-Peyrales_AC_2022.pdf",
          "RPQS_Merlevenez_AC_2021.pdf",
          "RPQS_Corbel_AC_2022.pdf",
          "RPQS_Charchigne_AC_2022.pdf",
          "RPQS_Autun_AC_2021.pdf",
          "RPQS_Allain_AC_2021.pdf",
          "RPQS_Montreal_AC_2022.pdf",
          "RPQS_Marthon_AC_2021.pdf",
          "RPQS_LaCorneEnVexin_AC_2021.pdf",
          "RPQS_LeTeil_AC_2018.pdf",
          "RPQS_Gonfaron_AC_2018.pdf",
          "RPQS_Durstel_AC_2021.pdf",
          "RPQS_Illats_AC_2021.pdf",
          "RPQS_Brillac_AC_2021.pdf",
          "RPQS_Alloue_AC_2021.pdf",
          "RAD_Cabasse_AC_2022.pdf",
          "RPQS_Abainville_AC_2021.pdf",
          "RPQS_Reyssouze_AC_2022.pdf",
          "RPQS_Reugny_AC_2022.pdf"
         ],
         "yaxis": "y"
        },
        {
         "alignmentgroup": "True",
         "hovertemplate": "benchmark_version=benchmark_table_32<br>accuracy_vs_pdf=%{x}<br>pdf_name=%{y}<extra></extra>",
         "legendgroup": "benchmark_table_32",
         "marker": {
          "color": "#EF553B",
          "pattern": {
           "shape": ""
          }
         },
         "name": "benchmark_table_32",
         "offsetgroup": "benchmark_table_32",
         "orientation": "h",
         "showlegend": true,
         "textposition": "auto",
         "type": "bar",
         "x": [
          0.5789473684210527,
          0,
          0.1578947368421052,
          0.631578947368421,
          0.4736842105263157,
          0.4736842105263157,
          0.6842105263157895,
          0.7368421052631579,
          0.1052631578947368,
          0.8421052631578947,
          0.8421052631578947,
          0.631578947368421,
          0.8947368421052632,
          0.7368421052631579,
          0.8947368421052632,
          0.8947368421052632,
          0.7368421052631579,
          0.8947368421052632,
          0.8421052631578947,
          0.8947368421052632,
          0.8421052631578947,
          0.8947368421052632,
          1,
          0.9473684210526316,
          0.7894736842105263,
          0.3157894736842105,
          0.8947368421052632,
          0.3684210526315789,
          0.8947368421052632,
          0.8947368421052632,
          0.2105263157894736,
          1,
          1,
          0.8947368421052632,
          0.8421052631578947,
          0.9473684210526316,
          0.3684210526315789,
          0.4210526315789473,
          0.8421052631578947,
          0.8947368421052632,
          0.9473684210526316,
          1,
          1,
          1,
          0.8947368421052632
         ],
         "xaxis": "x",
         "y": [
          "RPQS_Estezargues_AC_2021.pdf",
          "RPQS_Saint-Trivier-sur-Moignans_AC_2022.pdf",
          "RPQS_Mionnay_AC_2022.pdf",
          "RPQS_Genouilly_AC_2021.pdf",
          "RPQS_Treverien_AC_2023.pdf",
          "RPQS_Junas_AC_2021.pdf",
          "RPQS_Ahun_AC_2021.pdf",
          "RPQS_Chalautre-la-Petite_AC_2019.pdf",
          "RPQS_Cartelegue_AC_2023.pdf",
          "RPQS_Saint-Mihiel_AC_2020.pdf",
          "RPQS_Cussy-les-Forges_AC_2021.pdf",
          "RPQS_Artaix_AC_2019.pdf",
          "RPQS_Saint-Laurent-les-Tours_AC_2021.pdf",
          "RPQS_Chantrigne_AC_2021.pdf",
          "RPQS_Amagne_AC_2022.pdf",
          "RPQS_Grolejac_AC_2021.pdf",
          "RPQS_Neulise_AC_2019.pdf",
          "RPQS_Tournissan_AC_2022.pdf",
          "RPQS_Trie-Chateau_AC_2021.pdf",
          "RPQS_Rully_AC_2021.pdf",
          "RPQS_Aubignosc_AC_2021.pdf",
          "RPQS_Nanteuil-le-Haudouin_AC_2020.pdf",
          "RPQS_Sartrouville_AC_2019.pdf",
          "RPQS_Verneuil-en-Halatte_AC_2019.pdf",
          "RPQS_Marcille-Raoul_AC_2022.pdf",
          "RPQS_Jons_AC_2022.pdf",
          "RPQS_LaSalvetat-Peyrales_AC_2022.pdf",
          "RPQS_Merlevenez_AC_2021.pdf",
          "RPQS_Corbel_AC_2022.pdf",
          "RPQS_Charchigne_AC_2022.pdf",
          "RPQS_Autun_AC_2021.pdf",
          "RPQS_Allain_AC_2021.pdf",
          "RPQS_Montreal_AC_2022.pdf",
          "RPQS_Marthon_AC_2021.pdf",
          "RPQS_LaCorneEnVexin_AC_2021.pdf",
          "RPQS_LeTeil_AC_2018.pdf",
          "RPQS_Gonfaron_AC_2018.pdf",
          "RPQS_Durstel_AC_2021.pdf",
          "RPQS_Illats_AC_2021.pdf",
          "RPQS_Brillac_AC_2021.pdf",
          "RPQS_Alloue_AC_2021.pdf",
          "RAD_Cabasse_AC_2022.pdf",
          "RPQS_Abainville_AC_2021.pdf",
          "RPQS_Reyssouze_AC_2022.pdf",
          "RPQS_Reugny_AC_2022.pdf"
         ],
         "yaxis": "y"
        }
       ],
       "layout": {
        "barmode": "group",
        "height": 1200,
        "legend": {
         "title": {
          "text": "benchmark_version"
         },
         "tracegroupgap": 0
        },
        "template": {
         "data": {
          "bar": [
           {
            "error_x": {
             "color": "#2a3f5f"
            },
            "error_y": {
             "color": "#2a3f5f"
            },
            "marker": {
             "line": {
              "color": "#E5ECF6",
              "width": 0.5
             },
             "pattern": {
              "fillmode": "overlay",
              "size": 10,
              "solidity": 0.2
             }
            },
            "type": "bar"
           }
          ],
          "barpolar": [
           {
            "marker": {
             "line": {
              "color": "#E5ECF6",
              "width": 0.5
             },
             "pattern": {
              "fillmode": "overlay",
              "size": 10,
              "solidity": 0.2
             }
            },
            "type": "barpolar"
           }
          ],
          "carpet": [
           {
            "aaxis": {
             "endlinecolor": "#2a3f5f",
             "gridcolor": "white",
             "linecolor": "white",
             "minorgridcolor": "white",
             "startlinecolor": "#2a3f5f"
            },
            "baxis": {
             "endlinecolor": "#2a3f5f",
             "gridcolor": "white",
             "linecolor": "white",
             "minorgridcolor": "white",
             "startlinecolor": "#2a3f5f"
            },
            "type": "carpet"
           }
          ],
          "choropleth": [
           {
            "colorbar": {
             "outlinewidth": 0,
             "ticks": ""
            },
            "type": "choropleth"
           }
          ],
          "contour": [
           {
            "colorbar": {
             "outlinewidth": 0,
             "ticks": ""
            },
            "colorscale": [
             [
              0,
              "#0d0887"
             ],
             [
              0.1111111111111111,
              "#46039f"
             ],
             [
              0.2222222222222222,
              "#7201a8"
             ],
             [
              0.3333333333333333,
              "#9c179e"
             ],
             [
              0.4444444444444444,
              "#bd3786"
             ],
             [
              0.5555555555555556,
              "#d8576b"
             ],
             [
              0.6666666666666666,
              "#ed7953"
             ],
             [
              0.7777777777777778,
              "#fb9f3a"
             ],
             [
              0.8888888888888888,
              "#fdca26"
             ],
             [
              1,
              "#f0f921"
             ]
            ],
            "type": "contour"
           }
          ],
          "contourcarpet": [
           {
            "colorbar": {
             "outlinewidth": 0,
             "ticks": ""
            },
            "type": "contourcarpet"
           }
          ],
          "heatmap": [
           {
            "colorbar": {
             "outlinewidth": 0,
             "ticks": ""
            },
            "colorscale": [
             [
              0,
              "#0d0887"
             ],
             [
              0.1111111111111111,
              "#46039f"
             ],
             [
              0.2222222222222222,
              "#7201a8"
             ],
             [
              0.3333333333333333,
              "#9c179e"
             ],
             [
              0.4444444444444444,
              "#bd3786"
             ],
             [
              0.5555555555555556,
              "#d8576b"
             ],
             [
              0.6666666666666666,
              "#ed7953"
             ],
             [
              0.7777777777777778,
              "#fb9f3a"
             ],
             [
              0.8888888888888888,
              "#fdca26"
             ],
             [
              1,
              "#f0f921"
             ]
            ],
            "type": "heatmap"
           }
          ],
          "heatmapgl": [
           {
            "colorbar": {
             "outlinewidth": 0,
             "ticks": ""
            },
            "colorscale": [
             [
              0,
              "#0d0887"
             ],
             [
              0.1111111111111111,
              "#46039f"
             ],
             [
              0.2222222222222222,
              "#7201a8"
             ],
             [
              0.3333333333333333,
              "#9c179e"
             ],
             [
              0.4444444444444444,
              "#bd3786"
             ],
             [
              0.5555555555555556,
              "#d8576b"
             ],
             [
              0.6666666666666666,
              "#ed7953"
             ],
             [
              0.7777777777777778,
              "#fb9f3a"
             ],
             [
              0.8888888888888888,
              "#fdca26"
             ],
             [
              1,
              "#f0f921"
             ]
            ],
            "type": "heatmapgl"
           }
          ],
          "histogram": [
           {
            "marker": {
             "pattern": {
              "fillmode": "overlay",
              "size": 10,
              "solidity": 0.2
             }
            },
            "type": "histogram"
           }
          ],
          "histogram2d": [
           {
            "colorbar": {
             "outlinewidth": 0,
             "ticks": ""
            },
            "colorscale": [
             [
              0,
              "#0d0887"
             ],
             [
              0.1111111111111111,
              "#46039f"
             ],
             [
              0.2222222222222222,
              "#7201a8"
             ],
             [
              0.3333333333333333,
              "#9c179e"
             ],
             [
              0.4444444444444444,
              "#bd3786"
             ],
             [
              0.5555555555555556,
              "#d8576b"
             ],
             [
              0.6666666666666666,
              "#ed7953"
             ],
             [
              0.7777777777777778,
              "#fb9f3a"
             ],
             [
              0.8888888888888888,
              "#fdca26"
             ],
             [
              1,
              "#f0f921"
             ]
            ],
            "type": "histogram2d"
           }
          ],
          "histogram2dcontour": [
           {
            "colorbar": {
             "outlinewidth": 0,
             "ticks": ""
            },
            "colorscale": [
             [
              0,
              "#0d0887"
             ],
             [
              0.1111111111111111,
              "#46039f"
             ],
             [
              0.2222222222222222,
              "#7201a8"
             ],
             [
              0.3333333333333333,
              "#9c179e"
             ],
             [
              0.4444444444444444,
              "#bd3786"
             ],
             [
              0.5555555555555556,
              "#d8576b"
             ],
             [
              0.6666666666666666,
              "#ed7953"
             ],
             [
              0.7777777777777778,
              "#fb9f3a"
             ],
             [
              0.8888888888888888,
              "#fdca26"
             ],
             [
              1,
              "#f0f921"
             ]
            ],
            "type": "histogram2dcontour"
           }
          ],
          "mesh3d": [
           {
            "colorbar": {
             "outlinewidth": 0,
             "ticks": ""
            },
            "type": "mesh3d"
           }
          ],
          "parcoords": [
           {
            "line": {
             "colorbar": {
              "outlinewidth": 0,
              "ticks": ""
             }
            },
            "type": "parcoords"
           }
          ],
          "pie": [
           {
            "automargin": true,
            "type": "pie"
           }
          ],
          "scatter": [
           {
            "fillpattern": {
             "fillmode": "overlay",
             "size": 10,
             "solidity": 0.2
            },
            "type": "scatter"
           }
          ],
          "scatter3d": [
           {
            "line": {
             "colorbar": {
              "outlinewidth": 0,
              "ticks": ""
             }
            },
            "marker": {
             "colorbar": {
              "outlinewidth": 0,
              "ticks": ""
             }
            },
            "type": "scatter3d"
           }
          ],
          "scattercarpet": [
           {
            "marker": {
             "colorbar": {
              "outlinewidth": 0,
              "ticks": ""
             }
            },
            "type": "scattercarpet"
           }
          ],
          "scattergeo": [
           {
            "marker": {
             "colorbar": {
              "outlinewidth": 0,
              "ticks": ""
             }
            },
            "type": "scattergeo"
           }
          ],
          "scattergl": [
           {
            "marker": {
             "colorbar": {
              "outlinewidth": 0,
              "ticks": ""
             }
            },
            "type": "scattergl"
           }
          ],
          "scattermapbox": [
           {
            "marker": {
             "colorbar": {
              "outlinewidth": 0,
              "ticks": ""
             }
            },
            "type": "scattermapbox"
           }
          ],
          "scatterpolar": [
           {
            "marker": {
             "colorbar": {
              "outlinewidth": 0,
              "ticks": ""
             }
            },
            "type": "scatterpolar"
           }
          ],
          "scatterpolargl": [
           {
            "marker": {
             "colorbar": {
              "outlinewidth": 0,
              "ticks": ""
             }
            },
            "type": "scatterpolargl"
           }
          ],
          "scatterternary": [
           {
            "marker": {
             "colorbar": {
              "outlinewidth": 0,
              "ticks": ""
             }
            },
            "type": "scatterternary"
           }
          ],
          "surface": [
           {
            "colorbar": {
             "outlinewidth": 0,
             "ticks": ""
            },
            "colorscale": [
             [
              0,
              "#0d0887"
             ],
             [
              0.1111111111111111,
              "#46039f"
             ],
             [
              0.2222222222222222,
              "#7201a8"
             ],
             [
              0.3333333333333333,
              "#9c179e"
             ],
             [
              0.4444444444444444,
              "#bd3786"
             ],
             [
              0.5555555555555556,
              "#d8576b"
             ],
             [
              0.6666666666666666,
              "#ed7953"
             ],
             [
              0.7777777777777778,
              "#fb9f3a"
             ],
             [
              0.8888888888888888,
              "#fdca26"
             ],
             [
              1,
              "#f0f921"
             ]
            ],
            "type": "surface"
           }
          ],
          "table": [
           {
            "cells": {
             "fill": {
              "color": "#EBF0F8"
             },
             "line": {
              "color": "white"
             }
            },
            "header": {
             "fill": {
              "color": "#C8D4E3"
             },
             "line": {
              "color": "white"
             }
            },
            "type": "table"
           }
          ]
         },
         "layout": {
          "annotationdefaults": {
           "arrowcolor": "#2a3f5f",
           "arrowhead": 0,
           "arrowwidth": 1
          },
          "autotypenumbers": "strict",
          "coloraxis": {
           "colorbar": {
            "outlinewidth": 0,
            "ticks": ""
           }
          },
          "colorscale": {
           "diverging": [
            [
             0,
             "#8e0152"
            ],
            [
             0.1,
             "#c51b7d"
            ],
            [
             0.2,
             "#de77ae"
            ],
            [
             0.3,
             "#f1b6da"
            ],
            [
             0.4,
             "#fde0ef"
            ],
            [
             0.5,
             "#f7f7f7"
            ],
            [
             0.6,
             "#e6f5d0"
            ],
            [
             0.7,
             "#b8e186"
            ],
            [
             0.8,
             "#7fbc41"
            ],
            [
             0.9,
             "#4d9221"
            ],
            [
             1,
             "#276419"
            ]
           ],
           "sequential": [
            [
             0,
             "#0d0887"
            ],
            [
             0.1111111111111111,
             "#46039f"
            ],
            [
             0.2222222222222222,
             "#7201a8"
            ],
            [
             0.3333333333333333,
             "#9c179e"
            ],
            [
             0.4444444444444444,
             "#bd3786"
            ],
            [
             0.5555555555555556,
             "#d8576b"
            ],
            [
             0.6666666666666666,
             "#ed7953"
            ],
            [
             0.7777777777777778,
             "#fb9f3a"
            ],
            [
             0.8888888888888888,
             "#fdca26"
            ],
            [
             1,
             "#f0f921"
            ]
           ],
           "sequentialminus": [
            [
             0,
             "#0d0887"
            ],
            [
             0.1111111111111111,
             "#46039f"
            ],
            [
             0.2222222222222222,
             "#7201a8"
            ],
            [
             0.3333333333333333,
             "#9c179e"
            ],
            [
             0.4444444444444444,
             "#bd3786"
            ],
            [
             0.5555555555555556,
             "#d8576b"
            ],
            [
             0.6666666666666666,
             "#ed7953"
            ],
            [
             0.7777777777777778,
             "#fb9f3a"
            ],
            [
             0.8888888888888888,
             "#fdca26"
            ],
            [
             1,
             "#f0f921"
            ]
           ]
          },
          "colorway": [
           "#636efa",
           "#EF553B",
           "#00cc96",
           "#ab63fa",
           "#FFA15A",
           "#19d3f3",
           "#FF6692",
           "#B6E880",
           "#FF97FF",
           "#FECB52"
          ],
          "font": {
           "color": "#2a3f5f"
          },
          "geo": {
           "bgcolor": "white",
           "lakecolor": "white",
           "landcolor": "#E5ECF6",
           "showlakes": true,
           "showland": true,
           "subunitcolor": "white"
          },
          "hoverlabel": {
           "align": "left"
          },
          "hovermode": "closest",
          "mapbox": {
           "style": "light"
          },
          "paper_bgcolor": "white",
          "plot_bgcolor": "#E5ECF6",
          "polar": {
           "angularaxis": {
            "gridcolor": "white",
            "linecolor": "white",
            "ticks": ""
           },
           "bgcolor": "#E5ECF6",
           "radialaxis": {
            "gridcolor": "white",
            "linecolor": "white",
            "ticks": ""
           }
          },
          "scene": {
           "xaxis": {
            "backgroundcolor": "#E5ECF6",
            "gridcolor": "white",
            "gridwidth": 2,
            "linecolor": "white",
            "showbackground": true,
            "ticks": "",
            "zerolinecolor": "white"
           },
           "yaxis": {
            "backgroundcolor": "#E5ECF6",
            "gridcolor": "white",
            "gridwidth": 2,
            "linecolor": "white",
            "showbackground": true,
            "ticks": "",
            "zerolinecolor": "white"
           },
           "zaxis": {
            "backgroundcolor": "#E5ECF6",
            "gridcolor": "white",
            "gridwidth": 2,
            "linecolor": "white",
            "showbackground": true,
            "ticks": "",
            "zerolinecolor": "white"
           }
          },
          "shapedefaults": {
           "line": {
            "color": "#2a3f5f"
           }
          },
          "ternary": {
           "aaxis": {
            "gridcolor": "white",
            "linecolor": "white",
            "ticks": ""
           },
           "baxis": {
            "gridcolor": "white",
            "linecolor": "white",
            "ticks": ""
           },
           "bgcolor": "#E5ECF6",
           "caxis": {
            "gridcolor": "white",
            "linecolor": "white",
            "ticks": ""
           }
          },
          "title": {
           "x": 0.05
          },
          "xaxis": {
           "automargin": true,
           "gridcolor": "white",
           "linecolor": "white",
           "ticks": "",
           "title": {
            "standoff": 15
           },
           "zerolinecolor": "white",
           "zerolinewidth": 2
          },
          "yaxis": {
           "automargin": true,
           "gridcolor": "white",
           "linecolor": "white",
           "ticks": "",
           "title": {
            "standoff": 15
           },
           "zerolinecolor": "white",
           "zerolinewidth": 2
          }
         }
        },
        "title": {
         "text": "Accuracy per pdf (vs_pdf)"
        },
        "width": 800,
        "xaxis": {
         "anchor": "y",
         "domain": [
          0,
          1
         ],
         "range": [
          0,
          1
         ],
         "tickformat": ",.0%",
         "title": {
          "text": "Accuracy"
         }
        },
        "yaxis": {
         "anchor": "x",
         "domain": [
          0,
          1
         ],
         "title": {
          "text": "pdf_name"
         }
        }
       }
      },
      "text/html": [
       "<div>                            <div id=\"a853085b-0769-4d0f-84b2-fa5fe7d22598\" class=\"plotly-graph-div\" style=\"height:1200px; width:800px;\"></div>            <script type=\"text/javascript\">                require([\"plotly\"], function(Plotly) {                    window.PLOTLYENV=window.PLOTLYENV || {};                                    if (document.getElementById(\"a853085b-0769-4d0f-84b2-fa5fe7d22598\")) {                    Plotly.newPlot(                        \"a853085b-0769-4d0f-84b2-fa5fe7d22598\",                        [{\"alignmentgroup\":\"True\",\"hovertemplate\":\"benchmark_version=benchmark_32\\u003cbr\\u003eaccuracy_vs_pdf=%{x}\\u003cbr\\u003epdf_name=%{y}\\u003cextra\\u003e\\u003c\\u002fextra\\u003e\",\"legendgroup\":\"benchmark_32\",\"marker\":{\"color\":\"#636efa\",\"pattern\":{\"shape\":\"\"}},\"name\":\"benchmark_32\",\"offsetgroup\":\"benchmark_32\",\"orientation\":\"h\",\"showlegend\":true,\"textposition\":\"auto\",\"x\":[0.631578947368421,0.631578947368421,0.6842105263157895,0.7368421052631579,0.7368421052631579,0.7368421052631579,0.7894736842105263,0.7894736842105263,0.7894736842105263,0.7894736842105263,0.8421052631578947,0.8421052631578947,0.8421052631578947,0.8947368421052632,0.8947368421052632,0.8947368421052632,0.8947368421052632,0.8947368421052632,0.8947368421052632,0.8947368421052632,0.8947368421052632,0.9473684210526316,0.9473684210526316,0.9473684210526316,0.9473684210526316,0.9473684210526316,0.9473684210526316,0.9473684210526316,0.9473684210526316,0.9473684210526316,0.9473684210526316,1.0,1.0,1.0,1.0,1.0,1.0,1.0,1.0,1.0,1.0,1.0,1.0,1.0,1.0],\"xaxis\":\"x\",\"y\":[\"RPQS_Estezargues_AC_2021.pdf\",\"RPQS_Saint-Trivier-sur-Moignans_AC_2022.pdf\",\"RPQS_Mionnay_AC_2022.pdf\",\"RPQS_Genouilly_AC_2021.pdf\",\"RPQS_Treverien_AC_2023.pdf\",\"RPQS_Junas_AC_2021.pdf\",\"RPQS_Ahun_AC_2021.pdf\",\"RPQS_Chalautre-la-Petite_AC_2019.pdf\",\"RPQS_Cartelegue_AC_2023.pdf\",\"RPQS_Saint-Mihiel_AC_2020.pdf\",\"RPQS_Cussy-les-Forges_AC_2021.pdf\",\"RPQS_Artaix_AC_2019.pdf\",\"RPQS_Saint-Laurent-les-Tours_AC_2021.pdf\",\"RPQS_Chantrigne_AC_2021.pdf\",\"RPQS_Amagne_AC_2022.pdf\",\"RPQS_Grolejac_AC_2021.pdf\",\"RPQS_Neulise_AC_2019.pdf\",\"RPQS_Tournissan_AC_2022.pdf\",\"RPQS_Trie-Chateau_AC_2021.pdf\",\"RPQS_Rully_AC_2021.pdf\",\"RPQS_Aubignosc_AC_2021.pdf\",\"RPQS_Nanteuil-le-Haudouin_AC_2020.pdf\",\"RPQS_Sartrouville_AC_2019.pdf\",\"RPQS_Verneuil-en-Halatte_AC_2019.pdf\",\"RPQS_Marcille-Raoul_AC_2022.pdf\",\"RPQS_Jons_AC_2022.pdf\",\"RPQS_LaSalvetat-Peyrales_AC_2022.pdf\",\"RPQS_Merlevenez_AC_2021.pdf\",\"RPQS_Corbel_AC_2022.pdf\",\"RPQS_Charchigne_AC_2022.pdf\",\"RPQS_Autun_AC_2021.pdf\",\"RPQS_Allain_AC_2021.pdf\",\"RPQS_Montreal_AC_2022.pdf\",\"RPQS_Marthon_AC_2021.pdf\",\"RPQS_LaCorneEnVexin_AC_2021.pdf\",\"RPQS_LeTeil_AC_2018.pdf\",\"RPQS_Gonfaron_AC_2018.pdf\",\"RPQS_Durstel_AC_2021.pdf\",\"RPQS_Illats_AC_2021.pdf\",\"RPQS_Brillac_AC_2021.pdf\",\"RPQS_Alloue_AC_2021.pdf\",\"RAD_Cabasse_AC_2022.pdf\",\"RPQS_Abainville_AC_2021.pdf\",\"RPQS_Reyssouze_AC_2022.pdf\",\"RPQS_Reugny_AC_2022.pdf\"],\"yaxis\":\"y\",\"type\":\"bar\"},{\"alignmentgroup\":\"True\",\"hovertemplate\":\"benchmark_version=benchmark_table_32\\u003cbr\\u003eaccuracy_vs_pdf=%{x}\\u003cbr\\u003epdf_name=%{y}\\u003cextra\\u003e\\u003c\\u002fextra\\u003e\",\"legendgroup\":\"benchmark_table_32\",\"marker\":{\"color\":\"#EF553B\",\"pattern\":{\"shape\":\"\"}},\"name\":\"benchmark_table_32\",\"offsetgroup\":\"benchmark_table_32\",\"orientation\":\"h\",\"showlegend\":true,\"textposition\":\"auto\",\"x\":[0.5789473684210527,0.0,0.1578947368421052,0.631578947368421,0.4736842105263157,0.4736842105263157,0.6842105263157895,0.7368421052631579,0.1052631578947368,0.8421052631578947,0.8421052631578947,0.631578947368421,0.8947368421052632,0.7368421052631579,0.8947368421052632,0.8947368421052632,0.7368421052631579,0.8947368421052632,0.8421052631578947,0.8947368421052632,0.8421052631578947,0.8947368421052632,1.0,0.9473684210526316,0.7894736842105263,0.3157894736842105,0.8947368421052632,0.3684210526315789,0.8947368421052632,0.8947368421052632,0.2105263157894736,1.0,1.0,0.8947368421052632,0.8421052631578947,0.9473684210526316,0.3684210526315789,0.4210526315789473,0.8421052631578947,0.8947368421052632,0.9473684210526316,1.0,1.0,1.0,0.8947368421052632],\"xaxis\":\"x\",\"y\":[\"RPQS_Estezargues_AC_2021.pdf\",\"RPQS_Saint-Trivier-sur-Moignans_AC_2022.pdf\",\"RPQS_Mionnay_AC_2022.pdf\",\"RPQS_Genouilly_AC_2021.pdf\",\"RPQS_Treverien_AC_2023.pdf\",\"RPQS_Junas_AC_2021.pdf\",\"RPQS_Ahun_AC_2021.pdf\",\"RPQS_Chalautre-la-Petite_AC_2019.pdf\",\"RPQS_Cartelegue_AC_2023.pdf\",\"RPQS_Saint-Mihiel_AC_2020.pdf\",\"RPQS_Cussy-les-Forges_AC_2021.pdf\",\"RPQS_Artaix_AC_2019.pdf\",\"RPQS_Saint-Laurent-les-Tours_AC_2021.pdf\",\"RPQS_Chantrigne_AC_2021.pdf\",\"RPQS_Amagne_AC_2022.pdf\",\"RPQS_Grolejac_AC_2021.pdf\",\"RPQS_Neulise_AC_2019.pdf\",\"RPQS_Tournissan_AC_2022.pdf\",\"RPQS_Trie-Chateau_AC_2021.pdf\",\"RPQS_Rully_AC_2021.pdf\",\"RPQS_Aubignosc_AC_2021.pdf\",\"RPQS_Nanteuil-le-Haudouin_AC_2020.pdf\",\"RPQS_Sartrouville_AC_2019.pdf\",\"RPQS_Verneuil-en-Halatte_AC_2019.pdf\",\"RPQS_Marcille-Raoul_AC_2022.pdf\",\"RPQS_Jons_AC_2022.pdf\",\"RPQS_LaSalvetat-Peyrales_AC_2022.pdf\",\"RPQS_Merlevenez_AC_2021.pdf\",\"RPQS_Corbel_AC_2022.pdf\",\"RPQS_Charchigne_AC_2022.pdf\",\"RPQS_Autun_AC_2021.pdf\",\"RPQS_Allain_AC_2021.pdf\",\"RPQS_Montreal_AC_2022.pdf\",\"RPQS_Marthon_AC_2021.pdf\",\"RPQS_LaCorneEnVexin_AC_2021.pdf\",\"RPQS_LeTeil_AC_2018.pdf\",\"RPQS_Gonfaron_AC_2018.pdf\",\"RPQS_Durstel_AC_2021.pdf\",\"RPQS_Illats_AC_2021.pdf\",\"RPQS_Brillac_AC_2021.pdf\",\"RPQS_Alloue_AC_2021.pdf\",\"RAD_Cabasse_AC_2022.pdf\",\"RPQS_Abainville_AC_2021.pdf\",\"RPQS_Reyssouze_AC_2022.pdf\",\"RPQS_Reugny_AC_2022.pdf\"],\"yaxis\":\"y\",\"type\":\"bar\"}],                        {\"template\":{\"data\":{\"histogram2dcontour\":[{\"type\":\"histogram2dcontour\",\"colorbar\":{\"outlinewidth\":0,\"ticks\":\"\"},\"colorscale\":[[0.0,\"#0d0887\"],[0.1111111111111111,\"#46039f\"],[0.2222222222222222,\"#7201a8\"],[0.3333333333333333,\"#9c179e\"],[0.4444444444444444,\"#bd3786\"],[0.5555555555555556,\"#d8576b\"],[0.6666666666666666,\"#ed7953\"],[0.7777777777777778,\"#fb9f3a\"],[0.8888888888888888,\"#fdca26\"],[1.0,\"#f0f921\"]]}],\"choropleth\":[{\"type\":\"choropleth\",\"colorbar\":{\"outlinewidth\":0,\"ticks\":\"\"}}],\"histogram2d\":[{\"type\":\"histogram2d\",\"colorbar\":{\"outlinewidth\":0,\"ticks\":\"\"},\"colorscale\":[[0.0,\"#0d0887\"],[0.1111111111111111,\"#46039f\"],[0.2222222222222222,\"#7201a8\"],[0.3333333333333333,\"#9c179e\"],[0.4444444444444444,\"#bd3786\"],[0.5555555555555556,\"#d8576b\"],[0.6666666666666666,\"#ed7953\"],[0.7777777777777778,\"#fb9f3a\"],[0.8888888888888888,\"#fdca26\"],[1.0,\"#f0f921\"]]}],\"heatmap\":[{\"type\":\"heatmap\",\"colorbar\":{\"outlinewidth\":0,\"ticks\":\"\"},\"colorscale\":[[0.0,\"#0d0887\"],[0.1111111111111111,\"#46039f\"],[0.2222222222222222,\"#7201a8\"],[0.3333333333333333,\"#9c179e\"],[0.4444444444444444,\"#bd3786\"],[0.5555555555555556,\"#d8576b\"],[0.6666666666666666,\"#ed7953\"],[0.7777777777777778,\"#fb9f3a\"],[0.8888888888888888,\"#fdca26\"],[1.0,\"#f0f921\"]]}],\"heatmapgl\":[{\"type\":\"heatmapgl\",\"colorbar\":{\"outlinewidth\":0,\"ticks\":\"\"},\"colorscale\":[[0.0,\"#0d0887\"],[0.1111111111111111,\"#46039f\"],[0.2222222222222222,\"#7201a8\"],[0.3333333333333333,\"#9c179e\"],[0.4444444444444444,\"#bd3786\"],[0.5555555555555556,\"#d8576b\"],[0.6666666666666666,\"#ed7953\"],[0.7777777777777778,\"#fb9f3a\"],[0.8888888888888888,\"#fdca26\"],[1.0,\"#f0f921\"]]}],\"contourcarpet\":[{\"type\":\"contourcarpet\",\"colorbar\":{\"outlinewidth\":0,\"ticks\":\"\"}}],\"contour\":[{\"type\":\"contour\",\"colorbar\":{\"outlinewidth\":0,\"ticks\":\"\"},\"colorscale\":[[0.0,\"#0d0887\"],[0.1111111111111111,\"#46039f\"],[0.2222222222222222,\"#7201a8\"],[0.3333333333333333,\"#9c179e\"],[0.4444444444444444,\"#bd3786\"],[0.5555555555555556,\"#d8576b\"],[0.6666666666666666,\"#ed7953\"],[0.7777777777777778,\"#fb9f3a\"],[0.8888888888888888,\"#fdca26\"],[1.0,\"#f0f921\"]]}],\"surface\":[{\"type\":\"surface\",\"colorbar\":{\"outlinewidth\":0,\"ticks\":\"\"},\"colorscale\":[[0.0,\"#0d0887\"],[0.1111111111111111,\"#46039f\"],[0.2222222222222222,\"#7201a8\"],[0.3333333333333333,\"#9c179e\"],[0.4444444444444444,\"#bd3786\"],[0.5555555555555556,\"#d8576b\"],[0.6666666666666666,\"#ed7953\"],[0.7777777777777778,\"#fb9f3a\"],[0.8888888888888888,\"#fdca26\"],[1.0,\"#f0f921\"]]}],\"mesh3d\":[{\"type\":\"mesh3d\",\"colorbar\":{\"outlinewidth\":0,\"ticks\":\"\"}}],\"scatter\":[{\"fillpattern\":{\"fillmode\":\"overlay\",\"size\":10,\"solidity\":0.2},\"type\":\"scatter\"}],\"parcoords\":[{\"type\":\"parcoords\",\"line\":{\"colorbar\":{\"outlinewidth\":0,\"ticks\":\"\"}}}],\"scatterpolargl\":[{\"type\":\"scatterpolargl\",\"marker\":{\"colorbar\":{\"outlinewidth\":0,\"ticks\":\"\"}}}],\"bar\":[{\"error_x\":{\"color\":\"#2a3f5f\"},\"error_y\":{\"color\":\"#2a3f5f\"},\"marker\":{\"line\":{\"color\":\"#E5ECF6\",\"width\":0.5},\"pattern\":{\"fillmode\":\"overlay\",\"size\":10,\"solidity\":0.2}},\"type\":\"bar\"}],\"scattergeo\":[{\"type\":\"scattergeo\",\"marker\":{\"colorbar\":{\"outlinewidth\":0,\"ticks\":\"\"}}}],\"scatterpolar\":[{\"type\":\"scatterpolar\",\"marker\":{\"colorbar\":{\"outlinewidth\":0,\"ticks\":\"\"}}}],\"histogram\":[{\"marker\":{\"pattern\":{\"fillmode\":\"overlay\",\"size\":10,\"solidity\":0.2}},\"type\":\"histogram\"}],\"scattergl\":[{\"type\":\"scattergl\",\"marker\":{\"colorbar\":{\"outlinewidth\":0,\"ticks\":\"\"}}}],\"scatter3d\":[{\"type\":\"scatter3d\",\"line\":{\"colorbar\":{\"outlinewidth\":0,\"ticks\":\"\"}},\"marker\":{\"colorbar\":{\"outlinewidth\":0,\"ticks\":\"\"}}}],\"scattermapbox\":[{\"type\":\"scattermapbox\",\"marker\":{\"colorbar\":{\"outlinewidth\":0,\"ticks\":\"\"}}}],\"scatterternary\":[{\"type\":\"scatterternary\",\"marker\":{\"colorbar\":{\"outlinewidth\":0,\"ticks\":\"\"}}}],\"scattercarpet\":[{\"type\":\"scattercarpet\",\"marker\":{\"colorbar\":{\"outlinewidth\":0,\"ticks\":\"\"}}}],\"carpet\":[{\"aaxis\":{\"endlinecolor\":\"#2a3f5f\",\"gridcolor\":\"white\",\"linecolor\":\"white\",\"minorgridcolor\":\"white\",\"startlinecolor\":\"#2a3f5f\"},\"baxis\":{\"endlinecolor\":\"#2a3f5f\",\"gridcolor\":\"white\",\"linecolor\":\"white\",\"minorgridcolor\":\"white\",\"startlinecolor\":\"#2a3f5f\"},\"type\":\"carpet\"}],\"table\":[{\"cells\":{\"fill\":{\"color\":\"#EBF0F8\"},\"line\":{\"color\":\"white\"}},\"header\":{\"fill\":{\"color\":\"#C8D4E3\"},\"line\":{\"color\":\"white\"}},\"type\":\"table\"}],\"barpolar\":[{\"marker\":{\"line\":{\"color\":\"#E5ECF6\",\"width\":0.5},\"pattern\":{\"fillmode\":\"overlay\",\"size\":10,\"solidity\":0.2}},\"type\":\"barpolar\"}],\"pie\":[{\"automargin\":true,\"type\":\"pie\"}]},\"layout\":{\"autotypenumbers\":\"strict\",\"colorway\":[\"#636efa\",\"#EF553B\",\"#00cc96\",\"#ab63fa\",\"#FFA15A\",\"#19d3f3\",\"#FF6692\",\"#B6E880\",\"#FF97FF\",\"#FECB52\"],\"font\":{\"color\":\"#2a3f5f\"},\"hovermode\":\"closest\",\"hoverlabel\":{\"align\":\"left\"},\"paper_bgcolor\":\"white\",\"plot_bgcolor\":\"#E5ECF6\",\"polar\":{\"bgcolor\":\"#E5ECF6\",\"angularaxis\":{\"gridcolor\":\"white\",\"linecolor\":\"white\",\"ticks\":\"\"},\"radialaxis\":{\"gridcolor\":\"white\",\"linecolor\":\"white\",\"ticks\":\"\"}},\"ternary\":{\"bgcolor\":\"#E5ECF6\",\"aaxis\":{\"gridcolor\":\"white\",\"linecolor\":\"white\",\"ticks\":\"\"},\"baxis\":{\"gridcolor\":\"white\",\"linecolor\":\"white\",\"ticks\":\"\"},\"caxis\":{\"gridcolor\":\"white\",\"linecolor\":\"white\",\"ticks\":\"\"}},\"coloraxis\":{\"colorbar\":{\"outlinewidth\":0,\"ticks\":\"\"}},\"colorscale\":{\"sequential\":[[0.0,\"#0d0887\"],[0.1111111111111111,\"#46039f\"],[0.2222222222222222,\"#7201a8\"],[0.3333333333333333,\"#9c179e\"],[0.4444444444444444,\"#bd3786\"],[0.5555555555555556,\"#d8576b\"],[0.6666666666666666,\"#ed7953\"],[0.7777777777777778,\"#fb9f3a\"],[0.8888888888888888,\"#fdca26\"],[1.0,\"#f0f921\"]],\"sequentialminus\":[[0.0,\"#0d0887\"],[0.1111111111111111,\"#46039f\"],[0.2222222222222222,\"#7201a8\"],[0.3333333333333333,\"#9c179e\"],[0.4444444444444444,\"#bd3786\"],[0.5555555555555556,\"#d8576b\"],[0.6666666666666666,\"#ed7953\"],[0.7777777777777778,\"#fb9f3a\"],[0.8888888888888888,\"#fdca26\"],[1.0,\"#f0f921\"]],\"diverging\":[[0,\"#8e0152\"],[0.1,\"#c51b7d\"],[0.2,\"#de77ae\"],[0.3,\"#f1b6da\"],[0.4,\"#fde0ef\"],[0.5,\"#f7f7f7\"],[0.6,\"#e6f5d0\"],[0.7,\"#b8e186\"],[0.8,\"#7fbc41\"],[0.9,\"#4d9221\"],[1,\"#276419\"]]},\"xaxis\":{\"gridcolor\":\"white\",\"linecolor\":\"white\",\"ticks\":\"\",\"title\":{\"standoff\":15},\"zerolinecolor\":\"white\",\"automargin\":true,\"zerolinewidth\":2},\"yaxis\":{\"gridcolor\":\"white\",\"linecolor\":\"white\",\"ticks\":\"\",\"title\":{\"standoff\":15},\"zerolinecolor\":\"white\",\"automargin\":true,\"zerolinewidth\":2},\"scene\":{\"xaxis\":{\"backgroundcolor\":\"#E5ECF6\",\"gridcolor\":\"white\",\"linecolor\":\"white\",\"showbackground\":true,\"ticks\":\"\",\"zerolinecolor\":\"white\",\"gridwidth\":2},\"yaxis\":{\"backgroundcolor\":\"#E5ECF6\",\"gridcolor\":\"white\",\"linecolor\":\"white\",\"showbackground\":true,\"ticks\":\"\",\"zerolinecolor\":\"white\",\"gridwidth\":2},\"zaxis\":{\"backgroundcolor\":\"#E5ECF6\",\"gridcolor\":\"white\",\"linecolor\":\"white\",\"showbackground\":true,\"ticks\":\"\",\"zerolinecolor\":\"white\",\"gridwidth\":2}},\"shapedefaults\":{\"line\":{\"color\":\"#2a3f5f\"}},\"annotationdefaults\":{\"arrowcolor\":\"#2a3f5f\",\"arrowhead\":0,\"arrowwidth\":1},\"geo\":{\"bgcolor\":\"white\",\"landcolor\":\"#E5ECF6\",\"subunitcolor\":\"white\",\"showland\":true,\"showlakes\":true,\"lakecolor\":\"white\"},\"title\":{\"x\":0.05},\"mapbox\":{\"style\":\"light\"}}},\"xaxis\":{\"anchor\":\"y\",\"domain\":[0.0,1.0],\"title\":{\"text\":\"Accuracy\"},\"tickformat\":\",.0%\",\"range\":[0,1]},\"yaxis\":{\"anchor\":\"x\",\"domain\":[0.0,1.0],\"title\":{\"text\":\"pdf_name\"}},\"legend\":{\"title\":{\"text\":\"benchmark_version\"},\"tracegroupgap\":0},\"title\":{\"text\":\"Accuracy per pdf (vs_pdf)\"},\"barmode\":\"group\",\"height\":1200,\"width\":800},                        {\"responsive\": true}                    ).then(function(){\n",
       "                            \n",
       "var gd = document.getElementById('a853085b-0769-4d0f-84b2-fa5fe7d22598');\n",
       "var x = new MutationObserver(function (mutations, observer) {{\n",
       "        var display = window.getComputedStyle(gd).display;\n",
       "        if (!display || display === 'none') {{\n",
       "            console.log([gd, 'removed!']);\n",
       "            Plotly.purge(gd);\n",
       "            observer.disconnect();\n",
       "        }}\n",
       "}});\n",
       "\n",
       "// Listen for the removal of the full notebook cells\n",
       "var notebookContainer = gd.closest('#notebook-container');\n",
       "if (notebookContainer) {{\n",
       "    x.observe(notebookContainer, {childList: true});\n",
       "}}\n",
       "\n",
       "// Listen for the clearing of the current output cell\n",
       "var outputEl = gd.closest('.output');\n",
       "if (outputEl) {{\n",
       "    x.observe(outputEl, {childList: true});\n",
       "}}\n",
       "\n",
       "                        })                };                });            </script>        </div>"
      ]
     },
     "metadata": {},
     "output_type": "display_data"
    }
   ],
   "source": [
    "# Choose the benchmark versions to be studied\n",
    "benchmark_list = [\"benchmark_32\", \"benchmark_table_32\"]\n",
    "\n",
    "# Choose the benchmark version fixing PDF order (descending accuracy)\n",
    "pdf_order = \"benchmark_32\"\n",
    "\n",
    "# Select data in the metrics dataframe\n",
    "data_to_plot = df_per_pdf[['benchmark_version', 'pdf_name', 'accuracy_vs_sispea', 'accuracy_vs_pdf']]\n",
    "data_to_plot = data_to_plot[data_to_plot[\"benchmark_version\"].isin(benchmark_list)]\n",
    "\n",
    "# Order PDF by accuracy\n",
    "pdf_order_list = (df_per_pdf[df_per_pdf[\"benchmark_version\"]==pdf_order]\n",
    "                  .sort_values(by=\"accuracy_vs_pdf\", ascending=True)[\"pdf_name\"]\n",
    "                  .to_list())\n",
    "data_to_plot['pdf_name'] = pd.Categorical(data_to_plot['pdf_name'], categories=pdf_order_list, ordered=True)\n",
    "data_to_plot = data_to_plot.sort_values(\"pdf_name\")\n",
    "\n",
    "# Simplify PDF names\n",
    "data_to_plot['pdf_name'] = data_to_plot['pdf_name'].str.replace(r\"_rpqsid_\\d+|_cp\\d+\", \"\", regex=True)\n",
    "\n",
    "# Choose color order \n",
    "benchmark_order_list = data_to_plot[\"benchmark_version\"].unique().tolist()\n",
    "benchmark_order_list.sort(key=lambda x: int(x.split(\"_\")[-1]))\n",
    "benchmark_nb_order_list = [int(x.split(\"_\")[-1]) for x in benchmark_order_list]\n",
    "\n",
    "# Plot\n",
    "#for tag in [\"vs_sispea\", \"vs_pdf\"]:\n",
    "for tag in [\"vs_pdf\"]:\n",
    "    fig = px.bar(data_to_plot, \n",
    "                y=\"pdf_name\", \n",
    "                x=\"accuracy_\"+tag, \n",
    "                color=\"benchmark_version\", \n",
    "                category_orders={\"benchmark_version\": reversed(benchmark_order_list)},\n",
    "                #color_discrete_sequence=[px.colors.qualitative.Plotly[x%10] for x in benchmark_nb_order_list],\n",
    "                height=1200,  #600,\n",
    "                width=800,\n",
    "                barmode='group',\n",
    "                title=f\"Accuracy per pdf ({tag})\")\n",
    "    fig.layout.xaxis.tickformat = ',.0%'\n",
    "    fig.update(layout_xaxis_range = [0,1], layout_xaxis_title=\"Accuracy\")\n",
    "    fig.show()"
   ]
  },
  {
   "cell_type": "markdown",
   "metadata": {},
   "source": [
    "Plot per pdf the number of  \n",
    "- true positives (TP).   \n",
    "- true negatives (TN). \n",
    "- false positives of kind 1 (FP1).\n",
    "- false positives of kind 2 (FP2).\n",
    "- false negatives (FN).\n",
    "    "
   ]
  },
  {
   "cell_type": "code",
   "execution_count": 70,
   "metadata": {},
   "outputs": [
    {
     "data": {
      "application/vnd.plotly.v1+json": {
       "config": {
        "plotlyServerURL": "https://plot.ly"
       },
       "data": [
        {
         "alignmentgroup": "True",
         "hovertemplate": "variable=True positives<br>value=%{x}<br>pdf_name=%{y}<extra></extra>",
         "legendgroup": "True positives",
         "marker": {
          "color": "#636EFA",
          "pattern": {
           "shape": ""
          }
         },
         "name": "True positives",
         "offsetgroup": "True positives",
         "orientation": "h",
         "showlegend": true,
         "textposition": "auto",
         "type": "bar",
         "x": [
          2,
          12,
          11,
          4,
          5,
          6,
          3,
          1,
          13,
          2,
          6,
          5,
          2,
          3,
          7,
          15,
          11,
          8,
          9,
          14,
          1,
          17,
          0,
          12,
          3,
          12,
          12,
          12,
          1,
          1,
          14,
          9,
          2,
          12,
          14,
          9,
          12,
          11,
          16,
          12,
          11,
          10,
          10,
          0,
          12
         ],
         "xaxis": "x",
         "y": [
          "RPQS_Estezargues_AC_2021.pdf",
          "RPQS_Saint-Trivier-sur-Moignans_AC_2022.pdf",
          "RPQS_Mionnay_AC_2022.pdf",
          "RPQS_Genouilly_AC_2021.pdf",
          "RPQS_Treverien_AC_2023.pdf",
          "RPQS_Junas_AC_2021.pdf",
          "RPQS_Ahun_AC_2021.pdf",
          "RPQS_Chalautre-la-Petite_AC_2019.pdf",
          "RPQS_Cartelegue_AC_2023.pdf",
          "RPQS_Saint-Mihiel_AC_2020.pdf",
          "RPQS_Cussy-les-Forges_AC_2021.pdf",
          "RPQS_Artaix_AC_2019.pdf",
          "RPQS_Saint-Laurent-les-Tours_AC_2021.pdf",
          "RPQS_Chantrigne_AC_2021.pdf",
          "RPQS_Amagne_AC_2022.pdf",
          "RPQS_Grolejac_AC_2021.pdf",
          "RPQS_Neulise_AC_2019.pdf",
          "RPQS_Tournissan_AC_2022.pdf",
          "RPQS_Trie-Chateau_AC_2021.pdf",
          "RPQS_Rully_AC_2021.pdf",
          "RPQS_Aubignosc_AC_2021.pdf",
          "RPQS_Nanteuil-le-Haudouin_AC_2020.pdf",
          "RPQS_Sartrouville_AC_2019.pdf",
          "RPQS_Verneuil-en-Halatte_AC_2019.pdf",
          "RPQS_Marcille-Raoul_AC_2022.pdf",
          "RPQS_Jons_AC_2022.pdf",
          "RPQS_LaSalvetat-Peyrales_AC_2022.pdf",
          "RPQS_Merlevenez_AC_2021.pdf",
          "RPQS_Corbel_AC_2022.pdf",
          "RPQS_Charchigne_AC_2022.pdf",
          "RPQS_Autun_AC_2021.pdf",
          "RPQS_Allain_AC_2021.pdf",
          "RPQS_Montreal_AC_2022.pdf",
          "RPQS_Marthon_AC_2021.pdf",
          "RPQS_LaCorneEnVexin_AC_2021.pdf",
          "RPQS_LeTeil_AC_2018.pdf",
          "RPQS_Gonfaron_AC_2018.pdf",
          "RPQS_Durstel_AC_2021.pdf",
          "RPQS_Illats_AC_2021.pdf",
          "RPQS_Brillac_AC_2021.pdf",
          "RPQS_Alloue_AC_2021.pdf",
          "RAD_Cabasse_AC_2022.pdf",
          "RPQS_Abainville_AC_2021.pdf",
          "RPQS_Reyssouze_AC_2022.pdf",
          "RPQS_Reugny_AC_2022.pdf"
         ],
         "yaxis": "y"
        },
        {
         "alignmentgroup": "True",
         "hovertemplate": "variable=True negatives<br>value=%{x}<br>pdf_name=%{y}<extra></extra>",
         "legendgroup": "True negatives",
         "marker": {
          "color": "#19D3F3",
          "pattern": {
           "shape": ""
          }
         },
         "name": "True negatives",
         "offsetgroup": "True negatives",
         "orientation": "h",
         "showlegend": true,
         "textposition": "auto",
         "type": "bar",
         "x": [
          10,
          0,
          2,
          10,
          9,
          8,
          12,
          14,
          2,
          13,
          10,
          11,
          14,
          14,
          10,
          2,
          6,
          9,
          8,
          3,
          16,
          1,
          18,
          6,
          15,
          6,
          6,
          6,
          17,
          17,
          4,
          10,
          17,
          7,
          5,
          10,
          7,
          8,
          3,
          7,
          8,
          9,
          9,
          19,
          7
         ],
         "xaxis": "x",
         "y": [
          "RPQS_Estezargues_AC_2021.pdf",
          "RPQS_Saint-Trivier-sur-Moignans_AC_2022.pdf",
          "RPQS_Mionnay_AC_2022.pdf",
          "RPQS_Genouilly_AC_2021.pdf",
          "RPQS_Treverien_AC_2023.pdf",
          "RPQS_Junas_AC_2021.pdf",
          "RPQS_Ahun_AC_2021.pdf",
          "RPQS_Chalautre-la-Petite_AC_2019.pdf",
          "RPQS_Cartelegue_AC_2023.pdf",
          "RPQS_Saint-Mihiel_AC_2020.pdf",
          "RPQS_Cussy-les-Forges_AC_2021.pdf",
          "RPQS_Artaix_AC_2019.pdf",
          "RPQS_Saint-Laurent-les-Tours_AC_2021.pdf",
          "RPQS_Chantrigne_AC_2021.pdf",
          "RPQS_Amagne_AC_2022.pdf",
          "RPQS_Grolejac_AC_2021.pdf",
          "RPQS_Neulise_AC_2019.pdf",
          "RPQS_Tournissan_AC_2022.pdf",
          "RPQS_Trie-Chateau_AC_2021.pdf",
          "RPQS_Rully_AC_2021.pdf",
          "RPQS_Aubignosc_AC_2021.pdf",
          "RPQS_Nanteuil-le-Haudouin_AC_2020.pdf",
          "RPQS_Sartrouville_AC_2019.pdf",
          "RPQS_Verneuil-en-Halatte_AC_2019.pdf",
          "RPQS_Marcille-Raoul_AC_2022.pdf",
          "RPQS_Jons_AC_2022.pdf",
          "RPQS_LaSalvetat-Peyrales_AC_2022.pdf",
          "RPQS_Merlevenez_AC_2021.pdf",
          "RPQS_Corbel_AC_2022.pdf",
          "RPQS_Charchigne_AC_2022.pdf",
          "RPQS_Autun_AC_2021.pdf",
          "RPQS_Allain_AC_2021.pdf",
          "RPQS_Montreal_AC_2022.pdf",
          "RPQS_Marthon_AC_2021.pdf",
          "RPQS_LaCorneEnVexin_AC_2021.pdf",
          "RPQS_LeTeil_AC_2018.pdf",
          "RPQS_Gonfaron_AC_2018.pdf",
          "RPQS_Durstel_AC_2021.pdf",
          "RPQS_Illats_AC_2021.pdf",
          "RPQS_Brillac_AC_2021.pdf",
          "RPQS_Alloue_AC_2021.pdf",
          "RAD_Cabasse_AC_2022.pdf",
          "RPQS_Abainville_AC_2021.pdf",
          "RPQS_Reyssouze_AC_2022.pdf",
          "RPQS_Reugny_AC_2022.pdf"
         ],
         "yaxis": "y"
        },
        {
         "alignmentgroup": "True",
         "hovertemplate": "variable=False positives of kind 1<br>value=%{x}<br>pdf_name=%{y}<extra></extra>",
         "legendgroup": "False positives of kind 1",
         "marker": {
          "color": "#EF553B",
          "pattern": {
           "shape": ""
          }
         },
         "name": "False positives of kind 1",
         "offsetgroup": "False positives of kind 1",
         "orientation": "h",
         "showlegend": true,
         "textposition": "auto",
         "type": "bar",
         "x": [
          1,
          0,
          1,
          2,
          0,
          0,
          1,
          0,
          0,
          3,
          0,
          1,
          3,
          0,
          1,
          0,
          0,
          0,
          0,
          1,
          0,
          0,
          1,
          0,
          0,
          0,
          0,
          1,
          0,
          0,
          0,
          0,
          0,
          0,
          0,
          0,
          0,
          0,
          0,
          0,
          0,
          0,
          0,
          0,
          0
         ],
         "xaxis": "x",
         "y": [
          "RPQS_Estezargues_AC_2021.pdf",
          "RPQS_Saint-Trivier-sur-Moignans_AC_2022.pdf",
          "RPQS_Mionnay_AC_2022.pdf",
          "RPQS_Genouilly_AC_2021.pdf",
          "RPQS_Treverien_AC_2023.pdf",
          "RPQS_Junas_AC_2021.pdf",
          "RPQS_Ahun_AC_2021.pdf",
          "RPQS_Chalautre-la-Petite_AC_2019.pdf",
          "RPQS_Cartelegue_AC_2023.pdf",
          "RPQS_Saint-Mihiel_AC_2020.pdf",
          "RPQS_Cussy-les-Forges_AC_2021.pdf",
          "RPQS_Artaix_AC_2019.pdf",
          "RPQS_Saint-Laurent-les-Tours_AC_2021.pdf",
          "RPQS_Chantrigne_AC_2021.pdf",
          "RPQS_Amagne_AC_2022.pdf",
          "RPQS_Grolejac_AC_2021.pdf",
          "RPQS_Neulise_AC_2019.pdf",
          "RPQS_Tournissan_AC_2022.pdf",
          "RPQS_Trie-Chateau_AC_2021.pdf",
          "RPQS_Rully_AC_2021.pdf",
          "RPQS_Aubignosc_AC_2021.pdf",
          "RPQS_Nanteuil-le-Haudouin_AC_2020.pdf",
          "RPQS_Sartrouville_AC_2019.pdf",
          "RPQS_Verneuil-en-Halatte_AC_2019.pdf",
          "RPQS_Marcille-Raoul_AC_2022.pdf",
          "RPQS_Jons_AC_2022.pdf",
          "RPQS_LaSalvetat-Peyrales_AC_2022.pdf",
          "RPQS_Merlevenez_AC_2021.pdf",
          "RPQS_Corbel_AC_2022.pdf",
          "RPQS_Charchigne_AC_2022.pdf",
          "RPQS_Autun_AC_2021.pdf",
          "RPQS_Allain_AC_2021.pdf",
          "RPQS_Montreal_AC_2022.pdf",
          "RPQS_Marthon_AC_2021.pdf",
          "RPQS_LaCorneEnVexin_AC_2021.pdf",
          "RPQS_LeTeil_AC_2018.pdf",
          "RPQS_Gonfaron_AC_2018.pdf",
          "RPQS_Durstel_AC_2021.pdf",
          "RPQS_Illats_AC_2021.pdf",
          "RPQS_Brillac_AC_2021.pdf",
          "RPQS_Alloue_AC_2021.pdf",
          "RAD_Cabasse_AC_2022.pdf",
          "RPQS_Abainville_AC_2021.pdf",
          "RPQS_Reyssouze_AC_2022.pdf",
          "RPQS_Reugny_AC_2022.pdf"
         ],
         "yaxis": "y"
        },
        {
         "alignmentgroup": "True",
         "hovertemplate": "variable=False positives of kind 2<br>value=%{x}<br>pdf_name=%{y}<extra></extra>",
         "legendgroup": "False positives of kind 2",
         "marker": {
          "color": "#FF6692",
          "pattern": {
           "shape": ""
          }
         },
         "name": "False positives of kind 2",
         "offsetgroup": "False positives of kind 2",
         "orientation": "h",
         "showlegend": true,
         "textposition": "auto",
         "type": "bar",
         "x": [
          2,
          3,
          4,
          0,
          1,
          1,
          0,
          1,
          1,
          1,
          0,
          1,
          0,
          1,
          0,
          0,
          0,
          0,
          1,
          0,
          2,
          0,
          0,
          0,
          1,
          1,
          0,
          0,
          0,
          0,
          0,
          0,
          0,
          0,
          0,
          0,
          0,
          0,
          0,
          0,
          0,
          0,
          0,
          0,
          0
         ],
         "xaxis": "x",
         "y": [
          "RPQS_Estezargues_AC_2021.pdf",
          "RPQS_Saint-Trivier-sur-Moignans_AC_2022.pdf",
          "RPQS_Mionnay_AC_2022.pdf",
          "RPQS_Genouilly_AC_2021.pdf",
          "RPQS_Treverien_AC_2023.pdf",
          "RPQS_Junas_AC_2021.pdf",
          "RPQS_Ahun_AC_2021.pdf",
          "RPQS_Chalautre-la-Petite_AC_2019.pdf",
          "RPQS_Cartelegue_AC_2023.pdf",
          "RPQS_Saint-Mihiel_AC_2020.pdf",
          "RPQS_Cussy-les-Forges_AC_2021.pdf",
          "RPQS_Artaix_AC_2019.pdf",
          "RPQS_Saint-Laurent-les-Tours_AC_2021.pdf",
          "RPQS_Chantrigne_AC_2021.pdf",
          "RPQS_Amagne_AC_2022.pdf",
          "RPQS_Grolejac_AC_2021.pdf",
          "RPQS_Neulise_AC_2019.pdf",
          "RPQS_Tournissan_AC_2022.pdf",
          "RPQS_Trie-Chateau_AC_2021.pdf",
          "RPQS_Rully_AC_2021.pdf",
          "RPQS_Aubignosc_AC_2021.pdf",
          "RPQS_Nanteuil-le-Haudouin_AC_2020.pdf",
          "RPQS_Sartrouville_AC_2019.pdf",
          "RPQS_Verneuil-en-Halatte_AC_2019.pdf",
          "RPQS_Marcille-Raoul_AC_2022.pdf",
          "RPQS_Jons_AC_2022.pdf",
          "RPQS_LaSalvetat-Peyrales_AC_2022.pdf",
          "RPQS_Merlevenez_AC_2021.pdf",
          "RPQS_Corbel_AC_2022.pdf",
          "RPQS_Charchigne_AC_2022.pdf",
          "RPQS_Autun_AC_2021.pdf",
          "RPQS_Allain_AC_2021.pdf",
          "RPQS_Montreal_AC_2022.pdf",
          "RPQS_Marthon_AC_2021.pdf",
          "RPQS_LaCorneEnVexin_AC_2021.pdf",
          "RPQS_LeTeil_AC_2018.pdf",
          "RPQS_Gonfaron_AC_2018.pdf",
          "RPQS_Durstel_AC_2021.pdf",
          "RPQS_Illats_AC_2021.pdf",
          "RPQS_Brillac_AC_2021.pdf",
          "RPQS_Alloue_AC_2021.pdf",
          "RAD_Cabasse_AC_2022.pdf",
          "RPQS_Abainville_AC_2021.pdf",
          "RPQS_Reyssouze_AC_2022.pdf",
          "RPQS_Reugny_AC_2022.pdf"
         ],
         "yaxis": "y"
        },
        {
         "alignmentgroup": "True",
         "hovertemplate": "variable=False negatives<br>value=%{x}<br>pdf_name=%{y}<extra></extra>",
         "legendgroup": "False negatives",
         "marker": {
          "color": "#FFA15A",
          "pattern": {
           "shape": ""
          }
         },
         "name": "False negatives",
         "offsetgroup": "False negatives",
         "orientation": "h",
         "showlegend": true,
         "textposition": "auto",
         "type": "bar",
         "x": [
          4,
          4,
          1,
          3,
          4,
          4,
          3,
          3,
          3,
          0,
          3,
          1,
          0,
          1,
          1,
          2,
          2,
          2,
          1,
          1,
          0,
          1,
          0,
          1,
          0,
          0,
          1,
          0,
          1,
          1,
          1,
          0,
          0,
          0,
          0,
          0,
          0,
          0,
          0,
          0,
          0,
          0,
          0,
          0,
          0
         ],
         "xaxis": "x",
         "y": [
          "RPQS_Estezargues_AC_2021.pdf",
          "RPQS_Saint-Trivier-sur-Moignans_AC_2022.pdf",
          "RPQS_Mionnay_AC_2022.pdf",
          "RPQS_Genouilly_AC_2021.pdf",
          "RPQS_Treverien_AC_2023.pdf",
          "RPQS_Junas_AC_2021.pdf",
          "RPQS_Ahun_AC_2021.pdf",
          "RPQS_Chalautre-la-Petite_AC_2019.pdf",
          "RPQS_Cartelegue_AC_2023.pdf",
          "RPQS_Saint-Mihiel_AC_2020.pdf",
          "RPQS_Cussy-les-Forges_AC_2021.pdf",
          "RPQS_Artaix_AC_2019.pdf",
          "RPQS_Saint-Laurent-les-Tours_AC_2021.pdf",
          "RPQS_Chantrigne_AC_2021.pdf",
          "RPQS_Amagne_AC_2022.pdf",
          "RPQS_Grolejac_AC_2021.pdf",
          "RPQS_Neulise_AC_2019.pdf",
          "RPQS_Tournissan_AC_2022.pdf",
          "RPQS_Trie-Chateau_AC_2021.pdf",
          "RPQS_Rully_AC_2021.pdf",
          "RPQS_Aubignosc_AC_2021.pdf",
          "RPQS_Nanteuil-le-Haudouin_AC_2020.pdf",
          "RPQS_Sartrouville_AC_2019.pdf",
          "RPQS_Verneuil-en-Halatte_AC_2019.pdf",
          "RPQS_Marcille-Raoul_AC_2022.pdf",
          "RPQS_Jons_AC_2022.pdf",
          "RPQS_LaSalvetat-Peyrales_AC_2022.pdf",
          "RPQS_Merlevenez_AC_2021.pdf",
          "RPQS_Corbel_AC_2022.pdf",
          "RPQS_Charchigne_AC_2022.pdf",
          "RPQS_Autun_AC_2021.pdf",
          "RPQS_Allain_AC_2021.pdf",
          "RPQS_Montreal_AC_2022.pdf",
          "RPQS_Marthon_AC_2021.pdf",
          "RPQS_LaCorneEnVexin_AC_2021.pdf",
          "RPQS_LeTeil_AC_2018.pdf",
          "RPQS_Gonfaron_AC_2018.pdf",
          "RPQS_Durstel_AC_2021.pdf",
          "RPQS_Illats_AC_2021.pdf",
          "RPQS_Brillac_AC_2021.pdf",
          "RPQS_Alloue_AC_2021.pdf",
          "RAD_Cabasse_AC_2022.pdf",
          "RPQS_Abainville_AC_2021.pdf",
          "RPQS_Reyssouze_AC_2022.pdf",
          "RPQS_Reugny_AC_2022.pdf"
         ],
         "yaxis": "y"
        }
       ],
       "layout": {
        "barmode": "relative",
        "height": 900,
        "legend": {
         "title": {
          "text": "variable"
         },
         "tracegroupgap": 0
        },
        "template": {
         "data": {
          "bar": [
           {
            "error_x": {
             "color": "#2a3f5f"
            },
            "error_y": {
             "color": "#2a3f5f"
            },
            "marker": {
             "line": {
              "color": "#E5ECF6",
              "width": 0.5
             },
             "pattern": {
              "fillmode": "overlay",
              "size": 10,
              "solidity": 0.2
             }
            },
            "type": "bar"
           }
          ],
          "barpolar": [
           {
            "marker": {
             "line": {
              "color": "#E5ECF6",
              "width": 0.5
             },
             "pattern": {
              "fillmode": "overlay",
              "size": 10,
              "solidity": 0.2
             }
            },
            "type": "barpolar"
           }
          ],
          "carpet": [
           {
            "aaxis": {
             "endlinecolor": "#2a3f5f",
             "gridcolor": "white",
             "linecolor": "white",
             "minorgridcolor": "white",
             "startlinecolor": "#2a3f5f"
            },
            "baxis": {
             "endlinecolor": "#2a3f5f",
             "gridcolor": "white",
             "linecolor": "white",
             "minorgridcolor": "white",
             "startlinecolor": "#2a3f5f"
            },
            "type": "carpet"
           }
          ],
          "choropleth": [
           {
            "colorbar": {
             "outlinewidth": 0,
             "ticks": ""
            },
            "type": "choropleth"
           }
          ],
          "contour": [
           {
            "colorbar": {
             "outlinewidth": 0,
             "ticks": ""
            },
            "colorscale": [
             [
              0,
              "#0d0887"
             ],
             [
              0.1111111111111111,
              "#46039f"
             ],
             [
              0.2222222222222222,
              "#7201a8"
             ],
             [
              0.3333333333333333,
              "#9c179e"
             ],
             [
              0.4444444444444444,
              "#bd3786"
             ],
             [
              0.5555555555555556,
              "#d8576b"
             ],
             [
              0.6666666666666666,
              "#ed7953"
             ],
             [
              0.7777777777777778,
              "#fb9f3a"
             ],
             [
              0.8888888888888888,
              "#fdca26"
             ],
             [
              1,
              "#f0f921"
             ]
            ],
            "type": "contour"
           }
          ],
          "contourcarpet": [
           {
            "colorbar": {
             "outlinewidth": 0,
             "ticks": ""
            },
            "type": "contourcarpet"
           }
          ],
          "heatmap": [
           {
            "colorbar": {
             "outlinewidth": 0,
             "ticks": ""
            },
            "colorscale": [
             [
              0,
              "#0d0887"
             ],
             [
              0.1111111111111111,
              "#46039f"
             ],
             [
              0.2222222222222222,
              "#7201a8"
             ],
             [
              0.3333333333333333,
              "#9c179e"
             ],
             [
              0.4444444444444444,
              "#bd3786"
             ],
             [
              0.5555555555555556,
              "#d8576b"
             ],
             [
              0.6666666666666666,
              "#ed7953"
             ],
             [
              0.7777777777777778,
              "#fb9f3a"
             ],
             [
              0.8888888888888888,
              "#fdca26"
             ],
             [
              1,
              "#f0f921"
             ]
            ],
            "type": "heatmap"
           }
          ],
          "heatmapgl": [
           {
            "colorbar": {
             "outlinewidth": 0,
             "ticks": ""
            },
            "colorscale": [
             [
              0,
              "#0d0887"
             ],
             [
              0.1111111111111111,
              "#46039f"
             ],
             [
              0.2222222222222222,
              "#7201a8"
             ],
             [
              0.3333333333333333,
              "#9c179e"
             ],
             [
              0.4444444444444444,
              "#bd3786"
             ],
             [
              0.5555555555555556,
              "#d8576b"
             ],
             [
              0.6666666666666666,
              "#ed7953"
             ],
             [
              0.7777777777777778,
              "#fb9f3a"
             ],
             [
              0.8888888888888888,
              "#fdca26"
             ],
             [
              1,
              "#f0f921"
             ]
            ],
            "type": "heatmapgl"
           }
          ],
          "histogram": [
           {
            "marker": {
             "pattern": {
              "fillmode": "overlay",
              "size": 10,
              "solidity": 0.2
             }
            },
            "type": "histogram"
           }
          ],
          "histogram2d": [
           {
            "colorbar": {
             "outlinewidth": 0,
             "ticks": ""
            },
            "colorscale": [
             [
              0,
              "#0d0887"
             ],
             [
              0.1111111111111111,
              "#46039f"
             ],
             [
              0.2222222222222222,
              "#7201a8"
             ],
             [
              0.3333333333333333,
              "#9c179e"
             ],
             [
              0.4444444444444444,
              "#bd3786"
             ],
             [
              0.5555555555555556,
              "#d8576b"
             ],
             [
              0.6666666666666666,
              "#ed7953"
             ],
             [
              0.7777777777777778,
              "#fb9f3a"
             ],
             [
              0.8888888888888888,
              "#fdca26"
             ],
             [
              1,
              "#f0f921"
             ]
            ],
            "type": "histogram2d"
           }
          ],
          "histogram2dcontour": [
           {
            "colorbar": {
             "outlinewidth": 0,
             "ticks": ""
            },
            "colorscale": [
             [
              0,
              "#0d0887"
             ],
             [
              0.1111111111111111,
              "#46039f"
             ],
             [
              0.2222222222222222,
              "#7201a8"
             ],
             [
              0.3333333333333333,
              "#9c179e"
             ],
             [
              0.4444444444444444,
              "#bd3786"
             ],
             [
              0.5555555555555556,
              "#d8576b"
             ],
             [
              0.6666666666666666,
              "#ed7953"
             ],
             [
              0.7777777777777778,
              "#fb9f3a"
             ],
             [
              0.8888888888888888,
              "#fdca26"
             ],
             [
              1,
              "#f0f921"
             ]
            ],
            "type": "histogram2dcontour"
           }
          ],
          "mesh3d": [
           {
            "colorbar": {
             "outlinewidth": 0,
             "ticks": ""
            },
            "type": "mesh3d"
           }
          ],
          "parcoords": [
           {
            "line": {
             "colorbar": {
              "outlinewidth": 0,
              "ticks": ""
             }
            },
            "type": "parcoords"
           }
          ],
          "pie": [
           {
            "automargin": true,
            "type": "pie"
           }
          ],
          "scatter": [
           {
            "fillpattern": {
             "fillmode": "overlay",
             "size": 10,
             "solidity": 0.2
            },
            "type": "scatter"
           }
          ],
          "scatter3d": [
           {
            "line": {
             "colorbar": {
              "outlinewidth": 0,
              "ticks": ""
             }
            },
            "marker": {
             "colorbar": {
              "outlinewidth": 0,
              "ticks": ""
             }
            },
            "type": "scatter3d"
           }
          ],
          "scattercarpet": [
           {
            "marker": {
             "colorbar": {
              "outlinewidth": 0,
              "ticks": ""
             }
            },
            "type": "scattercarpet"
           }
          ],
          "scattergeo": [
           {
            "marker": {
             "colorbar": {
              "outlinewidth": 0,
              "ticks": ""
             }
            },
            "type": "scattergeo"
           }
          ],
          "scattergl": [
           {
            "marker": {
             "colorbar": {
              "outlinewidth": 0,
              "ticks": ""
             }
            },
            "type": "scattergl"
           }
          ],
          "scattermapbox": [
           {
            "marker": {
             "colorbar": {
              "outlinewidth": 0,
              "ticks": ""
             }
            },
            "type": "scattermapbox"
           }
          ],
          "scatterpolar": [
           {
            "marker": {
             "colorbar": {
              "outlinewidth": 0,
              "ticks": ""
             }
            },
            "type": "scatterpolar"
           }
          ],
          "scatterpolargl": [
           {
            "marker": {
             "colorbar": {
              "outlinewidth": 0,
              "ticks": ""
             }
            },
            "type": "scatterpolargl"
           }
          ],
          "scatterternary": [
           {
            "marker": {
             "colorbar": {
              "outlinewidth": 0,
              "ticks": ""
             }
            },
            "type": "scatterternary"
           }
          ],
          "surface": [
           {
            "colorbar": {
             "outlinewidth": 0,
             "ticks": ""
            },
            "colorscale": [
             [
              0,
              "#0d0887"
             ],
             [
              0.1111111111111111,
              "#46039f"
             ],
             [
              0.2222222222222222,
              "#7201a8"
             ],
             [
              0.3333333333333333,
              "#9c179e"
             ],
             [
              0.4444444444444444,
              "#bd3786"
             ],
             [
              0.5555555555555556,
              "#d8576b"
             ],
             [
              0.6666666666666666,
              "#ed7953"
             ],
             [
              0.7777777777777778,
              "#fb9f3a"
             ],
             [
              0.8888888888888888,
              "#fdca26"
             ],
             [
              1,
              "#f0f921"
             ]
            ],
            "type": "surface"
           }
          ],
          "table": [
           {
            "cells": {
             "fill": {
              "color": "#EBF0F8"
             },
             "line": {
              "color": "white"
             }
            },
            "header": {
             "fill": {
              "color": "#C8D4E3"
             },
             "line": {
              "color": "white"
             }
            },
            "type": "table"
           }
          ]
         },
         "layout": {
          "annotationdefaults": {
           "arrowcolor": "#2a3f5f",
           "arrowhead": 0,
           "arrowwidth": 1
          },
          "autotypenumbers": "strict",
          "coloraxis": {
           "colorbar": {
            "outlinewidth": 0,
            "ticks": ""
           }
          },
          "colorscale": {
           "diverging": [
            [
             0,
             "#8e0152"
            ],
            [
             0.1,
             "#c51b7d"
            ],
            [
             0.2,
             "#de77ae"
            ],
            [
             0.3,
             "#f1b6da"
            ],
            [
             0.4,
             "#fde0ef"
            ],
            [
             0.5,
             "#f7f7f7"
            ],
            [
             0.6,
             "#e6f5d0"
            ],
            [
             0.7,
             "#b8e186"
            ],
            [
             0.8,
             "#7fbc41"
            ],
            [
             0.9,
             "#4d9221"
            ],
            [
             1,
             "#276419"
            ]
           ],
           "sequential": [
            [
             0,
             "#0d0887"
            ],
            [
             0.1111111111111111,
             "#46039f"
            ],
            [
             0.2222222222222222,
             "#7201a8"
            ],
            [
             0.3333333333333333,
             "#9c179e"
            ],
            [
             0.4444444444444444,
             "#bd3786"
            ],
            [
             0.5555555555555556,
             "#d8576b"
            ],
            [
             0.6666666666666666,
             "#ed7953"
            ],
            [
             0.7777777777777778,
             "#fb9f3a"
            ],
            [
             0.8888888888888888,
             "#fdca26"
            ],
            [
             1,
             "#f0f921"
            ]
           ],
           "sequentialminus": [
            [
             0,
             "#0d0887"
            ],
            [
             0.1111111111111111,
             "#46039f"
            ],
            [
             0.2222222222222222,
             "#7201a8"
            ],
            [
             0.3333333333333333,
             "#9c179e"
            ],
            [
             0.4444444444444444,
             "#bd3786"
            ],
            [
             0.5555555555555556,
             "#d8576b"
            ],
            [
             0.6666666666666666,
             "#ed7953"
            ],
            [
             0.7777777777777778,
             "#fb9f3a"
            ],
            [
             0.8888888888888888,
             "#fdca26"
            ],
            [
             1,
             "#f0f921"
            ]
           ]
          },
          "colorway": [
           "#636efa",
           "#EF553B",
           "#00cc96",
           "#ab63fa",
           "#FFA15A",
           "#19d3f3",
           "#FF6692",
           "#B6E880",
           "#FF97FF",
           "#FECB52"
          ],
          "font": {
           "color": "#2a3f5f"
          },
          "geo": {
           "bgcolor": "white",
           "lakecolor": "white",
           "landcolor": "#E5ECF6",
           "showlakes": true,
           "showland": true,
           "subunitcolor": "white"
          },
          "hoverlabel": {
           "align": "left"
          },
          "hovermode": "closest",
          "mapbox": {
           "style": "light"
          },
          "paper_bgcolor": "white",
          "plot_bgcolor": "#E5ECF6",
          "polar": {
           "angularaxis": {
            "gridcolor": "white",
            "linecolor": "white",
            "ticks": ""
           },
           "bgcolor": "#E5ECF6",
           "radialaxis": {
            "gridcolor": "white",
            "linecolor": "white",
            "ticks": ""
           }
          },
          "scene": {
           "xaxis": {
            "backgroundcolor": "#E5ECF6",
            "gridcolor": "white",
            "gridwidth": 2,
            "linecolor": "white",
            "showbackground": true,
            "ticks": "",
            "zerolinecolor": "white"
           },
           "yaxis": {
            "backgroundcolor": "#E5ECF6",
            "gridcolor": "white",
            "gridwidth": 2,
            "linecolor": "white",
            "showbackground": true,
            "ticks": "",
            "zerolinecolor": "white"
           },
           "zaxis": {
            "backgroundcolor": "#E5ECF6",
            "gridcolor": "white",
            "gridwidth": 2,
            "linecolor": "white",
            "showbackground": true,
            "ticks": "",
            "zerolinecolor": "white"
           }
          },
          "shapedefaults": {
           "line": {
            "color": "#2a3f5f"
           }
          },
          "ternary": {
           "aaxis": {
            "gridcolor": "white",
            "linecolor": "white",
            "ticks": ""
           },
           "baxis": {
            "gridcolor": "white",
            "linecolor": "white",
            "ticks": ""
           },
           "bgcolor": "#E5ECF6",
           "caxis": {
            "gridcolor": "white",
            "linecolor": "white",
            "ticks": ""
           }
          },
          "title": {
           "x": 0.05
          },
          "xaxis": {
           "automargin": true,
           "gridcolor": "white",
           "linecolor": "white",
           "ticks": "",
           "title": {
            "standoff": 15
           },
           "zerolinecolor": "white",
           "zerolinewidth": 2
          },
          "yaxis": {
           "automargin": true,
           "gridcolor": "white",
           "linecolor": "white",
           "ticks": "",
           "title": {
            "standoff": 15
           },
           "zerolinecolor": "white",
           "zerolinewidth": 2
          }
         }
        },
        "title": {
         "text": "Metrics per pdf for benchmark_32"
        },
        "width": 800,
        "xaxis": {
         "anchor": "y",
         "domain": [
          0,
          1
         ],
         "title": {
          "text": "value"
         }
        },
        "yaxis": {
         "anchor": "x",
         "domain": [
          0,
          1
         ],
         "title": {
          "text": "pdf_name"
         }
        }
       }
      },
      "text/html": [
       "<div>                            <div id=\"a3ea0271-3b98-4835-912d-9b558558513d\" class=\"plotly-graph-div\" style=\"height:900px; width:800px;\"></div>            <script type=\"text/javascript\">                require([\"plotly\"], function(Plotly) {                    window.PLOTLYENV=window.PLOTLYENV || {};                                    if (document.getElementById(\"a3ea0271-3b98-4835-912d-9b558558513d\")) {                    Plotly.newPlot(                        \"a3ea0271-3b98-4835-912d-9b558558513d\",                        [{\"alignmentgroup\":\"True\",\"hovertemplate\":\"variable=True positives\\u003cbr\\u003evalue=%{x}\\u003cbr\\u003epdf_name=%{y}\\u003cextra\\u003e\\u003c\\u002fextra\\u003e\",\"legendgroup\":\"True positives\",\"marker\":{\"color\":\"#636EFA\",\"pattern\":{\"shape\":\"\"}},\"name\":\"True positives\",\"offsetgroup\":\"True positives\",\"orientation\":\"h\",\"showlegend\":true,\"textposition\":\"auto\",\"x\":[2,12,11,4,5,6,3,1,13,2,6,5,2,3,7,15,11,8,9,14,1,17,0,12,3,12,12,12,1,1,14,9,2,12,14,9,12,11,16,12,11,10,10,0,12],\"xaxis\":\"x\",\"y\":[\"RPQS_Estezargues_AC_2021.pdf\",\"RPQS_Saint-Trivier-sur-Moignans_AC_2022.pdf\",\"RPQS_Mionnay_AC_2022.pdf\",\"RPQS_Genouilly_AC_2021.pdf\",\"RPQS_Treverien_AC_2023.pdf\",\"RPQS_Junas_AC_2021.pdf\",\"RPQS_Ahun_AC_2021.pdf\",\"RPQS_Chalautre-la-Petite_AC_2019.pdf\",\"RPQS_Cartelegue_AC_2023.pdf\",\"RPQS_Saint-Mihiel_AC_2020.pdf\",\"RPQS_Cussy-les-Forges_AC_2021.pdf\",\"RPQS_Artaix_AC_2019.pdf\",\"RPQS_Saint-Laurent-les-Tours_AC_2021.pdf\",\"RPQS_Chantrigne_AC_2021.pdf\",\"RPQS_Amagne_AC_2022.pdf\",\"RPQS_Grolejac_AC_2021.pdf\",\"RPQS_Neulise_AC_2019.pdf\",\"RPQS_Tournissan_AC_2022.pdf\",\"RPQS_Trie-Chateau_AC_2021.pdf\",\"RPQS_Rully_AC_2021.pdf\",\"RPQS_Aubignosc_AC_2021.pdf\",\"RPQS_Nanteuil-le-Haudouin_AC_2020.pdf\",\"RPQS_Sartrouville_AC_2019.pdf\",\"RPQS_Verneuil-en-Halatte_AC_2019.pdf\",\"RPQS_Marcille-Raoul_AC_2022.pdf\",\"RPQS_Jons_AC_2022.pdf\",\"RPQS_LaSalvetat-Peyrales_AC_2022.pdf\",\"RPQS_Merlevenez_AC_2021.pdf\",\"RPQS_Corbel_AC_2022.pdf\",\"RPQS_Charchigne_AC_2022.pdf\",\"RPQS_Autun_AC_2021.pdf\",\"RPQS_Allain_AC_2021.pdf\",\"RPQS_Montreal_AC_2022.pdf\",\"RPQS_Marthon_AC_2021.pdf\",\"RPQS_LaCorneEnVexin_AC_2021.pdf\",\"RPQS_LeTeil_AC_2018.pdf\",\"RPQS_Gonfaron_AC_2018.pdf\",\"RPQS_Durstel_AC_2021.pdf\",\"RPQS_Illats_AC_2021.pdf\",\"RPQS_Brillac_AC_2021.pdf\",\"RPQS_Alloue_AC_2021.pdf\",\"RAD_Cabasse_AC_2022.pdf\",\"RPQS_Abainville_AC_2021.pdf\",\"RPQS_Reyssouze_AC_2022.pdf\",\"RPQS_Reugny_AC_2022.pdf\"],\"yaxis\":\"y\",\"type\":\"bar\"},{\"alignmentgroup\":\"True\",\"hovertemplate\":\"variable=True negatives\\u003cbr\\u003evalue=%{x}\\u003cbr\\u003epdf_name=%{y}\\u003cextra\\u003e\\u003c\\u002fextra\\u003e\",\"legendgroup\":\"True negatives\",\"marker\":{\"color\":\"#19D3F3\",\"pattern\":{\"shape\":\"\"}},\"name\":\"True negatives\",\"offsetgroup\":\"True negatives\",\"orientation\":\"h\",\"showlegend\":true,\"textposition\":\"auto\",\"x\":[10,0,2,10,9,8,12,14,2,13,10,11,14,14,10,2,6,9,8,3,16,1,18,6,15,6,6,6,17,17,4,10,17,7,5,10,7,8,3,7,8,9,9,19,7],\"xaxis\":\"x\",\"y\":[\"RPQS_Estezargues_AC_2021.pdf\",\"RPQS_Saint-Trivier-sur-Moignans_AC_2022.pdf\",\"RPQS_Mionnay_AC_2022.pdf\",\"RPQS_Genouilly_AC_2021.pdf\",\"RPQS_Treverien_AC_2023.pdf\",\"RPQS_Junas_AC_2021.pdf\",\"RPQS_Ahun_AC_2021.pdf\",\"RPQS_Chalautre-la-Petite_AC_2019.pdf\",\"RPQS_Cartelegue_AC_2023.pdf\",\"RPQS_Saint-Mihiel_AC_2020.pdf\",\"RPQS_Cussy-les-Forges_AC_2021.pdf\",\"RPQS_Artaix_AC_2019.pdf\",\"RPQS_Saint-Laurent-les-Tours_AC_2021.pdf\",\"RPQS_Chantrigne_AC_2021.pdf\",\"RPQS_Amagne_AC_2022.pdf\",\"RPQS_Grolejac_AC_2021.pdf\",\"RPQS_Neulise_AC_2019.pdf\",\"RPQS_Tournissan_AC_2022.pdf\",\"RPQS_Trie-Chateau_AC_2021.pdf\",\"RPQS_Rully_AC_2021.pdf\",\"RPQS_Aubignosc_AC_2021.pdf\",\"RPQS_Nanteuil-le-Haudouin_AC_2020.pdf\",\"RPQS_Sartrouville_AC_2019.pdf\",\"RPQS_Verneuil-en-Halatte_AC_2019.pdf\",\"RPQS_Marcille-Raoul_AC_2022.pdf\",\"RPQS_Jons_AC_2022.pdf\",\"RPQS_LaSalvetat-Peyrales_AC_2022.pdf\",\"RPQS_Merlevenez_AC_2021.pdf\",\"RPQS_Corbel_AC_2022.pdf\",\"RPQS_Charchigne_AC_2022.pdf\",\"RPQS_Autun_AC_2021.pdf\",\"RPQS_Allain_AC_2021.pdf\",\"RPQS_Montreal_AC_2022.pdf\",\"RPQS_Marthon_AC_2021.pdf\",\"RPQS_LaCorneEnVexin_AC_2021.pdf\",\"RPQS_LeTeil_AC_2018.pdf\",\"RPQS_Gonfaron_AC_2018.pdf\",\"RPQS_Durstel_AC_2021.pdf\",\"RPQS_Illats_AC_2021.pdf\",\"RPQS_Brillac_AC_2021.pdf\",\"RPQS_Alloue_AC_2021.pdf\",\"RAD_Cabasse_AC_2022.pdf\",\"RPQS_Abainville_AC_2021.pdf\",\"RPQS_Reyssouze_AC_2022.pdf\",\"RPQS_Reugny_AC_2022.pdf\"],\"yaxis\":\"y\",\"type\":\"bar\"},{\"alignmentgroup\":\"True\",\"hovertemplate\":\"variable=False positives of kind 1\\u003cbr\\u003evalue=%{x}\\u003cbr\\u003epdf_name=%{y}\\u003cextra\\u003e\\u003c\\u002fextra\\u003e\",\"legendgroup\":\"False positives of kind 1\",\"marker\":{\"color\":\"#EF553B\",\"pattern\":{\"shape\":\"\"}},\"name\":\"False positives of kind 1\",\"offsetgroup\":\"False positives of kind 1\",\"orientation\":\"h\",\"showlegend\":true,\"textposition\":\"auto\",\"x\":[1,0,1,2,0,0,1,0,0,3,0,1,3,0,1,0,0,0,0,1,0,0,1,0,0,0,0,1,0,0,0,0,0,0,0,0,0,0,0,0,0,0,0,0,0],\"xaxis\":\"x\",\"y\":[\"RPQS_Estezargues_AC_2021.pdf\",\"RPQS_Saint-Trivier-sur-Moignans_AC_2022.pdf\",\"RPQS_Mionnay_AC_2022.pdf\",\"RPQS_Genouilly_AC_2021.pdf\",\"RPQS_Treverien_AC_2023.pdf\",\"RPQS_Junas_AC_2021.pdf\",\"RPQS_Ahun_AC_2021.pdf\",\"RPQS_Chalautre-la-Petite_AC_2019.pdf\",\"RPQS_Cartelegue_AC_2023.pdf\",\"RPQS_Saint-Mihiel_AC_2020.pdf\",\"RPQS_Cussy-les-Forges_AC_2021.pdf\",\"RPQS_Artaix_AC_2019.pdf\",\"RPQS_Saint-Laurent-les-Tours_AC_2021.pdf\",\"RPQS_Chantrigne_AC_2021.pdf\",\"RPQS_Amagne_AC_2022.pdf\",\"RPQS_Grolejac_AC_2021.pdf\",\"RPQS_Neulise_AC_2019.pdf\",\"RPQS_Tournissan_AC_2022.pdf\",\"RPQS_Trie-Chateau_AC_2021.pdf\",\"RPQS_Rully_AC_2021.pdf\",\"RPQS_Aubignosc_AC_2021.pdf\",\"RPQS_Nanteuil-le-Haudouin_AC_2020.pdf\",\"RPQS_Sartrouville_AC_2019.pdf\",\"RPQS_Verneuil-en-Halatte_AC_2019.pdf\",\"RPQS_Marcille-Raoul_AC_2022.pdf\",\"RPQS_Jons_AC_2022.pdf\",\"RPQS_LaSalvetat-Peyrales_AC_2022.pdf\",\"RPQS_Merlevenez_AC_2021.pdf\",\"RPQS_Corbel_AC_2022.pdf\",\"RPQS_Charchigne_AC_2022.pdf\",\"RPQS_Autun_AC_2021.pdf\",\"RPQS_Allain_AC_2021.pdf\",\"RPQS_Montreal_AC_2022.pdf\",\"RPQS_Marthon_AC_2021.pdf\",\"RPQS_LaCorneEnVexin_AC_2021.pdf\",\"RPQS_LeTeil_AC_2018.pdf\",\"RPQS_Gonfaron_AC_2018.pdf\",\"RPQS_Durstel_AC_2021.pdf\",\"RPQS_Illats_AC_2021.pdf\",\"RPQS_Brillac_AC_2021.pdf\",\"RPQS_Alloue_AC_2021.pdf\",\"RAD_Cabasse_AC_2022.pdf\",\"RPQS_Abainville_AC_2021.pdf\",\"RPQS_Reyssouze_AC_2022.pdf\",\"RPQS_Reugny_AC_2022.pdf\"],\"yaxis\":\"y\",\"type\":\"bar\"},{\"alignmentgroup\":\"True\",\"hovertemplate\":\"variable=False positives of kind 2\\u003cbr\\u003evalue=%{x}\\u003cbr\\u003epdf_name=%{y}\\u003cextra\\u003e\\u003c\\u002fextra\\u003e\",\"legendgroup\":\"False positives of kind 2\",\"marker\":{\"color\":\"#FF6692\",\"pattern\":{\"shape\":\"\"}},\"name\":\"False positives of kind 2\",\"offsetgroup\":\"False positives of kind 2\",\"orientation\":\"h\",\"showlegend\":true,\"textposition\":\"auto\",\"x\":[2,3,4,0,1,1,0,1,1,1,0,1,0,1,0,0,0,0,1,0,2,0,0,0,1,1,0,0,0,0,0,0,0,0,0,0,0,0,0,0,0,0,0,0,0],\"xaxis\":\"x\",\"y\":[\"RPQS_Estezargues_AC_2021.pdf\",\"RPQS_Saint-Trivier-sur-Moignans_AC_2022.pdf\",\"RPQS_Mionnay_AC_2022.pdf\",\"RPQS_Genouilly_AC_2021.pdf\",\"RPQS_Treverien_AC_2023.pdf\",\"RPQS_Junas_AC_2021.pdf\",\"RPQS_Ahun_AC_2021.pdf\",\"RPQS_Chalautre-la-Petite_AC_2019.pdf\",\"RPQS_Cartelegue_AC_2023.pdf\",\"RPQS_Saint-Mihiel_AC_2020.pdf\",\"RPQS_Cussy-les-Forges_AC_2021.pdf\",\"RPQS_Artaix_AC_2019.pdf\",\"RPQS_Saint-Laurent-les-Tours_AC_2021.pdf\",\"RPQS_Chantrigne_AC_2021.pdf\",\"RPQS_Amagne_AC_2022.pdf\",\"RPQS_Grolejac_AC_2021.pdf\",\"RPQS_Neulise_AC_2019.pdf\",\"RPQS_Tournissan_AC_2022.pdf\",\"RPQS_Trie-Chateau_AC_2021.pdf\",\"RPQS_Rully_AC_2021.pdf\",\"RPQS_Aubignosc_AC_2021.pdf\",\"RPQS_Nanteuil-le-Haudouin_AC_2020.pdf\",\"RPQS_Sartrouville_AC_2019.pdf\",\"RPQS_Verneuil-en-Halatte_AC_2019.pdf\",\"RPQS_Marcille-Raoul_AC_2022.pdf\",\"RPQS_Jons_AC_2022.pdf\",\"RPQS_LaSalvetat-Peyrales_AC_2022.pdf\",\"RPQS_Merlevenez_AC_2021.pdf\",\"RPQS_Corbel_AC_2022.pdf\",\"RPQS_Charchigne_AC_2022.pdf\",\"RPQS_Autun_AC_2021.pdf\",\"RPQS_Allain_AC_2021.pdf\",\"RPQS_Montreal_AC_2022.pdf\",\"RPQS_Marthon_AC_2021.pdf\",\"RPQS_LaCorneEnVexin_AC_2021.pdf\",\"RPQS_LeTeil_AC_2018.pdf\",\"RPQS_Gonfaron_AC_2018.pdf\",\"RPQS_Durstel_AC_2021.pdf\",\"RPQS_Illats_AC_2021.pdf\",\"RPQS_Brillac_AC_2021.pdf\",\"RPQS_Alloue_AC_2021.pdf\",\"RAD_Cabasse_AC_2022.pdf\",\"RPQS_Abainville_AC_2021.pdf\",\"RPQS_Reyssouze_AC_2022.pdf\",\"RPQS_Reugny_AC_2022.pdf\"],\"yaxis\":\"y\",\"type\":\"bar\"},{\"alignmentgroup\":\"True\",\"hovertemplate\":\"variable=False negatives\\u003cbr\\u003evalue=%{x}\\u003cbr\\u003epdf_name=%{y}\\u003cextra\\u003e\\u003c\\u002fextra\\u003e\",\"legendgroup\":\"False negatives\",\"marker\":{\"color\":\"#FFA15A\",\"pattern\":{\"shape\":\"\"}},\"name\":\"False negatives\",\"offsetgroup\":\"False negatives\",\"orientation\":\"h\",\"showlegend\":true,\"textposition\":\"auto\",\"x\":[4,4,1,3,4,4,3,3,3,0,3,1,0,1,1,2,2,2,1,1,0,1,0,1,0,0,1,0,1,1,1,0,0,0,0,0,0,0,0,0,0,0,0,0,0],\"xaxis\":\"x\",\"y\":[\"RPQS_Estezargues_AC_2021.pdf\",\"RPQS_Saint-Trivier-sur-Moignans_AC_2022.pdf\",\"RPQS_Mionnay_AC_2022.pdf\",\"RPQS_Genouilly_AC_2021.pdf\",\"RPQS_Treverien_AC_2023.pdf\",\"RPQS_Junas_AC_2021.pdf\",\"RPQS_Ahun_AC_2021.pdf\",\"RPQS_Chalautre-la-Petite_AC_2019.pdf\",\"RPQS_Cartelegue_AC_2023.pdf\",\"RPQS_Saint-Mihiel_AC_2020.pdf\",\"RPQS_Cussy-les-Forges_AC_2021.pdf\",\"RPQS_Artaix_AC_2019.pdf\",\"RPQS_Saint-Laurent-les-Tours_AC_2021.pdf\",\"RPQS_Chantrigne_AC_2021.pdf\",\"RPQS_Amagne_AC_2022.pdf\",\"RPQS_Grolejac_AC_2021.pdf\",\"RPQS_Neulise_AC_2019.pdf\",\"RPQS_Tournissan_AC_2022.pdf\",\"RPQS_Trie-Chateau_AC_2021.pdf\",\"RPQS_Rully_AC_2021.pdf\",\"RPQS_Aubignosc_AC_2021.pdf\",\"RPQS_Nanteuil-le-Haudouin_AC_2020.pdf\",\"RPQS_Sartrouville_AC_2019.pdf\",\"RPQS_Verneuil-en-Halatte_AC_2019.pdf\",\"RPQS_Marcille-Raoul_AC_2022.pdf\",\"RPQS_Jons_AC_2022.pdf\",\"RPQS_LaSalvetat-Peyrales_AC_2022.pdf\",\"RPQS_Merlevenez_AC_2021.pdf\",\"RPQS_Corbel_AC_2022.pdf\",\"RPQS_Charchigne_AC_2022.pdf\",\"RPQS_Autun_AC_2021.pdf\",\"RPQS_Allain_AC_2021.pdf\",\"RPQS_Montreal_AC_2022.pdf\",\"RPQS_Marthon_AC_2021.pdf\",\"RPQS_LaCorneEnVexin_AC_2021.pdf\",\"RPQS_LeTeil_AC_2018.pdf\",\"RPQS_Gonfaron_AC_2018.pdf\",\"RPQS_Durstel_AC_2021.pdf\",\"RPQS_Illats_AC_2021.pdf\",\"RPQS_Brillac_AC_2021.pdf\",\"RPQS_Alloue_AC_2021.pdf\",\"RAD_Cabasse_AC_2022.pdf\",\"RPQS_Abainville_AC_2021.pdf\",\"RPQS_Reyssouze_AC_2022.pdf\",\"RPQS_Reugny_AC_2022.pdf\"],\"yaxis\":\"y\",\"type\":\"bar\"}],                        {\"template\":{\"data\":{\"histogram2dcontour\":[{\"type\":\"histogram2dcontour\",\"colorbar\":{\"outlinewidth\":0,\"ticks\":\"\"},\"colorscale\":[[0.0,\"#0d0887\"],[0.1111111111111111,\"#46039f\"],[0.2222222222222222,\"#7201a8\"],[0.3333333333333333,\"#9c179e\"],[0.4444444444444444,\"#bd3786\"],[0.5555555555555556,\"#d8576b\"],[0.6666666666666666,\"#ed7953\"],[0.7777777777777778,\"#fb9f3a\"],[0.8888888888888888,\"#fdca26\"],[1.0,\"#f0f921\"]]}],\"choropleth\":[{\"type\":\"choropleth\",\"colorbar\":{\"outlinewidth\":0,\"ticks\":\"\"}}],\"histogram2d\":[{\"type\":\"histogram2d\",\"colorbar\":{\"outlinewidth\":0,\"ticks\":\"\"},\"colorscale\":[[0.0,\"#0d0887\"],[0.1111111111111111,\"#46039f\"],[0.2222222222222222,\"#7201a8\"],[0.3333333333333333,\"#9c179e\"],[0.4444444444444444,\"#bd3786\"],[0.5555555555555556,\"#d8576b\"],[0.6666666666666666,\"#ed7953\"],[0.7777777777777778,\"#fb9f3a\"],[0.8888888888888888,\"#fdca26\"],[1.0,\"#f0f921\"]]}],\"heatmap\":[{\"type\":\"heatmap\",\"colorbar\":{\"outlinewidth\":0,\"ticks\":\"\"},\"colorscale\":[[0.0,\"#0d0887\"],[0.1111111111111111,\"#46039f\"],[0.2222222222222222,\"#7201a8\"],[0.3333333333333333,\"#9c179e\"],[0.4444444444444444,\"#bd3786\"],[0.5555555555555556,\"#d8576b\"],[0.6666666666666666,\"#ed7953\"],[0.7777777777777778,\"#fb9f3a\"],[0.8888888888888888,\"#fdca26\"],[1.0,\"#f0f921\"]]}],\"heatmapgl\":[{\"type\":\"heatmapgl\",\"colorbar\":{\"outlinewidth\":0,\"ticks\":\"\"},\"colorscale\":[[0.0,\"#0d0887\"],[0.1111111111111111,\"#46039f\"],[0.2222222222222222,\"#7201a8\"],[0.3333333333333333,\"#9c179e\"],[0.4444444444444444,\"#bd3786\"],[0.5555555555555556,\"#d8576b\"],[0.6666666666666666,\"#ed7953\"],[0.7777777777777778,\"#fb9f3a\"],[0.8888888888888888,\"#fdca26\"],[1.0,\"#f0f921\"]]}],\"contourcarpet\":[{\"type\":\"contourcarpet\",\"colorbar\":{\"outlinewidth\":0,\"ticks\":\"\"}}],\"contour\":[{\"type\":\"contour\",\"colorbar\":{\"outlinewidth\":0,\"ticks\":\"\"},\"colorscale\":[[0.0,\"#0d0887\"],[0.1111111111111111,\"#46039f\"],[0.2222222222222222,\"#7201a8\"],[0.3333333333333333,\"#9c179e\"],[0.4444444444444444,\"#bd3786\"],[0.5555555555555556,\"#d8576b\"],[0.6666666666666666,\"#ed7953\"],[0.7777777777777778,\"#fb9f3a\"],[0.8888888888888888,\"#fdca26\"],[1.0,\"#f0f921\"]]}],\"surface\":[{\"type\":\"surface\",\"colorbar\":{\"outlinewidth\":0,\"ticks\":\"\"},\"colorscale\":[[0.0,\"#0d0887\"],[0.1111111111111111,\"#46039f\"],[0.2222222222222222,\"#7201a8\"],[0.3333333333333333,\"#9c179e\"],[0.4444444444444444,\"#bd3786\"],[0.5555555555555556,\"#d8576b\"],[0.6666666666666666,\"#ed7953\"],[0.7777777777777778,\"#fb9f3a\"],[0.8888888888888888,\"#fdca26\"],[1.0,\"#f0f921\"]]}],\"mesh3d\":[{\"type\":\"mesh3d\",\"colorbar\":{\"outlinewidth\":0,\"ticks\":\"\"}}],\"scatter\":[{\"fillpattern\":{\"fillmode\":\"overlay\",\"size\":10,\"solidity\":0.2},\"type\":\"scatter\"}],\"parcoords\":[{\"type\":\"parcoords\",\"line\":{\"colorbar\":{\"outlinewidth\":0,\"ticks\":\"\"}}}],\"scatterpolargl\":[{\"type\":\"scatterpolargl\",\"marker\":{\"colorbar\":{\"outlinewidth\":0,\"ticks\":\"\"}}}],\"bar\":[{\"error_x\":{\"color\":\"#2a3f5f\"},\"error_y\":{\"color\":\"#2a3f5f\"},\"marker\":{\"line\":{\"color\":\"#E5ECF6\",\"width\":0.5},\"pattern\":{\"fillmode\":\"overlay\",\"size\":10,\"solidity\":0.2}},\"type\":\"bar\"}],\"scattergeo\":[{\"type\":\"scattergeo\",\"marker\":{\"colorbar\":{\"outlinewidth\":0,\"ticks\":\"\"}}}],\"scatterpolar\":[{\"type\":\"scatterpolar\",\"marker\":{\"colorbar\":{\"outlinewidth\":0,\"ticks\":\"\"}}}],\"histogram\":[{\"marker\":{\"pattern\":{\"fillmode\":\"overlay\",\"size\":10,\"solidity\":0.2}},\"type\":\"histogram\"}],\"scattergl\":[{\"type\":\"scattergl\",\"marker\":{\"colorbar\":{\"outlinewidth\":0,\"ticks\":\"\"}}}],\"scatter3d\":[{\"type\":\"scatter3d\",\"line\":{\"colorbar\":{\"outlinewidth\":0,\"ticks\":\"\"}},\"marker\":{\"colorbar\":{\"outlinewidth\":0,\"ticks\":\"\"}}}],\"scattermapbox\":[{\"type\":\"scattermapbox\",\"marker\":{\"colorbar\":{\"outlinewidth\":0,\"ticks\":\"\"}}}],\"scatterternary\":[{\"type\":\"scatterternary\",\"marker\":{\"colorbar\":{\"outlinewidth\":0,\"ticks\":\"\"}}}],\"scattercarpet\":[{\"type\":\"scattercarpet\",\"marker\":{\"colorbar\":{\"outlinewidth\":0,\"ticks\":\"\"}}}],\"carpet\":[{\"aaxis\":{\"endlinecolor\":\"#2a3f5f\",\"gridcolor\":\"white\",\"linecolor\":\"white\",\"minorgridcolor\":\"white\",\"startlinecolor\":\"#2a3f5f\"},\"baxis\":{\"endlinecolor\":\"#2a3f5f\",\"gridcolor\":\"white\",\"linecolor\":\"white\",\"minorgridcolor\":\"white\",\"startlinecolor\":\"#2a3f5f\"},\"type\":\"carpet\"}],\"table\":[{\"cells\":{\"fill\":{\"color\":\"#EBF0F8\"},\"line\":{\"color\":\"white\"}},\"header\":{\"fill\":{\"color\":\"#C8D4E3\"},\"line\":{\"color\":\"white\"}},\"type\":\"table\"}],\"barpolar\":[{\"marker\":{\"line\":{\"color\":\"#E5ECF6\",\"width\":0.5},\"pattern\":{\"fillmode\":\"overlay\",\"size\":10,\"solidity\":0.2}},\"type\":\"barpolar\"}],\"pie\":[{\"automargin\":true,\"type\":\"pie\"}]},\"layout\":{\"autotypenumbers\":\"strict\",\"colorway\":[\"#636efa\",\"#EF553B\",\"#00cc96\",\"#ab63fa\",\"#FFA15A\",\"#19d3f3\",\"#FF6692\",\"#B6E880\",\"#FF97FF\",\"#FECB52\"],\"font\":{\"color\":\"#2a3f5f\"},\"hovermode\":\"closest\",\"hoverlabel\":{\"align\":\"left\"},\"paper_bgcolor\":\"white\",\"plot_bgcolor\":\"#E5ECF6\",\"polar\":{\"bgcolor\":\"#E5ECF6\",\"angularaxis\":{\"gridcolor\":\"white\",\"linecolor\":\"white\",\"ticks\":\"\"},\"radialaxis\":{\"gridcolor\":\"white\",\"linecolor\":\"white\",\"ticks\":\"\"}},\"ternary\":{\"bgcolor\":\"#E5ECF6\",\"aaxis\":{\"gridcolor\":\"white\",\"linecolor\":\"white\",\"ticks\":\"\"},\"baxis\":{\"gridcolor\":\"white\",\"linecolor\":\"white\",\"ticks\":\"\"},\"caxis\":{\"gridcolor\":\"white\",\"linecolor\":\"white\",\"ticks\":\"\"}},\"coloraxis\":{\"colorbar\":{\"outlinewidth\":0,\"ticks\":\"\"}},\"colorscale\":{\"sequential\":[[0.0,\"#0d0887\"],[0.1111111111111111,\"#46039f\"],[0.2222222222222222,\"#7201a8\"],[0.3333333333333333,\"#9c179e\"],[0.4444444444444444,\"#bd3786\"],[0.5555555555555556,\"#d8576b\"],[0.6666666666666666,\"#ed7953\"],[0.7777777777777778,\"#fb9f3a\"],[0.8888888888888888,\"#fdca26\"],[1.0,\"#f0f921\"]],\"sequentialminus\":[[0.0,\"#0d0887\"],[0.1111111111111111,\"#46039f\"],[0.2222222222222222,\"#7201a8\"],[0.3333333333333333,\"#9c179e\"],[0.4444444444444444,\"#bd3786\"],[0.5555555555555556,\"#d8576b\"],[0.6666666666666666,\"#ed7953\"],[0.7777777777777778,\"#fb9f3a\"],[0.8888888888888888,\"#fdca26\"],[1.0,\"#f0f921\"]],\"diverging\":[[0,\"#8e0152\"],[0.1,\"#c51b7d\"],[0.2,\"#de77ae\"],[0.3,\"#f1b6da\"],[0.4,\"#fde0ef\"],[0.5,\"#f7f7f7\"],[0.6,\"#e6f5d0\"],[0.7,\"#b8e186\"],[0.8,\"#7fbc41\"],[0.9,\"#4d9221\"],[1,\"#276419\"]]},\"xaxis\":{\"gridcolor\":\"white\",\"linecolor\":\"white\",\"ticks\":\"\",\"title\":{\"standoff\":15},\"zerolinecolor\":\"white\",\"automargin\":true,\"zerolinewidth\":2},\"yaxis\":{\"gridcolor\":\"white\",\"linecolor\":\"white\",\"ticks\":\"\",\"title\":{\"standoff\":15},\"zerolinecolor\":\"white\",\"automargin\":true,\"zerolinewidth\":2},\"scene\":{\"xaxis\":{\"backgroundcolor\":\"#E5ECF6\",\"gridcolor\":\"white\",\"linecolor\":\"white\",\"showbackground\":true,\"ticks\":\"\",\"zerolinecolor\":\"white\",\"gridwidth\":2},\"yaxis\":{\"backgroundcolor\":\"#E5ECF6\",\"gridcolor\":\"white\",\"linecolor\":\"white\",\"showbackground\":true,\"ticks\":\"\",\"zerolinecolor\":\"white\",\"gridwidth\":2},\"zaxis\":{\"backgroundcolor\":\"#E5ECF6\",\"gridcolor\":\"white\",\"linecolor\":\"white\",\"showbackground\":true,\"ticks\":\"\",\"zerolinecolor\":\"white\",\"gridwidth\":2}},\"shapedefaults\":{\"line\":{\"color\":\"#2a3f5f\"}},\"annotationdefaults\":{\"arrowcolor\":\"#2a3f5f\",\"arrowhead\":0,\"arrowwidth\":1},\"geo\":{\"bgcolor\":\"white\",\"landcolor\":\"#E5ECF6\",\"subunitcolor\":\"white\",\"showland\":true,\"showlakes\":true,\"lakecolor\":\"white\"},\"title\":{\"x\":0.05},\"mapbox\":{\"style\":\"light\"}}},\"xaxis\":{\"anchor\":\"y\",\"domain\":[0.0,1.0],\"title\":{\"text\":\"value\"}},\"yaxis\":{\"anchor\":\"x\",\"domain\":[0.0,1.0],\"title\":{\"text\":\"pdf_name\"}},\"legend\":{\"title\":{\"text\":\"variable\"},\"tracegroupgap\":0},\"title\":{\"text\":\"Metrics per pdf for benchmark_32\"},\"barmode\":\"relative\",\"height\":900,\"width\":800},                        {\"responsive\": true}                    ).then(function(){\n",
       "                            \n",
       "var gd = document.getElementById('a3ea0271-3b98-4835-912d-9b558558513d');\n",
       "var x = new MutationObserver(function (mutations, observer) {{\n",
       "        var display = window.getComputedStyle(gd).display;\n",
       "        if (!display || display === 'none') {{\n",
       "            console.log([gd, 'removed!']);\n",
       "            Plotly.purge(gd);\n",
       "            observer.disconnect();\n",
       "        }}\n",
       "}});\n",
       "\n",
       "// Listen for the removal of the full notebook cells\n",
       "var notebookContainer = gd.closest('#notebook-container');\n",
       "if (notebookContainer) {{\n",
       "    x.observe(notebookContainer, {childList: true});\n",
       "}}\n",
       "\n",
       "// Listen for the clearing of the current output cell\n",
       "var outputEl = gd.closest('.output');\n",
       "if (outputEl) {{\n",
       "    x.observe(outputEl, {childList: true});\n",
       "}}\n",
       "\n",
       "                        })                };                });            </script>        </div>"
      ]
     },
     "metadata": {},
     "output_type": "display_data"
    },
    {
     "data": {
      "application/vnd.plotly.v1+json": {
       "config": {
        "plotlyServerURL": "https://plot.ly"
       },
       "data": [
        {
         "alignmentgroup": "True",
         "hovertemplate": "variable=True positives<br>value=%{x}<br>pdf_name=%{y}<extra></extra>",
         "legendgroup": "True positives",
         "marker": {
          "color": "#636EFA",
          "pattern": {
           "shape": ""
          }
         },
         "name": "True positives",
         "offsetgroup": "True positives",
         "orientation": "h",
         "showlegend": true,
         "textposition": "auto",
         "type": "bar",
         "x": [
          0,
          0,
          0,
          0,
          0,
          1,
          0,
          0,
          0,
          0,
          6,
          0,
          0,
          0,
          6,
          15,
          8,
          8,
          8,
          13,
          0,
          16,
          0,
          12,
          0,
          0,
          11,
          0,
          0,
          0,
          0,
          9,
          2,
          10,
          11,
          8,
          0,
          0,
          13,
          10,
          10,
          10,
          10,
          0,
          10
         ],
         "xaxis": "x",
         "y": [
          "RPQS_Estezargues_AC_2021.pdf",
          "RPQS_Saint-Trivier-sur-Moignans_AC_2022.pdf",
          "RPQS_Mionnay_AC_2022.pdf",
          "RPQS_Genouilly_AC_2021.pdf",
          "RPQS_Treverien_AC_2023.pdf",
          "RPQS_Junas_AC_2021.pdf",
          "RPQS_Ahun_AC_2021.pdf",
          "RPQS_Chalautre-la-Petite_AC_2019.pdf",
          "RPQS_Cartelegue_AC_2023.pdf",
          "RPQS_Saint-Mihiel_AC_2020.pdf",
          "RPQS_Cussy-les-Forges_AC_2021.pdf",
          "RPQS_Artaix_AC_2019.pdf",
          "RPQS_Saint-Laurent-les-Tours_AC_2021.pdf",
          "RPQS_Chantrigne_AC_2021.pdf",
          "RPQS_Amagne_AC_2022.pdf",
          "RPQS_Grolejac_AC_2021.pdf",
          "RPQS_Neulise_AC_2019.pdf",
          "RPQS_Tournissan_AC_2022.pdf",
          "RPQS_Trie-Chateau_AC_2021.pdf",
          "RPQS_Rully_AC_2021.pdf",
          "RPQS_Aubignosc_AC_2021.pdf",
          "RPQS_Nanteuil-le-Haudouin_AC_2020.pdf",
          "RPQS_Sartrouville_AC_2019.pdf",
          "RPQS_Verneuil-en-Halatte_AC_2019.pdf",
          "RPQS_Marcille-Raoul_AC_2022.pdf",
          "RPQS_Jons_AC_2022.pdf",
          "RPQS_LaSalvetat-Peyrales_AC_2022.pdf",
          "RPQS_Merlevenez_AC_2021.pdf",
          "RPQS_Corbel_AC_2022.pdf",
          "RPQS_Charchigne_AC_2022.pdf",
          "RPQS_Autun_AC_2021.pdf",
          "RPQS_Allain_AC_2021.pdf",
          "RPQS_Montreal_AC_2022.pdf",
          "RPQS_Marthon_AC_2021.pdf",
          "RPQS_LaCorneEnVexin_AC_2021.pdf",
          "RPQS_LeTeil_AC_2018.pdf",
          "RPQS_Gonfaron_AC_2018.pdf",
          "RPQS_Durstel_AC_2021.pdf",
          "RPQS_Illats_AC_2021.pdf",
          "RPQS_Brillac_AC_2021.pdf",
          "RPQS_Alloue_AC_2021.pdf",
          "RAD_Cabasse_AC_2022.pdf",
          "RPQS_Abainville_AC_2021.pdf",
          "RPQS_Reyssouze_AC_2022.pdf",
          "RPQS_Reugny_AC_2022.pdf"
         ],
         "yaxis": "y"
        },
        {
         "alignmentgroup": "True",
         "hovertemplate": "variable=True negatives<br>value=%{x}<br>pdf_name=%{y}<extra></extra>",
         "legendgroup": "True negatives",
         "marker": {
          "color": "#19D3F3",
          "pattern": {
           "shape": ""
          }
         },
         "name": "True negatives",
         "offsetgroup": "True negatives",
         "orientation": "h",
         "showlegend": true,
         "textposition": "auto",
         "type": "bar",
         "x": [
          11,
          0,
          3,
          12,
          9,
          8,
          13,
          14,
          2,
          16,
          10,
          12,
          17,
          14,
          11,
          2,
          6,
          9,
          8,
          4,
          16,
          1,
          19,
          6,
          15,
          6,
          6,
          7,
          17,
          17,
          4,
          10,
          17,
          7,
          5,
          10,
          7,
          8,
          3,
          7,
          8,
          9,
          9,
          19,
          7
         ],
         "xaxis": "x",
         "y": [
          "RPQS_Estezargues_AC_2021.pdf",
          "RPQS_Saint-Trivier-sur-Moignans_AC_2022.pdf",
          "RPQS_Mionnay_AC_2022.pdf",
          "RPQS_Genouilly_AC_2021.pdf",
          "RPQS_Treverien_AC_2023.pdf",
          "RPQS_Junas_AC_2021.pdf",
          "RPQS_Ahun_AC_2021.pdf",
          "RPQS_Chalautre-la-Petite_AC_2019.pdf",
          "RPQS_Cartelegue_AC_2023.pdf",
          "RPQS_Saint-Mihiel_AC_2020.pdf",
          "RPQS_Cussy-les-Forges_AC_2021.pdf",
          "RPQS_Artaix_AC_2019.pdf",
          "RPQS_Saint-Laurent-les-Tours_AC_2021.pdf",
          "RPQS_Chantrigne_AC_2021.pdf",
          "RPQS_Amagne_AC_2022.pdf",
          "RPQS_Grolejac_AC_2021.pdf",
          "RPQS_Neulise_AC_2019.pdf",
          "RPQS_Tournissan_AC_2022.pdf",
          "RPQS_Trie-Chateau_AC_2021.pdf",
          "RPQS_Rully_AC_2021.pdf",
          "RPQS_Aubignosc_AC_2021.pdf",
          "RPQS_Nanteuil-le-Haudouin_AC_2020.pdf",
          "RPQS_Sartrouville_AC_2019.pdf",
          "RPQS_Verneuil-en-Halatte_AC_2019.pdf",
          "RPQS_Marcille-Raoul_AC_2022.pdf",
          "RPQS_Jons_AC_2022.pdf",
          "RPQS_LaSalvetat-Peyrales_AC_2022.pdf",
          "RPQS_Merlevenez_AC_2021.pdf",
          "RPQS_Corbel_AC_2022.pdf",
          "RPQS_Charchigne_AC_2022.pdf",
          "RPQS_Autun_AC_2021.pdf",
          "RPQS_Allain_AC_2021.pdf",
          "RPQS_Montreal_AC_2022.pdf",
          "RPQS_Marthon_AC_2021.pdf",
          "RPQS_LaCorneEnVexin_AC_2021.pdf",
          "RPQS_LeTeil_AC_2018.pdf",
          "RPQS_Gonfaron_AC_2018.pdf",
          "RPQS_Durstel_AC_2021.pdf",
          "RPQS_Illats_AC_2021.pdf",
          "RPQS_Brillac_AC_2021.pdf",
          "RPQS_Alloue_AC_2021.pdf",
          "RAD_Cabasse_AC_2022.pdf",
          "RPQS_Abainville_AC_2021.pdf",
          "RPQS_Reyssouze_AC_2022.pdf",
          "RPQS_Reugny_AC_2022.pdf"
         ],
         "yaxis": "y"
        },
        {
         "alignmentgroup": "True",
         "hovertemplate": "variable=False positives of kind 1<br>value=%{x}<br>pdf_name=%{y}<extra></extra>",
         "legendgroup": "False positives of kind 1",
         "marker": {
          "color": "#EF553B",
          "pattern": {
           "shape": ""
          }
         },
         "name": "False positives of kind 1",
         "offsetgroup": "False positives of kind 1",
         "orientation": "h",
         "showlegend": true,
         "textposition": "auto",
         "type": "bar",
         "x": [
          0,
          0,
          0,
          0,
          0,
          0,
          0,
          0,
          0,
          0,
          0,
          0,
          0,
          0,
          0,
          0,
          0,
          0,
          0,
          0,
          0,
          0,
          0,
          0,
          0,
          0,
          0,
          0,
          0,
          0,
          0,
          0,
          0,
          0,
          0,
          0,
          0,
          0,
          0,
          0,
          0,
          0,
          0,
          0,
          0
         ],
         "xaxis": "x",
         "y": [
          "RPQS_Estezargues_AC_2021.pdf",
          "RPQS_Saint-Trivier-sur-Moignans_AC_2022.pdf",
          "RPQS_Mionnay_AC_2022.pdf",
          "RPQS_Genouilly_AC_2021.pdf",
          "RPQS_Treverien_AC_2023.pdf",
          "RPQS_Junas_AC_2021.pdf",
          "RPQS_Ahun_AC_2021.pdf",
          "RPQS_Chalautre-la-Petite_AC_2019.pdf",
          "RPQS_Cartelegue_AC_2023.pdf",
          "RPQS_Saint-Mihiel_AC_2020.pdf",
          "RPQS_Cussy-les-Forges_AC_2021.pdf",
          "RPQS_Artaix_AC_2019.pdf",
          "RPQS_Saint-Laurent-les-Tours_AC_2021.pdf",
          "RPQS_Chantrigne_AC_2021.pdf",
          "RPQS_Amagne_AC_2022.pdf",
          "RPQS_Grolejac_AC_2021.pdf",
          "RPQS_Neulise_AC_2019.pdf",
          "RPQS_Tournissan_AC_2022.pdf",
          "RPQS_Trie-Chateau_AC_2021.pdf",
          "RPQS_Rully_AC_2021.pdf",
          "RPQS_Aubignosc_AC_2021.pdf",
          "RPQS_Nanteuil-le-Haudouin_AC_2020.pdf",
          "RPQS_Sartrouville_AC_2019.pdf",
          "RPQS_Verneuil-en-Halatte_AC_2019.pdf",
          "RPQS_Marcille-Raoul_AC_2022.pdf",
          "RPQS_Jons_AC_2022.pdf",
          "RPQS_LaSalvetat-Peyrales_AC_2022.pdf",
          "RPQS_Merlevenez_AC_2021.pdf",
          "RPQS_Corbel_AC_2022.pdf",
          "RPQS_Charchigne_AC_2022.pdf",
          "RPQS_Autun_AC_2021.pdf",
          "RPQS_Allain_AC_2021.pdf",
          "RPQS_Montreal_AC_2022.pdf",
          "RPQS_Marthon_AC_2021.pdf",
          "RPQS_LaCorneEnVexin_AC_2021.pdf",
          "RPQS_LeTeil_AC_2018.pdf",
          "RPQS_Gonfaron_AC_2018.pdf",
          "RPQS_Durstel_AC_2021.pdf",
          "RPQS_Illats_AC_2021.pdf",
          "RPQS_Brillac_AC_2021.pdf",
          "RPQS_Alloue_AC_2021.pdf",
          "RAD_Cabasse_AC_2022.pdf",
          "RPQS_Abainville_AC_2021.pdf",
          "RPQS_Reyssouze_AC_2022.pdf",
          "RPQS_Reugny_AC_2022.pdf"
         ],
         "yaxis": "y"
        },
        {
         "alignmentgroup": "True",
         "hovertemplate": "variable=False positives of kind 2<br>value=%{x}<br>pdf_name=%{y}<extra></extra>",
         "legendgroup": "False positives of kind 2",
         "marker": {
          "color": "#FF6692",
          "pattern": {
           "shape": ""
          }
         },
         "name": "False positives of kind 2",
         "offsetgroup": "False positives of kind 2",
         "orientation": "h",
         "showlegend": true,
         "textposition": "auto",
         "type": "bar",
         "x": [
          0,
          0,
          0,
          0,
          0,
          0,
          0,
          0,
          0,
          0,
          0,
          0,
          0,
          0,
          0,
          0,
          0,
          0,
          0,
          0,
          0,
          0,
          0,
          0,
          0,
          0,
          0,
          0,
          0,
          0,
          0,
          0,
          0,
          0,
          0,
          0,
          0,
          0,
          0,
          0,
          0,
          0,
          0,
          0,
          0
         ],
         "xaxis": "x",
         "y": [
          "RPQS_Estezargues_AC_2021.pdf",
          "RPQS_Saint-Trivier-sur-Moignans_AC_2022.pdf",
          "RPQS_Mionnay_AC_2022.pdf",
          "RPQS_Genouilly_AC_2021.pdf",
          "RPQS_Treverien_AC_2023.pdf",
          "RPQS_Junas_AC_2021.pdf",
          "RPQS_Ahun_AC_2021.pdf",
          "RPQS_Chalautre-la-Petite_AC_2019.pdf",
          "RPQS_Cartelegue_AC_2023.pdf",
          "RPQS_Saint-Mihiel_AC_2020.pdf",
          "RPQS_Cussy-les-Forges_AC_2021.pdf",
          "RPQS_Artaix_AC_2019.pdf",
          "RPQS_Saint-Laurent-les-Tours_AC_2021.pdf",
          "RPQS_Chantrigne_AC_2021.pdf",
          "RPQS_Amagne_AC_2022.pdf",
          "RPQS_Grolejac_AC_2021.pdf",
          "RPQS_Neulise_AC_2019.pdf",
          "RPQS_Tournissan_AC_2022.pdf",
          "RPQS_Trie-Chateau_AC_2021.pdf",
          "RPQS_Rully_AC_2021.pdf",
          "RPQS_Aubignosc_AC_2021.pdf",
          "RPQS_Nanteuil-le-Haudouin_AC_2020.pdf",
          "RPQS_Sartrouville_AC_2019.pdf",
          "RPQS_Verneuil-en-Halatte_AC_2019.pdf",
          "RPQS_Marcille-Raoul_AC_2022.pdf",
          "RPQS_Jons_AC_2022.pdf",
          "RPQS_LaSalvetat-Peyrales_AC_2022.pdf",
          "RPQS_Merlevenez_AC_2021.pdf",
          "RPQS_Corbel_AC_2022.pdf",
          "RPQS_Charchigne_AC_2022.pdf",
          "RPQS_Autun_AC_2021.pdf",
          "RPQS_Allain_AC_2021.pdf",
          "RPQS_Montreal_AC_2022.pdf",
          "RPQS_Marthon_AC_2021.pdf",
          "RPQS_LaCorneEnVexin_AC_2021.pdf",
          "RPQS_LeTeil_AC_2018.pdf",
          "RPQS_Gonfaron_AC_2018.pdf",
          "RPQS_Durstel_AC_2021.pdf",
          "RPQS_Illats_AC_2021.pdf",
          "RPQS_Brillac_AC_2021.pdf",
          "RPQS_Alloue_AC_2021.pdf",
          "RAD_Cabasse_AC_2022.pdf",
          "RPQS_Abainville_AC_2021.pdf",
          "RPQS_Reyssouze_AC_2022.pdf",
          "RPQS_Reugny_AC_2022.pdf"
         ],
         "yaxis": "y"
        },
        {
         "alignmentgroup": "True",
         "hovertemplate": "variable=False negatives<br>value=%{x}<br>pdf_name=%{y}<extra></extra>",
         "legendgroup": "False negatives",
         "marker": {
          "color": "#FFA15A",
          "pattern": {
           "shape": ""
          }
         },
         "name": "False negatives",
         "offsetgroup": "False negatives",
         "orientation": "h",
         "showlegend": true,
         "textposition": "auto",
         "type": "bar",
         "x": [
          8,
          19,
          16,
          7,
          10,
          10,
          6,
          5,
          17,
          3,
          3,
          7,
          2,
          5,
          2,
          2,
          5,
          2,
          3,
          2,
          3,
          2,
          0,
          1,
          4,
          13,
          2,
          12,
          2,
          2,
          15,
          0,
          0,
          2,
          3,
          1,
          12,
          11,
          3,
          2,
          1,
          0,
          0,
          0,
          2
         ],
         "xaxis": "x",
         "y": [
          "RPQS_Estezargues_AC_2021.pdf",
          "RPQS_Saint-Trivier-sur-Moignans_AC_2022.pdf",
          "RPQS_Mionnay_AC_2022.pdf",
          "RPQS_Genouilly_AC_2021.pdf",
          "RPQS_Treverien_AC_2023.pdf",
          "RPQS_Junas_AC_2021.pdf",
          "RPQS_Ahun_AC_2021.pdf",
          "RPQS_Chalautre-la-Petite_AC_2019.pdf",
          "RPQS_Cartelegue_AC_2023.pdf",
          "RPQS_Saint-Mihiel_AC_2020.pdf",
          "RPQS_Cussy-les-Forges_AC_2021.pdf",
          "RPQS_Artaix_AC_2019.pdf",
          "RPQS_Saint-Laurent-les-Tours_AC_2021.pdf",
          "RPQS_Chantrigne_AC_2021.pdf",
          "RPQS_Amagne_AC_2022.pdf",
          "RPQS_Grolejac_AC_2021.pdf",
          "RPQS_Neulise_AC_2019.pdf",
          "RPQS_Tournissan_AC_2022.pdf",
          "RPQS_Trie-Chateau_AC_2021.pdf",
          "RPQS_Rully_AC_2021.pdf",
          "RPQS_Aubignosc_AC_2021.pdf",
          "RPQS_Nanteuil-le-Haudouin_AC_2020.pdf",
          "RPQS_Sartrouville_AC_2019.pdf",
          "RPQS_Verneuil-en-Halatte_AC_2019.pdf",
          "RPQS_Marcille-Raoul_AC_2022.pdf",
          "RPQS_Jons_AC_2022.pdf",
          "RPQS_LaSalvetat-Peyrales_AC_2022.pdf",
          "RPQS_Merlevenez_AC_2021.pdf",
          "RPQS_Corbel_AC_2022.pdf",
          "RPQS_Charchigne_AC_2022.pdf",
          "RPQS_Autun_AC_2021.pdf",
          "RPQS_Allain_AC_2021.pdf",
          "RPQS_Montreal_AC_2022.pdf",
          "RPQS_Marthon_AC_2021.pdf",
          "RPQS_LaCorneEnVexin_AC_2021.pdf",
          "RPQS_LeTeil_AC_2018.pdf",
          "RPQS_Gonfaron_AC_2018.pdf",
          "RPQS_Durstel_AC_2021.pdf",
          "RPQS_Illats_AC_2021.pdf",
          "RPQS_Brillac_AC_2021.pdf",
          "RPQS_Alloue_AC_2021.pdf",
          "RAD_Cabasse_AC_2022.pdf",
          "RPQS_Abainville_AC_2021.pdf",
          "RPQS_Reyssouze_AC_2022.pdf",
          "RPQS_Reugny_AC_2022.pdf"
         ],
         "yaxis": "y"
        }
       ],
       "layout": {
        "barmode": "relative",
        "height": 900,
        "legend": {
         "title": {
          "text": "variable"
         },
         "tracegroupgap": 0
        },
        "template": {
         "data": {
          "bar": [
           {
            "error_x": {
             "color": "#2a3f5f"
            },
            "error_y": {
             "color": "#2a3f5f"
            },
            "marker": {
             "line": {
              "color": "#E5ECF6",
              "width": 0.5
             },
             "pattern": {
              "fillmode": "overlay",
              "size": 10,
              "solidity": 0.2
             }
            },
            "type": "bar"
           }
          ],
          "barpolar": [
           {
            "marker": {
             "line": {
              "color": "#E5ECF6",
              "width": 0.5
             },
             "pattern": {
              "fillmode": "overlay",
              "size": 10,
              "solidity": 0.2
             }
            },
            "type": "barpolar"
           }
          ],
          "carpet": [
           {
            "aaxis": {
             "endlinecolor": "#2a3f5f",
             "gridcolor": "white",
             "linecolor": "white",
             "minorgridcolor": "white",
             "startlinecolor": "#2a3f5f"
            },
            "baxis": {
             "endlinecolor": "#2a3f5f",
             "gridcolor": "white",
             "linecolor": "white",
             "minorgridcolor": "white",
             "startlinecolor": "#2a3f5f"
            },
            "type": "carpet"
           }
          ],
          "choropleth": [
           {
            "colorbar": {
             "outlinewidth": 0,
             "ticks": ""
            },
            "type": "choropleth"
           }
          ],
          "contour": [
           {
            "colorbar": {
             "outlinewidth": 0,
             "ticks": ""
            },
            "colorscale": [
             [
              0,
              "#0d0887"
             ],
             [
              0.1111111111111111,
              "#46039f"
             ],
             [
              0.2222222222222222,
              "#7201a8"
             ],
             [
              0.3333333333333333,
              "#9c179e"
             ],
             [
              0.4444444444444444,
              "#bd3786"
             ],
             [
              0.5555555555555556,
              "#d8576b"
             ],
             [
              0.6666666666666666,
              "#ed7953"
             ],
             [
              0.7777777777777778,
              "#fb9f3a"
             ],
             [
              0.8888888888888888,
              "#fdca26"
             ],
             [
              1,
              "#f0f921"
             ]
            ],
            "type": "contour"
           }
          ],
          "contourcarpet": [
           {
            "colorbar": {
             "outlinewidth": 0,
             "ticks": ""
            },
            "type": "contourcarpet"
           }
          ],
          "heatmap": [
           {
            "colorbar": {
             "outlinewidth": 0,
             "ticks": ""
            },
            "colorscale": [
             [
              0,
              "#0d0887"
             ],
             [
              0.1111111111111111,
              "#46039f"
             ],
             [
              0.2222222222222222,
              "#7201a8"
             ],
             [
              0.3333333333333333,
              "#9c179e"
             ],
             [
              0.4444444444444444,
              "#bd3786"
             ],
             [
              0.5555555555555556,
              "#d8576b"
             ],
             [
              0.6666666666666666,
              "#ed7953"
             ],
             [
              0.7777777777777778,
              "#fb9f3a"
             ],
             [
              0.8888888888888888,
              "#fdca26"
             ],
             [
              1,
              "#f0f921"
             ]
            ],
            "type": "heatmap"
           }
          ],
          "heatmapgl": [
           {
            "colorbar": {
             "outlinewidth": 0,
             "ticks": ""
            },
            "colorscale": [
             [
              0,
              "#0d0887"
             ],
             [
              0.1111111111111111,
              "#46039f"
             ],
             [
              0.2222222222222222,
              "#7201a8"
             ],
             [
              0.3333333333333333,
              "#9c179e"
             ],
             [
              0.4444444444444444,
              "#bd3786"
             ],
             [
              0.5555555555555556,
              "#d8576b"
             ],
             [
              0.6666666666666666,
              "#ed7953"
             ],
             [
              0.7777777777777778,
              "#fb9f3a"
             ],
             [
              0.8888888888888888,
              "#fdca26"
             ],
             [
              1,
              "#f0f921"
             ]
            ],
            "type": "heatmapgl"
           }
          ],
          "histogram": [
           {
            "marker": {
             "pattern": {
              "fillmode": "overlay",
              "size": 10,
              "solidity": 0.2
             }
            },
            "type": "histogram"
           }
          ],
          "histogram2d": [
           {
            "colorbar": {
             "outlinewidth": 0,
             "ticks": ""
            },
            "colorscale": [
             [
              0,
              "#0d0887"
             ],
             [
              0.1111111111111111,
              "#46039f"
             ],
             [
              0.2222222222222222,
              "#7201a8"
             ],
             [
              0.3333333333333333,
              "#9c179e"
             ],
             [
              0.4444444444444444,
              "#bd3786"
             ],
             [
              0.5555555555555556,
              "#d8576b"
             ],
             [
              0.6666666666666666,
              "#ed7953"
             ],
             [
              0.7777777777777778,
              "#fb9f3a"
             ],
             [
              0.8888888888888888,
              "#fdca26"
             ],
             [
              1,
              "#f0f921"
             ]
            ],
            "type": "histogram2d"
           }
          ],
          "histogram2dcontour": [
           {
            "colorbar": {
             "outlinewidth": 0,
             "ticks": ""
            },
            "colorscale": [
             [
              0,
              "#0d0887"
             ],
             [
              0.1111111111111111,
              "#46039f"
             ],
             [
              0.2222222222222222,
              "#7201a8"
             ],
             [
              0.3333333333333333,
              "#9c179e"
             ],
             [
              0.4444444444444444,
              "#bd3786"
             ],
             [
              0.5555555555555556,
              "#d8576b"
             ],
             [
              0.6666666666666666,
              "#ed7953"
             ],
             [
              0.7777777777777778,
              "#fb9f3a"
             ],
             [
              0.8888888888888888,
              "#fdca26"
             ],
             [
              1,
              "#f0f921"
             ]
            ],
            "type": "histogram2dcontour"
           }
          ],
          "mesh3d": [
           {
            "colorbar": {
             "outlinewidth": 0,
             "ticks": ""
            },
            "type": "mesh3d"
           }
          ],
          "parcoords": [
           {
            "line": {
             "colorbar": {
              "outlinewidth": 0,
              "ticks": ""
             }
            },
            "type": "parcoords"
           }
          ],
          "pie": [
           {
            "automargin": true,
            "type": "pie"
           }
          ],
          "scatter": [
           {
            "fillpattern": {
             "fillmode": "overlay",
             "size": 10,
             "solidity": 0.2
            },
            "type": "scatter"
           }
          ],
          "scatter3d": [
           {
            "line": {
             "colorbar": {
              "outlinewidth": 0,
              "ticks": ""
             }
            },
            "marker": {
             "colorbar": {
              "outlinewidth": 0,
              "ticks": ""
             }
            },
            "type": "scatter3d"
           }
          ],
          "scattercarpet": [
           {
            "marker": {
             "colorbar": {
              "outlinewidth": 0,
              "ticks": ""
             }
            },
            "type": "scattercarpet"
           }
          ],
          "scattergeo": [
           {
            "marker": {
             "colorbar": {
              "outlinewidth": 0,
              "ticks": ""
             }
            },
            "type": "scattergeo"
           }
          ],
          "scattergl": [
           {
            "marker": {
             "colorbar": {
              "outlinewidth": 0,
              "ticks": ""
             }
            },
            "type": "scattergl"
           }
          ],
          "scattermapbox": [
           {
            "marker": {
             "colorbar": {
              "outlinewidth": 0,
              "ticks": ""
             }
            },
            "type": "scattermapbox"
           }
          ],
          "scatterpolar": [
           {
            "marker": {
             "colorbar": {
              "outlinewidth": 0,
              "ticks": ""
             }
            },
            "type": "scatterpolar"
           }
          ],
          "scatterpolargl": [
           {
            "marker": {
             "colorbar": {
              "outlinewidth": 0,
              "ticks": ""
             }
            },
            "type": "scatterpolargl"
           }
          ],
          "scatterternary": [
           {
            "marker": {
             "colorbar": {
              "outlinewidth": 0,
              "ticks": ""
             }
            },
            "type": "scatterternary"
           }
          ],
          "surface": [
           {
            "colorbar": {
             "outlinewidth": 0,
             "ticks": ""
            },
            "colorscale": [
             [
              0,
              "#0d0887"
             ],
             [
              0.1111111111111111,
              "#46039f"
             ],
             [
              0.2222222222222222,
              "#7201a8"
             ],
             [
              0.3333333333333333,
              "#9c179e"
             ],
             [
              0.4444444444444444,
              "#bd3786"
             ],
             [
              0.5555555555555556,
              "#d8576b"
             ],
             [
              0.6666666666666666,
              "#ed7953"
             ],
             [
              0.7777777777777778,
              "#fb9f3a"
             ],
             [
              0.8888888888888888,
              "#fdca26"
             ],
             [
              1,
              "#f0f921"
             ]
            ],
            "type": "surface"
           }
          ],
          "table": [
           {
            "cells": {
             "fill": {
              "color": "#EBF0F8"
             },
             "line": {
              "color": "white"
             }
            },
            "header": {
             "fill": {
              "color": "#C8D4E3"
             },
             "line": {
              "color": "white"
             }
            },
            "type": "table"
           }
          ]
         },
         "layout": {
          "annotationdefaults": {
           "arrowcolor": "#2a3f5f",
           "arrowhead": 0,
           "arrowwidth": 1
          },
          "autotypenumbers": "strict",
          "coloraxis": {
           "colorbar": {
            "outlinewidth": 0,
            "ticks": ""
           }
          },
          "colorscale": {
           "diverging": [
            [
             0,
             "#8e0152"
            ],
            [
             0.1,
             "#c51b7d"
            ],
            [
             0.2,
             "#de77ae"
            ],
            [
             0.3,
             "#f1b6da"
            ],
            [
             0.4,
             "#fde0ef"
            ],
            [
             0.5,
             "#f7f7f7"
            ],
            [
             0.6,
             "#e6f5d0"
            ],
            [
             0.7,
             "#b8e186"
            ],
            [
             0.8,
             "#7fbc41"
            ],
            [
             0.9,
             "#4d9221"
            ],
            [
             1,
             "#276419"
            ]
           ],
           "sequential": [
            [
             0,
             "#0d0887"
            ],
            [
             0.1111111111111111,
             "#46039f"
            ],
            [
             0.2222222222222222,
             "#7201a8"
            ],
            [
             0.3333333333333333,
             "#9c179e"
            ],
            [
             0.4444444444444444,
             "#bd3786"
            ],
            [
             0.5555555555555556,
             "#d8576b"
            ],
            [
             0.6666666666666666,
             "#ed7953"
            ],
            [
             0.7777777777777778,
             "#fb9f3a"
            ],
            [
             0.8888888888888888,
             "#fdca26"
            ],
            [
             1,
             "#f0f921"
            ]
           ],
           "sequentialminus": [
            [
             0,
             "#0d0887"
            ],
            [
             0.1111111111111111,
             "#46039f"
            ],
            [
             0.2222222222222222,
             "#7201a8"
            ],
            [
             0.3333333333333333,
             "#9c179e"
            ],
            [
             0.4444444444444444,
             "#bd3786"
            ],
            [
             0.5555555555555556,
             "#d8576b"
            ],
            [
             0.6666666666666666,
             "#ed7953"
            ],
            [
             0.7777777777777778,
             "#fb9f3a"
            ],
            [
             0.8888888888888888,
             "#fdca26"
            ],
            [
             1,
             "#f0f921"
            ]
           ]
          },
          "colorway": [
           "#636efa",
           "#EF553B",
           "#00cc96",
           "#ab63fa",
           "#FFA15A",
           "#19d3f3",
           "#FF6692",
           "#B6E880",
           "#FF97FF",
           "#FECB52"
          ],
          "font": {
           "color": "#2a3f5f"
          },
          "geo": {
           "bgcolor": "white",
           "lakecolor": "white",
           "landcolor": "#E5ECF6",
           "showlakes": true,
           "showland": true,
           "subunitcolor": "white"
          },
          "hoverlabel": {
           "align": "left"
          },
          "hovermode": "closest",
          "mapbox": {
           "style": "light"
          },
          "paper_bgcolor": "white",
          "plot_bgcolor": "#E5ECF6",
          "polar": {
           "angularaxis": {
            "gridcolor": "white",
            "linecolor": "white",
            "ticks": ""
           },
           "bgcolor": "#E5ECF6",
           "radialaxis": {
            "gridcolor": "white",
            "linecolor": "white",
            "ticks": ""
           }
          },
          "scene": {
           "xaxis": {
            "backgroundcolor": "#E5ECF6",
            "gridcolor": "white",
            "gridwidth": 2,
            "linecolor": "white",
            "showbackground": true,
            "ticks": "",
            "zerolinecolor": "white"
           },
           "yaxis": {
            "backgroundcolor": "#E5ECF6",
            "gridcolor": "white",
            "gridwidth": 2,
            "linecolor": "white",
            "showbackground": true,
            "ticks": "",
            "zerolinecolor": "white"
           },
           "zaxis": {
            "backgroundcolor": "#E5ECF6",
            "gridcolor": "white",
            "gridwidth": 2,
            "linecolor": "white",
            "showbackground": true,
            "ticks": "",
            "zerolinecolor": "white"
           }
          },
          "shapedefaults": {
           "line": {
            "color": "#2a3f5f"
           }
          },
          "ternary": {
           "aaxis": {
            "gridcolor": "white",
            "linecolor": "white",
            "ticks": ""
           },
           "baxis": {
            "gridcolor": "white",
            "linecolor": "white",
            "ticks": ""
           },
           "bgcolor": "#E5ECF6",
           "caxis": {
            "gridcolor": "white",
            "linecolor": "white",
            "ticks": ""
           }
          },
          "title": {
           "x": 0.05
          },
          "xaxis": {
           "automargin": true,
           "gridcolor": "white",
           "linecolor": "white",
           "ticks": "",
           "title": {
            "standoff": 15
           },
           "zerolinecolor": "white",
           "zerolinewidth": 2
          },
          "yaxis": {
           "automargin": true,
           "gridcolor": "white",
           "linecolor": "white",
           "ticks": "",
           "title": {
            "standoff": 15
           },
           "zerolinecolor": "white",
           "zerolinewidth": 2
          }
         }
        },
        "title": {
         "text": "Metrics per pdf for benchmark_table_32"
        },
        "width": 800,
        "xaxis": {
         "anchor": "y",
         "domain": [
          0,
          1
         ],
         "title": {
          "text": "value"
         }
        },
        "yaxis": {
         "anchor": "x",
         "domain": [
          0,
          1
         ],
         "title": {
          "text": "pdf_name"
         }
        }
       }
      },
      "text/html": [
       "<div>                            <div id=\"4bef9595-a175-4398-b2db-f691afdbf5a9\" class=\"plotly-graph-div\" style=\"height:900px; width:800px;\"></div>            <script type=\"text/javascript\">                require([\"plotly\"], function(Plotly) {                    window.PLOTLYENV=window.PLOTLYENV || {};                                    if (document.getElementById(\"4bef9595-a175-4398-b2db-f691afdbf5a9\")) {                    Plotly.newPlot(                        \"4bef9595-a175-4398-b2db-f691afdbf5a9\",                        [{\"alignmentgroup\":\"True\",\"hovertemplate\":\"variable=True positives\\u003cbr\\u003evalue=%{x}\\u003cbr\\u003epdf_name=%{y}\\u003cextra\\u003e\\u003c\\u002fextra\\u003e\",\"legendgroup\":\"True positives\",\"marker\":{\"color\":\"#636EFA\",\"pattern\":{\"shape\":\"\"}},\"name\":\"True positives\",\"offsetgroup\":\"True positives\",\"orientation\":\"h\",\"showlegend\":true,\"textposition\":\"auto\",\"x\":[0,0,0,0,0,1,0,0,0,0,6,0,0,0,6,15,8,8,8,13,0,16,0,12,0,0,11,0,0,0,0,9,2,10,11,8,0,0,13,10,10,10,10,0,10],\"xaxis\":\"x\",\"y\":[\"RPQS_Estezargues_AC_2021.pdf\",\"RPQS_Saint-Trivier-sur-Moignans_AC_2022.pdf\",\"RPQS_Mionnay_AC_2022.pdf\",\"RPQS_Genouilly_AC_2021.pdf\",\"RPQS_Treverien_AC_2023.pdf\",\"RPQS_Junas_AC_2021.pdf\",\"RPQS_Ahun_AC_2021.pdf\",\"RPQS_Chalautre-la-Petite_AC_2019.pdf\",\"RPQS_Cartelegue_AC_2023.pdf\",\"RPQS_Saint-Mihiel_AC_2020.pdf\",\"RPQS_Cussy-les-Forges_AC_2021.pdf\",\"RPQS_Artaix_AC_2019.pdf\",\"RPQS_Saint-Laurent-les-Tours_AC_2021.pdf\",\"RPQS_Chantrigne_AC_2021.pdf\",\"RPQS_Amagne_AC_2022.pdf\",\"RPQS_Grolejac_AC_2021.pdf\",\"RPQS_Neulise_AC_2019.pdf\",\"RPQS_Tournissan_AC_2022.pdf\",\"RPQS_Trie-Chateau_AC_2021.pdf\",\"RPQS_Rully_AC_2021.pdf\",\"RPQS_Aubignosc_AC_2021.pdf\",\"RPQS_Nanteuil-le-Haudouin_AC_2020.pdf\",\"RPQS_Sartrouville_AC_2019.pdf\",\"RPQS_Verneuil-en-Halatte_AC_2019.pdf\",\"RPQS_Marcille-Raoul_AC_2022.pdf\",\"RPQS_Jons_AC_2022.pdf\",\"RPQS_LaSalvetat-Peyrales_AC_2022.pdf\",\"RPQS_Merlevenez_AC_2021.pdf\",\"RPQS_Corbel_AC_2022.pdf\",\"RPQS_Charchigne_AC_2022.pdf\",\"RPQS_Autun_AC_2021.pdf\",\"RPQS_Allain_AC_2021.pdf\",\"RPQS_Montreal_AC_2022.pdf\",\"RPQS_Marthon_AC_2021.pdf\",\"RPQS_LaCorneEnVexin_AC_2021.pdf\",\"RPQS_LeTeil_AC_2018.pdf\",\"RPQS_Gonfaron_AC_2018.pdf\",\"RPQS_Durstel_AC_2021.pdf\",\"RPQS_Illats_AC_2021.pdf\",\"RPQS_Brillac_AC_2021.pdf\",\"RPQS_Alloue_AC_2021.pdf\",\"RAD_Cabasse_AC_2022.pdf\",\"RPQS_Abainville_AC_2021.pdf\",\"RPQS_Reyssouze_AC_2022.pdf\",\"RPQS_Reugny_AC_2022.pdf\"],\"yaxis\":\"y\",\"type\":\"bar\"},{\"alignmentgroup\":\"True\",\"hovertemplate\":\"variable=True negatives\\u003cbr\\u003evalue=%{x}\\u003cbr\\u003epdf_name=%{y}\\u003cextra\\u003e\\u003c\\u002fextra\\u003e\",\"legendgroup\":\"True negatives\",\"marker\":{\"color\":\"#19D3F3\",\"pattern\":{\"shape\":\"\"}},\"name\":\"True negatives\",\"offsetgroup\":\"True negatives\",\"orientation\":\"h\",\"showlegend\":true,\"textposition\":\"auto\",\"x\":[11,0,3,12,9,8,13,14,2,16,10,12,17,14,11,2,6,9,8,4,16,1,19,6,15,6,6,7,17,17,4,10,17,7,5,10,7,8,3,7,8,9,9,19,7],\"xaxis\":\"x\",\"y\":[\"RPQS_Estezargues_AC_2021.pdf\",\"RPQS_Saint-Trivier-sur-Moignans_AC_2022.pdf\",\"RPQS_Mionnay_AC_2022.pdf\",\"RPQS_Genouilly_AC_2021.pdf\",\"RPQS_Treverien_AC_2023.pdf\",\"RPQS_Junas_AC_2021.pdf\",\"RPQS_Ahun_AC_2021.pdf\",\"RPQS_Chalautre-la-Petite_AC_2019.pdf\",\"RPQS_Cartelegue_AC_2023.pdf\",\"RPQS_Saint-Mihiel_AC_2020.pdf\",\"RPQS_Cussy-les-Forges_AC_2021.pdf\",\"RPQS_Artaix_AC_2019.pdf\",\"RPQS_Saint-Laurent-les-Tours_AC_2021.pdf\",\"RPQS_Chantrigne_AC_2021.pdf\",\"RPQS_Amagne_AC_2022.pdf\",\"RPQS_Grolejac_AC_2021.pdf\",\"RPQS_Neulise_AC_2019.pdf\",\"RPQS_Tournissan_AC_2022.pdf\",\"RPQS_Trie-Chateau_AC_2021.pdf\",\"RPQS_Rully_AC_2021.pdf\",\"RPQS_Aubignosc_AC_2021.pdf\",\"RPQS_Nanteuil-le-Haudouin_AC_2020.pdf\",\"RPQS_Sartrouville_AC_2019.pdf\",\"RPQS_Verneuil-en-Halatte_AC_2019.pdf\",\"RPQS_Marcille-Raoul_AC_2022.pdf\",\"RPQS_Jons_AC_2022.pdf\",\"RPQS_LaSalvetat-Peyrales_AC_2022.pdf\",\"RPQS_Merlevenez_AC_2021.pdf\",\"RPQS_Corbel_AC_2022.pdf\",\"RPQS_Charchigne_AC_2022.pdf\",\"RPQS_Autun_AC_2021.pdf\",\"RPQS_Allain_AC_2021.pdf\",\"RPQS_Montreal_AC_2022.pdf\",\"RPQS_Marthon_AC_2021.pdf\",\"RPQS_LaCorneEnVexin_AC_2021.pdf\",\"RPQS_LeTeil_AC_2018.pdf\",\"RPQS_Gonfaron_AC_2018.pdf\",\"RPQS_Durstel_AC_2021.pdf\",\"RPQS_Illats_AC_2021.pdf\",\"RPQS_Brillac_AC_2021.pdf\",\"RPQS_Alloue_AC_2021.pdf\",\"RAD_Cabasse_AC_2022.pdf\",\"RPQS_Abainville_AC_2021.pdf\",\"RPQS_Reyssouze_AC_2022.pdf\",\"RPQS_Reugny_AC_2022.pdf\"],\"yaxis\":\"y\",\"type\":\"bar\"},{\"alignmentgroup\":\"True\",\"hovertemplate\":\"variable=False positives of kind 1\\u003cbr\\u003evalue=%{x}\\u003cbr\\u003epdf_name=%{y}\\u003cextra\\u003e\\u003c\\u002fextra\\u003e\",\"legendgroup\":\"False positives of kind 1\",\"marker\":{\"color\":\"#EF553B\",\"pattern\":{\"shape\":\"\"}},\"name\":\"False positives of kind 1\",\"offsetgroup\":\"False positives of kind 1\",\"orientation\":\"h\",\"showlegend\":true,\"textposition\":\"auto\",\"x\":[0,0,0,0,0,0,0,0,0,0,0,0,0,0,0,0,0,0,0,0,0,0,0,0,0,0,0,0,0,0,0,0,0,0,0,0,0,0,0,0,0,0,0,0,0],\"xaxis\":\"x\",\"y\":[\"RPQS_Estezargues_AC_2021.pdf\",\"RPQS_Saint-Trivier-sur-Moignans_AC_2022.pdf\",\"RPQS_Mionnay_AC_2022.pdf\",\"RPQS_Genouilly_AC_2021.pdf\",\"RPQS_Treverien_AC_2023.pdf\",\"RPQS_Junas_AC_2021.pdf\",\"RPQS_Ahun_AC_2021.pdf\",\"RPQS_Chalautre-la-Petite_AC_2019.pdf\",\"RPQS_Cartelegue_AC_2023.pdf\",\"RPQS_Saint-Mihiel_AC_2020.pdf\",\"RPQS_Cussy-les-Forges_AC_2021.pdf\",\"RPQS_Artaix_AC_2019.pdf\",\"RPQS_Saint-Laurent-les-Tours_AC_2021.pdf\",\"RPQS_Chantrigne_AC_2021.pdf\",\"RPQS_Amagne_AC_2022.pdf\",\"RPQS_Grolejac_AC_2021.pdf\",\"RPQS_Neulise_AC_2019.pdf\",\"RPQS_Tournissan_AC_2022.pdf\",\"RPQS_Trie-Chateau_AC_2021.pdf\",\"RPQS_Rully_AC_2021.pdf\",\"RPQS_Aubignosc_AC_2021.pdf\",\"RPQS_Nanteuil-le-Haudouin_AC_2020.pdf\",\"RPQS_Sartrouville_AC_2019.pdf\",\"RPQS_Verneuil-en-Halatte_AC_2019.pdf\",\"RPQS_Marcille-Raoul_AC_2022.pdf\",\"RPQS_Jons_AC_2022.pdf\",\"RPQS_LaSalvetat-Peyrales_AC_2022.pdf\",\"RPQS_Merlevenez_AC_2021.pdf\",\"RPQS_Corbel_AC_2022.pdf\",\"RPQS_Charchigne_AC_2022.pdf\",\"RPQS_Autun_AC_2021.pdf\",\"RPQS_Allain_AC_2021.pdf\",\"RPQS_Montreal_AC_2022.pdf\",\"RPQS_Marthon_AC_2021.pdf\",\"RPQS_LaCorneEnVexin_AC_2021.pdf\",\"RPQS_LeTeil_AC_2018.pdf\",\"RPQS_Gonfaron_AC_2018.pdf\",\"RPQS_Durstel_AC_2021.pdf\",\"RPQS_Illats_AC_2021.pdf\",\"RPQS_Brillac_AC_2021.pdf\",\"RPQS_Alloue_AC_2021.pdf\",\"RAD_Cabasse_AC_2022.pdf\",\"RPQS_Abainville_AC_2021.pdf\",\"RPQS_Reyssouze_AC_2022.pdf\",\"RPQS_Reugny_AC_2022.pdf\"],\"yaxis\":\"y\",\"type\":\"bar\"},{\"alignmentgroup\":\"True\",\"hovertemplate\":\"variable=False positives of kind 2\\u003cbr\\u003evalue=%{x}\\u003cbr\\u003epdf_name=%{y}\\u003cextra\\u003e\\u003c\\u002fextra\\u003e\",\"legendgroup\":\"False positives of kind 2\",\"marker\":{\"color\":\"#FF6692\",\"pattern\":{\"shape\":\"\"}},\"name\":\"False positives of kind 2\",\"offsetgroup\":\"False positives of kind 2\",\"orientation\":\"h\",\"showlegend\":true,\"textposition\":\"auto\",\"x\":[0,0,0,0,0,0,0,0,0,0,0,0,0,0,0,0,0,0,0,0,0,0,0,0,0,0,0,0,0,0,0,0,0,0,0,0,0,0,0,0,0,0,0,0,0],\"xaxis\":\"x\",\"y\":[\"RPQS_Estezargues_AC_2021.pdf\",\"RPQS_Saint-Trivier-sur-Moignans_AC_2022.pdf\",\"RPQS_Mionnay_AC_2022.pdf\",\"RPQS_Genouilly_AC_2021.pdf\",\"RPQS_Treverien_AC_2023.pdf\",\"RPQS_Junas_AC_2021.pdf\",\"RPQS_Ahun_AC_2021.pdf\",\"RPQS_Chalautre-la-Petite_AC_2019.pdf\",\"RPQS_Cartelegue_AC_2023.pdf\",\"RPQS_Saint-Mihiel_AC_2020.pdf\",\"RPQS_Cussy-les-Forges_AC_2021.pdf\",\"RPQS_Artaix_AC_2019.pdf\",\"RPQS_Saint-Laurent-les-Tours_AC_2021.pdf\",\"RPQS_Chantrigne_AC_2021.pdf\",\"RPQS_Amagne_AC_2022.pdf\",\"RPQS_Grolejac_AC_2021.pdf\",\"RPQS_Neulise_AC_2019.pdf\",\"RPQS_Tournissan_AC_2022.pdf\",\"RPQS_Trie-Chateau_AC_2021.pdf\",\"RPQS_Rully_AC_2021.pdf\",\"RPQS_Aubignosc_AC_2021.pdf\",\"RPQS_Nanteuil-le-Haudouin_AC_2020.pdf\",\"RPQS_Sartrouville_AC_2019.pdf\",\"RPQS_Verneuil-en-Halatte_AC_2019.pdf\",\"RPQS_Marcille-Raoul_AC_2022.pdf\",\"RPQS_Jons_AC_2022.pdf\",\"RPQS_LaSalvetat-Peyrales_AC_2022.pdf\",\"RPQS_Merlevenez_AC_2021.pdf\",\"RPQS_Corbel_AC_2022.pdf\",\"RPQS_Charchigne_AC_2022.pdf\",\"RPQS_Autun_AC_2021.pdf\",\"RPQS_Allain_AC_2021.pdf\",\"RPQS_Montreal_AC_2022.pdf\",\"RPQS_Marthon_AC_2021.pdf\",\"RPQS_LaCorneEnVexin_AC_2021.pdf\",\"RPQS_LeTeil_AC_2018.pdf\",\"RPQS_Gonfaron_AC_2018.pdf\",\"RPQS_Durstel_AC_2021.pdf\",\"RPQS_Illats_AC_2021.pdf\",\"RPQS_Brillac_AC_2021.pdf\",\"RPQS_Alloue_AC_2021.pdf\",\"RAD_Cabasse_AC_2022.pdf\",\"RPQS_Abainville_AC_2021.pdf\",\"RPQS_Reyssouze_AC_2022.pdf\",\"RPQS_Reugny_AC_2022.pdf\"],\"yaxis\":\"y\",\"type\":\"bar\"},{\"alignmentgroup\":\"True\",\"hovertemplate\":\"variable=False negatives\\u003cbr\\u003evalue=%{x}\\u003cbr\\u003epdf_name=%{y}\\u003cextra\\u003e\\u003c\\u002fextra\\u003e\",\"legendgroup\":\"False negatives\",\"marker\":{\"color\":\"#FFA15A\",\"pattern\":{\"shape\":\"\"}},\"name\":\"False negatives\",\"offsetgroup\":\"False negatives\",\"orientation\":\"h\",\"showlegend\":true,\"textposition\":\"auto\",\"x\":[8,19,16,7,10,10,6,5,17,3,3,7,2,5,2,2,5,2,3,2,3,2,0,1,4,13,2,12,2,2,15,0,0,2,3,1,12,11,3,2,1,0,0,0,2],\"xaxis\":\"x\",\"y\":[\"RPQS_Estezargues_AC_2021.pdf\",\"RPQS_Saint-Trivier-sur-Moignans_AC_2022.pdf\",\"RPQS_Mionnay_AC_2022.pdf\",\"RPQS_Genouilly_AC_2021.pdf\",\"RPQS_Treverien_AC_2023.pdf\",\"RPQS_Junas_AC_2021.pdf\",\"RPQS_Ahun_AC_2021.pdf\",\"RPQS_Chalautre-la-Petite_AC_2019.pdf\",\"RPQS_Cartelegue_AC_2023.pdf\",\"RPQS_Saint-Mihiel_AC_2020.pdf\",\"RPQS_Cussy-les-Forges_AC_2021.pdf\",\"RPQS_Artaix_AC_2019.pdf\",\"RPQS_Saint-Laurent-les-Tours_AC_2021.pdf\",\"RPQS_Chantrigne_AC_2021.pdf\",\"RPQS_Amagne_AC_2022.pdf\",\"RPQS_Grolejac_AC_2021.pdf\",\"RPQS_Neulise_AC_2019.pdf\",\"RPQS_Tournissan_AC_2022.pdf\",\"RPQS_Trie-Chateau_AC_2021.pdf\",\"RPQS_Rully_AC_2021.pdf\",\"RPQS_Aubignosc_AC_2021.pdf\",\"RPQS_Nanteuil-le-Haudouin_AC_2020.pdf\",\"RPQS_Sartrouville_AC_2019.pdf\",\"RPQS_Verneuil-en-Halatte_AC_2019.pdf\",\"RPQS_Marcille-Raoul_AC_2022.pdf\",\"RPQS_Jons_AC_2022.pdf\",\"RPQS_LaSalvetat-Peyrales_AC_2022.pdf\",\"RPQS_Merlevenez_AC_2021.pdf\",\"RPQS_Corbel_AC_2022.pdf\",\"RPQS_Charchigne_AC_2022.pdf\",\"RPQS_Autun_AC_2021.pdf\",\"RPQS_Allain_AC_2021.pdf\",\"RPQS_Montreal_AC_2022.pdf\",\"RPQS_Marthon_AC_2021.pdf\",\"RPQS_LaCorneEnVexin_AC_2021.pdf\",\"RPQS_LeTeil_AC_2018.pdf\",\"RPQS_Gonfaron_AC_2018.pdf\",\"RPQS_Durstel_AC_2021.pdf\",\"RPQS_Illats_AC_2021.pdf\",\"RPQS_Brillac_AC_2021.pdf\",\"RPQS_Alloue_AC_2021.pdf\",\"RAD_Cabasse_AC_2022.pdf\",\"RPQS_Abainville_AC_2021.pdf\",\"RPQS_Reyssouze_AC_2022.pdf\",\"RPQS_Reugny_AC_2022.pdf\"],\"yaxis\":\"y\",\"type\":\"bar\"}],                        {\"template\":{\"data\":{\"histogram2dcontour\":[{\"type\":\"histogram2dcontour\",\"colorbar\":{\"outlinewidth\":0,\"ticks\":\"\"},\"colorscale\":[[0.0,\"#0d0887\"],[0.1111111111111111,\"#46039f\"],[0.2222222222222222,\"#7201a8\"],[0.3333333333333333,\"#9c179e\"],[0.4444444444444444,\"#bd3786\"],[0.5555555555555556,\"#d8576b\"],[0.6666666666666666,\"#ed7953\"],[0.7777777777777778,\"#fb9f3a\"],[0.8888888888888888,\"#fdca26\"],[1.0,\"#f0f921\"]]}],\"choropleth\":[{\"type\":\"choropleth\",\"colorbar\":{\"outlinewidth\":0,\"ticks\":\"\"}}],\"histogram2d\":[{\"type\":\"histogram2d\",\"colorbar\":{\"outlinewidth\":0,\"ticks\":\"\"},\"colorscale\":[[0.0,\"#0d0887\"],[0.1111111111111111,\"#46039f\"],[0.2222222222222222,\"#7201a8\"],[0.3333333333333333,\"#9c179e\"],[0.4444444444444444,\"#bd3786\"],[0.5555555555555556,\"#d8576b\"],[0.6666666666666666,\"#ed7953\"],[0.7777777777777778,\"#fb9f3a\"],[0.8888888888888888,\"#fdca26\"],[1.0,\"#f0f921\"]]}],\"heatmap\":[{\"type\":\"heatmap\",\"colorbar\":{\"outlinewidth\":0,\"ticks\":\"\"},\"colorscale\":[[0.0,\"#0d0887\"],[0.1111111111111111,\"#46039f\"],[0.2222222222222222,\"#7201a8\"],[0.3333333333333333,\"#9c179e\"],[0.4444444444444444,\"#bd3786\"],[0.5555555555555556,\"#d8576b\"],[0.6666666666666666,\"#ed7953\"],[0.7777777777777778,\"#fb9f3a\"],[0.8888888888888888,\"#fdca26\"],[1.0,\"#f0f921\"]]}],\"heatmapgl\":[{\"type\":\"heatmapgl\",\"colorbar\":{\"outlinewidth\":0,\"ticks\":\"\"},\"colorscale\":[[0.0,\"#0d0887\"],[0.1111111111111111,\"#46039f\"],[0.2222222222222222,\"#7201a8\"],[0.3333333333333333,\"#9c179e\"],[0.4444444444444444,\"#bd3786\"],[0.5555555555555556,\"#d8576b\"],[0.6666666666666666,\"#ed7953\"],[0.7777777777777778,\"#fb9f3a\"],[0.8888888888888888,\"#fdca26\"],[1.0,\"#f0f921\"]]}],\"contourcarpet\":[{\"type\":\"contourcarpet\",\"colorbar\":{\"outlinewidth\":0,\"ticks\":\"\"}}],\"contour\":[{\"type\":\"contour\",\"colorbar\":{\"outlinewidth\":0,\"ticks\":\"\"},\"colorscale\":[[0.0,\"#0d0887\"],[0.1111111111111111,\"#46039f\"],[0.2222222222222222,\"#7201a8\"],[0.3333333333333333,\"#9c179e\"],[0.4444444444444444,\"#bd3786\"],[0.5555555555555556,\"#d8576b\"],[0.6666666666666666,\"#ed7953\"],[0.7777777777777778,\"#fb9f3a\"],[0.8888888888888888,\"#fdca26\"],[1.0,\"#f0f921\"]]}],\"surface\":[{\"type\":\"surface\",\"colorbar\":{\"outlinewidth\":0,\"ticks\":\"\"},\"colorscale\":[[0.0,\"#0d0887\"],[0.1111111111111111,\"#46039f\"],[0.2222222222222222,\"#7201a8\"],[0.3333333333333333,\"#9c179e\"],[0.4444444444444444,\"#bd3786\"],[0.5555555555555556,\"#d8576b\"],[0.6666666666666666,\"#ed7953\"],[0.7777777777777778,\"#fb9f3a\"],[0.8888888888888888,\"#fdca26\"],[1.0,\"#f0f921\"]]}],\"mesh3d\":[{\"type\":\"mesh3d\",\"colorbar\":{\"outlinewidth\":0,\"ticks\":\"\"}}],\"scatter\":[{\"fillpattern\":{\"fillmode\":\"overlay\",\"size\":10,\"solidity\":0.2},\"type\":\"scatter\"}],\"parcoords\":[{\"type\":\"parcoords\",\"line\":{\"colorbar\":{\"outlinewidth\":0,\"ticks\":\"\"}}}],\"scatterpolargl\":[{\"type\":\"scatterpolargl\",\"marker\":{\"colorbar\":{\"outlinewidth\":0,\"ticks\":\"\"}}}],\"bar\":[{\"error_x\":{\"color\":\"#2a3f5f\"},\"error_y\":{\"color\":\"#2a3f5f\"},\"marker\":{\"line\":{\"color\":\"#E5ECF6\",\"width\":0.5},\"pattern\":{\"fillmode\":\"overlay\",\"size\":10,\"solidity\":0.2}},\"type\":\"bar\"}],\"scattergeo\":[{\"type\":\"scattergeo\",\"marker\":{\"colorbar\":{\"outlinewidth\":0,\"ticks\":\"\"}}}],\"scatterpolar\":[{\"type\":\"scatterpolar\",\"marker\":{\"colorbar\":{\"outlinewidth\":0,\"ticks\":\"\"}}}],\"histogram\":[{\"marker\":{\"pattern\":{\"fillmode\":\"overlay\",\"size\":10,\"solidity\":0.2}},\"type\":\"histogram\"}],\"scattergl\":[{\"type\":\"scattergl\",\"marker\":{\"colorbar\":{\"outlinewidth\":0,\"ticks\":\"\"}}}],\"scatter3d\":[{\"type\":\"scatter3d\",\"line\":{\"colorbar\":{\"outlinewidth\":0,\"ticks\":\"\"}},\"marker\":{\"colorbar\":{\"outlinewidth\":0,\"ticks\":\"\"}}}],\"scattermapbox\":[{\"type\":\"scattermapbox\",\"marker\":{\"colorbar\":{\"outlinewidth\":0,\"ticks\":\"\"}}}],\"scatterternary\":[{\"type\":\"scatterternary\",\"marker\":{\"colorbar\":{\"outlinewidth\":0,\"ticks\":\"\"}}}],\"scattercarpet\":[{\"type\":\"scattercarpet\",\"marker\":{\"colorbar\":{\"outlinewidth\":0,\"ticks\":\"\"}}}],\"carpet\":[{\"aaxis\":{\"endlinecolor\":\"#2a3f5f\",\"gridcolor\":\"white\",\"linecolor\":\"white\",\"minorgridcolor\":\"white\",\"startlinecolor\":\"#2a3f5f\"},\"baxis\":{\"endlinecolor\":\"#2a3f5f\",\"gridcolor\":\"white\",\"linecolor\":\"white\",\"minorgridcolor\":\"white\",\"startlinecolor\":\"#2a3f5f\"},\"type\":\"carpet\"}],\"table\":[{\"cells\":{\"fill\":{\"color\":\"#EBF0F8\"},\"line\":{\"color\":\"white\"}},\"header\":{\"fill\":{\"color\":\"#C8D4E3\"},\"line\":{\"color\":\"white\"}},\"type\":\"table\"}],\"barpolar\":[{\"marker\":{\"line\":{\"color\":\"#E5ECF6\",\"width\":0.5},\"pattern\":{\"fillmode\":\"overlay\",\"size\":10,\"solidity\":0.2}},\"type\":\"barpolar\"}],\"pie\":[{\"automargin\":true,\"type\":\"pie\"}]},\"layout\":{\"autotypenumbers\":\"strict\",\"colorway\":[\"#636efa\",\"#EF553B\",\"#00cc96\",\"#ab63fa\",\"#FFA15A\",\"#19d3f3\",\"#FF6692\",\"#B6E880\",\"#FF97FF\",\"#FECB52\"],\"font\":{\"color\":\"#2a3f5f\"},\"hovermode\":\"closest\",\"hoverlabel\":{\"align\":\"left\"},\"paper_bgcolor\":\"white\",\"plot_bgcolor\":\"#E5ECF6\",\"polar\":{\"bgcolor\":\"#E5ECF6\",\"angularaxis\":{\"gridcolor\":\"white\",\"linecolor\":\"white\",\"ticks\":\"\"},\"radialaxis\":{\"gridcolor\":\"white\",\"linecolor\":\"white\",\"ticks\":\"\"}},\"ternary\":{\"bgcolor\":\"#E5ECF6\",\"aaxis\":{\"gridcolor\":\"white\",\"linecolor\":\"white\",\"ticks\":\"\"},\"baxis\":{\"gridcolor\":\"white\",\"linecolor\":\"white\",\"ticks\":\"\"},\"caxis\":{\"gridcolor\":\"white\",\"linecolor\":\"white\",\"ticks\":\"\"}},\"coloraxis\":{\"colorbar\":{\"outlinewidth\":0,\"ticks\":\"\"}},\"colorscale\":{\"sequential\":[[0.0,\"#0d0887\"],[0.1111111111111111,\"#46039f\"],[0.2222222222222222,\"#7201a8\"],[0.3333333333333333,\"#9c179e\"],[0.4444444444444444,\"#bd3786\"],[0.5555555555555556,\"#d8576b\"],[0.6666666666666666,\"#ed7953\"],[0.7777777777777778,\"#fb9f3a\"],[0.8888888888888888,\"#fdca26\"],[1.0,\"#f0f921\"]],\"sequentialminus\":[[0.0,\"#0d0887\"],[0.1111111111111111,\"#46039f\"],[0.2222222222222222,\"#7201a8\"],[0.3333333333333333,\"#9c179e\"],[0.4444444444444444,\"#bd3786\"],[0.5555555555555556,\"#d8576b\"],[0.6666666666666666,\"#ed7953\"],[0.7777777777777778,\"#fb9f3a\"],[0.8888888888888888,\"#fdca26\"],[1.0,\"#f0f921\"]],\"diverging\":[[0,\"#8e0152\"],[0.1,\"#c51b7d\"],[0.2,\"#de77ae\"],[0.3,\"#f1b6da\"],[0.4,\"#fde0ef\"],[0.5,\"#f7f7f7\"],[0.6,\"#e6f5d0\"],[0.7,\"#b8e186\"],[0.8,\"#7fbc41\"],[0.9,\"#4d9221\"],[1,\"#276419\"]]},\"xaxis\":{\"gridcolor\":\"white\",\"linecolor\":\"white\",\"ticks\":\"\",\"title\":{\"standoff\":15},\"zerolinecolor\":\"white\",\"automargin\":true,\"zerolinewidth\":2},\"yaxis\":{\"gridcolor\":\"white\",\"linecolor\":\"white\",\"ticks\":\"\",\"title\":{\"standoff\":15},\"zerolinecolor\":\"white\",\"automargin\":true,\"zerolinewidth\":2},\"scene\":{\"xaxis\":{\"backgroundcolor\":\"#E5ECF6\",\"gridcolor\":\"white\",\"linecolor\":\"white\",\"showbackground\":true,\"ticks\":\"\",\"zerolinecolor\":\"white\",\"gridwidth\":2},\"yaxis\":{\"backgroundcolor\":\"#E5ECF6\",\"gridcolor\":\"white\",\"linecolor\":\"white\",\"showbackground\":true,\"ticks\":\"\",\"zerolinecolor\":\"white\",\"gridwidth\":2},\"zaxis\":{\"backgroundcolor\":\"#E5ECF6\",\"gridcolor\":\"white\",\"linecolor\":\"white\",\"showbackground\":true,\"ticks\":\"\",\"zerolinecolor\":\"white\",\"gridwidth\":2}},\"shapedefaults\":{\"line\":{\"color\":\"#2a3f5f\"}},\"annotationdefaults\":{\"arrowcolor\":\"#2a3f5f\",\"arrowhead\":0,\"arrowwidth\":1},\"geo\":{\"bgcolor\":\"white\",\"landcolor\":\"#E5ECF6\",\"subunitcolor\":\"white\",\"showland\":true,\"showlakes\":true,\"lakecolor\":\"white\"},\"title\":{\"x\":0.05},\"mapbox\":{\"style\":\"light\"}}},\"xaxis\":{\"anchor\":\"y\",\"domain\":[0.0,1.0],\"title\":{\"text\":\"value\"}},\"yaxis\":{\"anchor\":\"x\",\"domain\":[0.0,1.0],\"title\":{\"text\":\"pdf_name\"}},\"legend\":{\"title\":{\"text\":\"variable\"},\"tracegroupgap\":0},\"title\":{\"text\":\"Metrics per pdf for benchmark_table_32\"},\"barmode\":\"relative\",\"height\":900,\"width\":800},                        {\"responsive\": true}                    ).then(function(){\n",
       "                            \n",
       "var gd = document.getElementById('4bef9595-a175-4398-b2db-f691afdbf5a9');\n",
       "var x = new MutationObserver(function (mutations, observer) {{\n",
       "        var display = window.getComputedStyle(gd).display;\n",
       "        if (!display || display === 'none') {{\n",
       "            console.log([gd, 'removed!']);\n",
       "            Plotly.purge(gd);\n",
       "            observer.disconnect();\n",
       "        }}\n",
       "}});\n",
       "\n",
       "// Listen for the removal of the full notebook cells\n",
       "var notebookContainer = gd.closest('#notebook-container');\n",
       "if (notebookContainer) {{\n",
       "    x.observe(notebookContainer, {childList: true});\n",
       "}}\n",
       "\n",
       "// Listen for the clearing of the current output cell\n",
       "var outputEl = gd.closest('.output');\n",
       "if (outputEl) {{\n",
       "    x.observe(outputEl, {childList: true});\n",
       "}}\n",
       "\n",
       "                        })                };                });            </script>        </div>"
      ]
     },
     "metadata": {},
     "output_type": "display_data"
    }
   ],
   "source": [
    "# Choose the benchmark version to be studied\n",
    "benchmark_list = [\"benchmark_32\", \"benchmark_table_32\"]\n",
    "\n",
    "# Choose the benchmark version fixing PDF order (descending accuracy)\n",
    "pdf_order = \"benchmark_32\"\n",
    "\n",
    "# Order PDF\n",
    "pdf_order_list = (df_per_pdf[df_per_pdf[\"benchmark_version\"]==pdf_order]\n",
    "                  .sort_values(by=\"accuracy_vs_pdf\", ascending=True)[\"pdf_name\"]\n",
    "                  .to_list())\n",
    "\n",
    "for benchmark_version in benchmark_list:\n",
    "    # Select data in the metrics dataframe\n",
    "    data_to_plot = df_per_pdf[df_per_pdf[\"benchmark_version\"]==benchmark_version]\n",
    "\n",
    "    # Order PDF\n",
    "    data_to_plot = data_to_plot.copy()\n",
    "    data_to_plot['pdf_name'] = pd.Categorical(data_to_plot['pdf_name'], categories=pdf_order_list, ordered=True)\n",
    "    data_to_plot = data_to_plot.sort_values(\"pdf_name\")\n",
    "\n",
    "    # Simplify PDF names\n",
    "    data_to_plot['pdf_name'] = data_to_plot['pdf_name'].str.replace(r\"_rpqsid_\\d+|_cp\\d+\", \"\", regex=True)\n",
    "\n",
    "    # Rename columns\n",
    "    new_names_dict = {\n",
    "        \"tp_nb_vs_pdf\": \"True positives\", \n",
    "        \"tn_nb_vs_pdf\": \"True negatives\", \n",
    "        \"fp1_nb_vs_pdf\": \"False positives of kind 1\", \n",
    "        \"fp2_nb_vs_pdf\" : \"False positives of kind 2\", \n",
    "        \"fn_nb_vs_pdf\": \"False negatives\"\n",
    "    }\n",
    "    data_to_plot = data_to_plot.rename(columns=new_names_dict)\n",
    "\n",
    "    # Plot\n",
    "    cols_to_show = list(new_names_dict.values())\n",
    "    fig = px.bar(data_to_plot, \n",
    "                    y=\"pdf_name\", \n",
    "                    x=cols_to_show,  \n",
    "                    category_orders={\"variable\": cols_to_show},\n",
    "                    #color_discrete_sequence=[px.colors.qualitative.G10[i] for i in [0, 5, 1, 2, 4]],\n",
    "                    color_discrete_sequence=[px.colors.qualitative.Plotly[i] for i in [0, 5, 1, 6, 4]],\n",
    "                    height=900,\n",
    "                    width=800,\n",
    "                    title=f\"Metrics per pdf for {benchmark_version}\"\n",
    "                    )\n",
    "\n",
    "    fig.show()\n",
    "\n"
   ]
  },
  {
   "cell_type": "markdown",
   "metadata": {},
   "source": [
    "### Plot metrics per indicator"
   ]
  },
  {
   "cell_type": "markdown",
   "metadata": {},
   "source": [
    "Get the metrics dataframe"
   ]
  },
  {
   "cell_type": "code",
   "execution_count": 32,
   "metadata": {},
   "outputs": [
    {
     "data": {
      "text/html": [
       "<div>\n",
       "<style scoped>\n",
       "    .dataframe tbody tr th:only-of-type {\n",
       "        vertical-align: middle;\n",
       "    }\n",
       "\n",
       "    .dataframe tbody tr th {\n",
       "        vertical-align: top;\n",
       "    }\n",
       "\n",
       "    .dataframe thead th {\n",
       "        text-align: right;\n",
       "    }\n",
       "</style>\n",
       "<table border=\"1\" class=\"dataframe\">\n",
       "  <thead>\n",
       "    <tr style=\"text-align: right;\">\n",
       "      <th></th>\n",
       "      <th>benchmark_version</th>\n",
       "      <th>pdf_list_file</th>\n",
       "      <th>indicator</th>\n",
       "      <th>no_value_indic_nb_in_sispea</th>\n",
       "      <th>accuracy_vs_sispea</th>\n",
       "      <th>precision_vs_sispea</th>\n",
       "      <th>recall_vs_sispea</th>\n",
       "      <th>tp_nb_vs_sispea</th>\n",
       "      <th>tn_nb_vs_sispea</th>\n",
       "      <th>fp1_nb_vs_sispea</th>\n",
       "      <th>...</th>\n",
       "      <th>fn_nb_vs_sispea</th>\n",
       "      <th>no_value_indic_nb_in_pdf</th>\n",
       "      <th>accuracy_vs_pdf</th>\n",
       "      <th>precision_vs_pdf</th>\n",
       "      <th>recall_vs_pdf</th>\n",
       "      <th>tp_nb_vs_pdf</th>\n",
       "      <th>tn_nb_vs_pdf</th>\n",
       "      <th>fp1_nb_vs_pdf</th>\n",
       "      <th>fp2_nb_vs_pdf</th>\n",
       "      <th>fn_nb_vs_pdf</th>\n",
       "    </tr>\n",
       "  </thead>\n",
       "  <tbody>\n",
       "    <tr>\n",
       "      <th>0</th>\n",
       "      <td>benchmark_4</td>\n",
       "      <td>rpqs_eval_list_1.csv</td>\n",
       "      <td>D201.0</td>\n",
       "      <td>0.0</td>\n",
       "      <td>0.533333</td>\n",
       "      <td>0.571429</td>\n",
       "      <td>0.533333</td>\n",
       "      <td>8.0</td>\n",
       "      <td>0.0</td>\n",
       "      <td>0.0</td>\n",
       "      <td>...</td>\n",
       "      <td>1.0</td>\n",
       "      <td>0.0</td>\n",
       "      <td>0.600000</td>\n",
       "      <td>0.642857</td>\n",
       "      <td>0.600000</td>\n",
       "      <td>9.0</td>\n",
       "      <td>0.0</td>\n",
       "      <td>0.0</td>\n",
       "      <td>5.0</td>\n",
       "      <td>1.0</td>\n",
       "    </tr>\n",
       "    <tr>\n",
       "      <th>1</th>\n",
       "      <td>benchmark_4</td>\n",
       "      <td>rpqs_eval_list_1.csv</td>\n",
       "      <td>D202.0</td>\n",
       "      <td>0.0</td>\n",
       "      <td>0.533333</td>\n",
       "      <td>0.571429</td>\n",
       "      <td>0.533333</td>\n",
       "      <td>8.0</td>\n",
       "      <td>0.0</td>\n",
       "      <td>0.0</td>\n",
       "      <td>...</td>\n",
       "      <td>1.0</td>\n",
       "      <td>1.0</td>\n",
       "      <td>0.533333</td>\n",
       "      <td>0.571429</td>\n",
       "      <td>0.571429</td>\n",
       "      <td>8.0</td>\n",
       "      <td>0.0</td>\n",
       "      <td>1.0</td>\n",
       "      <td>5.0</td>\n",
       "      <td>1.0</td>\n",
       "    </tr>\n",
       "    <tr>\n",
       "      <th>2</th>\n",
       "      <td>benchmark_4</td>\n",
       "      <td>rpqs_eval_list_1.csv</td>\n",
       "      <td>D203.0</td>\n",
       "      <td>2.0</td>\n",
       "      <td>0.333333</td>\n",
       "      <td>0.363636</td>\n",
       "      <td>0.307692</td>\n",
       "      <td>4.0</td>\n",
       "      <td>1.0</td>\n",
       "      <td>1.0</td>\n",
       "      <td>...</td>\n",
       "      <td>3.0</td>\n",
       "      <td>5.0</td>\n",
       "      <td>0.466667</td>\n",
       "      <td>0.363636</td>\n",
       "      <td>0.400000</td>\n",
       "      <td>4.0</td>\n",
       "      <td>3.0</td>\n",
       "      <td>2.0</td>\n",
       "      <td>5.0</td>\n",
       "      <td>1.0</td>\n",
       "    </tr>\n",
       "    <tr>\n",
       "      <th>3</th>\n",
       "      <td>benchmark_4</td>\n",
       "      <td>rpqs_eval_list_1.csv</td>\n",
       "      <td>D204.0</td>\n",
       "      <td>0.0</td>\n",
       "      <td>0.066667</td>\n",
       "      <td>0.090909</td>\n",
       "      <td>0.066667</td>\n",
       "      <td>1.0</td>\n",
       "      <td>0.0</td>\n",
       "      <td>0.0</td>\n",
       "      <td>...</td>\n",
       "      <td>4.0</td>\n",
       "      <td>1.0</td>\n",
       "      <td>0.066667</td>\n",
       "      <td>0.090909</td>\n",
       "      <td>0.071429</td>\n",
       "      <td>1.0</td>\n",
       "      <td>0.0</td>\n",
       "      <td>1.0</td>\n",
       "      <td>9.0</td>\n",
       "      <td>4.0</td>\n",
       "    </tr>\n",
       "    <tr>\n",
       "      <th>4</th>\n",
       "      <td>benchmark_4</td>\n",
       "      <td>rpqs_eval_list_1.csv</td>\n",
       "      <td>P201.1</td>\n",
       "      <td>3.0</td>\n",
       "      <td>0.200000</td>\n",
       "      <td>0.230769</td>\n",
       "      <td>0.250000</td>\n",
       "      <td>3.0</td>\n",
       "      <td>0.0</td>\n",
       "      <td>3.0</td>\n",
       "      <td>...</td>\n",
       "      <td>2.0</td>\n",
       "      <td>5.0</td>\n",
       "      <td>0.400000</td>\n",
       "      <td>0.384615</td>\n",
       "      <td>0.500000</td>\n",
       "      <td>5.0</td>\n",
       "      <td>1.0</td>\n",
       "      <td>4.0</td>\n",
       "      <td>4.0</td>\n",
       "      <td>1.0</td>\n",
       "    </tr>\n",
       "  </tbody>\n",
       "</table>\n",
       "<p>5 rows × 21 columns</p>\n",
       "</div>"
      ],
      "text/plain": [
       "  benchmark_version         pdf_list_file indicator  \\\n",
       "0       benchmark_4  rpqs_eval_list_1.csv    D201.0   \n",
       "1       benchmark_4  rpqs_eval_list_1.csv    D202.0   \n",
       "2       benchmark_4  rpqs_eval_list_1.csv    D203.0   \n",
       "3       benchmark_4  rpqs_eval_list_1.csv    D204.0   \n",
       "4       benchmark_4  rpqs_eval_list_1.csv    P201.1   \n",
       "\n",
       "   no_value_indic_nb_in_sispea  accuracy_vs_sispea  precision_vs_sispea  \\\n",
       "0                          0.0            0.533333             0.571429   \n",
       "1                          0.0            0.533333             0.571429   \n",
       "2                          2.0            0.333333             0.363636   \n",
       "3                          0.0            0.066667             0.090909   \n",
       "4                          3.0            0.200000             0.230769   \n",
       "\n",
       "   recall_vs_sispea  tp_nb_vs_sispea  tn_nb_vs_sispea  fp1_nb_vs_sispea  ...  \\\n",
       "0          0.533333              8.0              0.0               0.0  ...   \n",
       "1          0.533333              8.0              0.0               0.0  ...   \n",
       "2          0.307692              4.0              1.0               1.0  ...   \n",
       "3          0.066667              1.0              0.0               0.0  ...   \n",
       "4          0.250000              3.0              0.0               3.0  ...   \n",
       "\n",
       "   fn_nb_vs_sispea  no_value_indic_nb_in_pdf  accuracy_vs_pdf  \\\n",
       "0              1.0                       0.0         0.600000   \n",
       "1              1.0                       1.0         0.533333   \n",
       "2              3.0                       5.0         0.466667   \n",
       "3              4.0                       1.0         0.066667   \n",
       "4              2.0                       5.0         0.400000   \n",
       "\n",
       "   precision_vs_pdf  recall_vs_pdf  tp_nb_vs_pdf  tn_nb_vs_pdf  fp1_nb_vs_pdf  \\\n",
       "0          0.642857       0.600000           9.0           0.0            0.0   \n",
       "1          0.571429       0.571429           8.0           0.0            1.0   \n",
       "2          0.363636       0.400000           4.0           3.0            2.0   \n",
       "3          0.090909       0.071429           1.0           0.0            1.0   \n",
       "4          0.384615       0.500000           5.0           1.0            4.0   \n",
       "\n",
       "   fp2_nb_vs_pdf  fn_nb_vs_pdf  \n",
       "0            5.0           1.0  \n",
       "1            5.0           1.0  \n",
       "2            5.0           1.0  \n",
       "3            9.0           4.0  \n",
       "4            4.0           1.0  \n",
       "\n",
       "[5 rows x 21 columns]"
      ]
     },
     "execution_count": 32,
     "metadata": {},
     "output_type": "execute_result"
    }
   ],
   "source": [
    "df_per_ind = metrics_calc.df_per_indic\n",
    "df_per_ind.head()"
   ]
  },
  {
   "cell_type": "markdown",
   "metadata": {},
   "source": [
    "Plot the accuracy per indicator"
   ]
  },
  {
   "cell_type": "code",
   "execution_count": 69,
   "metadata": {},
   "outputs": [
    {
     "data": {
      "application/vnd.plotly.v1+json": {
       "config": {
        "plotlyServerURL": "https://plot.ly"
       },
       "data": [
        {
         "alignmentgroup": "True",
         "hovertemplate": "benchmark_version=benchmark_32<br>accuracy_vs_pdf=%{x}<br>indicator=%{y}<extra></extra>",
         "legendgroup": "benchmark_32",
         "marker": {
          "color": "#636efa",
          "pattern": {
           "shape": ""
          }
         },
         "name": "benchmark_32",
         "offsetgroup": "benchmark_32",
         "orientation": "h",
         "showlegend": true,
         "textposition": "auto",
         "type": "bar",
         "x": [
          0.7111111111111111,
          0.7777777777777778,
          0.7777777777777778,
          0.8222222222222222,
          0.8222222222222222,
          0.8666666666666667,
          0.8888888888888888,
          0.9111111111111112,
          0.9111111111111112,
          0.9111111111111112,
          0.9333333333333332,
          0.9333333333333332,
          0.9555555555555556,
          0.9555555555555556,
          0.9555555555555556,
          0.9777777777777776,
          0.9777777777777776,
          1,
          1
         ],
         "xaxis": "x",
         "y": [
          "D204.0",
          "D203.0",
          "P205.3",
          "P203.3",
          "P204.3",
          "P202.2B",
          "P253.2",
          "P201.1",
          "P258.1",
          "P256.2",
          "P207.0",
          "D201.0",
          "P255.3",
          "P257.0",
          "P206.3",
          "D202.0",
          "P252.2",
          "P251.1",
          "P254.3"
         ],
         "yaxis": "y"
        },
        {
         "alignmentgroup": "True",
         "hovertemplate": "benchmark_version=benchmark_table_32<br>accuracy_vs_pdf=%{x}<br>indicator=%{y}<extra></extra>",
         "legendgroup": "benchmark_table_32",
         "marker": {
          "color": "#EF553B",
          "pattern": {
           "shape": ""
          }
         },
         "name": "benchmark_table_32",
         "offsetgroup": "benchmark_table_32",
         "orientation": "h",
         "showlegend": true,
         "textposition": "auto",
         "type": "bar",
         "x": [
          0.5333333333333333,
          0.6888888888888889,
          0.8,
          0.8,
          0.8,
          0.4666666666666667,
          0.7777777777777778,
          0.7555555555555555,
          0.7777777777777778,
          0.7777777777777778,
          0.6222222222222222,
          0.5777777777777777,
          0.8222222222222222,
          0.8,
          0.7555555555555555,
          0.6888888888888889,
          0.8,
          0.8666666666666667,
          0.8444444444444444
         ],
         "xaxis": "x",
         "y": [
          "D204.0",
          "D203.0",
          "P205.3",
          "P203.3",
          "P204.3",
          "P202.2B",
          "P253.2",
          "P201.1",
          "P258.1",
          "P256.2",
          "P207.0",
          "D201.0",
          "P255.3",
          "P257.0",
          "P206.3",
          "D202.0",
          "P252.2",
          "P251.1",
          "P254.3"
         ],
         "yaxis": "y"
        }
       ],
       "layout": {
        "barmode": "group",
        "height": 600,
        "legend": {
         "title": {
          "text": "benchmark_version"
         },
         "tracegroupgap": 0
        },
        "template": {
         "data": {
          "bar": [
           {
            "error_x": {
             "color": "#2a3f5f"
            },
            "error_y": {
             "color": "#2a3f5f"
            },
            "marker": {
             "line": {
              "color": "#E5ECF6",
              "width": 0.5
             },
             "pattern": {
              "fillmode": "overlay",
              "size": 10,
              "solidity": 0.2
             }
            },
            "type": "bar"
           }
          ],
          "barpolar": [
           {
            "marker": {
             "line": {
              "color": "#E5ECF6",
              "width": 0.5
             },
             "pattern": {
              "fillmode": "overlay",
              "size": 10,
              "solidity": 0.2
             }
            },
            "type": "barpolar"
           }
          ],
          "carpet": [
           {
            "aaxis": {
             "endlinecolor": "#2a3f5f",
             "gridcolor": "white",
             "linecolor": "white",
             "minorgridcolor": "white",
             "startlinecolor": "#2a3f5f"
            },
            "baxis": {
             "endlinecolor": "#2a3f5f",
             "gridcolor": "white",
             "linecolor": "white",
             "minorgridcolor": "white",
             "startlinecolor": "#2a3f5f"
            },
            "type": "carpet"
           }
          ],
          "choropleth": [
           {
            "colorbar": {
             "outlinewidth": 0,
             "ticks": ""
            },
            "type": "choropleth"
           }
          ],
          "contour": [
           {
            "colorbar": {
             "outlinewidth": 0,
             "ticks": ""
            },
            "colorscale": [
             [
              0,
              "#0d0887"
             ],
             [
              0.1111111111111111,
              "#46039f"
             ],
             [
              0.2222222222222222,
              "#7201a8"
             ],
             [
              0.3333333333333333,
              "#9c179e"
             ],
             [
              0.4444444444444444,
              "#bd3786"
             ],
             [
              0.5555555555555556,
              "#d8576b"
             ],
             [
              0.6666666666666666,
              "#ed7953"
             ],
             [
              0.7777777777777778,
              "#fb9f3a"
             ],
             [
              0.8888888888888888,
              "#fdca26"
             ],
             [
              1,
              "#f0f921"
             ]
            ],
            "type": "contour"
           }
          ],
          "contourcarpet": [
           {
            "colorbar": {
             "outlinewidth": 0,
             "ticks": ""
            },
            "type": "contourcarpet"
           }
          ],
          "heatmap": [
           {
            "colorbar": {
             "outlinewidth": 0,
             "ticks": ""
            },
            "colorscale": [
             [
              0,
              "#0d0887"
             ],
             [
              0.1111111111111111,
              "#46039f"
             ],
             [
              0.2222222222222222,
              "#7201a8"
             ],
             [
              0.3333333333333333,
              "#9c179e"
             ],
             [
              0.4444444444444444,
              "#bd3786"
             ],
             [
              0.5555555555555556,
              "#d8576b"
             ],
             [
              0.6666666666666666,
              "#ed7953"
             ],
             [
              0.7777777777777778,
              "#fb9f3a"
             ],
             [
              0.8888888888888888,
              "#fdca26"
             ],
             [
              1,
              "#f0f921"
             ]
            ],
            "type": "heatmap"
           }
          ],
          "heatmapgl": [
           {
            "colorbar": {
             "outlinewidth": 0,
             "ticks": ""
            },
            "colorscale": [
             [
              0,
              "#0d0887"
             ],
             [
              0.1111111111111111,
              "#46039f"
             ],
             [
              0.2222222222222222,
              "#7201a8"
             ],
             [
              0.3333333333333333,
              "#9c179e"
             ],
             [
              0.4444444444444444,
              "#bd3786"
             ],
             [
              0.5555555555555556,
              "#d8576b"
             ],
             [
              0.6666666666666666,
              "#ed7953"
             ],
             [
              0.7777777777777778,
              "#fb9f3a"
             ],
             [
              0.8888888888888888,
              "#fdca26"
             ],
             [
              1,
              "#f0f921"
             ]
            ],
            "type": "heatmapgl"
           }
          ],
          "histogram": [
           {
            "marker": {
             "pattern": {
              "fillmode": "overlay",
              "size": 10,
              "solidity": 0.2
             }
            },
            "type": "histogram"
           }
          ],
          "histogram2d": [
           {
            "colorbar": {
             "outlinewidth": 0,
             "ticks": ""
            },
            "colorscale": [
             [
              0,
              "#0d0887"
             ],
             [
              0.1111111111111111,
              "#46039f"
             ],
             [
              0.2222222222222222,
              "#7201a8"
             ],
             [
              0.3333333333333333,
              "#9c179e"
             ],
             [
              0.4444444444444444,
              "#bd3786"
             ],
             [
              0.5555555555555556,
              "#d8576b"
             ],
             [
              0.6666666666666666,
              "#ed7953"
             ],
             [
              0.7777777777777778,
              "#fb9f3a"
             ],
             [
              0.8888888888888888,
              "#fdca26"
             ],
             [
              1,
              "#f0f921"
             ]
            ],
            "type": "histogram2d"
           }
          ],
          "histogram2dcontour": [
           {
            "colorbar": {
             "outlinewidth": 0,
             "ticks": ""
            },
            "colorscale": [
             [
              0,
              "#0d0887"
             ],
             [
              0.1111111111111111,
              "#46039f"
             ],
             [
              0.2222222222222222,
              "#7201a8"
             ],
             [
              0.3333333333333333,
              "#9c179e"
             ],
             [
              0.4444444444444444,
              "#bd3786"
             ],
             [
              0.5555555555555556,
              "#d8576b"
             ],
             [
              0.6666666666666666,
              "#ed7953"
             ],
             [
              0.7777777777777778,
              "#fb9f3a"
             ],
             [
              0.8888888888888888,
              "#fdca26"
             ],
             [
              1,
              "#f0f921"
             ]
            ],
            "type": "histogram2dcontour"
           }
          ],
          "mesh3d": [
           {
            "colorbar": {
             "outlinewidth": 0,
             "ticks": ""
            },
            "type": "mesh3d"
           }
          ],
          "parcoords": [
           {
            "line": {
             "colorbar": {
              "outlinewidth": 0,
              "ticks": ""
             }
            },
            "type": "parcoords"
           }
          ],
          "pie": [
           {
            "automargin": true,
            "type": "pie"
           }
          ],
          "scatter": [
           {
            "fillpattern": {
             "fillmode": "overlay",
             "size": 10,
             "solidity": 0.2
            },
            "type": "scatter"
           }
          ],
          "scatter3d": [
           {
            "line": {
             "colorbar": {
              "outlinewidth": 0,
              "ticks": ""
             }
            },
            "marker": {
             "colorbar": {
              "outlinewidth": 0,
              "ticks": ""
             }
            },
            "type": "scatter3d"
           }
          ],
          "scattercarpet": [
           {
            "marker": {
             "colorbar": {
              "outlinewidth": 0,
              "ticks": ""
             }
            },
            "type": "scattercarpet"
           }
          ],
          "scattergeo": [
           {
            "marker": {
             "colorbar": {
              "outlinewidth": 0,
              "ticks": ""
             }
            },
            "type": "scattergeo"
           }
          ],
          "scattergl": [
           {
            "marker": {
             "colorbar": {
              "outlinewidth": 0,
              "ticks": ""
             }
            },
            "type": "scattergl"
           }
          ],
          "scattermapbox": [
           {
            "marker": {
             "colorbar": {
              "outlinewidth": 0,
              "ticks": ""
             }
            },
            "type": "scattermapbox"
           }
          ],
          "scatterpolar": [
           {
            "marker": {
             "colorbar": {
              "outlinewidth": 0,
              "ticks": ""
             }
            },
            "type": "scatterpolar"
           }
          ],
          "scatterpolargl": [
           {
            "marker": {
             "colorbar": {
              "outlinewidth": 0,
              "ticks": ""
             }
            },
            "type": "scatterpolargl"
           }
          ],
          "scatterternary": [
           {
            "marker": {
             "colorbar": {
              "outlinewidth": 0,
              "ticks": ""
             }
            },
            "type": "scatterternary"
           }
          ],
          "surface": [
           {
            "colorbar": {
             "outlinewidth": 0,
             "ticks": ""
            },
            "colorscale": [
             [
              0,
              "#0d0887"
             ],
             [
              0.1111111111111111,
              "#46039f"
             ],
             [
              0.2222222222222222,
              "#7201a8"
             ],
             [
              0.3333333333333333,
              "#9c179e"
             ],
             [
              0.4444444444444444,
              "#bd3786"
             ],
             [
              0.5555555555555556,
              "#d8576b"
             ],
             [
              0.6666666666666666,
              "#ed7953"
             ],
             [
              0.7777777777777778,
              "#fb9f3a"
             ],
             [
              0.8888888888888888,
              "#fdca26"
             ],
             [
              1,
              "#f0f921"
             ]
            ],
            "type": "surface"
           }
          ],
          "table": [
           {
            "cells": {
             "fill": {
              "color": "#EBF0F8"
             },
             "line": {
              "color": "white"
             }
            },
            "header": {
             "fill": {
              "color": "#C8D4E3"
             },
             "line": {
              "color": "white"
             }
            },
            "type": "table"
           }
          ]
         },
         "layout": {
          "annotationdefaults": {
           "arrowcolor": "#2a3f5f",
           "arrowhead": 0,
           "arrowwidth": 1
          },
          "autotypenumbers": "strict",
          "coloraxis": {
           "colorbar": {
            "outlinewidth": 0,
            "ticks": ""
           }
          },
          "colorscale": {
           "diverging": [
            [
             0,
             "#8e0152"
            ],
            [
             0.1,
             "#c51b7d"
            ],
            [
             0.2,
             "#de77ae"
            ],
            [
             0.3,
             "#f1b6da"
            ],
            [
             0.4,
             "#fde0ef"
            ],
            [
             0.5,
             "#f7f7f7"
            ],
            [
             0.6,
             "#e6f5d0"
            ],
            [
             0.7,
             "#b8e186"
            ],
            [
             0.8,
             "#7fbc41"
            ],
            [
             0.9,
             "#4d9221"
            ],
            [
             1,
             "#276419"
            ]
           ],
           "sequential": [
            [
             0,
             "#0d0887"
            ],
            [
             0.1111111111111111,
             "#46039f"
            ],
            [
             0.2222222222222222,
             "#7201a8"
            ],
            [
             0.3333333333333333,
             "#9c179e"
            ],
            [
             0.4444444444444444,
             "#bd3786"
            ],
            [
             0.5555555555555556,
             "#d8576b"
            ],
            [
             0.6666666666666666,
             "#ed7953"
            ],
            [
             0.7777777777777778,
             "#fb9f3a"
            ],
            [
             0.8888888888888888,
             "#fdca26"
            ],
            [
             1,
             "#f0f921"
            ]
           ],
           "sequentialminus": [
            [
             0,
             "#0d0887"
            ],
            [
             0.1111111111111111,
             "#46039f"
            ],
            [
             0.2222222222222222,
             "#7201a8"
            ],
            [
             0.3333333333333333,
             "#9c179e"
            ],
            [
             0.4444444444444444,
             "#bd3786"
            ],
            [
             0.5555555555555556,
             "#d8576b"
            ],
            [
             0.6666666666666666,
             "#ed7953"
            ],
            [
             0.7777777777777778,
             "#fb9f3a"
            ],
            [
             0.8888888888888888,
             "#fdca26"
            ],
            [
             1,
             "#f0f921"
            ]
           ]
          },
          "colorway": [
           "#636efa",
           "#EF553B",
           "#00cc96",
           "#ab63fa",
           "#FFA15A",
           "#19d3f3",
           "#FF6692",
           "#B6E880",
           "#FF97FF",
           "#FECB52"
          ],
          "font": {
           "color": "#2a3f5f"
          },
          "geo": {
           "bgcolor": "white",
           "lakecolor": "white",
           "landcolor": "#E5ECF6",
           "showlakes": true,
           "showland": true,
           "subunitcolor": "white"
          },
          "hoverlabel": {
           "align": "left"
          },
          "hovermode": "closest",
          "mapbox": {
           "style": "light"
          },
          "paper_bgcolor": "white",
          "plot_bgcolor": "#E5ECF6",
          "polar": {
           "angularaxis": {
            "gridcolor": "white",
            "linecolor": "white",
            "ticks": ""
           },
           "bgcolor": "#E5ECF6",
           "radialaxis": {
            "gridcolor": "white",
            "linecolor": "white",
            "ticks": ""
           }
          },
          "scene": {
           "xaxis": {
            "backgroundcolor": "#E5ECF6",
            "gridcolor": "white",
            "gridwidth": 2,
            "linecolor": "white",
            "showbackground": true,
            "ticks": "",
            "zerolinecolor": "white"
           },
           "yaxis": {
            "backgroundcolor": "#E5ECF6",
            "gridcolor": "white",
            "gridwidth": 2,
            "linecolor": "white",
            "showbackground": true,
            "ticks": "",
            "zerolinecolor": "white"
           },
           "zaxis": {
            "backgroundcolor": "#E5ECF6",
            "gridcolor": "white",
            "gridwidth": 2,
            "linecolor": "white",
            "showbackground": true,
            "ticks": "",
            "zerolinecolor": "white"
           }
          },
          "shapedefaults": {
           "line": {
            "color": "#2a3f5f"
           }
          },
          "ternary": {
           "aaxis": {
            "gridcolor": "white",
            "linecolor": "white",
            "ticks": ""
           },
           "baxis": {
            "gridcolor": "white",
            "linecolor": "white",
            "ticks": ""
           },
           "bgcolor": "#E5ECF6",
           "caxis": {
            "gridcolor": "white",
            "linecolor": "white",
            "ticks": ""
           }
          },
          "title": {
           "x": 0.05
          },
          "xaxis": {
           "automargin": true,
           "gridcolor": "white",
           "linecolor": "white",
           "ticks": "",
           "title": {
            "standoff": 15
           },
           "zerolinecolor": "white",
           "zerolinewidth": 2
          },
          "yaxis": {
           "automargin": true,
           "gridcolor": "white",
           "linecolor": "white",
           "ticks": "",
           "title": {
            "standoff": 15
           },
           "zerolinecolor": "white",
           "zerolinewidth": 2
          }
         }
        },
        "title": {
         "text": "Accuracy per indicator for rpqs_eval_list_1+2.csv (vs_pdf)"
        },
        "width": 630,
        "xaxis": {
         "anchor": "y",
         "domain": [
          0,
          1
         ],
         "range": [
          0,
          1
         ],
         "tickformat": ",.0%",
         "title": {
          "text": "Accuracy"
         }
        },
        "yaxis": {
         "anchor": "x",
         "domain": [
          0,
          1
         ],
         "title": {
          "text": "indicator"
         }
        }
       }
      },
      "text/html": [
       "<div>                            <div id=\"bced71d5-7c1e-4911-be8e-d153660526a6\" class=\"plotly-graph-div\" style=\"height:600px; width:630px;\"></div>            <script type=\"text/javascript\">                require([\"plotly\"], function(Plotly) {                    window.PLOTLYENV=window.PLOTLYENV || {};                                    if (document.getElementById(\"bced71d5-7c1e-4911-be8e-d153660526a6\")) {                    Plotly.newPlot(                        \"bced71d5-7c1e-4911-be8e-d153660526a6\",                        [{\"alignmentgroup\":\"True\",\"hovertemplate\":\"benchmark_version=benchmark_32\\u003cbr\\u003eaccuracy_vs_pdf=%{x}\\u003cbr\\u003eindicator=%{y}\\u003cextra\\u003e\\u003c\\u002fextra\\u003e\",\"legendgroup\":\"benchmark_32\",\"marker\":{\"color\":\"#636efa\",\"pattern\":{\"shape\":\"\"}},\"name\":\"benchmark_32\",\"offsetgroup\":\"benchmark_32\",\"orientation\":\"h\",\"showlegend\":true,\"textposition\":\"auto\",\"x\":[0.7111111111111111,0.7777777777777778,0.7777777777777778,0.8222222222222222,0.8222222222222222,0.8666666666666667,0.8888888888888888,0.9111111111111112,0.9111111111111112,0.9111111111111112,0.9333333333333332,0.9333333333333332,0.9555555555555556,0.9555555555555556,0.9555555555555556,0.9777777777777776,0.9777777777777776,1.0,1.0],\"xaxis\":\"x\",\"y\":[\"D204.0\",\"D203.0\",\"P205.3\",\"P203.3\",\"P204.3\",\"P202.2B\",\"P253.2\",\"P201.1\",\"P258.1\",\"P256.2\",\"P207.0\",\"D201.0\",\"P255.3\",\"P257.0\",\"P206.3\",\"D202.0\",\"P252.2\",\"P251.1\",\"P254.3\"],\"yaxis\":\"y\",\"type\":\"bar\"},{\"alignmentgroup\":\"True\",\"hovertemplate\":\"benchmark_version=benchmark_table_32\\u003cbr\\u003eaccuracy_vs_pdf=%{x}\\u003cbr\\u003eindicator=%{y}\\u003cextra\\u003e\\u003c\\u002fextra\\u003e\",\"legendgroup\":\"benchmark_table_32\",\"marker\":{\"color\":\"#EF553B\",\"pattern\":{\"shape\":\"\"}},\"name\":\"benchmark_table_32\",\"offsetgroup\":\"benchmark_table_32\",\"orientation\":\"h\",\"showlegend\":true,\"textposition\":\"auto\",\"x\":[0.5333333333333333,0.6888888888888889,0.8,0.8,0.8,0.4666666666666667,0.7777777777777778,0.7555555555555555,0.7777777777777778,0.7777777777777778,0.6222222222222222,0.5777777777777777,0.8222222222222222,0.8,0.7555555555555555,0.6888888888888889,0.8,0.8666666666666667,0.8444444444444444],\"xaxis\":\"x\",\"y\":[\"D204.0\",\"D203.0\",\"P205.3\",\"P203.3\",\"P204.3\",\"P202.2B\",\"P253.2\",\"P201.1\",\"P258.1\",\"P256.2\",\"P207.0\",\"D201.0\",\"P255.3\",\"P257.0\",\"P206.3\",\"D202.0\",\"P252.2\",\"P251.1\",\"P254.3\"],\"yaxis\":\"y\",\"type\":\"bar\"}],                        {\"template\":{\"data\":{\"histogram2dcontour\":[{\"type\":\"histogram2dcontour\",\"colorbar\":{\"outlinewidth\":0,\"ticks\":\"\"},\"colorscale\":[[0.0,\"#0d0887\"],[0.1111111111111111,\"#46039f\"],[0.2222222222222222,\"#7201a8\"],[0.3333333333333333,\"#9c179e\"],[0.4444444444444444,\"#bd3786\"],[0.5555555555555556,\"#d8576b\"],[0.6666666666666666,\"#ed7953\"],[0.7777777777777778,\"#fb9f3a\"],[0.8888888888888888,\"#fdca26\"],[1.0,\"#f0f921\"]]}],\"choropleth\":[{\"type\":\"choropleth\",\"colorbar\":{\"outlinewidth\":0,\"ticks\":\"\"}}],\"histogram2d\":[{\"type\":\"histogram2d\",\"colorbar\":{\"outlinewidth\":0,\"ticks\":\"\"},\"colorscale\":[[0.0,\"#0d0887\"],[0.1111111111111111,\"#46039f\"],[0.2222222222222222,\"#7201a8\"],[0.3333333333333333,\"#9c179e\"],[0.4444444444444444,\"#bd3786\"],[0.5555555555555556,\"#d8576b\"],[0.6666666666666666,\"#ed7953\"],[0.7777777777777778,\"#fb9f3a\"],[0.8888888888888888,\"#fdca26\"],[1.0,\"#f0f921\"]]}],\"heatmap\":[{\"type\":\"heatmap\",\"colorbar\":{\"outlinewidth\":0,\"ticks\":\"\"},\"colorscale\":[[0.0,\"#0d0887\"],[0.1111111111111111,\"#46039f\"],[0.2222222222222222,\"#7201a8\"],[0.3333333333333333,\"#9c179e\"],[0.4444444444444444,\"#bd3786\"],[0.5555555555555556,\"#d8576b\"],[0.6666666666666666,\"#ed7953\"],[0.7777777777777778,\"#fb9f3a\"],[0.8888888888888888,\"#fdca26\"],[1.0,\"#f0f921\"]]}],\"heatmapgl\":[{\"type\":\"heatmapgl\",\"colorbar\":{\"outlinewidth\":0,\"ticks\":\"\"},\"colorscale\":[[0.0,\"#0d0887\"],[0.1111111111111111,\"#46039f\"],[0.2222222222222222,\"#7201a8\"],[0.3333333333333333,\"#9c179e\"],[0.4444444444444444,\"#bd3786\"],[0.5555555555555556,\"#d8576b\"],[0.6666666666666666,\"#ed7953\"],[0.7777777777777778,\"#fb9f3a\"],[0.8888888888888888,\"#fdca26\"],[1.0,\"#f0f921\"]]}],\"contourcarpet\":[{\"type\":\"contourcarpet\",\"colorbar\":{\"outlinewidth\":0,\"ticks\":\"\"}}],\"contour\":[{\"type\":\"contour\",\"colorbar\":{\"outlinewidth\":0,\"ticks\":\"\"},\"colorscale\":[[0.0,\"#0d0887\"],[0.1111111111111111,\"#46039f\"],[0.2222222222222222,\"#7201a8\"],[0.3333333333333333,\"#9c179e\"],[0.4444444444444444,\"#bd3786\"],[0.5555555555555556,\"#d8576b\"],[0.6666666666666666,\"#ed7953\"],[0.7777777777777778,\"#fb9f3a\"],[0.8888888888888888,\"#fdca26\"],[1.0,\"#f0f921\"]]}],\"surface\":[{\"type\":\"surface\",\"colorbar\":{\"outlinewidth\":0,\"ticks\":\"\"},\"colorscale\":[[0.0,\"#0d0887\"],[0.1111111111111111,\"#46039f\"],[0.2222222222222222,\"#7201a8\"],[0.3333333333333333,\"#9c179e\"],[0.4444444444444444,\"#bd3786\"],[0.5555555555555556,\"#d8576b\"],[0.6666666666666666,\"#ed7953\"],[0.7777777777777778,\"#fb9f3a\"],[0.8888888888888888,\"#fdca26\"],[1.0,\"#f0f921\"]]}],\"mesh3d\":[{\"type\":\"mesh3d\",\"colorbar\":{\"outlinewidth\":0,\"ticks\":\"\"}}],\"scatter\":[{\"fillpattern\":{\"fillmode\":\"overlay\",\"size\":10,\"solidity\":0.2},\"type\":\"scatter\"}],\"parcoords\":[{\"type\":\"parcoords\",\"line\":{\"colorbar\":{\"outlinewidth\":0,\"ticks\":\"\"}}}],\"scatterpolargl\":[{\"type\":\"scatterpolargl\",\"marker\":{\"colorbar\":{\"outlinewidth\":0,\"ticks\":\"\"}}}],\"bar\":[{\"error_x\":{\"color\":\"#2a3f5f\"},\"error_y\":{\"color\":\"#2a3f5f\"},\"marker\":{\"line\":{\"color\":\"#E5ECF6\",\"width\":0.5},\"pattern\":{\"fillmode\":\"overlay\",\"size\":10,\"solidity\":0.2}},\"type\":\"bar\"}],\"scattergeo\":[{\"type\":\"scattergeo\",\"marker\":{\"colorbar\":{\"outlinewidth\":0,\"ticks\":\"\"}}}],\"scatterpolar\":[{\"type\":\"scatterpolar\",\"marker\":{\"colorbar\":{\"outlinewidth\":0,\"ticks\":\"\"}}}],\"histogram\":[{\"marker\":{\"pattern\":{\"fillmode\":\"overlay\",\"size\":10,\"solidity\":0.2}},\"type\":\"histogram\"}],\"scattergl\":[{\"type\":\"scattergl\",\"marker\":{\"colorbar\":{\"outlinewidth\":0,\"ticks\":\"\"}}}],\"scatter3d\":[{\"type\":\"scatter3d\",\"line\":{\"colorbar\":{\"outlinewidth\":0,\"ticks\":\"\"}},\"marker\":{\"colorbar\":{\"outlinewidth\":0,\"ticks\":\"\"}}}],\"scattermapbox\":[{\"type\":\"scattermapbox\",\"marker\":{\"colorbar\":{\"outlinewidth\":0,\"ticks\":\"\"}}}],\"scatterternary\":[{\"type\":\"scatterternary\",\"marker\":{\"colorbar\":{\"outlinewidth\":0,\"ticks\":\"\"}}}],\"scattercarpet\":[{\"type\":\"scattercarpet\",\"marker\":{\"colorbar\":{\"outlinewidth\":0,\"ticks\":\"\"}}}],\"carpet\":[{\"aaxis\":{\"endlinecolor\":\"#2a3f5f\",\"gridcolor\":\"white\",\"linecolor\":\"white\",\"minorgridcolor\":\"white\",\"startlinecolor\":\"#2a3f5f\"},\"baxis\":{\"endlinecolor\":\"#2a3f5f\",\"gridcolor\":\"white\",\"linecolor\":\"white\",\"minorgridcolor\":\"white\",\"startlinecolor\":\"#2a3f5f\"},\"type\":\"carpet\"}],\"table\":[{\"cells\":{\"fill\":{\"color\":\"#EBF0F8\"},\"line\":{\"color\":\"white\"}},\"header\":{\"fill\":{\"color\":\"#C8D4E3\"},\"line\":{\"color\":\"white\"}},\"type\":\"table\"}],\"barpolar\":[{\"marker\":{\"line\":{\"color\":\"#E5ECF6\",\"width\":0.5},\"pattern\":{\"fillmode\":\"overlay\",\"size\":10,\"solidity\":0.2}},\"type\":\"barpolar\"}],\"pie\":[{\"automargin\":true,\"type\":\"pie\"}]},\"layout\":{\"autotypenumbers\":\"strict\",\"colorway\":[\"#636efa\",\"#EF553B\",\"#00cc96\",\"#ab63fa\",\"#FFA15A\",\"#19d3f3\",\"#FF6692\",\"#B6E880\",\"#FF97FF\",\"#FECB52\"],\"font\":{\"color\":\"#2a3f5f\"},\"hovermode\":\"closest\",\"hoverlabel\":{\"align\":\"left\"},\"paper_bgcolor\":\"white\",\"plot_bgcolor\":\"#E5ECF6\",\"polar\":{\"bgcolor\":\"#E5ECF6\",\"angularaxis\":{\"gridcolor\":\"white\",\"linecolor\":\"white\",\"ticks\":\"\"},\"radialaxis\":{\"gridcolor\":\"white\",\"linecolor\":\"white\",\"ticks\":\"\"}},\"ternary\":{\"bgcolor\":\"#E5ECF6\",\"aaxis\":{\"gridcolor\":\"white\",\"linecolor\":\"white\",\"ticks\":\"\"},\"baxis\":{\"gridcolor\":\"white\",\"linecolor\":\"white\",\"ticks\":\"\"},\"caxis\":{\"gridcolor\":\"white\",\"linecolor\":\"white\",\"ticks\":\"\"}},\"coloraxis\":{\"colorbar\":{\"outlinewidth\":0,\"ticks\":\"\"}},\"colorscale\":{\"sequential\":[[0.0,\"#0d0887\"],[0.1111111111111111,\"#46039f\"],[0.2222222222222222,\"#7201a8\"],[0.3333333333333333,\"#9c179e\"],[0.4444444444444444,\"#bd3786\"],[0.5555555555555556,\"#d8576b\"],[0.6666666666666666,\"#ed7953\"],[0.7777777777777778,\"#fb9f3a\"],[0.8888888888888888,\"#fdca26\"],[1.0,\"#f0f921\"]],\"sequentialminus\":[[0.0,\"#0d0887\"],[0.1111111111111111,\"#46039f\"],[0.2222222222222222,\"#7201a8\"],[0.3333333333333333,\"#9c179e\"],[0.4444444444444444,\"#bd3786\"],[0.5555555555555556,\"#d8576b\"],[0.6666666666666666,\"#ed7953\"],[0.7777777777777778,\"#fb9f3a\"],[0.8888888888888888,\"#fdca26\"],[1.0,\"#f0f921\"]],\"diverging\":[[0,\"#8e0152\"],[0.1,\"#c51b7d\"],[0.2,\"#de77ae\"],[0.3,\"#f1b6da\"],[0.4,\"#fde0ef\"],[0.5,\"#f7f7f7\"],[0.6,\"#e6f5d0\"],[0.7,\"#b8e186\"],[0.8,\"#7fbc41\"],[0.9,\"#4d9221\"],[1,\"#276419\"]]},\"xaxis\":{\"gridcolor\":\"white\",\"linecolor\":\"white\",\"ticks\":\"\",\"title\":{\"standoff\":15},\"zerolinecolor\":\"white\",\"automargin\":true,\"zerolinewidth\":2},\"yaxis\":{\"gridcolor\":\"white\",\"linecolor\":\"white\",\"ticks\":\"\",\"title\":{\"standoff\":15},\"zerolinecolor\":\"white\",\"automargin\":true,\"zerolinewidth\":2},\"scene\":{\"xaxis\":{\"backgroundcolor\":\"#E5ECF6\",\"gridcolor\":\"white\",\"linecolor\":\"white\",\"showbackground\":true,\"ticks\":\"\",\"zerolinecolor\":\"white\",\"gridwidth\":2},\"yaxis\":{\"backgroundcolor\":\"#E5ECF6\",\"gridcolor\":\"white\",\"linecolor\":\"white\",\"showbackground\":true,\"ticks\":\"\",\"zerolinecolor\":\"white\",\"gridwidth\":2},\"zaxis\":{\"backgroundcolor\":\"#E5ECF6\",\"gridcolor\":\"white\",\"linecolor\":\"white\",\"showbackground\":true,\"ticks\":\"\",\"zerolinecolor\":\"white\",\"gridwidth\":2}},\"shapedefaults\":{\"line\":{\"color\":\"#2a3f5f\"}},\"annotationdefaults\":{\"arrowcolor\":\"#2a3f5f\",\"arrowhead\":0,\"arrowwidth\":1},\"geo\":{\"bgcolor\":\"white\",\"landcolor\":\"#E5ECF6\",\"subunitcolor\":\"white\",\"showland\":true,\"showlakes\":true,\"lakecolor\":\"white\"},\"title\":{\"x\":0.05},\"mapbox\":{\"style\":\"light\"}}},\"xaxis\":{\"anchor\":\"y\",\"domain\":[0.0,1.0],\"title\":{\"text\":\"Accuracy\"},\"tickformat\":\",.0%\",\"range\":[0,1]},\"yaxis\":{\"anchor\":\"x\",\"domain\":[0.0,1.0],\"title\":{\"text\":\"indicator\"}},\"legend\":{\"title\":{\"text\":\"benchmark_version\"},\"tracegroupgap\":0},\"title\":{\"text\":\"Accuracy per indicator for rpqs_eval_list_1+2.csv (vs_pdf)\"},\"barmode\":\"group\",\"height\":600,\"width\":630},                        {\"responsive\": true}                    ).then(function(){\n",
       "                            \n",
       "var gd = document.getElementById('bced71d5-7c1e-4911-be8e-d153660526a6');\n",
       "var x = new MutationObserver(function (mutations, observer) {{\n",
       "        var display = window.getComputedStyle(gd).display;\n",
       "        if (!display || display === 'none') {{\n",
       "            console.log([gd, 'removed!']);\n",
       "            Plotly.purge(gd);\n",
       "            observer.disconnect();\n",
       "        }}\n",
       "}});\n",
       "\n",
       "// Listen for the removal of the full notebook cells\n",
       "var notebookContainer = gd.closest('#notebook-container');\n",
       "if (notebookContainer) {{\n",
       "    x.observe(notebookContainer, {childList: true});\n",
       "}}\n",
       "\n",
       "// Listen for the clearing of the current output cell\n",
       "var outputEl = gd.closest('.output');\n",
       "if (outputEl) {{\n",
       "    x.observe(outputEl, {childList: true});\n",
       "}}\n",
       "\n",
       "                        })                };                });            </script>        </div>"
      ]
     },
     "metadata": {},
     "output_type": "display_data"
    }
   ],
   "source": [
    "# Choose the PDF set used in the calculation of metrics per indicator\n",
    "pdf_list_file = 'rpqs_eval_list_1+2.csv'\n",
    "# Choose which benchmark versions the metrics should be calculated for\n",
    "benchmark_list = [\"benchmark_32\", \"benchmark_table_32\"]\n",
    "# Choose the benchmark version fixing indicator order (descending accuracy)\n",
    "indic_order = \"benchmark_32\"\n",
    "\n",
    "# Select data to plot\n",
    "data_to_plot = df_per_ind[df_per_ind[\"pdf_list_file\"]==pdf_list_file]\n",
    "data_to_plot = data_to_plot[data_to_plot[\"benchmark_version\"].isin(benchmark_list)]\n",
    "\n",
    "# Order indicator by accuracy\n",
    "indic_order_list = (data_to_plot[data_to_plot[\"benchmark_version\"]==indic_order]\n",
    "                  .sort_values(by=\"accuracy_vs_pdf\", ascending=True)[\"indicator\"]\n",
    "                  .to_list())\n",
    "data_to_plot['indicator'] = pd.Categorical(data_to_plot['indicator'], categories=indic_order_list, ordered=True)\n",
    "data_to_plot = data_to_plot.sort_values(\"indicator\")\n",
    "\n",
    "# Define color order \n",
    "benchmark_order_list = data_to_plot[\"benchmark_version\"].unique().tolist()\n",
    "benchmark_order_list.sort(key=lambda x: int(x.split(\"_\")[-1]))\n",
    "benchmark_nb_order_list = [int(x.split(\"_\")[-1]) for x in benchmark_order_list]\n",
    "\n",
    "# Plot\n",
    "#for tag in [\"vs_sispea\", \"vs_pdf\"]:\n",
    "for tag in [\"vs_pdf\"]:\n",
    "    fig = px.bar(data_to_plot, \n",
    "                y=\"indicator\", \n",
    "                x=\"accuracy_\"+tag, \n",
    "                color=\"benchmark_version\", \n",
    "                category_orders={\"benchmark_version\": benchmark_order_list},\n",
    "                #color_discrete_sequence=[px.colors.qualitative.Plotly[x%10] for x in benchmark_nb_order_list],\n",
    "                height=600, #600,\n",
    "                width=630, #800,\n",
    "                barmode='group',\n",
    "                title=f\"Accuracy per indicator for {pdf_list_file} ({tag})\")\n",
    "    \n",
    "    fig.layout.xaxis.tickformat = ',.0%'\n",
    "    fig.update(layout_xaxis_range = [0,1], layout_xaxis_title=\"Accuracy\")\n",
    "    fig.show()"
   ]
  },
  {
   "cell_type": "markdown",
   "metadata": {},
   "source": [
    "Plot the number of true positives (TP), true negatives (TN), false positives of kind 1 (FP1) and 2 (FP2) and false negatives (FN)"
   ]
  },
  {
   "cell_type": "code",
   "execution_count": 77,
   "metadata": {},
   "outputs": [
    {
     "data": {
      "application/vnd.plotly.v1+json": {
       "config": {
        "plotlyServerURL": "https://plot.ly"
       },
       "data": [
        {
         "alignmentgroup": "True",
         "hovertemplate": "variable=True positives<br>value=%{x}<br>indicator=%{y}<extra></extra>",
         "legendgroup": "True positives",
         "marker": {
          "color": "#636EFA",
          "pattern": {
           "shape": ""
          }
         },
         "name": "True positives",
         "offsetgroup": "True positives",
         "orientation": "h",
         "showlegend": true,
         "textposition": "auto",
         "type": "bar",
         "x": [
          27,
          20,
          8,
          9,
          9,
          34,
          17,
          21,
          17,
          11,
          27,
          36,
          15,
          17,
          21,
          31,
          20,
          14,
          10
         ],
         "xaxis": "x",
         "y": [
          "D204.0",
          "D203.0",
          "P205.3",
          "P203.3",
          "P204.3",
          "P202.2B",
          "P253.2",
          "P201.1",
          "P258.1",
          "P256.2",
          "P207.0",
          "D201.0",
          "P255.3",
          "P257.0",
          "P206.3",
          "D202.0",
          "P252.2",
          "P251.1",
          "P254.3"
         ],
         "yaxis": "y"
        },
        {
         "alignmentgroup": "True",
         "hovertemplate": "variable=True negatives<br>value=%{x}<br>indicator=%{y}<extra></extra>",
         "legendgroup": "True negatives",
         "marker": {
          "color": "#19D3F3",
          "pattern": {
           "shape": ""
          }
         },
         "name": "True negatives",
         "offsetgroup": "True negatives",
         "orientation": "h",
         "showlegend": true,
         "textposition": "auto",
         "type": "bar",
         "x": [
          5,
          15,
          27,
          28,
          28,
          5,
          23,
          20,
          24,
          30,
          15,
          6,
          28,
          26,
          22,
          13,
          24,
          31,
          35
         ],
         "xaxis": "x",
         "y": [
          "D204.0",
          "D203.0",
          "P205.3",
          "P203.3",
          "P204.3",
          "P202.2B",
          "P253.2",
          "P201.1",
          "P258.1",
          "P256.2",
          "P207.0",
          "D201.0",
          "P255.3",
          "P257.0",
          "P206.3",
          "D202.0",
          "P252.2",
          "P251.1",
          "P254.3"
         ],
         "yaxis": "y"
        },
        {
         "alignmentgroup": "True",
         "hovertemplate": "variable=False positives of kind 1<br>value=%{x}<br>indicator=%{y}<extra></extra>",
         "legendgroup": "False positives of kind 1",
         "marker": {
          "color": "#EF553B",
          "pattern": {
           "shape": ""
          }
         },
         "name": "False positives of kind 1",
         "offsetgroup": "False positives of kind 1",
         "orientation": "h",
         "showlegend": true,
         "textposition": "auto",
         "type": "bar",
         "x": [
          1,
          1,
          1,
          0,
          0,
          2,
          3,
          2,
          1,
          2,
          0,
          1,
          0,
          0,
          1,
          0,
          1,
          0,
          0
         ],
         "xaxis": "x",
         "y": [
          "D204.0",
          "D203.0",
          "P205.3",
          "P203.3",
          "P204.3",
          "P202.2B",
          "P253.2",
          "P201.1",
          "P258.1",
          "P256.2",
          "P207.0",
          "D201.0",
          "P255.3",
          "P257.0",
          "P206.3",
          "D202.0",
          "P252.2",
          "P251.1",
          "P254.3"
         ],
         "yaxis": "y"
        },
        {
         "alignmentgroup": "True",
         "hovertemplate": "variable=False positives of kind 2<br>value=%{x}<br>indicator=%{y}<extra></extra>",
         "legendgroup": "False positives of kind 2",
         "marker": {
          "color": "#FF6692",
          "pattern": {
           "shape": ""
          }
         },
         "name": "False positives of kind 2",
         "offsetgroup": "False positives of kind 2",
         "orientation": "h",
         "showlegend": true,
         "textposition": "auto",
         "type": "bar",
         "x": [
          10,
          1,
          0,
          0,
          0,
          2,
          1,
          2,
          0,
          0,
          1,
          1,
          2,
          0,
          1,
          0,
          0,
          0,
          0
         ],
         "xaxis": "x",
         "y": [
          "D204.0",
          "D203.0",
          "P205.3",
          "P203.3",
          "P204.3",
          "P202.2B",
          "P253.2",
          "P201.1",
          "P258.1",
          "P256.2",
          "P207.0",
          "D201.0",
          "P255.3",
          "P257.0",
          "P206.3",
          "D202.0",
          "P252.2",
          "P251.1",
          "P254.3"
         ],
         "yaxis": "y"
        },
        {
         "alignmentgroup": "True",
         "hovertemplate": "variable=False negatives<br>value=%{x}<br>indicator=%{y}<extra></extra>",
         "legendgroup": "False negatives",
         "marker": {
          "color": "#FFA15A",
          "pattern": {
           "shape": ""
          }
         },
         "name": "False negatives",
         "offsetgroup": "False negatives",
         "orientation": "h",
         "showlegend": true,
         "textposition": "auto",
         "type": "bar",
         "x": [
          2,
          8,
          9,
          8,
          8,
          2,
          1,
          0,
          3,
          2,
          2,
          1,
          0,
          2,
          0,
          1,
          0,
          0,
          0
         ],
         "xaxis": "x",
         "y": [
          "D204.0",
          "D203.0",
          "P205.3",
          "P203.3",
          "P204.3",
          "P202.2B",
          "P253.2",
          "P201.1",
          "P258.1",
          "P256.2",
          "P207.0",
          "D201.0",
          "P255.3",
          "P257.0",
          "P206.3",
          "D202.0",
          "P252.2",
          "P251.1",
          "P254.3"
         ],
         "yaxis": "y"
        }
       ],
       "layout": {
        "barmode": "relative",
        "height": 500,
        "legend": {
         "title": {
          "text": "variable"
         },
         "tracegroupgap": 0
        },
        "template": {
         "data": {
          "bar": [
           {
            "error_x": {
             "color": "#2a3f5f"
            },
            "error_y": {
             "color": "#2a3f5f"
            },
            "marker": {
             "line": {
              "color": "#E5ECF6",
              "width": 0.5
             },
             "pattern": {
              "fillmode": "overlay",
              "size": 10,
              "solidity": 0.2
             }
            },
            "type": "bar"
           }
          ],
          "barpolar": [
           {
            "marker": {
             "line": {
              "color": "#E5ECF6",
              "width": 0.5
             },
             "pattern": {
              "fillmode": "overlay",
              "size": 10,
              "solidity": 0.2
             }
            },
            "type": "barpolar"
           }
          ],
          "carpet": [
           {
            "aaxis": {
             "endlinecolor": "#2a3f5f",
             "gridcolor": "white",
             "linecolor": "white",
             "minorgridcolor": "white",
             "startlinecolor": "#2a3f5f"
            },
            "baxis": {
             "endlinecolor": "#2a3f5f",
             "gridcolor": "white",
             "linecolor": "white",
             "minorgridcolor": "white",
             "startlinecolor": "#2a3f5f"
            },
            "type": "carpet"
           }
          ],
          "choropleth": [
           {
            "colorbar": {
             "outlinewidth": 0,
             "ticks": ""
            },
            "type": "choropleth"
           }
          ],
          "contour": [
           {
            "colorbar": {
             "outlinewidth": 0,
             "ticks": ""
            },
            "colorscale": [
             [
              0,
              "#0d0887"
             ],
             [
              0.1111111111111111,
              "#46039f"
             ],
             [
              0.2222222222222222,
              "#7201a8"
             ],
             [
              0.3333333333333333,
              "#9c179e"
             ],
             [
              0.4444444444444444,
              "#bd3786"
             ],
             [
              0.5555555555555556,
              "#d8576b"
             ],
             [
              0.6666666666666666,
              "#ed7953"
             ],
             [
              0.7777777777777778,
              "#fb9f3a"
             ],
             [
              0.8888888888888888,
              "#fdca26"
             ],
             [
              1,
              "#f0f921"
             ]
            ],
            "type": "contour"
           }
          ],
          "contourcarpet": [
           {
            "colorbar": {
             "outlinewidth": 0,
             "ticks": ""
            },
            "type": "contourcarpet"
           }
          ],
          "heatmap": [
           {
            "colorbar": {
             "outlinewidth": 0,
             "ticks": ""
            },
            "colorscale": [
             [
              0,
              "#0d0887"
             ],
             [
              0.1111111111111111,
              "#46039f"
             ],
             [
              0.2222222222222222,
              "#7201a8"
             ],
             [
              0.3333333333333333,
              "#9c179e"
             ],
             [
              0.4444444444444444,
              "#bd3786"
             ],
             [
              0.5555555555555556,
              "#d8576b"
             ],
             [
              0.6666666666666666,
              "#ed7953"
             ],
             [
              0.7777777777777778,
              "#fb9f3a"
             ],
             [
              0.8888888888888888,
              "#fdca26"
             ],
             [
              1,
              "#f0f921"
             ]
            ],
            "type": "heatmap"
           }
          ],
          "heatmapgl": [
           {
            "colorbar": {
             "outlinewidth": 0,
             "ticks": ""
            },
            "colorscale": [
             [
              0,
              "#0d0887"
             ],
             [
              0.1111111111111111,
              "#46039f"
             ],
             [
              0.2222222222222222,
              "#7201a8"
             ],
             [
              0.3333333333333333,
              "#9c179e"
             ],
             [
              0.4444444444444444,
              "#bd3786"
             ],
             [
              0.5555555555555556,
              "#d8576b"
             ],
             [
              0.6666666666666666,
              "#ed7953"
             ],
             [
              0.7777777777777778,
              "#fb9f3a"
             ],
             [
              0.8888888888888888,
              "#fdca26"
             ],
             [
              1,
              "#f0f921"
             ]
            ],
            "type": "heatmapgl"
           }
          ],
          "histogram": [
           {
            "marker": {
             "pattern": {
              "fillmode": "overlay",
              "size": 10,
              "solidity": 0.2
             }
            },
            "type": "histogram"
           }
          ],
          "histogram2d": [
           {
            "colorbar": {
             "outlinewidth": 0,
             "ticks": ""
            },
            "colorscale": [
             [
              0,
              "#0d0887"
             ],
             [
              0.1111111111111111,
              "#46039f"
             ],
             [
              0.2222222222222222,
              "#7201a8"
             ],
             [
              0.3333333333333333,
              "#9c179e"
             ],
             [
              0.4444444444444444,
              "#bd3786"
             ],
             [
              0.5555555555555556,
              "#d8576b"
             ],
             [
              0.6666666666666666,
              "#ed7953"
             ],
             [
              0.7777777777777778,
              "#fb9f3a"
             ],
             [
              0.8888888888888888,
              "#fdca26"
             ],
             [
              1,
              "#f0f921"
             ]
            ],
            "type": "histogram2d"
           }
          ],
          "histogram2dcontour": [
           {
            "colorbar": {
             "outlinewidth": 0,
             "ticks": ""
            },
            "colorscale": [
             [
              0,
              "#0d0887"
             ],
             [
              0.1111111111111111,
              "#46039f"
             ],
             [
              0.2222222222222222,
              "#7201a8"
             ],
             [
              0.3333333333333333,
              "#9c179e"
             ],
             [
              0.4444444444444444,
              "#bd3786"
             ],
             [
              0.5555555555555556,
              "#d8576b"
             ],
             [
              0.6666666666666666,
              "#ed7953"
             ],
             [
              0.7777777777777778,
              "#fb9f3a"
             ],
             [
              0.8888888888888888,
              "#fdca26"
             ],
             [
              1,
              "#f0f921"
             ]
            ],
            "type": "histogram2dcontour"
           }
          ],
          "mesh3d": [
           {
            "colorbar": {
             "outlinewidth": 0,
             "ticks": ""
            },
            "type": "mesh3d"
           }
          ],
          "parcoords": [
           {
            "line": {
             "colorbar": {
              "outlinewidth": 0,
              "ticks": ""
             }
            },
            "type": "parcoords"
           }
          ],
          "pie": [
           {
            "automargin": true,
            "type": "pie"
           }
          ],
          "scatter": [
           {
            "fillpattern": {
             "fillmode": "overlay",
             "size": 10,
             "solidity": 0.2
            },
            "type": "scatter"
           }
          ],
          "scatter3d": [
           {
            "line": {
             "colorbar": {
              "outlinewidth": 0,
              "ticks": ""
             }
            },
            "marker": {
             "colorbar": {
              "outlinewidth": 0,
              "ticks": ""
             }
            },
            "type": "scatter3d"
           }
          ],
          "scattercarpet": [
           {
            "marker": {
             "colorbar": {
              "outlinewidth": 0,
              "ticks": ""
             }
            },
            "type": "scattercarpet"
           }
          ],
          "scattergeo": [
           {
            "marker": {
             "colorbar": {
              "outlinewidth": 0,
              "ticks": ""
             }
            },
            "type": "scattergeo"
           }
          ],
          "scattergl": [
           {
            "marker": {
             "colorbar": {
              "outlinewidth": 0,
              "ticks": ""
             }
            },
            "type": "scattergl"
           }
          ],
          "scattermapbox": [
           {
            "marker": {
             "colorbar": {
              "outlinewidth": 0,
              "ticks": ""
             }
            },
            "type": "scattermapbox"
           }
          ],
          "scatterpolar": [
           {
            "marker": {
             "colorbar": {
              "outlinewidth": 0,
              "ticks": ""
             }
            },
            "type": "scatterpolar"
           }
          ],
          "scatterpolargl": [
           {
            "marker": {
             "colorbar": {
              "outlinewidth": 0,
              "ticks": ""
             }
            },
            "type": "scatterpolargl"
           }
          ],
          "scatterternary": [
           {
            "marker": {
             "colorbar": {
              "outlinewidth": 0,
              "ticks": ""
             }
            },
            "type": "scatterternary"
           }
          ],
          "surface": [
           {
            "colorbar": {
             "outlinewidth": 0,
             "ticks": ""
            },
            "colorscale": [
             [
              0,
              "#0d0887"
             ],
             [
              0.1111111111111111,
              "#46039f"
             ],
             [
              0.2222222222222222,
              "#7201a8"
             ],
             [
              0.3333333333333333,
              "#9c179e"
             ],
             [
              0.4444444444444444,
              "#bd3786"
             ],
             [
              0.5555555555555556,
              "#d8576b"
             ],
             [
              0.6666666666666666,
              "#ed7953"
             ],
             [
              0.7777777777777778,
              "#fb9f3a"
             ],
             [
              0.8888888888888888,
              "#fdca26"
             ],
             [
              1,
              "#f0f921"
             ]
            ],
            "type": "surface"
           }
          ],
          "table": [
           {
            "cells": {
             "fill": {
              "color": "#EBF0F8"
             },
             "line": {
              "color": "white"
             }
            },
            "header": {
             "fill": {
              "color": "#C8D4E3"
             },
             "line": {
              "color": "white"
             }
            },
            "type": "table"
           }
          ]
         },
         "layout": {
          "annotationdefaults": {
           "arrowcolor": "#2a3f5f",
           "arrowhead": 0,
           "arrowwidth": 1
          },
          "autotypenumbers": "strict",
          "coloraxis": {
           "colorbar": {
            "outlinewidth": 0,
            "ticks": ""
           }
          },
          "colorscale": {
           "diverging": [
            [
             0,
             "#8e0152"
            ],
            [
             0.1,
             "#c51b7d"
            ],
            [
             0.2,
             "#de77ae"
            ],
            [
             0.3,
             "#f1b6da"
            ],
            [
             0.4,
             "#fde0ef"
            ],
            [
             0.5,
             "#f7f7f7"
            ],
            [
             0.6,
             "#e6f5d0"
            ],
            [
             0.7,
             "#b8e186"
            ],
            [
             0.8,
             "#7fbc41"
            ],
            [
             0.9,
             "#4d9221"
            ],
            [
             1,
             "#276419"
            ]
           ],
           "sequential": [
            [
             0,
             "#0d0887"
            ],
            [
             0.1111111111111111,
             "#46039f"
            ],
            [
             0.2222222222222222,
             "#7201a8"
            ],
            [
             0.3333333333333333,
             "#9c179e"
            ],
            [
             0.4444444444444444,
             "#bd3786"
            ],
            [
             0.5555555555555556,
             "#d8576b"
            ],
            [
             0.6666666666666666,
             "#ed7953"
            ],
            [
             0.7777777777777778,
             "#fb9f3a"
            ],
            [
             0.8888888888888888,
             "#fdca26"
            ],
            [
             1,
             "#f0f921"
            ]
           ],
           "sequentialminus": [
            [
             0,
             "#0d0887"
            ],
            [
             0.1111111111111111,
             "#46039f"
            ],
            [
             0.2222222222222222,
             "#7201a8"
            ],
            [
             0.3333333333333333,
             "#9c179e"
            ],
            [
             0.4444444444444444,
             "#bd3786"
            ],
            [
             0.5555555555555556,
             "#d8576b"
            ],
            [
             0.6666666666666666,
             "#ed7953"
            ],
            [
             0.7777777777777778,
             "#fb9f3a"
            ],
            [
             0.8888888888888888,
             "#fdca26"
            ],
            [
             1,
             "#f0f921"
            ]
           ]
          },
          "colorway": [
           "#636efa",
           "#EF553B",
           "#00cc96",
           "#ab63fa",
           "#FFA15A",
           "#19d3f3",
           "#FF6692",
           "#B6E880",
           "#FF97FF",
           "#FECB52"
          ],
          "font": {
           "color": "#2a3f5f"
          },
          "geo": {
           "bgcolor": "white",
           "lakecolor": "white",
           "landcolor": "#E5ECF6",
           "showlakes": true,
           "showland": true,
           "subunitcolor": "white"
          },
          "hoverlabel": {
           "align": "left"
          },
          "hovermode": "closest",
          "mapbox": {
           "style": "light"
          },
          "paper_bgcolor": "white",
          "plot_bgcolor": "#E5ECF6",
          "polar": {
           "angularaxis": {
            "gridcolor": "white",
            "linecolor": "white",
            "ticks": ""
           },
           "bgcolor": "#E5ECF6",
           "radialaxis": {
            "gridcolor": "white",
            "linecolor": "white",
            "ticks": ""
           }
          },
          "scene": {
           "xaxis": {
            "backgroundcolor": "#E5ECF6",
            "gridcolor": "white",
            "gridwidth": 2,
            "linecolor": "white",
            "showbackground": true,
            "ticks": "",
            "zerolinecolor": "white"
           },
           "yaxis": {
            "backgroundcolor": "#E5ECF6",
            "gridcolor": "white",
            "gridwidth": 2,
            "linecolor": "white",
            "showbackground": true,
            "ticks": "",
            "zerolinecolor": "white"
           },
           "zaxis": {
            "backgroundcolor": "#E5ECF6",
            "gridcolor": "white",
            "gridwidth": 2,
            "linecolor": "white",
            "showbackground": true,
            "ticks": "",
            "zerolinecolor": "white"
           }
          },
          "shapedefaults": {
           "line": {
            "color": "#2a3f5f"
           }
          },
          "ternary": {
           "aaxis": {
            "gridcolor": "white",
            "linecolor": "white",
            "ticks": ""
           },
           "baxis": {
            "gridcolor": "white",
            "linecolor": "white",
            "ticks": ""
           },
           "bgcolor": "#E5ECF6",
           "caxis": {
            "gridcolor": "white",
            "linecolor": "white",
            "ticks": ""
           }
          },
          "title": {
           "x": 0.05
          },
          "xaxis": {
           "automargin": true,
           "gridcolor": "white",
           "linecolor": "white",
           "ticks": "",
           "title": {
            "standoff": 15
           },
           "zerolinecolor": "white",
           "zerolinewidth": 2
          },
          "yaxis": {
           "automargin": true,
           "gridcolor": "white",
           "linecolor": "white",
           "ticks": "",
           "title": {
            "standoff": 15
           },
           "zerolinecolor": "white",
           "zerolinewidth": 2
          }
         }
        },
        "title": {
         "text": "Metrics per indicator for benchmark_32 and rpqs_eval_list_1+2"
        },
        "width": 630,
        "xaxis": {
         "anchor": "y",
         "domain": [
          0,
          1
         ],
         "title": {
          "text": "value"
         }
        },
        "yaxis": {
         "anchor": "x",
         "domain": [
          0,
          1
         ],
         "title": {
          "text": "indicator"
         }
        }
       }
      },
      "text/html": [
       "<div>                            <div id=\"05909b0f-2161-4359-a67d-0ad2fcfacc7b\" class=\"plotly-graph-div\" style=\"height:500px; width:630px;\"></div>            <script type=\"text/javascript\">                require([\"plotly\"], function(Plotly) {                    window.PLOTLYENV=window.PLOTLYENV || {};                                    if (document.getElementById(\"05909b0f-2161-4359-a67d-0ad2fcfacc7b\")) {                    Plotly.newPlot(                        \"05909b0f-2161-4359-a67d-0ad2fcfacc7b\",                        [{\"alignmentgroup\":\"True\",\"hovertemplate\":\"variable=True positives\\u003cbr\\u003evalue=%{x}\\u003cbr\\u003eindicator=%{y}\\u003cextra\\u003e\\u003c\\u002fextra\\u003e\",\"legendgroup\":\"True positives\",\"marker\":{\"color\":\"#636EFA\",\"pattern\":{\"shape\":\"\"}},\"name\":\"True positives\",\"offsetgroup\":\"True positives\",\"orientation\":\"h\",\"showlegend\":true,\"textposition\":\"auto\",\"x\":[27.0,20.0,8.0,9.0,9.0,34.0,17.0,21.0,17.0,11.0,27.0,36.0,15.0,17.0,21.0,31.0,20.0,14.0,10.0],\"xaxis\":\"x\",\"y\":[\"D204.0\",\"D203.0\",\"P205.3\",\"P203.3\",\"P204.3\",\"P202.2B\",\"P253.2\",\"P201.1\",\"P258.1\",\"P256.2\",\"P207.0\",\"D201.0\",\"P255.3\",\"P257.0\",\"P206.3\",\"D202.0\",\"P252.2\",\"P251.1\",\"P254.3\"],\"yaxis\":\"y\",\"type\":\"bar\"},{\"alignmentgroup\":\"True\",\"hovertemplate\":\"variable=True negatives\\u003cbr\\u003evalue=%{x}\\u003cbr\\u003eindicator=%{y}\\u003cextra\\u003e\\u003c\\u002fextra\\u003e\",\"legendgroup\":\"True negatives\",\"marker\":{\"color\":\"#19D3F3\",\"pattern\":{\"shape\":\"\"}},\"name\":\"True negatives\",\"offsetgroup\":\"True negatives\",\"orientation\":\"h\",\"showlegend\":true,\"textposition\":\"auto\",\"x\":[5.0,15.0,27.0,28.0,28.0,5.0,23.0,20.0,24.0,30.0,15.0,6.0,28.0,26.0,22.0,13.0,24.0,31.0,35.0],\"xaxis\":\"x\",\"y\":[\"D204.0\",\"D203.0\",\"P205.3\",\"P203.3\",\"P204.3\",\"P202.2B\",\"P253.2\",\"P201.1\",\"P258.1\",\"P256.2\",\"P207.0\",\"D201.0\",\"P255.3\",\"P257.0\",\"P206.3\",\"D202.0\",\"P252.2\",\"P251.1\",\"P254.3\"],\"yaxis\":\"y\",\"type\":\"bar\"},{\"alignmentgroup\":\"True\",\"hovertemplate\":\"variable=False positives of kind 1\\u003cbr\\u003evalue=%{x}\\u003cbr\\u003eindicator=%{y}\\u003cextra\\u003e\\u003c\\u002fextra\\u003e\",\"legendgroup\":\"False positives of kind 1\",\"marker\":{\"color\":\"#EF553B\",\"pattern\":{\"shape\":\"\"}},\"name\":\"False positives of kind 1\",\"offsetgroup\":\"False positives of kind 1\",\"orientation\":\"h\",\"showlegend\":true,\"textposition\":\"auto\",\"x\":[1.0,1.0,1.0,0.0,0.0,2.0,3.0,2.0,1.0,2.0,0.0,1.0,0.0,0.0,1.0,0.0,1.0,0.0,0.0],\"xaxis\":\"x\",\"y\":[\"D204.0\",\"D203.0\",\"P205.3\",\"P203.3\",\"P204.3\",\"P202.2B\",\"P253.2\",\"P201.1\",\"P258.1\",\"P256.2\",\"P207.0\",\"D201.0\",\"P255.3\",\"P257.0\",\"P206.3\",\"D202.0\",\"P252.2\",\"P251.1\",\"P254.3\"],\"yaxis\":\"y\",\"type\":\"bar\"},{\"alignmentgroup\":\"True\",\"hovertemplate\":\"variable=False positives of kind 2\\u003cbr\\u003evalue=%{x}\\u003cbr\\u003eindicator=%{y}\\u003cextra\\u003e\\u003c\\u002fextra\\u003e\",\"legendgroup\":\"False positives of kind 2\",\"marker\":{\"color\":\"#FF6692\",\"pattern\":{\"shape\":\"\"}},\"name\":\"False positives of kind 2\",\"offsetgroup\":\"False positives of kind 2\",\"orientation\":\"h\",\"showlegend\":true,\"textposition\":\"auto\",\"x\":[10.0,1.0,0.0,0.0,0.0,2.0,1.0,2.0,0.0,0.0,1.0,1.0,2.0,0.0,1.0,0.0,0.0,0.0,0.0],\"xaxis\":\"x\",\"y\":[\"D204.0\",\"D203.0\",\"P205.3\",\"P203.3\",\"P204.3\",\"P202.2B\",\"P253.2\",\"P201.1\",\"P258.1\",\"P256.2\",\"P207.0\",\"D201.0\",\"P255.3\",\"P257.0\",\"P206.3\",\"D202.0\",\"P252.2\",\"P251.1\",\"P254.3\"],\"yaxis\":\"y\",\"type\":\"bar\"},{\"alignmentgroup\":\"True\",\"hovertemplate\":\"variable=False negatives\\u003cbr\\u003evalue=%{x}\\u003cbr\\u003eindicator=%{y}\\u003cextra\\u003e\\u003c\\u002fextra\\u003e\",\"legendgroup\":\"False negatives\",\"marker\":{\"color\":\"#FFA15A\",\"pattern\":{\"shape\":\"\"}},\"name\":\"False negatives\",\"offsetgroup\":\"False negatives\",\"orientation\":\"h\",\"showlegend\":true,\"textposition\":\"auto\",\"x\":[2.0,8.0,9.0,8.0,8.0,2.0,1.0,0.0,3.0,2.0,2.0,1.0,0.0,2.0,0.0,1.0,0.0,0.0,0.0],\"xaxis\":\"x\",\"y\":[\"D204.0\",\"D203.0\",\"P205.3\",\"P203.3\",\"P204.3\",\"P202.2B\",\"P253.2\",\"P201.1\",\"P258.1\",\"P256.2\",\"P207.0\",\"D201.0\",\"P255.3\",\"P257.0\",\"P206.3\",\"D202.0\",\"P252.2\",\"P251.1\",\"P254.3\"],\"yaxis\":\"y\",\"type\":\"bar\"}],                        {\"template\":{\"data\":{\"histogram2dcontour\":[{\"type\":\"histogram2dcontour\",\"colorbar\":{\"outlinewidth\":0,\"ticks\":\"\"},\"colorscale\":[[0.0,\"#0d0887\"],[0.1111111111111111,\"#46039f\"],[0.2222222222222222,\"#7201a8\"],[0.3333333333333333,\"#9c179e\"],[0.4444444444444444,\"#bd3786\"],[0.5555555555555556,\"#d8576b\"],[0.6666666666666666,\"#ed7953\"],[0.7777777777777778,\"#fb9f3a\"],[0.8888888888888888,\"#fdca26\"],[1.0,\"#f0f921\"]]}],\"choropleth\":[{\"type\":\"choropleth\",\"colorbar\":{\"outlinewidth\":0,\"ticks\":\"\"}}],\"histogram2d\":[{\"type\":\"histogram2d\",\"colorbar\":{\"outlinewidth\":0,\"ticks\":\"\"},\"colorscale\":[[0.0,\"#0d0887\"],[0.1111111111111111,\"#46039f\"],[0.2222222222222222,\"#7201a8\"],[0.3333333333333333,\"#9c179e\"],[0.4444444444444444,\"#bd3786\"],[0.5555555555555556,\"#d8576b\"],[0.6666666666666666,\"#ed7953\"],[0.7777777777777778,\"#fb9f3a\"],[0.8888888888888888,\"#fdca26\"],[1.0,\"#f0f921\"]]}],\"heatmap\":[{\"type\":\"heatmap\",\"colorbar\":{\"outlinewidth\":0,\"ticks\":\"\"},\"colorscale\":[[0.0,\"#0d0887\"],[0.1111111111111111,\"#46039f\"],[0.2222222222222222,\"#7201a8\"],[0.3333333333333333,\"#9c179e\"],[0.4444444444444444,\"#bd3786\"],[0.5555555555555556,\"#d8576b\"],[0.6666666666666666,\"#ed7953\"],[0.7777777777777778,\"#fb9f3a\"],[0.8888888888888888,\"#fdca26\"],[1.0,\"#f0f921\"]]}],\"heatmapgl\":[{\"type\":\"heatmapgl\",\"colorbar\":{\"outlinewidth\":0,\"ticks\":\"\"},\"colorscale\":[[0.0,\"#0d0887\"],[0.1111111111111111,\"#46039f\"],[0.2222222222222222,\"#7201a8\"],[0.3333333333333333,\"#9c179e\"],[0.4444444444444444,\"#bd3786\"],[0.5555555555555556,\"#d8576b\"],[0.6666666666666666,\"#ed7953\"],[0.7777777777777778,\"#fb9f3a\"],[0.8888888888888888,\"#fdca26\"],[1.0,\"#f0f921\"]]}],\"contourcarpet\":[{\"type\":\"contourcarpet\",\"colorbar\":{\"outlinewidth\":0,\"ticks\":\"\"}}],\"contour\":[{\"type\":\"contour\",\"colorbar\":{\"outlinewidth\":0,\"ticks\":\"\"},\"colorscale\":[[0.0,\"#0d0887\"],[0.1111111111111111,\"#46039f\"],[0.2222222222222222,\"#7201a8\"],[0.3333333333333333,\"#9c179e\"],[0.4444444444444444,\"#bd3786\"],[0.5555555555555556,\"#d8576b\"],[0.6666666666666666,\"#ed7953\"],[0.7777777777777778,\"#fb9f3a\"],[0.8888888888888888,\"#fdca26\"],[1.0,\"#f0f921\"]]}],\"surface\":[{\"type\":\"surface\",\"colorbar\":{\"outlinewidth\":0,\"ticks\":\"\"},\"colorscale\":[[0.0,\"#0d0887\"],[0.1111111111111111,\"#46039f\"],[0.2222222222222222,\"#7201a8\"],[0.3333333333333333,\"#9c179e\"],[0.4444444444444444,\"#bd3786\"],[0.5555555555555556,\"#d8576b\"],[0.6666666666666666,\"#ed7953\"],[0.7777777777777778,\"#fb9f3a\"],[0.8888888888888888,\"#fdca26\"],[1.0,\"#f0f921\"]]}],\"mesh3d\":[{\"type\":\"mesh3d\",\"colorbar\":{\"outlinewidth\":0,\"ticks\":\"\"}}],\"scatter\":[{\"fillpattern\":{\"fillmode\":\"overlay\",\"size\":10,\"solidity\":0.2},\"type\":\"scatter\"}],\"parcoords\":[{\"type\":\"parcoords\",\"line\":{\"colorbar\":{\"outlinewidth\":0,\"ticks\":\"\"}}}],\"scatterpolargl\":[{\"type\":\"scatterpolargl\",\"marker\":{\"colorbar\":{\"outlinewidth\":0,\"ticks\":\"\"}}}],\"bar\":[{\"error_x\":{\"color\":\"#2a3f5f\"},\"error_y\":{\"color\":\"#2a3f5f\"},\"marker\":{\"line\":{\"color\":\"#E5ECF6\",\"width\":0.5},\"pattern\":{\"fillmode\":\"overlay\",\"size\":10,\"solidity\":0.2}},\"type\":\"bar\"}],\"scattergeo\":[{\"type\":\"scattergeo\",\"marker\":{\"colorbar\":{\"outlinewidth\":0,\"ticks\":\"\"}}}],\"scatterpolar\":[{\"type\":\"scatterpolar\",\"marker\":{\"colorbar\":{\"outlinewidth\":0,\"ticks\":\"\"}}}],\"histogram\":[{\"marker\":{\"pattern\":{\"fillmode\":\"overlay\",\"size\":10,\"solidity\":0.2}},\"type\":\"histogram\"}],\"scattergl\":[{\"type\":\"scattergl\",\"marker\":{\"colorbar\":{\"outlinewidth\":0,\"ticks\":\"\"}}}],\"scatter3d\":[{\"type\":\"scatter3d\",\"line\":{\"colorbar\":{\"outlinewidth\":0,\"ticks\":\"\"}},\"marker\":{\"colorbar\":{\"outlinewidth\":0,\"ticks\":\"\"}}}],\"scattermapbox\":[{\"type\":\"scattermapbox\",\"marker\":{\"colorbar\":{\"outlinewidth\":0,\"ticks\":\"\"}}}],\"scatterternary\":[{\"type\":\"scatterternary\",\"marker\":{\"colorbar\":{\"outlinewidth\":0,\"ticks\":\"\"}}}],\"scattercarpet\":[{\"type\":\"scattercarpet\",\"marker\":{\"colorbar\":{\"outlinewidth\":0,\"ticks\":\"\"}}}],\"carpet\":[{\"aaxis\":{\"endlinecolor\":\"#2a3f5f\",\"gridcolor\":\"white\",\"linecolor\":\"white\",\"minorgridcolor\":\"white\",\"startlinecolor\":\"#2a3f5f\"},\"baxis\":{\"endlinecolor\":\"#2a3f5f\",\"gridcolor\":\"white\",\"linecolor\":\"white\",\"minorgridcolor\":\"white\",\"startlinecolor\":\"#2a3f5f\"},\"type\":\"carpet\"}],\"table\":[{\"cells\":{\"fill\":{\"color\":\"#EBF0F8\"},\"line\":{\"color\":\"white\"}},\"header\":{\"fill\":{\"color\":\"#C8D4E3\"},\"line\":{\"color\":\"white\"}},\"type\":\"table\"}],\"barpolar\":[{\"marker\":{\"line\":{\"color\":\"#E5ECF6\",\"width\":0.5},\"pattern\":{\"fillmode\":\"overlay\",\"size\":10,\"solidity\":0.2}},\"type\":\"barpolar\"}],\"pie\":[{\"automargin\":true,\"type\":\"pie\"}]},\"layout\":{\"autotypenumbers\":\"strict\",\"colorway\":[\"#636efa\",\"#EF553B\",\"#00cc96\",\"#ab63fa\",\"#FFA15A\",\"#19d3f3\",\"#FF6692\",\"#B6E880\",\"#FF97FF\",\"#FECB52\"],\"font\":{\"color\":\"#2a3f5f\"},\"hovermode\":\"closest\",\"hoverlabel\":{\"align\":\"left\"},\"paper_bgcolor\":\"white\",\"plot_bgcolor\":\"#E5ECF6\",\"polar\":{\"bgcolor\":\"#E5ECF6\",\"angularaxis\":{\"gridcolor\":\"white\",\"linecolor\":\"white\",\"ticks\":\"\"},\"radialaxis\":{\"gridcolor\":\"white\",\"linecolor\":\"white\",\"ticks\":\"\"}},\"ternary\":{\"bgcolor\":\"#E5ECF6\",\"aaxis\":{\"gridcolor\":\"white\",\"linecolor\":\"white\",\"ticks\":\"\"},\"baxis\":{\"gridcolor\":\"white\",\"linecolor\":\"white\",\"ticks\":\"\"},\"caxis\":{\"gridcolor\":\"white\",\"linecolor\":\"white\",\"ticks\":\"\"}},\"coloraxis\":{\"colorbar\":{\"outlinewidth\":0,\"ticks\":\"\"}},\"colorscale\":{\"sequential\":[[0.0,\"#0d0887\"],[0.1111111111111111,\"#46039f\"],[0.2222222222222222,\"#7201a8\"],[0.3333333333333333,\"#9c179e\"],[0.4444444444444444,\"#bd3786\"],[0.5555555555555556,\"#d8576b\"],[0.6666666666666666,\"#ed7953\"],[0.7777777777777778,\"#fb9f3a\"],[0.8888888888888888,\"#fdca26\"],[1.0,\"#f0f921\"]],\"sequentialminus\":[[0.0,\"#0d0887\"],[0.1111111111111111,\"#46039f\"],[0.2222222222222222,\"#7201a8\"],[0.3333333333333333,\"#9c179e\"],[0.4444444444444444,\"#bd3786\"],[0.5555555555555556,\"#d8576b\"],[0.6666666666666666,\"#ed7953\"],[0.7777777777777778,\"#fb9f3a\"],[0.8888888888888888,\"#fdca26\"],[1.0,\"#f0f921\"]],\"diverging\":[[0,\"#8e0152\"],[0.1,\"#c51b7d\"],[0.2,\"#de77ae\"],[0.3,\"#f1b6da\"],[0.4,\"#fde0ef\"],[0.5,\"#f7f7f7\"],[0.6,\"#e6f5d0\"],[0.7,\"#b8e186\"],[0.8,\"#7fbc41\"],[0.9,\"#4d9221\"],[1,\"#276419\"]]},\"xaxis\":{\"gridcolor\":\"white\",\"linecolor\":\"white\",\"ticks\":\"\",\"title\":{\"standoff\":15},\"zerolinecolor\":\"white\",\"automargin\":true,\"zerolinewidth\":2},\"yaxis\":{\"gridcolor\":\"white\",\"linecolor\":\"white\",\"ticks\":\"\",\"title\":{\"standoff\":15},\"zerolinecolor\":\"white\",\"automargin\":true,\"zerolinewidth\":2},\"scene\":{\"xaxis\":{\"backgroundcolor\":\"#E5ECF6\",\"gridcolor\":\"white\",\"linecolor\":\"white\",\"showbackground\":true,\"ticks\":\"\",\"zerolinecolor\":\"white\",\"gridwidth\":2},\"yaxis\":{\"backgroundcolor\":\"#E5ECF6\",\"gridcolor\":\"white\",\"linecolor\":\"white\",\"showbackground\":true,\"ticks\":\"\",\"zerolinecolor\":\"white\",\"gridwidth\":2},\"zaxis\":{\"backgroundcolor\":\"#E5ECF6\",\"gridcolor\":\"white\",\"linecolor\":\"white\",\"showbackground\":true,\"ticks\":\"\",\"zerolinecolor\":\"white\",\"gridwidth\":2}},\"shapedefaults\":{\"line\":{\"color\":\"#2a3f5f\"}},\"annotationdefaults\":{\"arrowcolor\":\"#2a3f5f\",\"arrowhead\":0,\"arrowwidth\":1},\"geo\":{\"bgcolor\":\"white\",\"landcolor\":\"#E5ECF6\",\"subunitcolor\":\"white\",\"showland\":true,\"showlakes\":true,\"lakecolor\":\"white\"},\"title\":{\"x\":0.05},\"mapbox\":{\"style\":\"light\"}}},\"xaxis\":{\"anchor\":\"y\",\"domain\":[0.0,1.0],\"title\":{\"text\":\"value\"}},\"yaxis\":{\"anchor\":\"x\",\"domain\":[0.0,1.0],\"title\":{\"text\":\"indicator\"}},\"legend\":{\"title\":{\"text\":\"variable\"},\"tracegroupgap\":0},\"title\":{\"text\":\"Metrics per indicator for benchmark_32 and rpqs_eval_list_1+2\"},\"barmode\":\"relative\",\"height\":500,\"width\":630},                        {\"responsive\": true}                    ).then(function(){\n",
       "                            \n",
       "var gd = document.getElementById('05909b0f-2161-4359-a67d-0ad2fcfacc7b');\n",
       "var x = new MutationObserver(function (mutations, observer) {{\n",
       "        var display = window.getComputedStyle(gd).display;\n",
       "        if (!display || display === 'none') {{\n",
       "            console.log([gd, 'removed!']);\n",
       "            Plotly.purge(gd);\n",
       "            observer.disconnect();\n",
       "        }}\n",
       "}});\n",
       "\n",
       "// Listen for the removal of the full notebook cells\n",
       "var notebookContainer = gd.closest('#notebook-container');\n",
       "if (notebookContainer) {{\n",
       "    x.observe(notebookContainer, {childList: true});\n",
       "}}\n",
       "\n",
       "// Listen for the clearing of the current output cell\n",
       "var outputEl = gd.closest('.output');\n",
       "if (outputEl) {{\n",
       "    x.observe(outputEl, {childList: true});\n",
       "}}\n",
       "\n",
       "                        })                };                });            </script>        </div>"
      ]
     },
     "metadata": {},
     "output_type": "display_data"
    },
    {
     "data": {
      "application/vnd.plotly.v1+json": {
       "config": {
        "plotlyServerURL": "https://plot.ly"
       },
       "data": [
        {
         "alignmentgroup": "True",
         "hovertemplate": "variable=True positives<br>value=%{x}<br>indicator=%{y}<extra></extra>",
         "legendgroup": "True positives",
         "marker": {
          "color": "#636EFA",
          "pattern": {
           "shape": ""
          }
         },
         "name": "True positives",
         "offsetgroup": "True positives",
         "orientation": "h",
         "showlegend": true,
         "textposition": "auto",
         "type": "bar",
         "x": [
          18,
          15,
          8,
          8,
          8,
          14,
          9,
          12,
          10,
          3,
          13,
          19,
          9,
          10,
          11,
          18,
          11,
          8,
          3
         ],
         "xaxis": "x",
         "y": [
          "D204.0",
          "D203.0",
          "P205.3",
          "P203.3",
          "P204.3",
          "P202.2B",
          "P253.2",
          "P201.1",
          "P258.1",
          "P256.2",
          "P207.0",
          "D201.0",
          "P255.3",
          "P257.0",
          "P206.3",
          "D202.0",
          "P252.2",
          "P251.1",
          "P254.3"
         ],
         "yaxis": "y"
        },
        {
         "alignmentgroup": "True",
         "hovertemplate": "variable=True negatives<br>value=%{x}<br>indicator=%{y}<extra></extra>",
         "legendgroup": "True negatives",
         "marker": {
          "color": "#19D3F3",
          "pattern": {
           "shape": ""
          }
         },
         "name": "True negatives",
         "offsetgroup": "True negatives",
         "orientation": "h",
         "showlegend": true,
         "textposition": "auto",
         "type": "bar",
         "x": [
          6,
          16,
          28,
          28,
          28,
          7,
          26,
          22,
          25,
          32,
          15,
          7,
          28,
          26,
          23,
          13,
          25,
          31,
          35
         ],
         "xaxis": "x",
         "y": [
          "D204.0",
          "D203.0",
          "P205.3",
          "P203.3",
          "P204.3",
          "P202.2B",
          "P253.2",
          "P201.1",
          "P258.1",
          "P256.2",
          "P207.0",
          "D201.0",
          "P255.3",
          "P257.0",
          "P206.3",
          "D202.0",
          "P252.2",
          "P251.1",
          "P254.3"
         ],
         "yaxis": "y"
        },
        {
         "alignmentgroup": "True",
         "hovertemplate": "variable=False positives of kind 1<br>value=%{x}<br>indicator=%{y}<extra></extra>",
         "legendgroup": "False positives of kind 1",
         "marker": {
          "color": "#EF553B",
          "pattern": {
           "shape": ""
          }
         },
         "name": "False positives of kind 1",
         "offsetgroup": "False positives of kind 1",
         "orientation": "h",
         "showlegend": true,
         "textposition": "auto",
         "type": "bar",
         "x": [
          0,
          0,
          0,
          0,
          0,
          0,
          0,
          0,
          0,
          0,
          0,
          0,
          0,
          0,
          0,
          0,
          0,
          0,
          0
         ],
         "xaxis": "x",
         "y": [
          "D204.0",
          "D203.0",
          "P205.3",
          "P203.3",
          "P204.3",
          "P202.2B",
          "P253.2",
          "P201.1",
          "P258.1",
          "P256.2",
          "P207.0",
          "D201.0",
          "P255.3",
          "P257.0",
          "P206.3",
          "D202.0",
          "P252.2",
          "P251.1",
          "P254.3"
         ],
         "yaxis": "y"
        },
        {
         "alignmentgroup": "True",
         "hovertemplate": "variable=False positives of kind 2<br>value=%{x}<br>indicator=%{y}<extra></extra>",
         "legendgroup": "False positives of kind 2",
         "marker": {
          "color": "#FF6692",
          "pattern": {
           "shape": ""
          }
         },
         "name": "False positives of kind 2",
         "offsetgroup": "False positives of kind 2",
         "orientation": "h",
         "showlegend": true,
         "textposition": "auto",
         "type": "bar",
         "x": [
          0,
          0,
          0,
          0,
          0,
          0,
          0,
          0,
          0,
          0,
          0,
          0,
          0,
          0,
          0,
          0,
          0,
          0,
          0
         ],
         "xaxis": "x",
         "y": [
          "D204.0",
          "D203.0",
          "P205.3",
          "P203.3",
          "P204.3",
          "P202.2B",
          "P253.2",
          "P201.1",
          "P258.1",
          "P256.2",
          "P207.0",
          "D201.0",
          "P255.3",
          "P257.0",
          "P206.3",
          "D202.0",
          "P252.2",
          "P251.1",
          "P254.3"
         ],
         "yaxis": "y"
        },
        {
         "alignmentgroup": "True",
         "hovertemplate": "variable=False negatives<br>value=%{x}<br>indicator=%{y}<extra></extra>",
         "legendgroup": "False negatives",
         "marker": {
          "color": "#FFA15A",
          "pattern": {
           "shape": ""
          }
         },
         "name": "False negatives",
         "offsetgroup": "False negatives",
         "orientation": "h",
         "showlegend": true,
         "textposition": "auto",
         "type": "bar",
         "x": [
          21,
          14,
          9,
          9,
          9,
          24,
          10,
          11,
          10,
          10,
          17,
          19,
          8,
          9,
          11,
          14,
          9,
          6,
          7
         ],
         "xaxis": "x",
         "y": [
          "D204.0",
          "D203.0",
          "P205.3",
          "P203.3",
          "P204.3",
          "P202.2B",
          "P253.2",
          "P201.1",
          "P258.1",
          "P256.2",
          "P207.0",
          "D201.0",
          "P255.3",
          "P257.0",
          "P206.3",
          "D202.0",
          "P252.2",
          "P251.1",
          "P254.3"
         ],
         "yaxis": "y"
        }
       ],
       "layout": {
        "barmode": "relative",
        "height": 500,
        "legend": {
         "title": {
          "text": "variable"
         },
         "tracegroupgap": 0
        },
        "template": {
         "data": {
          "bar": [
           {
            "error_x": {
             "color": "#2a3f5f"
            },
            "error_y": {
             "color": "#2a3f5f"
            },
            "marker": {
             "line": {
              "color": "#E5ECF6",
              "width": 0.5
             },
             "pattern": {
              "fillmode": "overlay",
              "size": 10,
              "solidity": 0.2
             }
            },
            "type": "bar"
           }
          ],
          "barpolar": [
           {
            "marker": {
             "line": {
              "color": "#E5ECF6",
              "width": 0.5
             },
             "pattern": {
              "fillmode": "overlay",
              "size": 10,
              "solidity": 0.2
             }
            },
            "type": "barpolar"
           }
          ],
          "carpet": [
           {
            "aaxis": {
             "endlinecolor": "#2a3f5f",
             "gridcolor": "white",
             "linecolor": "white",
             "minorgridcolor": "white",
             "startlinecolor": "#2a3f5f"
            },
            "baxis": {
             "endlinecolor": "#2a3f5f",
             "gridcolor": "white",
             "linecolor": "white",
             "minorgridcolor": "white",
             "startlinecolor": "#2a3f5f"
            },
            "type": "carpet"
           }
          ],
          "choropleth": [
           {
            "colorbar": {
             "outlinewidth": 0,
             "ticks": ""
            },
            "type": "choropleth"
           }
          ],
          "contour": [
           {
            "colorbar": {
             "outlinewidth": 0,
             "ticks": ""
            },
            "colorscale": [
             [
              0,
              "#0d0887"
             ],
             [
              0.1111111111111111,
              "#46039f"
             ],
             [
              0.2222222222222222,
              "#7201a8"
             ],
             [
              0.3333333333333333,
              "#9c179e"
             ],
             [
              0.4444444444444444,
              "#bd3786"
             ],
             [
              0.5555555555555556,
              "#d8576b"
             ],
             [
              0.6666666666666666,
              "#ed7953"
             ],
             [
              0.7777777777777778,
              "#fb9f3a"
             ],
             [
              0.8888888888888888,
              "#fdca26"
             ],
             [
              1,
              "#f0f921"
             ]
            ],
            "type": "contour"
           }
          ],
          "contourcarpet": [
           {
            "colorbar": {
             "outlinewidth": 0,
             "ticks": ""
            },
            "type": "contourcarpet"
           }
          ],
          "heatmap": [
           {
            "colorbar": {
             "outlinewidth": 0,
             "ticks": ""
            },
            "colorscale": [
             [
              0,
              "#0d0887"
             ],
             [
              0.1111111111111111,
              "#46039f"
             ],
             [
              0.2222222222222222,
              "#7201a8"
             ],
             [
              0.3333333333333333,
              "#9c179e"
             ],
             [
              0.4444444444444444,
              "#bd3786"
             ],
             [
              0.5555555555555556,
              "#d8576b"
             ],
             [
              0.6666666666666666,
              "#ed7953"
             ],
             [
              0.7777777777777778,
              "#fb9f3a"
             ],
             [
              0.8888888888888888,
              "#fdca26"
             ],
             [
              1,
              "#f0f921"
             ]
            ],
            "type": "heatmap"
           }
          ],
          "heatmapgl": [
           {
            "colorbar": {
             "outlinewidth": 0,
             "ticks": ""
            },
            "colorscale": [
             [
              0,
              "#0d0887"
             ],
             [
              0.1111111111111111,
              "#46039f"
             ],
             [
              0.2222222222222222,
              "#7201a8"
             ],
             [
              0.3333333333333333,
              "#9c179e"
             ],
             [
              0.4444444444444444,
              "#bd3786"
             ],
             [
              0.5555555555555556,
              "#d8576b"
             ],
             [
              0.6666666666666666,
              "#ed7953"
             ],
             [
              0.7777777777777778,
              "#fb9f3a"
             ],
             [
              0.8888888888888888,
              "#fdca26"
             ],
             [
              1,
              "#f0f921"
             ]
            ],
            "type": "heatmapgl"
           }
          ],
          "histogram": [
           {
            "marker": {
             "pattern": {
              "fillmode": "overlay",
              "size": 10,
              "solidity": 0.2
             }
            },
            "type": "histogram"
           }
          ],
          "histogram2d": [
           {
            "colorbar": {
             "outlinewidth": 0,
             "ticks": ""
            },
            "colorscale": [
             [
              0,
              "#0d0887"
             ],
             [
              0.1111111111111111,
              "#46039f"
             ],
             [
              0.2222222222222222,
              "#7201a8"
             ],
             [
              0.3333333333333333,
              "#9c179e"
             ],
             [
              0.4444444444444444,
              "#bd3786"
             ],
             [
              0.5555555555555556,
              "#d8576b"
             ],
             [
              0.6666666666666666,
              "#ed7953"
             ],
             [
              0.7777777777777778,
              "#fb9f3a"
             ],
             [
              0.8888888888888888,
              "#fdca26"
             ],
             [
              1,
              "#f0f921"
             ]
            ],
            "type": "histogram2d"
           }
          ],
          "histogram2dcontour": [
           {
            "colorbar": {
             "outlinewidth": 0,
             "ticks": ""
            },
            "colorscale": [
             [
              0,
              "#0d0887"
             ],
             [
              0.1111111111111111,
              "#46039f"
             ],
             [
              0.2222222222222222,
              "#7201a8"
             ],
             [
              0.3333333333333333,
              "#9c179e"
             ],
             [
              0.4444444444444444,
              "#bd3786"
             ],
             [
              0.5555555555555556,
              "#d8576b"
             ],
             [
              0.6666666666666666,
              "#ed7953"
             ],
             [
              0.7777777777777778,
              "#fb9f3a"
             ],
             [
              0.8888888888888888,
              "#fdca26"
             ],
             [
              1,
              "#f0f921"
             ]
            ],
            "type": "histogram2dcontour"
           }
          ],
          "mesh3d": [
           {
            "colorbar": {
             "outlinewidth": 0,
             "ticks": ""
            },
            "type": "mesh3d"
           }
          ],
          "parcoords": [
           {
            "line": {
             "colorbar": {
              "outlinewidth": 0,
              "ticks": ""
             }
            },
            "type": "parcoords"
           }
          ],
          "pie": [
           {
            "automargin": true,
            "type": "pie"
           }
          ],
          "scatter": [
           {
            "fillpattern": {
             "fillmode": "overlay",
             "size": 10,
             "solidity": 0.2
            },
            "type": "scatter"
           }
          ],
          "scatter3d": [
           {
            "line": {
             "colorbar": {
              "outlinewidth": 0,
              "ticks": ""
             }
            },
            "marker": {
             "colorbar": {
              "outlinewidth": 0,
              "ticks": ""
             }
            },
            "type": "scatter3d"
           }
          ],
          "scattercarpet": [
           {
            "marker": {
             "colorbar": {
              "outlinewidth": 0,
              "ticks": ""
             }
            },
            "type": "scattercarpet"
           }
          ],
          "scattergeo": [
           {
            "marker": {
             "colorbar": {
              "outlinewidth": 0,
              "ticks": ""
             }
            },
            "type": "scattergeo"
           }
          ],
          "scattergl": [
           {
            "marker": {
             "colorbar": {
              "outlinewidth": 0,
              "ticks": ""
             }
            },
            "type": "scattergl"
           }
          ],
          "scattermapbox": [
           {
            "marker": {
             "colorbar": {
              "outlinewidth": 0,
              "ticks": ""
             }
            },
            "type": "scattermapbox"
           }
          ],
          "scatterpolar": [
           {
            "marker": {
             "colorbar": {
              "outlinewidth": 0,
              "ticks": ""
             }
            },
            "type": "scatterpolar"
           }
          ],
          "scatterpolargl": [
           {
            "marker": {
             "colorbar": {
              "outlinewidth": 0,
              "ticks": ""
             }
            },
            "type": "scatterpolargl"
           }
          ],
          "scatterternary": [
           {
            "marker": {
             "colorbar": {
              "outlinewidth": 0,
              "ticks": ""
             }
            },
            "type": "scatterternary"
           }
          ],
          "surface": [
           {
            "colorbar": {
             "outlinewidth": 0,
             "ticks": ""
            },
            "colorscale": [
             [
              0,
              "#0d0887"
             ],
             [
              0.1111111111111111,
              "#46039f"
             ],
             [
              0.2222222222222222,
              "#7201a8"
             ],
             [
              0.3333333333333333,
              "#9c179e"
             ],
             [
              0.4444444444444444,
              "#bd3786"
             ],
             [
              0.5555555555555556,
              "#d8576b"
             ],
             [
              0.6666666666666666,
              "#ed7953"
             ],
             [
              0.7777777777777778,
              "#fb9f3a"
             ],
             [
              0.8888888888888888,
              "#fdca26"
             ],
             [
              1,
              "#f0f921"
             ]
            ],
            "type": "surface"
           }
          ],
          "table": [
           {
            "cells": {
             "fill": {
              "color": "#EBF0F8"
             },
             "line": {
              "color": "white"
             }
            },
            "header": {
             "fill": {
              "color": "#C8D4E3"
             },
             "line": {
              "color": "white"
             }
            },
            "type": "table"
           }
          ]
         },
         "layout": {
          "annotationdefaults": {
           "arrowcolor": "#2a3f5f",
           "arrowhead": 0,
           "arrowwidth": 1
          },
          "autotypenumbers": "strict",
          "coloraxis": {
           "colorbar": {
            "outlinewidth": 0,
            "ticks": ""
           }
          },
          "colorscale": {
           "diverging": [
            [
             0,
             "#8e0152"
            ],
            [
             0.1,
             "#c51b7d"
            ],
            [
             0.2,
             "#de77ae"
            ],
            [
             0.3,
             "#f1b6da"
            ],
            [
             0.4,
             "#fde0ef"
            ],
            [
             0.5,
             "#f7f7f7"
            ],
            [
             0.6,
             "#e6f5d0"
            ],
            [
             0.7,
             "#b8e186"
            ],
            [
             0.8,
             "#7fbc41"
            ],
            [
             0.9,
             "#4d9221"
            ],
            [
             1,
             "#276419"
            ]
           ],
           "sequential": [
            [
             0,
             "#0d0887"
            ],
            [
             0.1111111111111111,
             "#46039f"
            ],
            [
             0.2222222222222222,
             "#7201a8"
            ],
            [
             0.3333333333333333,
             "#9c179e"
            ],
            [
             0.4444444444444444,
             "#bd3786"
            ],
            [
             0.5555555555555556,
             "#d8576b"
            ],
            [
             0.6666666666666666,
             "#ed7953"
            ],
            [
             0.7777777777777778,
             "#fb9f3a"
            ],
            [
             0.8888888888888888,
             "#fdca26"
            ],
            [
             1,
             "#f0f921"
            ]
           ],
           "sequentialminus": [
            [
             0,
             "#0d0887"
            ],
            [
             0.1111111111111111,
             "#46039f"
            ],
            [
             0.2222222222222222,
             "#7201a8"
            ],
            [
             0.3333333333333333,
             "#9c179e"
            ],
            [
             0.4444444444444444,
             "#bd3786"
            ],
            [
             0.5555555555555556,
             "#d8576b"
            ],
            [
             0.6666666666666666,
             "#ed7953"
            ],
            [
             0.7777777777777778,
             "#fb9f3a"
            ],
            [
             0.8888888888888888,
             "#fdca26"
            ],
            [
             1,
             "#f0f921"
            ]
           ]
          },
          "colorway": [
           "#636efa",
           "#EF553B",
           "#00cc96",
           "#ab63fa",
           "#FFA15A",
           "#19d3f3",
           "#FF6692",
           "#B6E880",
           "#FF97FF",
           "#FECB52"
          ],
          "font": {
           "color": "#2a3f5f"
          },
          "geo": {
           "bgcolor": "white",
           "lakecolor": "white",
           "landcolor": "#E5ECF6",
           "showlakes": true,
           "showland": true,
           "subunitcolor": "white"
          },
          "hoverlabel": {
           "align": "left"
          },
          "hovermode": "closest",
          "mapbox": {
           "style": "light"
          },
          "paper_bgcolor": "white",
          "plot_bgcolor": "#E5ECF6",
          "polar": {
           "angularaxis": {
            "gridcolor": "white",
            "linecolor": "white",
            "ticks": ""
           },
           "bgcolor": "#E5ECF6",
           "radialaxis": {
            "gridcolor": "white",
            "linecolor": "white",
            "ticks": ""
           }
          },
          "scene": {
           "xaxis": {
            "backgroundcolor": "#E5ECF6",
            "gridcolor": "white",
            "gridwidth": 2,
            "linecolor": "white",
            "showbackground": true,
            "ticks": "",
            "zerolinecolor": "white"
           },
           "yaxis": {
            "backgroundcolor": "#E5ECF6",
            "gridcolor": "white",
            "gridwidth": 2,
            "linecolor": "white",
            "showbackground": true,
            "ticks": "",
            "zerolinecolor": "white"
           },
           "zaxis": {
            "backgroundcolor": "#E5ECF6",
            "gridcolor": "white",
            "gridwidth": 2,
            "linecolor": "white",
            "showbackground": true,
            "ticks": "",
            "zerolinecolor": "white"
           }
          },
          "shapedefaults": {
           "line": {
            "color": "#2a3f5f"
           }
          },
          "ternary": {
           "aaxis": {
            "gridcolor": "white",
            "linecolor": "white",
            "ticks": ""
           },
           "baxis": {
            "gridcolor": "white",
            "linecolor": "white",
            "ticks": ""
           },
           "bgcolor": "#E5ECF6",
           "caxis": {
            "gridcolor": "white",
            "linecolor": "white",
            "ticks": ""
           }
          },
          "title": {
           "x": 0.05
          },
          "xaxis": {
           "automargin": true,
           "gridcolor": "white",
           "linecolor": "white",
           "ticks": "",
           "title": {
            "standoff": 15
           },
           "zerolinecolor": "white",
           "zerolinewidth": 2
          },
          "yaxis": {
           "automargin": true,
           "gridcolor": "white",
           "linecolor": "white",
           "ticks": "",
           "title": {
            "standoff": 15
           },
           "zerolinecolor": "white",
           "zerolinewidth": 2
          }
         }
        },
        "title": {
         "text": "Metrics per indicator for benchmark_table_32 and rpqs_eval_list_1+2"
        },
        "width": 630,
        "xaxis": {
         "anchor": "y",
         "domain": [
          0,
          1
         ],
         "title": {
          "text": "value"
         }
        },
        "yaxis": {
         "anchor": "x",
         "domain": [
          0,
          1
         ],
         "title": {
          "text": "indicator"
         }
        }
       }
      },
      "text/html": [
       "<div>                            <div id=\"033e5beb-f1c6-4493-8dbc-3d31beb217db\" class=\"plotly-graph-div\" style=\"height:500px; width:630px;\"></div>            <script type=\"text/javascript\">                require([\"plotly\"], function(Plotly) {                    window.PLOTLYENV=window.PLOTLYENV || {};                                    if (document.getElementById(\"033e5beb-f1c6-4493-8dbc-3d31beb217db\")) {                    Plotly.newPlot(                        \"033e5beb-f1c6-4493-8dbc-3d31beb217db\",                        [{\"alignmentgroup\":\"True\",\"hovertemplate\":\"variable=True positives\\u003cbr\\u003evalue=%{x}\\u003cbr\\u003eindicator=%{y}\\u003cextra\\u003e\\u003c\\u002fextra\\u003e\",\"legendgroup\":\"True positives\",\"marker\":{\"color\":\"#636EFA\",\"pattern\":{\"shape\":\"\"}},\"name\":\"True positives\",\"offsetgroup\":\"True positives\",\"orientation\":\"h\",\"showlegend\":true,\"textposition\":\"auto\",\"x\":[18.0,15.0,8.0,8.0,8.0,14.0,9.0,12.0,10.0,3.0,13.0,19.0,9.0,10.0,11.0,18.0,11.0,8.0,3.0],\"xaxis\":\"x\",\"y\":[\"D204.0\",\"D203.0\",\"P205.3\",\"P203.3\",\"P204.3\",\"P202.2B\",\"P253.2\",\"P201.1\",\"P258.1\",\"P256.2\",\"P207.0\",\"D201.0\",\"P255.3\",\"P257.0\",\"P206.3\",\"D202.0\",\"P252.2\",\"P251.1\",\"P254.3\"],\"yaxis\":\"y\",\"type\":\"bar\"},{\"alignmentgroup\":\"True\",\"hovertemplate\":\"variable=True negatives\\u003cbr\\u003evalue=%{x}\\u003cbr\\u003eindicator=%{y}\\u003cextra\\u003e\\u003c\\u002fextra\\u003e\",\"legendgroup\":\"True negatives\",\"marker\":{\"color\":\"#19D3F3\",\"pattern\":{\"shape\":\"\"}},\"name\":\"True negatives\",\"offsetgroup\":\"True negatives\",\"orientation\":\"h\",\"showlegend\":true,\"textposition\":\"auto\",\"x\":[6.0,16.0,28.0,28.0,28.0,7.0,26.0,22.0,25.0,32.0,15.0,7.0,28.0,26.0,23.0,13.0,25.0,31.0,35.0],\"xaxis\":\"x\",\"y\":[\"D204.0\",\"D203.0\",\"P205.3\",\"P203.3\",\"P204.3\",\"P202.2B\",\"P253.2\",\"P201.1\",\"P258.1\",\"P256.2\",\"P207.0\",\"D201.0\",\"P255.3\",\"P257.0\",\"P206.3\",\"D202.0\",\"P252.2\",\"P251.1\",\"P254.3\"],\"yaxis\":\"y\",\"type\":\"bar\"},{\"alignmentgroup\":\"True\",\"hovertemplate\":\"variable=False positives of kind 1\\u003cbr\\u003evalue=%{x}\\u003cbr\\u003eindicator=%{y}\\u003cextra\\u003e\\u003c\\u002fextra\\u003e\",\"legendgroup\":\"False positives of kind 1\",\"marker\":{\"color\":\"#EF553B\",\"pattern\":{\"shape\":\"\"}},\"name\":\"False positives of kind 1\",\"offsetgroup\":\"False positives of kind 1\",\"orientation\":\"h\",\"showlegend\":true,\"textposition\":\"auto\",\"x\":[0.0,0.0,0.0,0.0,0.0,0.0,0.0,0.0,0.0,0.0,0.0,0.0,0.0,0.0,0.0,0.0,0.0,0.0,0.0],\"xaxis\":\"x\",\"y\":[\"D204.0\",\"D203.0\",\"P205.3\",\"P203.3\",\"P204.3\",\"P202.2B\",\"P253.2\",\"P201.1\",\"P258.1\",\"P256.2\",\"P207.0\",\"D201.0\",\"P255.3\",\"P257.0\",\"P206.3\",\"D202.0\",\"P252.2\",\"P251.1\",\"P254.3\"],\"yaxis\":\"y\",\"type\":\"bar\"},{\"alignmentgroup\":\"True\",\"hovertemplate\":\"variable=False positives of kind 2\\u003cbr\\u003evalue=%{x}\\u003cbr\\u003eindicator=%{y}\\u003cextra\\u003e\\u003c\\u002fextra\\u003e\",\"legendgroup\":\"False positives of kind 2\",\"marker\":{\"color\":\"#FF6692\",\"pattern\":{\"shape\":\"\"}},\"name\":\"False positives of kind 2\",\"offsetgroup\":\"False positives of kind 2\",\"orientation\":\"h\",\"showlegend\":true,\"textposition\":\"auto\",\"x\":[0.0,0.0,0.0,0.0,0.0,0.0,0.0,0.0,0.0,0.0,0.0,0.0,0.0,0.0,0.0,0.0,0.0,0.0,0.0],\"xaxis\":\"x\",\"y\":[\"D204.0\",\"D203.0\",\"P205.3\",\"P203.3\",\"P204.3\",\"P202.2B\",\"P253.2\",\"P201.1\",\"P258.1\",\"P256.2\",\"P207.0\",\"D201.0\",\"P255.3\",\"P257.0\",\"P206.3\",\"D202.0\",\"P252.2\",\"P251.1\",\"P254.3\"],\"yaxis\":\"y\",\"type\":\"bar\"},{\"alignmentgroup\":\"True\",\"hovertemplate\":\"variable=False negatives\\u003cbr\\u003evalue=%{x}\\u003cbr\\u003eindicator=%{y}\\u003cextra\\u003e\\u003c\\u002fextra\\u003e\",\"legendgroup\":\"False negatives\",\"marker\":{\"color\":\"#FFA15A\",\"pattern\":{\"shape\":\"\"}},\"name\":\"False negatives\",\"offsetgroup\":\"False negatives\",\"orientation\":\"h\",\"showlegend\":true,\"textposition\":\"auto\",\"x\":[21.0,14.0,9.0,9.0,9.0,24.0,10.0,11.0,10.0,10.0,17.0,19.0,8.0,9.0,11.0,14.0,9.0,6.0,7.0],\"xaxis\":\"x\",\"y\":[\"D204.0\",\"D203.0\",\"P205.3\",\"P203.3\",\"P204.3\",\"P202.2B\",\"P253.2\",\"P201.1\",\"P258.1\",\"P256.2\",\"P207.0\",\"D201.0\",\"P255.3\",\"P257.0\",\"P206.3\",\"D202.0\",\"P252.2\",\"P251.1\",\"P254.3\"],\"yaxis\":\"y\",\"type\":\"bar\"}],                        {\"template\":{\"data\":{\"histogram2dcontour\":[{\"type\":\"histogram2dcontour\",\"colorbar\":{\"outlinewidth\":0,\"ticks\":\"\"},\"colorscale\":[[0.0,\"#0d0887\"],[0.1111111111111111,\"#46039f\"],[0.2222222222222222,\"#7201a8\"],[0.3333333333333333,\"#9c179e\"],[0.4444444444444444,\"#bd3786\"],[0.5555555555555556,\"#d8576b\"],[0.6666666666666666,\"#ed7953\"],[0.7777777777777778,\"#fb9f3a\"],[0.8888888888888888,\"#fdca26\"],[1.0,\"#f0f921\"]]}],\"choropleth\":[{\"type\":\"choropleth\",\"colorbar\":{\"outlinewidth\":0,\"ticks\":\"\"}}],\"histogram2d\":[{\"type\":\"histogram2d\",\"colorbar\":{\"outlinewidth\":0,\"ticks\":\"\"},\"colorscale\":[[0.0,\"#0d0887\"],[0.1111111111111111,\"#46039f\"],[0.2222222222222222,\"#7201a8\"],[0.3333333333333333,\"#9c179e\"],[0.4444444444444444,\"#bd3786\"],[0.5555555555555556,\"#d8576b\"],[0.6666666666666666,\"#ed7953\"],[0.7777777777777778,\"#fb9f3a\"],[0.8888888888888888,\"#fdca26\"],[1.0,\"#f0f921\"]]}],\"heatmap\":[{\"type\":\"heatmap\",\"colorbar\":{\"outlinewidth\":0,\"ticks\":\"\"},\"colorscale\":[[0.0,\"#0d0887\"],[0.1111111111111111,\"#46039f\"],[0.2222222222222222,\"#7201a8\"],[0.3333333333333333,\"#9c179e\"],[0.4444444444444444,\"#bd3786\"],[0.5555555555555556,\"#d8576b\"],[0.6666666666666666,\"#ed7953\"],[0.7777777777777778,\"#fb9f3a\"],[0.8888888888888888,\"#fdca26\"],[1.0,\"#f0f921\"]]}],\"heatmapgl\":[{\"type\":\"heatmapgl\",\"colorbar\":{\"outlinewidth\":0,\"ticks\":\"\"},\"colorscale\":[[0.0,\"#0d0887\"],[0.1111111111111111,\"#46039f\"],[0.2222222222222222,\"#7201a8\"],[0.3333333333333333,\"#9c179e\"],[0.4444444444444444,\"#bd3786\"],[0.5555555555555556,\"#d8576b\"],[0.6666666666666666,\"#ed7953\"],[0.7777777777777778,\"#fb9f3a\"],[0.8888888888888888,\"#fdca26\"],[1.0,\"#f0f921\"]]}],\"contourcarpet\":[{\"type\":\"contourcarpet\",\"colorbar\":{\"outlinewidth\":0,\"ticks\":\"\"}}],\"contour\":[{\"type\":\"contour\",\"colorbar\":{\"outlinewidth\":0,\"ticks\":\"\"},\"colorscale\":[[0.0,\"#0d0887\"],[0.1111111111111111,\"#46039f\"],[0.2222222222222222,\"#7201a8\"],[0.3333333333333333,\"#9c179e\"],[0.4444444444444444,\"#bd3786\"],[0.5555555555555556,\"#d8576b\"],[0.6666666666666666,\"#ed7953\"],[0.7777777777777778,\"#fb9f3a\"],[0.8888888888888888,\"#fdca26\"],[1.0,\"#f0f921\"]]}],\"surface\":[{\"type\":\"surface\",\"colorbar\":{\"outlinewidth\":0,\"ticks\":\"\"},\"colorscale\":[[0.0,\"#0d0887\"],[0.1111111111111111,\"#46039f\"],[0.2222222222222222,\"#7201a8\"],[0.3333333333333333,\"#9c179e\"],[0.4444444444444444,\"#bd3786\"],[0.5555555555555556,\"#d8576b\"],[0.6666666666666666,\"#ed7953\"],[0.7777777777777778,\"#fb9f3a\"],[0.8888888888888888,\"#fdca26\"],[1.0,\"#f0f921\"]]}],\"mesh3d\":[{\"type\":\"mesh3d\",\"colorbar\":{\"outlinewidth\":0,\"ticks\":\"\"}}],\"scatter\":[{\"fillpattern\":{\"fillmode\":\"overlay\",\"size\":10,\"solidity\":0.2},\"type\":\"scatter\"}],\"parcoords\":[{\"type\":\"parcoords\",\"line\":{\"colorbar\":{\"outlinewidth\":0,\"ticks\":\"\"}}}],\"scatterpolargl\":[{\"type\":\"scatterpolargl\",\"marker\":{\"colorbar\":{\"outlinewidth\":0,\"ticks\":\"\"}}}],\"bar\":[{\"error_x\":{\"color\":\"#2a3f5f\"},\"error_y\":{\"color\":\"#2a3f5f\"},\"marker\":{\"line\":{\"color\":\"#E5ECF6\",\"width\":0.5},\"pattern\":{\"fillmode\":\"overlay\",\"size\":10,\"solidity\":0.2}},\"type\":\"bar\"}],\"scattergeo\":[{\"type\":\"scattergeo\",\"marker\":{\"colorbar\":{\"outlinewidth\":0,\"ticks\":\"\"}}}],\"scatterpolar\":[{\"type\":\"scatterpolar\",\"marker\":{\"colorbar\":{\"outlinewidth\":0,\"ticks\":\"\"}}}],\"histogram\":[{\"marker\":{\"pattern\":{\"fillmode\":\"overlay\",\"size\":10,\"solidity\":0.2}},\"type\":\"histogram\"}],\"scattergl\":[{\"type\":\"scattergl\",\"marker\":{\"colorbar\":{\"outlinewidth\":0,\"ticks\":\"\"}}}],\"scatter3d\":[{\"type\":\"scatter3d\",\"line\":{\"colorbar\":{\"outlinewidth\":0,\"ticks\":\"\"}},\"marker\":{\"colorbar\":{\"outlinewidth\":0,\"ticks\":\"\"}}}],\"scattermapbox\":[{\"type\":\"scattermapbox\",\"marker\":{\"colorbar\":{\"outlinewidth\":0,\"ticks\":\"\"}}}],\"scatterternary\":[{\"type\":\"scatterternary\",\"marker\":{\"colorbar\":{\"outlinewidth\":0,\"ticks\":\"\"}}}],\"scattercarpet\":[{\"type\":\"scattercarpet\",\"marker\":{\"colorbar\":{\"outlinewidth\":0,\"ticks\":\"\"}}}],\"carpet\":[{\"aaxis\":{\"endlinecolor\":\"#2a3f5f\",\"gridcolor\":\"white\",\"linecolor\":\"white\",\"minorgridcolor\":\"white\",\"startlinecolor\":\"#2a3f5f\"},\"baxis\":{\"endlinecolor\":\"#2a3f5f\",\"gridcolor\":\"white\",\"linecolor\":\"white\",\"minorgridcolor\":\"white\",\"startlinecolor\":\"#2a3f5f\"},\"type\":\"carpet\"}],\"table\":[{\"cells\":{\"fill\":{\"color\":\"#EBF0F8\"},\"line\":{\"color\":\"white\"}},\"header\":{\"fill\":{\"color\":\"#C8D4E3\"},\"line\":{\"color\":\"white\"}},\"type\":\"table\"}],\"barpolar\":[{\"marker\":{\"line\":{\"color\":\"#E5ECF6\",\"width\":0.5},\"pattern\":{\"fillmode\":\"overlay\",\"size\":10,\"solidity\":0.2}},\"type\":\"barpolar\"}],\"pie\":[{\"automargin\":true,\"type\":\"pie\"}]},\"layout\":{\"autotypenumbers\":\"strict\",\"colorway\":[\"#636efa\",\"#EF553B\",\"#00cc96\",\"#ab63fa\",\"#FFA15A\",\"#19d3f3\",\"#FF6692\",\"#B6E880\",\"#FF97FF\",\"#FECB52\"],\"font\":{\"color\":\"#2a3f5f\"},\"hovermode\":\"closest\",\"hoverlabel\":{\"align\":\"left\"},\"paper_bgcolor\":\"white\",\"plot_bgcolor\":\"#E5ECF6\",\"polar\":{\"bgcolor\":\"#E5ECF6\",\"angularaxis\":{\"gridcolor\":\"white\",\"linecolor\":\"white\",\"ticks\":\"\"},\"radialaxis\":{\"gridcolor\":\"white\",\"linecolor\":\"white\",\"ticks\":\"\"}},\"ternary\":{\"bgcolor\":\"#E5ECF6\",\"aaxis\":{\"gridcolor\":\"white\",\"linecolor\":\"white\",\"ticks\":\"\"},\"baxis\":{\"gridcolor\":\"white\",\"linecolor\":\"white\",\"ticks\":\"\"},\"caxis\":{\"gridcolor\":\"white\",\"linecolor\":\"white\",\"ticks\":\"\"}},\"coloraxis\":{\"colorbar\":{\"outlinewidth\":0,\"ticks\":\"\"}},\"colorscale\":{\"sequential\":[[0.0,\"#0d0887\"],[0.1111111111111111,\"#46039f\"],[0.2222222222222222,\"#7201a8\"],[0.3333333333333333,\"#9c179e\"],[0.4444444444444444,\"#bd3786\"],[0.5555555555555556,\"#d8576b\"],[0.6666666666666666,\"#ed7953\"],[0.7777777777777778,\"#fb9f3a\"],[0.8888888888888888,\"#fdca26\"],[1.0,\"#f0f921\"]],\"sequentialminus\":[[0.0,\"#0d0887\"],[0.1111111111111111,\"#46039f\"],[0.2222222222222222,\"#7201a8\"],[0.3333333333333333,\"#9c179e\"],[0.4444444444444444,\"#bd3786\"],[0.5555555555555556,\"#d8576b\"],[0.6666666666666666,\"#ed7953\"],[0.7777777777777778,\"#fb9f3a\"],[0.8888888888888888,\"#fdca26\"],[1.0,\"#f0f921\"]],\"diverging\":[[0,\"#8e0152\"],[0.1,\"#c51b7d\"],[0.2,\"#de77ae\"],[0.3,\"#f1b6da\"],[0.4,\"#fde0ef\"],[0.5,\"#f7f7f7\"],[0.6,\"#e6f5d0\"],[0.7,\"#b8e186\"],[0.8,\"#7fbc41\"],[0.9,\"#4d9221\"],[1,\"#276419\"]]},\"xaxis\":{\"gridcolor\":\"white\",\"linecolor\":\"white\",\"ticks\":\"\",\"title\":{\"standoff\":15},\"zerolinecolor\":\"white\",\"automargin\":true,\"zerolinewidth\":2},\"yaxis\":{\"gridcolor\":\"white\",\"linecolor\":\"white\",\"ticks\":\"\",\"title\":{\"standoff\":15},\"zerolinecolor\":\"white\",\"automargin\":true,\"zerolinewidth\":2},\"scene\":{\"xaxis\":{\"backgroundcolor\":\"#E5ECF6\",\"gridcolor\":\"white\",\"linecolor\":\"white\",\"showbackground\":true,\"ticks\":\"\",\"zerolinecolor\":\"white\",\"gridwidth\":2},\"yaxis\":{\"backgroundcolor\":\"#E5ECF6\",\"gridcolor\":\"white\",\"linecolor\":\"white\",\"showbackground\":true,\"ticks\":\"\",\"zerolinecolor\":\"white\",\"gridwidth\":2},\"zaxis\":{\"backgroundcolor\":\"#E5ECF6\",\"gridcolor\":\"white\",\"linecolor\":\"white\",\"showbackground\":true,\"ticks\":\"\",\"zerolinecolor\":\"white\",\"gridwidth\":2}},\"shapedefaults\":{\"line\":{\"color\":\"#2a3f5f\"}},\"annotationdefaults\":{\"arrowcolor\":\"#2a3f5f\",\"arrowhead\":0,\"arrowwidth\":1},\"geo\":{\"bgcolor\":\"white\",\"landcolor\":\"#E5ECF6\",\"subunitcolor\":\"white\",\"showland\":true,\"showlakes\":true,\"lakecolor\":\"white\"},\"title\":{\"x\":0.05},\"mapbox\":{\"style\":\"light\"}}},\"xaxis\":{\"anchor\":\"y\",\"domain\":[0.0,1.0],\"title\":{\"text\":\"value\"}},\"yaxis\":{\"anchor\":\"x\",\"domain\":[0.0,1.0],\"title\":{\"text\":\"indicator\"}},\"legend\":{\"title\":{\"text\":\"variable\"},\"tracegroupgap\":0},\"title\":{\"text\":\"Metrics per indicator for benchmark_table_32 and rpqs_eval_list_1+2\"},\"barmode\":\"relative\",\"height\":500,\"width\":630},                        {\"responsive\": true}                    ).then(function(){\n",
       "                            \n",
       "var gd = document.getElementById('033e5beb-f1c6-4493-8dbc-3d31beb217db');\n",
       "var x = new MutationObserver(function (mutations, observer) {{\n",
       "        var display = window.getComputedStyle(gd).display;\n",
       "        if (!display || display === 'none') {{\n",
       "            console.log([gd, 'removed!']);\n",
       "            Plotly.purge(gd);\n",
       "            observer.disconnect();\n",
       "        }}\n",
       "}});\n",
       "\n",
       "// Listen for the removal of the full notebook cells\n",
       "var notebookContainer = gd.closest('#notebook-container');\n",
       "if (notebookContainer) {{\n",
       "    x.observe(notebookContainer, {childList: true});\n",
       "}}\n",
       "\n",
       "// Listen for the clearing of the current output cell\n",
       "var outputEl = gd.closest('.output');\n",
       "if (outputEl) {{\n",
       "    x.observe(outputEl, {childList: true});\n",
       "}}\n",
       "\n",
       "                        })                };                });            </script>        </div>"
      ]
     },
     "metadata": {},
     "output_type": "display_data"
    }
   ],
   "source": [
    "# Choose the PDF set used in the calculation of metrics per indicator\n",
    "pdf_list_file = 'rpqs_eval_list_1+2.csv'\n",
    "# Choose which benchmark versions the metrics should be calculated for\n",
    "benchmark_list = [\"benchmark_32\", \"benchmark_table_32\"]\n",
    "# Choose the benchmark version fixing indicator order (descending accuracy)\n",
    "indic_order = \"benchmark_32\"\n",
    "\n",
    "# Fix indicator order by accuracy\n",
    "indic_order_list = (df_per_ind\n",
    "                    .query(\"benchmark_version==@indic_order\")\n",
    "                    .query(\"pdf_list_file==@pdf_list_file\") \n",
    "                    .sort_values(by=\"accuracy_vs_pdf\", ascending=True) \n",
    "                    [\"indicator\"].to_list()\n",
    "                    )\n",
    "\n",
    "for benchmark_version in benchmark_list:\n",
    "    # Select data to plot\n",
    "    data_to_plot = df_per_ind[df_per_ind[\"pdf_list_file\"]==pdf_list_file]\n",
    "    data_to_plot = data_to_plot[data_to_plot[\"benchmark_version\"]==benchmark_version]\n",
    "\n",
    "    # Order indicator by accuracy\n",
    "    data_to_plot = data_to_plot.copy()\n",
    "    data_to_plot['indicator'] = pd.Categorical(data_to_plot['indicator'], categories=indic_order_list, ordered=True)\n",
    "    data_to_plot = data_to_plot.sort_values(\"indicator\")\n",
    "\n",
    "    # Rename columns\n",
    "    new_names_dict = {\n",
    "        \"tp_nb_vs_pdf\": \"True positives\", \n",
    "        \"tn_nb_vs_pdf\": \"True negatives\", \n",
    "        \"fp1_nb_vs_pdf\": \"False positives of kind 1\", \n",
    "        \"fp2_nb_vs_pdf\" : \"False positives of kind 2\", \n",
    "        \"fn_nb_vs_pdf\": \"False negatives\"\n",
    "    }\n",
    "    data_to_plot = data_to_plot.rename(columns=new_names_dict)\n",
    "\n",
    "    # Plot\n",
    "    cols_to_show = list(new_names_dict.values())\n",
    "    fig = px.bar(data_to_plot, \n",
    "                    y=\"indicator\", \n",
    "                    x=cols_to_show,  \n",
    "                    category_orders={\"variable\": cols_to_show},\n",
    "                    #color_discrete_sequence=[px.colors.qualitative.G10[i] for i in [0, 5, 1, 2, 4]],\n",
    "                    color_discrete_sequence=[px.colors.qualitative.Plotly[i] for i in [0, 5, 1, 6, 4]],\n",
    "                    height=500,\n",
    "                    width=630,\n",
    "                    title=f\"Metrics per indicator for {benchmark_version} and {pdf_list_file.removesuffix(\".csv\")}\"\n",
    "                    )\n",
    "\n",
    "    fig.show()"
   ]
  },
  {
   "cell_type": "markdown",
   "metadata": {},
   "source": []
  }
 ],
 "metadata": {
  "kernelspec": {
   "display_name": ".venv",
   "language": "python",
   "name": "python3"
  },
  "language_info": {
   "codemirror_mode": {
    "name": "ipython",
    "version": 3
   },
   "file_extension": ".py",
   "mimetype": "text/x-python",
   "name": "python",
   "nbconvert_exporter": "python",
   "pygments_lexer": "ipython3",
   "version": "3.12.4"
  }
 },
 "nbformat": 4,
 "nbformat_minor": 2
}
