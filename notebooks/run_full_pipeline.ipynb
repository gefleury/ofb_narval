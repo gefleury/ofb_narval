{
 "cells": [
  {
   "cell_type": "markdown",
   "metadata": {},
   "source": [
    "# Notebook to run the full pipeline\n",
    "\n",
    "This notebook takes as input a collection of PDFs and returns for each of them the extracted indicator values as a `csv` file.  \n",
    "The results are stored in the folder `data/output/choose-the-subfolder-name/answers/`"
   ]
  },
  {
   "cell_type": "markdown",
   "metadata": {},
   "source": [
    "### Import modules"
   ]
  },
  {
   "cell_type": "code",
   "execution_count": null,
   "metadata": {},
   "outputs": [
    {
     "name": "stderr",
     "output_type": "stream",
     "text": [
      "/home/gefleury/GitHub/narval/.venv/lib/python3.12/site-packages/numpy/_core/getlimits.py:548: UserWarning: Signature b'\\x00\\xd0\\xcc\\xcc\\xcc\\xcc\\xcc\\xcc\\xfb\\xbf\\x00\\x00\\x00\\x00\\x00\\x00' for <class 'numpy.longdouble'> does not match any known type: falling back to type probe function.\n",
      "This warnings indicates broken support for the dtype!\n",
      "  machar = _get_machar(dtype)\n",
      "/home/gefleury/GitHub/narval/.venv/lib/python3.12/site-packages/tqdm/auto.py:21: TqdmWarning: IProgress not found. Please update jupyter and ipywidgets. See https://ipywidgets.readthedocs.io/en/stable/user_install.html\n",
      "  from .autonotebook import tqdm as notebook_tqdm\n"
     ]
    }
   ],
   "source": [
    "import sys\n",
    "\n",
    "sys.path.append(\"../\")    # Add the path to the root directory (where we can find the folder .git)\n",
    "\n",
    "%load_ext autoreload\n",
    "%autoreload 2 \n",
    "\n",
    "from codecarbon import EmissionsTracker\n",
    "from time import time\n",
    "from narval.pipeline import Pipeline\n",
    "from narval.utils import FileSystem, get_data_dir"
   ]
  },
  {
   "cell_type": "markdown",
   "metadata": {},
   "source": [
    "### Choose the input parameters"
   ]
  },
  {
   "cell_type": "code",
   "execution_count": null,
   "metadata": {},
   "outputs": [],
   "source": [
    "# Name of the subfolder where answers will be saved (in `data/output/benchmark_*/answers/`)\n",
    "benchmark_version = \"benchmark_123\" \n",
    "# Name of the indicator file in `data/input`\n",
    "indicator_file = \"indicateurs_v6.csv\"\n",
    "# Name of the question file in `data/input`\n",
    "question_file = \"question_keyword_v7.csv\"\n",
    "# Text and table extraction parameters\n",
    "extract_tables = True\n",
    "text_extraction_method = \"PyPDF2\"\n",
    "table_extraction_method = \"PDFPlumber\"\n",
    "# ... table_answer_filter determines whether (True) or not (False) the QA model will be called \n",
    "# ... for an indicator whose value has been extracted from tables but does contain any digits (eg \"Non renseigné\")\n",
    "table_answer_filter = False   \n",
    "only_table_search_in_rad = True\n",
    "# Model type (Meta-Llama-3-8B-Instruct gives the best results to date)\n",
    "model_name = \"meta-llama/Meta-Llama-3-8B-Instruct\"\n",
    "# Prompt version (Llame_prompt_v7 gives the best results to date)\n",
    "prompt_version = (\"Llama_prompt_system_v7\", \"Llama_prompt_user_v7\")\n",
    "# Choose whether or not hallucinations must be removed in the cleaning step\n",
    "remove_hallucinations = True\n",
    "# Name of the file in `data/input` containing the list of PDFs to be read and questioned\n",
    "rpqs_eval_list_file = \"rpqs_eval_list_1+2.csv\""
   ]
  },
  {
   "cell_type": "markdown",
   "metadata": {},
   "source": [
    "### Import the dataframe containing the list of PDFs to be read and questioned"
   ]
  },
  {
   "cell_type": "code",
   "execution_count": 3,
   "metadata": {},
   "outputs": [
    {
     "data": {
      "text/html": [
       "<div>\n",
       "<style scoped>\n",
       "    .dataframe tbody tr th:only-of-type {\n",
       "        vertical-align: middle;\n",
       "    }\n",
       "\n",
       "    .dataframe tbody tr th {\n",
       "        vertical-align: top;\n",
       "    }\n",
       "\n",
       "    .dataframe thead th {\n",
       "        text-align: right;\n",
       "    }\n",
       "</style>\n",
       "<table border=\"1\" class=\"dataframe\">\n",
       "  <thead>\n",
       "    <tr style=\"text-align: right;\">\n",
       "      <th></th>\n",
       "      <th>pdf_name</th>\n",
       "      <th>collectivity</th>\n",
       "      <th>year</th>\n",
       "      <th>competence</th>\n",
       "    </tr>\n",
       "  </thead>\n",
       "  <tbody>\n",
       "    <tr>\n",
       "      <th>0</th>\n",
       "      <td>RPQS_Allain_AC_2021</td>\n",
       "      <td>Allain</td>\n",
       "      <td>2021</td>\n",
       "      <td>assainissement collectif</td>\n",
       "    </tr>\n",
       "    <tr>\n",
       "      <th>1</th>\n",
       "      <td>RPQS_Alloue_AC_2021</td>\n",
       "      <td>Alloue</td>\n",
       "      <td>2021</td>\n",
       "      <td>assainissement collectif</td>\n",
       "    </tr>\n",
       "    <tr>\n",
       "      <th>2</th>\n",
       "      <td>RPQS_Brillac_AC_2021</td>\n",
       "      <td>Brillac</td>\n",
       "      <td>2021</td>\n",
       "      <td>assainissement collectif</td>\n",
       "    </tr>\n",
       "    <tr>\n",
       "      <th>3</th>\n",
       "      <td>RPQS_Rully_AC_2021</td>\n",
       "      <td>Rully</td>\n",
       "      <td>2021</td>\n",
       "      <td>assainissement collectif</td>\n",
       "    </tr>\n",
       "    <tr>\n",
       "      <th>4</th>\n",
       "      <td>RPQS_Jons_AC_2022</td>\n",
       "      <td>Jons</td>\n",
       "      <td>2022</td>\n",
       "      <td>assainissement collectif</td>\n",
       "    </tr>\n",
       "  </tbody>\n",
       "</table>\n",
       "</div>"
      ],
      "text/plain": [
       "               pdf_name collectivity  year                competence\n",
       "0   RPQS_Allain_AC_2021       Allain  2021  assainissement collectif\n",
       "1   RPQS_Alloue_AC_2021       Alloue  2021  assainissement collectif\n",
       "2  RPQS_Brillac_AC_2021      Brillac  2021  assainissement collectif\n",
       "3    RPQS_Rully_AC_2021        Rully  2021  assainissement collectif\n",
       "4     RPQS_Jons_AC_2022         Jons  2022  assainissement collectif"
      ]
     },
     "execution_count": 3,
     "metadata": {},
     "output_type": "execute_result"
    }
   ],
   "source": [
    "# Instantiate the File System (local file system or S3 bucket)\n",
    "fs = FileSystem()\n",
    "# Get the directory containing the folder `data`\n",
    "data_dir = get_data_dir()\n",
    "# Import the dataframe containing the list of PDFs to be read and questioned\n",
    "eval_df = fs.read_csv_to_df(data_dir + \"/data/input/\" + rpqs_eval_list_file, sep=\";\", \n",
    "                            usecols=[\"pdf_name\", \"collectivity\", \"year\", \"competence\"])\n",
    "# Show the first rows of this dataframe\n",
    "eval_df.head()"
   ]
  },
  {
   "cell_type": "markdown",
   "metadata": {},
   "source": [
    "### Instantiate the pipeline"
   ]
  },
  {
   "cell_type": "code",
   "execution_count": null,
   "metadata": {},
   "outputs": [],
   "source": [
    "pipeline = Pipeline(\n",
    "    question_file=question_file,\n",
    "    indicator_file=indicator_file,\n",
    "    extract_tables=extract_tables,\n",
    "    text_extraction_method=text_extraction_method,\n",
    "    table_extraction_method=table_extraction_method,\n",
    "    table_answer_filter=table_answer_filter,\n",
    "    only_table_search_in_rad=only_table_search_in_rad,\n",
    "    benchmark_version=benchmark_version,\n",
    "    model_name=model_name,\n",
    "    prompt_version=prompt_version\n",
    ")"
   ]
  },
  {
   "cell_type": "markdown",
   "metadata": {},
   "source": [
    "### Log in to HuggingFace Hub if not yet done \n",
    "Needed for Llama3 models. Be sure you created first a Hugging Face token `HF_TOKEN` on your HuggingFace profile and saved it as an environment variable."
   ]
  },
  {
   "cell_type": "code",
   "execution_count": null,
   "metadata": {},
   "outputs": [],
   "source": [
    "# This cell needs to be run only once\n",
    "# There is no need to run this cell if you have already logged in to HuggingFace Hub previously\n",
    "# This cell must be run if the pipeline below generates an `AttributeError` inviting you to log in to the HuggingFace Hub \n",
    "\n",
    "'''\n",
    "import os\n",
    "from huggingface_hub import login\n",
    "\n",
    "hf_token = os.environ[\"HF_TOKEN\"]\n",
    "login(token = hf_token)\n",
    "'''"
   ]
  },
  {
   "cell_type": "markdown",
   "metadata": {},
   "source": [
    "### Instantiate the CodeCarbon tracker"
   ]
  },
  {
   "cell_type": "code",
   "execution_count": null,
   "metadata": {},
   "outputs": [],
   "source": [
    "tracker = EmissionsTracker(\n",
    "    save_to_file = False,      \n",
    "    log_level=\"error\"\n",
    "    )"
   ]
  },
  {
   "cell_type": "markdown",
   "metadata": {},
   "source": [
    "### Run the pipeline"
   ]
  },
  {
   "cell_type": "code",
   "execution_count": null,
   "metadata": {},
   "outputs": [],
   "source": [
    "# Start the CodeCarbon tracker\n",
    "tracker.start()\n",
    "\n",
    "t0 = time()\n",
    "try:\n",
    "    for _, row in eval_df.iterrows():\n",
    "        print(\"\\n\"+\"#\"*20)\n",
    "        pdf_file = row['pdf_name'] + \".pdf\"\n",
    "        collectivity = row['collectivity']\n",
    "        year = row['year']\n",
    "        competence = row['competence']\n",
    "\n",
    "        # Executes the full pipeline\n",
    "        pipeline.run(\n",
    "            pdf_file=pdf_file,\n",
    "            competence=competence,\n",
    "            year=year,\n",
    "            collectivity=collectivity, \n",
    "            remove_hallucinations=remove_hallucinations,\n",
    "            max_new_tokens=10\n",
    "        )  \n",
    "\n",
    "finally:\n",
    "    # Stop the CodeCarbon tracker\n",
    "    emissions = tracker.stop()\n",
    "\n",
    "t1 = time()\n",
    "print(\"\\n\"+\"#\"*20)\n",
    "print(f\"Computation time = {round(t1-t0, 1)} s\")\n",
    "print(f\"Carbon footprint : {round(emissions * 1_000, 1)} gCO2eq\")\n"
   ]
  },
  {
   "cell_type": "markdown",
   "metadata": {},
   "source": [
    "Show the detailed CodeCarbon data"
   ]
  },
  {
   "cell_type": "code",
   "execution_count": null,
   "metadata": {},
   "outputs": [],
   "source": [
    "import json\n",
    "\n",
    "json.loads(tracker.final_emissions_data.toJSON())"
   ]
  }
 ],
 "metadata": {
  "kernelspec": {
   "display_name": ".venv",
   "language": "python",
   "name": "python3"
  },
  "language_info": {
   "codemirror_mode": {
    "name": "ipython",
    "version": 3
   },
   "file_extension": ".py",
   "mimetype": "text/x-python",
   "name": "python",
   "nbconvert_exporter": "python",
   "pygments_lexer": "ipython3",
   "version": "3.12.4"
  }
 },
 "nbformat": 4,
 "nbformat_minor": 2
}
