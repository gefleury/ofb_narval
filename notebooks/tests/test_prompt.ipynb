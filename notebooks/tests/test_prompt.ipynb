{
 "cells": [
  {
   "cell_type": "markdown",
   "metadata": {},
   "source": [
    "# A short notebook to show the various prompts"
   ]
  },
  {
   "cell_type": "code",
   "execution_count": 3,
   "metadata": {},
   "outputs": [
    {
     "name": "stdout",
     "output_type": "stream",
     "text": [
      "The autoreload extension is already loaded. To reload it, use:\n",
      "  %reload_ext autoreload\n"
     ]
    }
   ],
   "source": [
    "import numpy as np\n",
    "import sys\n",
    "\n",
    "sys.path.append(\"../../\")    # Add the path to the root directory (where we can find the folder .git)\n",
    "\n",
    "%load_ext autoreload\n",
    "%autoreload 2 \n",
    "\n",
    "from narval.utils import get_data_dir, FileSystem\n",
    "from narval.pagefinder import PageFinder\n",
    "from narval.prompts import get_prompt, NO_ANSWER_TAG"
   ]
  },
  {
   "cell_type": "markdown",
   "metadata": {},
   "source": [
    "### Utility functions"
   ]
  },
  {
   "cell_type": "code",
   "execution_count": 4,
   "metadata": {},
   "outputs": [],
   "source": [
    "FS = FileSystem()\n",
    "DATA_DIR = get_data_dir()\n",
    "\n",
    "# Adapted from format_prompt in pipeline.py and qamodel.py\n",
    "def format_prompt(\n",
    "        question, context, competence, year, collectivity, indicator, prompt_version, indicator_file\n",
    "    ):\n",
    "        \"\"\"\n",
    "        Returns the prompt corresponding to the input question, context,\n",
    "        competence, year, collectivity and indicator for a given prompt_version\n",
    "        \"\"\"\n",
    "        indicator_df = FS.read_csv_to_df(\n",
    "            DATA_DIR + \"/data/input/\" + indicator_file,\n",
    "            usecols=[\"code_ip\", \"unit_tag\", \"prompt_instruction\"],\n",
    "        )\n",
    "        df = indicator_df.query(\"code_ip==@indicator\")\n",
    "        # Get the indictor unit (used in the prompt)\n",
    "        unit_tag = df[\"unit_tag\"].values[0]\n",
    "        # Get specific prompt instructions for the indicator\n",
    "        specific_instruction = (\n",
    "            df[\"prompt_instruction\"]\n",
    "            .replace(np.nan, \"\")\n",
    "            .values[0]\n",
    "            .format(\n",
    "                no_answer_tag=NO_ANSWER_TAG,\n",
    "                unit_tag=unit_tag,\n",
    "                year = str(year),\n",
    "                year_plus_1=str(int(year) + 1),\n",
    "            )\n",
    "        )\n",
    "        # Format the prompt\n",
    "        prompt_params = {\n",
    "            \"context\": context,\n",
    "            \"question\": question,\n",
    "            \"unit_tag\": unit_tag,\n",
    "            \"specific_instruction\": specific_instruction,\n",
    "            \"year\": year,\n",
    "            \"competence\": competence,\n",
    "            \"collectivity\": collectivity,\n",
    "        }\n",
    "\n",
    "        if \"T5\" in prompt_version:  # T5 prompts\n",
    "            content = get_prompt(prompt_params, version=prompt_version)\n",
    "            prompt = content, \"\"\n",
    "        elif len(prompt_version)==2:  # Llama prompts\n",
    "            system_content = get_prompt(prompt_params, version=prompt_version[0])\n",
    "            user_content = get_prompt(prompt_params, version=prompt_version[1])\n",
    "            prompt = system_content, user_content\n",
    "        else:\n",
    "             raise ValueError(f\"The prompt version {prompt_version} is unknown\")\n",
    "\n",
    "        return prompt\n"
   ]
  },
  {
   "cell_type": "markdown",
   "metadata": {},
   "source": [
    "### Choose prompt version "
   ]
  },
  {
   "cell_type": "code",
   "execution_count": 5,
   "metadata": {},
   "outputs": [],
   "source": [
    "question_file = \"question_keyword_v7.csv\"\n",
    "indicator_file = \"indicateurs_v6.csv\"\n",
    "prompt_version = (\"Llama_prompt_system_v7\", \"Llama_prompt_user_v7\")\n",
    "#prompt_version = \"T5_prompt_v1\""
   ]
  },
  {
   "cell_type": "markdown",
   "metadata": {},
   "source": [
    "### Choose an indicator"
   ]
  },
  {
   "cell_type": "code",
   "execution_count": 6,
   "metadata": {},
   "outputs": [],
   "source": [
    "competence = \"assainissement collectif\"\n",
    "\n",
    "pagefinder = PageFinder(DATA_DIR + \"/data/input/\"+ question_file, competence)\n",
    "question_df = pagefinder.keyword_df"
   ]
  },
  {
   "cell_type": "code",
   "execution_count": 7,
   "metadata": {},
   "outputs": [
    {
     "data": {
      "text/plain": [
       "array(['P205.3', 'P203.3', 'P204.3', 'P253.2', 'P202.2B', 'P255.3',\n",
       "       'P258.1', 'D202.0', 'P206.3', 'D203.0', 'P201.1', 'P254.3',\n",
       "       'P207.0', 'P256.2', 'D204.0', 'P257.0', 'P252.2', 'P251.1',\n",
       "       'D201.0'], dtype=object)"
      ]
     },
     "execution_count": 7,
     "metadata": {},
     "output_type": "execute_result"
    }
   ],
   "source": [
    "question_df['indic'].unique()"
   ]
  },
  {
   "cell_type": "markdown",
   "metadata": {},
   "source": [
    "### Choose a question"
   ]
  },
  {
   "cell_type": "code",
   "execution_count": 11,
   "metadata": {},
   "outputs": [
    {
     "data": {
      "text/html": [
       "<div>\n",
       "<style scoped>\n",
       "    .dataframe tbody tr th:only-of-type {\n",
       "        vertical-align: middle;\n",
       "    }\n",
       "\n",
       "    .dataframe tbody tr th {\n",
       "        vertical-align: top;\n",
       "    }\n",
       "\n",
       "    .dataframe thead th {\n",
       "        text-align: right;\n",
       "    }\n",
       "</style>\n",
       "<table border=\"1\" class=\"dataframe\">\n",
       "  <thead>\n",
       "    <tr style=\"text-align: right;\">\n",
       "      <th></th>\n",
       "      <th>question</th>\n",
       "      <th>mot</th>\n",
       "      <th>indic</th>\n",
       "      <th>competence</th>\n",
       "    </tr>\n",
       "  </thead>\n",
       "  <tbody>\n",
       "    <tr>\n",
       "      <th>16</th>\n",
       "      <td>Quelle est la valeur de l'indicateur D203.0</td>\n",
       "      <td>D203.0</td>\n",
       "      <td>D203.0</td>\n",
       "      <td>assainissement collectif</td>\n",
       "    </tr>\n",
       "    <tr>\n",
       "      <th>17</th>\n",
       "      <td>Quelle est la quantité de boues évacuées (D203...</td>\n",
       "      <td>boue</td>\n",
       "      <td>D203.0</td>\n",
       "      <td>assainissement collectif</td>\n",
       "    </tr>\n",
       "  </tbody>\n",
       "</table>\n",
       "</div>"
      ],
      "text/plain": [
       "                                             question     mot   indic  \\\n",
       "16        Quelle est la valeur de l'indicateur D203.0  D203.0  D203.0   \n",
       "17  Quelle est la quantité de boues évacuées (D203...    boue  D203.0   \n",
       "\n",
       "                  competence  \n",
       "16  assainissement collectif  \n",
       "17  assainissement collectif  "
      ]
     },
     "execution_count": 11,
     "metadata": {},
     "output_type": "execute_result"
    }
   ],
   "source": [
    "indicator = 'D203.0'\n",
    "\n",
    "sub_df = question_df[question_df[\"indic\"]==indicator]\n",
    "sub_df"
   ]
  },
  {
   "cell_type": "code",
   "execution_count": 12,
   "metadata": {},
   "outputs": [
    {
     "data": {
      "text/plain": [
       "'Quelle est la quantité de boues évacuées (D203.0), et non pas la quantité de boues produites,'"
      ]
     },
     "execution_count": 12,
     "metadata": {},
     "output_type": "execute_result"
    }
   ],
   "source": [
    "question = sub_df.loc[17, \"question\"]\n",
    "question"
   ]
  },
  {
   "cell_type": "markdown",
   "metadata": {},
   "source": [
    "### Show prompt"
   ]
  },
  {
   "cell_type": "code",
   "execution_count": 13,
   "metadata": {},
   "outputs": [
    {
     "name": "stdout",
     "output_type": "stream",
     "text": [
      "\n",
      "Tu es un assistant administratif qui répond à des questions sur les services d'assainissement collectif en France.\n",
      "Tu dois extraire la valeur d'un indicateur à partir d'extraits d'un rapport sur l'assainissement collectif en 2021 dans la collectivité \"MaVille\".\n",
      "-------\n",
      "Instructions : \n",
      "- La valeur de l'indicateur à trouver est un nombre exprimé en tonnes de matières sèches (tMS). \n",
      "- Si tu ne trouves pas la réponse pour l'année 2021 dans l'extrait, réponds \"je ne trouve pas\".\n",
      "- Si tu n'as pas assez d'information dans l'extrait pour répondre, réponds \"je ne trouve pas\".\n",
      "- Sois le plus concis possible. Ta réponse doit être uniquement un nombre (dans les bonnes unités) ou \"je ne trouve pas\".\n",
      "-------\n",
      "Extraits : blablabla blablabla blablabla\n",
      "\n",
      "\n",
      "Question : Quelle est la quantité de boues évacuées (D203.0), et non pas la quantité de boues produites, en 2021 ?\n",
      "\n"
     ]
    }
   ],
   "source": [
    "context = \"blablabla blablabla blablabla\"\n",
    "year = \"2021\"\n",
    "collectivity = \"MaVille\"\n",
    "\n",
    "prompt = format_prompt(\n",
    "        question, context, competence, year, collectivity, indicator, prompt_version, indicator_file\n",
    "    )\n",
    "\n",
    "for i in range(len(prompt)):\n",
    "    print(prompt[i])"
   ]
  },
  {
   "cell_type": "code",
   "execution_count": null,
   "metadata": {},
   "outputs": [],
   "source": []
  }
 ],
 "metadata": {
  "kernelspec": {
   "display_name": ".venv",
   "language": "python",
   "name": "python3"
  },
  "language_info": {
   "codemirror_mode": {
    "name": "ipython",
    "version": 3
   },
   "file_extension": ".py",
   "mimetype": "text/x-python",
   "name": "python",
   "nbconvert_exporter": "python",
   "pygments_lexer": "ipython3",
   "version": "3.12.4"
  }
 },
 "nbformat": 4,
 "nbformat_minor": 2
}
