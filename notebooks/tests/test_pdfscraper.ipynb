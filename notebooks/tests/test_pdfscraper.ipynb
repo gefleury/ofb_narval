{
 "cells": [
  {
   "cell_type": "markdown",
   "metadata": {},
   "source": [
    "# Notebook to test the module `pdfscraper.py`"
   ]
  },
  {
   "cell_type": "code",
   "execution_count": 1,
   "metadata": {},
   "outputs": [
    {
     "name": "stderr",
     "output_type": "stream",
     "text": [
      "/home/gefleury/GitHub/narval/.venv/lib/python3.12/site-packages/numpy/_core/getlimits.py:548: UserWarning: Signature b'\\x00\\xd0\\xcc\\xcc\\xcc\\xcc\\xcc\\xcc\\xfb\\xbf\\x00\\x00\\x00\\x00\\x00\\x00' for <class 'numpy.longdouble'> does not match any known type: falling back to type probe function.\n",
      "This warnings indicates broken support for the dtype!\n",
      "  machar = _get_machar(dtype)\n"
     ]
    }
   ],
   "source": [
    "from pathlib import Path\n",
    "import sys\n",
    "sys.path.append(\"../../\")    # Add the path to the root directory (where we can find the folder narval/)\n",
    "\n",
    "%load_ext autoreload\n",
    "%autoreload 2 \n",
    "\n",
    "from narval.pdfscraper import PDFScraperFromSispea, PDFLinkExtractor, CollectivitySource, PDFScraperFromGoogle, is_pdf_url\n",
    "from narval.utils import get_data_dir, FileSystem"
   ]
  },
  {
   "cell_type": "markdown",
   "metadata": {},
   "source": [
    "## Test CollectivitySource"
   ]
  },
  {
   "cell_type": "code",
   "execution_count": 29,
   "metadata": {},
   "outputs": [
    {
     "data": {
      "text/html": [
       "<div>\n",
       "<style scoped>\n",
       "    .dataframe tbody tr th:only-of-type {\n",
       "        vertical-align: middle;\n",
       "    }\n",
       "\n",
       "    .dataframe tbody tr th {\n",
       "        vertical-align: top;\n",
       "    }\n",
       "\n",
       "    .dataframe thead th {\n",
       "        text-align: right;\n",
       "    }\n",
       "</style>\n",
       "<table border=\"1\" class=\"dataframe\">\n",
       "  <thead>\n",
       "    <tr style=\"text-align: right;\">\n",
       "      <th></th>\n",
       "      <th>year</th>\n",
       "      <th>id_collectivity</th>\n",
       "      <th>collectivity_name</th>\n",
       "      <th>linked_municipality_name</th>\n",
       "      <th>zip_code</th>\n",
       "      <th>id_linked_municipality</th>\n",
       "      <th>name_competence</th>\n",
       "      <th>id_service</th>\n",
       "      <th>id_rpqs</th>\n",
       "      <th>rpqs_type</th>\n",
       "      <th>file_name</th>\n",
       "      <th>status_lot</th>\n",
       "    </tr>\n",
       "  </thead>\n",
       "  <tbody>\n",
       "    <tr>\n",
       "      <th>39500</th>\n",
       "      <td>2015</td>\n",
       "      <td>140682</td>\n",
       "      <td>Nieuil</td>\n",
       "      <td>Nieuil</td>\n",
       "      <td>16270</td>\n",
       "      <td>6012</td>\n",
       "      <td>assainissement collectif</td>\n",
       "      <td>140832</td>\n",
       "      <td>21388</td>\n",
       "      <td>File</td>\n",
       "      <td>RPQS_2015_AC_Cne de NIEUIL.pdf</td>\n",
       "      <td>WaitingForInput</td>\n",
       "    </tr>\n",
       "    <tr>\n",
       "      <th>62634</th>\n",
       "      <td>2015</td>\n",
       "      <td>137282</td>\n",
       "      <td>Saint-Martin-de-Fressengeas</td>\n",
       "      <td>Saint-Martin-de-Fressengeas</td>\n",
       "      <td>24800</td>\n",
       "      <td>9356</td>\n",
       "      <td>assainissement collectif</td>\n",
       "      <td>137778</td>\n",
       "      <td>21725</td>\n",
       "      <td>File</td>\n",
       "      <td>RPQS 2015.pdf</td>\n",
       "      <td>WaitingForInput</td>\n",
       "    </tr>\n",
       "    <tr>\n",
       "      <th>90911</th>\n",
       "      <td>2015</td>\n",
       "      <td>81661</td>\n",
       "      <td>Saint-Chinian</td>\n",
       "      <td>Saint-Chinian</td>\n",
       "      <td>34360</td>\n",
       "      <td>13999</td>\n",
       "      <td>assainissement collectif</td>\n",
       "      <td>82030</td>\n",
       "      <td>19906</td>\n",
       "      <td>File</td>\n",
       "      <td>RPQS 2015 St Chinian.pdf</td>\n",
       "      <td>WaitingForInput</td>\n",
       "    </tr>\n",
       "    <tr>\n",
       "      <th>91986</th>\n",
       "      <td>2015</td>\n",
       "      <td>77268</td>\n",
       "      <td>Bourg-des-Comptes</td>\n",
       "      <td>Bourg-des-Comptes</td>\n",
       "      <td>35890</td>\n",
       "      <td>14129</td>\n",
       "      <td>assainissement collectif</td>\n",
       "      <td>77491</td>\n",
       "      <td>20723</td>\n",
       "      <td>File</td>\n",
       "      <td>2015-BourgDesComptes-RPQS.pdf</td>\n",
       "      <td>WaitingForInput</td>\n",
       "    </tr>\n",
       "    <tr>\n",
       "      <th>109593</th>\n",
       "      <td>2015</td>\n",
       "      <td>79940</td>\n",
       "      <td>Maizilly</td>\n",
       "      <td>Maizilly</td>\n",
       "      <td>42750</td>\n",
       "      <td>16801</td>\n",
       "      <td>assainissement collectif</td>\n",
       "      <td>80334</td>\n",
       "      <td>21939</td>\n",
       "      <td>File</td>\n",
       "      <td>RPQS_Maizilly_assainissement_collectif_2015.pdf</td>\n",
       "      <td>WaitingForInput</td>\n",
       "    </tr>\n",
       "    <tr>\n",
       "      <th>109846</th>\n",
       "      <td>2015</td>\n",
       "      <td>79962</td>\n",
       "      <td>Neulise</td>\n",
       "      <td>Neulise</td>\n",
       "      <td>42590</td>\n",
       "      <td>16825</td>\n",
       "      <td>assainissement collectif</td>\n",
       "      <td>80366</td>\n",
       "      <td>458093</td>\n",
       "      <td>File</td>\n",
       "      <td>52_16_Annexe.pdf</td>\n",
       "      <td>WaitingForInput</td>\n",
       "    </tr>\n",
       "    <tr>\n",
       "      <th>119748</th>\n",
       "      <td>2015</td>\n",
       "      <td>67663</td>\n",
       "      <td>La Selle-sur-le-Bied (avant 2019)</td>\n",
       "      <td>La Selle-sur-le-Bied (avant 2019)</td>\n",
       "      <td>45210</td>\n",
       "      <td>17777</td>\n",
       "      <td>assainissement collectif</td>\n",
       "      <td>68072</td>\n",
       "      <td>17441</td>\n",
       "      <td>File</td>\n",
       "      <td>La Selle-sur-le-Bied_RPQS_Assainissement_colle...</td>\n",
       "      <td>WaitingForInput</td>\n",
       "    </tr>\n",
       "    <tr>\n",
       "      <th>121789</th>\n",
       "      <td>2015</td>\n",
       "      <td>169648</td>\n",
       "      <td>Rignac</td>\n",
       "      <td>Rignac</td>\n",
       "      <td>46500</td>\n",
       "      <td>18054</td>\n",
       "      <td>assainissement collectif</td>\n",
       "      <td>169837</td>\n",
       "      <td>21305</td>\n",
       "      <td>File</td>\n",
       "      <td>RPQS_RIGNAC_-_assainissement_collectif_2016110...</td>\n",
       "      <td>WaitingForInput</td>\n",
       "    </tr>\n",
       "    <tr>\n",
       "      <th>134618</th>\n",
       "      <td>2015</td>\n",
       "      <td>91756</td>\n",
       "      <td>La Gravelle</td>\n",
       "      <td>La Gravelle</td>\n",
       "      <td>53410</td>\n",
       "      <td>20780</td>\n",
       "      <td>assainissement collectif</td>\n",
       "      <td>92009</td>\n",
       "      <td>31981</td>\n",
       "      <td>File</td>\n",
       "      <td>Rapport 2015 Service assainissement -.doc</td>\n",
       "      <td>WaitingForInput</td>\n",
       "    </tr>\n",
       "    <tr>\n",
       "      <th>136209</th>\n",
       "      <td>2015</td>\n",
       "      <td>163524</td>\n",
       "      <td>Bernécourt</td>\n",
       "      <td>Bernécourt</td>\n",
       "      <td>54470</td>\n",
       "      <td>21002</td>\n",
       "      <td>assainissement collectif</td>\n",
       "      <td>164252</td>\n",
       "      <td>26941</td>\n",
       "      <td>File</td>\n",
       "      <td>rpqs2016.pdf</td>\n",
       "      <td>WaitingForInput</td>\n",
       "    </tr>\n",
       "    <tr>\n",
       "      <th>151773</th>\n",
       "      <td>2015</td>\n",
       "      <td>210434</td>\n",
       "      <td>Énencourt-le-Sec</td>\n",
       "      <td>Énencourt-le-Sec</td>\n",
       "      <td>60240</td>\n",
       "      <td>24196</td>\n",
       "      <td>assainissement collectif</td>\n",
       "      <td>210435</td>\n",
       "      <td>177623</td>\n",
       "      <td>File</td>\n",
       "      <td>RPQS 2015 Enencourt le sec.pdf</td>\n",
       "      <td>WaitingForInput</td>\n",
       "    </tr>\n",
       "    <tr>\n",
       "      <th>163471</th>\n",
       "      <td>2015</td>\n",
       "      <td>52178</td>\n",
       "      <td>Lembeye</td>\n",
       "      <td>Lembeye</td>\n",
       "      <td>64350</td>\n",
       "      <td>26874</td>\n",
       "      <td>assainissement collectif</td>\n",
       "      <td>52417</td>\n",
       "      <td>154541</td>\n",
       "      <td>File</td>\n",
       "      <td>Rapport 2015_2.pdf</td>\n",
       "      <td>WaitingForInput</td>\n",
       "    </tr>\n",
       "    <tr>\n",
       "      <th>173585</th>\n",
       "      <td>2015</td>\n",
       "      <td>175729</td>\n",
       "      <td>Chaponost</td>\n",
       "      <td>Chaponost</td>\n",
       "      <td>69630</td>\n",
       "      <td>28744</td>\n",
       "      <td>assainissement collectif</td>\n",
       "      <td>175897</td>\n",
       "      <td>19133</td>\n",
       "      <td>File</td>\n",
       "      <td>RPQS_CHAPONOST_-_assainissement_collectif_2015...</td>\n",
       "      <td>WaitingForInput</td>\n",
       "    </tr>\n",
       "    <tr>\n",
       "      <th>181924</th>\n",
       "      <td>2015</td>\n",
       "      <td>75379</td>\n",
       "      <td>LA CHAPELLE DE BRAGNY</td>\n",
       "      <td>La Chapelle-de-Bragny</td>\n",
       "      <td>71240</td>\n",
       "      <td>29626</td>\n",
       "      <td>assainissement collectif</td>\n",
       "      <td>75864</td>\n",
       "      <td>23004</td>\n",
       "      <td>File</td>\n",
       "      <td>RPQS 2015 bis.pdf</td>\n",
       "      <td>WaitingForInput</td>\n",
       "    </tr>\n",
       "    <tr>\n",
       "      <th>182063</th>\n",
       "      <td>2015</td>\n",
       "      <td>75392</td>\n",
       "      <td>Charnay-lès-Mâcon</td>\n",
       "      <td>Charnay-lès-Mâcon</td>\n",
       "      <td>71850</td>\n",
       "      <td>29642</td>\n",
       "      <td>assainissement collectif</td>\n",
       "      <td>75876</td>\n",
       "      <td>22864</td>\n",
       "      <td>File</td>\n",
       "      <td>CHARNAY LES MACON.pdf</td>\n",
       "      <td>WaitingForInput</td>\n",
       "    </tr>\n",
       "    <tr>\n",
       "      <th>182064</th>\n",
       "      <td>2015</td>\n",
       "      <td>75392</td>\n",
       "      <td>Charnay-lès-Mâcon</td>\n",
       "      <td>Charnay-lès-Mâcon</td>\n",
       "      <td>71850</td>\n",
       "      <td>29642</td>\n",
       "      <td>assainissement collectif</td>\n",
       "      <td>75876</td>\n",
       "      <td>22863</td>\n",
       "      <td>File</td>\n",
       "      <td>CHARNAY LES MACON.pdf</td>\n",
       "      <td>WaitingForInput</td>\n",
       "    </tr>\n",
       "    <tr>\n",
       "      <th>190720</th>\n",
       "      <td>2015</td>\n",
       "      <td>160632</td>\n",
       "      <td>Saint-Georges-d'Hurtières</td>\n",
       "      <td>Saint-Georges-d'Hurtières</td>\n",
       "      <td>73220</td>\n",
       "      <td>30706</td>\n",
       "      <td>assainissement collectif</td>\n",
       "      <td>161038</td>\n",
       "      <td>319301</td>\n",
       "      <td>File</td>\n",
       "      <td>rapport annuel ass 2015.doc</td>\n",
       "      <td>WaitingForInput</td>\n",
       "    </tr>\n",
       "    <tr>\n",
       "      <th>213867</th>\n",
       "      <td>2015</td>\n",
       "      <td>54123</td>\n",
       "      <td>Saint-Sulpice-Laurière</td>\n",
       "      <td>Saint-Sulpice-Laurière</td>\n",
       "      <td>87370</td>\n",
       "      <td>35281</td>\n",
       "      <td>assainissement collectif</td>\n",
       "      <td>54377</td>\n",
       "      <td>111801</td>\n",
       "      <td>File</td>\n",
       "      <td>2015_Rapport SAUR.pdf</td>\n",
       "      <td>WaitingForInput</td>\n",
       "    </tr>\n",
       "  </tbody>\n",
       "</table>\n",
       "</div>"
      ],
      "text/plain": [
       "        year id_collectivity                  collectivity_name  \\\n",
       "39500   2015          140682                             Nieuil   \n",
       "62634   2015          137282        Saint-Martin-de-Fressengeas   \n",
       "90911   2015           81661                      Saint-Chinian   \n",
       "91986   2015           77268                  Bourg-des-Comptes   \n",
       "109593  2015           79940                           Maizilly   \n",
       "109846  2015           79962                            Neulise   \n",
       "119748  2015           67663  La Selle-sur-le-Bied (avant 2019)   \n",
       "121789  2015          169648                             Rignac   \n",
       "134618  2015           91756                        La Gravelle   \n",
       "136209  2015          163524                         Bernécourt   \n",
       "151773  2015          210434                   Énencourt-le-Sec   \n",
       "163471  2015           52178                            Lembeye   \n",
       "173585  2015          175729                          Chaponost   \n",
       "181924  2015           75379              LA CHAPELLE DE BRAGNY   \n",
       "182063  2015           75392                  Charnay-lès-Mâcon   \n",
       "182064  2015           75392                  Charnay-lès-Mâcon   \n",
       "190720  2015          160632          Saint-Georges-d'Hurtières   \n",
       "213867  2015           54123             Saint-Sulpice-Laurière   \n",
       "\n",
       "                 linked_municipality_name zip_code id_linked_municipality  \\\n",
       "39500                              Nieuil    16270                   6012   \n",
       "62634         Saint-Martin-de-Fressengeas    24800                   9356   \n",
       "90911                       Saint-Chinian    34360                  13999   \n",
       "91986                   Bourg-des-Comptes    35890                  14129   \n",
       "109593                           Maizilly    42750                  16801   \n",
       "109846                            Neulise    42590                  16825   \n",
       "119748  La Selle-sur-le-Bied (avant 2019)    45210                  17777   \n",
       "121789                             Rignac    46500                  18054   \n",
       "134618                        La Gravelle    53410                  20780   \n",
       "136209                         Bernécourt    54470                  21002   \n",
       "151773                   Énencourt-le-Sec    60240                  24196   \n",
       "163471                            Lembeye    64350                  26874   \n",
       "173585                          Chaponost    69630                  28744   \n",
       "181924              La Chapelle-de-Bragny    71240                  29626   \n",
       "182063                  Charnay-lès-Mâcon    71850                  29642   \n",
       "182064                  Charnay-lès-Mâcon    71850                  29642   \n",
       "190720          Saint-Georges-d'Hurtières    73220                  30706   \n",
       "213867             Saint-Sulpice-Laurière    87370                  35281   \n",
       "\n",
       "                 name_competence id_service id_rpqs rpqs_type  \\\n",
       "39500   assainissement collectif     140832   21388      File   \n",
       "62634   assainissement collectif     137778   21725      File   \n",
       "90911   assainissement collectif      82030   19906      File   \n",
       "91986   assainissement collectif      77491   20723      File   \n",
       "109593  assainissement collectif      80334   21939      File   \n",
       "109846  assainissement collectif      80366  458093      File   \n",
       "119748  assainissement collectif      68072   17441      File   \n",
       "121789  assainissement collectif     169837   21305      File   \n",
       "134618  assainissement collectif      92009   31981      File   \n",
       "136209  assainissement collectif     164252   26941      File   \n",
       "151773  assainissement collectif     210435  177623      File   \n",
       "163471  assainissement collectif      52417  154541      File   \n",
       "173585  assainissement collectif     175897   19133      File   \n",
       "181924  assainissement collectif      75864   23004      File   \n",
       "182063  assainissement collectif      75876   22864      File   \n",
       "182064  assainissement collectif      75876   22863      File   \n",
       "190720  assainissement collectif     161038  319301      File   \n",
       "213867  assainissement collectif      54377  111801      File   \n",
       "\n",
       "                                                file_name       status_lot  \n",
       "39500                      RPQS_2015_AC_Cne de NIEUIL.pdf  WaitingForInput  \n",
       "62634                                       RPQS 2015.pdf  WaitingForInput  \n",
       "90911                            RPQS 2015 St Chinian.pdf  WaitingForInput  \n",
       "91986                       2015-BourgDesComptes-RPQS.pdf  WaitingForInput  \n",
       "109593    RPQS_Maizilly_assainissement_collectif_2015.pdf  WaitingForInput  \n",
       "109846                                   52_16_Annexe.pdf  WaitingForInput  \n",
       "119748  La Selle-sur-le-Bied_RPQS_Assainissement_colle...  WaitingForInput  \n",
       "121789  RPQS_RIGNAC_-_assainissement_collectif_2016110...  WaitingForInput  \n",
       "134618          Rapport 2015 Service assainissement -.doc  WaitingForInput  \n",
       "136209                                       rpqs2016.pdf  WaitingForInput  \n",
       "151773                     RPQS 2015 Enencourt le sec.pdf  WaitingForInput  \n",
       "163471                                 Rapport 2015_2.pdf  WaitingForInput  \n",
       "173585  RPQS_CHAPONOST_-_assainissement_collectif_2015...  WaitingForInput  \n",
       "181924                                  RPQS 2015 bis.pdf  WaitingForInput  \n",
       "182063                              CHARNAY LES MACON.pdf  WaitingForInput  \n",
       "182064                              CHARNAY LES MACON.pdf  WaitingForInput  \n",
       "190720                        rapport annuel ass 2015.doc  WaitingForInput  \n",
       "213867                              2015_Rapport SAUR.pdf  WaitingForInput  "
      ]
     },
     "execution_count": 29,
     "metadata": {},
     "output_type": "execute_result"
    }
   ],
   "source": [
    "collectivity_filename = \"collectivity_list_for_scraping_20012025.csv\"\n",
    "\n",
    "year = \"2015\"\n",
    "competence = \"assainissement collectif\"\n",
    "status_lot = \"WaitingForInput\"\n",
    "\n",
    "collectivity_source = CollectivitySource(collectivity_filename)\n",
    "df = collectivity_source.filter_collectivity_df_for_sispeascraper(year=year, competence=competence, status_lot=status_lot, rpqs_type=\"File\")\n",
    "\n",
    "df"
   ]
  },
  {
   "cell_type": "code",
   "execution_count": 30,
   "metadata": {},
   "outputs": [
    {
     "data": {
      "text/plain": [
       "year                        object\n",
       "id_collectivity             object\n",
       "collectivity_name           object\n",
       "linked_municipality_name    object\n",
       "zip_code                    object\n",
       "id_linked_municipality      object\n",
       "name_competence             object\n",
       "id_service                  object\n",
       "id_rpqs                     object\n",
       "rpqs_type                   object\n",
       "file_name                   object\n",
       "status_lot                  object\n",
       "dtype: object"
      ]
     },
     "execution_count": 30,
     "metadata": {},
     "output_type": "execute_result"
    }
   ],
   "source": [
    "df.dtypes"
   ]
  },
  {
   "cell_type": "code",
   "execution_count": 67,
   "metadata": {},
   "outputs": [
    {
     "data": {
      "text/html": [
       "<div>\n",
       "<style scoped>\n",
       "    .dataframe tbody tr th:only-of-type {\n",
       "        vertical-align: middle;\n",
       "    }\n",
       "\n",
       "    .dataframe tbody tr th {\n",
       "        vertical-align: top;\n",
       "    }\n",
       "\n",
       "    .dataframe thead th {\n",
       "        text-align: right;\n",
       "    }\n",
       "</style>\n",
       "<table border=\"1\" class=\"dataframe\">\n",
       "  <thead>\n",
       "    <tr style=\"text-align: right;\">\n",
       "      <th></th>\n",
       "      <th>year</th>\n",
       "      <th>id_collectivity</th>\n",
       "      <th>collectivity_name</th>\n",
       "      <th>linked_municipality_name</th>\n",
       "      <th>zip_code</th>\n",
       "      <th>id_linked_municipality</th>\n",
       "      <th>name_competence</th>\n",
       "      <th>id_service</th>\n",
       "      <th>link</th>\n",
       "      <th>status_lot</th>\n",
       "    </tr>\n",
       "  </thead>\n",
       "  <tbody>\n",
       "    <tr>\n",
       "      <th>7</th>\n",
       "      <td>2015</td>\n",
       "      <td>181861</td>\n",
       "      <td>ABERGEMENT-CLEMENCIAT</td>\n",
       "      <td>L' Abergement-Clémenciat</td>\n",
       "      <td>01400</td>\n",
       "      <td>286</td>\n",
       "      <td>assainissement collectif</td>\n",
       "      <td>182247</td>\n",
       "      <td>NaN</td>\n",
       "      <td>WaitingForInput</td>\n",
       "    </tr>\n",
       "    <tr>\n",
       "      <th>42</th>\n",
       "      <td>2015</td>\n",
       "      <td>181865</td>\n",
       "      <td>Ambléon</td>\n",
       "      <td>Ambléon</td>\n",
       "      <td>01300</td>\n",
       "      <td>290</td>\n",
       "      <td>assainissement collectif</td>\n",
       "      <td>182253</td>\n",
       "      <td>NaN</td>\n",
       "      <td>WaitingForInput</td>\n",
       "    </tr>\n",
       "    <tr>\n",
       "      <th>62</th>\n",
       "      <td>2015</td>\n",
       "      <td>181868</td>\n",
       "      <td>Andert-et-Condon</td>\n",
       "      <td>Andert-et-Condon</td>\n",
       "      <td>01300</td>\n",
       "      <td>293</td>\n",
       "      <td>assainissement collectif</td>\n",
       "      <td>182256</td>\n",
       "      <td>NaN</td>\n",
       "      <td>WaitingForInput</td>\n",
       "    </tr>\n",
       "    <tr>\n",
       "      <th>111</th>\n",
       "      <td>2015</td>\n",
       "      <td>181871</td>\n",
       "      <td>Arbent</td>\n",
       "      <td>Arbent</td>\n",
       "      <td>01100</td>\n",
       "      <td>298</td>\n",
       "      <td>assainissement collectif</td>\n",
       "      <td>182793</td>\n",
       "      <td>NaN</td>\n",
       "      <td>WaitingForInput</td>\n",
       "    </tr>\n",
       "    <tr>\n",
       "      <th>119</th>\n",
       "      <td>2015</td>\n",
       "      <td>181872</td>\n",
       "      <td>ARBIGNIEU</td>\n",
       "      <td>ARBIGNIEU</td>\n",
       "      <td>01300</td>\n",
       "      <td>299</td>\n",
       "      <td>assainissement collectif</td>\n",
       "      <td>182262</td>\n",
       "      <td>NaN</td>\n",
       "      <td>WaitingForInput</td>\n",
       "    </tr>\n",
       "  </tbody>\n",
       "</table>\n",
       "</div>"
      ],
      "text/plain": [
       "     year id_collectivity      collectivity_name  linked_municipality_name  \\\n",
       "7    2015          181861  ABERGEMENT-CLEMENCIAT  L' Abergement-Clémenciat   \n",
       "42   2015          181865                Ambléon                   Ambléon   \n",
       "62   2015          181868       Andert-et-Condon          Andert-et-Condon   \n",
       "111  2015          181871                 Arbent                    Arbent   \n",
       "119  2015          181872              ARBIGNIEU                 ARBIGNIEU   \n",
       "\n",
       "    zip_code id_linked_municipality           name_competence id_service link  \\\n",
       "7      01400                    286  assainissement collectif     182247  NaN   \n",
       "42     01300                    290  assainissement collectif     182253  NaN   \n",
       "62     01300                    293  assainissement collectif     182256  NaN   \n",
       "111    01100                    298  assainissement collectif     182793  NaN   \n",
       "119    01300                    299  assainissement collectif     182262  NaN   \n",
       "\n",
       "          status_lot  \n",
       "7    WaitingForInput  \n",
       "42   WaitingForInput  \n",
       "62   WaitingForInput  \n",
       "111  WaitingForInput  \n",
       "119  WaitingForInput  "
      ]
     },
     "execution_count": 67,
     "metadata": {},
     "output_type": "execute_result"
    }
   ],
   "source": [
    "collectivity_filename = \"collectivity_list_for_scraping_20012025.csv\"\n",
    "\n",
    "year = \"2015\"\n",
    "competence = \"assainissement collectif\"\n",
    "status_lot = \"WaitingForInput\"\n",
    "\n",
    "collectivity_source = CollectivitySource(collectivity_filename)\n",
    "df = collectivity_source.filter_collectivity_df_for_googlescraper(year=year, competence=competence, status_lot=status_lot)\n",
    "\n",
    "df.head()"
   ]
  },
  {
   "cell_type": "code",
   "execution_count": 69,
   "metadata": {},
   "outputs": [
    {
     "data": {
      "text/plain": [
       "year                        object\n",
       "id_collectivity             object\n",
       "collectivity_name           object\n",
       "linked_municipality_name    object\n",
       "zip_code                    object\n",
       "id_linked_municipality      object\n",
       "name_competence             object\n",
       "id_service                  object\n",
       "link                        object\n",
       "status_lot                  object\n",
       "dtype: object"
      ]
     },
     "execution_count": 69,
     "metadata": {},
     "output_type": "execute_result"
    }
   ],
   "source": [
    "df.dtypes"
   ]
  },
  {
   "cell_type": "code",
   "execution_count": 71,
   "metadata": {},
   "outputs": [
    {
     "data": {
      "text/plain": [
       "array([nan], dtype=object)"
      ]
     },
     "execution_count": 71,
     "metadata": {},
     "output_type": "execute_result"
    }
   ],
   "source": [
    "df['link'].unique()"
   ]
  },
  {
   "cell_type": "markdown",
   "metadata": {},
   "source": [
    "## Test PDFLinkExtractor"
   ]
  },
  {
   "cell_type": "code",
   "execution_count": 77,
   "metadata": {},
   "outputs": [
    {
     "name": "stdout",
     "output_type": "stream",
     "text": [
      "https://www.mairie-le-teil.fr/uploads/documents/mag-info-n-47-mois-de-fevrier-2024-FR-2123.pdf\n",
      "https://www.mairie-le-teil.fr/uploads/documents/bulletin-municipal-mai-2021-FR-1110.pdf\n",
      "https://www.mairie-le-teil.fr/uploads/documents/journal-n-49-FR-2390.pdf\n",
      "https://www.mairie-le-teil.fr/uploads/documents/bulletin-municipal-n-37-juillet-2021-FR-1191.pdf\n",
      "https://www.mairie-le-teil.fr/uploads/documents/mag-info-n-44-FR-1866.pdf\n",
      "https://www.mairie-le-teil.fr/uploads/documents/bulletin-municipal-n-39-janvier-2022-FR-1329.pdf\n",
      "https://www.mairie-le-teil.fr/uploads/documents/bulletin-municipal-n-38-novembre-2021-FR-1254.pdf\n",
      "https://www.mairie-le-teil.fr/uploads/documents/bulletin-municipal-n-41-juillet-2022-FR-1474.pdf\n",
      "https://www.mairie-le-teil.fr/uploads/documents/bulletin-n-35-janvier-2021-FR-977.pdf\n",
      "https://www.mairie-le-teil.fr/uploads/documents/bilan-mi-mandat-2020-2023-2026-FR-2099.pdf\n",
      "https://www.mairie-le-teil.fr/uploads/documents/bulletin-municipal-n-40-avril-2022-FR-1411.pdf\n",
      "https://www.mairie-le-teil.fr/uploads/documents/bulletin-municipal-n-50-novembre-2024-FR-2493.pdf\n",
      "https://www.mairie-le-teil.fr/uploads/documents/bulletin-municipal-n-34-novembre-2020-FR-899.pdf\n",
      "https://www.mairie-le-teil.fr/uploads/documents/mag-info-n-46-novembre-2023-FR-2055.pdf\n",
      "https://www.mairie-le-teil.fr/uploads/documents/mag-info-n-45-mois-de-juillet-2023-FR-1964.pdf\n",
      "https://www.mairie-le-teil.fr/uploads/documents/bulletin-municipal-n-48-mai-2024-FR-2257.pdf\n",
      "https://www.mairie-le-teil.fr/uploads/documents/bulletin-municipal-n-42-octobre-2022-FR-1599.pdf\n",
      "https://www.mairie-le-teil.fr/uploads/documents/mag-info-n-43-janvier-2023-FR-1722.pdf\n"
     ]
    }
   ],
   "source": [
    "url = \"https://www.mairie-le-teil.fr/\"\n",
    "\n",
    "extractor = PDFLinkExtractor(url)\n",
    "pdf_url_list = extractor.fetch_pdf_urls()\n",
    "\n",
    "for url in pdf_url_list:\n",
    "    print(url)"
   ]
  },
  {
   "cell_type": "code",
   "execution_count": 78,
   "metadata": {},
   "outputs": [],
   "source": [
    "url = \"https://eaudumorbihan.fr/publications/\"\n",
    "\n",
    "extractor = PDFLinkExtractor(url)\n",
    "pdf_url_list = extractor.fetch_pdf_urls()\n",
    "\n",
    "for url in pdf_url_list:\n",
    "    print(url)"
   ]
  },
  {
   "cell_type": "code",
   "execution_count": 79,
   "metadata": {},
   "outputs": [
    {
     "name": "stdout",
     "output_type": "stream",
     "text": [
      "https://www.siryae.fr/wp-content/uploads/2025/01/SAUR-Reglement-de-service-2025.pdf\n"
     ]
    }
   ],
   "source": [
    "url = \"https://www.siryae.fr/\"\n",
    "\n",
    "extractor = PDFLinkExtractor(url)\n",
    "pdf_url_list = extractor.fetch_pdf_urls()\n",
    "\n",
    "for url in pdf_url_list:\n",
    "    print(url)"
   ]
  },
  {
   "cell_type": "code",
   "execution_count": 80,
   "metadata": {},
   "outputs": [],
   "source": [
    "url = \"https://www.services.eaufrance.fr/collectivite/304714/2022\"\n",
    "\n",
    "extractor = PDFLinkExtractor(url)\n",
    "pdf_url_list = extractor.fetch_pdf_urls()\n",
    "\n",
    "for url in pdf_url_list:\n",
    "    print(url)"
   ]
  },
  {
   "cell_type": "code",
   "execution_count": 30,
   "metadata": {},
   "outputs": [
    {
     "name": "stdout",
     "output_type": "stream",
     "text": [
      "https://www.buxy.fr/static/8fac58c3ddd79e13fe65bf94257aff2a/pv--23-09-13-rpqs-om.pdf\n"
     ]
    }
   ],
   "source": [
    "url = \"https://www.buxy.fr/static/8fac58c3ddd79e13fe65bf94257aff2a/pv--23-09-13-rpqs-om.pdf\"\n",
    "\n",
    "extractor = PDFLinkExtractor(url)\n",
    "pdf_url_list = extractor.fetch_pdf_urls()\n",
    "\n",
    "for url in pdf_url_list:\n",
    "    print(url)"
   ]
  },
  {
   "cell_type": "code",
   "execution_count": 33,
   "metadata": {},
   "outputs": [],
   "source": [
    "# Does not return anything when the link points to a PDF file (but does not contain \".pdf\")\n",
    "url = \"https://www.services.eaufrance.fr/sispea//referential/download-rpqs.action?collectivityId=206841&rpqsId=512773\"\n",
    "\n",
    "extractor = PDFLinkExtractor(url)\n",
    "pdf_url_list = extractor.fetch_pdf_urls()\n",
    "\n",
    "for url in pdf_url_list:\n",
    "    print(url)"
   ]
  },
  {
   "cell_type": "code",
   "execution_count": 82,
   "metadata": {},
   "outputs": [],
   "source": [
    "# Does not return anything while there is a PDF! But the link does not end with .pdf\n",
    "# The case of RPQS coming from eaufrance can be handled separately\n",
    "url = \"https://www.services.eaufrance.fr/collectivite/209894/2021\"\n",
    "\n",
    "extractor = PDFLinkExtractor(url)\n",
    "pdf_url_list = extractor.fetch_pdf_urls()\n",
    "\n",
    "for url in pdf_url_list:\n",
    "    print(url)"
   ]
  },
  {
   "cell_type": "markdown",
   "metadata": {},
   "source": [
    "## Scrap RPQS directly from SISPEA"
   ]
  },
  {
   "cell_type": "code",
   "execution_count": 83,
   "metadata": {},
   "outputs": [
    {
     "data": {
      "text/plain": [
       "PosixPath('/home/gefleury/GitHub/narval/data/scraping/RPQS_from_sispea_collid_209894_rpqsid_777794.pdf')"
      ]
     },
     "execution_count": 83,
     "metadata": {},
     "output_type": "execute_result"
    }
   ],
   "source": [
    "collectivity_id = \"209894\"\n",
    "rpqs_id = \"777794\"  \n",
    "rpqs_name = f\"RPQS_from_sispea_collid_{collectivity_id}_rpqsid_{rpqs_id}.pdf\"\n",
    "\n",
    "rpqs_url = build_sispea_rpqs_url(collectivity_id, rpqs_id)\n",
    "download_pdf(rpqs_url, rpqs_name, endswithpdf=False)"
   ]
  },
  {
   "cell_type": "code",
   "execution_count": 11,
   "metadata": {},
   "outputs": [
    {
     "data": {
      "text/plain": [
       "PosixPath('/home/gefleury/GitHub/narval/data/scraping/RPQS_from_sispea_collid_119493_rpqsid_841.csv')"
      ]
     },
     "execution_count": 11,
     "metadata": {},
     "output_type": "execute_result"
    }
   ],
   "source": [
    "collectivity_id = \"119493\"\n",
    "rpqs_id = \"841\"  \n",
    "rpqs_name = f\"RPQS_from_sispea_collid_{collectivity_id}_rpqsid_{rpqs_id}.csv\"\n",
    "\n",
    "rpqs_url = build_sispea_rpqs_url(collectivity_id, rpqs_id)\n",
    "download_pdf(rpqs_url, rpqs_name, endswithpdf=False)"
   ]
  },
  {
   "cell_type": "code",
   "execution_count": 13,
   "metadata": {},
   "outputs": [
    {
     "data": {
      "text/plain": [
       "PosixPath('/home/gefleury/GitHub/narval/data/scraping/RPQS_from_sispea_collid_50662_rpqsid_14.zip')"
      ]
     },
     "execution_count": 13,
     "metadata": {},
     "output_type": "execute_result"
    }
   ],
   "source": [
    "collectivity_id = \"50662\"\n",
    "rpqs_id = \"14\"  \n",
    "rpqs_name = f\"RPQS_from_sispea_collid_{collectivity_id}_rpqsid_{rpqs_id}.zip\"\n",
    "\n",
    "rpqs_url = build_sispea_rpqs_url(collectivity_id, rpqs_id)\n",
    "download_pdf(rpqs_url, rpqs_name, endswithpdf=False)"
   ]
  },
  {
   "cell_type": "code",
   "execution_count": null,
   "metadata": {},
   "outputs": [
    {
     "data": {
      "text/plain": [
       "PosixPath('/home/gefleury/GitHub/narval/data/scraping/RPQS_from_sispea_collid_124046_rpqsid_847573.zip')"
      ]
     },
     "execution_count": 36,
     "metadata": {},
     "output_type": "execute_result"
    }
   ],
   "source": [
    "# Test for a collectivy with rpqs_type=url\n",
    "# A zip file is downloaded but it cannot be open (it is said it is not a zip archive)\n",
    "# And https://www.services.eaufrance.fr/sispea//referential/download-rpqs.action?collectivityId=124046&rpqsId=847573 sends to an error\n",
    "collectivity_id = \"124046\"\n",
    "rpqs_id = \"847573\"  \n",
    "rpqs_name = f\"RPQS_from_sispea_collid_{collectivity_id}_rpqsid_{rpqs_id}.zip\"\n",
    "\n",
    "rpqs_url = build_sispea_rpqs_url(collectivity_id, rpqs_id)\n",
    "download_pdf(rpqs_url, rpqs_name, endswithpdf=False)"
   ]
  },
  {
   "cell_type": "markdown",
   "metadata": {},
   "source": [
    "## Test PDFScraper from SISPEA"
   ]
  },
  {
   "cell_type": "markdown",
   "metadata": {},
   "source": [
    "Scrap RPQS from SISPEA website for a given year, competence, status"
   ]
  },
  {
   "cell_type": "code",
   "execution_count": 31,
   "metadata": {},
   "outputs": [
    {
     "name": "stdout",
     "output_type": "stream",
     "text": [
      "Downloading RPQS ...\n"
     ]
    },
    {
     "name": "stderr",
     "output_type": "stream",
     "text": [
      "100%|██████████| 18/18 [00:00<00:00, 7098.96it/s]"
     ]
    },
    {
     "name": "stdout",
     "output_type": "stream",
     "text": [
      "The file RPQS_Nieuil_cp16270_rpqsid_21388_AC_2015.pdf already exists.\n",
      "The file RPQS_Saint-Martin-de-Fressengeas_cp24800_rpqsid_21725_AC_2015.pdf already exists.\n",
      "The file RPQS_Saint-Chinian_cp34360_rpqsid_19906_AC_2015.pdf already exists.\n",
      "The file RPQS_Bourg-des-Comptes_cp35890_rpqsid_20723_AC_2015.pdf already exists.\n",
      "The file RPQS_Maizilly_cp42750_rpqsid_21939_AC_2015.pdf already exists.\n",
      "The file RPQS_Neulise_cp42590_rpqsid_458093_AC_2015.pdf already exists.\n",
      "The file RPQS_LaSelle-sur-le-Bied(avant2019)_cp45210_rpqsid_17441_AC_2015.pdf already exists.\n",
      "The file RPQS_Rignac_cp46500_rpqsid_21305_AC_2015.zip already exists.\n",
      "The file RPQS_LaGravelle_cp53410_rpqsid_31981_AC_2015.doc already exists.\n",
      "The file RPQS_Bernecourt_cp54470_rpqsid_26941_AC_2015.pdf already exists.\n",
      "The file RPQS_Enencourt-le-Sec_cp60240_rpqsid_177623_AC_2015.pdf already exists.\n",
      "The file RPQS_Lembeye_cp64350_rpqsid_154541_AC_2015.pdf already exists.\n",
      "The file RPQS_Chaponost_cp69630_rpqsid_19133_AC_2015.pdf already exists.\n",
      "The file RPQS_LaChapelle-de-Bragny_cp71240_rpqsid_23004_AC_2015.pdf already exists.\n",
      "The file RPQS_Charnay-les-Macon_cp71850_rpqsid_22864_AC_2015.pdf already exists.\n",
      "The file RPQS_Charnay-les-Macon_cp71850_rpqsid_22863_AC_2015.pdf already exists.\n",
      "The file RPQS_Saint-Georges-d'Hurtieres_cp73220_rpqsid_319301_AC_2015.doc already exists.\n",
      "The file RPQS_Saint-Sulpice-Lauriere_cp87370_rpqsid_111801_AC_2015.pdf already exists.\n"
     ]
    },
    {
     "name": "stderr",
     "output_type": "stream",
     "text": [
      "\n"
     ]
    }
   ],
   "source": [
    "collectivity_filename = \"collectivity_list_for_scraping_20012025.csv\"\n",
    "report_filename = \"scraping_report_from_\"+collectivity_filename\n",
    "\n",
    "year = \"2015\"\n",
    "competence = \"assainissement collectif\"\n",
    "status_lot = \"WaitingForInput\"\n",
    "\n",
    "scrapper = PDFScraperFromSispea(collectivity_filename, report_filename)\n",
    "scrapper.download_all_rpqs_from_ids(year=year, competence=competence, status_lot=status_lot)"
   ]
  },
  {
   "cell_type": "code",
   "execution_count": 69,
   "metadata": {},
   "outputs": [
    {
     "data": {
      "text/plain": [
       "'scraping'"
      ]
     },
     "execution_count": 69,
     "metadata": {},
     "output_type": "execute_result"
    }
   ],
   "source": [
    "scrapper.path.name"
   ]
  },
  {
   "cell_type": "markdown",
   "metadata": {},
   "source": [
    "Scrap RPQS from SISPEA website for a given competence and status but all year"
   ]
  },
  {
   "cell_type": "code",
   "execution_count": 21,
   "metadata": {},
   "outputs": [
    {
     "name": "stdout",
     "output_type": "stream",
     "text": [
      "Downloading RPQS ...\n"
     ]
    },
    {
     "name": "stderr",
     "output_type": "stream",
     "text": [
      "100%|██████████| 197/197 [00:52<00:00,  3.74it/s]\n"
     ]
    }
   ],
   "source": [
    "collectivity_filename = \"collectivity_list_for_scraping_20012025.csv\"\n",
    "report_filename = \"scraping_report_from_\"+collectivity_filename\n",
    "\n",
    "competence = \"assainissement collectif\"\n",
    "status_lot = \"WaitingForInput\"\n",
    "\n",
    "scrapper = PDFScraperFromSispea(collectivity_filename, report_filename)\n",
    "scrapper.download_all_rpqs_from_ids(competence=competence, status_lot=status_lot)"
   ]
  },
  {
   "cell_type": "markdown",
   "metadata": {},
   "source": [
    "## Count the number of scrapped files"
   ]
  },
  {
   "cell_type": "code",
   "execution_count": 85,
   "metadata": {},
   "outputs": [
    {
     "name": "stdout",
     "output_type": "stream",
     "text": [
      "There are 198 files in the folder /home/gefleury/GitHub/narval/data/scraping/from_sispea/\n"
     ]
    }
   ],
   "source": [
    "data_dir = get_data_dir()\n",
    "path = Path(data_dir + \"/data/scraping/from_sispea\")\n",
    "\n",
    "number_files = sum(1 for x in path.rglob('*') if x.is_file())\n",
    "print(f\"There are {number_files} files in the folder {path.parent}/{path.name}/\")"
   ]
  },
  {
   "cell_type": "code",
   "execution_count": 86,
   "metadata": {},
   "outputs": [
    {
     "name": "stdout",
     "output_type": "stream",
     "text": [
      "There are 179 PDF files in the folder /home/gefleury/GitHub/narval/data/scraping/from_sispea/\n"
     ]
    }
   ],
   "source": [
    "data_dir = get_data_dir()\n",
    "path = Path(data_dir + \"/data/scraping/from_sispea\")\n",
    "\n",
    "number_files = sum(1 for x in path.rglob('*') if x.is_file() and x.suffix==\".pdf\")\n",
    "print(f\"There are {number_files} PDF files in the folder {path.parent}/{path.name}/\")"
   ]
  },
  {
   "cell_type": "markdown",
   "metadata": {},
   "source": [
    "## Test the function `is_pdf_url`"
   ]
  },
  {
   "cell_type": "code",
   "execution_count": 45,
   "metadata": {},
   "outputs": [],
   "source": [
    "url = 'https://www.services.eaufrance.fr/sispea//referential/download-rpqs.action?collectivityId=206841&rpqsId=512773'\n",
    "res = is_pdf_url(url)\n",
    "assert res==True\n",
    "\n",
    "url = 'https://www.services.eaufrance.fr/collectivite/209894/2021'\n",
    "res = is_pdf_url(url)\n",
    "assert res==False\n",
    "\n",
    "url = 'https://www.buxy.fr/static/8fac58c3ddd79e13fe65bf94257aff2a/pv--23-09-13-rpqs-om.pdf'\n",
    "res = is_pdf_url(url)\n",
    "assert res==True\n",
    "\n",
    "url = 'dgsdfgsdf'\n",
    "res = is_pdf_url(url)\n",
    "assert res==False"
   ]
  },
  {
   "cell_type": "markdown",
   "metadata": {},
   "source": [
    "## Test `PDFScrapperFromGoole`"
   ]
  },
  {
   "cell_type": "markdown",
   "metadata": {},
   "source": [
    "Scrap source urls from Google using keywords"
   ]
  },
  {
   "cell_type": "code",
   "execution_count": 4,
   "metadata": {},
   "outputs": [
    {
     "name": "stdout",
     "output_type": "stream",
     "text": [
      "RPQS Abainville assainissement collectif 2021\n",
      "I am here\n"
     ]
    }
   ],
   "source": [
    "context_url=None\n",
    "keyword_list = [\"RPQS\", \"Abainville\", \"assainissement collectif\", \"2021\"]\n",
    "\n",
    "url_list = PDFScraperFromGoogle.googlesearch(keyword_list, context_url=context_url)\n",
    "for url in url_list: \n",
    "    print(url)\n",
    "    # print(url.url)\n",
    "    # print(url.title)\n",
    "    # print(url.description)\n",
    "    # print('###############')"
   ]
  },
  {
   "cell_type": "code",
   "execution_count": 8,
   "metadata": {},
   "outputs": [
    {
     "data": {
      "text/plain": [
       "[['RPQS', 'Genouilly', 'assainissement collectif', '2021'],\n",
       " ['RAD', 'Genouilly', 'assainissement collectif', '2021'],\n",
       " ['Rapport du maire', 'Genouilly', 'assainissement collectif', '2021']]"
      ]
     },
     "execution_count": 8,
     "metadata": {},
     "output_type": "execute_result"
    }
   ],
   "source": [
    "PDFScraperFromGoogle.build_keyword_list_list(\"Genouilly\", \"assainissement collectif\", \"2021\")"
   ]
  },
  {
   "cell_type": "markdown",
   "metadata": {},
   "source": [
    "Scrap PDF urls from Google for a given entity (collectivity, competence, year)"
   ]
  },
  {
   "cell_type": "code",
   "execution_count": 51,
   "metadata": {},
   "outputs": [
    {
     "name": "stdout",
     "output_type": "stream",
     "text": [
      "['RPQS', 'Abainville', 'assainissement collectif', '2021']\n",
      "https://www.services.eaufrance.fr/collectivite/206841/2021\n",
      "https://www.services.eaufrance.fr/sispea//referential/download-rpqs.action?collectivityId=206841&rpqsId=512773\n",
      "https://www.eure.gouv.fr/Actions-de-l-Etat/Environnement/eau-et-nature/Eau/Services-publics-d-eau-potable-et-d-assainissement/Le-rapport-sur-le-prix-et-la-qualite-des-services-RPQS-d-eau-et-d-assainissement\n",
      "An error occured : Request error from url https://www.eure.gouv.fr/Actions-de-l-Etat/Environnement/eau-et-nature/Eau/Services-publics-d-eau-potable-et-d-assainissement/Le-rapport-sur-le-prix-et-la-qualite-des-services-RPQS-d-eau-et-d-assainissement\n",
      "PDF reports are not searched in https://www.eure.gouv.fr/Actions-de-l-Etat/Environnement/eau-et-nature/Eau/Services-publics-d-eau-potable-et-d-assainissement/Le-rapport-sur-le-prix-et-la-qualite-des-services-RPQS-d-eau-et-d-assainissement\n",
      "https://www.sna27.fr/wp-content/uploads/2023/04/RPQS-Assainissement-2021.pdf\n",
      "https://www.agglo-plainevallee.fr/wp-content/uploads/2023/02/Rapport-annuel-2021-eau-assainissement.pdf\n",
      "['RAD', 'Abainville', 'assainissement collectif', '2021']\n",
      "https://www.services.eaufrance.fr/service/206842/\n",
      "https://www.services.eaufrance.fr/sispea//referential/download-rpqs.action?collectivityId=206841&rpqsId=512773\n",
      "https://www.yvelines.gouv.fr/content/download/25994/152339/file/Rapport%20Enquete-SIARO-2021.pdf\n",
      "An error occured : Request error from url https://www.yvelines.gouv.fr/content/download/25994/152339/file/Rapport%20Enquete-SIARO-2021.pdf\n",
      "PDF reports are not searched in https://www.yvelines.gouv.fr/content/download/25994/152339/file/Rapport%20Enquete-SIARO-2021.pdf\n",
      "https://assainissement.developpement-durable.gouv.fr/pages/data/actu.php\n",
      "https://www.assainissement.developpement-durable.gouv.fr/pages/data/carteIntSteu.php\n",
      "['Rapport du maire', 'Abainville', 'assainissement collectif', '2021']\n",
      "https://www.services.eaufrance.fr/sispea//referential/download-rpqs.action?collectivityId=206841&rpqsId=512773\n",
      "https://www.services.eaufrance.fr/sispea//referential/download-rpqs.action?collectivityId=206841&rpqsId=370162\n",
      "https://www.eau-seine-normandie.fr/sites/public_file/inline-files/DELIBERATION%20CA_18_35_APPROBATION%2011%20PROGRAMME.pdf\n",
      "https://www.yvelines.gouv.fr/content/download/25994/152339/file/Rapport%20Enquete-SIARO-2021.pdf\n",
      "An error occured : Request error from url https://www.yvelines.gouv.fr/content/download/25994/152339/file/Rapport%20Enquete-SIARO-2021.pdf\n",
      "PDF reports are not searched in https://www.yvelines.gouv.fr/content/download/25994/152339/file/Rapport%20Enquete-SIARO-2021.pdf\n",
      "https://www.linternaute.com/ville/abainville/ville-55001/prix-eau\n"
     ]
    }
   ],
   "source": [
    "collectivity_name = \"Abainville\"\n",
    "competence = \"assainissement collectif\"\n",
    "year = \"2021\"\n",
    "\n",
    "collectivity_filename = \"useless\"\n",
    "report_filename = \"useless\"\n",
    "\n",
    "google_scraper = PDFScraperFromGoogle(collectivity_filename, report_filename)\n",
    "kw_list_list, source_url_list_list, pdf_url_list_list_list = google_scraper.fetch_pdf_urls_for_one_entity(collectivity_name, competence, year)"
   ]
  },
  {
   "cell_type": "code",
   "execution_count": 52,
   "metadata": {},
   "outputs": [
    {
     "name": "stdout",
     "output_type": "stream",
     "text": [
      "[['RPQS', 'Abainville', 'assainissement collectif', '2021'], ['RAD', 'Abainville', 'assainissement collectif', '2021'], ['Rapport du maire', 'Abainville', 'assainissement collectif', '2021']]\n"
     ]
    }
   ],
   "source": [
    "print(kw_list_list)"
   ]
  },
  {
   "cell_type": "code",
   "execution_count": 53,
   "metadata": {},
   "outputs": [
    {
     "name": "stdout",
     "output_type": "stream",
     "text": [
      "[['https://www.services.eaufrance.fr/collectivite/206841/2021', 'https://www.services.eaufrance.fr/sispea//referential/download-rpqs.action?collectivityId=206841&rpqsId=512773', 'https://www.sna27.fr/wp-content/uploads/2023/04/RPQS-Assainissement-2021.pdf', 'https://www.agglo-plainevallee.fr/wp-content/uploads/2023/02/Rapport-annuel-2021-eau-assainissement.pdf'], ['https://www.services.eaufrance.fr/service/206842/', 'https://www.services.eaufrance.fr/sispea//referential/download-rpqs.action?collectivityId=206841&rpqsId=512773', 'https://assainissement.developpement-durable.gouv.fr/pages/data/actu.php', 'https://www.assainissement.developpement-durable.gouv.fr/pages/data/carteIntSteu.php'], ['https://www.services.eaufrance.fr/sispea//referential/download-rpqs.action?collectivityId=206841&rpqsId=512773', 'https://www.services.eaufrance.fr/sispea//referential/download-rpqs.action?collectivityId=206841&rpqsId=370162', 'https://www.eau-seine-normandie.fr/sites/public_file/inline-files/DELIBERATION%20CA_18_35_APPROBATION%2011%20PROGRAMME.pdf', 'https://www.linternaute.com/ville/abainville/ville-55001/prix-eau']]\n"
     ]
    }
   ],
   "source": [
    "print(source_url_list_list)"
   ]
  },
  {
   "cell_type": "code",
   "execution_count": 56,
   "metadata": {},
   "outputs": [
    {
     "name": "stdout",
     "output_type": "stream",
     "text": [
      "[[[], ['https://www.services.eaufrance.fr/sispea//referential/download-rpqs.action?collectivityId=206841&rpqsId=512773'], ['https://www.sna27.fr/wp-content/uploads/2023/04/RPQS-Assainissement-2021.pdf'], ['https://www.agglo-plainevallee.fr/wp-content/uploads/2023/02/Rapport-annuel-2021-eau-assainissement.pdf']], [[], ['https://www.services.eaufrance.fr/sispea//referential/download-rpqs.action?collectivityId=206841&rpqsId=512773'], [], ['https://assainissement.developpement-durable.gouv.fr/pages/documents/Rapportage2024_carte_liste_agglos_NC.pdf']], [['https://www.services.eaufrance.fr/sispea//referential/download-rpqs.action?collectivityId=206841&rpqsId=512773'], ['https://www.services.eaufrance.fr/sispea//referential/download-rpqs.action?collectivityId=206841&rpqsId=370162'], ['https://www.eau-seine-normandie.fr/sites/public_file/inline-files/DELIBERATION%20CA_18_35_APPROBATION%2011%20PROGRAMME.pdf'], []]]\n"
     ]
    }
   ],
   "source": [
    "print(pdf_url_list_list_list)"
   ]
  },
  {
   "cell_type": "code",
   "execution_count": 57,
   "metadata": {},
   "outputs": [
    {
     "name": "stdout",
     "output_type": "stream",
     "text": [
      "[[], ['https://www.services.eaufrance.fr/sispea//referential/download-rpqs.action?collectivityId=206841&rpqsId=512773'], ['https://www.sna27.fr/wp-content/uploads/2023/04/RPQS-Assainissement-2021.pdf'], ['https://www.agglo-plainevallee.fr/wp-content/uploads/2023/02/Rapport-annuel-2021-eau-assainissement.pdf']]\n"
     ]
    }
   ],
   "source": [
    "print(pdf_url_list_list_list[0])"
   ]
  },
  {
   "cell_type": "markdown",
   "metadata": {},
   "source": [
    "Full scraping from Google for a given year, competence, status"
   ]
  },
  {
   "cell_type": "code",
   "execution_count": null,
   "metadata": {},
   "outputs": [
    {
     "name": "stdout",
     "output_type": "stream",
     "text": [
      "Downloading RPQS ...\n"
     ]
    },
    {
     "name": "stderr",
     "output_type": "stream",
     "text": [
      "  0%|          | 0/7252 [00:00<?, ?it/s]"
     ]
    },
    {
     "name": "stdout",
     "output_type": "stream",
     "text": [
      "RPQS L'Abergement-Clemenciat assainissement collectif 2015\n",
      "RAD L'Abergement-Clemenciat assainissement collectif 2015\n",
      "Rapport du maire L'Abergement-Clemenciat assainissement collectif 2015\n"
     ]
    },
    {
     "name": "stderr",
     "output_type": "stream",
     "text": [
      "  0%|          | 1/7252 [00:01<2:30:01,  1.24s/it]"
     ]
    },
    {
     "name": "stdout",
     "output_type": "stream",
     "text": [
      "RPQS Ambleon assainissement collectif 2015\n",
      "RAD Ambleon assainissement collectif 2015\n",
      "Rapport du maire Ambleon assainissement collectif 2015\n"
     ]
    },
    {
     "name": "stderr",
     "output_type": "stream",
     "text": [
      "  0%|          | 2/7252 [00:02<2:28:49,  1.23s/it]"
     ]
    },
    {
     "name": "stdout",
     "output_type": "stream",
     "text": [
      "RPQS Andert-et-Condon assainissement collectif 2015\n",
      "RAD Andert-et-Condon assainissement collectif 2015\n",
      "Rapport du maire Andert-et-Condon assainissement collectif 2015\n"
     ]
    },
    {
     "name": "stderr",
     "output_type": "stream",
     "text": [
      "  0%|          | 3/7252 [00:04<3:04:00,  1.52s/it]"
     ]
    },
    {
     "name": "stdout",
     "output_type": "stream",
     "text": [
      "RPQS Arbent assainissement collectif 2015\n",
      "RAD Arbent assainissement collectif 2015\n",
      "Rapport du maire Arbent assainissement collectif 2015\n"
     ]
    },
    {
     "name": "stderr",
     "output_type": "stream",
     "text": [
      "  0%|          | 4/7252 [00:05<2:56:28,  1.46s/it]"
     ]
    },
    {
     "name": "stdout",
     "output_type": "stream",
     "text": [
      "RPQS ARBIGNIEU assainissement collectif 2015\n",
      "RAD ARBIGNIEU assainissement collectif 2015\n",
      "Rapport du maire ARBIGNIEU assainissement collectif 2015\n"
     ]
    },
    {
     "name": "stderr",
     "output_type": "stream",
     "text": [
      "  0%|          | 5/7252 [00:06<2:38:06,  1.31s/it]"
     ]
    },
    {
     "name": "stdout",
     "output_type": "stream",
     "text": [
      "RPQS Argis assainissement collectif 2015\n",
      "RAD Argis assainissement collectif 2015\n",
      "Rapport du maire Argis assainissement collectif 2015\n"
     ]
    },
    {
     "name": "stderr",
     "output_type": "stream",
     "text": [
      "  0%|          | 6/7252 [00:07<2:29:10,  1.24s/it]"
     ]
    },
    {
     "name": "stdout",
     "output_type": "stream",
     "text": [
      "RPQS Balan assainissement collectif 2015\n",
      "RAD Balan assainissement collectif 2015\n",
      "Rapport du maire Balan assainissement collectif 2015\n"
     ]
    },
    {
     "name": "stderr",
     "output_type": "stream",
     "text": [
      "  0%|          | 7/7252 [00:09<2:43:22,  1.35s/it]"
     ]
    },
    {
     "name": "stdout",
     "output_type": "stream",
     "text": [
      "RPQS Beaupont assainissement collectif 2015\n",
      "RAD Beaupont assainissement collectif 2015\n",
      "Rapport du maire Beaupont assainissement collectif 2015\n"
     ]
    },
    {
     "name": "stderr",
     "output_type": "stream",
     "text": [
      "  0%|          | 8/7252 [00:11<2:54:11,  1.44s/it]"
     ]
    },
    {
     "name": "stdout",
     "output_type": "stream",
     "text": [
      "RPQS Bellegarde-sur-Valserine assainissement collectif 2015\n",
      "RAD Bellegarde-sur-Valserine assainissement collectif 2015\n",
      "Rapport du maire Bellegarde-sur-Valserine assainissement collectif 2015\n"
     ]
    },
    {
     "name": "stderr",
     "output_type": "stream",
     "text": [
      "  0%|          | 9/7252 [00:12<3:04:32,  1.53s/it]"
     ]
    },
    {
     "name": "stdout",
     "output_type": "stream",
     "text": [
      "RPQS Belleydoux assainissement collectif 2015\n",
      "RAD Belleydoux assainissement collectif 2015\n",
      "Rapport du maire Belleydoux assainissement collectif 2015\n"
     ]
    },
    {
     "name": "stderr",
     "output_type": "stream",
     "text": [
      "  0%|          | 10/7252 [00:13<2:51:45,  1.42s/it]"
     ]
    },
    {
     "name": "stdout",
     "output_type": "stream",
     "text": [
      "RPQS Beon assainissement collectif 2015\n",
      "RAD Beon assainissement collectif 2015\n",
      "Rapport du maire Beon assainissement collectif 2015\n"
     ]
    },
    {
     "name": "stderr",
     "output_type": "stream",
     "text": [
      "  0%|          | 11/7252 [00:15<2:56:30,  1.46s/it]"
     ]
    },
    {
     "name": "stdout",
     "output_type": "stream",
     "text": [
      "RPQS Beynost assainissement collectif 2015\n",
      "RAD Beynost assainissement collectif 2015\n",
      "Rapport du maire Beynost assainissement collectif 2015\n"
     ]
    },
    {
     "name": "stderr",
     "output_type": "stream",
     "text": [
      "  0%|          | 12/7252 [00:16<2:56:12,  1.46s/it]"
     ]
    },
    {
     "name": "stdout",
     "output_type": "stream",
     "text": [
      "RPQS LaBoisse assainissement collectif 2015\n",
      "RAD LaBoisse assainissement collectif 2015\n",
      "Rapport du maire LaBoisse assainissement collectif 2015\n"
     ]
    },
    {
     "name": "stderr",
     "output_type": "stream",
     "text": [
      "  0%|          | 13/7252 [00:18<2:55:42,  1.46s/it]"
     ]
    },
    {
     "name": "stdout",
     "output_type": "stream",
     "text": [
      "RPQS Bolozon assainissement collectif 2015\n",
      "RAD Bolozon assainissement collectif 2015\n",
      "Rapport du maire Bolozon assainissement collectif 2015\n"
     ]
    },
    {
     "name": "stderr",
     "output_type": "stream",
     "text": [
      "  0%|          | 14/7252 [00:19<2:52:43,  1.43s/it]"
     ]
    },
    {
     "name": "stdout",
     "output_type": "stream",
     "text": [
      "RPQS Bouligneux assainissement collectif 2015\n",
      "RAD Bouligneux assainissement collectif 2015\n",
      "Rapport du maire Bouligneux assainissement collectif 2015\n"
     ]
    },
    {
     "name": "stderr",
     "output_type": "stream",
     "text": [
      "  0%|          | 15/7252 [00:21<2:57:43,  1.47s/it]"
     ]
    },
    {
     "name": "stdout",
     "output_type": "stream",
     "text": [
      "RPQS Boyeux-Saint-Jerome assainissement collectif 2015\n",
      "RAD Boyeux-Saint-Jerome assainissement collectif 2015\n",
      "Rapport du maire Boyeux-Saint-Jerome assainissement collectif 2015\n"
     ]
    },
    {
     "name": "stderr",
     "output_type": "stream",
     "text": [
      "  0%|          | 16/7252 [00:22<3:03:20,  1.52s/it]"
     ]
    },
    {
     "name": "stdout",
     "output_type": "stream",
     "text": [
      "RPQS Bregnier-Cordon assainissement collectif 2015\n",
      "RAD Bregnier-Cordon assainissement collectif 2015\n",
      "Rapport du maire Bregnier-Cordon assainissement collectif 2015\n"
     ]
    },
    {
     "name": "stderr",
     "output_type": "stream",
     "text": [
      "  0%|          | 17/7252 [00:24<3:03:07,  1.52s/it]"
     ]
    },
    {
     "name": "stdout",
     "output_type": "stream",
     "text": [
      "RPQS Brenaz assainissement collectif 2015\n",
      "RAD Brenaz assainissement collectif 2015\n",
      "Rapport du maire Brenaz assainissement collectif 2015\n"
     ]
    },
    {
     "name": "stderr",
     "output_type": "stream",
     "text": [
      "  0%|          | 18/7252 [00:25<2:47:11,  1.39s/it]"
     ]
    },
    {
     "name": "stdout",
     "output_type": "stream",
     "text": [
      "RPQS Bressolles assainissement collectif 2015\n",
      "RAD Bressolles assainissement collectif 2015\n",
      "Rapport du maire Bressolles assainissement collectif 2015\n"
     ]
    },
    {
     "name": "stderr",
     "output_type": "stream",
     "text": [
      "  0%|          | 19/7252 [00:26<2:45:40,  1.37s/it]"
     ]
    },
    {
     "name": "stdout",
     "output_type": "stream",
     "text": [
      "RPQS Buellas assainissement collectif 2015\n",
      "RAD Buellas assainissement collectif 2015\n",
      "Rapport du maire Buellas assainissement collectif 2015\n"
     ]
    },
    {
     "name": "stderr",
     "output_type": "stream",
     "text": [
      "  0%|          | 20/7252 [00:28<2:40:40,  1.33s/it]"
     ]
    },
    {
     "name": "stdout",
     "output_type": "stream",
     "text": [
      "RPQS LaBurbanche assainissement collectif 2015\n",
      "RAD LaBurbanche assainissement collectif 2015\n",
      "Rapport du maire LaBurbanche assainissement collectif 2015\n"
     ]
    },
    {
     "name": "stderr",
     "output_type": "stream",
     "text": [
      "  0%|          | 21/7252 [00:29<2:39:36,  1.32s/it]"
     ]
    },
    {
     "name": "stdout",
     "output_type": "stream",
     "text": [
      "RPQS Ceignes assainissement collectif 2015\n",
      "RAD Ceignes assainissement collectif 2015\n",
      "Rapport du maire Ceignes assainissement collectif 2015\n"
     ]
    },
    {
     "name": "stderr",
     "output_type": "stream",
     "text": [
      "  0%|          | 22/7252 [00:30<2:33:26,  1.27s/it]"
     ]
    },
    {
     "name": "stdout",
     "output_type": "stream",
     "text": [
      "RPQS Cerdon assainissement collectif 2015\n",
      "RAD Cerdon assainissement collectif 2015\n",
      "Rapport du maire Cerdon assainissement collectif 2015\n"
     ]
    },
    {
     "name": "stderr",
     "output_type": "stream",
     "text": [
      "  0%|          | 23/7252 [00:32<2:51:41,  1.43s/it]"
     ]
    },
    {
     "name": "stdout",
     "output_type": "stream",
     "text": [
      "RPQS Chaley assainissement collectif 2015\n",
      "RAD Chaley assainissement collectif 2015\n",
      "Rapport du maire Chaley assainissement collectif 2015\n"
     ]
    },
    {
     "name": "stderr",
     "output_type": "stream",
     "text": [
      "  0%|          | 24/7252 [00:33<2:36:48,  1.30s/it]"
     ]
    },
    {
     "name": "stdout",
     "output_type": "stream",
     "text": [
      "RPQS Champfromier assainissement collectif 2015\n",
      "RAD Champfromier assainissement collectif 2015\n",
      "Rapport du maire Champfromier assainissement collectif 2015\n"
     ]
    },
    {
     "name": "stderr",
     "output_type": "stream",
     "text": [
      "  0%|          | 25/7252 [00:34<2:39:14,  1.32s/it]"
     ]
    },
    {
     "name": "stdout",
     "output_type": "stream",
     "text": [
      "RPQS LaChapelle-du-Chatelard assainissement collectif 2015\n",
      "RAD LaChapelle-du-Chatelard assainissement collectif 2015\n",
      "Rapport du maire LaChapelle-du-Chatelard assainissement collectif 2015\n"
     ]
    },
    {
     "name": "stderr",
     "output_type": "stream",
     "text": [
      "  0%|          | 26/7252 [00:36<2:49:43,  1.41s/it]"
     ]
    },
    {
     "name": "stdout",
     "output_type": "stream",
     "text": [
      "RPQS Chavornay assainissement collectif 2015\n",
      "RAD Chavornay assainissement collectif 2015\n",
      "Rapport du maire Chavornay assainissement collectif 2015\n"
     ]
    },
    {
     "name": "stderr",
     "output_type": "stream",
     "text": [
      "  0%|          | 27/7252 [00:37<2:42:31,  1.35s/it]"
     ]
    },
    {
     "name": "stdout",
     "output_type": "stream",
     "text": [
      "RPQS Cleyzieu assainissement collectif 2015\n",
      "RAD Cleyzieu assainissement collectif 2015\n",
      "Rapport du maire Cleyzieu assainissement collectif 2015\n"
     ]
    },
    {
     "name": "stderr",
     "output_type": "stream",
     "text": [
      "  0%|          | 28/7252 [00:38<2:43:09,  1.36s/it]"
     ]
    },
    {
     "name": "stdout",
     "output_type": "stream",
     "text": [
      "RPQS Confort assainissement collectif 2015\n",
      "RAD Confort assainissement collectif 2015\n",
      "Rapport du maire Confort assainissement collectif 2015\n"
     ]
    },
    {
     "name": "stderr",
     "output_type": "stream",
     "text": [
      "  0%|          | 29/7252 [00:40<2:32:27,  1.27s/it]"
     ]
    },
    {
     "name": "stdout",
     "output_type": "stream",
     "text": [
      "RPQS CORCELLES assainissement collectif 2015\n",
      "RAD CORCELLES assainissement collectif 2015\n",
      "Rapport du maire CORCELLES assainissement collectif 2015\n"
     ]
    },
    {
     "name": "stderr",
     "output_type": "stream",
     "text": [
      "  0%|          | 30/7252 [00:41<2:41:10,  1.34s/it]"
     ]
    },
    {
     "name": "stdout",
     "output_type": "stream",
     "text": [
      "RPQS Corlier assainissement collectif 2015\n",
      "RAD Corlier assainissement collectif 2015\n",
      "Rapport du maire Corlier assainissement collectif 2015\n"
     ]
    },
    {
     "name": "stderr",
     "output_type": "stream",
     "text": [
      "  0%|          | 31/7252 [00:42<2:43:16,  1.36s/it]"
     ]
    },
    {
     "name": "stdout",
     "output_type": "stream",
     "text": [
      "RPQS Corveissiat assainissement collectif 2015\n",
      "RAD Corveissiat assainissement collectif 2015\n",
      "Rapport du maire Corveissiat assainissement collectif 2015\n"
     ]
    },
    {
     "name": "stderr",
     "output_type": "stream",
     "text": [
      "  0%|          | 32/7252 [00:44<2:37:22,  1.31s/it]"
     ]
    },
    {
     "name": "stdout",
     "output_type": "stream",
     "text": [
      "RPQS Courtes assainissement collectif 2015\n",
      "RAD Courtes assainissement collectif 2015\n",
      "Rapport du maire Courtes assainissement collectif 2015\n"
     ]
    },
    {
     "name": "stderr",
     "output_type": "stream",
     "text": [
      "  0%|          | 33/7252 [00:45<2:30:24,  1.25s/it]"
     ]
    },
    {
     "name": "stdout",
     "output_type": "stream",
     "text": [
      "RPQS Cuzieu assainissement collectif 2015\n",
      "RAD Cuzieu assainissement collectif 2015\n",
      "Rapport du maire Cuzieu assainissement collectif 2015\n"
     ]
    },
    {
     "name": "stderr",
     "output_type": "stream",
     "text": [
      "  0%|          | 34/7252 [00:46<2:32:04,  1.26s/it]"
     ]
    },
    {
     "name": "stdout",
     "output_type": "stream",
     "text": [
      "RPQS Dagneux assainissement collectif 2015\n",
      "RAD Dagneux assainissement collectif 2015\n",
      "Rapport du maire Dagneux assainissement collectif 2015\n"
     ]
    },
    {
     "name": "stderr",
     "output_type": "stream",
     "text": [
      "  0%|          | 35/7252 [00:47<2:32:02,  1.26s/it]"
     ]
    },
    {
     "name": "stdout",
     "output_type": "stream",
     "text": [
      "RPQS Echallon assainissement collectif 2015\n",
      "RAD Echallon assainissement collectif 2015\n",
      "Rapport du maire Echallon assainissement collectif 2015\n"
     ]
    },
    {
     "name": "stderr",
     "output_type": "stream",
     "text": [
      "  0%|          | 36/7252 [00:49<2:34:35,  1.29s/it]"
     ]
    },
    {
     "name": "stdout",
     "output_type": "stream",
     "text": [
      "RPQS Etrez assainissement collectif 2015\n",
      "RAD Etrez assainissement collectif 2015\n",
      "Rapport du maire Etrez assainissement collectif 2015\n"
     ]
    },
    {
     "name": "stderr",
     "output_type": "stream",
     "text": [
      "  1%|          | 37/7252 [00:50<2:47:22,  1.39s/it]"
     ]
    },
    {
     "name": "stdout",
     "output_type": "stream",
     "text": [
      "RPQS Feillens assainissement collectif 2015\n",
      "RAD Feillens assainissement collectif 2015\n",
      "Rapport du maire Feillens assainissement collectif 2015\n"
     ]
    },
    {
     "name": "stderr",
     "output_type": "stream",
     "text": [
      "  1%|          | 38/7252 [00:52<2:45:12,  1.37s/it]"
     ]
    },
    {
     "name": "stdout",
     "output_type": "stream",
     "text": [
      "RPQS Flaxieu assainissement collectif 2015\n",
      "RAD Flaxieu assainissement collectif 2015\n",
      "Rapport du maire Flaxieu assainissement collectif 2015\n"
     ]
    },
    {
     "name": "stderr",
     "output_type": "stream",
     "text": [
      "  1%|          | 39/7252 [00:53<2:41:38,  1.34s/it]"
     ]
    },
    {
     "name": "stdout",
     "output_type": "stream",
     "text": [
      "RPQS Groissiat assainissement collectif 2015\n",
      "RAD Groissiat assainissement collectif 2015\n",
      "Rapport du maire Groissiat assainissement collectif 2015\n"
     ]
    },
    {
     "name": "stderr",
     "output_type": "stream",
     "text": [
      "  1%|          | 40/7252 [00:54<2:42:16,  1.35s/it]"
     ]
    },
    {
     "name": "stdout",
     "output_type": "stream",
     "text": [
      "RPQS GROSLEE assainissement collectif 2015\n",
      "RAD GROSLEE assainissement collectif 2015\n",
      "Rapport du maire GROSLEE assainissement collectif 2015\n"
     ]
    },
    {
     "name": "stderr",
     "output_type": "stream",
     "text": [
      "  1%|          | 41/7252 [00:56<2:48:35,  1.40s/it]"
     ]
    },
    {
     "name": "stdout",
     "output_type": "stream",
     "text": [
      "RPQS Hostiaz assainissement collectif 2015\n",
      "RAD Hostiaz assainissement collectif 2015\n",
      "Rapport du maire Hostiaz assainissement collectif 2015\n"
     ]
    },
    {
     "name": "stderr",
     "output_type": "stream",
     "text": [
      "  1%|          | 42/7252 [00:57<2:49:08,  1.41s/it]"
     ]
    },
    {
     "name": "stdout",
     "output_type": "stream",
     "text": [
      "RPQS Izernore assainissement collectif 2015\n",
      "RAD Izernore assainissement collectif 2015\n",
      "Rapport du maire Izernore assainissement collectif 2015\n"
     ]
    },
    {
     "name": "stderr",
     "output_type": "stream",
     "text": [
      "  1%|          | 43/7252 [00:59<2:46:59,  1.39s/it]"
     ]
    },
    {
     "name": "stdout",
     "output_type": "stream",
     "text": [
      "RPQS Izieu assainissement collectif 2015\n",
      "RAD Izieu assainissement collectif 2015\n",
      "Rapport du maire Izieu assainissement collectif 2015\n"
     ]
    },
    {
     "name": "stderr",
     "output_type": "stream",
     "text": [
      "  1%|          | 44/7252 [01:00<2:45:16,  1.38s/it]"
     ]
    },
    {
     "name": "stdout",
     "output_type": "stream",
     "text": [
      "RPQS Labalme assainissement collectif 2015\n",
      "RAD Labalme assainissement collectif 2015\n",
      "Rapport du maire Labalme assainissement collectif 2015\n"
     ]
    },
    {
     "name": "stderr",
     "output_type": "stream",
     "text": [
      "  1%|          | 45/7252 [01:01<2:45:57,  1.38s/it]"
     ]
    },
    {
     "name": "stdout",
     "output_type": "stream",
     "text": [
      "RPQS Lancrans assainissement collectif 2015\n",
      "RAD Lancrans assainissement collectif 2015\n",
      "Rapport du maire Lancrans assainissement collectif 2015\n"
     ]
    },
    {
     "name": "stderr",
     "output_type": "stream",
     "text": [
      "  1%|          | 46/7252 [01:03<2:40:53,  1.34s/it]"
     ]
    },
    {
     "name": "stdout",
     "output_type": "stream",
     "text": [
      "RPQS Lapeyrouse assainissement collectif 2015\n",
      "RAD Lapeyrouse assainissement collectif 2015\n",
      "Rapport du maire Lapeyrouse assainissement collectif 2015\n"
     ]
    },
    {
     "name": "stderr",
     "output_type": "stream",
     "text": [
      "  1%|          | 47/7252 [01:04<2:53:07,  1.44s/it]"
     ]
    },
    {
     "name": "stdout",
     "output_type": "stream",
     "text": [
      "RPQS Lavours assainissement collectif 2015\n",
      "RAD Lavours assainissement collectif 2015\n",
      "Rapport du maire Lavours assainissement collectif 2015\n"
     ]
    },
    {
     "name": "stderr",
     "output_type": "stream",
     "text": [
      "  1%|          | 48/7252 [01:06<2:56:19,  1.47s/it]"
     ]
    },
    {
     "name": "stdout",
     "output_type": "stream",
     "text": [
      "RPQS Lescheroux assainissement collectif 2015\n",
      "RAD Lescheroux assainissement collectif 2015\n",
      "Rapport du maire Lescheroux assainissement collectif 2015\n"
     ]
    },
    {
     "name": "stderr",
     "output_type": "stream",
     "text": [
      "  1%|          | 49/7252 [01:07<2:49:38,  1.41s/it]"
     ]
    },
    {
     "name": "stdout",
     "output_type": "stream",
     "text": [
      "RPQS Leyssard assainissement collectif 2015\n",
      "RAD Leyssard assainissement collectif 2015\n",
      "Rapport du maire Leyssard assainissement collectif 2015\n"
     ]
    },
    {
     "name": "stderr",
     "output_type": "stream",
     "text": [
      "  1%|          | 50/7252 [01:09<2:51:42,  1.43s/it]"
     ]
    },
    {
     "name": "stdout",
     "output_type": "stream",
     "text": [
      "RPQS Lhopital assainissement collectif 2015\n",
      "RAD Lhopital assainissement collectif 2015\n",
      "Rapport du maire Lhopital assainissement collectif 2015\n"
     ]
    },
    {
     "name": "stderr",
     "output_type": "stream",
     "text": [
      "  1%|          | 51/7252 [01:10<2:47:32,  1.40s/it]"
     ]
    },
    {
     "name": "stdout",
     "output_type": "stream",
     "text": [
      "RPQS Lompnas assainissement collectif 2015\n",
      "RAD Lompnas assainissement collectif 2015\n",
      "Rapport du maire Lompnas assainissement collectif 2015\n"
     ]
    },
    {
     "name": "stderr",
     "output_type": "stream",
     "text": [
      "  1%|          | 52/7252 [01:11<2:48:57,  1.41s/it]"
     ]
    },
    {
     "name": "stdout",
     "output_type": "stream",
     "text": [
      "RPQS Maillat assainissement collectif 2015\n",
      "RAD Maillat assainissement collectif 2015\n",
      "Rapport du maire Maillat assainissement collectif 2015\n"
     ]
    },
    {
     "name": "stderr",
     "output_type": "stream",
     "text": [
      "  1%|          | 53/7252 [01:12<2:36:43,  1.31s/it]"
     ]
    },
    {
     "name": "stdout",
     "output_type": "stream",
     "text": [
      "RPQS Mantenay-Montlin assainissement collectif 2015\n",
      "RAD Mantenay-Montlin assainissement collectif 2015\n",
      "Rapport du maire Mantenay-Montlin assainissement collectif 2015\n"
     ]
    },
    {
     "name": "stderr",
     "output_type": "stream",
     "text": [
      "  1%|          | 54/7252 [01:14<2:36:22,  1.30s/it]"
     ]
    },
    {
     "name": "stdout",
     "output_type": "stream",
     "text": [
      "RPQS Marchamp assainissement collectif 2015\n",
      "RAD Marchamp assainissement collectif 2015\n",
      "Rapport du maire Marchamp assainissement collectif 2015\n"
     ]
    },
    {
     "name": "stderr",
     "output_type": "stream",
     "text": [
      "  1%|          | 55/7252 [01:15<2:42:05,  1.35s/it]"
     ]
    },
    {
     "name": "stdout",
     "output_type": "stream",
     "text": [
      "RPQS Massignieu-de-Rives assainissement collectif 2015\n",
      "RAD Massignieu-de-Rives assainissement collectif 2015\n",
      "Rapport du maire Massignieu-de-Rives assainissement collectif 2015\n"
     ]
    },
    {
     "name": "stderr",
     "output_type": "stream",
     "text": [
      "  1%|          | 56/7252 [01:16<2:34:44,  1.29s/it]"
     ]
    },
    {
     "name": "stdout",
     "output_type": "stream",
     "text": [
      "RPQS Meillonnas assainissement collectif 2015\n",
      "RAD Meillonnas assainissement collectif 2015\n",
      "Rapport du maire Meillonnas assainissement collectif 2015\n"
     ]
    },
    {
     "name": "stderr",
     "output_type": "stream",
     "text": [
      "  1%|          | 57/7252 [01:18<2:36:27,  1.30s/it]"
     ]
    },
    {
     "name": "stdout",
     "output_type": "stream",
     "text": [
      "RPQS Mezeriat assainissement collectif 2015\n",
      "RAD Mezeriat assainissement collectif 2015\n",
      "Rapport du maire Mezeriat assainissement collectif 2015\n"
     ]
    },
    {
     "name": "stderr",
     "output_type": "stream",
     "text": [
      "  1%|          | 58/7252 [01:19<2:42:05,  1.35s/it]"
     ]
    },
    {
     "name": "stdout",
     "output_type": "stream",
     "text": [
      "RPQS Miribel assainissement collectif 2015\n",
      "RAD Miribel assainissement collectif 2015\n",
      "Rapport du maire Miribel assainissement collectif 2015\n"
     ]
    },
    {
     "name": "stderr",
     "output_type": "stream",
     "text": [
      "  1%|          | 59/7252 [01:20<2:39:45,  1.33s/it]"
     ]
    },
    {
     "name": "stdout",
     "output_type": "stream",
     "text": [
      "RPQS Montanges assainissement collectif 2015\n",
      "RAD Montanges assainissement collectif 2015\n",
      "Rapport du maire Montanges assainissement collectif 2015\n"
     ]
    },
    {
     "name": "stderr",
     "output_type": "stream",
     "text": [
      "  1%|          | 60/7252 [01:22<2:43:50,  1.37s/it]"
     ]
    },
    {
     "name": "stdout",
     "output_type": "stream",
     "text": [
      "RPQS Montcet assainissement collectif 2015\n",
      "RAD Montcet assainissement collectif 2015\n",
      "Rapport du maire Montcet assainissement collectif 2015\n"
     ]
    },
    {
     "name": "stderr",
     "output_type": "stream",
     "text": [
      "  1%|          | 61/7252 [01:23<2:41:34,  1.35s/it]"
     ]
    },
    {
     "name": "stdout",
     "output_type": "stream",
     "text": [
      "RPQS Montreal-la-Cluse assainissement collectif 2015\n",
      "RAD Montreal-la-Cluse assainissement collectif 2015\n",
      "Rapport du maire Montreal-la-Cluse assainissement collectif 2015\n"
     ]
    },
    {
     "name": "stderr",
     "output_type": "stream",
     "text": [
      "  1%|          | 62/7252 [01:25<2:55:44,  1.47s/it]"
     ]
    },
    {
     "name": "stdout",
     "output_type": "stream",
     "text": [
      "RPQS Murs-et-Gelignieux assainissement collectif 2015\n",
      "RAD Murs-et-Gelignieux assainissement collectif 2015\n",
      "Rapport du maire Murs-et-Gelignieux assainissement collectif 2015\n"
     ]
    },
    {
     "name": "stderr",
     "output_type": "stream",
     "text": [
      "  1%|          | 63/7252 [01:26<2:43:05,  1.36s/it]"
     ]
    },
    {
     "name": "stdout",
     "output_type": "stream",
     "text": [
      "RPQS Neuville-sur-Ain assainissement collectif 2015\n",
      "RAD Neuville-sur-Ain assainissement collectif 2015\n",
      "Rapport du maire Neuville-sur-Ain assainissement collectif 2015\n"
     ]
    },
    {
     "name": "stderr",
     "output_type": "stream",
     "text": [
      "  1%|          | 64/7252 [01:27<2:39:17,  1.33s/it]"
     ]
    },
    {
     "name": "stdout",
     "output_type": "stream",
     "text": [
      "RPQS LesNeyrolles assainissement collectif 2015\n",
      "RAD LesNeyrolles assainissement collectif 2015\n",
      "Rapport du maire LesNeyrolles assainissement collectif 2015\n"
     ]
    },
    {
     "name": "stderr",
     "output_type": "stream",
     "text": [
      "  1%|          | 65/7252 [01:28<2:36:59,  1.31s/it]"
     ]
    },
    {
     "name": "stdout",
     "output_type": "stream",
     "text": [
      "RPQS Neyron assainissement collectif 2015\n",
      "RAD Neyron assainissement collectif 2015\n",
      "Rapport du maire Neyron assainissement collectif 2015\n"
     ]
    },
    {
     "name": "stderr",
     "output_type": "stream",
     "text": [
      "  1%|          | 66/7252 [01:30<2:30:41,  1.26s/it]"
     ]
    },
    {
     "name": "stdout",
     "output_type": "stream",
     "text": [
      "RPQS Nievroz assainissement collectif 2015\n",
      "RAD Nievroz assainissement collectif 2015\n",
      "Rapport du maire Nievroz assainissement collectif 2015\n"
     ]
    },
    {
     "name": "stderr",
     "output_type": "stream",
     "text": [
      "  1%|          | 67/7252 [01:31<2:29:35,  1.25s/it]"
     ]
    },
    {
     "name": "stdout",
     "output_type": "stream",
     "text": [
      "RPQS Oncieu assainissement collectif 2015\n",
      "RAD Oncieu assainissement collectif 2015\n",
      "Rapport du maire Oncieu assainissement collectif 2015\n"
     ]
    },
    {
     "name": "stderr",
     "output_type": "stream",
     "text": [
      "  1%|          | 68/7252 [01:32<2:35:00,  1.29s/it]"
     ]
    },
    {
     "name": "stdout",
     "output_type": "stream",
     "text": [
      "RPQS Perouges assainissement collectif 2015\n",
      "RAD Perouges assainissement collectif 2015\n",
      "Rapport du maire Perouges assainissement collectif 2015\n"
     ]
    },
    {
     "name": "stderr",
     "output_type": "stream",
     "text": [
      "  1%|          | 69/7252 [01:33<2:32:12,  1.27s/it]"
     ]
    },
    {
     "name": "stdout",
     "output_type": "stream",
     "text": [
      "RPQS Pirajoux assainissement collectif 2015\n",
      "RAD Pirajoux assainissement collectif 2015\n",
      "Rapport du maire Pirajoux assainissement collectif 2015\n"
     ]
    },
    {
     "name": "stderr",
     "output_type": "stream",
     "text": [
      "  1%|          | 70/7252 [01:35<2:38:01,  1.32s/it]"
     ]
    },
    {
     "name": "stdout",
     "output_type": "stream",
     "text": [
      "RPQS Pizay assainissement collectif 2015\n",
      "RAD Pizay assainissement collectif 2015\n",
      "Rapport du maire Pizay assainissement collectif 2015\n"
     ]
    },
    {
     "name": "stderr",
     "output_type": "stream",
     "text": [
      "  1%|          | 71/7252 [01:37<2:51:37,  1.43s/it]"
     ]
    },
    {
     "name": "stdout",
     "output_type": "stream",
     "text": [
      "RPQS Plagne assainissement collectif 2015\n",
      "RAD Plagne assainissement collectif 2015\n",
      "Rapport du maire Plagne assainissement collectif 2015\n"
     ]
    },
    {
     "name": "stderr",
     "output_type": "stream",
     "text": [
      "  1%|          | 72/7252 [01:38<2:41:43,  1.35s/it]"
     ]
    },
    {
     "name": "stdout",
     "output_type": "stream",
     "text": [
      "RPQS Pollieu assainissement collectif 2015\n",
      "RAD Pollieu assainissement collectif 2015\n",
      "Rapport du maire Pollieu assainissement collectif 2015\n"
     ]
    },
    {
     "name": "stderr",
     "output_type": "stream",
     "text": [
      "  1%|          | 73/7252 [01:39<2:44:53,  1.38s/it]"
     ]
    },
    {
     "name": "stdout",
     "output_type": "stream",
     "text": [
      "RPQS Pont-de-Vaux assainissement collectif 2015\n",
      "RAD Pont-de-Vaux assainissement collectif 2015\n",
      "Rapport du maire Pont-de-Vaux assainissement collectif 2015\n"
     ]
    },
    {
     "name": "stderr",
     "output_type": "stream",
     "text": [
      "  1%|          | 74/7252 [01:41<2:45:17,  1.38s/it]"
     ]
    },
    {
     "name": "stdout",
     "output_type": "stream",
     "text": [
      "RPQS Port assainissement collectif 2015\n",
      "RAD Port assainissement collectif 2015\n",
      "Rapport du maire Port assainissement collectif 2015\n"
     ]
    },
    {
     "name": "stderr",
     "output_type": "stream",
     "text": [
      "  1%|          | 75/7252 [01:42<2:45:13,  1.38s/it]"
     ]
    },
    {
     "name": "stdout",
     "output_type": "stream",
     "text": [
      "RPQS Premillieu assainissement collectif 2015\n",
      "RAD Premillieu assainissement collectif 2015\n",
      "Rapport du maire Premillieu assainissement collectif 2015\n"
     ]
    },
    {
     "name": "stderr",
     "output_type": "stream",
     "text": [
      "  1%|          | 76/7252 [01:43<2:45:47,  1.39s/it]"
     ]
    },
    {
     "name": "stdout",
     "output_type": "stream",
     "text": [
      "RPQS PRESSIAT assainissement collectif 2015\n",
      "RAD PRESSIAT assainissement collectif 2015\n",
      "Rapport du maire PRESSIAT assainissement collectif 2015\n"
     ]
    },
    {
     "name": "stderr",
     "output_type": "stream",
     "text": [
      "  1%|          | 77/7252 [01:45<2:38:57,  1.33s/it]"
     ]
    },
    {
     "name": "stdout",
     "output_type": "stream",
     "text": [
      "RPQS Relevant assainissement collectif 2015\n",
      "RAD Relevant assainissement collectif 2015\n",
      "Rapport du maire Relevant assainissement collectif 2015\n"
     ]
    },
    {
     "name": "stderr",
     "output_type": "stream",
     "text": [
      "  1%|          | 78/7252 [01:46<2:38:39,  1.33s/it]"
     ]
    },
    {
     "name": "stdout",
     "output_type": "stream",
     "text": [
      "RPQS Reyssouze assainissement collectif 2015\n",
      "RAD Reyssouze assainissement collectif 2015\n",
      "Rapport du maire Reyssouze assainissement collectif 2015\n"
     ]
    },
    {
     "name": "stderr",
     "output_type": "stream",
     "text": [
      "  1%|          | 79/7252 [01:47<2:32:21,  1.27s/it]"
     ]
    },
    {
     "name": "stdout",
     "output_type": "stream",
     "text": [
      "RPQS Romans assainissement collectif 2015\n",
      "RAD Romans assainissement collectif 2015\n",
      "Rapport du maire Romans assainissement collectif 2015\n"
     ]
    },
    {
     "name": "stderr",
     "output_type": "stream",
     "text": [
      "  1%|          | 80/7252 [01:48<2:36:40,  1.31s/it]"
     ]
    },
    {
     "name": "stdout",
     "output_type": "stream",
     "text": [
      "RPQS Saint-Andre-de-Bage assainissement collectif 2015\n",
      "RAD Saint-Andre-de-Bage assainissement collectif 2015\n",
      "Rapport du maire Saint-Andre-de-Bage assainissement collectif 2015\n"
     ]
    },
    {
     "name": "stderr",
     "output_type": "stream",
     "text": [
      "  1%|          | 81/7252 [01:50<2:38:01,  1.32s/it]"
     ]
    },
    {
     "name": "stdout",
     "output_type": "stream",
     "text": [
      "RPQS Saint-Andre-de-Corcy assainissement collectif 2015\n",
      "RAD Saint-Andre-de-Corcy assainissement collectif 2015\n",
      "Rapport du maire Saint-Andre-de-Corcy assainissement collectif 2015\n"
     ]
    },
    {
     "name": "stderr",
     "output_type": "stream",
     "text": [
      "  1%|          | 82/7252 [01:51<2:47:41,  1.40s/it]"
     ]
    },
    {
     "name": "stdout",
     "output_type": "stream",
     "text": [
      "RPQS Saint-Andre-le-Bouchoux assainissement collectif 2015\n",
      "RAD Saint-Andre-le-Bouchoux assainissement collectif 2015\n",
      "Rapport du maire Saint-Andre-le-Bouchoux assainissement collectif 2015\n"
     ]
    },
    {
     "name": "stderr",
     "output_type": "stream",
     "text": [
      "  1%|          | 83/7252 [01:53<2:47:53,  1.41s/it]"
     ]
    },
    {
     "name": "stdout",
     "output_type": "stream",
     "text": [
      "RPQS Saint-Andre-sur-Vieux-Jonc assainissement collectif 2015\n",
      "RAD Saint-Andre-sur-Vieux-Jonc assainissement collectif 2015\n",
      "Rapport du maire Saint-Andre-sur-Vieux-Jonc assainissement collectif 2015\n"
     ]
    },
    {
     "name": "stderr",
     "output_type": "stream",
     "text": [
      "  1%|          | 84/7252 [01:54<2:53:02,  1.45s/it]"
     ]
    },
    {
     "name": "stdout",
     "output_type": "stream",
     "text": [
      "RPQS Saint-Benigne assainissement collectif 2015\n",
      "RAD Saint-Benigne assainissement collectif 2015\n",
      "Rapport du maire Saint-Benigne assainissement collectif 2015\n"
     ]
    },
    {
     "name": "stderr",
     "output_type": "stream",
     "text": [
      "  1%|          | 85/7252 [01:56<2:53:27,  1.45s/it]"
     ]
    },
    {
     "name": "stdout",
     "output_type": "stream",
     "text": [
      "RPQS SAINT-BENOIT assainissement collectif 2015\n",
      "RAD SAINT-BENOIT assainissement collectif 2015\n",
      "Rapport du maire SAINT-BENOIT assainissement collectif 2015\n"
     ]
    },
    {
     "name": "stderr",
     "output_type": "stream",
     "text": [
      "  1%|          | 86/7252 [01:57<2:53:12,  1.45s/it]"
     ]
    },
    {
     "name": "stdout",
     "output_type": "stream",
     "text": [
      "RPQS SAINT-BOIS assainissement collectif 2015\n",
      "RAD SAINT-BOIS assainissement collectif 2015\n",
      "Rapport du maire SAINT-BOIS assainissement collectif 2015\n"
     ]
    },
    {
     "name": "stderr",
     "output_type": "stream",
     "text": [
      "  1%|          | 87/7252 [01:59<2:54:06,  1.46s/it]"
     ]
    },
    {
     "name": "stdout",
     "output_type": "stream",
     "text": [
      "RPQS Saint-Champ assainissement collectif 2015\n",
      "RAD Saint-Champ assainissement collectif 2015\n",
      "Rapport du maire Saint-Champ assainissement collectif 2015\n"
     ]
    },
    {
     "name": "stderr",
     "output_type": "stream",
     "text": [
      "  1%|          | 88/7252 [02:00<2:48:39,  1.41s/it]"
     ]
    },
    {
     "name": "stdout",
     "output_type": "stream",
     "text": [
      "RPQS Sainte-Croix assainissement collectif 2015\n",
      "RAD Sainte-Croix assainissement collectif 2015\n",
      "Rapport du maire Sainte-Croix assainissement collectif 2015\n"
     ]
    },
    {
     "name": "stderr",
     "output_type": "stream",
     "text": [
      "  1%|          | 89/7252 [02:01<2:36:09,  1.31s/it]"
     ]
    },
    {
     "name": "stdout",
     "output_type": "stream",
     "text": [
      "RPQS Saint-Denis-les-Bourg assainissement collectif 2015\n",
      "RAD Saint-Denis-les-Bourg assainissement collectif 2015\n",
      "Rapport du maire Saint-Denis-les-Bourg assainissement collectif 2015\n"
     ]
    },
    {
     "name": "stderr",
     "output_type": "stream",
     "text": [
      "  1%|          | 90/7252 [02:02<2:36:05,  1.31s/it]"
     ]
    },
    {
     "name": "stdout",
     "output_type": "stream",
     "text": [
      "RPQS Saint-Georges-sur-Renon assainissement collectif 2015\n",
      "RAD Saint-Georges-sur-Renon assainissement collectif 2015\n",
      "Rapport du maire Saint-Georges-sur-Renon assainissement collectif 2015\n"
     ]
    },
    {
     "name": "stderr",
     "output_type": "stream",
     "text": [
      "  1%|▏         | 91/7252 [02:03<2:29:25,  1.25s/it]"
     ]
    },
    {
     "name": "stdout",
     "output_type": "stream",
     "text": [
      "RPQS Saint-Jean-de-Niost assainissement collectif 2015\n",
      "RAD Saint-Jean-de-Niost assainissement collectif 2015\n",
      "Rapport du maire Saint-Jean-de-Niost assainissement collectif 2015\n"
     ]
    },
    {
     "name": "stderr",
     "output_type": "stream",
     "text": [
      "  1%|▏         | 92/7252 [02:05<2:29:22,  1.25s/it]"
     ]
    },
    {
     "name": "stdout",
     "output_type": "stream",
     "text": [
      "RPQS Saint-Jean-le-Vieux assainissement collectif 2015\n",
      "RAD Saint-Jean-le-Vieux assainissement collectif 2015\n",
      "Rapport du maire Saint-Jean-le-Vieux assainissement collectif 2015\n"
     ]
    },
    {
     "name": "stderr",
     "output_type": "stream",
     "text": [
      "  1%|▏         | 93/7252 [02:06<2:29:44,  1.25s/it]"
     ]
    },
    {
     "name": "stdout",
     "output_type": "stream",
     "text": [
      "RPQS Saint-Julien-sur-Veyle assainissement collectif 2015\n",
      "RAD Saint-Julien-sur-Veyle assainissement collectif 2015\n",
      "Rapport du maire Saint-Julien-sur-Veyle assainissement collectif 2015\n"
     ]
    },
    {
     "name": "stderr",
     "output_type": "stream",
     "text": [
      "  1%|▏         | 94/7252 [02:07<2:23:10,  1.20s/it]"
     ]
    },
    {
     "name": "stdout",
     "output_type": "stream",
     "text": [
      "RPQS Saint-Laurent-sur-Saone assainissement collectif 2015\n",
      "RAD Saint-Laurent-sur-Saone assainissement collectif 2015\n",
      "Rapport du maire Saint-Laurent-sur-Saone assainissement collectif 2015\n"
     ]
    },
    {
     "name": "stderr",
     "output_type": "stream",
     "text": [
      "  1%|▏         | 95/7252 [02:09<2:37:24,  1.32s/it]"
     ]
    },
    {
     "name": "stdout",
     "output_type": "stream",
     "text": [
      "RPQS Saint-Martin-du-Frene assainissement collectif 2015\n",
      "RAD Saint-Martin-du-Frene assainissement collectif 2015\n",
      "Rapport du maire Saint-Martin-du-Frene assainissement collectif 2015\n"
     ]
    },
    {
     "name": "stderr",
     "output_type": "stream",
     "text": [
      "  1%|▏         | 96/7252 [02:10<2:41:01,  1.35s/it]"
     ]
    },
    {
     "name": "stdout",
     "output_type": "stream",
     "text": [
      "RPQS Saint-Maurice-de-Beynost assainissement collectif 2015\n",
      "RAD Saint-Maurice-de-Beynost assainissement collectif 2015\n",
      "Rapport du maire Saint-Maurice-de-Beynost assainissement collectif 2015\n"
     ]
    },
    {
     "name": "stderr",
     "output_type": "stream",
     "text": [
      "  1%|▏         | 97/7252 [02:11<2:40:14,  1.34s/it]"
     ]
    },
    {
     "name": "stdout",
     "output_type": "stream",
     "text": [
      "RPQS Saint-Maurice-de-Remens assainissement collectif 2015\n",
      "RAD Saint-Maurice-de-Remens assainissement collectif 2015\n",
      "Rapport du maire Saint-Maurice-de-Remens assainissement collectif 2015\n"
     ]
    },
    {
     "name": "stderr",
     "output_type": "stream",
     "text": [
      "  1%|▏         | 98/7252 [02:13<2:42:38,  1.36s/it]"
     ]
    },
    {
     "name": "stdout",
     "output_type": "stream",
     "text": [
      "RPQS Saint-Remy assainissement collectif 2015\n",
      "RAD Saint-Remy assainissement collectif 2015\n",
      "Rapport du maire Saint-Remy assainissement collectif 2015\n"
     ]
    },
    {
     "name": "stderr",
     "output_type": "stream",
     "text": [
      "  1%|▏         | 99/7252 [02:14<2:50:19,  1.43s/it]"
     ]
    },
    {
     "name": "stdout",
     "output_type": "stream",
     "text": [
      "RPQS Saint-Vulbas assainissement collectif 2015\n",
      "RAD Saint-Vulbas assainissement collectif 2015\n",
      "Rapport du maire Saint-Vulbas assainissement collectif 2015\n"
     ]
    },
    {
     "name": "stderr",
     "output_type": "stream",
     "text": [
      "  1%|▏         | 100/7252 [02:16<2:42:47,  1.37s/it]"
     ]
    },
    {
     "name": "stdout",
     "output_type": "stream",
     "text": [
      "RPQS Sandrans assainissement collectif 2015\n",
      "RAD Sandrans assainissement collectif 2015\n",
      "Rapport du maire Sandrans assainissement collectif 2015\n"
     ]
    },
    {
     "name": "stderr",
     "output_type": "stream",
     "text": [
      "  1%|▏         | 101/7252 [02:17<2:42:08,  1.36s/it]"
     ]
    },
    {
     "name": "stdout",
     "output_type": "stream",
     "text": [
      "RPQS Seillonnaz assainissement collectif 2015\n",
      "RAD Seillonnaz assainissement collectif 2015\n",
      "Rapport du maire Seillonnaz assainissement collectif 2015\n"
     ]
    },
    {
     "name": "stderr",
     "output_type": "stream",
     "text": [
      "  1%|▏         | 102/7252 [02:18<2:39:50,  1.34s/it]"
     ]
    },
    {
     "name": "stdout",
     "output_type": "stream",
     "text": [
      "RPQS Serrieres-sur-Ain assainissement collectif 2015\n",
      "RAD Serrieres-sur-Ain assainissement collectif 2015\n",
      "Rapport du maire Serrieres-sur-Ain assainissement collectif 2015\n"
     ]
    },
    {
     "name": "stderr",
     "output_type": "stream",
     "text": [
      "  1%|▏         | 103/7252 [02:20<2:47:12,  1.40s/it]"
     ]
    },
    {
     "name": "stdout",
     "output_type": "stream",
     "text": [
      "RPQS SONGIEU assainissement collectif 2015\n",
      "RAD SONGIEU assainissement collectif 2015\n",
      "Rapport du maire SONGIEU assainissement collectif 2015\n"
     ]
    },
    {
     "name": "stderr",
     "output_type": "stream",
     "text": [
      "  1%|▏         | 104/7252 [02:21<2:50:05,  1.43s/it]"
     ]
    },
    {
     "name": "stdout",
     "output_type": "stream",
     "text": [
      "RPQS Sonthonnax-la-Montagne assainissement collectif 2015\n",
      "RAD Sonthonnax-la-Montagne assainissement collectif 2015\n",
      "Rapport du maire Sonthonnax-la-Montagne assainissement collectif 2015\n"
     ]
    },
    {
     "name": "stderr",
     "output_type": "stream",
     "text": [
      "  1%|▏         | 105/7252 [02:23<3:01:10,  1.52s/it]"
     ]
    },
    {
     "name": "stdout",
     "output_type": "stream",
     "text": [
      "RPQS Surjoux assainissement collectif 2015\n",
      "RAD Surjoux assainissement collectif 2015\n",
      "Rapport du maire Surjoux assainissement collectif 2015\n"
     ]
    },
    {
     "name": "stderr",
     "output_type": "stream",
     "text": [
      "  1%|▏         | 106/7252 [02:25<3:01:11,  1.52s/it]"
     ]
    },
    {
     "name": "stdout",
     "output_type": "stream",
     "text": [
      "RPQS Sutrieu assainissement collectif 2015\n",
      "RAD Sutrieu assainissement collectif 2015\n",
      "Rapport du maire Sutrieu assainissement collectif 2015\n"
     ]
    },
    {
     "name": "stderr",
     "output_type": "stream",
     "text": [
      "  1%|▏         | 107/7252 [02:26<2:57:08,  1.49s/it]"
     ]
    },
    {
     "name": "stdout",
     "output_type": "stream",
     "text": [
      "RPQS Thil assainissement collectif 2015\n",
      "RAD Thil assainissement collectif 2015\n",
      "Rapport du maire Thil assainissement collectif 2015\n"
     ]
    },
    {
     "name": "stderr",
     "output_type": "stream",
     "text": [
      "  1%|▏         | 108/7252 [02:27<2:45:18,  1.39s/it]"
     ]
    },
    {
     "name": "stdout",
     "output_type": "stream",
     "text": [
      "RPQS TREFFORT-CUISIAT assainissement collectif 2015\n",
      "RAD TREFFORT-CUISIAT assainissement collectif 2015\n",
      "Rapport du maire TREFFORT-CUISIAT assainissement collectif 2015\n"
     ]
    },
    {
     "name": "stderr",
     "output_type": "stream",
     "text": [
      "  2%|▏         | 109/7252 [02:29<2:55:20,  1.47s/it]"
     ]
    },
    {
     "name": "stdout",
     "output_type": "stream",
     "text": [
      "RPQS Vaux-en-Bugey assainissement collectif 2015\n",
      "RAD Vaux-en-Bugey assainissement collectif 2015\n",
      "Rapport du maire Vaux-en-Bugey assainissement collectif 2015\n"
     ]
    },
    {
     "name": "stderr",
     "output_type": "stream",
     "text": [
      "  2%|▏         | 110/7252 [02:30<2:52:27,  1.45s/it]"
     ]
    },
    {
     "name": "stdout",
     "output_type": "stream",
     "text": [
      "RPQS Vernoux assainissement collectif 2015\n",
      "RAD Vernoux assainissement collectif 2015\n",
      "Rapport du maire Vernoux assainissement collectif 2015\n"
     ]
    },
    {
     "name": "stderr",
     "output_type": "stream",
     "text": [
      "  2%|▏         | 111/7252 [02:31<2:47:15,  1.41s/it]"
     ]
    },
    {
     "name": "stdout",
     "output_type": "stream",
     "text": [
      "RPQS Vescours assainissement collectif 2015\n",
      "RAD Vescours assainissement collectif 2015\n",
      "Rapport du maire Vescours assainissement collectif 2015\n"
     ]
    },
    {
     "name": "stderr",
     "output_type": "stream",
     "text": [
      "  2%|▏         | 112/7252 [02:33<2:45:24,  1.39s/it]"
     ]
    },
    {
     "name": "stdout",
     "output_type": "stream",
     "text": [
      "RPQS Villes assainissement collectif 2015\n",
      "RAD Villes assainissement collectif 2015\n",
      "Rapport du maire Villes assainissement collectif 2015\n"
     ]
    },
    {
     "name": "stderr",
     "output_type": "stream",
     "text": [
      "  2%|▏         | 113/7252 [02:34<2:37:54,  1.33s/it]"
     ]
    },
    {
     "name": "stdout",
     "output_type": "stream",
     "text": [
      "RPQS Vongnes assainissement collectif 2015\n",
      "RAD Vongnes assainissement collectif 2015\n",
      "Rapport du maire Vongnes assainissement collectif 2015\n"
     ]
    },
    {
     "name": "stderr",
     "output_type": "stream",
     "text": [
      "  2%|▏         | 114/7252 [02:36<2:42:51,  1.37s/it]"
     ]
    },
    {
     "name": "stdout",
     "output_type": "stream",
     "text": [
      "RPQS Aguilcourt assainissement collectif 2015\n",
      "RAD Aguilcourt assainissement collectif 2015\n",
      "Rapport du maire Aguilcourt assainissement collectif 2015\n"
     ]
    },
    {
     "name": "stderr",
     "output_type": "stream",
     "text": [
      "  2%|▏         | 115/7252 [02:37<2:35:41,  1.31s/it]"
     ]
    },
    {
     "name": "stdout",
     "output_type": "stream",
     "text": [
      "RPQS Cessieres assainissement collectif 2015\n",
      "RAD Cessieres assainissement collectif 2015\n",
      "Rapport du maire Cessieres assainissement collectif 2015\n"
     ]
    },
    {
     "name": "stderr",
     "output_type": "stream",
     "text": [
      "  2%|▏         | 116/7252 [02:38<2:36:49,  1.32s/it]"
     ]
    },
    {
     "name": "stdout",
     "output_type": "stream",
     "text": [
      "RPQS Chambry assainissement collectif 2015\n",
      "RAD Chambry assainissement collectif 2015\n",
      "Rapport du maire Chambry assainissement collectif 2015\n"
     ]
    },
    {
     "name": "stderr",
     "output_type": "stream",
     "text": [
      "  2%|▏         | 117/7252 [02:39<2:30:32,  1.27s/it]"
     ]
    },
    {
     "name": "stdout",
     "output_type": "stream",
     "text": [
      "RPQS Chamouille assainissement collectif 2015\n",
      "RAD Chamouille assainissement collectif 2015\n",
      "Rapport du maire Chamouille assainissement collectif 2015\n"
     ]
    },
    {
     "name": "stderr",
     "output_type": "stream",
     "text": [
      "  2%|▏         | 118/7252 [02:40<2:28:31,  1.25s/it]"
     ]
    },
    {
     "name": "stdout",
     "output_type": "stream",
     "text": [
      "RPQS Coyolles assainissement collectif 2015\n",
      "RAD Coyolles assainissement collectif 2015\n",
      "Rapport du maire Coyolles assainissement collectif 2015\n"
     ]
    },
    {
     "name": "stderr",
     "output_type": "stream",
     "text": [
      "  2%|▏         | 119/7252 [02:42<2:41:39,  1.36s/it]"
     ]
    },
    {
     "name": "stdout",
     "output_type": "stream",
     "text": [
      "RPQS Crouttes-sur-Marne assainissement collectif 2015\n",
      "RAD Crouttes-sur-Marne assainissement collectif 2015\n",
      "Rapport du maire Crouttes-sur-Marne assainissement collectif 2015\n"
     ]
    },
    {
     "name": "stderr",
     "output_type": "stream",
     "text": [
      "  2%|▏         | 120/7252 [02:43<2:31:19,  1.27s/it]"
     ]
    },
    {
     "name": "stdout",
     "output_type": "stream",
     "text": [
      "RPQS Guyencourt assainissement collectif 2015\n",
      "RAD Guyencourt assainissement collectif 2015\n",
      "Rapport du maire Guyencourt assainissement collectif 2015\n"
     ]
    },
    {
     "name": "stderr",
     "output_type": "stream",
     "text": [
      "  2%|▏         | 121/7252 [02:44<2:34:29,  1.30s/it]"
     ]
    },
    {
     "name": "stdout",
     "output_type": "stream",
     "text": [
      "RPQS Longpont assainissement collectif 2015\n",
      "RAD Longpont assainissement collectif 2015\n",
      "Rapport du maire Longpont assainissement collectif 2015\n"
     ]
    },
    {
     "name": "stderr",
     "output_type": "stream",
     "text": [
      "  2%|▏         | 122/7252 [02:46<2:37:42,  1.33s/it]"
     ]
    },
    {
     "name": "stdout",
     "output_type": "stream",
     "text": [
      "RPQS Neuville-sur-Ailette assainissement collectif 2015\n",
      "RAD Neuville-sur-Ailette assainissement collectif 2015\n",
      "Rapport du maire Neuville-sur-Ailette assainissement collectif 2015\n"
     ]
    },
    {
     "name": "stderr",
     "output_type": "stream",
     "text": [
      "  2%|▏         | 123/7252 [02:47<2:31:17,  1.27s/it]"
     ]
    },
    {
     "name": "stdout",
     "output_type": "stream",
     "text": [
      "RPQS Pavant assainissement collectif 2015\n",
      "RAD Pavant assainissement collectif 2015\n",
      "Rapport du maire Pavant assainissement collectif 2015\n"
     ]
    },
    {
     "name": "stderr",
     "output_type": "stream",
     "text": [
      "  2%|▏         | 124/7252 [02:48<2:38:30,  1.33s/it]"
     ]
    },
    {
     "name": "stdout",
     "output_type": "stream",
     "text": [
      "RPQS Grand-Rozoy assainissement collectif 2015\n",
      "RAD Grand-Rozoy assainissement collectif 2015\n",
      "Rapport du maire Grand-Rozoy assainissement collectif 2015\n"
     ]
    },
    {
     "name": "stderr",
     "output_type": "stream",
     "text": [
      "  2%|▏         | 125/7252 [02:50<2:37:44,  1.33s/it]"
     ]
    },
    {
     "name": "stdout",
     "output_type": "stream",
     "text": [
      "RPQS Trosly-Loire assainissement collectif 2015\n",
      "RAD Trosly-Loire assainissement collectif 2015\n",
      "Rapport du maire Trosly-Loire assainissement collectif 2015\n"
     ]
    },
    {
     "name": "stderr",
     "output_type": "stream",
     "text": [
      "  2%|▏         | 126/7252 [02:51<2:42:00,  1.36s/it]"
     ]
    },
    {
     "name": "stdout",
     "output_type": "stream",
     "text": [
      "RPQS Viels-Maisons assainissement collectif 2015\n",
      "RAD Viels-Maisons assainissement collectif 2015\n",
      "Rapport du maire Viels-Maisons assainissement collectif 2015\n"
     ]
    },
    {
     "name": "stderr",
     "output_type": "stream",
     "text": [
      "  2%|▏         | 127/7252 [02:52<2:31:25,  1.28s/it]"
     ]
    },
    {
     "name": "stdout",
     "output_type": "stream",
     "text": [
      "RPQS Ainay-le-Chateau assainissement collectif 2015\n",
      "RAD Ainay-le-Chateau assainissement collectif 2015\n",
      "Rapport du maire Ainay-le-Chateau assainissement collectif 2015\n"
     ]
    },
    {
     "name": "stderr",
     "output_type": "stream",
     "text": [
      "  2%|▏         | 128/7252 [02:54<2:39:32,  1.34s/it]"
     ]
    },
    {
     "name": "stdout",
     "output_type": "stream",
     "text": [
      "RPQS Arfeuilles assainissement collectif 2015\n",
      "RAD Arfeuilles assainissement collectif 2015\n",
      "Rapport du maire Arfeuilles assainissement collectif 2015\n"
     ]
    },
    {
     "name": "stderr",
     "output_type": "stream",
     "text": [
      "  2%|▏         | 129/7252 [02:55<2:34:03,  1.30s/it]"
     ]
    },
    {
     "name": "stdout",
     "output_type": "stream",
     "text": [
      "RPQS Avrilly assainissement collectif 2015\n",
      "RAD Avrilly assainissement collectif 2015\n",
      "Rapport du maire Avrilly assainissement collectif 2015\n"
     ]
    },
    {
     "name": "stderr",
     "output_type": "stream",
     "text": [
      "  2%|▏         | 130/7252 [02:56<2:34:22,  1.30s/it]"
     ]
    },
    {
     "name": "stdout",
     "output_type": "stream",
     "text": [
      "RPQS Beaulon assainissement collectif 2015\n",
      "RAD Beaulon assainissement collectif 2015\n",
      "Rapport du maire Beaulon assainissement collectif 2015\n"
     ]
    },
    {
     "name": "stderr",
     "output_type": "stream",
     "text": [
      "  2%|▏         | 131/7252 [02:58<2:36:38,  1.32s/it]"
     ]
    },
    {
     "name": "stdout",
     "output_type": "stream",
     "text": [
      "RPQS Billezois assainissement collectif 2015\n",
      "RAD Billezois assainissement collectif 2015\n",
      "Rapport du maire Billezois assainissement collectif 2015\n"
     ]
    },
    {
     "name": "stderr",
     "output_type": "stream",
     "text": [
      "  2%|▏         | 132/7252 [02:59<2:40:32,  1.35s/it]"
     ]
    },
    {
     "name": "stdout",
     "output_type": "stream",
     "text": [
      "RPQS Bouce assainissement collectif 2015\n",
      "RAD Bouce assainissement collectif 2015\n",
      "Rapport du maire Bouce assainissement collectif 2015\n"
     ]
    },
    {
     "name": "stderr",
     "output_type": "stream",
     "text": [
      "  2%|▏         | 133/7252 [03:00<2:40:14,  1.35s/it]"
     ]
    },
    {
     "name": "stdout",
     "output_type": "stream",
     "text": [
      "RPQS Braize assainissement collectif 2015\n",
      "RAD Braize assainissement collectif 2015\n",
      "Rapport du maire Braize assainissement collectif 2015\n"
     ]
    },
    {
     "name": "stderr",
     "output_type": "stream",
     "text": [
      "  2%|▏         | 134/7252 [03:02<2:44:32,  1.39s/it]"
     ]
    },
    {
     "name": "stdout",
     "output_type": "stream",
     "text": [
      "RPQS Bransat assainissement collectif 2015\n",
      "RAD Bransat assainissement collectif 2015\n",
      "Rapport du maire Bransat assainissement collectif 2015\n"
     ]
    },
    {
     "name": "stderr",
     "output_type": "stream",
     "text": [
      "  2%|▏         | 135/7252 [03:03<2:44:08,  1.38s/it]"
     ]
    },
    {
     "name": "stdout",
     "output_type": "stream",
     "text": [
      "RPQS LeBreuil assainissement collectif 2015\n",
      "RAD LeBreuil assainissement collectif 2015\n",
      "Rapport du maire LeBreuil assainissement collectif 2015\n"
     ]
    },
    {
     "name": "stderr",
     "output_type": "stream",
     "text": [
      "  2%|▏         | 136/7252 [03:05<2:50:50,  1.44s/it]"
     ]
    },
    {
     "name": "stdout",
     "output_type": "stream",
     "text": [
      "RPQS LaChapelle-aux-Chasses assainissement collectif 2015\n",
      "RAD LaChapelle-aux-Chasses assainissement collectif 2015\n",
      "Rapport du maire LaChapelle-aux-Chasses assainissement collectif 2015\n"
     ]
    },
    {
     "name": "stderr",
     "output_type": "stream",
     "text": [
      "  2%|▏         | 137/7252 [03:06<2:42:38,  1.37s/it]"
     ]
    },
    {
     "name": "stdout",
     "output_type": "stream",
     "text": [
      "RPQS Charmes assainissement collectif 2015\n",
      "RAD Charmes assainissement collectif 2015\n",
      "Rapport du maire Charmes assainissement collectif 2015\n"
     ]
    },
    {
     "name": "stderr",
     "output_type": "stream",
     "text": [
      "  2%|▏         | 138/7252 [03:08<2:47:51,  1.42s/it]"
     ]
    },
    {
     "name": "stdout",
     "output_type": "stream",
     "text": [
      "RPQS Charroux assainissement collectif 2015\n",
      "RAD Charroux assainissement collectif 2015\n",
      "Rapport du maire Charroux assainissement collectif 2015\n"
     ]
    },
    {
     "name": "stderr",
     "output_type": "stream",
     "text": [
      "  2%|▏         | 139/7252 [03:09<2:37:33,  1.33s/it]"
     ]
    },
    {
     "name": "stdout",
     "output_type": "stream",
     "text": [
      "RPQS Chassenard assainissement collectif 2015\n",
      "RAD Chassenard assainissement collectif 2015\n",
      "Rapport du maire Chassenard assainissement collectif 2015\n"
     ]
    },
    {
     "name": "stderr",
     "output_type": "stream",
     "text": [
      "  2%|▏         | 140/7252 [03:10<2:41:41,  1.36s/it]"
     ]
    },
    {
     "name": "stdout",
     "output_type": "stream",
     "text": [
      "RPQS Chatel-de-Neuvre assainissement collectif 2015\n",
      "RAD Chatel-de-Neuvre assainissement collectif 2015\n",
      "Rapport du maire Chatel-de-Neuvre assainissement collectif 2015\n"
     ]
    },
    {
     "name": "stderr",
     "output_type": "stream",
     "text": [
      "  2%|▏         | 141/7252 [03:12<2:45:07,  1.39s/it]"
     ]
    },
    {
     "name": "stdout",
     "output_type": "stream",
     "text": [
      "RPQS Chatel-Montagne assainissement collectif 2015\n",
      "RAD Chatel-Montagne assainissement collectif 2015\n",
      "Rapport du maire Chatel-Montagne assainissement collectif 2015\n"
     ]
    },
    {
     "name": "stderr",
     "output_type": "stream",
     "text": [
      "  2%|▏         | 142/7252 [03:13<2:42:01,  1.37s/it]"
     ]
    },
    {
     "name": "stdout",
     "output_type": "stream",
     "text": [
      "RPQS Chatelus assainissement collectif 2015\n",
      "RAD Chatelus assainissement collectif 2015\n",
      "Rapport du maire Chatelus assainissement collectif 2015\n"
     ]
    },
    {
     "name": "stderr",
     "output_type": "stream",
     "text": [
      "  2%|▏         | 143/7252 [03:14<2:44:09,  1.39s/it]"
     ]
    },
    {
     "name": "stdout",
     "output_type": "stream",
     "text": [
      "RPQS Chatillon assainissement collectif 2015\n",
      "RAD Chatillon assainissement collectif 2015\n",
      "Rapport du maire Chatillon assainissement collectif 2015\n"
     ]
    },
    {
     "name": "stderr",
     "output_type": "stream",
     "text": [
      "  2%|▏         | 144/7252 [03:16<2:41:52,  1.37s/it]"
     ]
    },
    {
     "name": "stdout",
     "output_type": "stream",
     "text": [
      "RPQS Chazemais assainissement collectif 2015\n",
      "RAD Chazemais assainissement collectif 2015\n",
      "Rapport du maire Chazemais assainissement collectif 2015\n"
     ]
    },
    {
     "name": "stderr",
     "output_type": "stream",
     "text": [
      "  2%|▏         | 145/7252 [03:17<2:39:22,  1.35s/it]"
     ]
    },
    {
     "name": "stdout",
     "output_type": "stream",
     "text": [
      "RPQS Chevagnes assainissement collectif 2015\n",
      "RAD Chevagnes assainissement collectif 2015\n",
      "Rapport du maire Chevagnes assainissement collectif 2015\n"
     ]
    },
    {
     "name": "stderr",
     "output_type": "stream",
     "text": [
      "  2%|▏         | 146/7252 [03:18<2:45:56,  1.40s/it]"
     ]
    },
    {
     "name": "stdout",
     "output_type": "stream",
     "text": [
      "RPQS Chouvigny assainissement collectif 2015\n",
      "RAD Chouvigny assainissement collectif 2015\n",
      "Rapport du maire Chouvigny assainissement collectif 2015\n"
     ]
    },
    {
     "name": "stderr",
     "output_type": "stream",
     "text": [
      "  2%|▏         | 147/7252 [03:20<2:46:24,  1.41s/it]"
     ]
    },
    {
     "name": "stdout",
     "output_type": "stream",
     "text": [
      "RPQS Cindre assainissement collectif 2015\n",
      "RAD Cindre assainissement collectif 2015\n",
      "Rapport du maire Cindre assainissement collectif 2015\n"
     ]
    },
    {
     "name": "stderr",
     "output_type": "stream",
     "text": [
      "  2%|▏         | 148/7252 [03:21<2:43:23,  1.38s/it]"
     ]
    },
    {
     "name": "stdout",
     "output_type": "stream",
     "text": [
      "RPQS Contigny assainissement collectif 2015\n",
      "RAD Contigny assainissement collectif 2015\n",
      "Rapport du maire Contigny assainissement collectif 2015\n"
     ]
    },
    {
     "name": "stderr",
     "output_type": "stream",
     "text": [
      "  2%|▏         | 149/7252 [03:23<2:48:42,  1.43s/it]"
     ]
    },
    {
     "name": "stdout",
     "output_type": "stream",
     "text": [
      "RPQS Deux-Chaises assainissement collectif 2015\n",
      "RAD Deux-Chaises assainissement collectif 2015\n",
      "Rapport du maire Deux-Chaises assainissement collectif 2015\n"
     ]
    },
    {
     "name": "stderr",
     "output_type": "stream",
     "text": [
      "  2%|▏         | 150/7252 [03:24<2:53:41,  1.47s/it]"
     ]
    },
    {
     "name": "stdout",
     "output_type": "stream",
     "text": [
      "RPQS Droiturier assainissement collectif 2015\n",
      "RAD Droiturier assainissement collectif 2015\n",
      "Rapport du maire Droiturier assainissement collectif 2015\n"
     ]
    },
    {
     "name": "stderr",
     "output_type": "stream",
     "text": [
      "  2%|▏         | 151/7252 [03:26<2:56:05,  1.49s/it]"
     ]
    },
    {
     "name": "stdout",
     "output_type": "stream",
     "text": [
      "RPQS Etroussat assainissement collectif 2015\n",
      "RAD Etroussat assainissement collectif 2015\n",
      "Rapport du maire Etroussat assainissement collectif 2015\n"
     ]
    },
    {
     "name": "stderr",
     "output_type": "stream",
     "text": [
      "  2%|▏         | 152/7252 [03:27<2:53:53,  1.47s/it]"
     ]
    },
    {
     "name": "stdout",
     "output_type": "stream",
     "text": [
      "RPQS Fleuriel assainissement collectif 2015\n",
      "RAD Fleuriel assainissement collectif 2015\n",
      "Rapport du maire Fleuriel assainissement collectif 2015\n"
     ]
    },
    {
     "name": "stderr",
     "output_type": "stream",
     "text": [
      "  2%|▏         | 153/7252 [03:29<2:52:53,  1.46s/it]"
     ]
    },
    {
     "name": "stdout",
     "output_type": "stream",
     "text": [
      "RPQS Gannay-sur-Loire assainissement collectif 2015\n",
      "RAD Gannay-sur-Loire assainissement collectif 2015\n",
      "Rapport du maire Gannay-sur-Loire assainissement collectif 2015\n"
     ]
    },
    {
     "name": "stderr",
     "output_type": "stream",
     "text": [
      "  2%|▏         | 154/7252 [03:30<2:56:05,  1.49s/it]"
     ]
    },
    {
     "name": "stdout",
     "output_type": "stream",
     "text": [
      "RPQS GIVARLAIS assainissement collectif 2015\n",
      "RAD GIVARLAIS assainissement collectif 2015\n",
      "Rapport du maire GIVARLAIS assainissement collectif 2015\n"
     ]
    },
    {
     "name": "stderr",
     "output_type": "stream",
     "text": [
      "  2%|▏         | 155/7252 [03:31<2:44:38,  1.39s/it]"
     ]
    },
    {
     "name": "stdout",
     "output_type": "stream",
     "text": [
      "RPQS Hyds assainissement collectif 2015\n",
      "RAD Hyds assainissement collectif 2015\n",
      "Rapport du maire Hyds assainissement collectif 2015\n"
     ]
    },
    {
     "name": "stderr",
     "output_type": "stream",
     "text": [
      "  2%|▏         | 156/7252 [03:33<2:56:23,  1.49s/it]"
     ]
    },
    {
     "name": "stdout",
     "output_type": "stream",
     "text": [
      "RPQS Isserpent assainissement collectif 2015\n",
      "RAD Isserpent assainissement collectif 2015\n",
      "Rapport du maire Isserpent assainissement collectif 2015\n"
     ]
    },
    {
     "name": "stderr",
     "output_type": "stream",
     "text": [
      "  2%|▏         | 157/7252 [03:34<2:46:50,  1.41s/it]"
     ]
    },
    {
     "name": "stdout",
     "output_type": "stream",
     "text": [
      "RPQS Jaligny-sur-Besbre assainissement collectif 2015\n",
      "RAD Jaligny-sur-Besbre assainissement collectif 2015\n",
      "Rapport du maire Jaligny-sur-Besbre assainissement collectif 2015\n"
     ]
    },
    {
     "name": "stderr",
     "output_type": "stream",
     "text": [
      "  2%|▏         | 158/7252 [03:36<2:44:46,  1.39s/it]"
     ]
    },
    {
     "name": "stdout",
     "output_type": "stream",
     "text": [
      "RPQS Langy assainissement collectif 2015\n",
      "RAD Langy assainissement collectif 2015\n",
      "Rapport du maire Langy assainissement collectif 2015\n"
     ]
    },
    {
     "name": "stderr",
     "output_type": "stream",
     "text": [
      "  2%|▏         | 159/7252 [03:37<2:45:18,  1.40s/it]"
     ]
    },
    {
     "name": "stdout",
     "output_type": "stream",
     "text": [
      "RPQS Louchy-Montfand assainissement collectif 2015\n",
      "RAD Louchy-Montfand assainissement collectif 2015\n",
      "Rapport du maire Louchy-Montfand assainissement collectif 2015\n"
     ]
    },
    {
     "name": "stderr",
     "output_type": "stream",
     "text": [
      "  2%|▏         | 160/7252 [03:39<2:51:24,  1.45s/it]"
     ]
    },
    {
     "name": "stdout",
     "output_type": "stream",
     "text": [
      "RPQS LOUROUX-HODEMENT assainissement collectif 2015\n",
      "RAD LOUROUX-HODEMENT assainissement collectif 2015\n",
      "Rapport du maire LOUROUX-HODEMENT assainissement collectif 2015\n"
     ]
    },
    {
     "name": "stderr",
     "output_type": "stream",
     "text": [
      "  2%|▏         | 161/7252 [03:40<2:59:41,  1.52s/it]"
     ]
    },
    {
     "name": "stdout",
     "output_type": "stream",
     "text": [
      "RPQS Lurcy-Levis assainissement collectif 2015\n",
      "RAD Lurcy-Levis assainissement collectif 2015\n",
      "Rapport du maire Lurcy-Levis assainissement collectif 2015\n"
     ]
    },
    {
     "name": "stderr",
     "output_type": "stream",
     "text": [
      "  2%|▏         | 162/7252 [03:42<2:54:25,  1.48s/it]"
     ]
    },
    {
     "name": "stdout",
     "output_type": "stream",
     "text": [
      "RPQS Mesples assainissement collectif 2015\n",
      "RAD Mesples assainissement collectif 2015\n",
      "Rapport du maire Mesples assainissement collectif 2015\n"
     ]
    },
    {
     "name": "stderr",
     "output_type": "stream",
     "text": [
      "  2%|▏         | 163/7252 [03:43<2:53:09,  1.47s/it]"
     ]
    },
    {
     "name": "stdout",
     "output_type": "stream",
     "text": [
      "RPQS Monestier assainissement collectif 2015\n",
      "RAD Monestier assainissement collectif 2015\n",
      "Rapport du maire Monestier assainissement collectif 2015\n"
     ]
    },
    {
     "name": "stderr",
     "output_type": "stream",
     "text": [
      "  2%|▏         | 164/7252 [03:45<2:51:56,  1.46s/it]"
     ]
    },
    {
     "name": "stdout",
     "output_type": "stream",
     "text": [
      "RPQS Montord assainissement collectif 2015\n",
      "RAD Montord assainissement collectif 2015\n",
      "Rapport du maire Montord assainissement collectif 2015\n"
     ]
    },
    {
     "name": "stderr",
     "output_type": "stream",
     "text": [
      "  2%|▏         | 165/7252 [03:46<2:43:38,  1.39s/it]"
     ]
    },
    {
     "name": "stdout",
     "output_type": "stream",
     "text": [
      "RPQS Neris-les-Bains assainissement collectif 2015\n",
      "RAD Neris-les-Bains assainissement collectif 2015\n",
      "Rapport du maire Neris-les-Bains assainissement collectif 2015\n"
     ]
    },
    {
     "name": "stderr",
     "output_type": "stream",
     "text": [
      "  2%|▏         | 166/7252 [03:47<2:41:39,  1.37s/it]"
     ]
    },
    {
     "name": "stdout",
     "output_type": "stream",
     "text": [
      "RPQS Paray-sous-Briailles assainissement collectif 2015\n",
      "RAD Paray-sous-Briailles assainissement collectif 2015\n",
      "Rapport du maire Paray-sous-Briailles assainissement collectif 2015\n"
     ]
    },
    {
     "name": "stderr",
     "output_type": "stream",
     "text": [
      "  2%|▏         | 167/7252 [03:48<2:37:40,  1.34s/it]"
     ]
    },
    {
     "name": "stdout",
     "output_type": "stream",
     "text": [
      "RPQS Perigny assainissement collectif 2015\n",
      "RAD Perigny assainissement collectif 2015\n",
      "Rapport du maire Perigny assainissement collectif 2015\n"
     ]
    },
    {
     "name": "stderr",
     "output_type": "stream",
     "text": [
      "  2%|▏         | 168/7252 [03:50<2:46:01,  1.41s/it]"
     ]
    },
    {
     "name": "stdout",
     "output_type": "stream",
     "text": [
      "RPQS LaPetite-Marche assainissement collectif 2015\n",
      "RAD LaPetite-Marche assainissement collectif 2015\n",
      "Rapport du maire LaPetite-Marche assainissement collectif 2015\n"
     ]
    },
    {
     "name": "stderr",
     "output_type": "stream",
     "text": [
      "  2%|▏         | 169/7252 [03:52<2:49:04,  1.43s/it]"
     ]
    },
    {
     "name": "stdout",
     "output_type": "stream",
     "text": [
      "RPQS Pierrefitte-sur-Loire assainissement collectif 2015\n",
      "RAD Pierrefitte-sur-Loire assainissement collectif 2015\n",
      "Rapport du maire Pierrefitte-sur-Loire assainissement collectif 2015\n"
     ]
    },
    {
     "name": "stderr",
     "output_type": "stream",
     "text": [
      "  2%|▏         | 170/7252 [03:53<2:39:43,  1.35s/it]"
     ]
    },
    {
     "name": "stdout",
     "output_type": "stream",
     "text": [
      "RPQS Saint-Bonnet-de-Four assainissement collectif 2015\n",
      "RAD Saint-Bonnet-de-Four assainissement collectif 2015\n",
      "Rapport du maire Saint-Bonnet-de-Four assainissement collectif 2015\n"
     ]
    },
    {
     "name": "stderr",
     "output_type": "stream",
     "text": [
      "  2%|▏         | 171/7252 [03:54<2:34:43,  1.31s/it]"
     ]
    },
    {
     "name": "stdout",
     "output_type": "stream",
     "text": [
      "RPQS Saint-Desire assainissement collectif 2015\n",
      "RAD Saint-Desire assainissement collectif 2015\n",
      "Rapport du maire Saint-Desire assainissement collectif 2015\n"
     ]
    },
    {
     "name": "stderr",
     "output_type": "stream",
     "text": [
      "  2%|▏         | 172/7252 [03:55<2:25:30,  1.23s/it]"
     ]
    },
    {
     "name": "stdout",
     "output_type": "stream",
     "text": [
      "RPQS Saint-Etienne-de-Vicq assainissement collectif 2015\n",
      "RAD Saint-Etienne-de-Vicq assainissement collectif 2015\n",
      "Rapport du maire Saint-Etienne-de-Vicq assainissement collectif 2015\n"
     ]
    },
    {
     "name": "stderr",
     "output_type": "stream",
     "text": [
      "  2%|▏         | 173/7252 [03:56<2:32:55,  1.30s/it]"
     ]
    },
    {
     "name": "stdout",
     "output_type": "stream",
     "text": [
      "RPQS Saint-Fargeol assainissement collectif 2015\n",
      "RAD Saint-Fargeol assainissement collectif 2015\n",
      "Rapport du maire Saint-Fargeol assainissement collectif 2015\n"
     ]
    },
    {
     "name": "stderr",
     "output_type": "stream",
     "text": [
      "  2%|▏         | 174/7252 [03:58<2:29:32,  1.27s/it]"
     ]
    },
    {
     "name": "stdout",
     "output_type": "stream",
     "text": [
      "RPQS Saint-Felix assainissement collectif 2015\n",
      "RAD Saint-Felix assainissement collectif 2015\n",
      "Rapport du maire Saint-Felix assainissement collectif 2015\n"
     ]
    },
    {
     "name": "stderr",
     "output_type": "stream",
     "text": [
      "  2%|▏         | 175/7252 [03:59<2:28:04,  1.26s/it]"
     ]
    },
    {
     "name": "stdout",
     "output_type": "stream",
     "text": [
      "RPQS Saint-Gerand-de-Vaux assainissement collectif 2015\n",
      "RAD Saint-Gerand-de-Vaux assainissement collectif 2015\n",
      "Rapport du maire Saint-Gerand-de-Vaux assainissement collectif 2015\n"
     ]
    },
    {
     "name": "stderr",
     "output_type": "stream",
     "text": [
      "  2%|▏         | 176/7252 [04:00<2:39:04,  1.35s/it]"
     ]
    },
    {
     "name": "stdout",
     "output_type": "stream",
     "text": [
      "RPQS Saint-Gerand-le-Puy assainissement collectif 2015\n",
      "RAD Saint-Gerand-le-Puy assainissement collectif 2015\n",
      "Rapport du maire Saint-Gerand-le-Puy assainissement collectif 2015\n"
     ]
    },
    {
     "name": "stderr",
     "output_type": "stream",
     "text": [
      "  2%|▏         | 177/7252 [04:02<2:35:01,  1.31s/it]"
     ]
    },
    {
     "name": "stdout",
     "output_type": "stream",
     "text": [
      "RPQS Saint-Hilaire assainissement collectif 2015\n",
      "RAD Saint-Hilaire assainissement collectif 2015\n",
      "Rapport du maire Saint-Hilaire assainissement collectif 2015\n"
     ]
    },
    {
     "name": "stderr",
     "output_type": "stream",
     "text": [
      "  2%|▏         | 178/7252 [04:03<2:35:46,  1.32s/it]"
     ]
    },
    {
     "name": "stdout",
     "output_type": "stream",
     "text": [
      "RPQS Saint-Marcel-en-Marcillat assainissement collectif 2015\n",
      "RAD Saint-Marcel-en-Marcillat assainissement collectif 2015\n",
      "Rapport du maire Saint-Marcel-en-Marcillat assainissement collectif 2015\n"
     ]
    },
    {
     "name": "stderr",
     "output_type": "stream",
     "text": [
      "  2%|▏         | 179/7252 [04:04<2:36:55,  1.33s/it]"
     ]
    },
    {
     "name": "stdout",
     "output_type": "stream",
     "text": [
      "RPQS Saint-Martinien assainissement collectif 2015\n",
      "RAD Saint-Martinien assainissement collectif 2015\n",
      "Rapport du maire Saint-Martinien assainissement collectif 2015\n"
     ]
    },
    {
     "name": "stderr",
     "output_type": "stream",
     "text": [
      "  2%|▏         | 180/7252 [04:06<2:39:49,  1.36s/it]"
     ]
    },
    {
     "name": "stdout",
     "output_type": "stream",
     "text": [
      "RPQS Saint-Pourcain-sur-Besbre assainissement collectif 2015\n",
      "RAD Saint-Pourcain-sur-Besbre assainissement collectif 2015\n",
      "Rapport du maire Saint-Pourcain-sur-Besbre assainissement collectif 2015\n"
     ]
    },
    {
     "name": "stderr",
     "output_type": "stream",
     "text": [
      "  2%|▏         | 181/7252 [04:07<2:42:18,  1.38s/it]"
     ]
    },
    {
     "name": "stdout",
     "output_type": "stream",
     "text": [
      "RPQS Saint-Pourcain-sur-Sioule assainissement collectif 2015\n",
      "RAD Saint-Pourcain-sur-Sioule assainissement collectif 2015\n",
      "Rapport du maire Saint-Pourcain-sur-Sioule assainissement collectif 2015\n"
     ]
    },
    {
     "name": "stderr",
     "output_type": "stream",
     "text": [
      "  3%|▎         | 182/7252 [04:08<2:30:46,  1.28s/it]"
     ]
    },
    {
     "name": "stdout",
     "output_type": "stream",
     "text": [
      "RPQS Saint-Priest-d'Andelot assainissement collectif 2015\n",
      "RAD Saint-Priest-d'Andelot assainissement collectif 2015\n",
      "Rapport du maire Saint-Priest-d'Andelot assainissement collectif 2015\n"
     ]
    },
    {
     "name": "stderr",
     "output_type": "stream",
     "text": [
      "  3%|▎         | 183/7252 [04:09<2:30:26,  1.28s/it]"
     ]
    },
    {
     "name": "stdout",
     "output_type": "stream",
     "text": [
      "RPQS Saint-Prix assainissement collectif 2015\n",
      "RAD Saint-Prix assainissement collectif 2015\n",
      "Rapport du maire Saint-Prix assainissement collectif 2015\n"
     ]
    },
    {
     "name": "stderr",
     "output_type": "stream",
     "text": [
      "  3%|▎         | 184/7252 [04:11<2:45:58,  1.41s/it]"
     ]
    },
    {
     "name": "stdout",
     "output_type": "stream",
     "text": [
      "RPQS Saint-Sornin assainissement collectif 2015\n",
      "RAD Saint-Sornin assainissement collectif 2015\n",
      "Rapport du maire Saint-Sornin assainissement collectif 2015\n"
     ]
    },
    {
     "name": "stderr",
     "output_type": "stream",
     "text": [
      "  3%|▎         | 185/7252 [04:13<2:43:16,  1.39s/it]"
     ]
    },
    {
     "name": "stdout",
     "output_type": "stream",
     "text": [
      "RPQS Saulzet assainissement collectif 2015\n",
      "RAD Saulzet assainissement collectif 2015\n",
      "Rapport du maire Saulzet assainissement collectif 2015\n"
     ]
    },
    {
     "name": "stderr",
     "output_type": "stream",
     "text": [
      "  3%|▎         | 186/7252 [04:14<2:37:17,  1.34s/it]"
     ]
    },
    {
     "name": "stdout",
     "output_type": "stream",
     "text": [
      "RPQS Sorbier assainissement collectif 2015\n",
      "RAD Sorbier assainissement collectif 2015\n",
      "Rapport du maire Sorbier assainissement collectif 2015\n"
     ]
    },
    {
     "name": "stderr",
     "output_type": "stream",
     "text": [
      "  3%|▎         | 187/7252 [04:15<2:41:15,  1.37s/it]"
     ]
    },
    {
     "name": "stdout",
     "output_type": "stream",
     "text": [
      "RPQS Target assainissement collectif 2015\n",
      "RAD Target assainissement collectif 2015\n",
      "Rapport du maire Target assainissement collectif 2015\n"
     ]
    },
    {
     "name": "stderr",
     "output_type": "stream",
     "text": [
      "  3%|▎         | 188/7252 [04:16<2:32:28,  1.30s/it]"
     ]
    },
    {
     "name": "stdout",
     "output_type": "stream",
     "text": [
      "RPQS Treban assainissement collectif 2015\n",
      "RAD Treban assainissement collectif 2015\n",
      "Rapport du maire Treban assainissement collectif 2015\n"
     ]
    },
    {
     "name": "stderr",
     "output_type": "stream",
     "text": [
      "  3%|▎         | 189/7252 [04:18<2:38:09,  1.34s/it]"
     ]
    },
    {
     "name": "stdout",
     "output_type": "stream",
     "text": [
      "RPQS Varennes-sur-Allier assainissement collectif 2015\n",
      "RAD Varennes-sur-Allier assainissement collectif 2015\n",
      "Rapport du maire Varennes-sur-Allier assainissement collectif 2015\n"
     ]
    },
    {
     "name": "stderr",
     "output_type": "stream",
     "text": [
      "  3%|▎         | 190/7252 [04:19<2:33:34,  1.30s/it]"
     ]
    },
    {
     "name": "stdout",
     "output_type": "stream",
     "text": [
      "RPQS Vaux assainissement collectif 2015\n",
      "RAD Vaux assainissement collectif 2015\n",
      "Rapport du maire Vaux assainissement collectif 2015\n"
     ]
    },
    {
     "name": "stderr",
     "output_type": "stream",
     "text": [
      "  3%|▎         | 191/7252 [04:20<2:27:37,  1.25s/it]"
     ]
    },
    {
     "name": "stdout",
     "output_type": "stream",
     "text": [
      "RPQS Majastres assainissement collectif 2015\n",
      "RAD Majastres assainissement collectif 2015\n",
      "Rapport du maire Majastres assainissement collectif 2015\n"
     ]
    },
    {
     "name": "stderr",
     "output_type": "stream",
     "text": [
      "  3%|▎         | 192/7252 [04:22<2:43:37,  1.39s/it]"
     ]
    },
    {
     "name": "stdout",
     "output_type": "stream",
     "text": [
      "RPQS Mane assainissement collectif 2015\n",
      "RAD Mane assainissement collectif 2015\n",
      "Rapport du maire Mane assainissement collectif 2015\n"
     ]
    },
    {
     "name": "stderr",
     "output_type": "stream",
     "text": [
      "  3%|▎         | 193/7252 [04:23<2:43:03,  1.39s/it]"
     ]
    },
    {
     "name": "stdout",
     "output_type": "stream",
     "text": [
      "RPQS Saint-Pierre assainissement collectif 2015\n",
      "RAD Saint-Pierre assainissement collectif 2015\n",
      "Rapport du maire Saint-Pierre assainissement collectif 2015\n"
     ]
    },
    {
     "name": "stderr",
     "output_type": "stream",
     "text": [
      "  3%|▎         | 194/7252 [04:24<2:34:48,  1.32s/it]"
     ]
    },
    {
     "name": "stdout",
     "output_type": "stream",
     "text": [
      "RPQS Aiguilles assainissement collectif 2015\n",
      "RAD Aiguilles assainissement collectif 2015\n",
      "Rapport du maire Aiguilles assainissement collectif 2015\n"
     ]
    },
    {
     "name": "stderr",
     "output_type": "stream",
     "text": [
      "  3%|▎         | 195/7252 [04:26<2:41:25,  1.37s/it]"
     ]
    },
    {
     "name": "stdout",
     "output_type": "stream",
     "text": [
      "RPQS Arvieux assainissement collectif 2015\n",
      "RAD Arvieux assainissement collectif 2015\n",
      "Rapport du maire Arvieux assainissement collectif 2015\n"
     ]
    },
    {
     "name": "stderr",
     "output_type": "stream",
     "text": [
      "  3%|▎         | 196/7252 [04:27<2:44:11,  1.40s/it]"
     ]
    },
    {
     "name": "stdout",
     "output_type": "stream",
     "text": [
      "RPQS Avancon assainissement collectif 2015\n",
      "RAD Avancon assainissement collectif 2015\n",
      "Rapport du maire Avancon assainissement collectif 2015\n"
     ]
    },
    {
     "name": "stderr",
     "output_type": "stream",
     "text": [
      "  3%|▎         | 197/7252 [04:29<2:41:00,  1.37s/it]"
     ]
    },
    {
     "name": "stdout",
     "output_type": "stream",
     "text": [
      "RPQS Barcillonnette assainissement collectif 2015\n",
      "RAD Barcillonnette assainissement collectif 2015\n",
      "Rapport du maire Barcillonnette assainissement collectif 2015\n"
     ]
    },
    {
     "name": "stderr",
     "output_type": "stream",
     "text": [
      "  3%|▎         | 198/7252 [04:30<2:45:55,  1.41s/it]"
     ]
    },
    {
     "name": "stdout",
     "output_type": "stream",
     "text": [
      "RPQS LaBatie-Montsaleon assainissement collectif 2015\n",
      "RAD LaBatie-Montsaleon assainissement collectif 2015\n",
      "Rapport du maire LaBatie-Montsaleon assainissement collectif 2015\n"
     ]
    },
    {
     "name": "stderr",
     "output_type": "stream",
     "text": [
      "  3%|▎         | 199/7252 [04:32<2:48:26,  1.43s/it]"
     ]
    },
    {
     "name": "stdout",
     "output_type": "stream",
     "text": [
      "RPQS Buissard assainissement collectif 2015\n",
      "RAD Buissard assainissement collectif 2015\n",
      "Rapport du maire Buissard assainissement collectif 2015\n"
     ]
    },
    {
     "name": "stderr",
     "output_type": "stream",
     "text": [
      "  3%|▎         | 200/7252 [04:33<2:51:17,  1.46s/it]"
     ]
    },
    {
     "name": "stdout",
     "output_type": "stream",
     "text": [
      "RPQS Ceillac assainissement collectif 2015\n",
      "RAD Ceillac assainissement collectif 2015\n",
      "Rapport du maire Ceillac assainissement collectif 2015\n"
     ]
    },
    {
     "name": "stderr",
     "output_type": "stream",
     "text": [
      "  3%|▎         | 201/7252 [04:34<2:48:05,  1.43s/it]"
     ]
    },
    {
     "name": "stdout",
     "output_type": "stream",
     "text": [
      "RPQS Chabestan assainissement collectif 2015\n",
      "RAD Chabestan assainissement collectif 2015\n",
      "Rapport du maire Chabestan assainissement collectif 2015\n"
     ]
    },
    {
     "name": "stderr",
     "output_type": "stream",
     "text": [
      "  3%|▎         | 202/7252 [04:36<2:46:27,  1.42s/it]"
     ]
    },
    {
     "name": "stdout",
     "output_type": "stream",
     "text": [
      "RPQS Chabottes assainissement collectif 2015\n",
      "RAD Chabottes assainissement collectif 2015\n",
      "Rapport du maire Chabottes assainissement collectif 2015\n"
     ]
    },
    {
     "name": "stderr",
     "output_type": "stream",
     "text": [
      "  3%|▎         | 203/7252 [04:37<2:40:54,  1.37s/it]"
     ]
    },
    {
     "name": "stdout",
     "output_type": "stream",
     "text": [
      "RPQS Chateauvieux assainissement collectif 2015\n",
      "RAD Chateauvieux assainissement collectif 2015\n",
      "Rapport du maire Chateauvieux assainissement collectif 2015\n"
     ]
    },
    {
     "name": "stderr",
     "output_type": "stream",
     "text": [
      "  3%|▎         | 204/7252 [04:38<2:32:54,  1.30s/it]"
     ]
    },
    {
     "name": "stdout",
     "output_type": "stream",
     "text": [
      "RPQS EYGUIANS assainissement collectif 2015\n",
      "RAD EYGUIANS assainissement collectif 2015\n",
      "Rapport du maire EYGUIANS assainissement collectif 2015\n"
     ]
    },
    {
     "name": "stderr",
     "output_type": "stream",
     "text": [
      "  3%|▎         | 205/7252 [04:39<2:28:18,  1.26s/it]"
     ]
    },
    {
     "name": "stdout",
     "output_type": "stream",
     "text": [
      "RPQS LaFreissinouse assainissement collectif 2015\n",
      "RAD LaFreissinouse assainissement collectif 2015\n",
      "Rapport du maire LaFreissinouse assainissement collectif 2015\n"
     ]
    },
    {
     "name": "stderr",
     "output_type": "stream",
     "text": [
      "  3%|▎         | 206/7252 [04:41<2:35:11,  1.32s/it]"
     ]
    },
    {
     "name": "stdout",
     "output_type": "stream",
     "text": [
      "RPQS Furmeyer assainissement collectif 2015\n",
      "RAD Furmeyer assainissement collectif 2015\n",
      "Rapport du maire Furmeyer assainissement collectif 2015\n"
     ]
    },
    {
     "name": "stderr",
     "output_type": "stream",
     "text": [
      "  3%|▎         | 207/7252 [04:42<2:36:02,  1.33s/it]"
     ]
    },
    {
     "name": "stdout",
     "output_type": "stream",
     "text": [
      "RPQS LaChapelle-en-Valgaudemar assainissement collectif 2015\n",
      "RAD LaChapelle-en-Valgaudemar assainissement collectif 2015\n",
      "Rapport du maire LaChapelle-en-Valgaudemar assainissement collectif 2015\n"
     ]
    },
    {
     "name": "stderr",
     "output_type": "stream",
     "text": [
      "  3%|▎         | 208/7252 [04:44<2:36:15,  1.33s/it]"
     ]
    },
    {
     "name": "stdout",
     "output_type": "stream",
     "text": [
      "RPQS Guillestre assainissement collectif 2015\n",
      "RAD Guillestre assainissement collectif 2015\n",
      "Rapport du maire Guillestre assainissement collectif 2015\n"
     ]
    },
    {
     "name": "stderr",
     "output_type": "stream",
     "text": [
      "  3%|▎         | 209/7252 [04:45<2:41:22,  1.37s/it]"
     ]
    },
    {
     "name": "stdout",
     "output_type": "stream",
     "text": [
      "RPQS Lardier-et-Valenca assainissement collectif 2015\n",
      "RAD Lardier-et-Valenca assainissement collectif 2015\n",
      "Rapport du maire Lardier-et-Valenca assainissement collectif 2015\n"
     ]
    },
    {
     "name": "stderr",
     "output_type": "stream",
     "text": [
      "  3%|▎         | 210/7252 [04:46<2:31:17,  1.29s/it]"
     ]
    },
    {
     "name": "stdout",
     "output_type": "stream",
     "text": [
      "RPQS Lettret assainissement collectif 2015\n",
      "RAD Lettret assainissement collectif 2015\n",
      "Rapport du maire Lettret assainissement collectif 2015\n"
     ]
    },
    {
     "name": "stderr",
     "output_type": "stream",
     "text": [
      "  3%|▎         | 211/7252 [04:48<2:36:29,  1.33s/it]"
     ]
    },
    {
     "name": "stdout",
     "output_type": "stream",
     "text": [
      "RPQS Mereuil assainissement collectif 2015\n",
      "RAD Mereuil assainissement collectif 2015\n",
      "Rapport du maire Mereuil assainissement collectif 2015\n"
     ]
    },
    {
     "name": "stderr",
     "output_type": "stream",
     "text": [
      "  3%|▎         | 212/7252 [04:49<2:44:18,  1.40s/it]"
     ]
    },
    {
     "name": "stdout",
     "output_type": "stream",
     "text": [
      "RPQS Molines-en-Queyras assainissement collectif 2015\n",
      "RAD Molines-en-Queyras assainissement collectif 2015\n",
      "Rapport du maire Molines-en-Queyras assainissement collectif 2015\n"
     ]
    },
    {
     "name": "stderr",
     "output_type": "stream",
     "text": [
      "  3%|▎         | 213/7252 [04:50<2:38:06,  1.35s/it]"
     ]
    },
    {
     "name": "stdout",
     "output_type": "stream",
     "text": [
      "RPQS Mont-Dauphin assainissement collectif 2015\n",
      "RAD Mont-Dauphin assainissement collectif 2015\n",
      "Rapport du maire Mont-Dauphin assainissement collectif 2015\n"
     ]
    },
    {
     "name": "stderr",
     "output_type": "stream",
     "text": [
      "  3%|▎         | 214/7252 [04:52<2:44:32,  1.40s/it]"
     ]
    },
    {
     "name": "stdout",
     "output_type": "stream",
     "text": [
      "RPQS Montgardin assainissement collectif 2015\n",
      "RAD Montgardin assainissement collectif 2015\n",
      "Rapport du maire Montgardin assainissement collectif 2015\n"
     ]
    },
    {
     "name": "stderr",
     "output_type": "stream",
     "text": [
      "  3%|▎         | 215/7252 [04:53<2:33:56,  1.31s/it]"
     ]
    },
    {
     "name": "stdout",
     "output_type": "stream",
     "text": [
      "RPQS Montrond assainissement collectif 2015\n",
      "RAD Montrond assainissement collectif 2015\n",
      "Rapport du maire Montrond assainissement collectif 2015\n"
     ]
    },
    {
     "name": "stderr",
     "output_type": "stream",
     "text": [
      "  3%|▎         | 216/7252 [04:55<2:44:05,  1.40s/it]"
     ]
    },
    {
     "name": "stdout",
     "output_type": "stream",
     "text": [
      "RPQS LaPiarre assainissement collectif 2015\n",
      "RAD LaPiarre assainissement collectif 2015\n",
      "Rapport du maire LaPiarre assainissement collectif 2015\n"
     ]
    },
    {
     "name": "stderr",
     "output_type": "stream",
     "text": [
      "  3%|▎         | 217/7252 [04:56<2:26:58,  1.25s/it]"
     ]
    },
    {
     "name": "stdout",
     "output_type": "stream",
     "text": [
      "RPQS Puy-Saint-Eusebe assainissement collectif 2015\n",
      "RAD Puy-Saint-Eusebe assainissement collectif 2015\n",
      "Rapport du maire Puy-Saint-Eusebe assainissement collectif 2015\n"
     ]
    },
    {
     "name": "stderr",
     "output_type": "stream",
     "text": [
      "  3%|▎         | 218/7252 [04:57<2:35:47,  1.33s/it]"
     ]
    },
    {
     "name": "stdout",
     "output_type": "stream",
     "text": [
      "RPQS Puy-Sanieres assainissement collectif 2015\n",
      "RAD Puy-Sanieres assainissement collectif 2015\n",
      "Rapport du maire Puy-Sanieres assainissement collectif 2015\n"
     ]
    },
    {
     "name": "stderr",
     "output_type": "stream",
     "text": [
      "  3%|▎         | 219/7252 [04:58<2:35:17,  1.32s/it]"
     ]
    },
    {
     "name": "stdout",
     "output_type": "stream",
     "text": [
      "RPQS Rambaud assainissement collectif 2015\n",
      "RAD Rambaud assainissement collectif 2015\n",
      "Rapport du maire Rambaud assainissement collectif 2015\n"
     ]
    },
    {
     "name": "stderr",
     "output_type": "stream",
     "text": [
      "  3%|▎         | 220/7252 [04:59<2:27:51,  1.26s/it]"
     ]
    },
    {
     "name": "stdout",
     "output_type": "stream",
     "text": [
      "RPQS Reotier assainissement collectif 2015\n",
      "RAD Reotier assainissement collectif 2015\n",
      "Rapport du maire Reotier assainissement collectif 2015\n"
     ]
    },
    {
     "name": "stderr",
     "output_type": "stream",
     "text": [
      "  3%|▎         | 221/7252 [05:01<2:44:50,  1.41s/it]"
     ]
    },
    {
     "name": "stdout",
     "output_type": "stream",
     "text": [
      "RPQS Risoul assainissement collectif 2015\n",
      "RAD Risoul assainissement collectif 2015\n",
      "Rapport du maire Risoul assainissement collectif 2015\n"
     ]
    },
    {
     "name": "stderr",
     "output_type": "stream",
     "text": [
      "  3%|▎         | 222/7252 [05:02<2:36:36,  1.34s/it]"
     ]
    },
    {
     "name": "stdout",
     "output_type": "stream",
     "text": [
      "RPQS Ristolas assainissement collectif 2015\n",
      "RAD Ristolas assainissement collectif 2015\n",
      "Rapport du maire Ristolas assainissement collectif 2015\n"
     ]
    },
    {
     "name": "stderr",
     "output_type": "stream",
     "text": [
      "  3%|▎         | 223/7252 [05:04<2:40:44,  1.37s/it]"
     ]
    },
    {
     "name": "stdout",
     "output_type": "stream",
     "text": [
      "RPQS LaRoche-des-Arnauds assainissement collectif 2015\n",
      "RAD LaRoche-des-Arnauds assainissement collectif 2015\n",
      "Rapport du maire LaRoche-des-Arnauds assainissement collectif 2015\n"
     ]
    },
    {
     "name": "stderr",
     "output_type": "stream",
     "text": [
      "  3%|▎         | 224/7252 [05:05<2:37:01,  1.34s/it]"
     ]
    },
    {
     "name": "stdout",
     "output_type": "stream",
     "text": [
      "RPQS LaRochette assainissement collectif 2015\n",
      "RAD LaRochette assainissement collectif 2015\n",
      "Rapport du maire LaRochette assainissement collectif 2015\n"
     ]
    },
    {
     "name": "stderr",
     "output_type": "stream",
     "text": [
      "  3%|▎         | 225/7252 [05:06<2:36:41,  1.34s/it]"
     ]
    },
    {
     "name": "stdout",
     "output_type": "stream",
     "text": [
      "RPQS Rousset assainissement collectif 2015\n",
      "RAD Rousset assainissement collectif 2015\n",
      "Rapport du maire Rousset assainissement collectif 2015\n"
     ]
    },
    {
     "name": "stderr",
     "output_type": "stream",
     "text": [
      "  3%|▎         | 226/7252 [05:08<2:43:27,  1.40s/it]"
     ]
    },
    {
     "name": "stdout",
     "output_type": "stream",
     "text": [
      "RPQS Saint-Clement-sur-Durance assainissement collectif 2015\n",
      "RAD Saint-Clement-sur-Durance assainissement collectif 2015\n",
      "Rapport du maire Saint-Clement-sur-Durance assainissement collectif 2015\n"
     ]
    },
    {
     "name": "stderr",
     "output_type": "stream",
     "text": [
      "  3%|▎         | 227/7252 [05:09<2:43:36,  1.40s/it]"
     ]
    },
    {
     "name": "stdout",
     "output_type": "stream",
     "text": [
      "RPQS SAINT-GENIS assainissement collectif 2015\n",
      "RAD SAINT-GENIS assainissement collectif 2015\n",
      "Rapport du maire SAINT-GENIS assainissement collectif 2015\n"
     ]
    },
    {
     "name": "stderr",
     "output_type": "stream",
     "text": [
      "  3%|▎         | 228/7252 [05:11<2:36:43,  1.34s/it]"
     ]
    },
    {
     "name": "stdout",
     "output_type": "stream",
     "text": [
      "RPQS Saint-Jacques-en-Valgodemard assainissement collectif 2015\n",
      "RAD Saint-Jacques-en-Valgodemard assainissement collectif 2015\n",
      "Rapport du maire Saint-Jacques-en-Valgodemard assainissement collectif 2015\n"
     ]
    },
    {
     "name": "stderr",
     "output_type": "stream",
     "text": [
      "  3%|▎         | 229/7252 [05:12<2:37:44,  1.35s/it]"
     ]
    },
    {
     "name": "stdout",
     "output_type": "stream",
     "text": [
      "RPQS Saint-Maurice-en-Valgodemard assainissement collectif 2015\n",
      "RAD Saint-Maurice-en-Valgodemard assainissement collectif 2015\n",
      "Rapport du maire Saint-Maurice-en-Valgodemard assainissement collectif 2015\n"
     ]
    },
    {
     "name": "stderr",
     "output_type": "stream",
     "text": [
      "  3%|▎         | 230/7252 [05:13<2:39:50,  1.37s/it]"
     ]
    },
    {
     "name": "stdout",
     "output_type": "stream",
     "text": [
      "RPQS Saint-Veran assainissement collectif 2015\n",
      "RAD Saint-Veran assainissement collectif 2015\n",
      "Rapport du maire Saint-Veran assainissement collectif 2015\n"
     ]
    },
    {
     "name": "stderr",
     "output_type": "stream",
     "text": [
      "  3%|▎         | 231/7252 [05:14<2:31:16,  1.29s/it]"
     ]
    },
    {
     "name": "stdout",
     "output_type": "stream",
     "text": [
      "RPQS Sigoyer assainissement collectif 2015\n",
      "RAD Sigoyer assainissement collectif 2015\n",
      "Rapport du maire Sigoyer assainissement collectif 2015\n"
     ]
    },
    {
     "name": "stderr",
     "output_type": "stream",
     "text": [
      "  3%|▎         | 232/7252 [05:16<2:37:53,  1.35s/it]"
     ]
    },
    {
     "name": "stdout",
     "output_type": "stream",
     "text": [
      "RPQS Sorbiers assainissement collectif 2015\n",
      "RAD Sorbiers assainissement collectif 2015\n",
      "Rapport du maire Sorbiers assainissement collectif 2015\n"
     ]
    },
    {
     "name": "stderr",
     "output_type": "stream",
     "text": [
      "  3%|▎         | 233/7252 [05:17<2:40:54,  1.38s/it]"
     ]
    },
    {
     "name": "stdout",
     "output_type": "stream",
     "text": [
      "RPQS Aiglun assainissement collectif 2015\n",
      "RAD Aiglun assainissement collectif 2015\n",
      "Rapport du maire Aiglun assainissement collectif 2015\n"
     ]
    },
    {
     "name": "stderr",
     "output_type": "stream",
     "text": [
      "  3%|▎         | 234/7252 [05:19<2:34:30,  1.32s/it]"
     ]
    },
    {
     "name": "stdout",
     "output_type": "stream",
     "text": [
      "RPQS Andon assainissement collectif 2015\n",
      "RAD Andon assainissement collectif 2015\n",
      "Rapport du maire Andon assainissement collectif 2015\n"
     ]
    },
    {
     "name": "stderr",
     "output_type": "stream",
     "text": [
      "  3%|▎         | 235/7252 [05:20<2:41:06,  1.38s/it]"
     ]
    },
    {
     "name": "stdout",
     "output_type": "stream",
     "text": [
      "RPQS Auvare assainissement collectif 2015\n",
      "RAD Auvare assainissement collectif 2015\n",
      "Rapport du maire Auvare assainissement collectif 2015\n"
     ]
    },
    {
     "name": "stderr",
     "output_type": "stream",
     "text": [
      "  3%|▎         | 236/7252 [05:21<2:39:50,  1.37s/it]"
     ]
    },
    {
     "name": "stdout",
     "output_type": "stream",
     "text": [
      "RPQS LeBar-sur-Loup assainissement collectif 2015\n",
      "RAD LeBar-sur-Loup assainissement collectif 2015\n",
      "Rapport du maire LeBar-sur-Loup assainissement collectif 2015\n"
     ]
    },
    {
     "name": "stderr",
     "output_type": "stream",
     "text": [
      "  3%|▎         | 237/7252 [05:23<2:39:52,  1.37s/it]"
     ]
    },
    {
     "name": "stdout",
     "output_type": "stream",
     "text": [
      "RPQS Beausoleil assainissement collectif 2015\n",
      "RAD Beausoleil assainissement collectif 2015\n",
      "Rapport du maire Beausoleil assainissement collectif 2015\n"
     ]
    },
    {
     "name": "stderr",
     "output_type": "stream",
     "text": [
      "  3%|▎         | 238/7252 [05:24<2:39:40,  1.37s/it]"
     ]
    },
    {
     "name": "stdout",
     "output_type": "stream",
     "text": [
      "RPQS Bendejun assainissement collectif 2015\n",
      "RAD Bendejun assainissement collectif 2015\n",
      "Rapport du maire Bendejun assainissement collectif 2015\n"
     ]
    },
    {
     "name": "stderr",
     "output_type": "stream",
     "text": [
      "  3%|▎         | 239/7252 [05:25<2:33:04,  1.31s/it]"
     ]
    },
    {
     "name": "stdout",
     "output_type": "stream",
     "text": [
      "RPQS Beuil assainissement collectif 2015\n",
      "RAD Beuil assainissement collectif 2015\n",
      "Rapport du maire Beuil assainissement collectif 2015\n"
     ]
    },
    {
     "name": "stderr",
     "output_type": "stream",
     "text": [
      "  3%|▎         | 240/7252 [05:27<2:30:51,  1.29s/it]"
     ]
    },
    {
     "name": "stdout",
     "output_type": "stream",
     "text": [
      "RPQS Bezaudun-les-Alpes assainissement collectif 2015\n",
      "RAD Bezaudun-les-Alpes assainissement collectif 2015\n",
      "Rapport du maire Bezaudun-les-Alpes assainissement collectif 2015\n"
     ]
    },
    {
     "name": "stderr",
     "output_type": "stream",
     "text": [
      "  3%|▎         | 241/7252 [05:28<2:43:00,  1.40s/it]"
     ]
    },
    {
     "name": "stdout",
     "output_type": "stream",
     "text": [
      "RPQS Bouyon assainissement collectif 2015\n",
      "RAD Bouyon assainissement collectif 2015\n",
      "Rapport du maire Bouyon assainissement collectif 2015\n"
     ]
    },
    {
     "name": "stderr",
     "output_type": "stream",
     "text": [
      "  3%|▎         | 242/7252 [05:30<2:45:16,  1.41s/it]"
     ]
    },
    {
     "name": "stdout",
     "output_type": "stream",
     "text": [
      "RPQS Breil-sur-Roya assainissement collectif 2015\n",
      "RAD Breil-sur-Roya assainissement collectif 2015\n",
      "Rapport du maire Breil-sur-Roya assainissement collectif 2015\n"
     ]
    },
    {
     "name": "stderr",
     "output_type": "stream",
     "text": [
      "  3%|▎         | 243/7252 [05:31<2:43:20,  1.40s/it]"
     ]
    },
    {
     "name": "stdout",
     "output_type": "stream",
     "text": [
      "RPQS Brianconnet assainissement collectif 2015\n",
      "RAD Brianconnet assainissement collectif 2015\n",
      "Rapport du maire Brianconnet assainissement collectif 2015\n"
     ]
    },
    {
     "name": "stderr",
     "output_type": "stream",
     "text": [
      "  3%|▎         | 244/7252 [05:32<2:38:21,  1.36s/it]"
     ]
    },
    {
     "name": "stdout",
     "output_type": "stream",
     "text": [
      "RPQS Cantaron assainissement collectif 2015\n",
      "RAD Cantaron assainissement collectif 2015\n",
      "Rapport du maire Cantaron assainissement collectif 2015\n"
     ]
    },
    {
     "name": "stderr",
     "output_type": "stream",
     "text": [
      "  3%|▎         | 245/7252 [05:34<2:40:43,  1.38s/it]"
     ]
    },
    {
     "name": "stdout",
     "output_type": "stream",
     "text": [
      "RPQS Castellar assainissement collectif 2015\n",
      "RAD Castellar assainissement collectif 2015\n",
      "Rapport du maire Castellar assainissement collectif 2015\n"
     ]
    },
    {
     "name": "stderr",
     "output_type": "stream",
     "text": [
      "  3%|▎         | 246/7252 [05:35<2:51:38,  1.47s/it]"
     ]
    },
    {
     "name": "stdout",
     "output_type": "stream",
     "text": [
      "RPQS Chateauneuf-Grasse assainissement collectif 2015\n",
      "RAD Chateauneuf-Grasse assainissement collectif 2015\n"
     ]
    },
    {
     "name": "stderr",
     "output_type": "stream",
     "text": [
      "  3%|▎         | 247/7252 [05:36<2:27:42,  1.27s/it]"
     ]
    },
    {
     "name": "stdout",
     "output_type": "stream",
     "text": [
      "Rapport du maire Chateauneuf-Grasse assainissement collectif 2015\n",
      "RPQS Chateauneuf-d'Entraunes assainissement collectif 2015\n",
      "RAD Chateauneuf-d'Entraunes assainissement collectif 2015\n",
      "Rapport du maire Chateauneuf-d'Entraunes assainissement collectif 2015\n"
     ]
    },
    {
     "name": "stderr",
     "output_type": "stream",
     "text": [
      "  3%|▎         | 248/7252 [05:38<2:40:00,  1.37s/it]"
     ]
    },
    {
     "name": "stdout",
     "output_type": "stream",
     "text": [
      "RPQS Cipieres assainissement collectif 2015\n",
      "RAD Cipieres assainissement collectif 2015\n",
      "Rapport du maire Cipieres assainissement collectif 2015\n"
     ]
    },
    {
     "name": "stderr",
     "output_type": "stream",
     "text": [
      "  3%|▎         | 249/7252 [05:39<2:36:26,  1.34s/it]"
     ]
    },
    {
     "name": "stdout",
     "output_type": "stream",
     "text": [
      "RPQS Consegudes assainissement collectif 2015\n",
      "RAD Consegudes assainissement collectif 2015\n",
      "Rapport du maire Consegudes assainissement collectif 2015\n"
     ]
    },
    {
     "name": "stderr",
     "output_type": "stream",
     "text": [
      "  3%|▎         | 250/7252 [05:40<2:38:20,  1.36s/it]"
     ]
    },
    {
     "name": "stdout",
     "output_type": "stream",
     "text": [
      "RPQS Contes assainissement collectif 2015\n",
      "RAD Contes assainissement collectif 2015\n",
      "Rapport du maire Contes assainissement collectif 2015\n"
     ]
    },
    {
     "name": "stderr",
     "output_type": "stream",
     "text": [
      "  3%|▎         | 251/7252 [05:42<2:47:56,  1.44s/it]"
     ]
    },
    {
     "name": "stdout",
     "output_type": "stream",
     "text": [
      "RPQS Courmes assainissement collectif 2015\n",
      "RAD Courmes assainissement collectif 2015\n",
      "Rapport du maire Courmes assainissement collectif 2015\n"
     ]
    },
    {
     "name": "stderr",
     "output_type": "stream",
     "text": [
      "  3%|▎         | 252/7252 [05:43<2:43:22,  1.40s/it]"
     ]
    },
    {
     "name": "stdout",
     "output_type": "stream",
     "text": [
      "RPQS Coursegoules assainissement collectif 2015\n",
      "RAD Coursegoules assainissement collectif 2015\n",
      "Rapport du maire Coursegoules assainissement collectif 2015\n"
     ]
    },
    {
     "name": "stderr",
     "output_type": "stream",
     "text": [
      "  3%|▎         | 253/7252 [05:45<2:43:38,  1.40s/it]"
     ]
    },
    {
     "name": "stdout",
     "output_type": "stream",
     "text": [
      "RPQS Drap assainissement collectif 2015\n",
      "RAD Drap assainissement collectif 2015\n",
      "Rapport du maire Drap assainissement collectif 2015\n"
     ]
    },
    {
     "name": "stderr",
     "output_type": "stream",
     "text": [
      "  4%|▎         | 254/7252 [05:46<2:41:56,  1.39s/it]"
     ]
    },
    {
     "name": "stdout",
     "output_type": "stream",
     "text": [
      "RPQS Entraunes assainissement collectif 2015\n",
      "RAD Entraunes assainissement collectif 2015\n",
      "Rapport du maire Entraunes assainissement collectif 2015\n"
     ]
    },
    {
     "name": "stderr",
     "output_type": "stream",
     "text": [
      "  4%|▎         | 255/7252 [05:47<2:37:54,  1.35s/it]"
     ]
    },
    {
     "name": "stdout",
     "output_type": "stream",
     "text": [
      "RPQS Escragnolles assainissement collectif 2015\n",
      "RAD Escragnolles assainissement collectif 2015\n",
      "Rapport du maire Escragnolles assainissement collectif 2015\n"
     ]
    },
    {
     "name": "stderr",
     "output_type": "stream",
     "text": [
      "  4%|▎         | 256/7252 [05:49<2:41:12,  1.38s/it]"
     ]
    },
    {
     "name": "stdout",
     "output_type": "stream",
     "text": [
      "RPQS LesFerres assainissement collectif 2015\n",
      "RAD LesFerres assainissement collectif 2015\n",
      "Rapport du maire LesFerres assainissement collectif 2015\n"
     ]
    },
    {
     "name": "stderr",
     "output_type": "stream",
     "text": [
      "  4%|▎         | 257/7252 [05:50<2:40:15,  1.37s/it]"
     ]
    },
    {
     "name": "stdout",
     "output_type": "stream",
     "text": [
      "RPQS Gorbio assainissement collectif 2015\n"
     ]
    }
   ],
   "source": [
    "collectivity_filename = \"collectivity_list_for_scraping_20012025.csv\"\n",
    "report_filename = \"scraping_report_from_\"+collectivity_filename\n",
    "\n",
    "year = \"2015\"\n",
    "competence = \"assainissement collectif\"\n",
    "status_lot = \"WaitingForInput\"\n",
    "\n",
    "scrapper = PDFScraperFromGoogle(collectivity_filename, report_filename)\n",
    "scrapper.download_all_pdfs(year=year, competence=competence, status_lot=status_lot)"
   ]
  },
  {
   "cell_type": "markdown",
   "metadata": {},
   "source": []
  }
 ],
 "metadata": {
  "kernelspec": {
   "display_name": ".venv",
   "language": "python",
   "name": "python3"
  },
  "language_info": {
   "codemirror_mode": {
    "name": "ipython",
    "version": 3
   },
   "file_extension": ".py",
   "mimetype": "text/x-python",
   "name": "python",
   "nbconvert_exporter": "python",
   "pygments_lexer": "ipython3",
   "version": "3.12.4"
  }
 },
 "nbformat": 4,
 "nbformat_minor": 2
}
