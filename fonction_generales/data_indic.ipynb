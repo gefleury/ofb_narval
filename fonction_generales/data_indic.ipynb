{
 "cells": [
  {
   "cell_type": "markdown",
   "id": "0db0e1a9-14eb-4dd1-b6f6-70d467905900",
   "metadata": {
    "jp-MarkdownHeadingCollapsed": true
   },
   "source": [
    "## Requirements\n",
    "On importe toutes les librairies nécéssaires"
   ]
  },
  {
   "cell_type": "code",
   "execution_count": 1,
   "id": "862df5c1-9c91-4ff3-aa2e-f4a031b12023",
   "metadata": {},
   "outputs": [],
   "source": [
    "import numpy as np\n",
    "import re\n",
    "import pandas as pd\n",
    "#!pip install unidecode\n",
    "from unidecode import unidecode\n",
    "import torch"
   ]
  },
  {
   "cell_type": "code",
   "execution_count": 2,
   "id": "6d1ac06b-75ec-4d99-a4ed-c13aea82677c",
   "metadata": {},
   "outputs": [],
   "source": [
    "from PyPDF2 import PdfReader"
   ]
  },
  {
   "cell_type": "code",
   "execution_count": 3,
   "id": "dad4bd03-36d6-403e-a266-4574c7734a08",
   "metadata": {},
   "outputs": [],
   "source": [
    "import os\n",
    "pd.set_option('mode.chained_assignment', None)\n",
    "import s3fs"
   ]
  },
  {
   "cell_type": "code",
   "execution_count": 4,
   "id": "b22543d6-b0d7-47d3-ac6d-d433b6e453de",
   "metadata": {},
   "outputs": [],
   "source": [
    "import matplotlib.pyplot as plt"
   ]
  },
  {
   "cell_type": "markdown",
   "id": "03ae7d61-a0e0-4053-b099-b07d7fe3c7b3",
   "metadata": {
    "jp-MarkdownHeadingCollapsed": true
   },
   "source": [
    "## Fonctions"
   ]
  },
  {
   "cell_type": "code",
   "execution_count": 5,
   "id": "11a37958-21cc-4629-9c96-b4256a5c711f",
   "metadata": {},
   "outputs": [],
   "source": [
    "def normalize_text(s):\n",
    "    \"\"\"removing caractères, /, accents, m3, /n\"\"\"\n",
    "    import string, re\n",
    "    \n",
    "    def no_unit(text):\n",
    "        regex=\"m3\"\n",
    "        return re.sub(regex, \" \", text)\n",
    "    def no_exp(text):\n",
    "        regex=\"m³\"\n",
    "        return re.sub(regex, \" \", text)\n",
    "    def no_punct(text):\n",
    "        regex=\"\\\\.(?!\\d)\"\n",
    "        return re.sub(regex,\" \",text)\n",
    "   \n",
    "    def white_space_fix(text):\n",
    "        return \" \".join(text.split())\n",
    "    def no_date(text):\n",
    "        date_extract_pattern = \"[0-9]{1,2}\\\\/[0-9]{1,2}\\\\/[0-9]{4}\"\n",
    "        return re.sub(date_extract_pattern,\"\",text)\n",
    "    def special_char(text):\n",
    "        regex=regex = \"[^\\w\\s,.]\"\n",
    "        return re.sub(regex, \" \", text)\n",
    "   #on retire tout les caractère des réponses \n",
    "    def no_char(text):\n",
    "        regex=r\"([a-zA-Z])\"\n",
    "        return re.sub(regex, \" \", text)\n",
    "    def comma(text):\n",
    "        regex=\",(?!\\d)\"\n",
    "        return re.sub(regex,\" \",text)\n",
    "    def point(text):\n",
    "        return re.sub(\"\\,\",\".\",text)\n",
    "    def indic(text):\n",
    "        regex=\"(P\\d\\d\\d\\\\.\\d\\s*)|(D\\d\\d\\d\\\\.\\d\\s*)|(VP\\\\.\\d\\d\\d)\"\n",
    "        return re.sub(regex,\" \", text)\n",
    "\n",
    "    return white_space_fix(point(no_punct(no_char(unidecode(comma(special_char(indic(no_exp(no_unit(no_date(s)))))))))))"
   ]
  },
  {
   "cell_type": "code",
   "execution_count": 6,
   "id": "e4e17974-ab82-419d-bb96-4ef30cc3b459",
   "metadata": {},
   "outputs": [],
   "source": [
    "def normalize(s):\n",
    "    \"\"\"removing caractères, /, accents, m3, /n\"\"\"\n",
    "    import string, re\n",
    "    def no_punct(text):\n",
    "        regex=\"\\\\.(?!\\d)\"\n",
    "        return re.sub(regex,\" \",text)\n",
    "    def white_space_fix(text):\n",
    "        return \" \".join(text.split())\n",
    "    def special_char(text):\n",
    "        regex=regex = \"[^\\w\\s,.]\"\n",
    "        return re.sub(regex, \" \", text)\n",
    "    def comma(text):\n",
    "        regex=\",(?!\\d)\"\n",
    "        return re.sub(regex,\" \",text)\n",
    "    def lower(text):\n",
    "        return text.lower()\n",
    "\n",
    "    return white_space_fix(no_punct(unidecode(lower(special_char(s)))))"
   ]
  },
  {
   "cell_type": "code",
   "execution_count": 7,
   "id": "9ef81fb9-909c-47de-8328-6ab3b4d3c837",
   "metadata": {},
   "outputs": [],
   "source": [
    "def white_space_fix(text):\n",
    "        return \" \".join(text.split())"
   ]
  },
  {
   "cell_type": "code",
   "execution_count": 8,
   "id": "2d1c7933-9625-4be4-a1ac-ed4ed4c0f9f9",
   "metadata": {},
   "outputs": [],
   "source": [
    "def lower(text):\n",
    "        return text.lower()"
   ]
  },
  {
   "cell_type": "code",
   "execution_count": 9,
   "id": "e1b7695b-7380-4c5d-8526-d2bde61227e0",
   "metadata": {},
   "outputs": [],
   "source": [
    "def saut(text):\n",
    "        regex=\"\\n\"\n",
    "        return re.sub(regex,\"\",text)"
   ]
  },
  {
   "cell_type": "code",
   "execution_count": 10,
   "id": "d2fde92d-5641-4b5c-8af8-ea1dda5d8af8",
   "metadata": {},
   "outputs": [],
   "source": [
    "def compute_f1(prediction, truth):\n",
    "    pred_tokens =normalize(prediction).split()\n",
    "    truth_tokens = normalize(truth).split()\n",
    "    \n",
    "    # if either the prediction or the truth is no-answer then f1 = 1 if they agree, 0 otherwise\n",
    "    if len(pred_tokens) == 0 or len(truth_tokens) == 0:\n",
    "        return int(pred_tokens == truth_tokens)\n",
    "    \n",
    "    common_tokens = set(pred_tokens) & set(truth_tokens)\n",
    "    #print(len(common_tokens))\n",
    "    \n",
    "    # if there are no common tokens then f1 = 0\n",
    "    if len(common_tokens) == 0:\n",
    "        return 0\n",
    "    \n",
    "    prec = len(common_tokens) / len(pred_tokens)\n",
    "    rec = len(common_tokens) / len(truth_tokens)\n",
    "    \n",
    "    return 2 * (prec * rec) / (prec + rec)"
   ]
  },
  {
   "cell_type": "markdown",
   "id": "7339938b-edb9-4e15-8eda-c1f2459a558a",
   "metadata": {
    "jp-MarkdownHeadingCollapsed": true
   },
   "source": [
    "## Charger les modèles\n",
    "On charge le modèle de question réponse d'etalab pour appliquer les pré-filtres, puis le modèle T5 pour récupérer les valeurs d'indicateurs."
   ]
  },
  {
   "cell_type": "code",
   "execution_count": 11,
   "id": "13e464f6-2d2e-4cb9-9b6e-d13c90a08d30",
   "metadata": {},
   "outputs": [
    {
     "name": "stderr",
     "output_type": "stream",
     "text": [
      "You are using the legacy behaviour of the <class 'transformers.models.t5.tokenization_t5.T5Tokenizer'>. This means that tokens that come after special tokens will not be properly handled. We recommend you to read the related pull request available at https://github.com/huggingface/transformers/pull/24565\n"
     ]
    },
    {
     "data": {
      "application/vnd.jupyter.widget-view+json": {
       "model_id": "66edc7bf01e544cb9315780ad5d3edc3",
       "version_major": 2,
       "version_minor": 0
      },
      "text/plain": [
       "Loading checkpoint shards:   0%|          | 0/2 [00:00<?, ?it/s]"
      ]
     },
     "metadata": {},
     "output_type": "display_data"
    }
   ],
   "source": [
    "from transformers import T5Tokenizer, T5ForConditionalGeneration\n",
    "\n",
    "tokenizer = T5Tokenizer.from_pretrained(\"google/flan-t5-xl\")\n",
    "model = T5ForConditionalGeneration.from_pretrained(\"google/flan-t5-xl\", device_map=\"auto\")"
   ]
  },
  {
   "cell_type": "code",
   "execution_count": 12,
   "id": "9110c445-e86b-4374-8b03-0df8ee544288",
   "metadata": {},
   "outputs": [],
   "source": [
    "from transformers import pipeline\n",
    "nlp = pipeline('question-answering', model='etalab-ia/camembert-base-squadFR-fquad-piaf', tokenizer='etalab-ia/camembert-base-squadFR-fquad-piaf')"
   ]
  },
  {
   "cell_type": "markdown",
   "id": "cbe2645a-39f4-41bb-b525-1d78f875b81b",
   "metadata": {},
   "source": [
    "## Charger les données de SISPEA\n",
    "On charge le documents contenant toutes les questions: associées à un mot clé et à un indicateur"
   ]
  },
  {
   "cell_type": "code",
   "execution_count": 595,
   "id": "7b66f06c-1253-459d-9fa0-83ea25cc6fc8",
   "metadata": {},
   "outputs": [],
   "source": [
    "FILE_KEY_Q = \"camemBERT/data_2021_EP.xlsx\" #Nom du fichier chargé depuis sispea"
   ]
  },
  {
   "cell_type": "code",
   "execution_count": 596,
   "id": "64b7c0d6-2040-4b81-8747-636525e91fe6",
   "metadata": {},
   "outputs": [],
   "source": [
    "S3_ENDPOINT_URL = \"https://\" + os.environ[\"AWS_S3_ENDPOINT\"]\n",
    "fs = s3fs.S3FileSystem(client_kwargs={'endpoint_url': S3_ENDPOINT_URL})\n",
    "BUCKET = \"/mberthe/narval\"\n",
    "FILE_PATH_Q = BUCKET + \"/\" + FILE_KEY_Q\n",
    "\n",
    "with fs.open(FILE_PATH_Q,  mode=\"rb\") as file_in:\n",
    "       df = pd.read_excel(file_in)\n"
   ]
  },
  {
   "cell_type": "raw",
   "id": "54321396-888f-43ca-910c-d1987a08f2d1",
   "metadata": {},
   "source": [
    "Noms de collectivités en miniscules "
   ]
  },
  {
   "cell_type": "code",
   "execution_count": 597,
   "id": "1650ff50-f5e6-47a8-9823-f449dd79955e",
   "metadata": {},
   "outputs": [],
   "source": [
    "for i in df.index:\n",
    "    df[\"Nom collectivité\"][i]=lower(df[\"Nom collectivité\"][i])"
   ]
  },
  {
   "cell_type": "code",
   "execution_count": 598,
   "id": "2dc55c6b-ea5f-4b66-a4db-2e3e0bf7121a",
   "metadata": {},
   "outputs": [],
   "source": [
    "df_publi = df"
   ]
  },
  {
   "cell_type": "raw",
   "id": "11ac53f4-d83d-4295-8780-828dbd8d6256",
   "metadata": {},
   "source": [
    "On ne regarde que les communes ayant publié leurs données (pour aller chercher les RPQS en ligne)"
   ]
  },
  {
   "cell_type": "markdown",
   "id": "5020ce70-75db-41fe-a2ce-c6d7d61c0b2c",
   "metadata": {
    "jp-MarkdownHeadingCollapsed": true
   },
   "source": [
    "### Charger les questions"
   ]
  },
  {
   "cell_type": "code",
   "execution_count": 63,
   "id": "37e7fe67-3778-4e4b-9df6-9e3bac66e6d4",
   "metadata": {},
   "outputs": [],
   "source": [
    "S3_ENDPOINT_URL = \"https://\" + os.environ[\"AWS_S3_ENDPOINT\"]\n",
    "fs = s3fs.S3FileSystem(client_kwargs={'endpoint_url': S3_ENDPOINT_URL})\n",
    "BUCKET = \"/mberthe/narval\"\n",
    "FILE_KEY_Q = \"camemBERT/question_all.csv\"\n",
    "FILE_PATH_Q = BUCKET + \"/\" + FILE_KEY_Q\n",
    "\n",
    "with fs.open(FILE_PATH_Q,  mode=\"r\") as file_in:\n",
    "    question=pd.read_csv(file_in)"
   ]
  },
  {
   "cell_type": "code",
   "execution_count": 64,
   "id": "04f74826-e8b0-41f6-88df-f8f703bef61a",
   "metadata": {},
   "outputs": [
    {
     "data": {
      "text/html": [
       "<div>\n",
       "<style scoped>\n",
       "    .dataframe tbody tr th:only-of-type {\n",
       "        vertical-align: middle;\n",
       "    }\n",
       "\n",
       "    .dataframe tbody tr th {\n",
       "        vertical-align: top;\n",
       "    }\n",
       "\n",
       "    .dataframe thead th {\n",
       "        text-align: right;\n",
       "    }\n",
       "</style>\n",
       "<table border=\"1\" class=\"dataframe\">\n",
       "  <thead>\n",
       "    <tr style=\"text-align: right;\">\n",
       "      <th></th>\n",
       "      <th>question</th>\n",
       "      <th>mot</th>\n",
       "      <th>indic</th>\n",
       "    </tr>\n",
       "  </thead>\n",
       "  <tbody>\n",
       "    <tr>\n",
       "      <th>0</th>\n",
       "      <td>Quel est le prix de service au m3 pour l'eau p...</td>\n",
       "      <td>prix</td>\n",
       "      <td>D102.0</td>\n",
       "    </tr>\n",
       "    <tr>\n",
       "      <th>1</th>\n",
       "      <td>Quel est le prix du service au m3 pour l'assin...</td>\n",
       "      <td>prix</td>\n",
       "      <td>D204.0</td>\n",
       "    </tr>\n",
       "    <tr>\n",
       "      <th>2</th>\n",
       "      <td>Quelle est la connaissance du réseau en eau po...</td>\n",
       "      <td>connaissance</td>\n",
       "      <td>P103.2B</td>\n",
       "    </tr>\n",
       "    <tr>\n",
       "      <th>3</th>\n",
       "      <td>Quel est le taux de connaissance du réseau en ...</td>\n",
       "      <td>connaissance</td>\n",
       "      <td>P202.2B</td>\n",
       "    </tr>\n",
       "    <tr>\n",
       "      <th>4</th>\n",
       "      <td>Quel est le taux de renouvellement des réseaux...</td>\n",
       "      <td>renouvellement</td>\n",
       "      <td>P107.2</td>\n",
       "    </tr>\n",
       "    <tr>\n",
       "      <th>...</th>\n",
       "      <td>...</td>\n",
       "      <td>...</td>\n",
       "      <td>...</td>\n",
       "    </tr>\n",
       "    <tr>\n",
       "      <th>97</th>\n",
       "      <td>Quelle est la valeur de l'endettement du servi...</td>\n",
       "      <td>dette</td>\n",
       "      <td>P256.2</td>\n",
       "    </tr>\n",
       "    <tr>\n",
       "      <th>98</th>\n",
       "      <td>Quelle est la valeur de l'endettement du servi...</td>\n",
       "      <td>endettement</td>\n",
       "      <td>P256.2</td>\n",
       "    </tr>\n",
       "    <tr>\n",
       "      <th>99</th>\n",
       "      <td>Quelle est la valeur de l'endettement du servi...</td>\n",
       "      <td>dette</td>\n",
       "      <td>P153.2</td>\n",
       "    </tr>\n",
       "    <tr>\n",
       "      <th>100</th>\n",
       "      <td>Quel est le total de points de connaissance d...</td>\n",
       "      <td>connaissance</td>\n",
       "      <td>P202.2B</td>\n",
       "    </tr>\n",
       "    <tr>\n",
       "      <th>101</th>\n",
       "      <td>Quel est le taux d'impayés pour l'assainissem...</td>\n",
       "      <td>impayés</td>\n",
       "      <td>P257.0</td>\n",
       "    </tr>\n",
       "  </tbody>\n",
       "</table>\n",
       "<p>102 rows × 3 columns</p>\n",
       "</div>"
      ],
      "text/plain": [
       "                                              question             mot  \\\n",
       "0    Quel est le prix de service au m3 pour l'eau p...            prix   \n",
       "1    Quel est le prix du service au m3 pour l'assin...            prix   \n",
       "2    Quelle est la connaissance du réseau en eau po...    connaissance   \n",
       "3    Quel est le taux de connaissance du réseau en ...    connaissance   \n",
       "4    Quel est le taux de renouvellement des réseaux...  renouvellement   \n",
       "..                                                 ...             ...   \n",
       "97   Quelle est la valeur de l'endettement du servi...           dette   \n",
       "98   Quelle est la valeur de l'endettement du servi...     endettement   \n",
       "99   Quelle est la valeur de l'endettement du servi...           dette   \n",
       "100   Quel est le total de points de connaissance d...    connaissance   \n",
       "101   Quel est le taux d'impayés pour l'assainissem...         impayés   \n",
       "\n",
       "       indic  \n",
       "0     D102.0  \n",
       "1     D204.0  \n",
       "2    P103.2B  \n",
       "3    P202.2B  \n",
       "4     P107.2  \n",
       "..       ...  \n",
       "97    P256.2  \n",
       "98    P256.2  \n",
       "99    P153.2  \n",
       "100  P202.2B  \n",
       "101   P257.0  \n",
       "\n",
       "[102 rows x 3 columns]"
      ]
     },
     "execution_count": 64,
     "metadata": {},
     "output_type": "execute_result"
    }
   ],
   "source": [
    "question"
   ]
  },
  {
   "cell_type": "markdown",
   "id": "2b2bc612-5ab3-4ae9-a098-bedf596c0e19",
   "metadata": {
    "jp-MarkdownHeadingCollapsed": true
   },
   "source": [
    "## Pré-filtres\n",
    "On récupère les premieres pages du rapport, desquelles on extrait l'année du rapport aisni que le type de service proposé "
   ]
  },
  {
   "cell_type": "code",
   "execution_count": 686,
   "id": "4e1fae6b-09c0-4f6c-98d6-8e82723e9ac5",
   "metadata": {},
   "outputs": [],
   "source": [
    "nom_fichier='PDF/estal_EP_2021.pdf'"
   ]
  },
  {
   "cell_type": "code",
   "execution_count": 687,
   "id": "922f3e1d-2ed1-4fd0-bb0e-1f17f758c282",
   "metadata": {},
   "outputs": [],
   "source": [
    "S3_ENDPOINT_URL = \"https://\" + os.environ[\"AWS_S3_ENDPOINT\"]\n",
    "fs = s3fs.S3FileSystem(client_kwargs={'endpoint_url': S3_ENDPOINT_URL})\n",
    "BUCKET = \"mberthe/narval\"\n",
    "fs.ls(BUCKET)\n",
    "BUCKET = \"mberthe/narval\"\n",
    "FILE_KEY_S3 = nom_fichier #entrer le nom du PDF\n",
    "FILE_PATH_S3 = BUCKET + \"/\" + FILE_KEY_S3\n",
    "\n",
    "with fs.open(FILE_PATH_S3, mode=\"rb\") as file_in:\n",
    "    reader = PdfReader(file_in)\n",
    "    page=reader.pages\n",
    "    text=[]\n",
    "    for i in range(0,5):\n",
    "        page = reader.pages[i]\n",
    "        output = page.extract_text()\n",
    "        text.append(output)\n",
    "    "
   ]
  },
  {
   "cell_type": "raw",
   "id": "1b155631-fa42-4b13-8eda-f8934b60894a",
   "metadata": {},
   "source": [
    "On concatène les 6 premières pages en un long paragraphe"
   ]
  },
  {
   "cell_type": "code",
   "execution_count": 688,
   "id": "395d9849-c9b0-4d1d-8892-9f2aaa2bcb35",
   "metadata": {},
   "outputs": [],
   "source": [
    "text1=''\n",
    "for x in text:\n",
    "    text1 +=' '+ x"
   ]
  },
  {
   "cell_type": "code",
   "execution_count": 689,
   "id": "bbbb31c7-45b0-4dac-8b45-e3b7a9b32caf",
   "metadata": {},
   "outputs": [],
   "source": [
    "#text1"
   ]
  },
  {
   "cell_type": "markdown",
   "id": "f05b6e14-799b-4c28-98a8-ce1b5d77a82c",
   "metadata": {},
   "source": [
    "#### Le type de service"
   ]
  },
  {
   "cell_type": "raw",
   "id": "74d14899-1653-4def-992d-55c160aa9df1",
   "metadata": {},
   "source": [
    "Pour déceler le type de service mentionné par le RPQS, on pose 3 questions consécutivement, si aucune de ces question n'admet de réponse correcte, on ne peut pas savoir sur quels indicateurs se concentrer"
   ]
  },
  {
   "cell_type": "code",
   "execution_count": 690,
   "id": "c55829d7-b75a-4197-add0-24ab128694b3",
   "metadata": {},
   "outputs": [
    {
     "name": "stdout",
     "output_type": "stream",
     "text": [
      "{'score': 4.05071368732024e-05, 'start': 4, 'end': 26, 'answer': '\\nEstal  \\n \\neau potable'}\n"
     ]
    }
   ],
   "source": [
    "reau= \"eau potable\"\n",
    "rass=\"assainissement\"\n",
    "\n",
    "d=nlp({'question': \"Quels types de services ? \",\n",
    "         'context': text1})\n",
    "print(d)\n",
    "prediction=d[\"answer\"]\n",
    "prediction=normalize(prediction)\n",
    "if ((re.findall(reau,prediction)==[])&(re.findall(rass,prediction)==[])):\n",
    "    d=nlp({'question': \"eau potable ou assainissement collectif ? \",\n",
    "         'context': text1})\n",
    "    print(d)\n",
    "    prediction=d[\"answer\"]\n",
    "    prediction=normalize(prediction)\n",
    "    if ((re.findall(reau,prediction)==[])&(re.findall(rass,prediction)==[])):\n",
    "        d=nlp({'question': \"Quelle est l'entité de gestion ? \",\n",
    "         'context': text1})\n",
    "        print(d)\n",
    "        prediction=d[\"answer\"]\n",
    "        prediction=normalize(prediction)\n",
    "    if ((re.findall(reau,prediction)==[])&(re.findall(rass,prediction)==[])):\n",
    "            print(\"type de service non retrouvé dans le texte\")"
   ]
  },
  {
   "cell_type": "markdown",
   "id": "aacf093a-8c59-41cd-836d-31871e33239b",
   "metadata": {},
   "source": [
    "Grâce à notre réponse sur le service, et la métrique f1, on choisit la liste d'indicateur appropriée"
   ]
  },
  {
   "cell_type": "code",
   "execution_count": 691,
   "id": "cb97e25c-1b3f-459b-98cf-3c50dc47ffde",
   "metadata": {},
   "outputs": [
    {
     "name": "stdout",
     "output_type": "stream",
     "text": [
      "\n",
      "Estal  \n",
      " \n",
      "eau potable\n",
      "f1 eau potable: 0.8\n",
      "f1 assainissement: 0\n",
      "['D102.0', 'P103.2B', 'P107.2', 'P109.0', 'P153.2', 'P154.0', 'P155.1', 'P101.1', 'P102.1', 'P104.3', 'P105.3', 'P106.3', 'P108.3', 'P151.1']\n",
      "EP\n"
     ]
    }
   ],
   "source": [
    "truth=\"\"\"eau potable\"\"\"\n",
    "prediction=d['answer']\n",
    "print(prediction)\n",
    "f1_ep=compute_f1(prediction,truth)\n",
    "print('f1 eau potable:',f1_ep)\n",
    "\n",
    "truth=\"\"\"assainissement\"\"\"\n",
    "prediction=normalize(d['answer'])\n",
    "f1_ac=compute_f1(prediction,truth)\n",
    "print('f1 assainissement:',f1_ac)\n",
    "\n",
    "if ((re.findall(reau,prediction)!=[])&(re.findall(rass,prediction)!=[])):\n",
    "    print(re.findall(reau,prediction),re.findall(rass,prediction))\n",
    "    indic=[\"D102.0\",\"D204.0\",\"P103.2\",\"P202.2\",\"P107.2\",\"P253.2\",\"P109.0\",\"P207.0\",\"P153.2\",\"P256.2\",\"P154.0\",\"P257.0\",\"P155.1\",\"P258.1\",\"P101.1\",\"P102.1\",\"P104.3\",\"P105.3\",\"P106.3\",\"P108.3\",\"P151.1\",\"D203.0\",\"P201.1\",\"P204.3\",\"P205.3\",\"P206.3\",\"P251.1\",\"P252.2\",\"P254.3\",\"P255.3\",\"D302.0\",\"P301.3\"]\n",
    "    service=\"AC+EP\"\n",
    "else:\n",
    "    if (f1_ep > f1_ac ):\n",
    "        indic=[\"D102.0\",\"P103.2B\",\"P107.2\",\"P109.0\",\"P153.2\",\"P154.0\",\"P155.1\",\"P101.1\",\"P102.1\",\"P104.3\",\"P105.3\",\"P106.3\",\"P108.3\",\"P151.1\"]\n",
    "        service=\"EP\"\n",
    "    if (f1_ep < f1_ac):\n",
    "        indic=[\"D204.0\",\"P202.2B\",\"P253.2\",\"P207.0\",\"P256.2\",\"P257.0\",\"P258.1\",\"D203.0\",\"P201.1\",\"P204.3\",\"P205.3\",\"P206.3\",\"P251.1\",\"P252.2\",\"P254.3\",\"P255.3\",\"D302.0\",\"P301.3\"]\n",
    "        service=\"AC\"\n",
    "if(f1_ep==0)&(f1_ac==0):\n",
    "         indic=[\"D102.0\",\"D204.0\",\"P103.2B\",\"P202.2B\",\"P107.2\",\"P253.2\",\"P109.0\",\"P207.0\",\"P153.2\",\"P256.2\",\"P154.0\",\"P257.0\",\"P155.1\",\"P258.1\",\"P101.1\",\"P102.1\",\"P104.3\",\"P105.3\",\"P106.3\",\"P108.3\",\"P151.1\",\"D203.0\",\"P201.1\",\"P204.3\",\"P205.3\",\"P206.3\",\"P251.1\",\"P252.2\",\"P254.3\",\"P255.3\",\"D302.0\",\"P301.3\"]\n",
    "         service=\"Not defined\"\n",
    "print(indic)\n",
    "print(service)"
   ]
  },
  {
   "cell_type": "markdown",
   "id": "0fe13188-6763-4f3f-8a15-bc2375f0b29f",
   "metadata": {},
   "source": [
    "#### L'année du rapport"
   ]
  },
  {
   "cell_type": "code",
   "execution_count": 692,
   "id": "b1bb22f9-7270-4226-813b-88ff6858a5dc",
   "metadata": {},
   "outputs": [
    {
     "name": "stdout",
     "output_type": "stream",
     "text": [
      "{'score': 0.8883946537971497, 'start': 127, 'end': 132, 'answer': ' 2021'}\n"
     ]
    }
   ],
   "source": [
    "année=nlp({'question': \"Quelle est l'année d'exercice du rapport ?\",\n",
    "         'context': text1})\n",
    "print(année)"
   ]
  },
  {
   "cell_type": "code",
   "execution_count": 693,
   "id": "41fc4844-dd0f-4367-b56a-46e43c757681",
   "metadata": {},
   "outputs": [],
   "source": [
    "an=normalize_text(année['answer']) # on normalise la réponse afin de n'avoir que l'année "
   ]
  },
  {
   "cell_type": "markdown",
   "id": "a5180731-c3c2-4c9b-a5c0-8f3e10cd88fc",
   "metadata": {},
   "source": [
    "#### La ville\n",
    "Pour comparer avec les résultats prédits"
   ]
  },
  {
   "cell_type": "code",
   "execution_count": 694,
   "id": "d72e6557-47a3-420a-90a2-919f71e08d3e",
   "metadata": {},
   "outputs": [
    {
     "name": "stdout",
     "output_type": "stream",
     "text": [
      " Estal\n"
     ]
    }
   ],
   "source": [
    "d_ville=nlp({'question': \"Quel est le nom de la ville?\",\n",
    "         'context': text1})\n",
    "ville1=d_ville['answer']\n",
    "print(ville1)"
   ]
  },
  {
   "cell_type": "code",
   "execution_count": 695,
   "id": "f3386a28-cfaf-4964-9dcf-39d47f38a6f8",
   "metadata": {},
   "outputs": [
    {
     "name": "stdout",
     "output_type": "stream",
     "text": [
      " Estal\n"
     ]
    }
   ],
   "source": [
    "d_ville=nlp({'question': \"Quel est le nom de la collectivité?\",\n",
    "         'context': text1})\n",
    "ville2=d_ville['answer']\n",
    "print(ville2)"
   ]
  },
  {
   "cell_type": "raw",
   "id": "58a3ca04-1c75-4c5a-8827-9c7350603eec",
   "metadata": {},
   "source": [
    "ville=normalize(ville)\n",
    "ville"
   ]
  },
  {
   "cell_type": "code",
   "execution_count": 696,
   "id": "259082cb-8e50-4de1-b15e-9ae368476e94",
   "metadata": {},
   "outputs": [],
   "source": [
    "cols=df.columns"
   ]
  },
  {
   "cell_type": "code",
   "execution_count": 697,
   "id": "8cfff413-5a9c-4249-9ca8-cd074fa1095d",
   "metadata": {},
   "outputs": [
    {
     "name": "stdout",
     "output_type": "stream",
     "text": [
      "ville trouvée 4299 estal  Estal\n",
      "estal\n"
     ]
    }
   ],
   "source": [
    "df_ville=pd.DataFrame(columns=[cols])\n",
    "f1=0\n",
    "row_list=[]\n",
    "ind=''\n",
    "for i in df_publi.index:\n",
    "    if normalize(df[\"Nom collectivité\"][i])==normalize(ville2):\n",
    "        print('ville trouvée',i,df[\"Nom collectivité\"][i],ville1)\n",
    "        row_list.append(df_publi.loc[i])\n",
    "df_ville=pd.DataFrame(row_list)\n",
    "ville=normalize(ville1)\n",
    "print(ville)\n",
    "if df_ville.empty:\n",
    "    ('empty2')\n",
    "    for i in df_publi.index:\n",
    "            #print(type(f1))\n",
    "            if compute_f1(df[\"Nom collectivité\"][i],ville) > f1:\n",
    "                print(i)\n",
    "                ind=i \n",
    "                f1=compute_f1(df[\"Nom collectivité\"][i],ville)\n",
    "    if not ind:\n",
    "        print('ville not found')\n",
    "    else:\n",
    "        row_list.append(df_publi.loc[ind])\n",
    "        df_ville=pd.DataFrame(row_list)\n",
    "        print(df_publi[\"Nom collectivité\"][ind])\n",
    "        print(ind)\n",
    "            \n",
    "        "
   ]
  },
  {
   "cell_type": "code",
   "execution_count": 698,
   "id": "69c58dea-e30f-4980-8336-cf9d954935b5",
   "metadata": {},
   "outputs": [
    {
     "data": {
      "text/html": [
       "<div>\n",
       "<style scoped>\n",
       "    .dataframe tbody tr th:only-of-type {\n",
       "        vertical-align: middle;\n",
       "    }\n",
       "\n",
       "    .dataframe tbody tr th {\n",
       "        vertical-align: top;\n",
       "    }\n",
       "\n",
       "    .dataframe thead th {\n",
       "        text-align: right;\n",
       "    }\n",
       "</style>\n",
       "<table border=\"1\" class=\"dataframe\">\n",
       "  <thead>\n",
       "    <tr style=\"text-align: right;\">\n",
       "      <th></th>\n",
       "      <th>DPT du siège de la coll.</th>\n",
       "      <th>Id SISPEA de la collectivité</th>\n",
       "      <th>Nom collectivité</th>\n",
       "      <th>Courriels des utilisateurs collectivité</th>\n",
       "      <th>Type collectivité</th>\n",
       "      <th>N° SIREN</th>\n",
       "      <th>N° INSEE si commune</th>\n",
       "      <th>Communes membres de la coll</th>\n",
       "      <th>Avec ou sans CCSPL</th>\n",
       "      <th>Production</th>\n",
       "      <th>...</th>\n",
       "      <th>P105.3</th>\n",
       "      <th>P106.3</th>\n",
       "      <th>P107.2</th>\n",
       "      <th>P108.3</th>\n",
       "      <th>P109.0</th>\n",
       "      <th>P151.1</th>\n",
       "      <th>P152.1</th>\n",
       "      <th>P153.2</th>\n",
       "      <th>P154.0</th>\n",
       "      <th>P155.1</th>\n",
       "    </tr>\n",
       "  </thead>\n",
       "  <tbody>\n",
       "    <tr>\n",
       "      <th>4299</th>\n",
       "      <td>046</td>\n",
       "      <td>169529</td>\n",
       "      <td>estal</td>\n",
       "      <td>estal.mairie@wanadoo.fr</td>\n",
       "      <td>Commune</td>\n",
       "      <td>214600975.0</td>\n",
       "      <td>46097</td>\n",
       "      <td>1</td>\n",
       "      <td>Non</td>\n",
       "      <td>Non</td>\n",
       "      <td>...</td>\n",
       "      <td>0.1</td>\n",
       "      <td>NaN</td>\n",
       "      <td>0.0</td>\n",
       "      <td>100.0</td>\n",
       "      <td>0.0</td>\n",
       "      <td>0.0</td>\n",
       "      <td>100.0</td>\n",
       "      <td>NaN</td>\n",
       "      <td>0.0</td>\n",
       "      <td>0.0</td>\n",
       "    </tr>\n",
       "  </tbody>\n",
       "</table>\n",
       "<p>1 rows × 31 columns</p>\n",
       "</div>"
      ],
      "text/plain": [
       "     DPT du siège de la coll.  Id SISPEA de la collectivité Nom collectivité  \\\n",
       "4299                      046                        169529            estal   \n",
       "\n",
       "     Courriels des utilisateurs collectivité Type collectivité     N° SIREN  \\\n",
       "4299                 estal.mairie@wanadoo.fr           Commune  214600975.0   \n",
       "\n",
       "     N° INSEE si commune  Communes membres de la coll Avec ou sans CCSPL  \\\n",
       "4299               46097                            1                Non   \n",
       "\n",
       "     Production  ... P105.3 P106.3  P107.2 P108.3  P109.0  P151.1  P152.1  \\\n",
       "4299        Non  ...    0.1    NaN     0.0  100.0     0.0     0.0   100.0   \n",
       "\n",
       "      P153.2  P154.0  P155.1  \n",
       "4299     NaN     0.0     0.0  \n",
       "\n",
       "[1 rows x 31 columns]"
      ]
     },
     "execution_count": 698,
     "metadata": {},
     "output_type": "execute_result"
    }
   ],
   "source": [
    "df_ville"
   ]
  },
  {
   "cell_type": "code",
   "execution_count": 699,
   "id": "bf3971aa-9381-483c-aefe-672e7614ad65",
   "metadata": {},
   "outputs": [
    {
     "data": {
      "text/plain": [
       "False"
      ]
     },
     "execution_count": 699,
     "metadata": {},
     "output_type": "execute_result"
    }
   ],
   "source": [
    "df_ville.empty"
   ]
  },
  {
   "cell_type": "markdown",
   "id": "04e343ed-2242-48fe-a91d-d6ddf8688632",
   "metadata": {
    "jp-MarkdownHeadingCollapsed": true
   },
   "source": [
    "## On charge tout le texte du PDF\n",
    "On va maintenant extraire les valeurs des RPQS"
   ]
  },
  {
   "cell_type": "raw",
   "id": "7001391e-3286-4bc5-a547-c7970f3aea93",
   "metadata": {},
   "source": [
    "On charge toutes les pages du PDF"
   ]
  },
  {
   "cell_type": "code",
   "execution_count": 401,
   "id": "8d94e31b-6c70-431e-8214-19d8341faede",
   "metadata": {},
   "outputs": [
    {
     "name": "stdout",
     "output_type": "stream",
     "text": [
      "20\n"
     ]
    }
   ],
   "source": [
    "S3_ENDPOINT_URL = \"https://\" + os.environ[\"AWS_S3_ENDPOINT\"]\n",
    "fs = s3fs.S3FileSystem(client_kwargs={'endpoint_url': S3_ENDPOINT_URL})\n",
    "BUCKET = \"mberthe/narval\"\n",
    "fs.ls(BUCKET)\n",
    "BUCKET = \"mberthe/narval\"\n",
    "FILE_KEY_S3 = nom_fichier # entrer le nom du PDF\n",
    "FILE_PATH_S3 = BUCKET + \"/\" + FILE_KEY_S3\n",
    "\n",
    "with fs.open(FILE_PATH_S3, mode=\"rb\") as file_in:\n",
    "    reader = PdfReader(file_in)\n",
    "    page=reader.pages\n",
    "    count = len(reader.pages)\n",
    "    print(count)\n",
    "    text=[]\n",
    "    for i in range(count):\n",
    "        page = reader.pages[i]\n",
    "        output = page.extract_text()\n",
    "        text.append(output)"
   ]
  },
  {
   "cell_type": "raw",
   "id": "b3ab1bea-05c8-4a84-adc6-c6fc627fd463",
   "metadata": {},
   "source": [
    "On associe à chaque mot clé les pages dans lesquelles il est cité "
   ]
  },
  {
   "cell_type": "code",
   "execution_count": 402,
   "id": "12fab968-4013-4a36-990b-a35fc0eaf583",
   "metadata": {},
   "outputs": [
    {
     "name": "stdout",
     "output_type": "stream",
     "text": [
      "question: 1 page 0\n",
      "question: 1 page 11\n",
      "question: 3 page 1\n",
      "question: 3 page 12\n",
      "question: 3 page 13\n",
      "question: 3 page 19\n",
      "question: 5 page 1\n",
      "question: 5 page 13\n",
      "question: 9 page 2\n",
      "question: 9 page 14\n",
      "question: 9 page 15\n",
      "question: 9 page 17\n",
      "question: 11 page 1\n",
      "question: 11 page 10\n",
      "question: 11 page 19\n",
      "question: 13 page 12\n",
      "question: 13 page 13\n",
      "question: 13 page 19\n",
      "question: 15 page 1\n",
      "question: 21 page 1\n",
      "question: 21 page 10\n",
      "question: 21 page 19\n",
      "question: 23 page 12\n",
      "question: 23 page 13\n",
      "question: 23 page 19\n",
      "question: 25 page 1\n",
      "question: 36 page 17\n",
      "question: 38 page 0\n",
      "question: 38 page 11\n",
      "question: 40 page 1\n",
      "question: 40 page 12\n",
      "question: 40 page 13\n",
      "question: 40 page 19\n",
      "question: 42 page 1\n",
      "question: 42 page 13\n",
      "question: 49 page 1\n",
      "question: 49 page 18\n",
      "question: 49 page 19\n",
      "question: 53 page 1\n",
      "question: 57 page 1\n",
      "question: 59 page 1\n",
      "question: 61 page 1\n",
      "question: 63 page 1\n",
      "question: 65 page 1\n",
      "question: 72 page 1\n",
      "question: 72 page 2\n",
      "question: 72 page 8\n",
      "question: 72 page 11\n",
      "question: 72 page 15\n",
      "question: 72 page 16\n",
      "question: 72 page 19\n",
      "question: 73 page 1\n",
      "question: 73 page 8\n",
      "question: 73 page 19\n",
      "question: 74 page 1\n",
      "question: 74 page 3\n",
      "question: 74 page 4\n",
      "question: 74 page 6\n",
      "question: 74 page 7\n",
      "question: 74 page 9\n",
      "question: 74 page 12\n",
      "question: 75 page 1\n",
      "question: 75 page 12\n",
      "question: 75 page 19\n",
      "question: 76 page 1\n",
      "question: 76 page 5\n",
      "question: 76 page 13\n",
      "question: 76 page 14\n",
      "question: 76 page 19\n",
      "question: 77 page 1\n",
      "question: 77 page 14\n",
      "question: 77 page 19\n",
      "question: 78 page 1\n",
      "question: 78 page 12\n",
      "question: 78 page 15\n",
      "question: 78 page 17\n",
      "question: 78 page 19\n",
      "question: 79 page 1\n",
      "question: 79 page 15\n",
      "question: 79 page 19\n",
      "question: 80 page 1\n",
      "question: 80 page 2\n",
      "question: 80 page 8\n",
      "question: 80 page 11\n",
      "question: 80 page 15\n",
      "question: 80 page 16\n",
      "question: 80 page 19\n",
      "question: 81 page 1\n",
      "question: 81 page 15\n",
      "question: 81 page 19\n",
      "question: 82 page 1\n",
      "question: 83 page 1\n",
      "question: 84 page 1\n",
      "question: 85 page 0\n",
      "question: 86 page 1\n",
      "question: 87 page 1\n",
      "question: 88 page 1\n",
      "question: 96 page 1\n",
      "question: 96 page 18\n",
      "question: 96 page 19\n",
      "question: 97 page 1\n",
      "question: 97 page 11\n",
      "question: 97 page 17\n",
      "question: 100 page 1\n",
      "question: 100 page 12\n",
      "question: 100 page 13\n",
      "question: 100 page 19\n",
      "question: 101 page 1\n"
     ]
    }
   ],
   "source": [
    "pages =[]\n",
    "for i in question.index:\n",
    "    my_list=[]\n",
    "    if question[\"indic\"][i] in indic:\n",
    "        for j in text:\n",
    "            #print(re.findall(f1[\"mot\"][i],j))\n",
    "                if (re.findall(question[\"mot\"][i],j)!=[]):\n",
    "                    my_list.append(j)\n",
    "                    print(\"question:\",i,\"page\",text.index(j))\n",
    "            #print(my_list)\n",
    "    pages.append(my_list)\n",
    "#len(pages[2])  "
   ]
  },
  {
   "cell_type": "markdown",
   "id": "4c90e49e-7762-4989-a269-1697d95a3abe",
   "metadata": {
    "jp-MarkdownHeadingCollapsed": true
   },
   "source": [
    "## Prédictions:"
   ]
  },
  {
   "cell_type": "markdown",
   "id": "c533af10-64f8-4500-a6a6-db9acee55552",
   "metadata": {},
   "source": [
    "On pose maintenant toutes les questions"
   ]
  },
  {
   "cell_type": "code",
   "execution_count": 386,
   "id": "6dd2d087-30c7-4e5d-b40b-b2a04c89087b",
   "metadata": {},
   "outputs": [
    {
     "name": "stdout",
     "output_type": "stream",
     "text": [
      "question : 0\n",
      "question : 1\n",
      "page: 0\n"
     ]
    },
    {
     "ename": "RuntimeError",
     "evalue": "Expected all tensors to be on the same device, but found at least two devices, cpu and cuda:0! (when checking argument for argument index in method wrapper_CUDA__index_select)",
     "output_type": "error",
     "traceback": [
      "\u001b[0;31m---------------------------------------------------------------------------\u001b[0m",
      "\u001b[0;31mRuntimeError\u001b[0m                              Traceback (most recent call last)",
      "Cell \u001b[0;32mIn[386], line 11\u001b[0m\n\u001b[1;32m      7\u001b[0m input_text \u001b[38;5;241m=\u001b[39m \u001b[38;5;124m'\u001b[39m\u001b[38;5;124mcontexte: \u001b[39m\u001b[38;5;124m'\u001b[39m\u001b[38;5;241m+\u001b[39m j \u001b[38;5;241m+\u001b[39m \u001b[38;5;124m'\u001b[39m\u001b[38;5;124mquestion: \u001b[39m\u001b[38;5;124m'\u001b[39m \u001b[38;5;241m+\u001b[39m question[\u001b[38;5;124m'\u001b[39m\u001b[38;5;124mquestion\u001b[39m\u001b[38;5;124m'\u001b[39m][i] \u001b[38;5;241m+\u001b[39m \u001b[38;5;124m\"\u001b[39m\u001b[38;5;124men \u001b[39m\u001b[38;5;124m\"\u001b[39m\u001b[38;5;241m+\u001b[39m an \u001b[38;5;241m+\u001b[39m \u001b[38;5;124m\"\u001b[39m\u001b[38;5;124m ?\u001b[39m\u001b[38;5;124m\"\u001b[39m\n\u001b[1;32m      8\u001b[0m input_ids \u001b[38;5;241m=\u001b[39m tokenizer(input_text, max_length\u001b[38;5;241m=\u001b[39m\u001b[38;5;241m300\u001b[39m,\n\u001b[1;32m      9\u001b[0m     truncation\u001b[38;5;241m=\u001b[39m\u001b[38;5;124m\"\u001b[39m\u001b[38;5;124monly_second\u001b[39m\u001b[38;5;124m\"\u001b[39m,\n\u001b[1;32m     10\u001b[0m     padding\u001b[38;5;241m=\u001b[39m\u001b[38;5;124m\"\u001b[39m\u001b[38;5;124mmax_length\u001b[39m\u001b[38;5;124m\"\u001b[39m,return_tensors\u001b[38;5;241m=\u001b[39m\u001b[38;5;124m\"\u001b[39m\u001b[38;5;124mpt\u001b[39m\u001b[38;5;124m\"\u001b[39m)\u001b[38;5;241m.\u001b[39minput_ids\u001b[38;5;241m.\u001b[39mto(\u001b[38;5;124m'\u001b[39m\u001b[38;5;124mcuda\u001b[39m\u001b[38;5;124m'\u001b[39m)\n\u001b[0;32m---> 11\u001b[0m outputs \u001b[38;5;241m=\u001b[39m \u001b[43mmodel\u001b[49m\u001b[38;5;241;43m.\u001b[39;49m\u001b[43mgenerate\u001b[49m\u001b[43m(\u001b[49m\u001b[43minput_ids\u001b[49m\u001b[43m)\u001b[49m\n\u001b[1;32m     12\u001b[0m list_pred\u001b[38;5;241m.\u001b[39mappend(tokenizer\u001b[38;5;241m.\u001b[39mdecode(outputs[\u001b[38;5;241m0\u001b[39m]))\n\u001b[1;32m     13\u001b[0m \u001b[38;5;66;03m#print(tokenizer.decode(outputs[0]))\u001b[39;00m\n",
      "File \u001b[0;32m/opt/mamba/lib/python3.11/site-packages/torch/utils/_contextlib.py:115\u001b[0m, in \u001b[0;36mcontext_decorator.<locals>.decorate_context\u001b[0;34m(*args, **kwargs)\u001b[0m\n\u001b[1;32m    112\u001b[0m \u001b[38;5;129m@functools\u001b[39m\u001b[38;5;241m.\u001b[39mwraps(func)\n\u001b[1;32m    113\u001b[0m \u001b[38;5;28;01mdef\u001b[39;00m \u001b[38;5;21mdecorate_context\u001b[39m(\u001b[38;5;241m*\u001b[39margs, \u001b[38;5;241m*\u001b[39m\u001b[38;5;241m*\u001b[39mkwargs):\n\u001b[1;32m    114\u001b[0m     \u001b[38;5;28;01mwith\u001b[39;00m ctx_factory():\n\u001b[0;32m--> 115\u001b[0m         \u001b[38;5;28;01mreturn\u001b[39;00m \u001b[43mfunc\u001b[49m\u001b[43m(\u001b[49m\u001b[38;5;241;43m*\u001b[39;49m\u001b[43margs\u001b[49m\u001b[43m,\u001b[49m\u001b[43m \u001b[49m\u001b[38;5;241;43m*\u001b[39;49m\u001b[38;5;241;43m*\u001b[39;49m\u001b[43mkwargs\u001b[49m\u001b[43m)\u001b[49m\n",
      "File \u001b[0;32m/opt/mamba/lib/python3.11/site-packages/transformers/generation/utils.py:1345\u001b[0m, in \u001b[0;36mGenerationMixin.generate\u001b[0;34m(self, inputs, generation_config, logits_processor, stopping_criteria, prefix_allowed_tokens_fn, synced_gpus, assistant_model, streamer, **kwargs)\u001b[0m\n\u001b[1;32m   1337\u001b[0m         logger\u001b[38;5;241m.\u001b[39mwarning(\n\u001b[1;32m   1338\u001b[0m             \u001b[38;5;124m\"\u001b[39m\u001b[38;5;124mA decoder-only architecture is being used, but right-padding was detected! For correct \u001b[39m\u001b[38;5;124m\"\u001b[39m\n\u001b[1;32m   1339\u001b[0m             \u001b[38;5;124m\"\u001b[39m\u001b[38;5;124mgeneration results, please set `padding_side=\u001b[39m\u001b[38;5;124m'\u001b[39m\u001b[38;5;124mleft\u001b[39m\u001b[38;5;124m'\u001b[39m\u001b[38;5;124m` when initializing the tokenizer.\u001b[39m\u001b[38;5;124m\"\u001b[39m\n\u001b[1;32m   1340\u001b[0m         )\n\u001b[1;32m   1342\u001b[0m \u001b[38;5;28;01mif\u001b[39;00m \u001b[38;5;28mself\u001b[39m\u001b[38;5;241m.\u001b[39mconfig\u001b[38;5;241m.\u001b[39mis_encoder_decoder \u001b[38;5;129;01mand\u001b[39;00m \u001b[38;5;124m\"\u001b[39m\u001b[38;5;124mencoder_outputs\u001b[39m\u001b[38;5;124m\"\u001b[39m \u001b[38;5;129;01mnot\u001b[39;00m \u001b[38;5;129;01min\u001b[39;00m model_kwargs:\n\u001b[1;32m   1343\u001b[0m     \u001b[38;5;66;03m# if model is encoder decoder encoder_outputs are created\u001b[39;00m\n\u001b[1;32m   1344\u001b[0m     \u001b[38;5;66;03m# and added to `model_kwargs`\u001b[39;00m\n\u001b[0;32m-> 1345\u001b[0m     model_kwargs \u001b[38;5;241m=\u001b[39m \u001b[38;5;28;43mself\u001b[39;49m\u001b[38;5;241;43m.\u001b[39;49m\u001b[43m_prepare_encoder_decoder_kwargs_for_generation\u001b[49m\u001b[43m(\u001b[49m\n\u001b[1;32m   1346\u001b[0m \u001b[43m        \u001b[49m\u001b[43minputs_tensor\u001b[49m\u001b[43m,\u001b[49m\u001b[43m \u001b[49m\u001b[43mmodel_kwargs\u001b[49m\u001b[43m,\u001b[49m\u001b[43m \u001b[49m\u001b[43mmodel_input_name\u001b[49m\n\u001b[1;32m   1347\u001b[0m \u001b[43m    \u001b[49m\u001b[43m)\u001b[49m\n\u001b[1;32m   1349\u001b[0m \u001b[38;5;66;03m# 5. Prepare `input_ids` which will be used for auto-regressive generation\u001b[39;00m\n\u001b[1;32m   1350\u001b[0m \u001b[38;5;28;01mif\u001b[39;00m \u001b[38;5;28mself\u001b[39m\u001b[38;5;241m.\u001b[39mconfig\u001b[38;5;241m.\u001b[39mis_encoder_decoder:\n",
      "File \u001b[0;32m/opt/mamba/lib/python3.11/site-packages/transformers/generation/utils.py:644\u001b[0m, in \u001b[0;36mGenerationMixin._prepare_encoder_decoder_kwargs_for_generation\u001b[0;34m(self, inputs_tensor, model_kwargs, model_input_name)\u001b[0m\n\u001b[1;32m    642\u001b[0m encoder_kwargs[\u001b[38;5;124m\"\u001b[39m\u001b[38;5;124mreturn_dict\u001b[39m\u001b[38;5;124m\"\u001b[39m] \u001b[38;5;241m=\u001b[39m \u001b[38;5;28;01mTrue\u001b[39;00m\n\u001b[1;32m    643\u001b[0m encoder_kwargs[model_input_name] \u001b[38;5;241m=\u001b[39m inputs_tensor\n\u001b[0;32m--> 644\u001b[0m model_kwargs[\u001b[38;5;124m\"\u001b[39m\u001b[38;5;124mencoder_outputs\u001b[39m\u001b[38;5;124m\"\u001b[39m]: ModelOutput \u001b[38;5;241m=\u001b[39m \u001b[43mencoder\u001b[49m\u001b[43m(\u001b[49m\u001b[38;5;241;43m*\u001b[39;49m\u001b[38;5;241;43m*\u001b[39;49m\u001b[43mencoder_kwargs\u001b[49m\u001b[43m)\u001b[49m\n\u001b[1;32m    646\u001b[0m \u001b[38;5;28;01mreturn\u001b[39;00m model_kwargs\n",
      "File \u001b[0;32m/opt/mamba/lib/python3.11/site-packages/torch/nn/modules/module.py:1501\u001b[0m, in \u001b[0;36mModule._call_impl\u001b[0;34m(self, *args, **kwargs)\u001b[0m\n\u001b[1;32m   1496\u001b[0m \u001b[38;5;66;03m# If we don't have any hooks, we want to skip the rest of the logic in\u001b[39;00m\n\u001b[1;32m   1497\u001b[0m \u001b[38;5;66;03m# this function, and just call forward.\u001b[39;00m\n\u001b[1;32m   1498\u001b[0m \u001b[38;5;28;01mif\u001b[39;00m \u001b[38;5;129;01mnot\u001b[39;00m (\u001b[38;5;28mself\u001b[39m\u001b[38;5;241m.\u001b[39m_backward_hooks \u001b[38;5;129;01mor\u001b[39;00m \u001b[38;5;28mself\u001b[39m\u001b[38;5;241m.\u001b[39m_backward_pre_hooks \u001b[38;5;129;01mor\u001b[39;00m \u001b[38;5;28mself\u001b[39m\u001b[38;5;241m.\u001b[39m_forward_hooks \u001b[38;5;129;01mor\u001b[39;00m \u001b[38;5;28mself\u001b[39m\u001b[38;5;241m.\u001b[39m_forward_pre_hooks\n\u001b[1;32m   1499\u001b[0m         \u001b[38;5;129;01mor\u001b[39;00m _global_backward_pre_hooks \u001b[38;5;129;01mor\u001b[39;00m _global_backward_hooks\n\u001b[1;32m   1500\u001b[0m         \u001b[38;5;129;01mor\u001b[39;00m _global_forward_hooks \u001b[38;5;129;01mor\u001b[39;00m _global_forward_pre_hooks):\n\u001b[0;32m-> 1501\u001b[0m     \u001b[38;5;28;01mreturn\u001b[39;00m \u001b[43mforward_call\u001b[49m\u001b[43m(\u001b[49m\u001b[38;5;241;43m*\u001b[39;49m\u001b[43margs\u001b[49m\u001b[43m,\u001b[49m\u001b[43m \u001b[49m\u001b[38;5;241;43m*\u001b[39;49m\u001b[38;5;241;43m*\u001b[39;49m\u001b[43mkwargs\u001b[49m\u001b[43m)\u001b[49m\n\u001b[1;32m   1502\u001b[0m \u001b[38;5;66;03m# Do not call functions when jit is used\u001b[39;00m\n\u001b[1;32m   1503\u001b[0m full_backward_hooks, non_full_backward_hooks \u001b[38;5;241m=\u001b[39m [], []\n",
      "File \u001b[0;32m/opt/mamba/lib/python3.11/site-packages/transformers/models/t5/modeling_t5.py:992\u001b[0m, in \u001b[0;36mT5Stack.forward\u001b[0;34m(self, input_ids, attention_mask, encoder_hidden_states, encoder_attention_mask, inputs_embeds, head_mask, cross_attn_head_mask, past_key_values, use_cache, output_attentions, output_hidden_states, return_dict)\u001b[0m\n\u001b[1;32m    990\u001b[0m     \u001b[38;5;28;01mif\u001b[39;00m \u001b[38;5;28mself\u001b[39m\u001b[38;5;241m.\u001b[39membed_tokens \u001b[38;5;129;01mis\u001b[39;00m \u001b[38;5;28;01mNone\u001b[39;00m:\n\u001b[1;32m    991\u001b[0m         \u001b[38;5;28;01mraise\u001b[39;00m \u001b[38;5;167;01mValueError\u001b[39;00m(\u001b[38;5;124m\"\u001b[39m\u001b[38;5;124mYou have to initialize the model with valid token embeddings\u001b[39m\u001b[38;5;124m\"\u001b[39m)\n\u001b[0;32m--> 992\u001b[0m     inputs_embeds \u001b[38;5;241m=\u001b[39m \u001b[38;5;28;43mself\u001b[39;49m\u001b[38;5;241;43m.\u001b[39;49m\u001b[43membed_tokens\u001b[49m\u001b[43m(\u001b[49m\u001b[43minput_ids\u001b[49m\u001b[43m)\u001b[49m\n\u001b[1;32m    994\u001b[0m batch_size, seq_length \u001b[38;5;241m=\u001b[39m input_shape\n\u001b[1;32m    996\u001b[0m \u001b[38;5;66;03m# required mask seq length can be calculated via length of past\u001b[39;00m\n",
      "File \u001b[0;32m/opt/mamba/lib/python3.11/site-packages/torch/nn/modules/module.py:1501\u001b[0m, in \u001b[0;36mModule._call_impl\u001b[0;34m(self, *args, **kwargs)\u001b[0m\n\u001b[1;32m   1496\u001b[0m \u001b[38;5;66;03m# If we don't have any hooks, we want to skip the rest of the logic in\u001b[39;00m\n\u001b[1;32m   1497\u001b[0m \u001b[38;5;66;03m# this function, and just call forward.\u001b[39;00m\n\u001b[1;32m   1498\u001b[0m \u001b[38;5;28;01mif\u001b[39;00m \u001b[38;5;129;01mnot\u001b[39;00m (\u001b[38;5;28mself\u001b[39m\u001b[38;5;241m.\u001b[39m_backward_hooks \u001b[38;5;129;01mor\u001b[39;00m \u001b[38;5;28mself\u001b[39m\u001b[38;5;241m.\u001b[39m_backward_pre_hooks \u001b[38;5;129;01mor\u001b[39;00m \u001b[38;5;28mself\u001b[39m\u001b[38;5;241m.\u001b[39m_forward_hooks \u001b[38;5;129;01mor\u001b[39;00m \u001b[38;5;28mself\u001b[39m\u001b[38;5;241m.\u001b[39m_forward_pre_hooks\n\u001b[1;32m   1499\u001b[0m         \u001b[38;5;129;01mor\u001b[39;00m _global_backward_pre_hooks \u001b[38;5;129;01mor\u001b[39;00m _global_backward_hooks\n\u001b[1;32m   1500\u001b[0m         \u001b[38;5;129;01mor\u001b[39;00m _global_forward_hooks \u001b[38;5;129;01mor\u001b[39;00m _global_forward_pre_hooks):\n\u001b[0;32m-> 1501\u001b[0m     \u001b[38;5;28;01mreturn\u001b[39;00m \u001b[43mforward_call\u001b[49m\u001b[43m(\u001b[49m\u001b[38;5;241;43m*\u001b[39;49m\u001b[43margs\u001b[49m\u001b[43m,\u001b[49m\u001b[43m \u001b[49m\u001b[38;5;241;43m*\u001b[39;49m\u001b[38;5;241;43m*\u001b[39;49m\u001b[43mkwargs\u001b[49m\u001b[43m)\u001b[49m\n\u001b[1;32m   1502\u001b[0m \u001b[38;5;66;03m# Do not call functions when jit is used\u001b[39;00m\n\u001b[1;32m   1503\u001b[0m full_backward_hooks, non_full_backward_hooks \u001b[38;5;241m=\u001b[39m [], []\n",
      "File \u001b[0;32m/opt/mamba/lib/python3.11/site-packages/torch/nn/modules/sparse.py:162\u001b[0m, in \u001b[0;36mEmbedding.forward\u001b[0;34m(self, input)\u001b[0m\n\u001b[1;32m    161\u001b[0m \u001b[38;5;28;01mdef\u001b[39;00m \u001b[38;5;21mforward\u001b[39m(\u001b[38;5;28mself\u001b[39m, \u001b[38;5;28minput\u001b[39m: Tensor) \u001b[38;5;241m-\u001b[39m\u001b[38;5;241m>\u001b[39m Tensor:\n\u001b[0;32m--> 162\u001b[0m     \u001b[38;5;28;01mreturn\u001b[39;00m \u001b[43mF\u001b[49m\u001b[38;5;241;43m.\u001b[39;49m\u001b[43membedding\u001b[49m\u001b[43m(\u001b[49m\n\u001b[1;32m    163\u001b[0m \u001b[43m        \u001b[49m\u001b[38;5;28;43minput\u001b[39;49m\u001b[43m,\u001b[49m\u001b[43m \u001b[49m\u001b[38;5;28;43mself\u001b[39;49m\u001b[38;5;241;43m.\u001b[39;49m\u001b[43mweight\u001b[49m\u001b[43m,\u001b[49m\u001b[43m \u001b[49m\u001b[38;5;28;43mself\u001b[39;49m\u001b[38;5;241;43m.\u001b[39;49m\u001b[43mpadding_idx\u001b[49m\u001b[43m,\u001b[49m\u001b[43m \u001b[49m\u001b[38;5;28;43mself\u001b[39;49m\u001b[38;5;241;43m.\u001b[39;49m\u001b[43mmax_norm\u001b[49m\u001b[43m,\u001b[49m\n\u001b[1;32m    164\u001b[0m \u001b[43m        \u001b[49m\u001b[38;5;28;43mself\u001b[39;49m\u001b[38;5;241;43m.\u001b[39;49m\u001b[43mnorm_type\u001b[49m\u001b[43m,\u001b[49m\u001b[43m \u001b[49m\u001b[38;5;28;43mself\u001b[39;49m\u001b[38;5;241;43m.\u001b[39;49m\u001b[43mscale_grad_by_freq\u001b[49m\u001b[43m,\u001b[49m\u001b[43m \u001b[49m\u001b[38;5;28;43mself\u001b[39;49m\u001b[38;5;241;43m.\u001b[39;49m\u001b[43msparse\u001b[49m\u001b[43m)\u001b[49m\n",
      "File \u001b[0;32m/opt/mamba/lib/python3.11/site-packages/torch/nn/functional.py:2210\u001b[0m, in \u001b[0;36membedding\u001b[0;34m(input, weight, padding_idx, max_norm, norm_type, scale_grad_by_freq, sparse)\u001b[0m\n\u001b[1;32m   2204\u001b[0m     \u001b[38;5;66;03m# Note [embedding_renorm set_grad_enabled]\u001b[39;00m\n\u001b[1;32m   2205\u001b[0m     \u001b[38;5;66;03m# XXX: equivalent to\u001b[39;00m\n\u001b[1;32m   2206\u001b[0m     \u001b[38;5;66;03m# with torch.no_grad():\u001b[39;00m\n\u001b[1;32m   2207\u001b[0m     \u001b[38;5;66;03m#   torch.embedding_renorm_\u001b[39;00m\n\u001b[1;32m   2208\u001b[0m     \u001b[38;5;66;03m# remove once script supports set_grad_enabled\u001b[39;00m\n\u001b[1;32m   2209\u001b[0m     _no_grad_embedding_renorm_(weight, \u001b[38;5;28minput\u001b[39m, max_norm, norm_type)\n\u001b[0;32m-> 2210\u001b[0m \u001b[38;5;28;01mreturn\u001b[39;00m \u001b[43mtorch\u001b[49m\u001b[38;5;241;43m.\u001b[39;49m\u001b[43membedding\u001b[49m\u001b[43m(\u001b[49m\u001b[43mweight\u001b[49m\u001b[43m,\u001b[49m\u001b[43m \u001b[49m\u001b[38;5;28;43minput\u001b[39;49m\u001b[43m,\u001b[49m\u001b[43m \u001b[49m\u001b[43mpadding_idx\u001b[49m\u001b[43m,\u001b[49m\u001b[43m \u001b[49m\u001b[43mscale_grad_by_freq\u001b[49m\u001b[43m,\u001b[49m\u001b[43m \u001b[49m\u001b[43msparse\u001b[49m\u001b[43m)\u001b[49m\n",
      "\u001b[0;31mRuntimeError\u001b[0m: Expected all tensors to be on the same device, but found at least two devices, cpu and cuda:0! (when checking argument for argument index in method wrapper_CUDA__index_select)"
     ]
    }
   ],
   "source": [
    "pred=[]\n",
    "for i in question.index:\n",
    "    print(\"question :\",i)\n",
    "    list_pred=[]\n",
    "    for j in pages[i]:\n",
    "        print(\"page:\",text.index(j))\n",
    "        input_text = 'contexte: '+ j + 'question: ' + question['question'][i] + \"en \"+ an + \" ?\"\n",
    "        input_ids = tokenizer(input_text, max_length=300,\n",
    "            truncation=\"only_second\",\n",
    "            padding=\"max_length\",return_tensors=\"pt\").input_ids.to('cuda')\n",
    "        outputs = model.generate(input_ids)\n",
    "        list_pred.append(tokenizer.decode(outputs[0]))\n",
    "        #print(tokenizer.decode(outputs[0]))\n",
    "    pred.append(list_pred)"
   ]
  },
  {
   "cell_type": "code",
   "execution_count": null,
   "id": "a7a8043b-2b0d-4450-8278-7895a4338d84",
   "metadata": {},
   "outputs": [],
   "source": [
    "pred1=question\n",
    "pred1[\"pred\"]=pred"
   ]
  },
  {
   "cell_type": "code",
   "execution_count": null,
   "id": "2e9c5b54-6ec2-4d01-bdc4-78f18f0736e6",
   "metadata": {},
   "outputs": [],
   "source": [
    "for i in pred1.index :\n",
    "     pred1[\"pred\"][i]=list(map(normalize_text, pred1[\"pred\"][i]))\n",
    "pred1.head(20)"
   ]
  },
  {
   "cell_type": "code",
   "execution_count": null,
   "id": "a8dc087c-74a3-473f-8942-3caafa510fb9",
   "metadata": {},
   "outputs": [],
   "source": [
    "for i in pred1.index :\n",
    "     pred1[\"pred\"][i]=list(map(normalize_text, pred1[\"pred\"][i]))\n",
    "#pred1.head(20)"
   ]
  },
  {
   "cell_type": "code",
   "execution_count": null,
   "id": "69b73046-4d90-46d7-9dc1-3a36b875473c",
   "metadata": {},
   "outputs": [],
   "source": [
    "#on affiche que les réponses prédites et pas les vides\n",
    "for i in pred1.index:\n",
    "    if not (pred1[\"pred\"][i]):\n",
    "        pred1=pred1.drop([i])"
   ]
  },
  {
   "cell_type": "code",
   "execution_count": null,
   "id": "9a76742c-dcec-4d1c-ad5e-cc75dde655f4",
   "metadata": {},
   "outputs": [],
   "source": [
    "#pred1.head(15)"
   ]
  },
  {
   "cell_type": "raw",
   "id": "2bcabba9-e45c-45ad-9cef-47630d198835",
   "metadata": {},
   "source": [
    "Dans ce cas on évite d'avoir une réponse si elle n'est pas dans le texte, car on ne pose pas la question si on ne trouve pas le mot clé dans le pdf, par exemple il n'y a pas deans ce pdf les codes indicateurs, et ceci apparait très clairement dasn les résultats "
   ]
  },
  {
   "cell_type": "code",
   "execution_count": null,
   "id": "ca42b1c1-57f0-4f06-9603-423a21919792",
   "metadata": {},
   "outputs": [],
   "source": [
    "#indic"
   ]
  },
  {
   "cell_type": "raw",
   "id": "2d3c40d8-e4e9-466e-b8e2-acaa9d9e6455",
   "metadata": {},
   "source": [
    "On fait une jointure sur le nom de l'indcateur, afin de regrouper toutes les réponses correspondantes à un indicateur donné"
   ]
  },
  {
   "cell_type": "code",
   "execution_count": 123,
   "id": "7f79e498-3bb2-46cc-8e31-4f0289bba5e6",
   "metadata": {},
   "outputs": [
    {
     "ename": "NameError",
     "evalue": "name 'pred1' is not defined",
     "output_type": "error",
     "traceback": [
      "\u001b[0;31m---------------------------------------------------------------------------\u001b[0m",
      "\u001b[0;31mNameError\u001b[0m                                 Traceback (most recent call last)",
      "Cell \u001b[0;32mIn[123], line 4\u001b[0m\n\u001b[1;32m      2\u001b[0m \u001b[38;5;28;01mfor\u001b[39;00m i \u001b[38;5;129;01min\u001b[39;00m indic:\n\u001b[1;32m      3\u001b[0m     my_list\u001b[38;5;241m=\u001b[39m[]\n\u001b[0;32m----> 4\u001b[0m     \u001b[38;5;28;01mfor\u001b[39;00m j \u001b[38;5;129;01min\u001b[39;00m \u001b[43mpred1\u001b[49m\u001b[38;5;241m.\u001b[39mindex:\n\u001b[1;32m      5\u001b[0m         \u001b[38;5;28;01mif\u001b[39;00m (pred1[\u001b[38;5;124m\"\u001b[39m\u001b[38;5;124mindic\u001b[39m\u001b[38;5;124m\"\u001b[39m][j]\u001b[38;5;241m==\u001b[39mi):\n\u001b[1;32m      6\u001b[0m             my_list\u001b[38;5;241m=\u001b[39mmy_list \u001b[38;5;241m+\u001b[39m pred1[\u001b[38;5;124m\"\u001b[39m\u001b[38;5;124mpred\u001b[39m\u001b[38;5;124m\"\u001b[39m][j]\n",
      "\u001b[0;31mNameError\u001b[0m: name 'pred1' is not defined"
     ]
    }
   ],
   "source": [
    "table=pd.DataFrame()\n",
    "for i in indic:\n",
    "    my_list=[]\n",
    "    for j in pred1.index:\n",
    "        if (pred1[\"indic\"][j]==i):\n",
    "            my_list=my_list + pred1[\"pred\"][j]\n",
    "    #print(i,my_list)\n",
    "    d={\"indic\":i,\"valeur\":my_list}\n",
    "    #print(d)\n",
    "    df_dictionary = pd.DataFrame([d])\n",
    "    table = pd.concat([table, df_dictionary], ignore_index=True)\n",
    "print(table.head())\n",
    "table.head()    "
   ]
  },
  {
   "cell_type": "code",
   "execution_count": 124,
   "id": "cd2758a3-a740-402b-af50-be42a41cdca3",
   "metadata": {},
   "outputs": [],
   "source": [
    "for l in table.index:\n",
    "    for i in table['valeur'][l]:\n",
    "        if (re.findall('\\d+',i)==[]):\n",
    "            table['valeur'][l].remove(i)\n",
    "for l in table.index:\n",
    "    for i in table['valeur'][l]:        \n",
    "        if (i==''):\n",
    "            table['valeur'][l].remove(i)"
   ]
  },
  {
   "cell_type": "code",
   "execution_count": 191,
   "id": "9b873188-8e26-4192-a50a-428da674b614",
   "metadata": {},
   "outputs": [],
   "source": [
    "for l in table.index:\n",
    "    for i in table[\"valeur\"][l]:\n",
    "        i = [item.split(' ') for item in i]\n",
    "#pred"
   ]
  },
  {
   "cell_type": "code",
   "execution_count": 192,
   "id": "27e7634c-0527-4d38-9308-d3e2f95cf6f8",
   "metadata": {},
   "outputs": [],
   "source": [
    "BUCKET_OUT = \"mberthe/narval\"\n",
    "FILE_KEY_OUT_S3 = \"camemBERT/pre_\" + nom_fichier + \"_T5_xl.csv\" #modif non du csv\n",
    "FILE_PATH_OUT_S3 = BUCKET_OUT + \"/\" + FILE_KEY_OUT_S3\n",
    "\n",
    "with fs.open(FILE_PATH_OUT_S3, 'w') as file_out:\n",
    "    table.to_csv(file_out,index=False)"
   ]
  },
  {
   "cell_type": "markdown",
   "id": "0552efef-1365-4d89-b5a9-9f5204e24e64",
   "metadata": {},
   "source": [
    "# Reprendre"
   ]
  },
  {
   "cell_type": "code",
   "execution_count": 700,
   "id": "dfdf6c3e-2b18-4419-a241-35f0d56f014a",
   "metadata": {},
   "outputs": [],
   "source": [
    "S3_ENDPOINT_URL = \"https://\" + os.environ[\"AWS_S3_ENDPOINT\"]\n",
    "fs = s3fs.S3FileSystem(client_kwargs={'endpoint_url': S3_ENDPOINT_URL})\n",
    "BUCKET = \"mberthe/narval\"\n",
    "FILE_KEY_S3 =\"camemBERT/pre_\" + nom_fichier + \"_T5_xl.csv\" #modif nom du csv \n",
    "FILE_PATH_S3 = BUCKET + \"/\" + FILE_KEY_S3\n",
    "\n",
    "with fs.open(FILE_PATH_S3, mode=\"rb\",index= False) as file_in:\n",
    "    pred = pd.read_csv(file_in)"
   ]
  },
  {
   "cell_type": "code",
   "execution_count": 701,
   "id": "eee90138-000d-413d-a57c-2db188947b48",
   "metadata": {},
   "outputs": [],
   "source": [
    "import ast"
   ]
  },
  {
   "cell_type": "code",
   "execution_count": 702,
   "id": "8f1f3cf2-e08f-417a-8f6d-ae6df9695b1e",
   "metadata": {},
   "outputs": [
    {
     "data": {
      "text/html": [
       "<div>\n",
       "<style scoped>\n",
       "    .dataframe tbody tr th:only-of-type {\n",
       "        vertical-align: middle;\n",
       "    }\n",
       "\n",
       "    .dataframe tbody tr th {\n",
       "        vertical-align: top;\n",
       "    }\n",
       "\n",
       "    .dataframe thead th {\n",
       "        text-align: right;\n",
       "    }\n",
       "</style>\n",
       "<table border=\"1\" class=\"dataframe\">\n",
       "  <thead>\n",
       "    <tr style=\"text-align: right;\">\n",
       "      <th></th>\n",
       "      <th>indic</th>\n",
       "      <th>valeur</th>\n",
       "    </tr>\n",
       "  </thead>\n",
       "  <tbody>\n",
       "    <tr>\n",
       "      <th>0</th>\n",
       "      <td>D102.0</td>\n",
       "      <td>['0', '2.31', '______', '2.31', '0']</td>\n",
       "    </tr>\n",
       "    <tr>\n",
       "      <th>1</th>\n",
       "      <td>P103.2B</td>\n",
       "      <td>['1.6.1', '80 80', '0', '0', '80 80', '0', '0'...</td>\n",
       "    </tr>\n",
       "    <tr>\n",
       "      <th>2</th>\n",
       "      <td>P107.2</td>\n",
       "      <td>['0.1', '0', '0 0', '2021', '0', '0 0', '0', '...</td>\n",
       "    </tr>\n",
       "    <tr>\n",
       "      <th>3</th>\n",
       "      <td>P109.0</td>\n",
       "      <td>['5.1', '0', '0 0', '0', '0 0']</td>\n",
       "    </tr>\n",
       "    <tr>\n",
       "      <th>4</th>\n",
       "      <td>P153.2</td>\n",
       "      <td>['0']</td>\n",
       "    </tr>\n",
       "    <tr>\n",
       "      <th>5</th>\n",
       "      <td>P154.0</td>\n",
       "      <td>['3.8', '3.8', '3.8']</td>\n",
       "    </tr>\n",
       "    <tr>\n",
       "      <th>6</th>\n",
       "      <td>P155.1</td>\n",
       "      <td>['3.9']</td>\n",
       "    </tr>\n",
       "    <tr>\n",
       "      <th>7</th>\n",
       "      <td>P101.1</td>\n",
       "      <td>['100', '100 100', '0', '100 100', '0', '100 1...</td>\n",
       "    </tr>\n",
       "    <tr>\n",
       "      <th>8</th>\n",
       "      <td>P102.1</td>\n",
       "      <td>['85.7', '85.7 100', '2021', '0', '85.7', '0',...</td>\n",
       "    </tr>\n",
       "    <tr>\n",
       "      <th>9</th>\n",
       "      <td>P104.3</td>\n",
       "      <td>['92.5 92.4', '0', '92.5 92.4', '92.5 92.4', '...</td>\n",
       "    </tr>\n",
       "    <tr>\n",
       "      <th>10</th>\n",
       "      <td>P105.3</td>\n",
       "      <td>['9 ____', '0 ____ ____ 9', '92.5 92.4', '0.1'...</td>\n",
       "    </tr>\n",
       "    <tr>\n",
       "      <th>11</th>\n",
       "      <td>P106.3</td>\n",
       "      <td>['442', '0', '92.5 92.4', '0.1', '0', '0.1', '...</td>\n",
       "    </tr>\n",
       "    <tr>\n",
       "      <th>12</th>\n",
       "      <td>P108.3</td>\n",
       "      <td>['3.4', '0', '100', '100', '3.4', '0', '100']</td>\n",
       "    </tr>\n",
       "    <tr>\n",
       "      <th>13</th>\n",
       "      <td>P151.1</td>\n",
       "      <td>[]</td>\n",
       "    </tr>\n",
       "  </tbody>\n",
       "</table>\n",
       "</div>"
      ],
      "text/plain": [
       "      indic                                             valeur\n",
       "0    D102.0               ['0', '2.31', '______', '2.31', '0']\n",
       "1   P103.2B  ['1.6.1', '80 80', '0', '0', '80 80', '0', '0'...\n",
       "2    P107.2  ['0.1', '0', '0 0', '2021', '0', '0 0', '0', '...\n",
       "3    P109.0                    ['5.1', '0', '0 0', '0', '0 0']\n",
       "4    P153.2                                              ['0']\n",
       "5    P154.0                              ['3.8', '3.8', '3.8']\n",
       "6    P155.1                                            ['3.9']\n",
       "7    P101.1  ['100', '100 100', '0', '100 100', '0', '100 1...\n",
       "8    P102.1  ['85.7', '85.7 100', '2021', '0', '85.7', '0',...\n",
       "9    P104.3  ['92.5 92.4', '0', '92.5 92.4', '92.5 92.4', '...\n",
       "10   P105.3  ['9 ____', '0 ____ ____ 9', '92.5 92.4', '0.1'...\n",
       "11   P106.3  ['442', '0', '92.5 92.4', '0.1', '0', '0.1', '...\n",
       "12   P108.3      ['3.4', '0', '100', '100', '3.4', '0', '100']\n",
       "13   P151.1                                                 []"
      ]
     },
     "execution_count": 702,
     "metadata": {},
     "output_type": "execute_result"
    }
   ],
   "source": [
    "pred"
   ]
  },
  {
   "cell_type": "code",
   "execution_count": 703,
   "id": "6510f082-5917-4b49-a55c-51ec50058393",
   "metadata": {},
   "outputs": [
    {
     "data": {
      "text/plain": [
       "str"
      ]
     },
     "execution_count": 703,
     "metadata": {},
     "output_type": "execute_result"
    }
   ],
   "source": [
    "type(pred[\"valeur\"][0])"
   ]
  },
  {
   "cell_type": "code",
   "execution_count": 704,
   "id": "1df13ed7-e256-45f0-a515-c55e59cec3d4",
   "metadata": {},
   "outputs": [],
   "source": [
    "#Nous avons un string donc, on le met sous forme de liste\n",
    "for i in pred.index:\n",
    "   pred['valeur'][i] =res = ast.literal_eval(pred['valeur'][i])"
   ]
  },
  {
   "cell_type": "raw",
   "id": "99e8426a-7213-4c41-8b7f-a60be0765086",
   "metadata": {},
   "source": [
    "On sépare les réponses qui sont espacées par un espace"
   ]
  },
  {
   "cell_type": "code",
   "execution_count": 705,
   "id": "3715f87a-8034-4def-9e79-b0cf28614a55",
   "metadata": {},
   "outputs": [],
   "source": [
    "for i in pred.index:\n",
    "    pred['valeur'][i]= [item.split(' ') for item in pred['valeur'][i]]\n",
    "#pred"
   ]
  },
  {
   "cell_type": "code",
   "execution_count": 706,
   "id": "6d83a8a6-62d5-462a-bea6-b4a4421d709e",
   "metadata": {},
   "outputs": [
    {
     "name": "stdout",
     "output_type": "stream",
     "text": [
      "0\n",
      "2.31\n",
      "______\n",
      "2.31\n",
      "0\n",
      "1.6.1\n",
      "80\n",
      "80\n",
      "0\n",
      "0\n",
      "80\n",
      "80\n",
      "0\n",
      "0\n",
      "80\n",
      "80\n",
      "0\n",
      "80\n",
      "3.2\n",
      "\n",
      "0\n",
      "0\n",
      "0.1\n",
      "0\n",
      "0\n",
      "0\n",
      "2021\n",
      "0\n",
      "0\n",
      "0\n",
      "0\n",
      "0\n",
      "0\n",
      "3.4\n",
      "0.1\n",
      "0\n",
      "0\n",
      "0\n",
      "5.1\n",
      "0\n",
      "0\n",
      "0\n",
      "0\n",
      "0\n",
      "0\n",
      "0\n",
      "3.8\n",
      "3.8\n",
      "3.8\n",
      "3.9\n",
      "100\n",
      "100\n",
      "100\n",
      "0\n",
      "100\n",
      "100\n",
      "0\n",
      "100\n",
      "100\n",
      "100\n",
      "100\n",
      "100\n",
      "100\n",
      "85.7\n",
      "85.7\n",
      "100\n",
      "2021\n",
      "0\n",
      "85.7\n",
      "0\n",
      "85.7\n",
      "85.7\n",
      "100\n",
      "85.7\n",
      "100\n",
      "92.5\n",
      "92.4\n",
      "0\n",
      "92.5\n",
      "92.4\n",
      "92.5\n",
      "92.4\n",
      "92.5\n",
      "92.4\n",
      "92.5\n",
      "92.4\n",
      "92.5\n",
      "92.4\n",
      "9\n",
      "____\n",
      "0\n",
      "____\n",
      "____\n",
      "9\n",
      "92.5\n",
      "92.4\n",
      "0.1\n",
      "0\n",
      "0.1\n",
      "0.1\n",
      "0.1\n",
      "0\n",
      "0\n",
      "0\n",
      "____\n",
      "0\n",
      "____\n",
      "____\n",
      "0\n",
      "92.5\n",
      "0.1\n",
      "100\n",
      "0.1\n",
      "442\n",
      "0\n",
      "92.5\n",
      "92.4\n",
      "0.1\n",
      "0\n",
      "0.1\n",
      "0.1\n",
      "0.1\n",
      "0\n",
      "0\n",
      "92.5\n",
      "0.1\n",
      "0.1\n",
      "0.1\n",
      "3.4\n",
      "0\n",
      "100\n",
      "100\n",
      "3.4\n",
      "0\n",
      "100\n"
     ]
    }
   ],
   "source": [
    "for l in pred.index:\n",
    "    temp=[]\n",
    "    for i in pred['valeur'][l]:\n",
    "        for j in i:\n",
    "            print(j)\n",
    "            temp.append(j)\n",
    "    pred['valeur'][l]=temp\n",
    "#pred"
   ]
  },
  {
   "cell_type": "code",
   "execution_count": 707,
   "id": "4cdc1b1b-18ca-4f08-8893-096932008f6b",
   "metadata": {},
   "outputs": [],
   "source": [
    "import re\n",
    "for l in pred.index:\n",
    "    my_list=[]\n",
    "    for i in pred['valeur'][l]:\n",
    "       if (re.findall('\\d+',i)==[]):\n",
    "            my_list.append(i)\n",
    "    for i in my_list:\n",
    "        pred['valeur'][l].remove(i)"
   ]
  },
  {
   "cell_type": "code",
   "execution_count": 708,
   "id": "ef7fbb6f-1178-45dd-98fd-b49caf2344ca",
   "metadata": {},
   "outputs": [],
   "source": [
    "reg=r\"\\d\\.(?!0)\"\n",
    "\n",
    "for i in pred.index:\n",
    "    if pred[\"indic\"][i] in [\"P103.2\",\"P202.2\",\"P254.3\",\"P255.3\"]:\n",
    "        print(pred['valeur'][i])\n",
    "        temp=[] \n",
    "        for x in pred['valeur'][i]:\n",
    "            print(x)\n",
    "            if (re.findall(reg,x)!=[]):\n",
    "                temp.append(x)\n",
    "                print('ajoute x à temp:', x)\n",
    "        for x in temp:\n",
    "            pred['valeur'][i].remove(x)\n",
    "            print('retire :',x)\n",
    "        print(pred['valeur'][i])"
   ]
  },
  {
   "cell_type": "code",
   "execution_count": 709,
   "id": "0ffaff07-215b-482e-89da-4fc965236c2f",
   "metadata": {},
   "outputs": [
    {
     "data": {
      "text/html": [
       "<div>\n",
       "<style scoped>\n",
       "    .dataframe tbody tr th:only-of-type {\n",
       "        vertical-align: middle;\n",
       "    }\n",
       "\n",
       "    .dataframe tbody tr th {\n",
       "        vertical-align: top;\n",
       "    }\n",
       "\n",
       "    .dataframe thead th {\n",
       "        text-align: right;\n",
       "    }\n",
       "</style>\n",
       "<table border=\"1\" class=\"dataframe\">\n",
       "  <thead>\n",
       "    <tr style=\"text-align: right;\">\n",
       "      <th></th>\n",
       "      <th>indic</th>\n",
       "      <th>valeur</th>\n",
       "    </tr>\n",
       "  </thead>\n",
       "  <tbody>\n",
       "    <tr>\n",
       "      <th>0</th>\n",
       "      <td>D102.0</td>\n",
       "      <td>[0, 2.31, 2.31, 0]</td>\n",
       "    </tr>\n",
       "    <tr>\n",
       "      <th>1</th>\n",
       "      <td>P103.2B</td>\n",
       "      <td>[1.6.1, 80, 80, 0, 0, 80, 80, 0, 0, 80, 80, 0,...</td>\n",
       "    </tr>\n",
       "    <tr>\n",
       "      <th>2</th>\n",
       "      <td>P107.2</td>\n",
       "      <td>[0.1, 0, 0, 0, 2021, 0, 0, 0, 0, 0, 0, 3.4, 0....</td>\n",
       "    </tr>\n",
       "    <tr>\n",
       "      <th>3</th>\n",
       "      <td>P109.0</td>\n",
       "      <td>[5.1, 0, 0, 0, 0, 0, 0]</td>\n",
       "    </tr>\n",
       "    <tr>\n",
       "      <th>4</th>\n",
       "      <td>P153.2</td>\n",
       "      <td>[0]</td>\n",
       "    </tr>\n",
       "    <tr>\n",
       "      <th>5</th>\n",
       "      <td>P154.0</td>\n",
       "      <td>[3.8, 3.8, 3.8]</td>\n",
       "    </tr>\n",
       "    <tr>\n",
       "      <th>6</th>\n",
       "      <td>P155.1</td>\n",
       "      <td>[3.9]</td>\n",
       "    </tr>\n",
       "    <tr>\n",
       "      <th>7</th>\n",
       "      <td>P101.1</td>\n",
       "      <td>[100, 100, 100, 0, 100, 100, 0, 100, 100, 100,...</td>\n",
       "    </tr>\n",
       "    <tr>\n",
       "      <th>8</th>\n",
       "      <td>P102.1</td>\n",
       "      <td>[85.7, 85.7, 100, 2021, 0, 85.7, 0, 85.7, 85.7...</td>\n",
       "    </tr>\n",
       "    <tr>\n",
       "      <th>9</th>\n",
       "      <td>P104.3</td>\n",
       "      <td>[92.5, 92.4, 0, 92.5, 92.4, 92.5, 92.4, 92.5, ...</td>\n",
       "    </tr>\n",
       "    <tr>\n",
       "      <th>10</th>\n",
       "      <td>P105.3</td>\n",
       "      <td>[9, 0, 9, 92.5, 92.4, 0.1, 0, 0.1, 0.1, 0.1, 0...</td>\n",
       "    </tr>\n",
       "    <tr>\n",
       "      <th>11</th>\n",
       "      <td>P106.3</td>\n",
       "      <td>[442, 0, 92.5, 92.4, 0.1, 0, 0.1, 0.1, 0.1, 0,...</td>\n",
       "    </tr>\n",
       "    <tr>\n",
       "      <th>12</th>\n",
       "      <td>P108.3</td>\n",
       "      <td>[3.4, 0, 100, 100, 3.4, 0, 100]</td>\n",
       "    </tr>\n",
       "    <tr>\n",
       "      <th>13</th>\n",
       "      <td>P151.1</td>\n",
       "      <td>[]</td>\n",
       "    </tr>\n",
       "  </tbody>\n",
       "</table>\n",
       "</div>"
      ],
      "text/plain": [
       "      indic                                             valeur\n",
       "0    D102.0                                 [0, 2.31, 2.31, 0]\n",
       "1   P103.2B  [1.6.1, 80, 80, 0, 0, 80, 80, 0, 0, 80, 80, 0,...\n",
       "2    P107.2  [0.1, 0, 0, 0, 2021, 0, 0, 0, 0, 0, 0, 3.4, 0....\n",
       "3    P109.0                            [5.1, 0, 0, 0, 0, 0, 0]\n",
       "4    P153.2                                                [0]\n",
       "5    P154.0                                    [3.8, 3.8, 3.8]\n",
       "6    P155.1                                              [3.9]\n",
       "7    P101.1  [100, 100, 100, 0, 100, 100, 0, 100, 100, 100,...\n",
       "8    P102.1  [85.7, 85.7, 100, 2021, 0, 85.7, 0, 85.7, 85.7...\n",
       "9    P104.3  [92.5, 92.4, 0, 92.5, 92.4, 92.5, 92.4, 92.5, ...\n",
       "10   P105.3  [9, 0, 9, 92.5, 92.4, 0.1, 0, 0.1, 0.1, 0.1, 0...\n",
       "11   P106.3  [442, 0, 92.5, 92.4, 0.1, 0, 0.1, 0.1, 0.1, 0,...\n",
       "12   P108.3                    [3.4, 0, 100, 100, 3.4, 0, 100]\n",
       "13   P151.1                                                 []"
      ]
     },
     "execution_count": 709,
     "metadata": {},
     "output_type": "execute_result"
    }
   ],
   "source": [
    "pred"
   ]
  },
  {
   "cell_type": "code",
   "execution_count": 710,
   "id": "9df5f8d6-7904-45b6-abb2-9419b39f53ee",
   "metadata": {},
   "outputs": [],
   "source": [
    "def isfloat(value):\n",
    "  try:\n",
    "    float(value)\n",
    "    return True\n",
    "  except ValueError:\n",
    "    return False\n"
   ]
  },
  {
   "cell_type": "code",
   "execution_count": 711,
   "id": "7d2b934e-6282-4844-a5c4-90a874d65e71",
   "metadata": {},
   "outputs": [],
   "source": [
    "for i in pred.index:\n",
    "    pred['valeur'][i]=[float(x) for x in pred['valeur'][i] if isfloat(x)]\n"
   ]
  },
  {
   "cell_type": "code",
   "execution_count": 712,
   "id": "a21970f4-73a8-4702-93d0-87e8a3ed1154",
   "metadata": {},
   "outputs": [
    {
     "data": {
      "text/html": [
       "<div>\n",
       "<style scoped>\n",
       "    .dataframe tbody tr th:only-of-type {\n",
       "        vertical-align: middle;\n",
       "    }\n",
       "\n",
       "    .dataframe tbody tr th {\n",
       "        vertical-align: top;\n",
       "    }\n",
       "\n",
       "    .dataframe thead th {\n",
       "        text-align: right;\n",
       "    }\n",
       "</style>\n",
       "<table border=\"1\" class=\"dataframe\">\n",
       "  <thead>\n",
       "    <tr style=\"text-align: right;\">\n",
       "      <th></th>\n",
       "      <th>indic</th>\n",
       "      <th>valeur</th>\n",
       "    </tr>\n",
       "  </thead>\n",
       "  <tbody>\n",
       "    <tr>\n",
       "      <th>0</th>\n",
       "      <td>D102.0</td>\n",
       "      <td>[0.0, 2.31, 2.31, 0.0]</td>\n",
       "    </tr>\n",
       "    <tr>\n",
       "      <th>1</th>\n",
       "      <td>P103.2B</td>\n",
       "      <td>[80.0, 80.0, 0.0, 0.0, 80.0, 80.0, 0.0, 0.0, 8...</td>\n",
       "    </tr>\n",
       "    <tr>\n",
       "      <th>2</th>\n",
       "      <td>P107.2</td>\n",
       "      <td>[0.1, 0.0, 0.0, 0.0, 2021.0, 0.0, 0.0, 0.0, 0....</td>\n",
       "    </tr>\n",
       "    <tr>\n",
       "      <th>3</th>\n",
       "      <td>P109.0</td>\n",
       "      <td>[5.1, 0.0, 0.0, 0.0, 0.0, 0.0, 0.0]</td>\n",
       "    </tr>\n",
       "    <tr>\n",
       "      <th>4</th>\n",
       "      <td>P153.2</td>\n",
       "      <td>[0.0]</td>\n",
       "    </tr>\n",
       "    <tr>\n",
       "      <th>5</th>\n",
       "      <td>P154.0</td>\n",
       "      <td>[3.8, 3.8, 3.8]</td>\n",
       "    </tr>\n",
       "    <tr>\n",
       "      <th>6</th>\n",
       "      <td>P155.1</td>\n",
       "      <td>[3.9]</td>\n",
       "    </tr>\n",
       "    <tr>\n",
       "      <th>7</th>\n",
       "      <td>P101.1</td>\n",
       "      <td>[100.0, 100.0, 100.0, 0.0, 100.0, 100.0, 0.0, ...</td>\n",
       "    </tr>\n",
       "    <tr>\n",
       "      <th>8</th>\n",
       "      <td>P102.1</td>\n",
       "      <td>[85.7, 85.7, 100.0, 2021.0, 0.0, 85.7, 0.0, 85...</td>\n",
       "    </tr>\n",
       "    <tr>\n",
       "      <th>9</th>\n",
       "      <td>P104.3</td>\n",
       "      <td>[92.5, 92.4, 0.0, 92.5, 92.4, 92.5, 92.4, 92.5...</td>\n",
       "    </tr>\n",
       "    <tr>\n",
       "      <th>10</th>\n",
       "      <td>P105.3</td>\n",
       "      <td>[9.0, 0.0, 9.0, 92.5, 92.4, 0.1, 0.0, 0.1, 0.1...</td>\n",
       "    </tr>\n",
       "    <tr>\n",
       "      <th>11</th>\n",
       "      <td>P106.3</td>\n",
       "      <td>[442.0, 0.0, 92.5, 92.4, 0.1, 0.0, 0.1, 0.1, 0...</td>\n",
       "    </tr>\n",
       "    <tr>\n",
       "      <th>12</th>\n",
       "      <td>P108.3</td>\n",
       "      <td>[3.4, 0.0, 100.0, 100.0, 3.4, 0.0, 100.0]</td>\n",
       "    </tr>\n",
       "    <tr>\n",
       "      <th>13</th>\n",
       "      <td>P151.1</td>\n",
       "      <td>[]</td>\n",
       "    </tr>\n",
       "  </tbody>\n",
       "</table>\n",
       "</div>"
      ],
      "text/plain": [
       "      indic                                             valeur\n",
       "0    D102.0                             [0.0, 2.31, 2.31, 0.0]\n",
       "1   P103.2B  [80.0, 80.0, 0.0, 0.0, 80.0, 80.0, 0.0, 0.0, 8...\n",
       "2    P107.2  [0.1, 0.0, 0.0, 0.0, 2021.0, 0.0, 0.0, 0.0, 0....\n",
       "3    P109.0                [5.1, 0.0, 0.0, 0.0, 0.0, 0.0, 0.0]\n",
       "4    P153.2                                              [0.0]\n",
       "5    P154.0                                    [3.8, 3.8, 3.8]\n",
       "6    P155.1                                              [3.9]\n",
       "7    P101.1  [100.0, 100.0, 100.0, 0.0, 100.0, 100.0, 0.0, ...\n",
       "8    P102.1  [85.7, 85.7, 100.0, 2021.0, 0.0, 85.7, 0.0, 85...\n",
       "9    P104.3  [92.5, 92.4, 0.0, 92.5, 92.4, 92.5, 92.4, 92.5...\n",
       "10   P105.3  [9.0, 0.0, 9.0, 92.5, 92.4, 0.1, 0.0, 0.1, 0.1...\n",
       "11   P106.3  [442.0, 0.0, 92.5, 92.4, 0.1, 0.0, 0.1, 0.1, 0...\n",
       "12   P108.3          [3.4, 0.0, 100.0, 100.0, 3.4, 0.0, 100.0]\n",
       "13   P151.1                                                 []"
      ]
     },
     "execution_count": 712,
     "metadata": {},
     "output_type": "execute_result"
    }
   ],
   "source": [
    "pred"
   ]
  },
  {
   "cell_type": "code",
   "execution_count": 713,
   "id": "a165e16d-c954-497f-b53d-9efffa915d9f",
   "metadata": {},
   "outputs": [],
   "source": [
    "for i in pred.index:\n",
    "    pred[\"valeur\"][i]=set(pred[\"valeur\"][i])"
   ]
  },
  {
   "cell_type": "markdown",
   "id": "fc97fb78-f252-4921-bae0-57592e9414cb",
   "metadata": {},
   "source": [
    "## Ajout des bornes"
   ]
  },
  {
   "cell_type": "code",
   "execution_count": 714,
   "id": "e5675f33-8149-49d4-a3ee-a5faacffb09a",
   "metadata": {},
   "outputs": [],
   "source": [
    "S3_ENDPOINT_URL = \"https://\" + os.environ[\"AWS_S3_ENDPOINT\"]\n",
    "fs = s3fs.S3FileSystem(client_kwargs={'endpoint_url': S3_ENDPOINT_URL})\n",
    "BUCKET = \"mberthe/narval\"\n",
    "FILE_KEY_S3 = \"camemBERT/bornes.csv\"\n",
    "FILE_PATH_S3 = BUCKET + \"/\" + FILE_KEY_S3\n",
    "\n",
    "with fs.open(FILE_PATH_S3, mode=\"rb\",index=False) as file_in:\n",
    "    bornes = pd.read_csv(file_in)"
   ]
  },
  {
   "cell_type": "code",
   "execution_count": 715,
   "id": "6419e06f-b02c-4ca1-8ff1-d2bda47f1461",
   "metadata": {},
   "outputs": [],
   "source": [
    "#bornes"
   ]
  },
  {
   "cell_type": "code",
   "execution_count": 716,
   "id": "8f7b5b23-f551-4ba5-bc0b-82fd85d92a64",
   "metadata": {},
   "outputs": [],
   "source": [
    "pred['min']=\"\"\n",
    "pred['max']=\"\"\n",
    "for i in bornes.index:\n",
    "    for j in pred.index:\n",
    "        if bornes['indic'][i]==pred['indic'][j]:\n",
    "            pred[\"min\"][j]=float(bornes['min'][i])\n",
    "            pred['max'][j]=float(bornes['max'][i])"
   ]
  },
  {
   "cell_type": "code",
   "execution_count": 717,
   "id": "8e038bf7-93c5-4063-add7-5b18d7873469",
   "metadata": {},
   "outputs": [
    {
     "name": "stdout",
     "output_type": "stream",
     "text": [
      "D102.0 0.0 <class 'float'> 1.25 <class 'float'>\n",
      "D102.0 2.31 <class 'float'> 1.25 <class 'float'>\n",
      "P103.2B 80.0 <class 'float'> 39.0 <class 'float'>\n",
      "P103.2B 0.0 <class 'float'> 39.0 <class 'float'>\n",
      "P103.2B 3.2 <class 'float'> 39.0 <class 'float'>\n",
      "P107.2 0.1 <class 'float'> 0.0 <class 'float'>\n",
      "P107.2 0.0 <class 'float'> 0.0 <class 'float'>\n",
      "P107.2 3.4 <class 'float'> 0.0 <class 'float'>\n",
      "P107.2 2021.0 <class 'float'> 0.0 <class 'float'>\n",
      "P109.0 0.0 <class 'float'> 0.0 <class 'float'>\n",
      "P109.0 5.1 <class 'float'> 0.0 <class 'float'>\n",
      "P153.2 0.0 <class 'float'> 0.0 <class 'float'>\n",
      "P154.0 3.8 <class 'float'> 0.0 <class 'float'>\n",
      "P155.1 3.9 <class 'float'> 0.0 <class 'float'>\n",
      "P101.1 0.0 <class 'float'> 83.3 <class 'float'>\n",
      "P101.1 100.0 <class 'float'> 83.3 <class 'float'>\n",
      "P102.1 0.0 <class 'float'> 78.9 <class 'float'>\n",
      "P102.1 2021.0 <class 'float'> 78.9 <class 'float'>\n",
      "P102.1 100.0 <class 'float'> 78.9 <class 'float'>\n",
      "P102.1 85.7 <class 'float'> 78.9 <class 'float'>\n",
      "P104.3 0.0 <class 'float'> 51.3 <class 'float'>\n",
      "P104.3 92.5 <class 'float'> 51.3 <class 'float'>\n",
      "P104.3 92.4 <class 'float'> 51.3 <class 'float'>\n",
      "P105.3 0.0 <class 'float'> 0.3 <class 'float'>\n",
      "P105.3 0.1 <class 'float'> 0.3 <class 'float'>\n",
      "P105.3 100.0 <class 'float'> 0.3 <class 'float'>\n",
      "P105.3 9.0 <class 'float'> 0.3 <class 'float'>\n",
      "P105.3 92.4 <class 'float'> 0.3 <class 'float'>\n",
      "P105.3 92.5 <class 'float'> 0.3 <class 'float'>\n",
      "P106.3 0.0 <class 'float'> 0.2 <class 'float'>\n",
      "P106.3 0.1 <class 'float'> 0.2 <class 'float'>\n",
      "P106.3 92.4 <class 'float'> 0.2 <class 'float'>\n",
      "P106.3 442.0 <class 'float'> 0.2 <class 'float'>\n",
      "P106.3 92.5 <class 'float'> 0.2 <class 'float'>\n",
      "P108.3 0.0 <class 'float'> 40.0 <class 'float'>\n",
      "P108.3 3.4 <class 'float'> 40.0 <class 'float'>\n",
      "P108.3 100.0 <class 'float'> 40.0 <class 'float'>\n"
     ]
    }
   ],
   "source": [
    "for i in pred.index:\n",
    "    temp=[]\n",
    "    for x in pred['valeur'][i]:\n",
    "        print(pred['indic'][i],x,type(x),pred['min'][i],type(pred['min'][i]))\n",
    "        if (float(x)<pred['min'][i]) or (float(x)>pred['max'][i]):\n",
    "            temp.append(x)\n",
    "    for x in temp:\n",
    "        pred['valeur'][i].remove(x)"
   ]
  },
  {
   "cell_type": "code",
   "execution_count": 718,
   "id": "2cb64237-ccdb-43cc-8827-411d5424c803",
   "metadata": {},
   "outputs": [
    {
     "data": {
      "text/html": [
       "<div>\n",
       "<style scoped>\n",
       "    .dataframe tbody tr th:only-of-type {\n",
       "        vertical-align: middle;\n",
       "    }\n",
       "\n",
       "    .dataframe tbody tr th {\n",
       "        vertical-align: top;\n",
       "    }\n",
       "\n",
       "    .dataframe thead th {\n",
       "        text-align: right;\n",
       "    }\n",
       "</style>\n",
       "<table border=\"1\" class=\"dataframe\">\n",
       "  <thead>\n",
       "    <tr style=\"text-align: right;\">\n",
       "      <th></th>\n",
       "      <th>indic</th>\n",
       "      <th>valeur</th>\n",
       "      <th>min</th>\n",
       "      <th>max</th>\n",
       "    </tr>\n",
       "  </thead>\n",
       "  <tbody>\n",
       "    <tr>\n",
       "      <th>0</th>\n",
       "      <td>D102.0</td>\n",
       "      <td>{2.31}</td>\n",
       "      <td>1.25</td>\n",
       "      <td>3.26</td>\n",
       "    </tr>\n",
       "    <tr>\n",
       "      <th>1</th>\n",
       "      <td>P103.2B</td>\n",
       "      <td>{80.0}</td>\n",
       "      <td>39.0</td>\n",
       "      <td>120.0</td>\n",
       "    </tr>\n",
       "    <tr>\n",
       "      <th>2</th>\n",
       "      <td>P107.2</td>\n",
       "      <td>{0.1, 0.0}</td>\n",
       "      <td>0.0</td>\n",
       "      <td>2.98</td>\n",
       "    </tr>\n",
       "    <tr>\n",
       "      <th>3</th>\n",
       "      <td>P109.0</td>\n",
       "      <td>{0.0}</td>\n",
       "      <td>0.0</td>\n",
       "      <td>0.04</td>\n",
       "    </tr>\n",
       "    <tr>\n",
       "      <th>4</th>\n",
       "      <td>P153.2</td>\n",
       "      <td>{0.0}</td>\n",
       "      <td>0.0</td>\n",
       "      <td>19.0</td>\n",
       "    </tr>\n",
       "    <tr>\n",
       "      <th>5</th>\n",
       "      <td>P154.0</td>\n",
       "      <td>{3.8}</td>\n",
       "      <td>0.0</td>\n",
       "      <td>8.5</td>\n",
       "    </tr>\n",
       "    <tr>\n",
       "      <th>6</th>\n",
       "      <td>P155.1</td>\n",
       "      <td>{}</td>\n",
       "      <td>0.0</td>\n",
       "      <td>2.01</td>\n",
       "    </tr>\n",
       "    <tr>\n",
       "      <th>7</th>\n",
       "      <td>P101.1</td>\n",
       "      <td>{100.0}</td>\n",
       "      <td>83.3</td>\n",
       "      <td>100.0</td>\n",
       "    </tr>\n",
       "    <tr>\n",
       "      <th>8</th>\n",
       "      <td>P102.1</td>\n",
       "      <td>{100.0, 85.7}</td>\n",
       "      <td>78.9</td>\n",
       "      <td>100.0</td>\n",
       "    </tr>\n",
       "    <tr>\n",
       "      <th>9</th>\n",
       "      <td>P104.3</td>\n",
       "      <td>{92.5, 92.4}</td>\n",
       "      <td>51.3</td>\n",
       "      <td>97.3</td>\n",
       "    </tr>\n",
       "    <tr>\n",
       "      <th>10</th>\n",
       "      <td>P105.3</td>\n",
       "      <td>{9.0}</td>\n",
       "      <td>0.3</td>\n",
       "      <td>14.0</td>\n",
       "    </tr>\n",
       "    <tr>\n",
       "      <th>11</th>\n",
       "      <td>P106.3</td>\n",
       "      <td>{}</td>\n",
       "      <td>0.2</td>\n",
       "      <td>11.7</td>\n",
       "    </tr>\n",
       "    <tr>\n",
       "      <th>12</th>\n",
       "      <td>P108.3</td>\n",
       "      <td>{100.0}</td>\n",
       "      <td>40.0</td>\n",
       "      <td>100.0</td>\n",
       "    </tr>\n",
       "    <tr>\n",
       "      <th>13</th>\n",
       "      <td>P151.1</td>\n",
       "      <td>{}</td>\n",
       "      <td>0.0</td>\n",
       "      <td>13.7</td>\n",
       "    </tr>\n",
       "  </tbody>\n",
       "</table>\n",
       "</div>"
      ],
      "text/plain": [
       "      indic         valeur   min    max\n",
       "0    D102.0         {2.31}  1.25   3.26\n",
       "1   P103.2B         {80.0}  39.0  120.0\n",
       "2    P107.2     {0.1, 0.0}   0.0   2.98\n",
       "3    P109.0          {0.0}   0.0   0.04\n",
       "4    P153.2          {0.0}   0.0   19.0\n",
       "5    P154.0          {3.8}   0.0    8.5\n",
       "6    P155.1             {}   0.0   2.01\n",
       "7    P101.1        {100.0}  83.3  100.0\n",
       "8    P102.1  {100.0, 85.7}  78.9  100.0\n",
       "9    P104.3   {92.5, 92.4}  51.3   97.3\n",
       "10   P105.3          {9.0}   0.3   14.0\n",
       "11   P106.3             {}   0.2   11.7\n",
       "12   P108.3        {100.0}  40.0  100.0\n",
       "13   P151.1             {}   0.0   13.7"
      ]
     },
     "execution_count": 718,
     "metadata": {},
     "output_type": "execute_result"
    }
   ],
   "source": [
    "### €pred['indic'][1]=\"P103.2B\"\n",
    "pred"
   ]
  },
  {
   "cell_type": "code",
   "execution_count": 719,
   "id": "c5e61edf-62f0-42a0-95a5-4f8d30515d8c",
   "metadata": {},
   "outputs": [
    {
     "name": "stdout",
     "output_type": "stream",
     "text": [
      "estal\n"
     ]
    }
   ],
   "source": [
    "print(ville)"
   ]
  },
  {
   "cell_type": "code",
   "execution_count": 720,
   "id": "c47741e8-2519-40e9-b120-eecbf82b369c",
   "metadata": {},
   "outputs": [],
   "source": [
    "BUCKET_OUT = \"mberthe/narval\"\n",
    "FILE_KEY_OUT_S3 = \"camemBERT/rf_\" + nom_fichier + \"_T5_xl.csv\"   #modif nom csv\n",
    "FILE_PATH_OUT_S3 = BUCKET_OUT + \"/\" + FILE_KEY_OUT_S3\n",
    "\n",
    "with fs.open(FILE_PATH_OUT_S3, 'w') as file_out:\n",
    "    pred.to_csv(file_out,index=False)"
   ]
  },
  {
   "cell_type": "markdown",
   "id": "0b29e571-a3f3-4b67-92a6-a3442324e7ae",
   "metadata": {},
   "source": [
    "## Table des resultats finaux"
   ]
  },
  {
   "cell_type": "code",
   "execution_count": 721,
   "id": "d9a2e042-6eb7-48df-8718-45b720859eb4",
   "metadata": {},
   "outputs": [],
   "source": [
    "S3_ENDPOINT_URL = \"https://\" + os.environ[\"AWS_S3_ENDPOINT\"]\n",
    "fs = s3fs.S3FileSystem(client_kwargs={'endpoint_url': S3_ENDPOINT_URL})\n",
    "BUCKET = \"mberthe/narval\"\n",
    "FILE_KEY_S3 = \"camemBERT/indic_metric.csv\"\n",
    "FILE_PATH_S3 = BUCKET + \"/\" + FILE_KEY_S3\n",
    "\n",
    "with fs.open(FILE_PATH_S3, mode=\"rb\",index=False) as file_in:\n",
    "    indic_metric = pd.read_csv(file_in, sep= ';')"
   ]
  },
  {
   "cell_type": "code",
   "execution_count": 722,
   "id": "41f3d0b0-95d3-4c42-b749-21edd40cde3e",
   "metadata": {},
   "outputs": [
    {
     "data": {
      "text/html": [
       "<div>\n",
       "<style scoped>\n",
       "    .dataframe tbody tr th:only-of-type {\n",
       "        vertical-align: middle;\n",
       "    }\n",
       "\n",
       "    .dataframe tbody tr th {\n",
       "        vertical-align: top;\n",
       "    }\n",
       "\n",
       "    .dataframe thead th {\n",
       "        text-align: right;\n",
       "    }\n",
       "</style>\n",
       "<table border=\"1\" class=\"dataframe\">\n",
       "  <thead>\n",
       "    <tr style=\"text-align: right;\">\n",
       "      <th></th>\n",
       "      <th>DPT du siège de la coll.</th>\n",
       "      <th>Id SISPEA de la collectivité</th>\n",
       "      <th>Nom collectivité</th>\n",
       "      <th>Courriels des utilisateurs collectivité</th>\n",
       "      <th>Type collectivité</th>\n",
       "      <th>N° SIREN</th>\n",
       "      <th>N° INSEE si commune</th>\n",
       "      <th>Communes membres de la coll</th>\n",
       "      <th>Avec ou sans CCSPL</th>\n",
       "      <th>Production</th>\n",
       "      <th>...</th>\n",
       "      <th>P105.3</th>\n",
       "      <th>P106.3</th>\n",
       "      <th>P107.2</th>\n",
       "      <th>P108.3</th>\n",
       "      <th>P109.0</th>\n",
       "      <th>P151.1</th>\n",
       "      <th>P152.1</th>\n",
       "      <th>P153.2</th>\n",
       "      <th>P154.0</th>\n",
       "      <th>P155.1</th>\n",
       "    </tr>\n",
       "  </thead>\n",
       "  <tbody>\n",
       "    <tr>\n",
       "      <th>4299</th>\n",
       "      <td>046</td>\n",
       "      <td>169529</td>\n",
       "      <td>estal</td>\n",
       "      <td>estal.mairie@wanadoo.fr</td>\n",
       "      <td>Commune</td>\n",
       "      <td>214600975.0</td>\n",
       "      <td>46097</td>\n",
       "      <td>1</td>\n",
       "      <td>Non</td>\n",
       "      <td>Non</td>\n",
       "      <td>...</td>\n",
       "      <td>0.1</td>\n",
       "      <td>NaN</td>\n",
       "      <td>0.0</td>\n",
       "      <td>100.0</td>\n",
       "      <td>0.0</td>\n",
       "      <td>0.0</td>\n",
       "      <td>100.0</td>\n",
       "      <td>NaN</td>\n",
       "      <td>0.0</td>\n",
       "      <td>0.0</td>\n",
       "    </tr>\n",
       "  </tbody>\n",
       "</table>\n",
       "<p>1 rows × 31 columns</p>\n",
       "</div>"
      ],
      "text/plain": [
       "     DPT du siège de la coll.  Id SISPEA de la collectivité Nom collectivité  \\\n",
       "4299                      046                        169529            estal   \n",
       "\n",
       "     Courriels des utilisateurs collectivité Type collectivité     N° SIREN  \\\n",
       "4299                 estal.mairie@wanadoo.fr           Commune  214600975.0   \n",
       "\n",
       "     N° INSEE si commune  Communes membres de la coll Avec ou sans CCSPL  \\\n",
       "4299               46097                            1                Non   \n",
       "\n",
       "     Production  ... P105.3 P106.3  P107.2 P108.3  P109.0  P151.1  P152.1  \\\n",
       "4299        Non  ...    0.1    NaN     0.0  100.0     0.0     0.0   100.0   \n",
       "\n",
       "      P153.2  P154.0  P155.1  \n",
       "4299     NaN     0.0     0.0  \n",
       "\n",
       "[1 rows x 31 columns]"
      ]
     },
     "execution_count": 722,
     "metadata": {},
     "output_type": "execute_result"
    }
   ],
   "source": [
    "df_ville"
   ]
  },
  {
   "cell_type": "code",
   "execution_count": 723,
   "id": "811ca372-389c-45dd-b3d1-71157527fab0",
   "metadata": {},
   "outputs": [
    {
     "name": "stdout",
     "output_type": "stream",
     "text": [
      "4299\n",
      "D102.0 pred: {2.31} true: 2.31\n",
      "in_list +1\n",
      "exact +1\n",
      "P103.2B pred: {80.0} true: 80.0\n",
      "in_list +1\n",
      "exact +1\n",
      "P107.2 pred: {0.1, 0.0} true: 0.0\n",
      "in_list +1\n",
      "P109.0 pred: {0.0} true: 0.0\n",
      "in_list +1\n",
      "exact +1\n",
      "P153.2 pred: {0.0} true: nan\n",
      "false_p +1\n",
      "P154.0 pred: {3.8} true: 0.0\n",
      "P155.1 pred: set() true: 0.0\n",
      "false_n +1\n",
      "P101.1 pred: {100.0} true: 100.0\n",
      "in_list +1\n",
      "exact +1\n",
      "P102.1 pred: {100.0, 85.7} true: 100.0\n",
      "in_list +1\n",
      "P104.3 pred: {92.5, 92.4} true: 92.4\n",
      "in_list +1\n",
      "P105.3 pred: {9.0} true: 0.1\n",
      "P106.3 pred: set() true: nan\n",
      "true_n +1\n",
      "P108.3 pred: {100.0} true: 100.0\n",
      "in_list +1\n",
      "exact +1\n",
      "P151.1 pred: set() true: 0.0\n",
      "false_n +1\n",
      "code postal: 4299 8 5\n",
      "in_list: 8\n",
      "exact(=true_pos): 5\n",
      "true_neg:  1\n",
      "false_neg: 2\n",
      "false_pos: 1\n"
     ]
    }
   ],
   "source": [
    "in_list=0\n",
    "exact=0\n",
    "for k in df_ville.index:\n",
    "    print(k)\n",
    "    in_list_temp=0\n",
    "    exact_temp=0\n",
    "    true_n=0\n",
    "    false_p=0\n",
    "    false_n=0\n",
    "    for i in pred.index:\n",
    "        for col in df_ville.columns:\n",
    "            #for j in df_ville.index:\n",
    "                if pred[\"indic\"][i]==col:\n",
    "                    df_ville[col][k]=round(df_ville[col][k],2)\n",
    "                    print(col,'pred:',pred['valeur'][i],'true:',df_ville[col][k])\n",
    "                    #Le nombre de bonnes réponses dans la liste des réponses prédites \n",
    "                    if df_ville[col][k] in pred[\"valeur\"][i]:\n",
    "                        in_list_temp=in_list_temp+1\n",
    "                        print(\"in_list +1\")\n",
    "                        for indic in indic_metric.index:\n",
    "                            if indic_metric[\"indic\"][indic]==col:\n",
    "                                indic_metric[\"in_list\"][indic]=indic_metric[\"in_list\"][indic] +1\n",
    "                    #Le nombre de réponses exactes (true positive)    \n",
    "                    if {df_ville[col][k]}== pred[\"valeur\"][i]:\n",
    "                        exact_temp=exact_temp+1\n",
    "                        print(\"exact +1\")\n",
    "                        for indic in indic_metric.index:\n",
    "                            if indic_metric[\"indic\"][indic]==col:\n",
    "                                indic_metric[\"exact\"][indic]=indic_metric[\"exact\"][indic] +1\n",
    "                    #Le nombre de true negative (= pas de réponses retournée car pas de réponses dans le PDF)    \n",
    "                    if np.isnan(df_ville[col][k]) & (pred['valeur'][i]== set()):\n",
    "                        true_n=true_n+1\n",
    "                        print('true_n +1')\n",
    "                    #Le nombre de false positive(=Il y a une préiction alors qu'il n'y a pas de réponse dans le PDF)\n",
    "                    if np.isnan(df_ville[col][k]) & (pred['valeur'][i]!= set()):\n",
    "                        false_p= false_p+1\n",
    "                        print('false_p +1')    \n",
    "                    #Le nombre de false negative(=Il n'y a pas de predition alors qu'il y a une réponse dans le PDF)\n",
    "                    if (not (np.isnan(df_ville[col][k]))) & (pred['valeur'][i]== set()):\n",
    "                        false_n= false_n+1\n",
    "                        print('false_n +1')    \n",
    "                    \n",
    "    print('code postal:',k,in_list_temp,exact_temp)\n",
    "    if in_list_temp>in_list:\n",
    "        in_list=in_list_temp\n",
    "        exact=exact_temp\n",
    "print('in_list:',in_list)\n",
    "print('exact(=true_pos):',exact)\n",
    "print('true_neg: ',true_n)\n",
    "print('false_neg:',false_n)\n",
    "print('false_pos:',false_p)"
   ]
  },
  {
   "cell_type": "code",
   "execution_count": 724,
   "id": "93f71a48-8c8a-42ad-bfde-391e03db1b75",
   "metadata": {},
   "outputs": [
    {
     "data": {
      "text/html": [
       "<div>\n",
       "<style scoped>\n",
       "    .dataframe tbody tr th:only-of-type {\n",
       "        vertical-align: middle;\n",
       "    }\n",
       "\n",
       "    .dataframe tbody tr th {\n",
       "        vertical-align: top;\n",
       "    }\n",
       "\n",
       "    .dataframe thead th {\n",
       "        text-align: right;\n",
       "    }\n",
       "</style>\n",
       "<table border=\"1\" class=\"dataframe\">\n",
       "  <thead>\n",
       "    <tr style=\"text-align: right;\">\n",
       "      <th></th>\n",
       "      <th>indic</th>\n",
       "      <th>in_list</th>\n",
       "      <th>exact</th>\n",
       "    </tr>\n",
       "  </thead>\n",
       "  <tbody>\n",
       "    <tr>\n",
       "      <th>0</th>\n",
       "      <td>D102.0</td>\n",
       "      <td>14.0</td>\n",
       "      <td>7</td>\n",
       "    </tr>\n",
       "    <tr>\n",
       "      <th>1</th>\n",
       "      <td>P103.2</td>\n",
       "      <td>0.0</td>\n",
       "      <td>0</td>\n",
       "    </tr>\n",
       "    <tr>\n",
       "      <th>2</th>\n",
       "      <td>P107.2</td>\n",
       "      <td>19.0</td>\n",
       "      <td>0</td>\n",
       "    </tr>\n",
       "    <tr>\n",
       "      <th>3</th>\n",
       "      <td>P109.0</td>\n",
       "      <td>20.0</td>\n",
       "      <td>11</td>\n",
       "    </tr>\n",
       "    <tr>\n",
       "      <th>4</th>\n",
       "      <td>P153.2</td>\n",
       "      <td>0.0</td>\n",
       "      <td>0</td>\n",
       "    </tr>\n",
       "    <tr>\n",
       "      <th>5</th>\n",
       "      <td>P154.0</td>\n",
       "      <td>1.0</td>\n",
       "      <td>0</td>\n",
       "    </tr>\n",
       "    <tr>\n",
       "      <th>6</th>\n",
       "      <td>P155.1</td>\n",
       "      <td>0.0</td>\n",
       "      <td>0</td>\n",
       "    </tr>\n",
       "    <tr>\n",
       "      <th>7</th>\n",
       "      <td>P101.1</td>\n",
       "      <td>18.0</td>\n",
       "      <td>16</td>\n",
       "    </tr>\n",
       "    <tr>\n",
       "      <th>8</th>\n",
       "      <td>P102.1</td>\n",
       "      <td>20.0</td>\n",
       "      <td>14</td>\n",
       "    </tr>\n",
       "    <tr>\n",
       "      <th>9</th>\n",
       "      <td>P104.3</td>\n",
       "      <td>13.0</td>\n",
       "      <td>2</td>\n",
       "    </tr>\n",
       "    <tr>\n",
       "      <th>10</th>\n",
       "      <td>P105.3</td>\n",
       "      <td>11.0</td>\n",
       "      <td>0</td>\n",
       "    </tr>\n",
       "    <tr>\n",
       "      <th>11</th>\n",
       "      <td>P106.3</td>\n",
       "      <td>7.0</td>\n",
       "      <td>0</td>\n",
       "    </tr>\n",
       "    <tr>\n",
       "      <th>12</th>\n",
       "      <td>P108.3</td>\n",
       "      <td>16.0</td>\n",
       "      <td>15</td>\n",
       "    </tr>\n",
       "    <tr>\n",
       "      <th>13</th>\n",
       "      <td>P151.1</td>\n",
       "      <td>0.0</td>\n",
       "      <td>0</td>\n",
       "    </tr>\n",
       "    <tr>\n",
       "      <th>14</th>\n",
       "      <td>D204.0</td>\n",
       "      <td>11.0</td>\n",
       "      <td>5</td>\n",
       "    </tr>\n",
       "    <tr>\n",
       "      <th>15</th>\n",
       "      <td>P202.2</td>\n",
       "      <td>0.0</td>\n",
       "      <td>0</td>\n",
       "    </tr>\n",
       "    <tr>\n",
       "      <th>16</th>\n",
       "      <td>P253.2</td>\n",
       "      <td>3.0</td>\n",
       "      <td>1</td>\n",
       "    </tr>\n",
       "    <tr>\n",
       "      <th>17</th>\n",
       "      <td>P207.0</td>\n",
       "      <td>14.0</td>\n",
       "      <td>10</td>\n",
       "    </tr>\n",
       "    <tr>\n",
       "      <th>18</th>\n",
       "      <td>P256.2</td>\n",
       "      <td>1.0</td>\n",
       "      <td>1</td>\n",
       "    </tr>\n",
       "    <tr>\n",
       "      <th>19</th>\n",
       "      <td>P257.0</td>\n",
       "      <td>3.0</td>\n",
       "      <td>1</td>\n",
       "    </tr>\n",
       "    <tr>\n",
       "      <th>20</th>\n",
       "      <td>P258.1</td>\n",
       "      <td>2.0</td>\n",
       "      <td>2</td>\n",
       "    </tr>\n",
       "    <tr>\n",
       "      <th>21</th>\n",
       "      <td>D203.0</td>\n",
       "      <td>17.0</td>\n",
       "      <td>2</td>\n",
       "    </tr>\n",
       "    <tr>\n",
       "      <th>22</th>\n",
       "      <td>P201.1</td>\n",
       "      <td>10.0</td>\n",
       "      <td>2</td>\n",
       "    </tr>\n",
       "    <tr>\n",
       "      <th>23</th>\n",
       "      <td>P204.3</td>\n",
       "      <td>12.0</td>\n",
       "      <td>0</td>\n",
       "    </tr>\n",
       "    <tr>\n",
       "      <th>24</th>\n",
       "      <td>P205.3</td>\n",
       "      <td>12.0</td>\n",
       "      <td>1</td>\n",
       "    </tr>\n",
       "    <tr>\n",
       "      <th>25</th>\n",
       "      <td>P206.3</td>\n",
       "      <td>9.0</td>\n",
       "      <td>2</td>\n",
       "    </tr>\n",
       "    <tr>\n",
       "      <th>26</th>\n",
       "      <td>P251.1</td>\n",
       "      <td>2.0</td>\n",
       "      <td>2</td>\n",
       "    </tr>\n",
       "    <tr>\n",
       "      <th>27</th>\n",
       "      <td>P252.2</td>\n",
       "      <td>1.0</td>\n",
       "      <td>0</td>\n",
       "    </tr>\n",
       "    <tr>\n",
       "      <th>28</th>\n",
       "      <td>P254.3</td>\n",
       "      <td>0.0</td>\n",
       "      <td>0</td>\n",
       "    </tr>\n",
       "    <tr>\n",
       "      <th>29</th>\n",
       "      <td>P255.3</td>\n",
       "      <td>0.0</td>\n",
       "      <td>0</td>\n",
       "    </tr>\n",
       "    <tr>\n",
       "      <th>30</th>\n",
       "      <td>D302.0</td>\n",
       "      <td>0.0</td>\n",
       "      <td>0</td>\n",
       "    </tr>\n",
       "    <tr>\n",
       "      <th>31</th>\n",
       "      <td>P301.3</td>\n",
       "      <td>0.0</td>\n",
       "      <td>0</td>\n",
       "    </tr>\n",
       "    <tr>\n",
       "      <th>32</th>\n",
       "      <td>NaN</td>\n",
       "      <td>0.0</td>\n",
       "      <td>0</td>\n",
       "    </tr>\n",
       "  </tbody>\n",
       "</table>\n",
       "</div>"
      ],
      "text/plain": [
       "     indic  in_list  exact\n",
       "0   D102.0     14.0      7\n",
       "1   P103.2      0.0      0\n",
       "2   P107.2     19.0      0\n",
       "3   P109.0     20.0     11\n",
       "4   P153.2      0.0      0\n",
       "5   P154.0      1.0      0\n",
       "6   P155.1      0.0      0\n",
       "7   P101.1     18.0     16\n",
       "8   P102.1     20.0     14\n",
       "9   P104.3     13.0      2\n",
       "10  P105.3     11.0      0\n",
       "11  P106.3      7.0      0\n",
       "12  P108.3     16.0     15\n",
       "13  P151.1      0.0      0\n",
       "14  D204.0     11.0      5\n",
       "15  P202.2      0.0      0\n",
       "16  P253.2      3.0      1\n",
       "17  P207.0     14.0     10\n",
       "18  P256.2      1.0      1\n",
       "19  P257.0      3.0      1\n",
       "20  P258.1      2.0      2\n",
       "21  D203.0     17.0      2\n",
       "22  P201.1     10.0      2\n",
       "23  P204.3     12.0      0\n",
       "24  P205.3     12.0      1\n",
       "25  P206.3      9.0      2\n",
       "26  P251.1      2.0      2\n",
       "27  P252.2      1.0      0\n",
       "28  P254.3      0.0      0\n",
       "29  P255.3      0.0      0\n",
       "30  D302.0      0.0      0\n",
       "31  P301.3      0.0      0\n",
       "32     NaN      0.0      0"
      ]
     },
     "execution_count": 724,
     "metadata": {},
     "output_type": "execute_result"
    }
   ],
   "source": [
    "indic_metric"
   ]
  },
  {
   "cell_type": "code",
   "execution_count": 725,
   "id": "e4be0751-d9b1-4550-b5ac-15255a7b4fea",
   "metadata": {},
   "outputs": [],
   "source": [
    "BUCKET_OUT = \"mberthe/narval\"\n",
    "FILE_KEY_OUT_S3 = \"camemBERT/indic_metric.csv\"#modif nom csv\n",
    "FILE_PATH_OUT_S3 = BUCKET_OUT + \"/\" + FILE_KEY_OUT_S3\n",
    "\n",
    "with fs.open(FILE_PATH_OUT_S3, 'w') as file_out:\n",
    "    indic_metric.to_csv(file_out,index=False,sep=';')"
   ]
  }
 ],
 "metadata": {
  "kernelspec": {
   "display_name": "Python 3 (ipykernel)",
   "language": "python",
   "name": "python3"
  },
  "language_info": {
   "codemirror_mode": {
    "name": "ipython",
    "version": 3
   },
   "file_extension": ".py",
   "mimetype": "text/x-python",
   "name": "python",
   "nbconvert_exporter": "python",
   "pygments_lexer": "ipython3",
   "version": "3.11.4"
  }
 },
 "nbformat": 4,
 "nbformat_minor": 5
}
