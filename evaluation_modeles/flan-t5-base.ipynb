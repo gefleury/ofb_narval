{
 "cells": [
  {
   "cell_type": "code",
   "execution_count": 1,
   "id": "a33f46b9-be65-40e5-b744-106a6555908f",
   "metadata": {
    "tags": []
   },
   "outputs": [
    {
     "name": "stderr",
     "output_type": "stream",
     "text": [
      "2023-04-25 13:52:23.584207: I tensorflow/core/platform/cpu_feature_guard.cc:182] This TensorFlow binary is optimized to use available CPU instructions in performance-critical operations.\n",
      "To enable the following instructions: AVX2 FMA, in other operations, rebuild TensorFlow with the appropriate compiler flags.\n",
      "2023-04-25 13:52:24.908178: W tensorflow/compiler/tf2tensorrt/utils/py_utils.cc:38] TF-TRT Warning: Could not find TensorRT\n"
     ]
    },
    {
     "data": {
      "application/vnd.jupyter.widget-view+json": {
       "model_id": "15693207be644b98bdcc2c0bd41d84db",
       "version_major": 2,
       "version_minor": 0
      },
      "text/plain": [
       "Downloading spiece.model:   0%|          | 0.00/792k [00:00<?, ?B/s]"
      ]
     },
     "metadata": {},
     "output_type": "display_data"
    },
    {
     "data": {
      "application/vnd.jupyter.widget-view+json": {
       "model_id": "26e2f4ba20f34021b403166474306291",
       "version_major": 2,
       "version_minor": 0
      },
      "text/plain": [
       "Downloading (…)cial_tokens_map.json:   0%|          | 0.00/2.20k [00:00<?, ?B/s]"
      ]
     },
     "metadata": {},
     "output_type": "display_data"
    },
    {
     "data": {
      "application/vnd.jupyter.widget-view+json": {
       "model_id": "233f1ca9017f4ce79716313986e7e240",
       "version_major": 2,
       "version_minor": 0
      },
      "text/plain": [
       "Downloading (…)okenizer_config.json:   0%|          | 0.00/2.54k [00:00<?, ?B/s]"
      ]
     },
     "metadata": {},
     "output_type": "display_data"
    },
    {
     "data": {
      "application/vnd.jupyter.widget-view+json": {
       "model_id": "1d9c6a6732d14111ac6d1eafa63d7199",
       "version_major": 2,
       "version_minor": 0
      },
      "text/plain": [
       "Downloading (…)lve/main/config.json:   0%|          | 0.00/1.40k [00:00<?, ?B/s]"
      ]
     },
     "metadata": {},
     "output_type": "display_data"
    },
    {
     "data": {
      "application/vnd.jupyter.widget-view+json": {
       "model_id": "9c403895c8ed44b286eb16f9ce8f8c9d",
       "version_major": 2,
       "version_minor": 0
      },
      "text/plain": [
       "Downloading pytorch_model.bin:   0%|          | 0.00/990M [00:00<?, ?B/s]"
      ]
     },
     "metadata": {},
     "output_type": "display_data"
    },
    {
     "data": {
      "application/vnd.jupyter.widget-view+json": {
       "model_id": "333fb4503acc416cb927645ea86686f5",
       "version_major": 2,
       "version_minor": 0
      },
      "text/plain": [
       "Downloading (…)neration_config.json:   0%|          | 0.00/147 [00:00<?, ?B/s]"
      ]
     },
     "metadata": {},
     "output_type": "display_data"
    }
   ],
   "source": [
    "# pip install accelerate\n",
    "from transformers import T5Tokenizer, T5ForConditionalGeneration\n",
    "\n",
    "tokenizer = T5Tokenizer.from_pretrained(\"google/flan-t5-base\")\n",
    "model = T5ForConditionalGeneration.from_pretrained(\"google/flan-t5-base\", device_map=\"auto\")\n"
   ]
  },
  {
   "cell_type": "code",
   "execution_count": 3,
   "id": "278079d6-f6a1-4838-b6c1-ea2c1aa2d4fd",
   "metadata": {
    "tags": []
   },
   "outputs": [],
   "source": [
    "import torch"
   ]
  },
  {
   "cell_type": "markdown",
   "id": "dabf022b-a5f5-43cc-ba75-126b654fecac",
   "metadata": {},
   "source": [
    "# Evaluation du modèle"
   ]
  },
  {
   "cell_type": "code",
   "execution_count": 4,
   "id": "25b9876d-d03b-48e7-8ba7-bcb7926721ad",
   "metadata": {
    "tags": []
   },
   "outputs": [],
   "source": [
    "from datasets import load_dataset, load_metric"
   ]
  },
  {
   "cell_type": "code",
   "execution_count": 5,
   "id": "83d45b5d-c8d3-476b-a2dd-a88666b603e0",
   "metadata": {
    "tags": []
   },
   "outputs": [],
   "source": [
    "import pandas as pd\n",
    "pd.set_option('mode.chained_assignment', None)\n",
    "import os\n",
    "import json\n",
    "import s3fs"
   ]
  },
  {
   "cell_type": "markdown",
   "id": "bf2e7863-d997-4d12-8e63-94094e25a0ca",
   "metadata": {},
   "source": [
    "## Charger les données"
   ]
  },
  {
   "cell_type": "code",
   "execution_count": 6,
   "id": "2331ebb9-b6c9-4822-9022-b5931bc71d31",
   "metadata": {
    "tags": []
   },
   "outputs": [],
   "source": [
    "S3_ENDPOINT_URL = \"https://\" + os.environ[\"AWS_S3_ENDPOINT\"]\n",
    "fs = s3fs.S3FileSystem(client_kwargs={'endpoint_url': S3_ENDPOINT_URL})\n",
    "BUCKET = \"mberthe/narval\"\n",
    "fs.ls(BUCKET)\n",
    "BUCKET = \"mberthe/narval\"\n",
    "FILE_KEY_S3 = \"camemBERT/answers(2).json\"\n",
    "FILE_PATH_S3 = BUCKET + \"/\" + FILE_KEY_S3\n",
    "\n",
    "with fs.open(FILE_PATH_S3, mode=\"rb\") as file_in:\n",
    "    f1=json.load(file_in)"
   ]
  },
  {
   "cell_type": "code",
   "execution_count": 1,
   "id": "fab5e0bd-a682-4935-9922-744460a2c392",
   "metadata": {
    "tags": []
   },
   "outputs": [],
   "source": [
    "import numpy as np # linear algebra\n",
    "from subprocess import check_output"
   ]
  },
  {
   "cell_type": "code",
   "execution_count": 8,
   "id": "7e9a792c-1276-4db4-9224-437c77e45f3b",
   "metadata": {
    "tags": []
   },
   "outputs": [
    {
     "data": {
      "text/html": [
       "<div>\n",
       "<style scoped>\n",
       "    .dataframe tbody tr th:only-of-type {\n",
       "        vertical-align: middle;\n",
       "    }\n",
       "\n",
       "    .dataframe tbody tr th {\n",
       "        vertical-align: top;\n",
       "    }\n",
       "\n",
       "    .dataframe thead th {\n",
       "        text-align: right;\n",
       "    }\n",
       "</style>\n",
       "<table border=\"1\" class=\"dataframe\">\n",
       "  <thead>\n",
       "    <tr style=\"text-align: right;\">\n",
       "      <th></th>\n",
       "      <th>paragraphs</th>\n",
       "    </tr>\n",
       "  </thead>\n",
       "  <tbody>\n",
       "    <tr>\n",
       "      <th>0</th>\n",
       "      <td>[{'qas': [{'question': 'quelle est la valeur  ...</td>\n",
       "    </tr>\n",
       "    <tr>\n",
       "      <th>1</th>\n",
       "      <td>[{'qas': [{'question': 'quelle est la valeur d...</td>\n",
       "    </tr>\n",
       "    <tr>\n",
       "      <th>2</th>\n",
       "      <td>[{'qas': [{'question': 'Quelle est la valeur d...</td>\n",
       "    </tr>\n",
       "    <tr>\n",
       "      <th>3</th>\n",
       "      <td>[{'qas': [{'question': 'quelle est la valeur d...</td>\n",
       "    </tr>\n",
       "    <tr>\n",
       "      <th>4</th>\n",
       "      <td>[{'qas': [{'question': 'Quelle est la valeur d...</td>\n",
       "    </tr>\n",
       "  </tbody>\n",
       "</table>\n",
       "</div>"
      ],
      "text/plain": [
       "                                          paragraphs\n",
       "0  [{'qas': [{'question': 'quelle est la valeur  ...\n",
       "1  [{'qas': [{'question': 'quelle est la valeur d...\n",
       "2  [{'qas': [{'question': 'Quelle est la valeur d...\n",
       "3  [{'qas': [{'question': 'quelle est la valeur d...\n",
       "4  [{'qas': [{'question': 'Quelle est la valeur d..."
      ]
     },
     "execution_count": 8,
     "metadata": {},
     "output_type": "execute_result"
    }
   ],
   "source": [
    "df=pd.DataFrame(f1[\"data\"])\n",
    "df.head()"
   ]
  },
  {
   "cell_type": "code",
   "execution_count": 9,
   "id": "84c1da86-6f1a-40eb-9b2e-fe25216f1529",
   "metadata": {
    "tags": []
   },
   "outputs": [],
   "source": [
    "input_file_path = FILE_PATH_S3\n",
    "record_path = ['data','paragraphs','qas','answers']\n",
    "rpqs = pd.json_normalize(f1, record_path =record_path,meta=[\n",
    "        ['data', 'paragraphs','context'], \n",
    "        ['data', 'paragraphs', 'qas','id'],\n",
    "        ['data', 'paragraphs', 'qas','question']])"
   ]
  },
  {
   "cell_type": "code",
   "execution_count": 10,
   "id": "629eaca1-d4ad-4859-a0b4-d0893de8d5fb",
   "metadata": {
    "tags": []
   },
   "outputs": [],
   "source": [
    "rpqs=rpqs.rename(columns={\"data.paragraphs.context\":\"context\",\"data.paragraphs.qas.id\":\"id\",\"data.paragraphs.qas.question\":\"question\"})"
   ]
  },
  {
   "cell_type": "code",
   "execution_count": 11,
   "id": "c8ef3598-6bbb-4061-ba6a-7240287ff1af",
   "metadata": {
    "tags": []
   },
   "outputs": [
    {
     "data": {
      "text/html": [
       "<div>\n",
       "<style scoped>\n",
       "    .dataframe tbody tr th:only-of-type {\n",
       "        vertical-align: middle;\n",
       "    }\n",
       "\n",
       "    .dataframe tbody tr th {\n",
       "        vertical-align: top;\n",
       "    }\n",
       "\n",
       "    .dataframe thead th {\n",
       "        text-align: right;\n",
       "    }\n",
       "</style>\n",
       "<table border=\"1\" class=\"dataframe\">\n",
       "  <thead>\n",
       "    <tr style=\"text-align: right;\">\n",
       "      <th></th>\n",
       "      <th>answer_id</th>\n",
       "      <th>document_id</th>\n",
       "      <th>question_id</th>\n",
       "      <th>text</th>\n",
       "      <th>answer_start</th>\n",
       "      <th>answer_end</th>\n",
       "      <th>answer_category</th>\n",
       "      <th>context</th>\n",
       "      <th>id</th>\n",
       "      <th>question</th>\n",
       "    </tr>\n",
       "  </thead>\n",
       "  <tbody>\n",
       "    <tr>\n",
       "      <th>0</th>\n",
       "      <td>726620</td>\n",
       "      <td>1364517</td>\n",
       "      <td>665706</td>\n",
       "      <td>99,8</td>\n",
       "      <td>975</td>\n",
       "      <td>979</td>\n",
       "      <td>None</td>\n",
       "      <td>Rapport sur le prix et la qualité de l’eau pot...</td>\n",
       "      <td>665706</td>\n",
       "      <td>quelle est la valeur  du taux de conformité de...</td>\n",
       "    </tr>\n",
       "    <tr>\n",
       "      <th>1</th>\n",
       "      <td>726622</td>\n",
       "      <td>1364517</td>\n",
       "      <td>665707</td>\n",
       "      <td>100 %</td>\n",
       "      <td>1009</td>\n",
       "      <td>1014</td>\n",
       "      <td>None</td>\n",
       "      <td>Rapport sur le prix et la qualité de l’eau pot...</td>\n",
       "      <td>665707</td>\n",
       "      <td>quelle est la valeur du taux de conformité des...</td>\n",
       "    </tr>\n",
       "    <tr>\n",
       "      <th>2</th>\n",
       "      <td>726502</td>\n",
       "      <td>1364517</td>\n",
       "      <td>665606</td>\n",
       "      <td>99,8 %</td>\n",
       "      <td>974</td>\n",
       "      <td>982</td>\n",
       "      <td>None</td>\n",
       "      <td>Rapport sur le prix et la qualité de l’eau pot...</td>\n",
       "      <td>665606</td>\n",
       "      <td>Quelle est la valeur de P101.1?</td>\n",
       "    </tr>\n",
       "    <tr>\n",
       "      <th>3</th>\n",
       "      <td>726504</td>\n",
       "      <td>1364517</td>\n",
       "      <td>665608</td>\n",
       "      <td>100 %</td>\n",
       "      <td>1008</td>\n",
       "      <td>1014</td>\n",
       "      <td>None</td>\n",
       "      <td>Rapport sur le prix et la qualité de l’eau pot...</td>\n",
       "      <td>665608</td>\n",
       "      <td>Quelle est la valeur de P101.2 ?</td>\n",
       "    </tr>\n",
       "    <tr>\n",
       "      <th>4</th>\n",
       "      <td>726505</td>\n",
       "      <td>1364517</td>\n",
       "      <td>665609</td>\n",
       "      <td>107</td>\n",
       "      <td>4037</td>\n",
       "      <td>4041</td>\n",
       "      <td>None</td>\n",
       "      <td>Rapport sur le prix et la qualité de l’eau pot...</td>\n",
       "      <td>665609</td>\n",
       "      <td>Quelle est la valeur de P103.2B</td>\n",
       "    </tr>\n",
       "    <tr>\n",
       "      <th>...</th>\n",
       "      <td>...</td>\n",
       "      <td>...</td>\n",
       "      <td>...</td>\n",
       "      <td>...</td>\n",
       "      <td>...</td>\n",
       "      <td>...</td>\n",
       "      <td>...</td>\n",
       "      <td>...</td>\n",
       "      <td>...</td>\n",
       "      <td>...</td>\n",
       "    </tr>\n",
       "    <tr>\n",
       "      <th>121</th>\n",
       "      <td>727136</td>\n",
       "      <td>1364611</td>\n",
       "      <td>666176</td>\n",
       "      <td>2,11</td>\n",
       "      <td>1695</td>\n",
       "      <td>1699</td>\n",
       "      <td>None</td>\n",
       "      <td>\\n \\n Les indicateurs de performances  \\n \\nD...</td>\n",
       "      <td>666176</td>\n",
       "      <td>Quel est le taux d'impayés sur les factures d'...</td>\n",
       "    </tr>\n",
       "    <tr>\n",
       "      <th>122</th>\n",
       "      <td>727138</td>\n",
       "      <td>1364611</td>\n",
       "      <td>666178</td>\n",
       "      <td>0,20</td>\n",
       "      <td>1778</td>\n",
       "      <td>1783</td>\n",
       "      <td>None</td>\n",
       "      <td>\\n \\n Les indicateurs de performances  \\n \\nD...</td>\n",
       "      <td>666178</td>\n",
       "      <td>Quel est le taux de réclamation ?</td>\n",
       "    </tr>\n",
       "    <tr>\n",
       "      <th>123</th>\n",
       "      <td>727139</td>\n",
       "      <td>1364611</td>\n",
       "      <td>666179</td>\n",
       "      <td>0,20</td>\n",
       "      <td>1778</td>\n",
       "      <td>1782</td>\n",
       "      <td>None</td>\n",
       "      <td>\\n \\n Les indicateurs de performances  \\n \\nD...</td>\n",
       "      <td>666179</td>\n",
       "      <td>Quelle est la valeur de P258.1?</td>\n",
       "    </tr>\n",
       "    <tr>\n",
       "      <th>124</th>\n",
       "      <td>727150</td>\n",
       "      <td>1364619</td>\n",
       "      <td>666190</td>\n",
       "      <td>0,014</td>\n",
       "      <td>827</td>\n",
       "      <td>833</td>\n",
       "      <td>None</td>\n",
       "      <td>19 5 Actions de solidarité et de coopération \\...</td>\n",
       "      <td>666190</td>\n",
       "      <td>Quelle est la valeur de P109.0?</td>\n",
       "    </tr>\n",
       "    <tr>\n",
       "      <th>125</th>\n",
       "      <td>727151</td>\n",
       "      <td>1364619</td>\n",
       "      <td>666191</td>\n",
       "      <td>0,014</td>\n",
       "      <td>828</td>\n",
       "      <td>834</td>\n",
       "      <td>None</td>\n",
       "      <td>19 5 Actions de solidarité et de coopération \\...</td>\n",
       "      <td>666191</td>\n",
       "      <td>Quelle est la valeur d'abandons de créance ou ...</td>\n",
       "    </tr>\n",
       "  </tbody>\n",
       "</table>\n",
       "<p>126 rows × 10 columns</p>\n",
       "</div>"
      ],
      "text/plain": [
       "     answer_id  document_id  question_id      text  answer_start  answer_end   \n",
       "0       726620      1364517       665706      99,8           975         979  \\\n",
       "1       726622      1364517       665707     100 %          1009        1014   \n",
       "2       726502      1364517       665606   99,8 %            974         982   \n",
       "3       726504      1364517       665608     100 %          1008        1014   \n",
       "4       726505      1364517       665609      107           4037        4041   \n",
       "..         ...          ...          ...       ...           ...         ...   \n",
       "121     727136      1364611       666176      2,11          1695        1699   \n",
       "122     727138      1364611       666178     0,20           1778        1783   \n",
       "123     727139      1364611       666179      0,20          1778        1782   \n",
       "124     727150      1364619       666190     0,014           827         833   \n",
       "125     727151      1364619       666191    0,014            828         834   \n",
       "\n",
       "    answer_category                                            context   \n",
       "0              None  Rapport sur le prix et la qualité de l’eau pot...  \\\n",
       "1              None  Rapport sur le prix et la qualité de l’eau pot...   \n",
       "2              None  Rapport sur le prix et la qualité de l’eau pot...   \n",
       "3              None  Rapport sur le prix et la qualité de l’eau pot...   \n",
       "4              None  Rapport sur le prix et la qualité de l’eau pot...   \n",
       "..              ...                                                ...   \n",
       "121            None   \\n \\n Les indicateurs de performances  \\n \\nD...   \n",
       "122            None   \\n \\n Les indicateurs de performances  \\n \\nD...   \n",
       "123            None   \\n \\n Les indicateurs de performances  \\n \\nD...   \n",
       "124            None  19 5 Actions de solidarité et de coopération \\...   \n",
       "125            None  19 5 Actions de solidarité et de coopération \\...   \n",
       "\n",
       "         id                                           question  \n",
       "0    665706  quelle est la valeur  du taux de conformité de...  \n",
       "1    665707  quelle est la valeur du taux de conformité des...  \n",
       "2    665606                    Quelle est la valeur de P101.1?  \n",
       "3    665608                   Quelle est la valeur de P101.2 ?  \n",
       "4    665609                    Quelle est la valeur de P103.2B  \n",
       "..      ...                                                ...  \n",
       "121  666176  Quel est le taux d'impayés sur les factures d'...  \n",
       "122  666178                 Quel est le taux de réclamation ?   \n",
       "123  666179                   Quelle est la valeur de P258.1?   \n",
       "124  666190                    Quelle est la valeur de P109.0?  \n",
       "125  666191  Quelle est la valeur d'abandons de créance ou ...  \n",
       "\n",
       "[126 rows x 10 columns]"
      ]
     },
     "execution_count": 11,
     "metadata": {},
     "output_type": "execute_result"
    }
   ],
   "source": [
    "rpqs"
   ]
  },
  {
   "cell_type": "code",
   "execution_count": 12,
   "id": "18e36b91-0355-4818-808a-c3f2556341d7",
   "metadata": {
    "tags": []
   },
   "outputs": [
    {
     "data": {
      "text/plain": [
       "'quelle est la valeur  du taux de conformité des prélèvements sur les eaux distribuées réalisés au titre du contrôle sanitaire par rapport aux limites de qualité pour ce qui concerne la microbiologie'"
      ]
     },
     "execution_count": 12,
     "metadata": {},
     "output_type": "execute_result"
    }
   ],
   "source": [
    "rpqs['question'][0]"
   ]
  },
  {
   "cell_type": "code",
   "execution_count": 13,
   "id": "fedec8f4-0ce6-49ed-a7c1-c3abb96f9012",
   "metadata": {
    "tags": []
   },
   "outputs": [],
   "source": [
    "import collections"
   ]
  },
  {
   "cell_type": "markdown",
   "id": "52c93512-b7af-4643-8671-fc9c80d15a19",
   "metadata": {},
   "source": [
    "### Créer un texte de la forme: Contexte: \"...\" Question : \"...\""
   ]
  },
  {
   "cell_type": "code",
   "execution_count": 14,
   "id": "71432b6b-e436-4653-8e40-5f24619480c7",
   "metadata": {
    "tags": []
   },
   "outputs": [],
   "source": [
    "# making copy of question column\n",
    "new = rpqs[\"question\"].copy()\n",
    "# concatenating team with name column\n",
    "# overwriting name column\n",
    "rpqs[\"context\"]= rpqs[\"context\"].str.cat(new, sep =\". Question: \")\n",
    "rpqs['context']= \"Contexte: \" + rpqs['context']\n",
    "# display\n",
    "#rpqs['context'][0]\n"
   ]
  },
  {
   "cell_type": "markdown",
   "id": "31a1d75b-2e87-42fb-8020-773fac560167",
   "metadata": {},
   "source": [
    "### On retire les \\n"
   ]
  },
  {
   "cell_type": "code",
   "execution_count": 15,
   "id": "ffba41bf-f7c5-480d-8dba-1ad4e5c62665",
   "metadata": {
    "tags": []
   },
   "outputs": [],
   "source": [
    "def n(text):\n",
    "        regex=\"\\n\"\n",
    "        return re.sub(regex, \" \", text)"
   ]
  },
  {
   "cell_type": "code",
   "execution_count": 16,
   "id": "18f9f2b8-dc76-45fb-b016-812589a484a1",
   "metadata": {
    "tags": []
   },
   "outputs": [],
   "source": [
    "import re\n",
    "for i in rpqs.index:\n",
    "    rpqs['context'][i]=n(rpqs['context'][i])"
   ]
  },
  {
   "cell_type": "markdown",
   "id": "90588d41-1357-4794-b76e-71382f6d5f05",
   "metadata": {},
   "source": [
    "### Prédiction sur 1 question"
   ]
  },
  {
   "cell_type": "code",
   "execution_count": 18,
   "id": "cd81bb85-9dbc-4083-8bd2-29d7fb26bd6c",
   "metadata": {
    "tags": []
   },
   "outputs": [
    {
     "name": "stderr",
     "output_type": "stream",
     "text": [
      "/opt/mamba/lib/python3.10/site-packages/transformers/generation/utils.py:1313: UserWarning: Using `max_length`'s default (20) to control the generation length. This behaviour is deprecated and will be removed from the config in v5 of Transformers -- we recommend using `max_new_tokens` to control the maximum length of the generation.\n",
      "  warnings.warn(\n"
     ]
    },
    {
     "name": "stdout",
     "output_type": "stream",
     "text": [
      "<pad>- - - - - - - - -\n"
     ]
    }
   ],
   "source": [
    "# pip install accelerate\n",
    "from transformers import T5Tokenizer, T5ForConditionalGeneration\n",
    "\n",
    "tokenizer = T5Tokenizer.from_pretrained(\"google/flan-t5-base\")\n",
    "model = T5ForConditionalGeneration.from_pretrained(\"google/flan-t5-base\", device_map=\"auto\")\n",
    "\n",
    "input_text = rpqs['context'][0]\n",
    "input_ids = tokenizer(input_text, max_length=510,\n",
    "        truncation=\"only_second\",\n",
    "        padding=\"max_length\",return_tensors=\"pt\").input_ids\n",
    "\n",
    "outputs = model.generate(input_ids)\n",
    "print(tokenizer.decode(outputs[0]))\n"
   ]
  },
  {
   "cell_type": "markdown",
   "id": "279f7151-23ef-4be8-a93d-96afd0c35c5c",
   "metadata": {},
   "source": [
    "### Prédictions toutes les questions"
   ]
  },
  {
   "cell_type": "code",
   "execution_count": 20,
   "id": "999ac692-8686-4996-a120-dee1d6ddedf3",
   "metadata": {
    "tags": []
   },
   "outputs": [],
   "source": [
    "answer_pred=[]\n",
    "for i in rpqs.index:\n",
    "    input_text = rpqs['context'][i]\n",
    "    input_ids = tokenizer(input_text, max_length=510,\n",
    "        truncation=\"only_second\",\n",
    "        padding=\"max_length\",return_tensors=\"pt\").input_ids\n",
    "\n",
    "    outputs = model.generate(input_ids)\n",
    "    answer_pred.append(tokenizer.decode(outputs[0]))"
   ]
  },
  {
   "cell_type": "code",
   "execution_count": 22,
   "id": "fe3ba9b0-b463-46e0-843e-a0aa9e6ae0ef",
   "metadata": {
    "tags": []
   },
   "outputs": [
    {
     "data": {
      "text/plain": [
       "['<pad>- - - - - - - - -',\n",
       " '<pad>- - - - - - - - -',\n",
       " '<pad> 0</s>',\n",
       " '<pad> 0</s>',\n",
       " \"<pad> <unk>l'heure actuelle, à l'heure actuelle, à\",\n",
       " '<pad> 79,9 %</s>',\n",
       " '<pad> TOTAL</s>',\n",
       " \"<pad> <unk> l'heure de l'année à l'autre</s>\",\n",
       " '<pad> VP.056/parenright.case</s>',\n",
       " '<pad> D203.0/parenright.case</s>',\n",
       " '<pad>/parenleft.caseD203.0/parenright.case /',\n",
       " '<pad> 0.3 %</s>',\n",
       " '<pad>quotient, expressed in percent, of the average over 5 years of the network renewe',\n",
       " '<pad>quotient, expressed in percent, of the average over 5 years of the network renewe',\n",
       " '<pad> 4 points noirs par 100 km</s>',\n",
       " '<pad> 100 % 100 % 100 % 100 % 100 %</s>',\n",
       " '<pad> 100 % 100 % 100 % 100 % 100 % 100 %</s>',\n",
       " '<pad> 1,0 1,3 1,2 1,1 1,5</s>',\n",
       " '<pad>0.7 % 0,7 % 0,7 % 0,8 % 0,7',\n",
       " '<pad> 73,18% %</s>',\n",
       " '<pad>11 203 Indicateurs de performance P104.3 Rendement de distribution 73,',\n",
       " '<pad> 9,96 m3/km/j</s>',\n",
       " '<pad> 73,18% %</s>',\n",
       " '<pad> 9,28 m3/km/j</s>',\n",
       " '<pad>Taux moyen de renouvellement des réseaux d’eau potable 0,02 Calcul.',\n",
       " '<pad>Calcul P107.2 Taux moyen de renouvellement des réseaux d’eau potable 0,',\n",
       " '<pad> 0 %</s>',\n",
       " '<pad> 1 days</s>',\n",
       " '<pad> 95,52 %</s>',\n",
       " '<pad>Taux de réclamations / 1000 ab 0,96 % VP.003 Nombre',\n",
       " '<pad> 0 %</s>',\n",
       " '<pad> 0,96 %</s>',\n",
       " '<pad> 0 %</s>',\n",
       " '<pad>The value of the linéaire of the network is 4 430 km in 20',\n",
       " '<pad> 4 430 km</s>',\n",
       " '<pad>115 115 Sur le territoire de la Collectivité Eau du Bassin Renn',\n",
       " '<pad>01 - Rennes-St Jacques 0,0010 € 0,0010 € 02',\n",
       " '<pad>€/m3) 01 - Rennes-St Jacques 0,0010 €',\n",
       " '<pad>78 0 100 %... physico-chimiques 78',\n",
       " '<pad> 78 0 100 %</s>',\n",
       " '<pad> 80 %</s>',\n",
       " '<pad> 2.100 km 2021</s>',\n",
       " '<pad>1 593 135 – 1 286 878 = 2,22 m3/km',\n",
       " '<pad> Estimation de la population desservie</s>',\n",
       " '<pad> D101.1)</s>',\n",
       " '<pad> 0</s>',\n",
       " '<pad> 100 % 100%</s>',\n",
       " '<pad> 0</s>',\n",
       " '<pad> 100 % 100%</s>',\n",
       " '<pad> 0.3% (0 en 2018)</s>',\n",
       " '<pad> quotient</s>',\n",
       " '<pad> 100 % (100 % en 2018)</s>',\n",
       " '<pad> 100 % (100 % en 2018)</s>',\n",
       " '<pad>m3 / km / jour) = Volume mis en distribution - Volume',\n",
       " \"<pad> <unk>l'heure de l'année à l'heure de\",\n",
       " \"<pad> <unk>l'heure de l'année à l'heure de\",\n",
       " \"<pad> <unk>l'heure de l'année à l'heure de\",\n",
       " '<pad> /parenleft.case</s>',\n",
       " '<pad> x 1000 x 100 x 1000x 100</s>',\n",
       " '<pad>/parenleft.caseD151.0 ET P152.1/parenright.',\n",
       " '<pad> 0.0018€ / m3 comptabilisé</s>',\n",
       " '<pad> D.202.0</s>',\n",
       " '<pad> -None of the following</s>',\n",
       " '<pad>CONFORMITÉ DE LA PERFORMANCE DES OUVRAGES AUX',\n",
       " '<pad>CONFORMITÉ DE LA COLLECTE DES EFFLUENTS AU',\n",
       " '<pad>100 % P204.3 CONFORMITÉ DE LA PERFORMANCE DES O',\n",
       " '<pad>100 % P 204.3 CONFORMITÉ DE LES EQUIPEMENTS D',\n",
       " '<pad>TAUX MOYEN DE RENOUVELLEMENT DES RÉSEAUX',\n",
       " '<pad> 101.6</s>',\n",
       " '<pad> 0</s>',\n",
       " '<pad> 0</s>',\n",
       " '<pad>3,45 4,05 3,90 4,09 4,22 - indice de pertes en',\n",
       " '<pad> m3/km/j</s>',\n",
       " '<pad>(consommations comptabilisées+exportations+estimation consumptions',\n",
       " '<pad> an average on the 5 lasts years</s>',\n",
       " '<pad> [P107.2]</s>',\n",
       " '<pad> 2,14 %</s>',\n",
       " '<pad>0 Calcul VP.212 Indice d’avancement de la protection de la',\n",
       " '<pad> 100%</s>',\n",
       " \"<pad>P101.1a Nombre de prélèvements réalisés en vue d'analyse\",\n",
       " '<pad> 100%</s>',\n",
       " '<pad> 98%</s>',\n",
       " '<pad>0 VP.077 hors branchement 100,65 km VP',\n",
       " '<pad>P107.2 Taux moyen de renouvellement des réseaux d’eau potable P10',\n",
       " '<pad> P103.2 B</s>',\n",
       " '<pad> 232 863 abonnés</s>',\n",
       " '<pad> 536 344 habitants</s>',\n",
       " '<pad> 100%</s>',\n",
       " '<pad> 90,7 %</s>',\n",
       " '<pad> 1,8 m3/km/jour</s>',\n",
       " '<pad> 0,92 %</s>',\n",
       " '<pad> m3/j/km</s>',\n",
       " '<pad> m3 / km/jour</s>',\n",
       " '<pad> <unk>) 01 - Rennes-St Jacques 1 02 - Secteur',\n",
       " '<pad>1,7 1,9 11 - Iffendic-nord, St-Gon',\n",
       " '<pad> 11.6 pour mille abonnés</s>',\n",
       " '<pad> <unk> 3 pour 1000 abonnés</s>',\n",
       " '<pad>V6 + V 3 x 100 = 82,24 % V1 + V',\n",
       " '<pad> 1 593 135 – 1 277 878</s>',\n",
       " '<pad>D201.0 – Estimation du nombre de habitants desservis 213 372',\n",
       " '<pad>D202.0 – Estimation du nombre de habitants desservis 213 372',\n",
       " '<pad> 213 372</s>',\n",
       " '<pad> 18</s>',\n",
       " '<pad>Quantité de boues issues des ouvrages d’épuration 3',\n",
       " '<pad>Taux de débordements de effluents chez les usagers',\n",
       " '<pad> 3 893 T de MS</s>',\n",
       " '<pad> D203.0</s>',\n",
       " '<pad> 95,7 %</s>',\n",
       " '<pad>75 P206.3 – Taux de boues issues des ouvrages',\n",
       " '<pad> 75</s>',\n",
       " '<pad> 100 %</s>',\n",
       " '<pad> 4,361 for 100 km of networks</s>',\n",
       " '<pad> 0,002 €/m3</s>',\n",
       " '<pad> 0,0516 pour 1 000 abonnés</s>',\n",
       " '<pad> 105</s>',\n",
       " '<pad> 0.40%</s>',\n",
       " '<pad> 0.40 %</s>',\n",
       " '<pad> 94,3 %</s>',\n",
       " '<pad> 105 P256.2</s>',\n",
       " '<pad> 94,3 %</s>',\n",
       " '<pad> 100 %</s>',\n",
       " '<pad> 2,11%</s>',\n",
       " '<pad> 0.20 pour 1000 abonnés</s>',\n",
       " '<pad> 020 pour 1000 abonnés</s>',\n",
       " '<pad> €</s>',\n",
       " '<pad> 014 €/m3</s>']"
      ]
     },
     "execution_count": 22,
     "metadata": {},
     "output_type": "execute_result"
    }
   ],
   "source": [
    "answer_pred"
   ]
  },
  {
   "cell_type": "code",
   "execution_count": 23,
   "id": "c2af2663-47a4-41d8-be4f-1b27f9fa07d8",
   "metadata": {
    "tags": []
   },
   "outputs": [
    {
     "data": {
      "text/html": [
       "<div>\n",
       "<style scoped>\n",
       "    .dataframe tbody tr th:only-of-type {\n",
       "        vertical-align: middle;\n",
       "    }\n",
       "\n",
       "    .dataframe tbody tr th {\n",
       "        vertical-align: top;\n",
       "    }\n",
       "\n",
       "    .dataframe thead th {\n",
       "        text-align: right;\n",
       "    }\n",
       "</style>\n",
       "<table border=\"1\" class=\"dataframe\">\n",
       "  <thead>\n",
       "    <tr style=\"text-align: right;\">\n",
       "      <th></th>\n",
       "      <th>text</th>\n",
       "      <th>answer_pred</th>\n",
       "    </tr>\n",
       "  </thead>\n",
       "  <tbody>\n",
       "    <tr>\n",
       "      <th>40</th>\n",
       "      <td>80 %</td>\n",
       "      <td>&lt;pad&gt; 80 %&lt;/s&gt;</td>\n",
       "    </tr>\n",
       "    <tr>\n",
       "      <th>12</th>\n",
       "      <td>100 %</td>\n",
       "      <td>&lt;pad&gt;quotient, expressed in percent, of the av...</td>\n",
       "    </tr>\n",
       "    <tr>\n",
       "      <th>18</th>\n",
       "      <td>0,7</td>\n",
       "      <td>&lt;pad&gt;0.7 % 0,7 % 0,7 % 0,8 % 0,7</td>\n",
       "    </tr>\n",
       "    <tr>\n",
       "      <th>110</th>\n",
       "      <td>0,002</td>\n",
       "      <td>&lt;pad&gt; 100 %&lt;/s&gt;</td>\n",
       "    </tr>\n",
       "    <tr>\n",
       "      <th>45</th>\n",
       "      <td>100%</td>\n",
       "      <td>&lt;pad&gt; 0&lt;/s&gt;</td>\n",
       "    </tr>\n",
       "    <tr>\n",
       "      <th>105</th>\n",
       "      <td>3 893</td>\n",
       "      <td>&lt;pad&gt; 3 893 T de MS&lt;/s&gt;</td>\n",
       "    </tr>\n",
       "    <tr>\n",
       "      <th>106</th>\n",
       "      <td>3,33</td>\n",
       "      <td>&lt;pad&gt; D203.0&lt;/s&gt;</td>\n",
       "    </tr>\n",
       "    <tr>\n",
       "      <th>122</th>\n",
       "      <td>0,20</td>\n",
       "      <td>&lt;pad&gt; 0.20 pour 1000 abonnés&lt;/s&gt;</td>\n",
       "    </tr>\n",
       "    <tr>\n",
       "      <th>36</th>\n",
       "      <td>0,0010 €</td>\n",
       "      <td>&lt;pad&gt;01 - Rennes-St Jacques 0,0010 € 0,0010 € 02</td>\n",
       "    </tr>\n",
       "    <tr>\n",
       "      <th>125</th>\n",
       "      <td>0,014</td>\n",
       "      <td>&lt;pad&gt; 014 €/m3&lt;/s&gt;</td>\n",
       "    </tr>\n",
       "    <tr>\n",
       "      <th>34</th>\n",
       "      <td>1,8</td>\n",
       "      <td>&lt;pad&gt; 4 430 km&lt;/s&gt;</td>\n",
       "    </tr>\n",
       "    <tr>\n",
       "      <th>77</th>\n",
       "      <td>0</td>\n",
       "      <td>&lt;pad&gt;0 Calcul VP.212 Indice d’avancement de la...</td>\n",
       "    </tr>\n",
       "    <tr>\n",
       "      <th>100</th>\n",
       "      <td>18</td>\n",
       "      <td>&lt;pad&gt;D202.0 – Estimation du nombre de habitant...</td>\n",
       "    </tr>\n",
       "    <tr>\n",
       "      <th>71</th>\n",
       "      <td>4,22</td>\n",
       "      <td>&lt;pad&gt;3,45 4,05 3,90 4,09 4,22 - indice de pert...</td>\n",
       "    </tr>\n",
       "    <tr>\n",
       "      <th>94</th>\n",
       "      <td>1,9</td>\n",
       "      <td>&lt;pad&gt;1,7 1,9 11 - Iffendic-nord, St-Gon</td>\n",
       "    </tr>\n",
       "  </tbody>\n",
       "</table>\n",
       "</div>"
      ],
      "text/plain": [
       "          text                                        answer_pred\n",
       "40        80 %                                     <pad> 80 %</s>\n",
       "12       100 %  <pad>quotient, expressed in percent, of the av...\n",
       "18         0,7                   <pad>0.7 % 0,7 % 0,7 % 0,8 % 0,7\n",
       "110      0,002                                    <pad> 100 %</s>\n",
       "45       100%                                         <pad> 0</s>\n",
       "105      3 893                            <pad> 3 893 T de MS</s>\n",
       "106      3,33                                    <pad> D203.0</s>\n",
       "122      0,20                    <pad> 0.20 pour 1000 abonnés</s>\n",
       "36   0,0010 €    <pad>01 - Rennes-St Jacques 0,0010 € 0,0010 € 02\n",
       "125     0,014                                  <pad> 014 €/m3</s>\n",
       "34         1,8                                 <pad> 4 430 km</s>\n",
       "77          0   <pad>0 Calcul VP.212 Indice d’avancement de la...\n",
       "100        18   <pad>D202.0 – Estimation du nombre de habitant...\n",
       "71        4,22  <pad>3,45 4,05 3,90 4,09 4,22 - indice de pert...\n",
       "94         1,9            <pad>1,7 1,9 11 - Iffendic-nord, St-Gon"
      ]
     },
     "execution_count": 23,
     "metadata": {},
     "output_type": "execute_result"
    }
   ],
   "source": [
    "rpqs['answer_pred']=answer_pred\n",
    "rpqs[['text','answer_pred']].sample(15)"
   ]
  },
  {
   "cell_type": "markdown",
   "id": "be0348c8-a5b0-47ee-bb44-35ca9a224830",
   "metadata": {},
   "source": [
    "### Enregistrer les prédictions"
   ]
  },
  {
   "cell_type": "code",
   "execution_count": 24,
   "id": "cab2662a-3c4d-4737-8f28-ea10d281d304",
   "metadata": {
    "tags": []
   },
   "outputs": [],
   "source": [
    "BUCKET_OUT = \"mberthe/narval\"\n",
    "FILE_KEY_OUT_S3 = \"camemBERT/pred_flan-base.csv\"\n",
    "FILE_PATH_OUT_S3 = BUCKET_OUT + \"/\" + FILE_KEY_OUT_S3\n",
    "\n",
    "with fs.open(FILE_PATH_OUT_S3, 'w', encoding=\"utf-8\") as file_out:\n",
    "    rpqs.to_csv(file_out)"
   ]
  },
  {
   "cell_type": "markdown",
   "id": "68970cf4-dfd7-4e42-ae1e-75e14c53658c",
   "metadata": {},
   "source": [
    "### Charger les prédictions"
   ]
  },
  {
   "cell_type": "code",
   "execution_count": 25,
   "id": "2d98c562-a17d-4a29-89f3-eb7851f4159f",
   "metadata": {
    "tags": []
   },
   "outputs": [],
   "source": [
    "#load les predictions \n",
    "BUCKET = \"mberthe/narval\"\n",
    "FILE_KEY_S3 = \"camemBERT/pred_flan-base.csv\"\n",
    "FILE_PATH_S3 = BUCKET + \"/\" + FILE_KEY_S3\n",
    "\n",
    "with fs.open(FILE_PATH_S3, mode=\"rb\") as file_in:\n",
    "    rpqs = pd.read_csv(file_in)"
   ]
  },
  {
   "cell_type": "markdown",
   "id": "15cfe875-b0c0-482a-a9d6-f6dbb194578c",
   "metadata": {},
   "source": [
    "## Normalisation et évaluation des données"
   ]
  },
  {
   "cell_type": "code",
   "execution_count": 26,
   "id": "66478a12-ea27-49d6-94bf-a6530cbe9e8c",
   "metadata": {
    "tags": []
   },
   "outputs": [],
   "source": [
    "def normalize_text(s):\n",
    "    \"\"\"removing caractères, /, accents, m3, /n\"\"\"\n",
    "    import string, re\n",
    "    \n",
    "    def no_unit(text):\n",
    "        regex=\"m3\"\n",
    "        return re.sub(regex, \" \", text)\n",
    "    def no_exp(text):\n",
    "        regex=\"m³\"\n",
    "        return re.sub(regex, \" \", text)\n",
    "    def no_punct(text):\n",
    "        regex=\"\\\\.(?!\\d)\"\n",
    "        return re.sub(regex,\" \",text)\n",
    "   \n",
    "    def white_space_fix(text):\n",
    "        return \" \".join(text.split())\n",
    "    def no_date(text):\n",
    "        date_extract_pattern = \"[0-9]{1,2}\\\\/[0-9]{1,2}\\\\/[0-9]{4}\"\n",
    "        return re.sub(date_extract_pattern,\"\",text)\n",
    "    def special_char(text):\n",
    "        regex=regex = \"[^\\w\\s,.]\"\n",
    "        return re.sub(regex, \" \", text)\n",
    "   #on retire tout les caractère des réponses \n",
    "    def no_char(text):\n",
    "        regex=r\"([a-zA-Z])\"\n",
    "        return re.sub(regex, \" \", text)\n",
    "    def comma(text):\n",
    "        regex=\",(?!\\d)\"\n",
    "        return re.sub(regex,\" \",text)\n",
    "    def indic(text):\n",
    "        regex=\"(P\\d\\d\\d\\\\.\\d\\s*)|(D\\d\\d\\d\\\\.\\d\\s*)|(VP\\\\.\\d\\d\\d)\"\n",
    "        return re.sub(regex,\" \", text)\n",
    "    def pointov(text):\n",
    "        regex=\"\\.\"\n",
    "        return re.sub(regex,\",\",text)\n",
    "    return white_space_fix(pointov(no_punct(no_char(unidecode(comma(special_char(indic(no_exp(no_unit(no_date(s)))))))))))"
   ]
  },
  {
   "cell_type": "code",
   "execution_count": 27,
   "id": "343030e7-fba6-46dc-a59b-bb3be890af53",
   "metadata": {
    "tags": []
   },
   "outputs": [],
   "source": [
    "def compute_exact_match(prediction, truth):\n",
    "    return int(normalize_text(prediction) == normalize_text(truth))"
   ]
  },
  {
   "cell_type": "code",
   "execution_count": 29,
   "id": "c1a46faa-fd76-46f9-aec1-f42a6b451f14",
   "metadata": {
    "tags": []
   },
   "outputs": [],
   "source": [
    "from unidecode import unidecode\n",
    "import statistics"
   ]
  },
  {
   "cell_type": "markdown",
   "id": "3beffe40-5c70-43a1-8b2d-500c7194f951",
   "metadata": {},
   "source": [
    "### Exact Match"
   ]
  },
  {
   "cell_type": "code",
   "execution_count": 30,
   "id": "4bb21072-34bb-4ea1-9a51-e2573f6d4d77",
   "metadata": {
    "tags": []
   },
   "outputs": [
    {
     "name": "stdout",
     "output_type": "stream",
     "text": [
      "après traitement des réponses : em_moyen= 0.23809523809523808\n"
     ]
    }
   ],
   "source": [
    "em_list1=[]\n",
    "for i in rpqs.index:\n",
    "    truth=rpqs[\"text\"][i]\n",
    "    prediction1=rpqs[\"answer_pred\"][i] \n",
    "    em1=compute_exact_match(prediction1,truth)\n",
    "    em_list1.append(em1)\n",
    "moyenne_em1=statistics.mean(em_list1)\n",
    "#print('avant le traitement des predictions: em_moyen = 0,10')\n",
    "print('après traitement des réponses : em_moyen=',moyenne_em1)"
   ]
  },
  {
   "cell_type": "markdown",
   "id": "db613f7f-241a-4234-ae1c-a5e0ce132edf",
   "metadata": {},
   "source": [
    "### F1"
   ]
  },
  {
   "cell_type": "code",
   "execution_count": 31,
   "id": "ea3430fd-ea2b-477b-a6d0-bf2221af9234",
   "metadata": {
    "tags": []
   },
   "outputs": [],
   "source": [
    "def compute_f1(prediction, truth):\n",
    "    pred_tokens =normalize_text(prediction).split()\n",
    "    truth_tokens = normalize_text(truth).split()\n",
    "    \n",
    "    # if either the prediction or the truth is no-answer then f1 = 1 if they agree, 0 otherwise\n",
    "    if len(pred_tokens) == 0 or len(truth_tokens) == 0:\n",
    "        return int(pred_tokens == truth_tokens)\n",
    "    \n",
    "    common_tokens = set(pred_tokens) & set(truth_tokens)\n",
    "    \n",
    "    # if there are no common tokens then f1 = 0\n",
    "    if len(common_tokens) == 0:\n",
    "        return 0\n",
    "    \n",
    "    prec = len(common_tokens) / len(pred_tokens)\n",
    "    rec = len(common_tokens) / len(truth_tokens)\n",
    "    \n",
    "    return 2 * (prec * rec) / (prec + rec)"
   ]
  },
  {
   "cell_type": "code",
   "execution_count": 32,
   "id": "a6ece02e-274f-4162-94e9-ef72ee2d4d26",
   "metadata": {
    "tags": []
   },
   "outputs": [
    {
     "name": "stdout",
     "output_type": "stream",
     "text": [
      "f1_moyen après traitement= 0.3357331821617536\n"
     ]
    }
   ],
   "source": [
    "f1_list=[]\n",
    "for i in rpqs.index:\n",
    "    truth=rpqs[\"text\"][i]\n",
    "    prediction=rpqs[\"answer_pred\"][i] \n",
    "    f1=compute_f1(prediction,truth)\n",
    "    #print(f1)\n",
    "    f1_list.append(f1)\n",
    "#print(f1_list)\n",
    "moyenne_f1=statistics.mean(f1_list)\n",
    "print('f1_moyen après traitement=',moyenne_f1)\n"
   ]
  },
  {
   "cell_type": "markdown",
   "id": "16078717-21d0-445f-bf01-d3660d8d3315",
   "metadata": {},
   "source": [
    "### Accuracy"
   ]
  },
  {
   "cell_type": "code",
   "execution_count": 33,
   "id": "1490b7d2-7c95-4920-95d1-049cd833a945",
   "metadata": {
    "tags": []
   },
   "outputs": [],
   "source": [
    "def compute_acc(prediction, truth):\n",
    "    pred_tokens = normalize_text(prediction).split()\n",
    "    truth_tokens = normalize_text(truth).split()\n",
    "    \n",
    "    if len(pred_tokens) == 0 or len(truth_tokens) == 0:\n",
    "        return int(pred_tokens == truth_tokens)\n",
    "    \n",
    "    common_tokens = set(pred_tokens) & set(truth_tokens)\n",
    "    \n",
    "    if len(common_tokens) == 0:\n",
    "        return 0\n",
    "    else :\n",
    "        return 1"
   ]
  },
  {
   "cell_type": "code",
   "execution_count": 34,
   "id": "9c4c5c63-c843-4b08-b7c0-89964d4afd4a",
   "metadata": {
    "tags": []
   },
   "outputs": [
    {
     "name": "stdout",
     "output_type": "stream",
     "text": [
      "acc_moyen après traitement= 0.42857142857142855\n"
     ]
    }
   ],
   "source": [
    "acc_list=[]\n",
    "for i in rpqs.index:\n",
    "    truth=rpqs[\"text\"][i]\n",
    "    #print(i,truth)\n",
    "    prediction=rpqs[\"answer_pred\"][i] \n",
    "    #print(i,prediction)\n",
    "    acc=compute_acc(prediction,truth)\n",
    "    #print(\"acc\",acc)\n",
    "    acc_list.append(acc)\n",
    "#print(f1_list)\n",
    "moyenne_acc=statistics.mean(acc_list)\n",
    "print('acc_moyen après traitement=',moyenne_acc)"
   ]
  }
 ],
 "metadata": {
  "kernelspec": {
   "display_name": "Python 3 (ipykernel)",
   "language": "python",
   "name": "python3"
  },
  "language_info": {
   "codemirror_mode": {
    "name": "ipython",
    "version": 3
   },
   "file_extension": ".py",
   "mimetype": "text/x-python",
   "name": "python",
   "nbconvert_exporter": "python",
   "pygments_lexer": "ipython3",
   "version": "3.10.9"
  }
 },
 "nbformat": 4,
 "nbformat_minor": 5
}
