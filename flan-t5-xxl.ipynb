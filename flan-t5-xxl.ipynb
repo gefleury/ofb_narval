{
 "cells": [
  {
   "cell_type": "code",
   "execution_count": 2,
   "id": "a33f46b9-be65-40e5-b744-106a6555908f",
   "metadata": {
    "tags": []
   },
   "outputs": [
    {
     "name": "stderr",
     "output_type": "stream",
     "text": [
      "2023-04-26 08:22:02.881003: I tensorflow/core/util/port.cc:110] oneDNN custom operations are on. You may see slightly different numerical results due to floating-point round-off errors from different computation orders. To turn them off, set the environment variable `TF_ENABLE_ONEDNN_OPTS=0`.\n",
      "2023-04-26 08:22:02.947923: I tensorflow/core/platform/cpu_feature_guard.cc:182] This TensorFlow binary is optimized to use available CPU instructions in performance-critical operations.\n",
      "To enable the following instructions: AVX2 AVX512F AVX512_VNNI FMA, in other operations, rebuild TensorFlow with the appropriate compiler flags.\n",
      "2023-04-26 08:22:04.078905: W tensorflow/compiler/tf2tensorrt/utils/py_utils.cc:38] TF-TRT Warning: Could not find TensorRT\n"
     ]
    },
    {
     "data": {
      "application/vnd.jupyter.widget-view+json": {
       "model_id": "11940f02b4484944a0366c8ee5f4083c",
       "version_major": 2,
       "version_minor": 0
      },
      "text/plain": [
       "Downloading spiece.model:   0%|          | 0.00/792k [00:00<?, ?B/s]"
      ]
     },
     "metadata": {},
     "output_type": "display_data"
    },
    {
     "data": {
      "application/vnd.jupyter.widget-view+json": {
       "model_id": "a017a4f2656d4a8baf8eff87e9117759",
       "version_major": 2,
       "version_minor": 0
      },
      "text/plain": [
       "Downloading (…)cial_tokens_map.json:   0%|          | 0.00/2.20k [00:00<?, ?B/s]"
      ]
     },
     "metadata": {},
     "output_type": "display_data"
    },
    {
     "data": {
      "application/vnd.jupyter.widget-view+json": {
       "model_id": "3fcbc68b92ed4f85ba8bf684519935f9",
       "version_major": 2,
       "version_minor": 0
      },
      "text/plain": [
       "Downloading (…)okenizer_config.json:   0%|          | 0.00/2.54k [00:00<?, ?B/s]"
      ]
     },
     "metadata": {},
     "output_type": "display_data"
    },
    {
     "data": {
      "application/vnd.jupyter.widget-view+json": {
       "model_id": "e5d3169346b74224936b3e03b5252906",
       "version_major": 2,
       "version_minor": 0
      },
      "text/plain": [
       "Downloading (…)lve/main/config.json:   0%|          | 0.00/674 [00:00<?, ?B/s]"
      ]
     },
     "metadata": {},
     "output_type": "display_data"
    },
    {
     "data": {
      "application/vnd.jupyter.widget-view+json": {
       "model_id": "7f700426b3ef406c9aff253d5123d0f1",
       "version_major": 2,
       "version_minor": 0
      },
      "text/plain": [
       "Downloading (…)model.bin.index.json:   0%|          | 0.00/50.8k [00:00<?, ?B/s]"
      ]
     },
     "metadata": {},
     "output_type": "display_data"
    },
    {
     "data": {
      "application/vnd.jupyter.widget-view+json": {
       "model_id": "003c777390e14300866a5142d73aef35",
       "version_major": 2,
       "version_minor": 0
      },
      "text/plain": [
       "Downloading shards:   0%|          | 0/5 [00:00<?, ?it/s]"
      ]
     },
     "metadata": {},
     "output_type": "display_data"
    },
    {
     "data": {
      "application/vnd.jupyter.widget-view+json": {
       "model_id": "bbb004c1cd394bafa3d66c74a3096a05",
       "version_major": 2,
       "version_minor": 0
      },
      "text/plain": [
       "Downloading (…)l-00001-of-00005.bin:   0%|          | 0.00/9.45G [00:00<?, ?B/s]"
      ]
     },
     "metadata": {},
     "output_type": "display_data"
    },
    {
     "data": {
      "application/vnd.jupyter.widget-view+json": {
       "model_id": "1d1e6e3cbb544259a623020312afab8b",
       "version_major": 2,
       "version_minor": 0
      },
      "text/plain": [
       "Downloading (…)l-00002-of-00005.bin:   0%|          | 0.00/9.60G [00:00<?, ?B/s]"
      ]
     },
     "metadata": {},
     "output_type": "display_data"
    },
    {
     "data": {
      "application/vnd.jupyter.widget-view+json": {
       "model_id": "a8b96b2c9bd3481b9f06122ceb037177",
       "version_major": 2,
       "version_minor": 0
      },
      "text/plain": [
       "Downloading (…)l-00003-of-00005.bin:   0%|          | 0.00/9.96G [00:00<?, ?B/s]"
      ]
     },
     "metadata": {},
     "output_type": "display_data"
    },
    {
     "data": {
      "application/vnd.jupyter.widget-view+json": {
       "model_id": "3222e0b27f414f839be35de11dc15d66",
       "version_major": 2,
       "version_minor": 0
      },
      "text/plain": [
       "Downloading (…)l-00004-of-00005.bin:   0%|          | 0.00/10.0G [00:00<?, ?B/s]"
      ]
     },
     "metadata": {},
     "output_type": "display_data"
    },
    {
     "data": {
      "application/vnd.jupyter.widget-view+json": {
       "model_id": "11830ec7bfc6475e80e286bbd897ebbc",
       "version_major": 2,
       "version_minor": 0
      },
      "text/plain": [
       "Downloading (…)l-00005-of-00005.bin:   0%|          | 0.00/6.06G [00:00<?, ?B/s]"
      ]
     },
     "metadata": {},
     "output_type": "display_data"
    },
    {
     "data": {
      "application/vnd.jupyter.widget-view+json": {
       "model_id": "f7206f319ec64366b25d8873fe930a59",
       "version_major": 2,
       "version_minor": 0
      },
      "text/plain": [
       "Loading checkpoint shards:   0%|          | 0/5 [00:00<?, ?it/s]"
      ]
     },
     "metadata": {},
     "output_type": "display_data"
    },
    {
     "data": {
      "application/vnd.jupyter.widget-view+json": {
       "model_id": "ffd6b322c88246269f12917c6a413a97",
       "version_major": 2,
       "version_minor": 0
      },
      "text/plain": [
       "Downloading (…)neration_config.json:   0%|          | 0.00/147 [00:00<?, ?B/s]"
      ]
     },
     "metadata": {},
     "output_type": "display_data"
    }
   ],
   "source": [
    "# pip install accelerate\n",
    "from transformers import T5Tokenizer, T5ForConditionalGeneration\n",
    "\n",
    "tokenizer = T5Tokenizer.from_pretrained(\"google/flan-t5-xxl\")\n",
    "model = T5ForConditionalGeneration.from_pretrained(\"google/flan-t5-xxl\", device_map=\"auto\")\n"
   ]
  },
  {
   "cell_type": "code",
   "execution_count": 3,
   "id": "278079d6-f6a1-4838-b6c1-ea2c1aa2d4fd",
   "metadata": {
    "tags": []
   },
   "outputs": [],
   "source": [
    "import torch"
   ]
  },
  {
   "cell_type": "markdown",
   "id": "dabf022b-a5f5-43cc-ba75-126b654fecac",
   "metadata": {},
   "source": [
    "# Evaluation du modèle"
   ]
  },
  {
   "cell_type": "code",
   "execution_count": 6,
   "id": "25b9876d-d03b-48e7-8ba7-bcb7926721ad",
   "metadata": {
    "tags": []
   },
   "outputs": [],
   "source": [
    "from datasets import load_dataset, load_metric"
   ]
  },
  {
   "cell_type": "code",
   "execution_count": 1,
   "id": "83d45b5d-c8d3-476b-a2dd-a88666b603e0",
   "metadata": {
    "tags": []
   },
   "outputs": [],
   "source": [
    "import pandas as pd\n",
    "pd.set_option('mode.chained_assignment', None) #désactive les warnings \n",
    "\n",
    "import os\n",
    "import s3fs"
   ]
  },
  {
   "cell_type": "markdown",
   "id": "063d703a-1211-4f01-a43c-7e5a2a381301",
   "metadata": {},
   "source": [
    "## Charger les données"
   ]
  },
  {
   "cell_type": "code",
   "execution_count": 8,
   "id": "2331ebb9-b6c9-4822-9022-b5931bc71d31",
   "metadata": {
    "tags": []
   },
   "outputs": [],
   "source": [
    "S3_ENDPOINT_URL = \"https://\" + os.environ[\"AWS_S3_ENDPOINT\"]\n",
    "fs = s3fs.S3FileSystem(client_kwargs={'endpoint_url': S3_ENDPOINT_URL})\n",
    "BUCKET = \"mberthe/narval\"\n",
    "fs.ls(BUCKET)\n",
    "BUCKET = \"mberthe/narval\"\n",
    "FILE_KEY_S3 = \"camemBERT/answers(2).json\"\n",
    "FILE_PATH_S3 = BUCKET + \"/\" + FILE_KEY_S3\n",
    "\n",
    "with fs.open(FILE_PATH_S3, mode=\"rb\") as file_in:\n",
    "    f1=json.load(file_in)"
   ]
  },
  {
   "cell_type": "code",
   "execution_count": 9,
   "id": "b3ee79e2-aefe-4f48-99ea-8faf93770c28",
   "metadata": {
    "tags": []
   },
   "outputs": [],
   "source": [
    "import collections"
   ]
  },
  {
   "cell_type": "code",
   "execution_count": 23,
   "id": "fab5e0bd-a682-4935-9922-744460a2c392",
   "metadata": {
    "tags": []
   },
   "outputs": [],
   "source": [
    "import numpy as np # linear algebra\n",
    "import json # to read json\n",
    "# Input data files are available in the \"../input/\" directory.\n",
    "# For example, running this (by clicking run or pressing Shift+Enter) will list the files in the input directory\n",
    "\n",
    "from subprocess import check_output"
   ]
  },
  {
   "cell_type": "code",
   "execution_count": 11,
   "id": "7e9a792c-1276-4db4-9224-437c77e45f3b",
   "metadata": {
    "tags": []
   },
   "outputs": [
    {
     "data": {
      "text/html": [
       "<div>\n",
       "<style scoped>\n",
       "    .dataframe tbody tr th:only-of-type {\n",
       "        vertical-align: middle;\n",
       "    }\n",
       "\n",
       "    .dataframe tbody tr th {\n",
       "        vertical-align: top;\n",
       "    }\n",
       "\n",
       "    .dataframe thead th {\n",
       "        text-align: right;\n",
       "    }\n",
       "</style>\n",
       "<table border=\"1\" class=\"dataframe\">\n",
       "  <thead>\n",
       "    <tr style=\"text-align: right;\">\n",
       "      <th></th>\n",
       "      <th>paragraphs</th>\n",
       "    </tr>\n",
       "  </thead>\n",
       "  <tbody>\n",
       "    <tr>\n",
       "      <th>0</th>\n",
       "      <td>[{'qas': [{'question': 'quelle est la valeur  ...</td>\n",
       "    </tr>\n",
       "    <tr>\n",
       "      <th>1</th>\n",
       "      <td>[{'qas': [{'question': 'quelle est la valeur d...</td>\n",
       "    </tr>\n",
       "    <tr>\n",
       "      <th>2</th>\n",
       "      <td>[{'qas': [{'question': 'Quelle est la valeur d...</td>\n",
       "    </tr>\n",
       "    <tr>\n",
       "      <th>3</th>\n",
       "      <td>[{'qas': [{'question': 'quelle est la valeur d...</td>\n",
       "    </tr>\n",
       "    <tr>\n",
       "      <th>4</th>\n",
       "      <td>[{'qas': [{'question': 'Quelle est la valeur d...</td>\n",
       "    </tr>\n",
       "  </tbody>\n",
       "</table>\n",
       "</div>"
      ],
      "text/plain": [
       "                                          paragraphs\n",
       "0  [{'qas': [{'question': 'quelle est la valeur  ...\n",
       "1  [{'qas': [{'question': 'quelle est la valeur d...\n",
       "2  [{'qas': [{'question': 'Quelle est la valeur d...\n",
       "3  [{'qas': [{'question': 'quelle est la valeur d...\n",
       "4  [{'qas': [{'question': 'Quelle est la valeur d..."
      ]
     },
     "execution_count": 11,
     "metadata": {},
     "output_type": "execute_result"
    }
   ],
   "source": [
    "df=pd.DataFrame(f1[\"data\"])\n",
    "df.head()"
   ]
  },
  {
   "cell_type": "code",
   "execution_count": 12,
   "id": "84c1da86-6f1a-40eb-9b2e-fe25216f1529",
   "metadata": {
    "tags": []
   },
   "outputs": [],
   "source": [
    "input_file_path = FILE_PATH_S3\n",
    "record_path = ['data','paragraphs','qas','answers']\n",
    "rpqs = pd.json_normalize(f1, record_path =record_path,meta=[\n",
    "        ['data', 'paragraphs','context'], \n",
    "        ['data', 'paragraphs', 'qas','id'],\n",
    "        ['data', 'paragraphs', 'qas','question']])"
   ]
  },
  {
   "cell_type": "code",
   "execution_count": 13,
   "id": "629eaca1-d4ad-4859-a0b4-d0893de8d5fb",
   "metadata": {
    "tags": []
   },
   "outputs": [],
   "source": [
    "rpqs=rpqs.rename(columns={\"data.paragraphs.context\":\"context\",\"data.paragraphs.qas.id\":\"id\",\"data.paragraphs.qas.question\":\"question\"})"
   ]
  },
  {
   "cell_type": "code",
   "execution_count": 14,
   "id": "c8ef3598-6bbb-4061-ba6a-7240287ff1af",
   "metadata": {
    "tags": []
   },
   "outputs": [
    {
     "data": {
      "text/html": [
       "<div>\n",
       "<style scoped>\n",
       "    .dataframe tbody tr th:only-of-type {\n",
       "        vertical-align: middle;\n",
       "    }\n",
       "\n",
       "    .dataframe tbody tr th {\n",
       "        vertical-align: top;\n",
       "    }\n",
       "\n",
       "    .dataframe thead th {\n",
       "        text-align: right;\n",
       "    }\n",
       "</style>\n",
       "<table border=\"1\" class=\"dataframe\">\n",
       "  <thead>\n",
       "    <tr style=\"text-align: right;\">\n",
       "      <th></th>\n",
       "      <th>answer_id</th>\n",
       "      <th>document_id</th>\n",
       "      <th>question_id</th>\n",
       "      <th>text</th>\n",
       "      <th>answer_start</th>\n",
       "      <th>answer_end</th>\n",
       "      <th>answer_category</th>\n",
       "      <th>context</th>\n",
       "      <th>id</th>\n",
       "      <th>question</th>\n",
       "    </tr>\n",
       "  </thead>\n",
       "  <tbody>\n",
       "    <tr>\n",
       "      <th>0</th>\n",
       "      <td>726620</td>\n",
       "      <td>1364517</td>\n",
       "      <td>665706</td>\n",
       "      <td>99,8</td>\n",
       "      <td>975</td>\n",
       "      <td>979</td>\n",
       "      <td>None</td>\n",
       "      <td>Rapport sur le prix et la qualité de l’eau pot...</td>\n",
       "      <td>665706</td>\n",
       "      <td>quelle est la valeur  du taux de conformité de...</td>\n",
       "    </tr>\n",
       "    <tr>\n",
       "      <th>1</th>\n",
       "      <td>726622</td>\n",
       "      <td>1364517</td>\n",
       "      <td>665707</td>\n",
       "      <td>100 %</td>\n",
       "      <td>1009</td>\n",
       "      <td>1014</td>\n",
       "      <td>None</td>\n",
       "      <td>Rapport sur le prix et la qualité de l’eau pot...</td>\n",
       "      <td>665707</td>\n",
       "      <td>quelle est la valeur du taux de conformité des...</td>\n",
       "    </tr>\n",
       "    <tr>\n",
       "      <th>2</th>\n",
       "      <td>726502</td>\n",
       "      <td>1364517</td>\n",
       "      <td>665606</td>\n",
       "      <td>99,8 %</td>\n",
       "      <td>974</td>\n",
       "      <td>982</td>\n",
       "      <td>None</td>\n",
       "      <td>Rapport sur le prix et la qualité de l’eau pot...</td>\n",
       "      <td>665606</td>\n",
       "      <td>Quelle est la valeur de P101.1?</td>\n",
       "    </tr>\n",
       "    <tr>\n",
       "      <th>3</th>\n",
       "      <td>726504</td>\n",
       "      <td>1364517</td>\n",
       "      <td>665608</td>\n",
       "      <td>100 %</td>\n",
       "      <td>1008</td>\n",
       "      <td>1014</td>\n",
       "      <td>None</td>\n",
       "      <td>Rapport sur le prix et la qualité de l’eau pot...</td>\n",
       "      <td>665608</td>\n",
       "      <td>Quelle est la valeur de P101.2 ?</td>\n",
       "    </tr>\n",
       "    <tr>\n",
       "      <th>4</th>\n",
       "      <td>726505</td>\n",
       "      <td>1364517</td>\n",
       "      <td>665609</td>\n",
       "      <td>107</td>\n",
       "      <td>4037</td>\n",
       "      <td>4041</td>\n",
       "      <td>None</td>\n",
       "      <td>Rapport sur le prix et la qualité de l’eau pot...</td>\n",
       "      <td>665609</td>\n",
       "      <td>Quelle est la valeur de P103.2B</td>\n",
       "    </tr>\n",
       "    <tr>\n",
       "      <th>...</th>\n",
       "      <td>...</td>\n",
       "      <td>...</td>\n",
       "      <td>...</td>\n",
       "      <td>...</td>\n",
       "      <td>...</td>\n",
       "      <td>...</td>\n",
       "      <td>...</td>\n",
       "      <td>...</td>\n",
       "      <td>...</td>\n",
       "      <td>...</td>\n",
       "    </tr>\n",
       "    <tr>\n",
       "      <th>121</th>\n",
       "      <td>727136</td>\n",
       "      <td>1364611</td>\n",
       "      <td>666176</td>\n",
       "      <td>2,11</td>\n",
       "      <td>1695</td>\n",
       "      <td>1699</td>\n",
       "      <td>None</td>\n",
       "      <td>\\n \\n Les indicateurs de performances  \\n \\nD...</td>\n",
       "      <td>666176</td>\n",
       "      <td>Quel est le taux d'impayés sur les factures d'...</td>\n",
       "    </tr>\n",
       "    <tr>\n",
       "      <th>122</th>\n",
       "      <td>727138</td>\n",
       "      <td>1364611</td>\n",
       "      <td>666178</td>\n",
       "      <td>0,20</td>\n",
       "      <td>1778</td>\n",
       "      <td>1783</td>\n",
       "      <td>None</td>\n",
       "      <td>\\n \\n Les indicateurs de performances  \\n \\nD...</td>\n",
       "      <td>666178</td>\n",
       "      <td>Quel est le taux de réclamation ?</td>\n",
       "    </tr>\n",
       "    <tr>\n",
       "      <th>123</th>\n",
       "      <td>727139</td>\n",
       "      <td>1364611</td>\n",
       "      <td>666179</td>\n",
       "      <td>0,20</td>\n",
       "      <td>1778</td>\n",
       "      <td>1782</td>\n",
       "      <td>None</td>\n",
       "      <td>\\n \\n Les indicateurs de performances  \\n \\nD...</td>\n",
       "      <td>666179</td>\n",
       "      <td>Quelle est la valeur de P258.1?</td>\n",
       "    </tr>\n",
       "    <tr>\n",
       "      <th>124</th>\n",
       "      <td>727150</td>\n",
       "      <td>1364619</td>\n",
       "      <td>666190</td>\n",
       "      <td>0,014</td>\n",
       "      <td>827</td>\n",
       "      <td>833</td>\n",
       "      <td>None</td>\n",
       "      <td>19 5 Actions de solidarité et de coopération \\...</td>\n",
       "      <td>666190</td>\n",
       "      <td>Quelle est la valeur de P109.0?</td>\n",
       "    </tr>\n",
       "    <tr>\n",
       "      <th>125</th>\n",
       "      <td>727151</td>\n",
       "      <td>1364619</td>\n",
       "      <td>666191</td>\n",
       "      <td>0,014</td>\n",
       "      <td>828</td>\n",
       "      <td>834</td>\n",
       "      <td>None</td>\n",
       "      <td>19 5 Actions de solidarité et de coopération \\...</td>\n",
       "      <td>666191</td>\n",
       "      <td>Quelle est la valeur d'abandons de créance ou ...</td>\n",
       "    </tr>\n",
       "  </tbody>\n",
       "</table>\n",
       "<p>126 rows × 10 columns</p>\n",
       "</div>"
      ],
      "text/plain": [
       "     answer_id  document_id  question_id      text  answer_start  answer_end   \n",
       "0       726620      1364517       665706      99,8           975         979  \\\n",
       "1       726622      1364517       665707     100 %          1009        1014   \n",
       "2       726502      1364517       665606   99,8 %            974         982   \n",
       "3       726504      1364517       665608     100 %          1008        1014   \n",
       "4       726505      1364517       665609      107           4037        4041   \n",
       "..         ...          ...          ...       ...           ...         ...   \n",
       "121     727136      1364611       666176      2,11          1695        1699   \n",
       "122     727138      1364611       666178     0,20           1778        1783   \n",
       "123     727139      1364611       666179      0,20          1778        1782   \n",
       "124     727150      1364619       666190     0,014           827         833   \n",
       "125     727151      1364619       666191    0,014            828         834   \n",
       "\n",
       "    answer_category                                            context   \n",
       "0              None  Rapport sur le prix et la qualité de l’eau pot...  \\\n",
       "1              None  Rapport sur le prix et la qualité de l’eau pot...   \n",
       "2              None  Rapport sur le prix et la qualité de l’eau pot...   \n",
       "3              None  Rapport sur le prix et la qualité de l’eau pot...   \n",
       "4              None  Rapport sur le prix et la qualité de l’eau pot...   \n",
       "..              ...                                                ...   \n",
       "121            None   \\n \\n Les indicateurs de performances  \\n \\nD...   \n",
       "122            None   \\n \\n Les indicateurs de performances  \\n \\nD...   \n",
       "123            None   \\n \\n Les indicateurs de performances  \\n \\nD...   \n",
       "124            None  19 5 Actions de solidarité et de coopération \\...   \n",
       "125            None  19 5 Actions de solidarité et de coopération \\...   \n",
       "\n",
       "         id                                           question  \n",
       "0    665706  quelle est la valeur  du taux de conformité de...  \n",
       "1    665707  quelle est la valeur du taux de conformité des...  \n",
       "2    665606                    Quelle est la valeur de P101.1?  \n",
       "3    665608                   Quelle est la valeur de P101.2 ?  \n",
       "4    665609                    Quelle est la valeur de P103.2B  \n",
       "..      ...                                                ...  \n",
       "121  666176  Quel est le taux d'impayés sur les factures d'...  \n",
       "122  666178                 Quel est le taux de réclamation ?   \n",
       "123  666179                   Quelle est la valeur de P258.1?   \n",
       "124  666190                    Quelle est la valeur de P109.0?  \n",
       "125  666191  Quelle est la valeur d'abandons de créance ou ...  \n",
       "\n",
       "[126 rows x 10 columns]"
      ]
     },
     "execution_count": 14,
     "metadata": {},
     "output_type": "execute_result"
    }
   ],
   "source": [
    "rpqs"
   ]
  },
  {
   "cell_type": "markdown",
   "id": "cba1ad4d-f6b6-4db2-97ab-d222fb425e52",
   "metadata": {},
   "source": [
    "## Traiter les données: \n",
    "- De la forme : Contexte: \"...\" + Question : \"...\"\n",
    "- On supprime les \\n"
   ]
  },
  {
   "cell_type": "code",
   "execution_count": 17,
   "id": "71432b6b-e436-4653-8e40-5f24619480c7",
   "metadata": {
    "tags": []
   },
   "outputs": [],
   "source": [
    "# making copy of question column\n",
    "new = rpqs[\"question\"].copy()\n",
    "# concatenating team with name column\n",
    "# overwriting name column\n",
    "rpqs[\"context\"]= rpqs[\"context\"].str.cat(new, sep =\". Question: \")\n",
    "rpqs['context']= \"Contexte: \" + rpqs['context']\n",
    "# display\n",
    "#rpqs['context'][0]\n"
   ]
  },
  {
   "cell_type": "code",
   "execution_count": 18,
   "id": "ffba41bf-f7c5-480d-8dba-1ad4e5c62665",
   "metadata": {
    "tags": []
   },
   "outputs": [],
   "source": [
    "def n(text):\n",
    "        regex=\"\\n\"\n",
    "        return re.sub(regex, \" \", text)"
   ]
  },
  {
   "cell_type": "code",
   "execution_count": 19,
   "id": "18f9f2b8-dc76-45fb-b016-812589a484a1",
   "metadata": {
    "tags": []
   },
   "outputs": [],
   "source": [
    "import re\n",
    "for i in rpqs.index:\n",
    "    rpqs['context'][i]=n(rpqs['context'][i])"
   ]
  },
  {
   "cell_type": "markdown",
   "id": "36c80802-6520-4da9-8111-1caf17e87b48",
   "metadata": {},
   "source": [
    "## Prédictions"
   ]
  },
  {
   "cell_type": "code",
   "execution_count": 21,
   "id": "999ac692-8686-4996-a120-dee1d6ddedf3",
   "metadata": {
    "tags": []
   },
   "outputs": [
    {
     "name": "stdout",
     "output_type": "stream",
     "text": [
      "0\n"
     ]
    },
    {
     "name": "stderr",
     "output_type": "stream",
     "text": [
      "/opt/mamba/lib/python3.10/site-packages/transformers/generation/utils.py:1313: UserWarning: Using `max_length`'s default (20) to control the generation length. This behaviour is deprecated and will be removed from the config in v5 of Transformers -- we recommend using `max_new_tokens` to control the maximum length of the generation.\n",
      "  warnings.warn(\n"
     ]
    },
    {
     "name": "stdout",
     "output_type": "stream",
     "text": [
      "1\n",
      "2\n",
      "3\n",
      "4\n",
      "5\n",
      "6\n",
      "7\n",
      "8\n",
      "9\n",
      "10\n",
      "11\n",
      "12\n",
      "13\n",
      "14\n",
      "15\n",
      "16\n",
      "17\n",
      "18\n",
      "19\n",
      "20\n",
      "21\n",
      "22\n",
      "23\n",
      "24\n",
      "25\n",
      "26\n",
      "27\n",
      "28\n",
      "29\n",
      "30\n",
      "31\n",
      "32\n",
      "33\n",
      "34\n",
      "35\n",
      "36\n",
      "37\n",
      "38\n",
      "39\n",
      "40\n",
      "41\n",
      "42\n",
      "43\n",
      "44\n",
      "45\n",
      "46\n",
      "47\n",
      "48\n",
      "49\n",
      "50\n",
      "51\n",
      "52\n",
      "53\n",
      "54\n",
      "55\n",
      "56\n",
      "57\n",
      "58\n",
      "59\n",
      "60\n",
      "61\n",
      "62\n",
      "63\n",
      "64\n",
      "65\n",
      "66\n",
      "67\n",
      "68\n",
      "69\n",
      "70\n",
      "71\n",
      "72\n",
      "73\n",
      "74\n",
      "75\n",
      "76\n",
      "77\n",
      "78\n",
      "79\n",
      "80\n",
      "81\n",
      "82\n",
      "83\n",
      "84\n",
      "85\n",
      "86\n",
      "87\n",
      "88\n",
      "89\n",
      "90\n",
      "91\n",
      "92\n",
      "93\n",
      "94\n",
      "95\n",
      "96\n",
      "97\n",
      "98\n",
      "99\n",
      "100\n",
      "101\n",
      "102\n",
      "103\n",
      "104\n",
      "105\n",
      "106\n",
      "107\n",
      "108\n",
      "109\n",
      "110\n",
      "111\n",
      "112\n",
      "113\n",
      "114\n",
      "115\n",
      "116\n",
      "117\n",
      "118\n",
      "119\n",
      "120\n",
      "121\n",
      "122\n",
      "123\n",
      "124\n",
      "125\n"
     ]
    }
   ],
   "source": [
    "answer_pred=[]\n",
    "for i in rpqs.index:\n",
    "    print(i)\n",
    "    input_text = rpqs['context'][i]\n",
    "    input_ids = tokenizer(input_text, max_length=510,\n",
    "        truncation=\"only_second\",\n",
    "        padding=\"max_length\",return_tensors=\"pt\").input_ids\n",
    "\n",
    "    outputs = model.generate(input_ids)\n",
    "    answer_pred.append(tokenizer.decode(outputs[0]))"
   ]
  },
  {
   "cell_type": "code",
   "execution_count": 24,
   "id": "fe3ba9b0-b463-46e0-843e-a0aa9e6ae0ef",
   "metadata": {
    "tags": []
   },
   "outputs": [
    {
     "data": {
      "text/plain": [
       "['<pad> • 99,8 %</s>',\n",
       " '<pad> 100 %</s>',\n",
       " '<pad> 0</s>',\n",
       " '<pad> 0</s>',\n",
       " '<pad> 107 points sur 120</s>',\n",
       " '<pad> 79,9 %</s>',\n",
       " '<pad> 120 points</s>',\n",
       " '<pad> 80%</s>',\n",
       " '<pad> 21 947</s>',\n",
       " '<pad> 7 312 tonnes de matières sèches</s>',\n",
       " '<pad>Quantite de boues d’épuration produites e',\n",
       " '<pad> 0,02</s>',\n",
       " '<pad> 0</s>',\n",
       " '<pad>Il s’agit de détecter d’éventuelles zones à problèmes en',\n",
       " '<pad> 43 points noirs</s>',\n",
       " '<pad> 100 %</s>',\n",
       " '<pad> 100 %</s>',\n",
       " '<pad> 1,0 1,3 1,2 1,1 1,5</s>',\n",
       " '<pad> 0,7 %</s>',\n",
       " '<pad> 73,18%</s>',\n",
       " '<pad> 11 203</s>',\n",
       " '<pad> 9,96 m3/km/j</s>',\n",
       " '<pad> 9,96 m3/km/j</s>',\n",
       " '<pad> 9,28 m3/km/j</s>',\n",
       " '<pad> 0,02</s>',\n",
       " '<pad> 0 Calcul</s>',\n",
       " '<pad> 95,52 %</s>',\n",
       " '<pad> 1 jours</s>',\n",
       " '<pad> 1 jours</s>',\n",
       " '<pad> 0,96 %</s>',\n",
       " '<pad> 0 %</s>',\n",
       " '<pad> 0,96 %</s>',\n",
       " '<pad> 0 %</s>',\n",
       " '<pad> 115</s>',\n",
       " '<pad> m3/km/j</s>',\n",
       " '<pad> 115</s>',\n",
       " '<pad> €/m3</s>',\n",
       " '<pad> €/m3</s>',\n",
       " '<pad> 78 0 100 %</s>',\n",
       " '<pad> 78 0 100 %</s>',\n",
       " '<pad> 80 %</s>',\n",
       " '<pad> 2.100 km</s>',\n",
       " '<pad> 2,22 m3/km/jour 365 x 378</s>',\n",
       " '<pad> 989</s>',\n",
       " '<pad> 989</s>',\n",
       " '<pad> 100 %</s>',\n",
       " '<pad> 100 %</s>',\n",
       " '<pad> 100 %</s>',\n",
       " '<pad> 100 %</s>',\n",
       " '<pad> 0,36%</s>',\n",
       " '<pad> 0,36%</s>',\n",
       " '<pad> 100 %</s>',\n",
       " '<pad> 100 %</s>',\n",
       " '<pad> 8,9 m3 / km / jour</s>',\n",
       " '<pad> P106.3</s>',\n",
       " '<pad> P107.2</s>',\n",
       " '<pad> P105.3</s>',\n",
       " '<pad> 0</s>',\n",
       " '<pad> 0</s>',\n",
       " '<pad> 0</s>',\n",
       " '<pad> 21 319 €</s>',\n",
       " '<pad> d’autres usagers non domestiques</s>',\n",
       " '<pad> 49</s>',\n",
       " '<pad> 100 %</s>',\n",
       " '<pad> 100 %</s>',\n",
       " '<pad> 100 %</s>',\n",
       " '<pad> 100 %</s>',\n",
       " '<pad> 0,6</s>',\n",
       " '<pad> 10,6</s>',\n",
       " '<pad> 0</s>',\n",
       " '<pad> 0,26 pour 1 000 abonnés</s>',\n",
       " '<pad> 3,45 4,05 3,90 4,09 4,22</s>',\n",
       " '<pad> 3,18 3,70 3,55 3,71 3,78</s>',\n",
       " '<pad> 23,8 24,8 25,1 25,3 25,8</s>',\n",
       " '<pad> 2,22 %</s>',\n",
       " '<pad> 2,22 %</s>',\n",
       " '<pad> 2,36%</s>',\n",
       " '<pad> 0</s>',\n",
       " '<pad> 100%</s>',\n",
       " '<pad> 98%</s>',\n",
       " '<pad> 100%</s>',\n",
       " '<pad> 98%</s>',\n",
       " '<pad> 0,02</s>',\n",
       " '<pad> 0,02</s>',\n",
       " '<pad> 110</s>',\n",
       " '<pad> 232 863</s>',\n",
       " '<pad>La population desservie par la Collectivité Eau du Bassin Renna',\n",
       " '<pad> 100%</s>',\n",
       " '<pad> Un r endement global de réseau à 90,7 %</s>',\n",
       " '<pad> 1,8 m3/km/jour</s>',\n",
       " '<pad> 0,92 %</s>',\n",
       " '<pad> L’Inde Linéaire de Pertes (ILP)</s>',\n",
       " '<pad> m3/j/km</s>',\n",
       " '<pad> P151.1</s>',\n",
       " '<pad> 1,7 1,9</s>',\n",
       " '<pad> 1,6</s>',\n",
       " '<pad>Le taux de réclamations est le nombre de réclamations écrites, reçues',\n",
       " '<pad> 82,24 %</s>',\n",
       " '<pad>1 593 135 – 1 277 878 = 2,285 m3/',\n",
       " '<pad> 213 372</s>',\n",
       " '<pad> 18</s>',\n",
       " '<pad> 213 372</s>',\n",
       " '<pad> 18</s>',\n",
       " '<pad> 3 893 T de MS</s>',\n",
       " '<pad> 95,7 %</s>',\n",
       " '<pad> 3 893 T de MS</s>',\n",
       " '<pad> 3,33 € TTC/m3</s>',\n",
       " '<pad> 75</s>',\n",
       " '<pad> 75</s>',\n",
       " '<pad> 100 %</s>',\n",
       " '<pad> 0,002 €/m3</s>',\n",
       " '<pad> 4,361 pour 100 km de réseaux</s>',\n",
       " '<pad> 0,0516</s>',\n",
       " '<pad> 0,0516 pour 1 000 abonnés</s>',\n",
       " '<pad> 0,40 %</s>',\n",
       " '<pad> 94,3 %</s>',\n",
       " '<pad> 0,40 %</s>',\n",
       " '<pad> 105</s>',\n",
       " '<pad> 105</s>',\n",
       " '<pad> 94,3 %</s>',\n",
       " '<pad> 2,11%</s>',\n",
       " '<pad> 2,11%</s>',\n",
       " '<pad> 0,20 pour 1000 abonnés</s>',\n",
       " '<pad> 0,20</s>',\n",
       " '<pad> 0,014 €/m3</s>',\n",
       " '<pad> 669,11 €</s>']"
      ]
     },
     "execution_count": 24,
     "metadata": {},
     "output_type": "execute_result"
    }
   ],
   "source": [
    "answer_pred"
   ]
  },
  {
   "cell_type": "code",
   "execution_count": 25,
   "id": "c2af2663-47a4-41d8-be4f-1b27f9fa07d8",
   "metadata": {
    "tags": []
   },
   "outputs": [
    {
     "data": {
      "text/html": [
       "<div>\n",
       "<style scoped>\n",
       "    .dataframe tbody tr th:only-of-type {\n",
       "        vertical-align: middle;\n",
       "    }\n",
       "\n",
       "    .dataframe tbody tr th {\n",
       "        vertical-align: top;\n",
       "    }\n",
       "\n",
       "    .dataframe thead th {\n",
       "        text-align: right;\n",
       "    }\n",
       "</style>\n",
       "<table border=\"1\" class=\"dataframe\">\n",
       "  <thead>\n",
       "    <tr style=\"text-align: right;\">\n",
       "      <th></th>\n",
       "      <th>text</th>\n",
       "      <th>answer_pred</th>\n",
       "    </tr>\n",
       "  </thead>\n",
       "  <tbody>\n",
       "    <tr>\n",
       "      <th>50</th>\n",
       "      <td>e 0,36%</td>\n",
       "      <td>&lt;pad&gt; 0,36%&lt;/s&gt;</td>\n",
       "    </tr>\n",
       "    <tr>\n",
       "      <th>29</th>\n",
       "      <td>0,96</td>\n",
       "      <td>&lt;pad&gt; 0,96 %&lt;/s&gt;</td>\n",
       "    </tr>\n",
       "    <tr>\n",
       "      <th>101</th>\n",
       "      <td>213 372</td>\n",
       "      <td>&lt;pad&gt; 213 372&lt;/s&gt;</td>\n",
       "    </tr>\n",
       "    <tr>\n",
       "      <th>97</th>\n",
       "      <td>82,24</td>\n",
       "      <td>&lt;pad&gt; 82,24 %&lt;/s&gt;</td>\n",
       "    </tr>\n",
       "    <tr>\n",
       "      <th>71</th>\n",
       "      <td>4,22</td>\n",
       "      <td>&lt;pad&gt; 3,45 4,05 3,90 4,09 4,22&lt;/s&gt;</td>\n",
       "    </tr>\n",
       "    <tr>\n",
       "      <th>53</th>\n",
       "      <td>8,9</td>\n",
       "      <td>&lt;pad&gt; 8,9 m3 / km / jour&lt;/s&gt;</td>\n",
       "    </tr>\n",
       "    <tr>\n",
       "      <th>115</th>\n",
       "      <td>94,3 %</td>\n",
       "      <td>&lt;pad&gt; 94,3 %&lt;/s&gt;</td>\n",
       "    </tr>\n",
       "    <tr>\n",
       "      <th>14</th>\n",
       "      <td>43</td>\n",
       "      <td>&lt;pad&gt; 43 points noirs&lt;/s&gt;</td>\n",
       "    </tr>\n",
       "    <tr>\n",
       "      <th>17</th>\n",
       "      <td>1,5</td>\n",
       "      <td>&lt;pad&gt; 1,0 1,3 1,2 1,1 1,5&lt;/s&gt;</td>\n",
       "    </tr>\n",
       "    <tr>\n",
       "      <th>36</th>\n",
       "      <td>0,0010 €</td>\n",
       "      <td>&lt;pad&gt; €/m3&lt;/s&gt;</td>\n",
       "    </tr>\n",
       "    <tr>\n",
       "      <th>88</th>\n",
       "      <td>90,7</td>\n",
       "      <td>&lt;pad&gt; Un r endement global de réseau à 90,7 %&lt;/s&gt;</td>\n",
       "    </tr>\n",
       "    <tr>\n",
       "      <th>23</th>\n",
       "      <td>9,28</td>\n",
       "      <td>&lt;pad&gt; 9,28 m3/km/j&lt;/s&gt;</td>\n",
       "    </tr>\n",
       "    <tr>\n",
       "      <th>83</th>\n",
       "      <td>0,02</td>\n",
       "      <td>&lt;pad&gt; 0,02&lt;/s&gt;</td>\n",
       "    </tr>\n",
       "    <tr>\n",
       "      <th>18</th>\n",
       "      <td>0,7</td>\n",
       "      <td>&lt;pad&gt; 0,7 %&lt;/s&gt;</td>\n",
       "    </tr>\n",
       "    <tr>\n",
       "      <th>48</th>\n",
       "      <td>100%</td>\n",
       "      <td>&lt;pad&gt; 100 %&lt;/s&gt;</td>\n",
       "    </tr>\n",
       "  </tbody>\n",
       "</table>\n",
       "</div>"
      ],
      "text/plain": [
       "          text                                        answer_pred\n",
       "50     e 0,36%                                    <pad> 0,36%</s>\n",
       "29       0,96                                    <pad> 0,96 %</s>\n",
       "101   213 372                                   <pad> 213 372</s>\n",
       "97       82,24                                  <pad> 82,24 %</s>\n",
       "71        4,22                 <pad> 3,45 4,05 3,90 4,09 4,22</s>\n",
       "53         8,9                       <pad> 8,9 m3 / km / jour</s>\n",
       "115     94,3 %                                   <pad> 94,3 %</s>\n",
       "14          43                          <pad> 43 points noirs</s>\n",
       "17        1,5                       <pad> 1,0 1,3 1,2 1,1 1,5</s>\n",
       "36   0,0010 €                                      <pad> €/m3</s>\n",
       "88        90,7  <pad> Un r endement global de réseau à 90,7 %</s>\n",
       "23        9,28                             <pad> 9,28 m3/km/j</s>\n",
       "83      0,02                                       <pad> 0,02</s>\n",
       "18         0,7                                    <pad> 0,7 %</s>\n",
       "48       100%                                     <pad> 100 %</s>"
      ]
     },
     "execution_count": 25,
     "metadata": {},
     "output_type": "execute_result"
    }
   ],
   "source": [
    "rpqs['answer_pred']=answer_pred\n",
    "rpqs[['text','answer_pred']].sample(15)"
   ]
  },
  {
   "cell_type": "markdown",
   "id": "80596b90-a7bb-4f7a-b476-3df0d936165a",
   "metadata": {},
   "source": [
    "## Normalisation et évaluation des prédictions"
   ]
  },
  {
   "cell_type": "code",
   "execution_count": 27,
   "id": "66478a12-ea27-49d6-94bf-a6530cbe9e8c",
   "metadata": {
    "tags": []
   },
   "outputs": [],
   "source": [
    "def normalize_text(s):\n",
    "    \"\"\"removing caractères, /, accents, m3, /n\"\"\"\n",
    "    import string, re\n",
    "    \n",
    "    def no_unit(text):\n",
    "        regex=\"m3\"\n",
    "        return re.sub(regex, \" \", text)\n",
    "    def no_exp(text):\n",
    "        regex=\"m³\"\n",
    "        return re.sub(regex, \" \", text)\n",
    "    def no_punct(text):\n",
    "        regex=\"\\\\.(?!\\d)\"\n",
    "        return re.sub(regex,\" \",text)\n",
    "   \n",
    "    def white_space_fix(text):\n",
    "        return \" \".join(text.split())\n",
    "    def no_date(text):\n",
    "        date_extract_pattern = \"[0-9]{1,2}\\\\/[0-9]{1,2}\\\\/[0-9]{4}\"\n",
    "        return re.sub(date_extract_pattern,\"\",text)\n",
    "    def special_char(text):\n",
    "        regex=regex = \"[^\\w\\s,.]\"\n",
    "        return re.sub(regex, \" \", text)\n",
    "   #on retire tout les caractère des réponses \n",
    "    def no_char(text):\n",
    "        regex=r\"([a-zA-Z])\"\n",
    "        return re.sub(regex, \" \", text)\n",
    "    def comma(text):\n",
    "        regex=\",(?!\\d)\"\n",
    "        return re.sub(regex,\" \",text)\n",
    "    def indic(text):\n",
    "        regex=\"(P\\d\\d\\d\\\\.\\d\\s*)|(D\\d\\d\\d\\\\.\\d\\s*)|(VP\\\\.\\d\\d\\d)\"\n",
    "        return re.sub(regex,\" \", text)\n",
    "\n",
    "    return white_space_fix(no_punct(no_char(unidecode(comma(special_char(indic(no_exp(no_unit(no_date(s))))))))))"
   ]
  },
  {
   "cell_type": "markdown",
   "id": "2b65b54a-b2d1-4bff-8281-20f51f17ad25",
   "metadata": {
    "tags": []
   },
   "source": [
    "### Exact Match"
   ]
  },
  {
   "cell_type": "code",
   "execution_count": 28,
   "id": "343030e7-fba6-46dc-a59b-bb3be890af53",
   "metadata": {
    "tags": []
   },
   "outputs": [],
   "source": [
    "def compute_exact_match(prediction, truth):\n",
    "    return int(normalize_text(prediction) == normalize_text(truth))"
   ]
  },
  {
   "cell_type": "code",
   "execution_count": 29,
   "id": "c1a46faa-fd76-46f9-aec1-f42a6b451f14",
   "metadata": {
    "tags": []
   },
   "outputs": [],
   "source": [
    "from unidecode import unidecode\n",
    "import statistics"
   ]
  },
  {
   "cell_type": "code",
   "execution_count": 30,
   "id": "4bb21072-34bb-4ea1-9a51-e2573f6d4d77",
   "metadata": {
    "tags": []
   },
   "outputs": [
    {
     "name": "stdout",
     "output_type": "stream",
     "text": [
      " em_moyen= 0.6587301587301587\n"
     ]
    }
   ],
   "source": [
    "em_list1=[]\n",
    "for i in rpqs.index:\n",
    "    truth=rpqs[\"text\"][i]\n",
    "    prediction1=rpqs[\"answer_pred\"][i] \n",
    "    em1=compute_exact_match(prediction1,truth)\n",
    "    em_list1.append(em1)\n",
    "moyenne_em1=statistics.mean(em_list1)\n",
    "#print('avant le traitement des predictions: em_moyen = 0,10')\n",
    "print(' em_moyen=',moyenne_em1)"
   ]
  },
  {
   "cell_type": "markdown",
   "id": "46849b3b-fba5-4df9-add1-2e0a89b4705a",
   "metadata": {},
   "source": [
    "### F1"
   ]
  },
  {
   "cell_type": "code",
   "execution_count": 31,
   "id": "ea3430fd-ea2b-477b-a6d0-bf2221af9234",
   "metadata": {
    "tags": []
   },
   "outputs": [],
   "source": [
    "def compute_f1(prediction, truth):\n",
    "    pred_tokens =normalize_text(prediction).split()\n",
    "    truth_tokens = normalize_text(truth).split()\n",
    "    \n",
    "    # if either the prediction or the truth is no-answer then f1 = 1 if they agree, 0 otherwise\n",
    "    if len(pred_tokens) == 0 or len(truth_tokens) == 0:\n",
    "        return int(pred_tokens == truth_tokens)\n",
    "    \n",
    "    common_tokens = set(pred_tokens) & set(truth_tokens)\n",
    "    \n",
    "    # if there are no common tokens then f1 = 0\n",
    "    if len(common_tokens) == 0:\n",
    "        return 0\n",
    "    \n",
    "    prec = len(common_tokens) / len(pred_tokens)\n",
    "    rec = len(common_tokens) / len(truth_tokens)\n",
    "    \n",
    "    return 2 * (prec * rec) / (prec + rec)"
   ]
  },
  {
   "cell_type": "code",
   "execution_count": 32,
   "id": "a6ece02e-274f-4162-94e9-ef72ee2d4d26",
   "metadata": {
    "tags": []
   },
   "outputs": [
    {
     "name": "stdout",
     "output_type": "stream",
     "text": [
      "f1_moyen après traitement= 0.7123015873015873\n"
     ]
    }
   ],
   "source": [
    "f1_list=[]\n",
    "for i in rpqs.index:\n",
    "    truth=rpqs[\"text\"][i]\n",
    "    prediction=rpqs[\"answer_pred\"][i] \n",
    "    f1=compute_f1(prediction,truth)\n",
    "    #print(f1)\n",
    "    f1_list.append(f1)\n",
    "#print(f1_list)\n",
    "moyenne_f1=statistics.mean(f1_list)\n",
    "print('f1_moyen après traitement=',moyenne_f1)\n"
   ]
  },
  {
   "cell_type": "markdown",
   "id": "6d1d6dd3-f272-424b-ad2d-8b98953f13a4",
   "metadata": {},
   "source": [
    "### Accuracy"
   ]
  },
  {
   "cell_type": "code",
   "execution_count": 33,
   "id": "1490b7d2-7c95-4920-95d1-049cd833a945",
   "metadata": {
    "tags": []
   },
   "outputs": [],
   "source": [
    "def compute_acc(prediction, truth):\n",
    "    pred_tokens = normalize_text(prediction).split()\n",
    "    truth_tokens = normalize_text(truth).split()\n",
    "    \n",
    "    if len(pred_tokens) == 0 or len(truth_tokens) == 0:\n",
    "        return int(pred_tokens == truth_tokens)\n",
    "    \n",
    "    common_tokens = set(pred_tokens) & set(truth_tokens)\n",
    "    \n",
    "    if len(common_tokens) == 0:\n",
    "        return 0\n",
    "    else :\n",
    "        return 1"
   ]
  },
  {
   "cell_type": "code",
   "execution_count": 34,
   "id": "9c4c5c63-c843-4b08-b7c0-89964d4afd4a",
   "metadata": {
    "tags": []
   },
   "outputs": [
    {
     "name": "stdout",
     "output_type": "stream",
     "text": [
      "acc_moyen après traitement= 0.7698412698412699\n"
     ]
    }
   ],
   "source": [
    "acc_list=[]\n",
    "for i in rpqs.index:\n",
    "    truth=rpqs[\"text\"][i]\n",
    "    #print(i,truth)\n",
    "    prediction=rpqs[\"answer_pred\"][i] \n",
    "    #print(i,prediction)\n",
    "    acc=compute_acc(prediction,truth)\n",
    "    #print(\"acc\",acc)\n",
    "    acc_list.append(acc)\n",
    "#print(f1_list)\n",
    "moyenne_acc=statistics.mean(acc_list)\n",
    "print('acc_moyen après traitement=',moyenne_acc)"
   ]
  },
  {
   "cell_type": "code",
   "execution_count": 35,
   "id": "8de5b98f-6a15-46e3-ad32-92d179769bed",
   "metadata": {
    "tags": []
   },
   "outputs": [],
   "source": [
    "for i in rpqs.index:\n",
    "    rpqs['answer_pred'][i]=normalize_text(rpqs['answer_pred'][i])\n",
    "    rpqs['text'][i]=normalize_text(rpqs['text'][i])"
   ]
  },
  {
   "cell_type": "code",
   "execution_count": 36,
   "id": "8ad54a11-43be-4d57-9de6-292f94747f0e",
   "metadata": {
    "tags": []
   },
   "outputs": [
    {
     "data": {
      "text/html": [
       "<div>\n",
       "<style scoped>\n",
       "    .dataframe tbody tr th:only-of-type {\n",
       "        vertical-align: middle;\n",
       "    }\n",
       "\n",
       "    .dataframe tbody tr th {\n",
       "        vertical-align: top;\n",
       "    }\n",
       "\n",
       "    .dataframe thead th {\n",
       "        text-align: right;\n",
       "    }\n",
       "</style>\n",
       "<table border=\"1\" class=\"dataframe\">\n",
       "  <thead>\n",
       "    <tr style=\"text-align: right;\">\n",
       "      <th></th>\n",
       "      <th>text</th>\n",
       "      <th>answer_pred</th>\n",
       "    </tr>\n",
       "  </thead>\n",
       "  <tbody>\n",
       "    <tr>\n",
       "      <th>122</th>\n",
       "      <td>0,20</td>\n",
       "      <td>0,20 1000</td>\n",
       "    </tr>\n",
       "    <tr>\n",
       "      <th>25</th>\n",
       "      <td>0</td>\n",
       "      <td>0</td>\n",
       "    </tr>\n",
       "    <tr>\n",
       "      <th>68</th>\n",
       "      <td>10,6</td>\n",
       "      <td>10,6</td>\n",
       "    </tr>\n",
       "    <tr>\n",
       "      <th>75</th>\n",
       "      <td>2,22</td>\n",
       "      <td>2,22</td>\n",
       "    </tr>\n",
       "    <tr>\n",
       "      <th>42</th>\n",
       "      <td>2,22</td>\n",
       "      <td>2,22 365 378</td>\n",
       "    </tr>\n",
       "    <tr>\n",
       "      <th>101</th>\n",
       "      <td>213 372</td>\n",
       "      <td>213 372</td>\n",
       "    </tr>\n",
       "    <tr>\n",
       "      <th>4</th>\n",
       "      <td>107</td>\n",
       "      <td>107 120</td>\n",
       "    </tr>\n",
       "    <tr>\n",
       "      <th>109</th>\n",
       "      <td>100</td>\n",
       "      <td>100</td>\n",
       "    </tr>\n",
       "    <tr>\n",
       "      <th>90</th>\n",
       "      <td>0 ,92</td>\n",
       "      <td>0,92</td>\n",
       "    </tr>\n",
       "    <tr>\n",
       "      <th>49</th>\n",
       "      <td>0,36</td>\n",
       "      <td>0,36</td>\n",
       "    </tr>\n",
       "    <tr>\n",
       "      <th>84</th>\n",
       "      <td>110</td>\n",
       "      <td>110</td>\n",
       "    </tr>\n",
       "    <tr>\n",
       "      <th>78</th>\n",
       "      <td>100</td>\n",
       "      <td>100</td>\n",
       "    </tr>\n",
       "    <tr>\n",
       "      <th>0</th>\n",
       "      <td>99,8</td>\n",
       "      <td>99,8</td>\n",
       "    </tr>\n",
       "    <tr>\n",
       "      <th>80</th>\n",
       "      <td>100</td>\n",
       "      <td>100</td>\n",
       "    </tr>\n",
       "    <tr>\n",
       "      <th>113</th>\n",
       "      <td>0,0516</td>\n",
       "      <td>0,0516 1 000</td>\n",
       "    </tr>\n",
       "  </tbody>\n",
       "</table>\n",
       "</div>"
      ],
      "text/plain": [
       "        text   answer_pred\n",
       "122     0,20     0,20 1000\n",
       "25         0             0\n",
       "68      10,6          10,6\n",
       "75      2,22          2,22\n",
       "42      2,22  2,22 365 378\n",
       "101  213 372       213 372\n",
       "4        107       107 120\n",
       "109      100           100\n",
       "90     0 ,92          0,92\n",
       "49      0,36          0,36\n",
       "84       110           110\n",
       "78       100           100\n",
       "0       99,8          99,8\n",
       "80       100           100\n",
       "113   0,0516  0,0516 1 000"
      ]
     },
     "execution_count": 36,
     "metadata": {},
     "output_type": "execute_result"
    }
   ],
   "source": [
    "rpqs[['text','answer_pred']].sample(15)"
   ]
  },
  {
   "cell_type": "markdown",
   "id": "61685958-1d53-4211-9294-44df081bcf58",
   "metadata": {},
   "source": [
    "## Enregistrer les résultats"
   ]
  },
  {
   "cell_type": "code",
   "execution_count": 37,
   "id": "add2c5d0-adc9-466f-b72a-07944c8b03f8",
   "metadata": {
    "tags": []
   },
   "outputs": [],
   "source": [
    "BUCKET_OUT = \"mberthe/narval\"\n",
    "FILE_KEY_OUT_S3 = \"camemBERT/pred_flan-xxl.csv\"\n",
    "FILE_PATH_OUT_S3 = BUCKET_OUT + \"/\" + FILE_KEY_OUT_S3\n",
    "\n",
    "with fs.open(FILE_PATH_OUT_S3, 'w', encoding=\"utf-8\") as file_out:\n",
    "    rpqs.to_csv(file_out)"
   ]
  },
  {
   "cell_type": "code",
   "execution_count": null,
   "id": "c007b25b-d8cd-40f3-a3ad-27ff3151fbcc",
   "metadata": {},
   "outputs": [],
   "source": []
  }
 ],
 "metadata": {
  "kernelspec": {
   "display_name": "Python 3 (ipykernel)",
   "language": "python",
   "name": "python3"
  },
  "language_info": {
   "codemirror_mode": {
    "name": "ipython",
    "version": 3
   },
   "file_extension": ".py",
   "mimetype": "text/x-python",
   "name": "python",
   "nbconvert_exporter": "python",
   "pygments_lexer": "ipython3",
   "version": "3.10.9"
  }
 },
 "nbformat": 4,
 "nbformat_minor": 5
}
