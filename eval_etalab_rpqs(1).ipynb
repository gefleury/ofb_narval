{
 "cells": [
  {
   "cell_type": "code",
   "execution_count": 1,
   "id": "2470d659",
   "metadata": {
    "tags": []
   },
   "outputs": [],
   "source": [
    "#!pip install transformers[sentencepiece]"
   ]
  },
  {
   "cell_type": "code",
   "execution_count": 2,
   "id": "c2a983cc",
   "metadata": {
    "tags": []
   },
   "outputs": [],
   "source": [
    "#!pip install datasets"
   ]
  },
  {
   "cell_type": "code",
   "execution_count": 3,
   "id": "b320860b",
   "metadata": {
    "tags": []
   },
   "outputs": [],
   "source": [
    "from datasets import load_dataset, load_metric"
   ]
  },
  {
   "cell_type": "code",
   "execution_count": 3,
   "id": "b24afbd0-c4da-4d45-993e-40be800aa8a5",
   "metadata": {
    "tags": []
   },
   "outputs": [],
   "source": [
    "import os\n",
    "import statistics\n",
    "import s3fs\n",
    "import pandas as pd"
   ]
  },
  {
   "cell_type": "markdown",
   "id": "7a54f565-f35c-49c5-8325-1f275b36feb1",
   "metadata": {},
   "source": [
    "## Loading the model "
   ]
  },
  {
   "cell_type": "code",
   "execution_count": 5,
   "id": "7d3cd50c",
   "metadata": {
    "tags": []
   },
   "outputs": [
    {
     "name": "stderr",
     "output_type": "stream",
     "text": [
      "2023-04-25 14:04:51.713839: I tensorflow/core/platform/cpu_feature_guard.cc:182] This TensorFlow binary is optimized to use available CPU instructions in performance-critical operations.\n",
      "To enable the following instructions: AVX2 FMA, in other operations, rebuild TensorFlow with the appropriate compiler flags.\n",
      "2023-04-25 14:04:52.779794: W tensorflow/compiler/tf2tensorrt/utils/py_utils.cc:38] TF-TRT Warning: Could not find TensorRT\n"
     ]
    },
    {
     "data": {
      "application/vnd.jupyter.widget-view+json": {
       "model_id": "394ee9a0413f479088108ca93da6de91",
       "version_major": 2,
       "version_minor": 0
      },
      "text/plain": [
       "Downloading (…)lve/main/config.json:   0%|          | 0.00/515 [00:00<?, ?B/s]"
      ]
     },
     "metadata": {},
     "output_type": "display_data"
    },
    {
     "data": {
      "application/vnd.jupyter.widget-view+json": {
       "model_id": "967696c1b40c48b4a548a45069ef1029",
       "version_major": 2,
       "version_minor": 0
      },
      "text/plain": [
       "Downloading pytorch_model.bin:   0%|          | 0.00/443M [00:00<?, ?B/s]"
      ]
     },
     "metadata": {},
     "output_type": "display_data"
    },
    {
     "data": {
      "application/vnd.jupyter.widget-view+json": {
       "model_id": "a0e6282f942a48269c09689cea628aec",
       "version_major": 2,
       "version_minor": 0
      },
      "text/plain": [
       "Downloading (…)okenizer_config.json:   0%|          | 0.00/24.0 [00:00<?, ?B/s]"
      ]
     },
     "metadata": {},
     "output_type": "display_data"
    },
    {
     "data": {
      "application/vnd.jupyter.widget-view+json": {
       "model_id": "6e1238fda8344a449fc11952d429812b",
       "version_major": 2,
       "version_minor": 0
      },
      "text/plain": [
       "Downloading (…)tencepiece.bpe.model:   0%|          | 0.00/811k [00:00<?, ?B/s]"
      ]
     },
     "metadata": {},
     "output_type": "display_data"
    },
    {
     "data": {
      "application/vnd.jupyter.widget-view+json": {
       "model_id": "5a4305a13b8b4aa780600fb3d08be5ee",
       "version_major": 2,
       "version_minor": 0
      },
      "text/plain": [
       "Downloading (…)cial_tokens_map.json:   0%|          | 0.00/210 [00:00<?, ?B/s]"
      ]
     },
     "metadata": {},
     "output_type": "display_data"
    }
   ],
   "source": [
    "from transformers import pipeline\n",
    "\n",
    "nlp = pipeline('question-answering', model='etalab-ia/camembert-base-squadFR-fquad-piaf', tokenizer='etalab-ia/camembert-base-squadFR-fquad-piaf')\n"
   ]
  },
  {
   "cell_type": "code",
   "execution_count": 4,
   "id": "5de6803b",
   "metadata": {
    "tags": []
   },
   "outputs": [],
   "source": [
    "import collections"
   ]
  },
  {
   "cell_type": "markdown",
   "id": "c4398331-b3d2-47fb-a040-5ee05bba4f7c",
   "metadata": {},
   "source": [
    "## définition des fonctions d'évaluation"
   ]
  },
  {
   "cell_type": "code",
   "execution_count": 1,
   "id": "74fcaf72",
   "metadata": {
    "tags": []
   },
   "outputs": [],
   "source": [
    "def normalize_text(s):\n",
    "    \"\"\"removing caractères, /, accents, m3, /n\"\"\"\n",
    "    import string, re\n",
    "    \n",
    "    def no_unit(text):\n",
    "        regex=\"m3\"\n",
    "        return re.sub(regex, \" \", text)\n",
    "    def no_exp(text):\n",
    "        regex=\"m³\"\n",
    "        return re.sub(regex, \" \", text)\n",
    "    def no_punct(text):\n",
    "        regex=\"\\\\.(?!\\d)\"\n",
    "        return re.sub(regex,\" \",text)\n",
    "   \n",
    "    def white_space_fix(text):\n",
    "        return \" \".join(text.split())\n",
    "    def no_date(text):\n",
    "        date_extract_pattern = \"[0-9]{1,2}\\\\/[0-9]{1,2}\\\\/[0-9]{4}\"\n",
    "        return re.sub(date_extract_pattern,\"\",text)\n",
    "    def special_char(text):\n",
    "        regex=regex = \"[^\\w\\s,.]\"\n",
    "        return re.sub(regex, \" \", text)\n",
    "   #on retire tout les caractère des réponses \n",
    "    def no_char(text):\n",
    "        regex=r\"([a-zA-Z])\"\n",
    "        return re.sub(regex, \" \", text)\n",
    "    def comma(text):\n",
    "        regex=\",(?!\\d)\"\n",
    "        return re.sub(regex,\" \",text)\n",
    "    def indic(text):\n",
    "        regex=\"(P\\d\\d\\d\\\\.\\d\\s*)|(D\\d\\d\\d\\\\.\\d\\s*)|(VP\\\\.\\d\\d\\d)\"\n",
    "        return re.sub(regex,\" \", text)\n",
    "    def pointov(text):\n",
    "        regex=\"\\.\"\n",
    "        return re.sub(regex,\",\",text)\n",
    "    return white_space_fix(pointov(no_punct(no_char(unidecode(comma(special_char(indic(no_exp(no_unit(no_date(s)))))))))))"
   ]
  },
  {
   "cell_type": "code",
   "execution_count": 2,
   "id": "3d6a4ac9-2235-4583-9c57-a67ba641dbcd",
   "metadata": {
    "tags": []
   },
   "outputs": [],
   "source": [
    "def compute_exact_match(prediction, truth):\n",
    "    return int(normalize_text(prediction) == normalize_text(truth))"
   ]
  },
  {
   "cell_type": "code",
   "execution_count": 55,
   "id": "13a26347",
   "metadata": {
    "tags": []
   },
   "outputs": [],
   "source": [
    "def compute_f1(prediction, truth):\n",
    "    pred_tokens = normalize_text(prediction).split()\n",
    "    truth_tokens = normalize_text(truth).split()\n",
    "    \n",
    "    # if either the prediction or the truth is no-answer then f1 = 1 if they agree, 0 otherwise\n",
    "    if len(pred_tokens) == 0 or len(truth_tokens) == 0:\n",
    "        return int(pred_tokens == truth_tokens)\n",
    "    \n",
    "    common_tokens = set(pred_tokens) & set(truth_tokens)\n",
    "    \n",
    "    # if there are no common tokens then f1 = 0\n",
    "    if len(common_tokens) == 0:\n",
    "        return 0\n",
    "    \n",
    "    prec = len(common_tokens) / len(pred_tokens)\n",
    "    rec = len(common_tokens) / len(truth_tokens)\n",
    "    \n",
    "    return 2 * (prec * rec) / (prec + rec)"
   ]
  },
  {
   "cell_type": "code",
   "execution_count": 58,
   "id": "5e32bfda-8fc0-4a61-a042-f23e997441c3",
   "metadata": {
    "tags": []
   },
   "outputs": [],
   "source": [
    "def compute_acc(prediction, truth):\n",
    "    pred_tokens = normalize_text(prediction).split()\n",
    "    truth_tokens = normalize_text(truth).split()\n",
    "    \n",
    "    # if either the prediction or the truth is no-answer then f1 = 1 if they agree, 0 otherwise\n",
    "    if len(pred_tokens) == 0 or len(truth_tokens) == 0:\n",
    "        return int(pred_tokens == truth_tokens)\n",
    "    \n",
    "    common_tokens = set(pred_tokens) & set(truth_tokens)\n",
    "    \n",
    "    # if there are no common tokens then f1 = 0\n",
    "    if len(common_tokens) == 0:\n",
    "        return 0\n",
    "    else :\n",
    "        return 1"
   ]
  },
  {
   "cell_type": "markdown",
   "id": "e11d9a6c",
   "metadata": {},
   "source": [
    "## Loading the data RPQS_125"
   ]
  },
  {
   "cell_type": "code",
   "execution_count": 10,
   "id": "bdebeceb-54a3-460b-a230-7cd413f943bb",
   "metadata": {
    "tags": []
   },
   "outputs": [],
   "source": [
    "from datasets import load_dataset\n",
    "import json"
   ]
  },
  {
   "cell_type": "code",
   "execution_count": 11,
   "id": "6e8c86ec",
   "metadata": {
    "tags": []
   },
   "outputs": [],
   "source": [
    "S3_ENDPOINT_URL = \"https://\" + os.environ[\"AWS_S3_ENDPOINT\"]\n",
    "fs = s3fs.S3FileSystem(client_kwargs={'endpoint_url': S3_ENDPOINT_URL})\n",
    "BUCKET = \"mberthe/narval\"\n",
    "fs.ls(BUCKET)\n",
    "BUCKET = \"mberthe/narval\"\n",
    "FILE_KEY_S3 = \"camemBERT/answers(2).json\"\n",
    "FILE_PATH_S3 = BUCKET + \"/\" + FILE_KEY_S3\n",
    "\n",
    "with fs.open(FILE_PATH_S3, mode=\"rb\") as file_in:\n",
    "    f1=json.load(file_in)"
   ]
  },
  {
   "cell_type": "code",
   "execution_count": 13,
   "id": "a023d212-5c6e-45d2-a91a-59514a61ec44",
   "metadata": {
    "tags": []
   },
   "outputs": [],
   "source": [
    "import numpy as np # linear algebra\n",
    "import pandas as pd # data processing, CSV file I/O (e.g. pd.read_csv)\n",
    "import json # to read json\n",
    "# Input data files are available in the \"../input/\" directory.\n",
    "# For example, running this (by clicking run or pressing Shift+Enter) will list the files in the input directory\n",
    "\n",
    "from subprocess import check_output"
   ]
  },
  {
   "cell_type": "code",
   "execution_count": 14,
   "id": "9aae8c10",
   "metadata": {
    "tags": []
   },
   "outputs": [
    {
     "data": {
      "text/html": [
       "<div>\n",
       "<style scoped>\n",
       "    .dataframe tbody tr th:only-of-type {\n",
       "        vertical-align: middle;\n",
       "    }\n",
       "\n",
       "    .dataframe tbody tr th {\n",
       "        vertical-align: top;\n",
       "    }\n",
       "\n",
       "    .dataframe thead th {\n",
       "        text-align: right;\n",
       "    }\n",
       "</style>\n",
       "<table border=\"1\" class=\"dataframe\">\n",
       "  <thead>\n",
       "    <tr style=\"text-align: right;\">\n",
       "      <th></th>\n",
       "      <th>paragraphs</th>\n",
       "    </tr>\n",
       "  </thead>\n",
       "  <tbody>\n",
       "    <tr>\n",
       "      <th>0</th>\n",
       "      <td>[{'qas': [{'question': 'quelle est la valeur  ...</td>\n",
       "    </tr>\n",
       "    <tr>\n",
       "      <th>1</th>\n",
       "      <td>[{'qas': [{'question': 'quelle est la valeur d...</td>\n",
       "    </tr>\n",
       "    <tr>\n",
       "      <th>2</th>\n",
       "      <td>[{'qas': [{'question': 'Quelle est la valeur d...</td>\n",
       "    </tr>\n",
       "    <tr>\n",
       "      <th>3</th>\n",
       "      <td>[{'qas': [{'question': 'quelle est la valeur d...</td>\n",
       "    </tr>\n",
       "    <tr>\n",
       "      <th>4</th>\n",
       "      <td>[{'qas': [{'question': 'Quelle est la valeur d...</td>\n",
       "    </tr>\n",
       "  </tbody>\n",
       "</table>\n",
       "</div>"
      ],
      "text/plain": [
       "                                          paragraphs\n",
       "0  [{'qas': [{'question': 'quelle est la valeur  ...\n",
       "1  [{'qas': [{'question': 'quelle est la valeur d...\n",
       "2  [{'qas': [{'question': 'Quelle est la valeur d...\n",
       "3  [{'qas': [{'question': 'quelle est la valeur d...\n",
       "4  [{'qas': [{'question': 'Quelle est la valeur d..."
      ]
     },
     "execution_count": 14,
     "metadata": {},
     "output_type": "execute_result"
    }
   ],
   "source": [
    "df=pd.DataFrame(f1[\"data\"])\n",
    "df.head()"
   ]
  },
  {
   "cell_type": "code",
   "execution_count": 15,
   "id": "ea545e71-b8ca-4a2b-a865-8df4b99c6c2c",
   "metadata": {
    "tags": []
   },
   "outputs": [],
   "source": [
    "input_file_path = FILE_PATH_S3\n",
    "record_path = ['data','paragraphs','qas','answers']\n",
    "rpqs = pd.json_normalize(f1, record_path =record_path,meta=[\n",
    "        ['data', 'paragraphs','context'], \n",
    "        ['data', 'paragraphs', 'qas','id'],\n",
    "        ['data', 'paragraphs', 'qas','question']])"
   ]
  },
  {
   "cell_type": "code",
   "execution_count": 20,
   "id": "38e225ca-3afa-4bb2-bc72-f9732de07302",
   "metadata": {
    "tags": []
   },
   "outputs": [],
   "source": [
    "rpqs=rpqs.rename(columns={\"data.paragraphs.context\":\"context\",\"data.paragraphs.qas.id\":\"id\",\"data.paragraphs.qas.question\":\"question\"})"
   ]
  },
  {
   "cell_type": "code",
   "execution_count": null,
   "id": "f73b648e",
   "metadata": {
    "tags": []
   },
   "outputs": [],
   "source": [
    "pred=pd.DataFrame()\n",
    "for i in rpqs.index:\n",
    "    d=nlp({'question': rpqs[\"question\"][i],\n",
    "         'context': rpqs['context'][i]})\n",
    "    #print(d)\n",
    "    df1=pd.DataFrame(d,index=[i])\n",
    "    pred=pd.concat([pred,df1])\n",
    "    #pred=pred.append(df1)\n",
    "print(pred.sample(15))\n",
    "#pred[\"answer\"]"
   ]
  },
  {
   "cell_type": "markdown",
   "id": "0cdeb0d0-7b10-4eb1-b6d4-0687fa01f9b0",
   "metadata": {},
   "source": [
    "## Evaluation"
   ]
  },
  {
   "cell_type": "code",
   "execution_count": 75,
   "id": "f3781264",
   "metadata": {
    "tags": []
   },
   "outputs": [
    {
     "name": "stdout",
     "output_type": "stream",
     "text": [
      "0.4976845828769001\n"
     ]
    }
   ],
   "source": [
    "moyennes_score=statistics.mean(pred[\"score\"])\n",
    "print(moyennes_score)"
   ]
  },
  {
   "cell_type": "code",
   "execution_count": 76,
   "id": "a7bc0660",
   "metadata": {
    "tags": []
   },
   "outputs": [
    {
     "name": "stdout",
     "output_type": "stream",
     "text": [
      "0                                             \\n• 99,8 %\n",
      "1            \\n• 99,8 % en terme de microbiologie• 100 %\n",
      "2                                         entre 0 et 120\n",
      "3                                         entre 0 et 120\n",
      "4                                 P102.1/parenright.case\n",
      "                             ...                        \n",
      "121      2,11% pour les services exploités par \\nla RESE\n",
      "122                               0,20 pour 1000 abonnés\n",
      "123     Taux de réclamations  \\n  0,20 pour 1000 abonnés\n",
      "124                                                    €\n",
      "125                                             (P109.0)\n",
      "Name: answer, Length: 126, dtype: object\n"
     ]
    }
   ],
   "source": [
    "#print(data['text'])\n",
    "print(pred['answer'])"
   ]
  },
  {
   "cell_type": "markdown",
   "id": "2b6c0faa-c16c-4eb4-9813-9b1ad93907bf",
   "metadata": {},
   "source": [
    "### Exact Match"
   ]
  },
  {
   "cell_type": "code",
   "execution_count": 86,
   "id": "e9279242",
   "metadata": {
    "tags": []
   },
   "outputs": [
    {
     "name": "stdout",
     "output_type": "stream",
     "text": [
      "em_moyen= 0.10317460317460317\n"
     ]
    }
   ],
   "source": [
    "em_list=[]\n",
    "for i in rpqs.index:\n",
    "    truth=rpqs[\"text\"][i]\n",
    "    prediction=pred[\"answer\"][i] \n",
    "    em=compute_exact_match(prediction,truth)\n",
    "    em_list.append(em)\n",
    "moyenne_em=statistics.mean(em_list)\n",
    "print('em_moyen=',moyenne_em)"
   ]
  },
  {
   "cell_type": "markdown",
   "id": "26cca69a-bc6b-4256-b165-dbc6026ed64c",
   "metadata": {},
   "source": [
    "### F1"
   ]
  },
  {
   "cell_type": "code",
   "execution_count": 88,
   "id": "37d16504",
   "metadata": {
    "tags": []
   },
   "outputs": [
    {
     "name": "stdout",
     "output_type": "stream",
     "text": [
      "f1_moyen= 0.27272326438993105\n"
     ]
    }
   ],
   "source": [
    "f1_list=[]\n",
    "for i in rpqs.index:\n",
    "    truth=rpqs[\"text\"][i]\n",
    "    prediction=pred[\"answer\"][i] \n",
    "    f1=compute_f1(prediction,truth)\n",
    "    #print(\"f1\",f1)\n",
    "    f1_list.append(f1)\n",
    "#print(f1_list)\n",
    "moyenne_f1=statistics.mean(f1_list)\n",
    "print('f1_moyen=',moyenne_f1)"
   ]
  },
  {
   "cell_type": "markdown",
   "id": "242ca464-c0d2-4fc2-9d96-3683bd4e8b5f",
   "metadata": {
    "tags": []
   },
   "source": [
    "### Accuracy"
   ]
  },
  {
   "cell_type": "code",
   "execution_count": 90,
   "id": "754bab8c",
   "metadata": {
    "tags": []
   },
   "outputs": [
    {
     "name": "stdout",
     "output_type": "stream",
     "text": [
      "acc_moyen= 0.4523809523809524\n"
     ]
    }
   ],
   "source": [
    "acc_list=[]\n",
    "for i in range(0,len(rpqs)):\n",
    "    truth=rpqs[\"text\"][i]\n",
    "    prediction=pred[\"answer\"][i] \n",
    "    acc=compute_acc(prediction,truth)\n",
    "    #print(\"acc\",acc)\n",
    "    acc_list.append(acc)\n",
    "moyenne_acc=statistics.mean(acc_list)\n",
    "print('acc_moyen=',moyenne_acc)"
   ]
  }
 ],
 "metadata": {
  "kernelspec": {
   "display_name": "Python 3 (ipykernel)",
   "language": "python",
   "name": "python3"
  },
  "language_info": {
   "codemirror_mode": {
    "name": "ipython",
    "version": 3
   },
   "file_extension": ".py",
   "mimetype": "text/x-python",
   "name": "python",
   "nbconvert_exporter": "python",
   "pygments_lexer": "ipython3",
   "version": "3.10.9"
  }
 },
 "nbformat": 4,
 "nbformat_minor": 5
}
